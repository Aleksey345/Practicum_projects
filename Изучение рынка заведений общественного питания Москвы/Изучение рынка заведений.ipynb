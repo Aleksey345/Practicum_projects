{
 "cells": [
  {
   "cell_type": "markdown",
   "id": "e06910dd",
   "metadata": {
    "id": "e06910dd"
   },
   "source": [
    "# Изучение рынка заведений общественного питания Москвы\n",
    "\n",
    "- Автор: Сурков Алексей Александрович \n",
    "- Дата:15.01.2025\n",
    "<a id='intro'></a>"
   ]
  },
  {
   "cell_type": "markdown",
   "id": "4149134c",
   "metadata": {
    "id": "4149134c"
   },
   "source": [
    "# Цели и задачи проекта\n",
    "\n",
    "## Провести исследовательский анализ рынка Москвы\n",
    " * Загрузка данных и знакомство с ними\n",
    " * Подготовить данные к исследовательскому анализу\n",
    " * Провести исследовательский анализ исходных данных\n",
    " * По результатам проведённого исследовательского анализа данных сформулировать итоговый вывод и рекомендации для заказчика\n"
   ]
  },
  {
   "cell_type": "markdown",
   "id": "728986ea",
   "metadata": {
    "id": "728986ea"
   },
   "source": [
    "### Описание данных\n",
    "\n",
    "\n",
    "##### Файл /datasets/rest_info.csv содержит информацию о заведениях общественного питания:\n",
    "- name — название заведения;\n",
    "- address — адрес заведения;\n",
    "- district — административный район, в котором находится заведение, например Центральный административный округ;\n",
    "- category — категория заведения, например «кафе», «пиццерия» или «кофейня»;\n",
    "- hours — информация о днях и часах работы;\n",
    "- rating — рейтинг заведения по оценкам пользователей в Яндекс Картах (высшая оценка — 5.0);\n",
    "- chain — число, выраженное 0 или 1, которое показывает, является ли заведение сетевым (для маленьких сетей могут встречаться ошибки):\n",
    " - 0 — заведение не является сетевым;\n",
    " - 1 — заведение является сетевым.\n",
    "- seats — количество посадочных мест.\n",
    "##### Файл /datasets/rest_price.csv содержит информацию о среднем чеке в заведениях общественного питания:\n",
    "- price — категория цен в заведении, например «средние», «ниже среднего», «выше среднего» и так далее;\n",
    "- avg_bill — строка, которая хранит среднюю стоимость заказа в виде диапазона, например:\n",
    " - «Средний счёт: 1000–1500 ₽»;\n",
    " - «Цена чашки капучино: 130–220 ₽»;\n",
    " -  Цена бокала пива: 400–600 ₽». \n",
    "и так далее;\n",
    "- middle_avg_bill — число с оценкой среднего чека, которое указано только для значений из столбца avg_bill, начинающихся с подстроки «Средний счёт»:\n",
    " - Если в строке указан ценовой диапазон из двух значений, в столбец войдёт медиана этих двух значений.\n",
    " - Если в строке указано одно число — цена без диапазона, то в столбец войдёт это число.\n",
    " - Если значения нет или оно не начинается с подстроки «Средний счёт», то в столбец ничего не войдёт.\n",
    "-middle_coffee_cup — число с оценкой одной чашки капучино, которое указано только для значений из столбца avg_bill, начинающихся с подстроки «Цена одной чашки капучино»:\n",
    " - Если в строке указан ценовой диапазон из двух значений, в столбец войдёт медиана этих двух значений.\n",
    " - Если в строке указано одно число — цена без диапазона, то в столбец войдёт это число.\n",
    " - Если значения нет или оно не начинается с подстроки «Цена одной чашки капучино», то в столбец ничего не войдёт."
   ]
  },
  {
   "cell_type": "markdown",
   "id": "4fecaf95",
   "metadata": {
    "id": "4fecaf95"
   },
   "source": [
    "### Содержимое проекта\n",
    "\n",
    "- [Загрузка данных и знакомство с ними](#1.-Загрузка-данных-и-знакомство-с-ними)\n",
    "- [Предобработка данных](#2.-Предобработка-данных )\n",
    "- [Исследовательский анализ данных](#3.-Исследовательский-анализ-данных)\n",
    "- [Итоговый вывод и рекомендации](#4.-Итоговый-вывод-и-рекомендации)\n"
   ]
  },
  {
   "cell_type": "markdown",
   "id": "6f7d21d6",
   "metadata": {
    "id": "6f7d21d6"
   },
   "source": [
    "## 1. Загрузка данных и знакомство с ними\n",
    "\n",
    "- Загрузите данные о заведениях общественного питания Москвы. Путь к файлам: `/datasets/rest_info.csv` и `/datasets/rest_price.csv`."
   ]
  },
  {
   "cell_type": "markdown",
   "id": "18b5dfff",
   "metadata": {
    "id": "18b5dfff"
   },
   "source": [
    "- Познакомьтесь с данными и изучите общую информацию о них."
   ]
  },
  {
   "cell_type": "code",
   "execution_count": 4,
   "id": "6c75c25d",
   "metadata": {},
   "outputs": [
    {
     "name": "stdout",
     "output_type": "stream",
     "text": [
      "Requirement already satisfied: phik in /opt/conda/lib/python3.9/site-packages (0.12.4)\n",
      "Requirement already satisfied: joblib>=0.14.1 in /opt/conda/lib/python3.9/site-packages (from phik) (1.1.0)\n",
      "Requirement already satisfied: numpy>=1.18.0 in /opt/conda/lib/python3.9/site-packages (from phik) (1.21.1)\n",
      "Requirement already satisfied: pandas>=0.25.1 in /opt/conda/lib/python3.9/site-packages (from phik) (1.2.4)\n",
      "Requirement already satisfied: scipy>=1.5.2 in /opt/conda/lib/python3.9/site-packages (from phik) (1.9.1)\n",
      "Requirement already satisfied: matplotlib>=2.2.3 in /opt/conda/lib/python3.9/site-packages (from phik) (3.3.4)\n",
      "Requirement already satisfied: python-dateutil>=2.1 in /opt/conda/lib/python3.9/site-packages (from matplotlib>=2.2.3->phik) (2.8.1)\n",
      "Requirement already satisfied: pillow>=6.2.0 in /opt/conda/lib/python3.9/site-packages (from matplotlib>=2.2.3->phik) (8.4.0)\n",
      "Requirement already satisfied: kiwisolver>=1.0.1 in /opt/conda/lib/python3.9/site-packages (from matplotlib>=2.2.3->phik) (1.4.4)\n",
      "Requirement already satisfied: cycler>=0.10 in /opt/conda/lib/python3.9/site-packages (from matplotlib>=2.2.3->phik) (0.11.0)\n",
      "Requirement already satisfied: pyparsing!=2.0.4,!=2.1.2,!=2.1.6,>=2.0.3 in /opt/conda/lib/python3.9/site-packages (from matplotlib>=2.2.3->phik) (2.4.7)\n",
      "Requirement already satisfied: pytz>=2017.3 in /opt/conda/lib/python3.9/site-packages (from pandas>=0.25.1->phik) (2021.1)\n",
      "Requirement already satisfied: six>=1.5 in /opt/conda/lib/python3.9/site-packages (from python-dateutil>=2.1->matplotlib>=2.2.3->phik) (1.16.0)\n"
     ]
    }
   ],
   "source": [
    "!pip install phik"
   ]
  },
  {
   "cell_type": "code",
   "execution_count": 5,
   "id": "f68a7419",
   "metadata": {
    "id": "f68a7419"
   },
   "outputs": [],
   "source": [
    "# Импортируем библиотеку pandas\n",
    "import pandas as pd"
   ]
  },
  {
   "cell_type": "code",
   "execution_count": 6,
   "id": "dd415c80",
   "metadata": {
    "id": "dd415c80"
   },
   "outputs": [],
   "source": [
    "# Загружаем библиотеки для визуализации данных\n",
    "import matplotlib.pyplot as plt\n",
    "import seaborn as sns"
   ]
  },
  {
   "cell_type": "code",
   "execution_count": 7,
   "id": "3158ad37",
   "metadata": {
    "id": "3158ad37"
   },
   "outputs": [],
   "source": [
    "# Загружаем библиотеку для расчёта коэффициента корреляции phi_k\n",
    "from phik import phik_matrix"
   ]
  },
  {
   "cell_type": "code",
   "execution_count": 8,
   "id": "39cbf43a",
   "metadata": {},
   "outputs": [],
   "source": [
    "# Выгружаем данные в переменные rest_info и rest_price\n",
    "rest_info =pd.read_csv('/datasets/rest_info.csv')\n",
    "rest_price = pd.read_csv('/datasets/rest_price.csv')"
   ]
  },
  {
   "cell_type": "markdown",
   "id": "11a70109",
   "metadata": {},
   "source": [
    "# Познакомимся с данными датасета /datasets/rest_info.csv и /datasets/rest_price.csv \n",
    "- выведем первые строки методом head()\n",
    "- информацию о датафрейме методом info()\n"
   ]
  },
  {
   "cell_type": "code",
   "execution_count": 9,
   "id": "31c53f99",
   "metadata": {},
   "outputs": [
    {
     "data": {
      "text/html": [
       "<div>\n",
       "<style scoped>\n",
       "    .dataframe tbody tr th:only-of-type {\n",
       "        vertical-align: middle;\n",
       "    }\n",
       "\n",
       "    .dataframe tbody tr th {\n",
       "        vertical-align: top;\n",
       "    }\n",
       "\n",
       "    .dataframe thead th {\n",
       "        text-align: right;\n",
       "    }\n",
       "</style>\n",
       "<table border=\"1\" class=\"dataframe\">\n",
       "  <thead>\n",
       "    <tr style=\"text-align: right;\">\n",
       "      <th></th>\n",
       "      <th>id</th>\n",
       "      <th>name</th>\n",
       "      <th>category</th>\n",
       "      <th>address</th>\n",
       "      <th>district</th>\n",
       "      <th>hours</th>\n",
       "      <th>rating</th>\n",
       "      <th>chain</th>\n",
       "      <th>seats</th>\n",
       "    </tr>\n",
       "  </thead>\n",
       "  <tbody>\n",
       "    <tr>\n",
       "      <th>0</th>\n",
       "      <td>0c3e3439a8c64ea5bf6ecd6ca6ae19f0</td>\n",
       "      <td>WoWфли</td>\n",
       "      <td>кафе</td>\n",
       "      <td>Москва, улица Дыбенко, 7/1</td>\n",
       "      <td>Северный административный округ</td>\n",
       "      <td>ежедневно, 10:00–22:00</td>\n",
       "      <td>5.0</td>\n",
       "      <td>0</td>\n",
       "      <td>NaN</td>\n",
       "    </tr>\n",
       "    <tr>\n",
       "      <th>1</th>\n",
       "      <td>045780ada3474c57a2112e505d74b633</td>\n",
       "      <td>Четыре комнаты</td>\n",
       "      <td>ресторан</td>\n",
       "      <td>Москва, улица Дыбенко, 36, корп. 1</td>\n",
       "      <td>Северный административный округ</td>\n",
       "      <td>ежедневно, 10:00–22:00</td>\n",
       "      <td>4.5</td>\n",
       "      <td>0</td>\n",
       "      <td>4.0</td>\n",
       "    </tr>\n",
       "    <tr>\n",
       "      <th>2</th>\n",
       "      <td>1070b6b59144425896c65889347fcff6</td>\n",
       "      <td>Хазри</td>\n",
       "      <td>кафе</td>\n",
       "      <td>Москва, Клязьминская улица, 15</td>\n",
       "      <td>Северный административный округ</td>\n",
       "      <td>пн-чт 11:00–02:00; пт,сб 11:00–05:00; вс 11:00...</td>\n",
       "      <td>4.6</td>\n",
       "      <td>0</td>\n",
       "      <td>45.0</td>\n",
       "    </tr>\n",
       "    <tr>\n",
       "      <th>3</th>\n",
       "      <td>03ac7cd772104f65b58b349dc59f03ee</td>\n",
       "      <td>Dormouse Coffee Shop</td>\n",
       "      <td>кофейня</td>\n",
       "      <td>Москва, улица Маршала Федоренко, 12</td>\n",
       "      <td>Северный административный округ</td>\n",
       "      <td>ежедневно, 09:00–22:00</td>\n",
       "      <td>5.0</td>\n",
       "      <td>0</td>\n",
       "      <td>NaN</td>\n",
       "    </tr>\n",
       "    <tr>\n",
       "      <th>4</th>\n",
       "      <td>a163aada139c4c7f87b0b1c0b466a50f</td>\n",
       "      <td>Иль Марко</td>\n",
       "      <td>пиццерия</td>\n",
       "      <td>Москва, Правобережная улица, 1Б</td>\n",
       "      <td>Северный административный округ</td>\n",
       "      <td>ежедневно, 10:00–22:00</td>\n",
       "      <td>5.0</td>\n",
       "      <td>1</td>\n",
       "      <td>148.0</td>\n",
       "    </tr>\n",
       "  </tbody>\n",
       "</table>\n",
       "</div>"
      ],
      "text/plain": [
       "                                 id                  name  category  \\\n",
       "0  0c3e3439a8c64ea5bf6ecd6ca6ae19f0                WoWфли      кафе   \n",
       "1  045780ada3474c57a2112e505d74b633        Четыре комнаты  ресторан   \n",
       "2  1070b6b59144425896c65889347fcff6                 Хазри      кафе   \n",
       "3  03ac7cd772104f65b58b349dc59f03ee  Dormouse Coffee Shop   кофейня   \n",
       "4  a163aada139c4c7f87b0b1c0b466a50f             Иль Марко  пиццерия   \n",
       "\n",
       "                               address                         district  \\\n",
       "0           Москва, улица Дыбенко, 7/1  Северный административный округ   \n",
       "1   Москва, улица Дыбенко, 36, корп. 1  Северный административный округ   \n",
       "2       Москва, Клязьминская улица, 15  Северный административный округ   \n",
       "3  Москва, улица Маршала Федоренко, 12  Северный административный округ   \n",
       "4      Москва, Правобережная улица, 1Б  Северный административный округ   \n",
       "\n",
       "                                               hours  rating  chain  seats  \n",
       "0                             ежедневно, 10:00–22:00     5.0      0    NaN  \n",
       "1                             ежедневно, 10:00–22:00     4.5      0    4.0  \n",
       "2  пн-чт 11:00–02:00; пт,сб 11:00–05:00; вс 11:00...     4.6      0   45.0  \n",
       "3                             ежедневно, 09:00–22:00     5.0      0    NaN  \n",
       "4                             ежедневно, 10:00–22:00     5.0      1  148.0  "
      ]
     },
     "execution_count": 9,
     "metadata": {},
     "output_type": "execute_result"
    }
   ],
   "source": [
    "rest_info.head()"
   ]
  },
  {
   "cell_type": "code",
   "execution_count": 10,
   "id": "01684b08",
   "metadata": {},
   "outputs": [
    {
     "name": "stdout",
     "output_type": "stream",
     "text": [
      "<class 'pandas.core.frame.DataFrame'>\n",
      "RangeIndex: 8406 entries, 0 to 8405\n",
      "Data columns (total 9 columns):\n",
      " #   Column    Non-Null Count  Dtype  \n",
      "---  ------    --------------  -----  \n",
      " 0   id        8406 non-null   object \n",
      " 1   name      8406 non-null   object \n",
      " 2   category  8406 non-null   object \n",
      " 3   address   8406 non-null   object \n",
      " 4   district  8406 non-null   object \n",
      " 5   hours     7870 non-null   object \n",
      " 6   rating    8406 non-null   float64\n",
      " 7   chain     8406 non-null   int64  \n",
      " 8   seats     4795 non-null   float64\n",
      "dtypes: float64(2), int64(1), object(6)\n",
      "memory usage: 591.2+ KB\n"
     ]
    }
   ],
   "source": [
    "rest_info.info()"
   ]
  },
  {
   "cell_type": "code",
   "execution_count": 11,
   "id": "d8dbc243",
   "metadata": {},
   "outputs": [
    {
     "data": {
      "text/html": [
       "<div>\n",
       "<style scoped>\n",
       "    .dataframe tbody tr th:only-of-type {\n",
       "        vertical-align: middle;\n",
       "    }\n",
       "\n",
       "    .dataframe tbody tr th {\n",
       "        vertical-align: top;\n",
       "    }\n",
       "\n",
       "    .dataframe thead th {\n",
       "        text-align: right;\n",
       "    }\n",
       "</style>\n",
       "<table border=\"1\" class=\"dataframe\">\n",
       "  <thead>\n",
       "    <tr style=\"text-align: right;\">\n",
       "      <th></th>\n",
       "      <th>id</th>\n",
       "      <th>price</th>\n",
       "      <th>avg_bill</th>\n",
       "      <th>middle_avg_bill</th>\n",
       "      <th>middle_coffee_cup</th>\n",
       "    </tr>\n",
       "  </thead>\n",
       "  <tbody>\n",
       "    <tr>\n",
       "      <th>0</th>\n",
       "      <td>045780ada3474c57a2112e505d74b633</td>\n",
       "      <td>выше среднего</td>\n",
       "      <td>Средний счёт:1500–1600 ₽</td>\n",
       "      <td>1550.0</td>\n",
       "      <td>NaN</td>\n",
       "    </tr>\n",
       "    <tr>\n",
       "      <th>1</th>\n",
       "      <td>1070b6b59144425896c65889347fcff6</td>\n",
       "      <td>средние</td>\n",
       "      <td>Средний счёт:от 1000 ₽</td>\n",
       "      <td>1000.0</td>\n",
       "      <td>NaN</td>\n",
       "    </tr>\n",
       "    <tr>\n",
       "      <th>2</th>\n",
       "      <td>03ac7cd772104f65b58b349dc59f03ee</td>\n",
       "      <td>NaN</td>\n",
       "      <td>Цена чашки капучино:155–185 ₽</td>\n",
       "      <td>NaN</td>\n",
       "      <td>170.0</td>\n",
       "    </tr>\n",
       "    <tr>\n",
       "      <th>3</th>\n",
       "      <td>a163aada139c4c7f87b0b1c0b466a50f</td>\n",
       "      <td>средние</td>\n",
       "      <td>Средний счёт:400–600 ₽</td>\n",
       "      <td>500.0</td>\n",
       "      <td>NaN</td>\n",
       "    </tr>\n",
       "    <tr>\n",
       "      <th>4</th>\n",
       "      <td>8a343546b24e4a499ad96eb7d0797a8a</td>\n",
       "      <td>средние</td>\n",
       "      <td>NaN</td>\n",
       "      <td>NaN</td>\n",
       "      <td>NaN</td>\n",
       "    </tr>\n",
       "  </tbody>\n",
       "</table>\n",
       "</div>"
      ],
      "text/plain": [
       "                                 id          price  \\\n",
       "0  045780ada3474c57a2112e505d74b633  выше среднего   \n",
       "1  1070b6b59144425896c65889347fcff6        средние   \n",
       "2  03ac7cd772104f65b58b349dc59f03ee            NaN   \n",
       "3  a163aada139c4c7f87b0b1c0b466a50f        средние   \n",
       "4  8a343546b24e4a499ad96eb7d0797a8a        средние   \n",
       "\n",
       "                        avg_bill  middle_avg_bill  middle_coffee_cup  \n",
       "0       Средний счёт:1500–1600 ₽           1550.0                NaN  \n",
       "1         Средний счёт:от 1000 ₽           1000.0                NaN  \n",
       "2  Цена чашки капучино:155–185 ₽              NaN              170.0  \n",
       "3         Средний счёт:400–600 ₽            500.0                NaN  \n",
       "4                            NaN              NaN                NaN  "
      ]
     },
     "execution_count": 11,
     "metadata": {},
     "output_type": "execute_result"
    }
   ],
   "source": [
    "rest_price.head()"
   ]
  },
  {
   "cell_type": "code",
   "execution_count": 12,
   "id": "e3e7faed",
   "metadata": {
    "scrolled": true
   },
   "outputs": [
    {
     "name": "stdout",
     "output_type": "stream",
     "text": [
      "<class 'pandas.core.frame.DataFrame'>\n",
      "RangeIndex: 4058 entries, 0 to 4057\n",
      "Data columns (total 5 columns):\n",
      " #   Column             Non-Null Count  Dtype  \n",
      "---  ------             --------------  -----  \n",
      " 0   id                 4058 non-null   object \n",
      " 1   price              3315 non-null   object \n",
      " 2   avg_bill           3816 non-null   object \n",
      " 3   middle_avg_bill    3149 non-null   float64\n",
      " 4   middle_coffee_cup  535 non-null    float64\n",
      "dtypes: float64(2), object(3)\n",
      "memory usage: 158.6+ KB\n"
     ]
    }
   ],
   "source": [
    "rest_price.info()"
   ]
  },
  {
   "cell_type": "code",
   "execution_count": 13,
   "id": "e4a1838a",
   "metadata": {},
   "outputs": [
    {
     "data": {
      "text/plain": [
       "(8406, 9)"
      ]
     },
     "execution_count": 13,
     "metadata": {},
     "output_type": "execute_result"
    }
   ],
   "source": [
    "rest_info.shape"
   ]
  },
  {
   "cell_type": "code",
   "execution_count": 14,
   "id": "0af78cdf",
   "metadata": {},
   "outputs": [
    {
     "data": {
      "text/plain": [
       "(4058, 5)"
      ]
     },
     "execution_count": 14,
     "metadata": {},
     "output_type": "execute_result"
    }
   ],
   "source": [
    "rest_price.shape"
   ]
  },
  {
   "cell_type": "code",
   "execution_count": 15,
   "id": "d4a16a40",
   "metadata": {},
   "outputs": [
    {
     "data": {
      "text/plain": [
       "id           0.00\n",
       "name         0.00\n",
       "category     0.00\n",
       "address      0.00\n",
       "district     0.00\n",
       "hours        6.38\n",
       "rating       0.00\n",
       "chain        0.00\n",
       "seats       42.96\n",
       "dtype: float64"
      ]
     },
     "execution_count": 15,
     "metadata": {},
     "output_type": "execute_result"
    }
   ],
   "source": [
    "# Подсчитываем процент строк с пропусками\n",
    "round(rest_info.isna().sum()/len(rest_info)*100,2) "
   ]
  },
  {
   "cell_type": "code",
   "execution_count": 16,
   "id": "516a0125",
   "metadata": {},
   "outputs": [
    {
     "data": {
      "text/plain": [
       "id                    0.00\n",
       "price                18.31\n",
       "avg_bill              5.96\n",
       "middle_avg_bill      22.40\n",
       "middle_coffee_cup    86.82\n",
       "dtype: float64"
      ]
     },
     "execution_count": 16,
     "metadata": {},
     "output_type": "execute_result"
    }
   ],
   "source": [
    "# Подсчитываем процент строк с пропусками\n",
    "round(rest_price.isna().sum()/len(rest_price)*100,2)"
   ]
  },
  {
   "cell_type": "markdown",
   "id": "2c614a62",
   "metadata": {
    "id": "2c614a62"
   },
   "source": [
    "---\n",
    "\n",
    "### Промежуточный вывод\n",
    "\n",
    "Сделайте промежуточный вывод о полученных данных: данные какого объёма вам предоставили, соответствуют ли данные описанию, встречаются ли в них пропуски, используются ли верные типы данных. Отметьте другие особенности данных, которые вы обнаружите на этой стадии и на которые стоит обратить внимание при предобработке."
   ]
  },
  {
   "cell_type": "markdown",
   "id": "b6887353",
   "metadata": {
    "id": "3593b7d5"
   },
   "source": [
    "\n",
    "Датасет rest_info содержит 8406 строк и 9 столбцов\n",
    "\n",
    "Датасет rest_price содержит 4058 строк  и 5 столбцов.\n",
    "* Пропуски:\n",
    "\n",
    "В rest_info:\n",
    "  - Все колонки, кроме hours и seats, содержат ожидаемые данные.\n",
    "  - hours содержит 536 пропусков(6%), а seats — 3611 пропуск(43%).\n",
    "#Типы данных в остальных колонках соответствуют описанию.\n",
    "\n",
    "В rest_price:\n",
    "- Колонки price, avg_bill, middle_avg_bill и middle_coffee_cup содержат пропуски.\n",
    "  - price имеет 743 пропуска(18%), avg_bill — 242 пропуска(6%), middle_avg_bill — 909 пропусков(22%), middle_coffee_cup — 3523 пропуска (87).\n",
    "- Типы данных:\n",
    "\n",
    "  В целом типы данных соответствуют описанию. Однако стоит обратить внимание на пропуски, особенно в столбце seats и middle_coffee_cup, где процент пропусков очень высок."
   ]
  },
  {
   "cell_type": "markdown",
   "id": "8a8d1491",
   "metadata": {
    "id": "8a8d1491"
   },
   "source": [
    "### Подготовка единого датафрейма\n",
    "\n",
    "- Объедините данные двух датасетов в один, с которым вы и продолжите работу."
   ]
  },
  {
   "cell_type": "code",
   "execution_count": 17,
   "id": "3408e303",
   "metadata": {
    "id": "3408e303"
   },
   "outputs": [],
   "source": [
    "df= pd.merge(rest_info,rest_price, on='id',how='left')"
   ]
  },
  {
   "cell_type": "code",
   "execution_count": 18,
   "id": "5695950b",
   "metadata": {
    "id": "5695950b"
   },
   "outputs": [
    {
     "name": "stdout",
     "output_type": "stream",
     "text": [
      "<class 'pandas.core.frame.DataFrame'>\n",
      "Int64Index: 8406 entries, 0 to 8405\n",
      "Data columns (total 13 columns):\n",
      " #   Column             Non-Null Count  Dtype  \n",
      "---  ------             --------------  -----  \n",
      " 0   id                 8406 non-null   object \n",
      " 1   name               8406 non-null   object \n",
      " 2   category           8406 non-null   object \n",
      " 3   address            8406 non-null   object \n",
      " 4   district           8406 non-null   object \n",
      " 5   hours              7870 non-null   object \n",
      " 6   rating             8406 non-null   float64\n",
      " 7   chain              8406 non-null   int64  \n",
      " 8   seats              4795 non-null   float64\n",
      " 9   price              3315 non-null   object \n",
      " 10  avg_bill           3816 non-null   object \n",
      " 11  middle_avg_bill    3149 non-null   float64\n",
      " 12  middle_coffee_cup  535 non-null    float64\n",
      "dtypes: float64(4), int64(1), object(8)\n",
      "memory usage: 919.4+ KB\n"
     ]
    }
   ],
   "source": [
    "df.info()"
   ]
  },
  {
   "cell_type": "code",
   "execution_count": 19,
   "id": "00e73b97",
   "metadata": {},
   "outputs": [
    {
     "data": {
      "text/plain": [
       "0"
      ]
     },
     "execution_count": 19,
     "metadata": {},
     "output_type": "execute_result"
    }
   ],
   "source": [
    "df.duplicated().sum()\n"
   ]
  },
  {
   "cell_type": "markdown",
   "id": "956e82e2",
   "metadata": {
    "id": "956e82e2"
   },
   "source": [
    "## 2. Предобработка данных\n",
    "\n",
    "Подготовьте данные к исследовательскому анализу:\n",
    "\n",
    "- Изучите корректность типов данных и при необходимости проведите их преобразование."
   ]
  },
  {
   "cell_type": "code",
   "execution_count": 20,
   "id": "88e8611b",
   "metadata": {},
   "outputs": [],
   "source": [
    "df['seats'] = df['seats'].fillna(-1).astype(int) # исправил на -1 "
   ]
  },
  {
   "cell_type": "code",
   "execution_count": 21,
   "id": "f74b8a73",
   "metadata": {},
   "outputs": [
    {
     "name": "stdout",
     "output_type": "stream",
     "text": [
      "<class 'pandas.core.frame.DataFrame'>\n",
      "Int64Index: 8406 entries, 0 to 8405\n",
      "Data columns (total 13 columns):\n",
      " #   Column             Non-Null Count  Dtype  \n",
      "---  ------             --------------  -----  \n",
      " 0   id                 8406 non-null   object \n",
      " 1   name               8406 non-null   object \n",
      " 2   category           8406 non-null   object \n",
      " 3   address            8406 non-null   object \n",
      " 4   district           8406 non-null   object \n",
      " 5   hours              7870 non-null   object \n",
      " 6   rating             8406 non-null   float64\n",
      " 7   chain              8406 non-null   int64  \n",
      " 8   seats              8406 non-null   int64  \n",
      " 9   price              3315 non-null   object \n",
      " 10  avg_bill           3816 non-null   object \n",
      " 11  middle_avg_bill    3149 non-null   float64\n",
      " 12  middle_coffee_cup  535 non-null    float64\n",
      "dtypes: float64(3), int64(2), object(8)\n",
      "memory usage: 919.4+ KB\n"
     ]
    }
   ],
   "source": [
    "# проверяем преобразование \n",
    "df.info()"
   ]
  },
  {
   "cell_type": "code",
   "execution_count": 22,
   "id": "487cadac",
   "metadata": {},
   "outputs": [
    {
     "data": {
      "text/html": [
       "<div>\n",
       "<style scoped>\n",
       "    .dataframe tbody tr th:only-of-type {\n",
       "        vertical-align: middle;\n",
       "    }\n",
       "\n",
       "    .dataframe tbody tr th {\n",
       "        vertical-align: top;\n",
       "    }\n",
       "\n",
       "    .dataframe thead th {\n",
       "        text-align: right;\n",
       "    }\n",
       "</style>\n",
       "<table border=\"1\" class=\"dataframe\">\n",
       "  <thead>\n",
       "    <tr style=\"text-align: right;\">\n",
       "      <th></th>\n",
       "      <th>id</th>\n",
       "      <th>name</th>\n",
       "      <th>category</th>\n",
       "      <th>address</th>\n",
       "      <th>district</th>\n",
       "      <th>hours</th>\n",
       "      <th>rating</th>\n",
       "      <th>chain</th>\n",
       "      <th>seats</th>\n",
       "      <th>price</th>\n",
       "      <th>avg_bill</th>\n",
       "      <th>middle_avg_bill</th>\n",
       "      <th>middle_coffee_cup</th>\n",
       "    </tr>\n",
       "  </thead>\n",
       "  <tbody>\n",
       "    <tr>\n",
       "      <th>0</th>\n",
       "      <td>0c3e3439a8c64ea5bf6ecd6ca6ae19f0</td>\n",
       "      <td>WoWфли</td>\n",
       "      <td>кафе</td>\n",
       "      <td>Москва, улица Дыбенко, 7/1</td>\n",
       "      <td>Северный административный округ</td>\n",
       "      <td>ежедневно, 10:00–22:00</td>\n",
       "      <td>5.0</td>\n",
       "      <td>0</td>\n",
       "      <td>-1</td>\n",
       "      <td>NaN</td>\n",
       "      <td>NaN</td>\n",
       "      <td>NaN</td>\n",
       "      <td>NaN</td>\n",
       "    </tr>\n",
       "    <tr>\n",
       "      <th>1</th>\n",
       "      <td>045780ada3474c57a2112e505d74b633</td>\n",
       "      <td>Четыре комнаты</td>\n",
       "      <td>ресторан</td>\n",
       "      <td>Москва, улица Дыбенко, 36, корп. 1</td>\n",
       "      <td>Северный административный округ</td>\n",
       "      <td>ежедневно, 10:00–22:00</td>\n",
       "      <td>4.5</td>\n",
       "      <td>0</td>\n",
       "      <td>4</td>\n",
       "      <td>выше среднего</td>\n",
       "      <td>Средний счёт:1500–1600 ₽</td>\n",
       "      <td>1550.0</td>\n",
       "      <td>NaN</td>\n",
       "    </tr>\n",
       "    <tr>\n",
       "      <th>2</th>\n",
       "      <td>1070b6b59144425896c65889347fcff6</td>\n",
       "      <td>Хазри</td>\n",
       "      <td>кафе</td>\n",
       "      <td>Москва, Клязьминская улица, 15</td>\n",
       "      <td>Северный административный округ</td>\n",
       "      <td>пн-чт 11:00–02:00; пт,сб 11:00–05:00; вс 11:00...</td>\n",
       "      <td>4.6</td>\n",
       "      <td>0</td>\n",
       "      <td>45</td>\n",
       "      <td>средние</td>\n",
       "      <td>Средний счёт:от 1000 ₽</td>\n",
       "      <td>1000.0</td>\n",
       "      <td>NaN</td>\n",
       "    </tr>\n",
       "    <tr>\n",
       "      <th>3</th>\n",
       "      <td>03ac7cd772104f65b58b349dc59f03ee</td>\n",
       "      <td>Dormouse Coffee Shop</td>\n",
       "      <td>кофейня</td>\n",
       "      <td>Москва, улица Маршала Федоренко, 12</td>\n",
       "      <td>Северный административный округ</td>\n",
       "      <td>ежедневно, 09:00–22:00</td>\n",
       "      <td>5.0</td>\n",
       "      <td>0</td>\n",
       "      <td>-1</td>\n",
       "      <td>NaN</td>\n",
       "      <td>Цена чашки капучино:155–185 ₽</td>\n",
       "      <td>NaN</td>\n",
       "      <td>170.0</td>\n",
       "    </tr>\n",
       "    <tr>\n",
       "      <th>4</th>\n",
       "      <td>a163aada139c4c7f87b0b1c0b466a50f</td>\n",
       "      <td>Иль Марко</td>\n",
       "      <td>пиццерия</td>\n",
       "      <td>Москва, Правобережная улица, 1Б</td>\n",
       "      <td>Северный административный округ</td>\n",
       "      <td>ежедневно, 10:00–22:00</td>\n",
       "      <td>5.0</td>\n",
       "      <td>1</td>\n",
       "      <td>148</td>\n",
       "      <td>средние</td>\n",
       "      <td>Средний счёт:400–600 ₽</td>\n",
       "      <td>500.0</td>\n",
       "      <td>NaN</td>\n",
       "    </tr>\n",
       "  </tbody>\n",
       "</table>\n",
       "</div>"
      ],
      "text/plain": [
       "                                 id                  name  category  \\\n",
       "0  0c3e3439a8c64ea5bf6ecd6ca6ae19f0                WoWфли      кафе   \n",
       "1  045780ada3474c57a2112e505d74b633        Четыре комнаты  ресторан   \n",
       "2  1070b6b59144425896c65889347fcff6                 Хазри      кафе   \n",
       "3  03ac7cd772104f65b58b349dc59f03ee  Dormouse Coffee Shop   кофейня   \n",
       "4  a163aada139c4c7f87b0b1c0b466a50f             Иль Марко  пиццерия   \n",
       "\n",
       "                               address                         district  \\\n",
       "0           Москва, улица Дыбенко, 7/1  Северный административный округ   \n",
       "1   Москва, улица Дыбенко, 36, корп. 1  Северный административный округ   \n",
       "2       Москва, Клязьминская улица, 15  Северный административный округ   \n",
       "3  Москва, улица Маршала Федоренко, 12  Северный административный округ   \n",
       "4      Москва, Правобережная улица, 1Б  Северный административный округ   \n",
       "\n",
       "                                               hours  rating  chain  seats  \\\n",
       "0                             ежедневно, 10:00–22:00     5.0      0     -1   \n",
       "1                             ежедневно, 10:00–22:00     4.5      0      4   \n",
       "2  пн-чт 11:00–02:00; пт,сб 11:00–05:00; вс 11:00...     4.6      0     45   \n",
       "3                             ежедневно, 09:00–22:00     5.0      0     -1   \n",
       "4                             ежедневно, 10:00–22:00     5.0      1    148   \n",
       "\n",
       "           price                       avg_bill  middle_avg_bill  \\\n",
       "0            NaN                            NaN              NaN   \n",
       "1  выше среднего       Средний счёт:1500–1600 ₽           1550.0   \n",
       "2        средние         Средний счёт:от 1000 ₽           1000.0   \n",
       "3            NaN  Цена чашки капучино:155–185 ₽              NaN   \n",
       "4        средние         Средний счёт:400–600 ₽            500.0   \n",
       "\n",
       "   middle_coffee_cup  \n",
       "0                NaN  \n",
       "1                NaN  \n",
       "2                NaN  \n",
       "3              170.0  \n",
       "4                NaN  "
      ]
     },
     "execution_count": 22,
     "metadata": {},
     "output_type": "execute_result"
    }
   ],
   "source": [
    "df.head()"
   ]
  },
  {
   "cell_type": "markdown",
   "id": "4b7ee469",
   "metadata": {
    "id": "4b7ee469"
   },
   "source": [
    "- Изучите пропущенные значения в данных: посчитайте их количество в каждом столбце датафрейме, изучите данные с пропущенными значениями и предположите гипотезы их появления. Проведите обработку пропущенных значений: вы можете заменить пропуски на определённое значение, удалить строки с пропусками или оставить их как есть."
   ]
  },
  {
   "cell_type": "code",
   "execution_count": 23,
   "id": "7244f57e",
   "metadata": {},
   "outputs": [],
   "source": [
    "# Замена пропусков\n",
    "df['hours'].fillna('не указано', inplace=True)\n",
    "df['seats'].fillna(0, inplace=True)\n",
    "\n",
    "df['price'].fillna('не указано', inplace=True)\n",
    "df['avg_bill'].fillna('не указано', inplace=True)"
   ]
  },
  {
   "cell_type": "code",
   "execution_count": 24,
   "id": "26717c46",
   "metadata": {},
   "outputs": [],
   "source": [
    "# Замена NaN на -1 для middle_avg_bill и middle_coffee_cup\n",
    "df['middle_avg_bill'].fillna(-1, inplace=True)\n",
    "df['middle_coffee_cup'].fillna(-1, inplace=True)"
   ]
  },
  {
   "cell_type": "code",
   "execution_count": 25,
   "id": "74778544",
   "metadata": {},
   "outputs": [
    {
     "data": {
      "text/plain": [
       "id                   0\n",
       "name                 0\n",
       "category             0\n",
       "address              0\n",
       "district             0\n",
       "hours                0\n",
       "rating               0\n",
       "chain                0\n",
       "seats                0\n",
       "price                0\n",
       "avg_bill             0\n",
       "middle_avg_bill      0\n",
       "middle_coffee_cup    0\n",
       "dtype: int64"
      ]
     },
     "execution_count": 25,
     "metadata": {},
     "output_type": "execute_result"
    }
   ],
   "source": [
    "# проверка на пропуски \n",
    "df.isna().sum()"
   ]
  },
  {
   "cell_type": "markdown",
   "id": "c4d5f04d",
   "metadata": {
    "id": "c4d5f04d"
   },
   "source": [
    "- Проверьте данные на явные и неявные дубликаты, например поля с названием и адресом заведения. Для оптимизации проверки нормализуйте данные в текстовых столбцах, например с названием заведения."
   ]
  },
  {
   "cell_type": "code",
   "execution_count": 26,
   "id": "3dd64c11",
   "metadata": {},
   "outputs": [
    {
     "data": {
      "text/plain": [
       "0"
      ]
     },
     "execution_count": 26,
     "metadata": {},
     "output_type": "execute_result"
    }
   ],
   "source": [
    "df.duplicated().sum()"
   ]
  },
  {
   "cell_type": "code",
   "execution_count": 27,
   "id": "6eb5c625",
   "metadata": {},
   "outputs": [
    {
     "data": {
      "text/plain": [
       "0"
      ]
     },
     "execution_count": 27,
     "metadata": {},
     "output_type": "execute_result"
    }
   ],
   "source": [
    "df.duplicated(subset='id').sum()"
   ]
  },
  {
   "cell_type": "markdown",
   "id": "4c0563f2",
   "metadata": {
    "id": "4c0563f2"
   },
   "source": [
    "- Для дальнейшей работы создайте столбец `is_24_7` с обозначением того, что заведение работает ежедневно и круглосуточно, то есть 24/7:\n",
    "  - логическое значение `True` — если заведение работает ежедневно и круглосуточно;\n",
    "  - логическое значение `False` — в противоположном случае."
   ]
  },
  {
   "cell_type": "code",
   "execution_count": 28,
   "id": "d8a8a963",
   "metadata": {
    "id": "d8a8a963"
   },
   "outputs": [],
   "source": [
    "def is_24_7(x):\n",
    "    if x=='ежедневно, круглосуточно':\n",
    "        return True\n",
    "    return False"
   ]
  },
  {
   "cell_type": "code",
   "execution_count": 29,
   "id": "42d1e685",
   "metadata": {
    "id": "42d1e685"
   },
   "outputs": [],
   "source": [
    "df['is_24_7'] = df['hours'].apply(is_24_7)"
   ]
  },
  {
   "cell_type": "code",
   "execution_count": 30,
   "id": "616e1fd5",
   "metadata": {},
   "outputs": [
    {
     "data": {
      "text/html": [
       "<div>\n",
       "<style scoped>\n",
       "    .dataframe tbody tr th:only-of-type {\n",
       "        vertical-align: middle;\n",
       "    }\n",
       "\n",
       "    .dataframe tbody tr th {\n",
       "        vertical-align: top;\n",
       "    }\n",
       "\n",
       "    .dataframe thead th {\n",
       "        text-align: right;\n",
       "    }\n",
       "</style>\n",
       "<table border=\"1\" class=\"dataframe\">\n",
       "  <thead>\n",
       "    <tr style=\"text-align: right;\">\n",
       "      <th></th>\n",
       "      <th>name</th>\n",
       "      <th>hours</th>\n",
       "      <th>is_24_7</th>\n",
       "    </tr>\n",
       "  </thead>\n",
       "  <tbody>\n",
       "    <tr>\n",
       "      <th>0</th>\n",
       "      <td>WoWфли</td>\n",
       "      <td>ежедневно, 10:00–22:00</td>\n",
       "      <td>False</td>\n",
       "    </tr>\n",
       "    <tr>\n",
       "      <th>1</th>\n",
       "      <td>Четыре комнаты</td>\n",
       "      <td>ежедневно, 10:00–22:00</td>\n",
       "      <td>False</td>\n",
       "    </tr>\n",
       "    <tr>\n",
       "      <th>2</th>\n",
       "      <td>Хазри</td>\n",
       "      <td>пн-чт 11:00–02:00; пт,сб 11:00–05:00; вс 11:00...</td>\n",
       "      <td>False</td>\n",
       "    </tr>\n",
       "    <tr>\n",
       "      <th>3</th>\n",
       "      <td>Dormouse Coffee Shop</td>\n",
       "      <td>ежедневно, 09:00–22:00</td>\n",
       "      <td>False</td>\n",
       "    </tr>\n",
       "    <tr>\n",
       "      <th>4</th>\n",
       "      <td>Иль Марко</td>\n",
       "      <td>ежедневно, 10:00–22:00</td>\n",
       "      <td>False</td>\n",
       "    </tr>\n",
       "    <tr>\n",
       "      <th>5</th>\n",
       "      <td>Sergio Pizza</td>\n",
       "      <td>ежедневно, 10:00–23:00</td>\n",
       "      <td>False</td>\n",
       "    </tr>\n",
       "    <tr>\n",
       "      <th>6</th>\n",
       "      <td>Огни города</td>\n",
       "      <td>пн 15:00–04:00; вт-вс 15:00–05:00</td>\n",
       "      <td>False</td>\n",
       "    </tr>\n",
       "    <tr>\n",
       "      <th>7</th>\n",
       "      <td>Mr. Уголёк</td>\n",
       "      <td>пн-чт 10:00–22:00; пт,сб 10:00–23:00; вс 10:00...</td>\n",
       "      <td>False</td>\n",
       "    </tr>\n",
       "    <tr>\n",
       "      <th>8</th>\n",
       "      <td>Donna Maria</td>\n",
       "      <td>ежедневно, 10:00–22:00</td>\n",
       "      <td>False</td>\n",
       "    </tr>\n",
       "    <tr>\n",
       "      <th>9</th>\n",
       "      <td>Готика</td>\n",
       "      <td>ежедневно, 12:00–00:00</td>\n",
       "      <td>False</td>\n",
       "    </tr>\n",
       "    <tr>\n",
       "      <th>10</th>\n",
       "      <td>Great Room Bar</td>\n",
       "      <td>ежедневно, круглосуточно</td>\n",
       "      <td>True</td>\n",
       "    </tr>\n",
       "    <tr>\n",
       "      <th>11</th>\n",
       "      <td>Шашлык Шефф</td>\n",
       "      <td>ежедневно, 10:00–21:00</td>\n",
       "      <td>False</td>\n",
       "    </tr>\n",
       "    <tr>\n",
       "      <th>12</th>\n",
       "      <td>Заправка</td>\n",
       "      <td>вт-сб 09:00–18:00</td>\n",
       "      <td>False</td>\n",
       "    </tr>\n",
       "    <tr>\n",
       "      <th>13</th>\n",
       "      <td>Буханка</td>\n",
       "      <td>ежедневно, 08:00–22:00</td>\n",
       "      <td>False</td>\n",
       "    </tr>\n",
       "    <tr>\n",
       "      <th>14</th>\n",
       "      <td>У Сильвы</td>\n",
       "      <td>ежедневно, 13:00–00:00</td>\n",
       "      <td>False</td>\n",
       "    </tr>\n",
       "  </tbody>\n",
       "</table>\n",
       "</div>"
      ],
      "text/plain": [
       "                    name                                              hours  \\\n",
       "0                 WoWфли                             ежедневно, 10:00–22:00   \n",
       "1         Четыре комнаты                             ежедневно, 10:00–22:00   \n",
       "2                  Хазри  пн-чт 11:00–02:00; пт,сб 11:00–05:00; вс 11:00...   \n",
       "3   Dormouse Coffee Shop                             ежедневно, 09:00–22:00   \n",
       "4              Иль Марко                             ежедневно, 10:00–22:00   \n",
       "5           Sergio Pizza                             ежедневно, 10:00–23:00   \n",
       "6            Огни города                  пн 15:00–04:00; вт-вс 15:00–05:00   \n",
       "7             Mr. Уголёк  пн-чт 10:00–22:00; пт,сб 10:00–23:00; вс 10:00...   \n",
       "8            Donna Maria                             ежедневно, 10:00–22:00   \n",
       "9                 Готика                             ежедневно, 12:00–00:00   \n",
       "10        Great Room Bar                           ежедневно, круглосуточно   \n",
       "11           Шашлык Шефф                             ежедневно, 10:00–21:00   \n",
       "12              Заправка                                  вт-сб 09:00–18:00   \n",
       "13               Буханка                             ежедневно, 08:00–22:00   \n",
       "14              У Сильвы                             ежедневно, 13:00–00:00   \n",
       "\n",
       "    is_24_7  \n",
       "0     False  \n",
       "1     False  \n",
       "2     False  \n",
       "3     False  \n",
       "4     False  \n",
       "5     False  \n",
       "6     False  \n",
       "7     False  \n",
       "8     False  \n",
       "9     False  \n",
       "10     True  \n",
       "11    False  \n",
       "12    False  \n",
       "13    False  \n",
       "14    False  "
      ]
     },
     "execution_count": 30,
     "metadata": {},
     "output_type": "execute_result"
    }
   ],
   "source": [
    "df[['name', 'hours', 'is_24_7']].head(15)"
   ]
  },
  {
   "cell_type": "markdown",
   "id": "562f30ab",
   "metadata": {
    "id": "562f30ab"
   },
   "source": [
    "---\n",
    "\n",
    "### Промежуточный вывод\n",
    "\n",
    "После предобработки данных напишите промежуточный вывод о проведённой работе. Отразите количество или долю отфильтрованных данных, если вы что-то удаляли."
   ]
  },
  {
   "cell_type": "markdown",
   "id": "a6abf03f",
   "metadata": {
    "id": "4e587ce1"
   },
   "source": [
    "После проведения предобработки данных в нашем DataFrame были выполнены следующие шаги:\n",
    "- Объединение датасетов:  \n",
    "Данные из двух исходных датасетов rest_info и rest_price были успешно объединены по столбцу id с использованием метода pd.merge(). В результате мы получили DataFrame с 8406 записями и 13 столбцами.\n",
    "- Проверка и преобразование типов данных:  \n",
    "Столбец seats был преобразован в целочисленный тип. Пропуски в этом столбце были заменены на 0, что позволило избежать ошибок при дальнейших операциях.\n",
    "- Обработка пропущенных значений:  \n",
    "Все пропущенные значения в столбцах hours, price, и avg_bill были заменены на строку 'не указано'.\n",
    "Пропуски в столбцах middle_avg_bill и middle_coffee_cup были заменены на -1, что позволяет легко идентифицировать отсутствующие данные.\n",
    "После обработки пропусков в DataFrame не осталось ни одного NaN значения, что подтверждается результатом df.isna().sum().\n",
    "- Проверка на дубликаты:  \n",
    "В результате проверки на явные и неявные дубликаты в DataFrame не было найдено ни одной дублирующейся записи. Это свидетельствует о том, что данные уникальны по столбцу id.\n",
    "- Создание нового столбца is_24_7:  \n",
    "Новый столбец is_24_7 был добавлен для обозначения того, работает ли заведение ежедневно и круглосуточно."
   ]
  },
  {
   "cell_type": "markdown",
   "id": "6953e84c",
   "metadata": {
    "id": "6953e84c"
   },
   "source": [
    "## 3. Исследовательский анализ данных\n",
    "Проведите исследовательский анализ исходных данных.\n",
    "\n",
    "При исследовании данных используйте визуализации. Проверьте, что для каждого случая подобран оптимальный тип визуализации с корректным оформлением. У графика должен быть заголовок, понятные подписи по осям, при необходимости легенда, а его размер является оптимальным для изучения.\n",
    "\n",
    "После исследования каждого пункта оставляйте небольшой комментарий с выводом или обсуждением результата. В конце шага обобщите результаты, выделив, по вашему мнению, самые важные."
   ]
  },
  {
   "cell_type": "markdown",
   "id": "8555d840",
   "metadata": {
    "id": "8555d840"
   },
   "source": [
    "---\n",
    "\n",
    "### Задача 1\n",
    "\n",
    "Какие категории заведений представлены в данных? Исследуйте количество объектов общественного питания по каждой категории. Результат сопроводите подходящей визуализацией."
   ]
  },
  {
   "cell_type": "code",
   "execution_count": 31,
   "id": "ef2bffe9",
   "metadata": {
    "id": "ef2bffe9"
   },
   "outputs": [],
   "source": [
    "# Подсчет количества заведений по каждой категории\n",
    "category_counts = df['category'].value_counts()"
   ]
  },
  {
   "cell_type": "code",
   "execution_count": 32,
   "id": "d49e1397",
   "metadata": {},
   "outputs": [
    {
     "data": {
      "text/plain": [
       "кафе               2378\n",
       "ресторан           2043\n",
       "кофейня            1413\n",
       "бар,паб             765\n",
       "пиццерия            633\n",
       "быстрое питание     603\n",
       "столовая            315\n",
       "булочная            256\n",
       "Name: category, dtype: int64"
      ]
     },
     "execution_count": 32,
     "metadata": {},
     "output_type": "execute_result"
    }
   ],
   "source": [
    "category_counts # добавил вывод информации "
   ]
  },
  {
   "cell_type": "code",
   "execution_count": 33,
   "id": "9846f138",
   "metadata": {},
   "outputs": [
    {
     "data": {
      "text/plain": [
       "<Figure size 864x432 with 0 Axes>"
      ]
     },
     "execution_count": 33,
     "metadata": {},
     "output_type": "execute_result"
    },
    {
     "data": {
      "text/plain": [
       "<Figure size 864x432 with 0 Axes>"
      ]
     },
     "metadata": {},
     "output_type": "display_data"
    }
   ],
   "source": [
    "# размер графика \n",
    "plt.figure(figsize=(12, 6))"
   ]
  },
  {
   "cell_type": "code",
   "execution_count": 34,
   "id": "71ab5e91",
   "metadata": {
    "id": "71ab5e91"
   },
   "outputs": [
    {
     "data": {
      "text/plain": [
       "Text(0, 0.5, 'Количество заведений')"
      ]
     },
     "execution_count": 34,
     "metadata": {},
     "output_type": "execute_result"
    },
    {
     "data": {
      "image/png": "[encoded data removed]",
      "text/plain": [
       "<Figure size 432x288 with 1 Axes>"
      ]
     },
     "metadata": {
      "needs_background": "light"
     },
     "output_type": "display_data"
    }
   ],
   "source": [
    "# Строим столбчатую диаграмму\n",
    "category_counts.plot(kind='bar',rot=45)\n",
    "plt.grid(axis='y')\n",
    "plt.title('Количество заведений по категориям')  \n",
    "plt.xlabel('Категория') \n",
    "plt.ylabel('Количество заведений')"
   ]
  },
  {
   "cell_type": "markdown",
   "id": "6cb859d3",
   "metadata": {
    "id": "63360b97"
   },
   "source": [
    "На столбчатой диаграмме видно распределение заведений по категориям. Кафе и рестораны занимают наибольшую долю в общем количестве заведений, что указывает на их популярность среди потребителей. В то же время, такие категории, как столовая и булочная, представлены в меньшем количестве, что может говорить о более узкой нише и возможностях для расширения."
   ]
  },
  {
   "cell_type": "markdown",
   "id": "6821e1d0",
   "metadata": {
    "id": "6821e1d0"
   },
   "source": [
    "---\n",
    "\n",
    "### Задача 2\n",
    "\n",
    "Какие административные районы Москвы присутствуют в данных? Исследуйте распределение количества заведений по административным районам Москвы, а также отдельно распределение заведений каждой категории в Центральном административном округе Москвы. Результат сопроводите подходящими визуализациями."
   ]
  },
  {
   "cell_type": "code",
   "execution_count": 35,
   "id": "e62f31be",
   "metadata": {
    "id": "e62f31be"
   },
   "outputs": [],
   "source": [
    "# Подсчет количества заведений по административным районам\n",
    "district_counts = df['district'].value_counts()"
   ]
  },
  {
   "cell_type": "code",
   "execution_count": 36,
   "id": "0a290cd1",
   "metadata": {
    "id": "0a290cd1"
   },
   "outputs": [
    {
     "data": {
      "text/plain": [
       "Центральный административный округ         2242\n",
       "Северный административный округ             900\n",
       "Южный административный округ                892\n",
       "Северо-Восточный административный округ     891\n",
       "Западный административный округ             851\n",
       "Восточный административный округ            798\n",
       "Юго-Восточный административный округ        714\n",
       "Юго-Западный административный округ         709\n",
       "Северо-Западный административный округ      409\n",
       "Name: district, dtype: int64"
      ]
     },
     "execution_count": 36,
     "metadata": {},
     "output_type": "execute_result"
    }
   ],
   "source": [
    "district_counts"
   ]
  },
  {
   "cell_type": "code",
   "execution_count": 37,
   "id": "3e3c7e1e",
   "metadata": {},
   "outputs": [],
   "source": [
    "district_percentages = district_counts / district_counts.sum() * 100  # Доли"
   ]
  },
  {
   "cell_type": "code",
   "execution_count": 38,
   "id": "1d23cab3",
   "metadata": {},
   "outputs": [
    {
     "data": {
      "text/plain": [
       "Центральный административный округ         26.67\n",
       "Северный административный округ            10.71\n",
       "Южный административный округ               10.61\n",
       "Северо-Восточный административный округ    10.60\n",
       "Западный административный округ            10.12\n",
       "Восточный административный округ            9.49\n",
       "Юго-Восточный административный округ        8.49\n",
       "Юго-Западный административный округ         8.43\n",
       "Северо-Западный административный округ      4.87\n",
       "Name: district, dtype: float64"
      ]
     },
     "execution_count": 38,
     "metadata": {},
     "output_type": "execute_result"
    }
   ],
   "source": [
    "round(district_percentages,2)"
   ]
  },
  {
   "cell_type": "code",
   "execution_count": 39,
   "id": "41f1654a",
   "metadata": {
    "id": "41f1654a"
   },
   "outputs": [
    {
     "data": {
      "text/plain": [
       "<Figure size 1152x576 with 0 Axes>"
      ]
     },
     "execution_count": 39,
     "metadata": {},
     "output_type": "execute_result"
    },
    {
     "data": {
      "text/plain": [
       "<Figure size 1152x576 with 0 Axes>"
      ]
     },
     "metadata": {},
     "output_type": "display_data"
    }
   ],
   "source": [
    "plt.figure(figsize=(16, 8))"
   ]
  },
  {
   "cell_type": "code",
   "execution_count": 40,
   "id": "b0b428cb",
   "metadata": {},
   "outputs": [
    {
     "data": {
      "text/plain": [
       "Text(0, 0.5, 'Количество заведений')"
      ]
     },
     "execution_count": 40,
     "metadata": {},
     "output_type": "execute_result"
    },
    {
     "data": {
      "image/png": "[encoded data removed]",
      "text/plain": [
       "<Figure size 432x288 with 1 Axes>"
      ]
     },
     "metadata": {
      "needs_background": "light"
     },
     "output_type": "display_data"
    }
   ],
   "source": [
    "district_counts.plot(kind='barh')\n",
    "plt.grid(axis='y')\n",
    "plt.title('Количество заведений по административным районам Москвы')  \n",
    "plt.xlabel('Административный район') \n",
    "plt.ylabel('Количество заведений')"
   ]
  },
  {
   "cell_type": "code",
   "execution_count": 41,
   "id": "e2169760",
   "metadata": {},
   "outputs": [],
   "source": [
    "central_districts = df[df['district'] == 'Центральный административный округ']"
   ]
  },
  {
   "cell_type": "code",
   "execution_count": 42,
   "id": "1e0ce48e",
   "metadata": {},
   "outputs": [],
   "source": [
    "central_category_counts = central_districts['category'].value_counts()"
   ]
  },
  {
   "cell_type": "code",
   "execution_count": 43,
   "id": "abd38cc2",
   "metadata": {},
   "outputs": [
    {
     "data": {
      "text/plain": [
       "ресторан           670\n",
       "кафе               464\n",
       "кофейня            428\n",
       "бар,паб            364\n",
       "пиццерия           113\n",
       "быстрое питание     87\n",
       "столовая            66\n",
       "булочная            50\n",
       "Name: category, dtype: int64"
      ]
     },
     "execution_count": 43,
     "metadata": {},
     "output_type": "execute_result"
    }
   ],
   "source": [
    "central_category_counts # добавил вывод информации "
   ]
  },
  {
   "cell_type": "code",
   "execution_count": 44,
   "id": "15db63a0",
   "metadata": {},
   "outputs": [],
   "source": [
    "central_category_percentages = central_category_counts / central_category_counts.sum() * 100 # Доли"
   ]
  },
  {
   "cell_type": "code",
   "execution_count": 45,
   "id": "e292435b",
   "metadata": {},
   "outputs": [
    {
     "data": {
      "text/plain": [
       "ресторан           29.88\n",
       "кафе               20.70\n",
       "кофейня            19.09\n",
       "бар,паб            16.24\n",
       "пиццерия            5.04\n",
       "быстрое питание     3.88\n",
       "столовая            2.94\n",
       "булочная            2.23\n",
       "Name: category, dtype: float64"
      ]
     },
     "execution_count": 45,
     "metadata": {},
     "output_type": "execute_result"
    }
   ],
   "source": [
    "round(central_category_percentages,2) "
   ]
  },
  {
   "cell_type": "code",
   "execution_count": 46,
   "id": "01e59035",
   "metadata": {},
   "outputs": [
    {
     "data": {
      "text/plain": [
       "<Figure size 864x576 with 0 Axes>"
      ]
     },
     "execution_count": 46,
     "metadata": {},
     "output_type": "execute_result"
    },
    {
     "data": {
      "text/plain": [
       "<Figure size 864x576 with 0 Axes>"
      ]
     },
     "metadata": {},
     "output_type": "display_data"
    }
   ],
   "source": [
    "plt.figure(figsize=(12, 8))"
   ]
  },
  {
   "cell_type": "code",
   "execution_count": 47,
   "id": "d38c275f",
   "metadata": {},
   "outputs": [
    {
     "data": {
      "text/plain": [
       "Text(0, 0.5, 'Количество заведений')"
      ]
     },
     "execution_count": 47,
     "metadata": {},
     "output_type": "execute_result"
    },
    {
     "data": {
      "image/png": "[encoded data removed]",
      "text/plain": [
       "<Figure size 432x288 with 1 Axes>"
      ]
     },
     "metadata": {
      "needs_background": "light"
     },
     "output_type": "display_data"
    }
   ],
   "source": [
    "central_category_counts.plot(kind='bar')\n",
    "plt.grid(axis='y')\n",
    "plt.title('Количество заведений по категориям в Центральном административном округе')\n",
    "plt.xlabel('Категории заведений')\n",
    "plt.ylabel('Количество заведений')"
   ]
  },
  {
   "cell_type": "markdown",
   "id": "ad436862",
   "metadata": {},
   "source": [
    "Общее распределение по районам: На первом графике можно будет увидеть, что в Центральном административном  округе больше всего заведений 2242 ,т.е (  26.67%)  это достаточно много по сравнею с другими округами.\n",
    "\n",
    "Распределение в Центральном округе: Второй график покажет, как распределяются заведения по категориям в Центральном административном округе рестораны занимают первое место с количестов 670 заведений , что равняется (29.88%), затем идут кафе 464 заведений (20.70%.) "
   ]
  },
  {
   "cell_type": "markdown",
   "id": "7c824f58",
   "metadata": {
    "id": "7c824f58"
   },
   "source": [
    "---\n",
    "\n",
    "### Задача 3\n",
    "\n",
    "Изучите соотношение сетевых и несетевых заведений в целом по всем данным и в разрезе категорий заведения. Каких заведений больше — сетевых или несетевых? Какие категории заведений чаще являются сетевыми? Исследуйте данные, ответьте на вопросы и постройте необходимые визуализации."
   ]
  },
  {
   "cell_type": "code",
   "execution_count": 48,
   "id": "ef442d1a",
   "metadata": {
    "id": "ef442d1a"
   },
   "outputs": [
    {
     "data": {
      "text/plain": [
       "Несетевые    5201\n",
       "Сетевые      3205\n",
       "Name: chain, dtype: int64"
      ]
     },
     "execution_count": 48,
     "metadata": {},
     "output_type": "execute_result"
    }
   ],
   "source": [
    "# Подсчет количества сетевых и несетевых заведений\n",
    "chain_counts = df['chain'].value_counts()\n",
    "chain_counts.index = ['Несетевые', 'Сетевые']\n",
    "chain_counts"
   ]
  },
  {
   "cell_type": "code",
   "execution_count": 50,
   "id": "9fbb8b1a",
   "metadata": {},
   "outputs": [
    {
     "data": {
      "text/plain": [
       "Несетевые    61.87\n",
       "Сетевые      38.13\n",
       "Name: chain, dtype: float64"
      ]
     },
     "execution_count": 50,
     "metadata": {},
     "output_type": "execute_result"
    }
   ],
   "source": [
    "# Проценты НЕсетевых и сетевых \n",
    "round(chain_percentages,2)"
   ]
  },
  {
   "cell_type": "code",
   "execution_count": 51,
   "id": "0de29fa2",
   "metadata": {
    "id": "0de29fa2"
   },
   "outputs": [
    {
     "data": {
      "text/html": [
       "<div>\n",
       "<style scoped>\n",
       "    .dataframe tbody tr th:only-of-type {\n",
       "        vertical-align: middle;\n",
       "    }\n",
       "\n",
       "    .dataframe tbody tr th {\n",
       "        vertical-align: top;\n",
       "    }\n",
       "\n",
       "    .dataframe thead th {\n",
       "        text-align: right;\n",
       "    }\n",
       "</style>\n",
       "<table border=\"1\" class=\"dataframe\">\n",
       "  <thead>\n",
       "    <tr style=\"text-align: right;\">\n",
       "      <th>chain_label</th>\n",
       "      <th>Несетевые</th>\n",
       "      <th>Сетевые</th>\n",
       "    </tr>\n",
       "    <tr>\n",
       "      <th>category</th>\n",
       "      <th></th>\n",
       "      <th></th>\n",
       "    </tr>\n",
       "  </thead>\n",
       "  <tbody>\n",
       "    <tr>\n",
       "      <th>бар,паб</th>\n",
       "      <td>596</td>\n",
       "      <td>169</td>\n",
       "    </tr>\n",
       "    <tr>\n",
       "      <th>булочная</th>\n",
       "      <td>99</td>\n",
       "      <td>157</td>\n",
       "    </tr>\n",
       "    <tr>\n",
       "      <th>быстрое питание</th>\n",
       "      <td>371</td>\n",
       "      <td>232</td>\n",
       "    </tr>\n",
       "    <tr>\n",
       "      <th>кафе</th>\n",
       "      <td>1599</td>\n",
       "      <td>779</td>\n",
       "    </tr>\n",
       "    <tr>\n",
       "      <th>кофейня</th>\n",
       "      <td>693</td>\n",
       "      <td>720</td>\n",
       "    </tr>\n",
       "    <tr>\n",
       "      <th>пиццерия</th>\n",
       "      <td>303</td>\n",
       "      <td>330</td>\n",
       "    </tr>\n",
       "    <tr>\n",
       "      <th>ресторан</th>\n",
       "      <td>1313</td>\n",
       "      <td>730</td>\n",
       "    </tr>\n",
       "    <tr>\n",
       "      <th>столовая</th>\n",
       "      <td>227</td>\n",
       "      <td>88</td>\n",
       "    </tr>\n",
       "  </tbody>\n",
       "</table>\n",
       "</div>"
      ],
      "text/plain": [
       "chain_label      Несетевые  Сетевые\n",
       "category                           \n",
       "бар,паб                596      169\n",
       "булочная                99      157\n",
       "быстрое питание        371      232\n",
       "кафе                  1599      779\n",
       "кофейня                693      720\n",
       "пиццерия               303      330\n",
       "ресторан              1313      730\n",
       "столовая               227       88"
      ]
     },
     "execution_count": 51,
     "metadata": {},
     "output_type": "execute_result"
    }
   ],
   "source": [
    "# Подсчет количества заведений по категориям и типу (сетевое/несетевое)\n",
    "df['chain_label'] = df['chain'].map({0: 'Несетевые', 1: 'Сетевые'})\n",
    "category_chain_counts = df.groupby(['category', 'chain_label']).size().unstack(fill_value=0)\n",
    "category_chain_counts\n"
   ]
  },
  {
   "cell_type": "code",
   "execution_count": 52,
   "id": "28f3c504",
   "metadata": {},
   "outputs": [],
   "source": [
    "category_chain_percent = category_chain_counts.div(category_chain_counts.sum(axis=1), axis=0) * 100"
   ]
  },
  {
   "cell_type": "code",
   "execution_count": 53,
   "id": "85ed6d49",
   "metadata": {},
   "outputs": [
    {
     "data": {
      "text/html": [
       "<div>\n",
       "<style scoped>\n",
       "    .dataframe tbody tr th:only-of-type {\n",
       "        vertical-align: middle;\n",
       "    }\n",
       "\n",
       "    .dataframe tbody tr th {\n",
       "        vertical-align: top;\n",
       "    }\n",
       "\n",
       "    .dataframe thead th {\n",
       "        text-align: right;\n",
       "    }\n",
       "</style>\n",
       "<table border=\"1\" class=\"dataframe\">\n",
       "  <thead>\n",
       "    <tr style=\"text-align: right;\">\n",
       "      <th>chain_label</th>\n",
       "      <th>Несетевые</th>\n",
       "      <th>Сетевые</th>\n",
       "    </tr>\n",
       "    <tr>\n",
       "      <th>category</th>\n",
       "      <th></th>\n",
       "      <th></th>\n",
       "    </tr>\n",
       "  </thead>\n",
       "  <tbody>\n",
       "    <tr>\n",
       "      <th>бар,паб</th>\n",
       "      <td>77.91</td>\n",
       "      <td>22.09</td>\n",
       "    </tr>\n",
       "    <tr>\n",
       "      <th>булочная</th>\n",
       "      <td>38.67</td>\n",
       "      <td>61.33</td>\n",
       "    </tr>\n",
       "    <tr>\n",
       "      <th>быстрое питание</th>\n",
       "      <td>61.53</td>\n",
       "      <td>38.47</td>\n",
       "    </tr>\n",
       "    <tr>\n",
       "      <th>кафе</th>\n",
       "      <td>67.24</td>\n",
       "      <td>32.76</td>\n",
       "    </tr>\n",
       "    <tr>\n",
       "      <th>кофейня</th>\n",
       "      <td>49.04</td>\n",
       "      <td>50.96</td>\n",
       "    </tr>\n",
       "    <tr>\n",
       "      <th>пиццерия</th>\n",
       "      <td>47.87</td>\n",
       "      <td>52.13</td>\n",
       "    </tr>\n",
       "    <tr>\n",
       "      <th>ресторан</th>\n",
       "      <td>64.27</td>\n",
       "      <td>35.73</td>\n",
       "    </tr>\n",
       "    <tr>\n",
       "      <th>столовая</th>\n",
       "      <td>72.06</td>\n",
       "      <td>27.94</td>\n",
       "    </tr>\n",
       "  </tbody>\n",
       "</table>\n",
       "</div>"
      ],
      "text/plain": [
       "chain_label      Несетевые  Сетевые\n",
       "category                           \n",
       "бар,паб              77.91    22.09\n",
       "булочная             38.67    61.33\n",
       "быстрое питание      61.53    38.47\n",
       "кафе                 67.24    32.76\n",
       "кофейня              49.04    50.96\n",
       "пиццерия             47.87    52.13\n",
       "ресторан             64.27    35.73\n",
       "столовая             72.06    27.94"
      ]
     },
     "execution_count": 53,
     "metadata": {},
     "output_type": "execute_result"
    }
   ],
   "source": [
    "round(category_chain_percent,2)"
   ]
  },
  {
   "cell_type": "code",
   "execution_count": 54,
   "id": "292b656e",
   "metadata": {},
   "outputs": [],
   "source": [
    "result = ([category_chain_counts, category_chain_percent])"
   ]
  },
  {
   "cell_type": "code",
   "execution_count": 55,
   "id": "52989924",
   "metadata": {},
   "outputs": [
    {
     "data": {
      "text/plain": [
       "[chain_label      Несетевые  Сетевые\n",
       " category                           \n",
       " бар,паб                596      169\n",
       " булочная                99      157\n",
       " быстрое питание        371      232\n",
       " кафе                  1599      779\n",
       " кофейня                693      720\n",
       " пиццерия               303      330\n",
       " ресторан              1313      730\n",
       " столовая               227       88,\n",
       " chain_label      Несетевые    Сетевые\n",
       " category                             \n",
       " бар,паб          77.908497  22.091503\n",
       " булочная         38.671875  61.328125\n",
       " быстрое питание  61.525705  38.474295\n",
       " кафе             67.241379  32.758621\n",
       " кофейня          49.044586  50.955414\n",
       " пиццерия         47.867299  52.132701\n",
       " ресторан         64.268233  35.731767\n",
       " столовая         72.063492  27.936508]"
      ]
     },
     "execution_count": 55,
     "metadata": {},
     "output_type": "execute_result"
    }
   ],
   "source": [
    "result"
   ]
  },
  {
   "cell_type": "code",
   "execution_count": 56,
   "id": "a139bd72",
   "metadata": {
    "id": "a139bd72"
   },
   "outputs": [
    {
     "data": {
      "text/plain": [
       "(-1.1135554219709467,\n",
       " 1.121219417266968,\n",
       " -1.1116028426829725,\n",
       " 1.1005525163182368)"
      ]
     },
     "execution_count": 56,
     "metadata": {},
     "output_type": "execute_result"
    },
    {
     "data": {
      "image/png": "[encoded data removed]",
      "text/plain": [
       "<Figure size 576x432 with 1 Axes>"
      ]
     },
     "metadata": {},
     "output_type": "display_data"
    }
   ],
   "source": [
    "# Визуализация общего количества сетевых и несетевых заведений\n",
    "plt.figure(figsize=(8, 6))\n",
    "plt.pie(chain_counts, labels=chain_counts.index, autopct='%1.1f%%', startangle=90, colors=['skyblue', 'orange'])\n",
    "plt.title('Соотношение сетевых и несетевых заведений')\n",
    "plt.axis('equal')"
   ]
  },
  {
   "cell_type": "code",
   "execution_count": 57,
   "id": "d62bfeb7",
   "metadata": {},
   "outputs": [
    {
     "data": {
      "image/png": "[encoded data removed]",
      "text/plain": [
       "<Figure size 864x432 with 1 Axes>"
      ]
     },
     "metadata": {
      "needs_background": "light"
     },
     "output_type": "display_data"
    }
   ],
   "source": [
    "# Визуализация количества заведений по категориям и типу (сетевое/несетевое)\n",
    "category_chain_counts.plot(kind='bar', stacked=True, figsize=(12, 6), color=['skyblue', 'orange'],rot=45)\n",
    "plt.title('Количество заведений по категориям (сетевые и несетевые)')\n",
    "plt.xlabel('Категория заведения')\n",
    "plt.ylabel('Количество заведений')\n",
    "plt.legend=True\n",
    "plt.grid(axis='y')"
   ]
  },
  {
   "cell_type": "markdown",
   "id": "6452347d",
   "metadata": {},
   "source": [
    "# В результате анализа мы можем сделать следующие выводы:  \n",
    "В целом, несетевые заведения (61,9%) преобладают над сетевыми (38,1%), что может свидетельствовать о разнообразии и независимости рынка.\n",
    "- Распределение по категориям:  \n",
    "По категориям наибольшее количество сетевых заведений наблюдается в булочных 157 заведения (61%), пиццериях 330 заведения  (52%)  и кофейнях  720 заведений , что равняется почти (51%) от несетевых заведений . Это может указывать на высокий спрос на данные категории среди потребителей.\n",
    "Визуализации помогают более наглядно представить данные и выявить ключевые тенденции.\n",
    "- Рекомендации:  \n",
    "Для новых заведений стоит рассмотреть открытие в категориях с высоким процентом сетевых заведений, таких как булочные и пиццерии, так как это может быть знаком высокой конкуренции и спроса.\n"
   ]
  },
  {
   "cell_type": "markdown",
   "id": "5913c3e3",
   "metadata": {
    "id": "5913c3e3"
   },
   "source": [
    "---\n",
    "\n",
    "### Задача 4\n",
    "\n",
    "Исследуйте количество посадочных мест в заведениях. Встречаются ли в данных аномальные значения или выбросы? Если да, то с чем они могут быть связаны? Приведите для каждой категории заведений наиболее типичное для него количество посадочных мест. Результат сопроводите подходящими визуализациями.\n"
   ]
  },
  {
   "cell_type": "code",
   "execution_count": 58,
   "id": "5d3eb5bf",
   "metadata": {},
   "outputs": [],
   "source": [
    " # Фильтруем данные, чтобы исключить заведения без посадочных мест\n",
    "df_new = df[df['seats'] > -1]"
   ]
  },
  {
   "cell_type": "code",
   "execution_count": 59,
   "id": "290027a8",
   "metadata": {},
   "outputs": [
    {
     "data": {
      "text/html": [
       "<div>\n",
       "<style scoped>\n",
       "    .dataframe tbody tr th:only-of-type {\n",
       "        vertical-align: middle;\n",
       "    }\n",
       "\n",
       "    .dataframe tbody tr th {\n",
       "        vertical-align: top;\n",
       "    }\n",
       "\n",
       "    .dataframe thead th {\n",
       "        text-align: right;\n",
       "    }\n",
       "</style>\n",
       "<table border=\"1\" class=\"dataframe\">\n",
       "  <thead>\n",
       "    <tr style=\"text-align: right;\">\n",
       "      <th></th>\n",
       "      <th>id</th>\n",
       "      <th>name</th>\n",
       "      <th>category</th>\n",
       "      <th>address</th>\n",
       "      <th>district</th>\n",
       "      <th>hours</th>\n",
       "      <th>rating</th>\n",
       "      <th>chain</th>\n",
       "      <th>seats</th>\n",
       "      <th>price</th>\n",
       "      <th>avg_bill</th>\n",
       "      <th>middle_avg_bill</th>\n",
       "      <th>middle_coffee_cup</th>\n",
       "      <th>is_24_7</th>\n",
       "      <th>chain_label</th>\n",
       "    </tr>\n",
       "  </thead>\n",
       "  <tbody>\n",
       "    <tr>\n",
       "      <th>1</th>\n",
       "      <td>045780ada3474c57a2112e505d74b633</td>\n",
       "      <td>Четыре комнаты</td>\n",
       "      <td>ресторан</td>\n",
       "      <td>Москва, улица Дыбенко, 36, корп. 1</td>\n",
       "      <td>Северный административный округ</td>\n",
       "      <td>ежедневно, 10:00–22:00</td>\n",
       "      <td>4.5</td>\n",
       "      <td>0</td>\n",
       "      <td>4</td>\n",
       "      <td>выше среднего</td>\n",
       "      <td>Средний счёт:1500–1600 ₽</td>\n",
       "      <td>1550.0</td>\n",
       "      <td>-1.0</td>\n",
       "      <td>False</td>\n",
       "      <td>Несетевые</td>\n",
       "    </tr>\n",
       "    <tr>\n",
       "      <th>2</th>\n",
       "      <td>1070b6b59144425896c65889347fcff6</td>\n",
       "      <td>Хазри</td>\n",
       "      <td>кафе</td>\n",
       "      <td>Москва, Клязьминская улица, 15</td>\n",
       "      <td>Северный административный округ</td>\n",
       "      <td>пн-чт 11:00–02:00; пт,сб 11:00–05:00; вс 11:00...</td>\n",
       "      <td>4.6</td>\n",
       "      <td>0</td>\n",
       "      <td>45</td>\n",
       "      <td>средние</td>\n",
       "      <td>Средний счёт:от 1000 ₽</td>\n",
       "      <td>1000.0</td>\n",
       "      <td>-1.0</td>\n",
       "      <td>False</td>\n",
       "      <td>Несетевые</td>\n",
       "    </tr>\n",
       "    <tr>\n",
       "      <th>4</th>\n",
       "      <td>a163aada139c4c7f87b0b1c0b466a50f</td>\n",
       "      <td>Иль Марко</td>\n",
       "      <td>пиццерия</td>\n",
       "      <td>Москва, Правобережная улица, 1Б</td>\n",
       "      <td>Северный административный округ</td>\n",
       "      <td>ежедневно, 10:00–22:00</td>\n",
       "      <td>5.0</td>\n",
       "      <td>1</td>\n",
       "      <td>148</td>\n",
       "      <td>средние</td>\n",
       "      <td>Средний счёт:400–600 ₽</td>\n",
       "      <td>500.0</td>\n",
       "      <td>-1.0</td>\n",
       "      <td>False</td>\n",
       "      <td>Сетевые</td>\n",
       "    </tr>\n",
       "    <tr>\n",
       "      <th>6</th>\n",
       "      <td>96ebceb1a09e4e3191133b9fe0379a64</td>\n",
       "      <td>Огни города</td>\n",
       "      <td>бар,паб</td>\n",
       "      <td>Москва, Клязьминская улица, 9, стр. 3</td>\n",
       "      <td>Северный административный округ</td>\n",
       "      <td>пн 15:00–04:00; вт-вс 15:00–05:00</td>\n",
       "      <td>4.4</td>\n",
       "      <td>0</td>\n",
       "      <td>45</td>\n",
       "      <td>средние</td>\n",
       "      <td>Средний счёт:199 ₽</td>\n",
       "      <td>199.0</td>\n",
       "      <td>-1.0</td>\n",
       "      <td>False</td>\n",
       "      <td>Несетевые</td>\n",
       "    </tr>\n",
       "    <tr>\n",
       "      <th>7</th>\n",
       "      <td>0243288b78024af090b8e947842c969c</td>\n",
       "      <td>Mr. Уголёк</td>\n",
       "      <td>быстрое питание</td>\n",
       "      <td>Москва, Клязьминская улица, 9, стр. 3</td>\n",
       "      <td>Северный административный округ</td>\n",
       "      <td>пн-чт 10:00–22:00; пт,сб 10:00–23:00; вс 10:00...</td>\n",
       "      <td>4.7</td>\n",
       "      <td>0</td>\n",
       "      <td>45</td>\n",
       "      <td>средние</td>\n",
       "      <td>Средний счёт:200–300 ₽</td>\n",
       "      <td>250.0</td>\n",
       "      <td>-1.0</td>\n",
       "      <td>False</td>\n",
       "      <td>Несетевые</td>\n",
       "    </tr>\n",
       "    <tr>\n",
       "      <th>...</th>\n",
       "      <td>...</td>\n",
       "      <td>...</td>\n",
       "      <td>...</td>\n",
       "      <td>...</td>\n",
       "      <td>...</td>\n",
       "      <td>...</td>\n",
       "      <td>...</td>\n",
       "      <td>...</td>\n",
       "      <td>...</td>\n",
       "      <td>...</td>\n",
       "      <td>...</td>\n",
       "      <td>...</td>\n",
       "      <td>...</td>\n",
       "      <td>...</td>\n",
       "      <td>...</td>\n",
       "    </tr>\n",
       "    <tr>\n",
       "      <th>8401</th>\n",
       "      <td>0342ad1a45ed41ba89dcba246a8267e5</td>\n",
       "      <td>Суши Мания</td>\n",
       "      <td>кафе</td>\n",
       "      <td>Москва, Профсоюзная улица, 56</td>\n",
       "      <td>Юго-Западный административный округ</td>\n",
       "      <td>ежедневно, 09:00–02:00</td>\n",
       "      <td>4.4</td>\n",
       "      <td>0</td>\n",
       "      <td>86</td>\n",
       "      <td>не указано</td>\n",
       "      <td>не указано</td>\n",
       "      <td>-1.0</td>\n",
       "      <td>-1.0</td>\n",
       "      <td>False</td>\n",
       "      <td>Несетевые</td>\n",
       "    </tr>\n",
       "    <tr>\n",
       "      <th>8402</th>\n",
       "      <td>ee6bb7c3650e47bd8186fca08eda1091</td>\n",
       "      <td>Миславнес</td>\n",
       "      <td>кафе</td>\n",
       "      <td>Москва, Пролетарский проспект, 19, корп. 1</td>\n",
       "      <td>Южный административный округ</td>\n",
       "      <td>ежедневно, 08:00–22:00</td>\n",
       "      <td>4.8</td>\n",
       "      <td>0</td>\n",
       "      <td>150</td>\n",
       "      <td>не указано</td>\n",
       "      <td>не указано</td>\n",
       "      <td>-1.0</td>\n",
       "      <td>-1.0</td>\n",
       "      <td>False</td>\n",
       "      <td>Несетевые</td>\n",
       "    </tr>\n",
       "    <tr>\n",
       "      <th>8403</th>\n",
       "      <td>62e8c64d4c89467aba608e39ef87616b</td>\n",
       "      <td>Самовар</td>\n",
       "      <td>кафе</td>\n",
       "      <td>Москва, Люблинская улица, 112А, стр. 1</td>\n",
       "      <td>Юго-Восточный административный округ</td>\n",
       "      <td>ежедневно, круглосуточно</td>\n",
       "      <td>3.9</td>\n",
       "      <td>0</td>\n",
       "      <td>150</td>\n",
       "      <td>не указано</td>\n",
       "      <td>Средний счёт:от 150 ₽</td>\n",
       "      <td>150.0</td>\n",
       "      <td>-1.0</td>\n",
       "      <td>True</td>\n",
       "      <td>Несетевые</td>\n",
       "    </tr>\n",
       "    <tr>\n",
       "      <th>8404</th>\n",
       "      <td>06a0db5ecd4842d48cd6350aa923e297</td>\n",
       "      <td>Чайхана Sabr</td>\n",
       "      <td>кафе</td>\n",
       "      <td>Москва, Люблинская улица, 112А, стр. 1</td>\n",
       "      <td>Юго-Восточный административный округ</td>\n",
       "      <td>ежедневно, круглосуточно</td>\n",
       "      <td>4.2</td>\n",
       "      <td>1</td>\n",
       "      <td>150</td>\n",
       "      <td>не указано</td>\n",
       "      <td>не указано</td>\n",
       "      <td>-1.0</td>\n",
       "      <td>-1.0</td>\n",
       "      <td>True</td>\n",
       "      <td>Сетевые</td>\n",
       "    </tr>\n",
       "    <tr>\n",
       "      <th>8405</th>\n",
       "      <td>9d56f8f7a7f74df1a925bc0fd2de8aae</td>\n",
       "      <td>Kebab Time</td>\n",
       "      <td>кафе</td>\n",
       "      <td>Москва, Россошанский проезд, 6</td>\n",
       "      <td>Южный административный округ</td>\n",
       "      <td>ежедневно, круглосуточно</td>\n",
       "      <td>3.9</td>\n",
       "      <td>0</td>\n",
       "      <td>12</td>\n",
       "      <td>не указано</td>\n",
       "      <td>не указано</td>\n",
       "      <td>-1.0</td>\n",
       "      <td>-1.0</td>\n",
       "      <td>True</td>\n",
       "      <td>Несетевые</td>\n",
       "    </tr>\n",
       "  </tbody>\n",
       "</table>\n",
       "<p>4795 rows × 15 columns</p>\n",
       "</div>"
      ],
      "text/plain": [
       "                                    id            name         category  \\\n",
       "1     045780ada3474c57a2112e505d74b633  Четыре комнаты         ресторан   \n",
       "2     1070b6b59144425896c65889347fcff6           Хазри             кафе   \n",
       "4     a163aada139c4c7f87b0b1c0b466a50f       Иль Марко         пиццерия   \n",
       "6     96ebceb1a09e4e3191133b9fe0379a64     Огни города          бар,паб   \n",
       "7     0243288b78024af090b8e947842c969c      Mr. Уголёк  быстрое питание   \n",
       "...                                ...             ...              ...   \n",
       "8401  0342ad1a45ed41ba89dcba246a8267e5      Суши Мания             кафе   \n",
       "8402  ee6bb7c3650e47bd8186fca08eda1091       Миславнес             кафе   \n",
       "8403  62e8c64d4c89467aba608e39ef87616b         Самовар             кафе   \n",
       "8404  06a0db5ecd4842d48cd6350aa923e297    Чайхана Sabr             кафе   \n",
       "8405  9d56f8f7a7f74df1a925bc0fd2de8aae      Kebab Time             кафе   \n",
       "\n",
       "                                         address  \\\n",
       "1             Москва, улица Дыбенко, 36, корп. 1   \n",
       "2                 Москва, Клязьминская улица, 15   \n",
       "4                Москва, Правобережная улица, 1Б   \n",
       "6          Москва, Клязьминская улица, 9, стр. 3   \n",
       "7          Москва, Клязьминская улица, 9, стр. 3   \n",
       "...                                          ...   \n",
       "8401               Москва, Профсоюзная улица, 56   \n",
       "8402  Москва, Пролетарский проспект, 19, корп. 1   \n",
       "8403      Москва, Люблинская улица, 112А, стр. 1   \n",
       "8404      Москва, Люблинская улица, 112А, стр. 1   \n",
       "8405              Москва, Россошанский проезд, 6   \n",
       "\n",
       "                                  district  \\\n",
       "1          Северный административный округ   \n",
       "2          Северный административный округ   \n",
       "4          Северный административный округ   \n",
       "6          Северный административный округ   \n",
       "7          Северный административный округ   \n",
       "...                                    ...   \n",
       "8401   Юго-Западный административный округ   \n",
       "8402          Южный административный округ   \n",
       "8403  Юго-Восточный административный округ   \n",
       "8404  Юго-Восточный административный округ   \n",
       "8405          Южный административный округ   \n",
       "\n",
       "                                                  hours  rating  chain  seats  \\\n",
       "1                                ежедневно, 10:00–22:00     4.5      0      4   \n",
       "2     пн-чт 11:00–02:00; пт,сб 11:00–05:00; вс 11:00...     4.6      0     45   \n",
       "4                                ежедневно, 10:00–22:00     5.0      1    148   \n",
       "6                     пн 15:00–04:00; вт-вс 15:00–05:00     4.4      0     45   \n",
       "7     пн-чт 10:00–22:00; пт,сб 10:00–23:00; вс 10:00...     4.7      0     45   \n",
       "...                                                 ...     ...    ...    ...   \n",
       "8401                             ежедневно, 09:00–02:00     4.4      0     86   \n",
       "8402                             ежедневно, 08:00–22:00     4.8      0    150   \n",
       "8403                           ежедневно, круглосуточно     3.9      0    150   \n",
       "8404                           ежедневно, круглосуточно     4.2      1    150   \n",
       "8405                           ежедневно, круглосуточно     3.9      0     12   \n",
       "\n",
       "              price                  avg_bill  middle_avg_bill  \\\n",
       "1     выше среднего  Средний счёт:1500–1600 ₽           1550.0   \n",
       "2           средние    Средний счёт:от 1000 ₽           1000.0   \n",
       "4           средние    Средний счёт:400–600 ₽            500.0   \n",
       "6           средние        Средний счёт:199 ₽            199.0   \n",
       "7           средние    Средний счёт:200–300 ₽            250.0   \n",
       "...             ...                       ...              ...   \n",
       "8401     не указано                не указано             -1.0   \n",
       "8402     не указано                не указано             -1.0   \n",
       "8403     не указано     Средний счёт:от 150 ₽            150.0   \n",
       "8404     не указано                не указано             -1.0   \n",
       "8405     не указано                не указано             -1.0   \n",
       "\n",
       "      middle_coffee_cup  is_24_7 chain_label  \n",
       "1                  -1.0    False   Несетевые  \n",
       "2                  -1.0    False   Несетевые  \n",
       "4                  -1.0    False     Сетевые  \n",
       "6                  -1.0    False   Несетевые  \n",
       "7                  -1.0    False   Несетевые  \n",
       "...                 ...      ...         ...  \n",
       "8401               -1.0    False   Несетевые  \n",
       "8402               -1.0    False   Несетевые  \n",
       "8403               -1.0     True   Несетевые  \n",
       "8404               -1.0     True     Сетевые  \n",
       "8405               -1.0     True   Несетевые  \n",
       "\n",
       "[4795 rows x 15 columns]"
      ]
     },
     "execution_count": 59,
     "metadata": {},
     "output_type": "execute_result"
    }
   ],
   "source": [
    "df_new"
   ]
  },
  {
   "cell_type": "code",
   "execution_count": 60,
   "id": "595984aa",
   "metadata": {},
   "outputs": [],
   "source": [
    "# Вычисляем медианное количество посадочных мест по категориям\n",
    "quantity_seats = df_new.groupby('category')['seats'].median().reset_index().sort_values(by='seats', ascending=False)"
   ]
  },
  {
   "cell_type": "code",
   "execution_count": 61,
   "id": "e6049e34",
   "metadata": {},
   "outputs": [
    {
     "data": {
      "text/html": [
       "<div>\n",
       "<style scoped>\n",
       "    .dataframe tbody tr th:only-of-type {\n",
       "        vertical-align: middle;\n",
       "    }\n",
       "\n",
       "    .dataframe tbody tr th {\n",
       "        vertical-align: top;\n",
       "    }\n",
       "\n",
       "    .dataframe thead th {\n",
       "        text-align: right;\n",
       "    }\n",
       "</style>\n",
       "<table border=\"1\" class=\"dataframe\">\n",
       "  <thead>\n",
       "    <tr style=\"text-align: right;\">\n",
       "      <th></th>\n",
       "      <th>category</th>\n",
       "      <th>seats</th>\n",
       "    </tr>\n",
       "  </thead>\n",
       "  <tbody>\n",
       "    <tr>\n",
       "      <th>6</th>\n",
       "      <td>ресторан</td>\n",
       "      <td>86.0</td>\n",
       "    </tr>\n",
       "    <tr>\n",
       "      <th>0</th>\n",
       "      <td>бар,паб</td>\n",
       "      <td>82.5</td>\n",
       "    </tr>\n",
       "    <tr>\n",
       "      <th>4</th>\n",
       "      <td>кофейня</td>\n",
       "      <td>80.0</td>\n",
       "    </tr>\n",
       "    <tr>\n",
       "      <th>7</th>\n",
       "      <td>столовая</td>\n",
       "      <td>75.5</td>\n",
       "    </tr>\n",
       "    <tr>\n",
       "      <th>2</th>\n",
       "      <td>быстрое питание</td>\n",
       "      <td>65.0</td>\n",
       "    </tr>\n",
       "    <tr>\n",
       "      <th>3</th>\n",
       "      <td>кафе</td>\n",
       "      <td>60.0</td>\n",
       "    </tr>\n",
       "    <tr>\n",
       "      <th>5</th>\n",
       "      <td>пиццерия</td>\n",
       "      <td>55.0</td>\n",
       "    </tr>\n",
       "    <tr>\n",
       "      <th>1</th>\n",
       "      <td>булочная</td>\n",
       "      <td>50.0</td>\n",
       "    </tr>\n",
       "  </tbody>\n",
       "</table>\n",
       "</div>"
      ],
      "text/plain": [
       "          category  seats\n",
       "6         ресторан   86.0\n",
       "0          бар,паб   82.5\n",
       "4          кофейня   80.0\n",
       "7         столовая   75.5\n",
       "2  быстрое питание   65.0\n",
       "3             кафе   60.0\n",
       "5         пиццерия   55.0\n",
       "1         булочная   50.0"
      ]
     },
     "execution_count": 61,
     "metadata": {},
     "output_type": "execute_result"
    }
   ],
   "source": [
    "quantity_seats "
   ]
  },
  {
   "cell_type": "code",
   "execution_count": 62,
   "id": "f1afce1e",
   "metadata": {},
   "outputs": [
    {
     "data": {
      "text/plain": [
       "Text(0, 0.5, 'Категории заведений')"
      ]
     },
     "execution_count": 62,
     "metadata": {},
     "output_type": "execute_result"
    },
    {
     "data": {
      "image/png": "[encoded data removed]",
      "text/plain": [
       "<Figure size 864x432 with 1 Axes>"
      ]
     },
     "metadata": {
      "needs_background": "light"
     },
     "output_type": "display_data"
    }
   ],
   "source": [
    "plt.figure(figsize=(12, 6))\n",
    "sns.barplot(x='seats', y='category', data=quantity_seats,color='skyblue')\n",
    "plt.title('Медианное количество посадочных мест по категориям заведений')\n",
    "plt.xlabel('Количество посадочных мест')\n",
    "plt.ylabel('Категории заведений')"
   ]
  },
  {
   "cell_type": "code",
   "execution_count": 63,
   "id": "55b5540b",
   "metadata": {},
   "outputs": [
    {
     "data": {
      "text/plain": [
       "Text(0.5, 0, 'Количество посадочных мест')"
      ]
     },
     "execution_count": 63,
     "metadata": {},
     "output_type": "execute_result"
    },
    {
     "data": {
      "image/png": "[encoded data removed]",
      "text/plain": [
       "<Figure size 864x432 with 1 Axes>"
      ]
     },
     "metadata": {
      "needs_background": "light"
     },
     "output_type": "display_data"
    }
   ],
   "source": [
    "plt.figure(figsize=(12, 6))\n",
    "sns.boxplot(x='seats', data=df)\n",
    "plt.title('Распределение количества посадочных мест')\n",
    "plt.xlabel('Количество посадочных мест')"
   ]
  },
  {
   "cell_type": "markdown",
   "id": "5d6a259f",
   "metadata": {},
   "source": [
    "- Аномальные значения и выбросы:  \n",
    "На графике \"Распределение количества посадочных мест: , видно  что имеются выбросы, которые находятся за пределами \"усов\".  \n",
    "Значения, превышающие 120, могут свидетельствовать о возможных ошибках в данных или о наличии заведений с действительно большим количеством мест.\n",
    "Мы можем заметить, что выбросы начинаются примерно с 200 мест и выше \n",
    "- Типичное количество посадочных мест:  \n",
    "Рестораны имеют наибольшее медианное количество мест (86), в то время как булочные имеют наименьшее (50). Это может быть связано с форматом обслуживания и целевой аудиторией каждого типа заведения."
   ]
  },
  {
   "cell_type": "markdown",
   "id": "8ed065ea",
   "metadata": {
    "id": "8ed065ea"
   },
   "source": [
    "---\n",
    "\n",
    "### Задача 5\n",
    "\n",
    "Исследуйте рейтинг заведений. Визуализируйте распределение средних рейтингов по категориям заведений. Сильно ли различаются усреднённые рейтинги для разных типов общепита?"
   ]
  },
  {
   "cell_type": "code",
   "execution_count": 64,
   "id": "cc5206f8",
   "metadata": {
    "id": "cc5206f8"
   },
   "outputs": [],
   "source": [
    "# Группируем данные по категориям и вычисляем средний рейтинг\n",
    "average_ratings = df.groupby('category')['rating'].mean().reset_index()\n",
    "average_ratings = average_ratings.sort_values(by='rating', ascending=False)"
   ]
  },
  {
   "cell_type": "code",
   "execution_count": 65,
   "id": "3e0ec5d7",
   "metadata": {
    "id": "3e0ec5d7"
   },
   "outputs": [
    {
     "data": {
      "text/html": [
       "<div>\n",
       "<style scoped>\n",
       "    .dataframe tbody tr th:only-of-type {\n",
       "        vertical-align: middle;\n",
       "    }\n",
       "\n",
       "    .dataframe tbody tr th {\n",
       "        vertical-align: top;\n",
       "    }\n",
       "\n",
       "    .dataframe thead th {\n",
       "        text-align: right;\n",
       "    }\n",
       "</style>\n",
       "<table border=\"1\" class=\"dataframe\">\n",
       "  <thead>\n",
       "    <tr style=\"text-align: right;\">\n",
       "      <th></th>\n",
       "      <th>category</th>\n",
       "      <th>rating</th>\n",
       "    </tr>\n",
       "  </thead>\n",
       "  <tbody>\n",
       "    <tr>\n",
       "      <th>0</th>\n",
       "      <td>бар,паб</td>\n",
       "      <td>4.387712</td>\n",
       "    </tr>\n",
       "    <tr>\n",
       "      <th>5</th>\n",
       "      <td>пиццерия</td>\n",
       "      <td>4.301264</td>\n",
       "    </tr>\n",
       "    <tr>\n",
       "      <th>6</th>\n",
       "      <td>ресторан</td>\n",
       "      <td>4.290357</td>\n",
       "    </tr>\n",
       "    <tr>\n",
       "      <th>4</th>\n",
       "      <td>кофейня</td>\n",
       "      <td>4.277282</td>\n",
       "    </tr>\n",
       "    <tr>\n",
       "      <th>1</th>\n",
       "      <td>булочная</td>\n",
       "      <td>4.268359</td>\n",
       "    </tr>\n",
       "    <tr>\n",
       "      <th>7</th>\n",
       "      <td>столовая</td>\n",
       "      <td>4.211429</td>\n",
       "    </tr>\n",
       "    <tr>\n",
       "      <th>3</th>\n",
       "      <td>кафе</td>\n",
       "      <td>4.123886</td>\n",
       "    </tr>\n",
       "    <tr>\n",
       "      <th>2</th>\n",
       "      <td>быстрое питание</td>\n",
       "      <td>4.050249</td>\n",
       "    </tr>\n",
       "  </tbody>\n",
       "</table>\n",
       "</div>"
      ],
      "text/plain": [
       "          category    rating\n",
       "0          бар,паб  4.387712\n",
       "5         пиццерия  4.301264\n",
       "6         ресторан  4.290357\n",
       "4          кофейня  4.277282\n",
       "1         булочная  4.268359\n",
       "7         столовая  4.211429\n",
       "3             кафе  4.123886\n",
       "2  быстрое питание  4.050249"
      ]
     },
     "execution_count": 65,
     "metadata": {},
     "output_type": "execute_result"
    }
   ],
   "source": [
    "# Выводим результат \n",
    "average_ratings"
   ]
  },
  {
   "cell_type": "code",
   "execution_count": 66,
   "id": "766c86cb",
   "metadata": {
    "id": "766c86cb"
   },
   "outputs": [
    {
     "data": {
      "text/plain": [
       "Text(0, 0.5, 'Категории заведений')"
      ]
     },
     "execution_count": 66,
     "metadata": {},
     "output_type": "execute_result"
    },
    {
     "data": {
      "image/png": "[encoded data removed]",
      "text/plain": [
       "<Figure size 864x432 with 1 Axes>"
      ]
     },
     "metadata": {
      "needs_background": "light"
     },
     "output_type": "display_data"
    }
   ],
   "source": [
    "# Визуализация средних рейтингов\n",
    "plt.figure(figsize=(12, 6))\n",
    "sns.barplot(x='rating', y='category', data=average_ratings, color='skyblue')\n",
    "plt.title('Средний рейтинг заведений по категориям')\n",
    "plt.xlabel('Средний рейтинг')\n",
    "plt.ylabel('Категории заведений')"
   ]
  },
  {
   "cell_type": "markdown",
   "id": "ded3fea2",
   "metadata": {},
   "source": [
    "После визуализации можно проанализировать, насколько  различаются средние рейтинги для разных типов общепита. Мы можем обратить внимание на: у бар,паб самый высокий рейтинг, а у категории быстрое питание самый низкий. У категории ( пиццерия, ресторан, кофейня булочная) практически одинаковый рейтинг."
   ]
  },
  {
   "cell_type": "markdown",
   "id": "dd9702d9",
   "metadata": {
    "id": "dd9702d9"
   },
   "source": [
    "---\n",
    "\n",
    "### Задача 6\n",
    "\n",
    "Изучите, с какими данными показывают самую сильную корреляцию рейтинги заведений? Постройте и визуализируйте матрицу корреляции рейтинга заведения с разными данными: его категория, положение (административный район Москвы), статус сетевого заведения, количество мест, ценовая категория и признак, является ли заведения круглосуточным. Выберите самую сильную связь и проверьте её."
   ]
  },
  {
   "cell_type": "code",
   "execution_count": 67,
   "id": "e9bdc811",
   "metadata": {},
   "outputs": [
    {
     "name": "stdout",
     "output_type": "stream",
     "text": [
      "interval columns not set, guessing: ['rating', 'chain', 'seats']\n"
     ]
    }
   ],
   "source": [
    "# Вычисляем корреляционную матрицу с использованием phi_k\n",
    "correlation_matrix= df[['rating','category','district','chain','seats','price','is_24_7']].phik_matrix()"
   ]
  },
  {
   "cell_type": "code",
   "execution_count": 68,
   "id": "e6152ec2",
   "metadata": {},
   "outputs": [
    {
     "data": {
      "text/html": [
       "<div>\n",
       "<style scoped>\n",
       "    .dataframe tbody tr th:only-of-type {\n",
       "        vertical-align: middle;\n",
       "    }\n",
       "\n",
       "    .dataframe tbody tr th {\n",
       "        vertical-align: top;\n",
       "    }\n",
       "\n",
       "    .dataframe thead th {\n",
       "        text-align: right;\n",
       "    }\n",
       "</style>\n",
       "<table border=\"1\" class=\"dataframe\">\n",
       "  <thead>\n",
       "    <tr style=\"text-align: right;\">\n",
       "      <th></th>\n",
       "      <th>rating</th>\n",
       "    </tr>\n",
       "  </thead>\n",
       "  <tbody>\n",
       "    <tr>\n",
       "      <th>price</th>\n",
       "      <td>0.281294</td>\n",
       "    </tr>\n",
       "    <tr>\n",
       "      <th>district</th>\n",
       "      <td>0.200691</td>\n",
       "    </tr>\n",
       "    <tr>\n",
       "      <th>category</th>\n",
       "      <td>0.190003</td>\n",
       "    </tr>\n",
       "    <tr>\n",
       "      <th>is_24_7</th>\n",
       "      <td>0.150173</td>\n",
       "    </tr>\n",
       "    <tr>\n",
       "      <th>chain</th>\n",
       "      <td>0.108092</td>\n",
       "    </tr>\n",
       "    <tr>\n",
       "      <th>seats</th>\n",
       "      <td>0.000000</td>\n",
       "    </tr>\n",
       "  </tbody>\n",
       "</table>\n",
       "</div>"
      ],
      "text/plain": [
       "            rating\n",
       "price     0.281294\n",
       "district  0.200691\n",
       "category  0.190003\n",
       "is_24_7   0.150173\n",
       "chain     0.108092\n",
       "seats     0.000000"
      ]
     },
     "execution_count": 68,
     "metadata": {},
     "output_type": "execute_result"
    }
   ],
   "source": [
    "# Выводим результат\n",
    "correlation_matrix.loc[correlation_matrix.index != 'rating'][['rating']].sort_values(by='rating', ascending=False)"
   ]
  },
  {
   "cell_type": "markdown",
   "id": "8fd4121a",
   "metadata": {},
   "source": [
    "Наибольшая корреляция происходит со столбцом price "
   ]
  },
  {
   "cell_type": "code",
   "execution_count": 69,
   "id": "b752ce7d",
   "metadata": {},
   "outputs": [
    {
     "data": {
      "text/plain": [
       "Text(0.5, 1.0, 'Тепловая карта коэффициента phi_k \\n для данных rating')"
      ]
     },
     "execution_count": 69,
     "metadata": {},
     "output_type": "execute_result"
    },
    {
     "data": {
      "image/png": "[encoded data removed]",
      "text/plain": [
       "<Figure size 144x432 with 1 Axes>"
      ]
     },
     "metadata": {
      "needs_background": "light"
     },
     "output_type": "display_data"
    }
   ],
   "source": [
    "# Строим тепловую карту\n",
    "plt.figure(figsize=(2, 6))\n",
    "data_heatmap = correlation_matrix.loc[correlation_matrix.index != 'rating'][['rating']]\\\n",
    ".sort_values(by='rating', ascending=False)\n",
    "sns.heatmap(data_heatmap, annot=True,\n",
    "            fmt='.2f',\n",
    "            cmap='coolwarm',\n",
    "            linewidths=0.5,\n",
    "            cbar=False )\n",
    "plt.title('Тепловая карта коэффициента phi_k \\n для данных rating')\n",
    "\n"
   ]
  },
  {
   "cell_type": "code",
   "execution_count": 70,
   "id": "21d50341",
   "metadata": {},
   "outputs": [
    {
     "data": {
      "text/plain": [
       "Text(0, 0.5, 'Рейтинг')"
      ]
     },
     "execution_count": 70,
     "metadata": {},
     "output_type": "execute_result"
    },
    {
     "data": {
      "image/png": "[encoded data removed]",
      "text/plain": [
       "<Figure size 720x432 with 1 Axes>"
      ]
     },
     "metadata": {
      "needs_background": "light"
     },
     "output_type": "display_data"
    }
   ],
   "source": [
    "plt.figure(figsize=(10, 6))\n",
    "sns.boxplot(x='price', y='rating', data=df,)\n",
    "plt.title('Влияние ценовой категории на рейтинг заведений')\n",
    "plt.xlabel('Ценовая категория')\n",
    "plt.ylabel('Рейтинг')"
   ]
  },
  {
   "cell_type": "markdown",
   "id": "1213e199",
   "metadata": {},
   "source": [
    "На основании проведенного анализа можно сделать вывод, что ценовая категория является самым сильным фактором, влияющим на рейтинг заведений. Это может быть полезно для владельцев ресторанов и заведений общественного питания при принятии решений о ценообразовании и позиционировании на рынке. Учитывая, что ценовая категория оказывает значительное влияние на восприятие качества заведений."
   ]
  },
  {
   "cell_type": "markdown",
   "id": "370de703",
   "metadata": {
    "id": "370de703"
   },
   "source": [
    "---\n",
    "\n",
    "### Задача 7\n",
    "\n",
    "Сгруппируйте данные по названиям заведений и найдите топ-15 популярных сетей в Москве. Для них посчитайте значения среднего рейтинга. Под популярностью понимается количество заведений этой сети в регионе. К какой категории заведений они относятся? Результат сопроводите подходящими визуализациями."
   ]
  },
  {
   "cell_type": "code",
   "execution_count": 71,
   "id": "3df261a1",
   "metadata": {},
   "outputs": [],
   "source": [
    "# Фильтруем данные, чтобы оставить только те строки, где chain равно 1(т.е сетевые)\n",
    "filtered_df = df[df['chain'] == 1]"
   ]
  },
  {
   "cell_type": "code",
   "execution_count": 72,
   "id": "5d828a9a",
   "metadata": {
    "id": "5d828a9a"
   },
   "outputs": [],
   "source": [
    "# Группируем данные по сети и считаем количество заведений и средний рейтинг\n",
    "top_chains = filtered_df.groupby(['name', 'category']).agg(\n",
    "    count=('name','size'),  # Количество заведений\n",
    "    average_rating=('rating', 'mean')  # Средний рейтинг\n",
    ").reset_index()"
   ]
  },
  {
   "cell_type": "code",
   "execution_count": 73,
   "id": "6652413e",
   "metadata": {},
   "outputs": [
    {
     "data": {
      "text/html": [
       "<div>\n",
       "<style scoped>\n",
       "    .dataframe tbody tr th:only-of-type {\n",
       "        vertical-align: middle;\n",
       "    }\n",
       "\n",
       "    .dataframe tbody tr th {\n",
       "        vertical-align: top;\n",
       "    }\n",
       "\n",
       "    .dataframe thead th {\n",
       "        text-align: right;\n",
       "    }\n",
       "</style>\n",
       "<table border=\"1\" class=\"dataframe\">\n",
       "  <thead>\n",
       "    <tr style=\"text-align: right;\">\n",
       "      <th></th>\n",
       "      <th>name</th>\n",
       "      <th>category</th>\n",
       "      <th>count</th>\n",
       "      <th>average_rating</th>\n",
       "    </tr>\n",
       "  </thead>\n",
       "  <tbody>\n",
       "    <tr>\n",
       "      <th>0</th>\n",
       "      <td>1-я Креветочная</td>\n",
       "      <td>кафе</td>\n",
       "      <td>1</td>\n",
       "      <td>3.700000</td>\n",
       "    </tr>\n",
       "    <tr>\n",
       "      <th>1</th>\n",
       "      <td>10 Идеальных Пицц</td>\n",
       "      <td>ресторан</td>\n",
       "      <td>3</td>\n",
       "      <td>4.300000</td>\n",
       "    </tr>\n",
       "    <tr>\n",
       "      <th>2</th>\n",
       "      <td>18 Грамм</td>\n",
       "      <td>кофейня</td>\n",
       "      <td>3</td>\n",
       "      <td>4.466667</td>\n",
       "    </tr>\n",
       "    <tr>\n",
       "      <th>3</th>\n",
       "      <td>4 Сезона</td>\n",
       "      <td>кафе</td>\n",
       "      <td>1</td>\n",
       "      <td>4.700000</td>\n",
       "    </tr>\n",
       "    <tr>\n",
       "      <th>4</th>\n",
       "      <td>7 Сэндвичей</td>\n",
       "      <td>кофейня</td>\n",
       "      <td>4</td>\n",
       "      <td>3.975000</td>\n",
       "    </tr>\n",
       "    <tr>\n",
       "      <th>...</th>\n",
       "      <td>...</td>\n",
       "      <td>...</td>\n",
       "      <td>...</td>\n",
       "      <td>...</td>\n",
       "    </tr>\n",
       "    <tr>\n",
       "      <th>1157</th>\n",
       "      <td>Ян Примус</td>\n",
       "      <td>ресторан</td>\n",
       "      <td>2</td>\n",
       "      <td>4.550000</td>\n",
       "    </tr>\n",
       "    <tr>\n",
       "      <th>1158</th>\n",
       "      <td>Яндекс Лавка</td>\n",
       "      <td>ресторан</td>\n",
       "      <td>69</td>\n",
       "      <td>3.872464</td>\n",
       "    </tr>\n",
       "    <tr>\n",
       "      <th>1159</th>\n",
       "      <td>Яндекс.Лавка</td>\n",
       "      <td>ресторан</td>\n",
       "      <td>3</td>\n",
       "      <td>3.466667</td>\n",
       "    </tr>\n",
       "    <tr>\n",
       "      <th>1160</th>\n",
       "      <td>Японская кухня</td>\n",
       "      <td>кафе</td>\n",
       "      <td>2</td>\n",
       "      <td>4.500000</td>\n",
       "    </tr>\n",
       "    <tr>\n",
       "      <th>1161</th>\n",
       "      <td>Японская кухня</td>\n",
       "      <td>ресторан</td>\n",
       "      <td>2</td>\n",
       "      <td>4.350000</td>\n",
       "    </tr>\n",
       "  </tbody>\n",
       "</table>\n",
       "<p>1162 rows × 4 columns</p>\n",
       "</div>"
      ],
      "text/plain": [
       "                   name  category  count  average_rating\n",
       "0       1-я Креветочная      кафе      1        3.700000\n",
       "1     10 Идеальных Пицц  ресторан      3        4.300000\n",
       "2              18 Грамм   кофейня      3        4.466667\n",
       "3              4 Сезона      кафе      1        4.700000\n",
       "4           7 Сэндвичей   кофейня      4        3.975000\n",
       "...                 ...       ...    ...             ...\n",
       "1157          Ян Примус  ресторан      2        4.550000\n",
       "1158       Яндекс Лавка  ресторан     69        3.872464\n",
       "1159       Яндекс.Лавка  ресторан      3        3.466667\n",
       "1160     Японская кухня      кафе      2        4.500000\n",
       "1161     Японская кухня  ресторан      2        4.350000\n",
       "\n",
       "[1162 rows x 4 columns]"
      ]
     },
     "execution_count": 73,
     "metadata": {},
     "output_type": "execute_result"
    }
   ],
   "source": [
    "top_chains"
   ]
  },
  {
   "cell_type": "code",
   "execution_count": 74,
   "id": "2f4c2a5d",
   "metadata": {},
   "outputs": [],
   "source": [
    "top_15_chains = top_chains.sort_values(by='count', ascending=False).head(15)"
   ]
  },
  {
   "cell_type": "code",
   "execution_count": 75,
   "id": "9a870f60",
   "metadata": {},
   "outputs": [
    {
     "data": {
      "text/html": [
       "<div>\n",
       "<style scoped>\n",
       "    .dataframe tbody tr th:only-of-type {\n",
       "        vertical-align: middle;\n",
       "    }\n",
       "\n",
       "    .dataframe tbody tr th {\n",
       "        vertical-align: top;\n",
       "    }\n",
       "\n",
       "    .dataframe thead th {\n",
       "        text-align: right;\n",
       "    }\n",
       "</style>\n",
       "<table border=\"1\" class=\"dataframe\">\n",
       "  <thead>\n",
       "    <tr style=\"text-align: right;\">\n",
       "      <th></th>\n",
       "      <th>name</th>\n",
       "      <th>category</th>\n",
       "      <th>count</th>\n",
       "      <th>average_rating</th>\n",
       "    </tr>\n",
       "  </thead>\n",
       "  <tbody>\n",
       "    <tr>\n",
       "      <th>1142</th>\n",
       "      <td>Шоколадница</td>\n",
       "      <td>кофейня</td>\n",
       "      <td>119</td>\n",
       "      <td>4.178151</td>\n",
       "    </tr>\n",
       "    <tr>\n",
       "      <th>504</th>\n",
       "      <td>Домино'с Пицца</td>\n",
       "      <td>пиццерия</td>\n",
       "      <td>76</td>\n",
       "      <td>4.169737</td>\n",
       "    </tr>\n",
       "    <tr>\n",
       "      <th>497</th>\n",
       "      <td>Додо Пицца</td>\n",
       "      <td>пиццерия</td>\n",
       "      <td>74</td>\n",
       "      <td>4.286486</td>\n",
       "    </tr>\n",
       "    <tr>\n",
       "      <th>206</th>\n",
       "      <td>One Price Coffee</td>\n",
       "      <td>кофейня</td>\n",
       "      <td>71</td>\n",
       "      <td>4.064789</td>\n",
       "    </tr>\n",
       "    <tr>\n",
       "      <th>1158</th>\n",
       "      <td>Яндекс Лавка</td>\n",
       "      <td>ресторан</td>\n",
       "      <td>69</td>\n",
       "      <td>3.872464</td>\n",
       "    </tr>\n",
       "    <tr>\n",
       "      <th>73</th>\n",
       "      <td>Cofix</td>\n",
       "      <td>кофейня</td>\n",
       "      <td>65</td>\n",
       "      <td>4.075385</td>\n",
       "    </tr>\n",
       "    <tr>\n",
       "      <th>242</th>\n",
       "      <td>Prime</td>\n",
       "      <td>ресторан</td>\n",
       "      <td>49</td>\n",
       "      <td>4.114286</td>\n",
       "    </tr>\n",
       "    <tr>\n",
       "      <th>558</th>\n",
       "      <td>КОФЕПОРТ</td>\n",
       "      <td>кофейня</td>\n",
       "      <td>42</td>\n",
       "      <td>4.147619</td>\n",
       "    </tr>\n",
       "    <tr>\n",
       "      <th>644</th>\n",
       "      <td>Кулинарная лавка братьев Караваевых</td>\n",
       "      <td>кафе</td>\n",
       "      <td>39</td>\n",
       "      <td>4.394872</td>\n",
       "    </tr>\n",
       "    <tr>\n",
       "      <th>978</th>\n",
       "      <td>Теремок</td>\n",
       "      <td>ресторан</td>\n",
       "      <td>36</td>\n",
       "      <td>4.105556</td>\n",
       "    </tr>\n",
       "    <tr>\n",
       "      <th>51</th>\n",
       "      <td>CofeFest</td>\n",
       "      <td>кофейня</td>\n",
       "      <td>31</td>\n",
       "      <td>3.977419</td>\n",
       "    </tr>\n",
       "    <tr>\n",
       "      <th>1065</th>\n",
       "      <td>Чайхана</td>\n",
       "      <td>кафе</td>\n",
       "      <td>26</td>\n",
       "      <td>3.946154</td>\n",
       "    </tr>\n",
       "    <tr>\n",
       "      <th>389</th>\n",
       "      <td>Буханка</td>\n",
       "      <td>булочная</td>\n",
       "      <td>25</td>\n",
       "      <td>4.416000</td>\n",
       "    </tr>\n",
       "    <tr>\n",
       "      <th>90</th>\n",
       "      <td>Drive Café</td>\n",
       "      <td>кафе</td>\n",
       "      <td>24</td>\n",
       "      <td>4.025000</td>\n",
       "    </tr>\n",
       "    <tr>\n",
       "      <th>629</th>\n",
       "      <td>Кофемания</td>\n",
       "      <td>кофейня</td>\n",
       "      <td>22</td>\n",
       "      <td>4.463636</td>\n",
       "    </tr>\n",
       "  </tbody>\n",
       "</table>\n",
       "</div>"
      ],
      "text/plain": [
       "                                     name  category  count  average_rating\n",
       "1142                          Шоколадница   кофейня    119        4.178151\n",
       "504                        Домино'с Пицца  пиццерия     76        4.169737\n",
       "497                            Додо Пицца  пиццерия     74        4.286486\n",
       "206                      One Price Coffee   кофейня     71        4.064789\n",
       "1158                         Яндекс Лавка  ресторан     69        3.872464\n",
       "73                                  Cofix   кофейня     65        4.075385\n",
       "242                                 Prime  ресторан     49        4.114286\n",
       "558                              КОФЕПОРТ   кофейня     42        4.147619\n",
       "644   Кулинарная лавка братьев Караваевых      кафе     39        4.394872\n",
       "978                               Теремок  ресторан     36        4.105556\n",
       "51                               CofeFest   кофейня     31        3.977419\n",
       "1065                              Чайхана      кафе     26        3.946154\n",
       "389                               Буханка  булочная     25        4.416000\n",
       "90                             Drive Café      кафе     24        4.025000\n",
       "629                             Кофемания   кофейня     22        4.463636"
      ]
     },
     "execution_count": 75,
     "metadata": {},
     "output_type": "execute_result"
    }
   ],
   "source": [
    "top_15_chains"
   ]
  },
  {
   "cell_type": "code",
   "execution_count": 76,
   "id": "c7caebe3",
   "metadata": {},
   "outputs": [],
   "source": [
    "top_15_chains_cat= top_15_chains.groupby(['count','category'])"
   ]
  },
  {
   "cell_type": "code",
   "execution_count": 77,
   "id": "08764499",
   "metadata": {},
   "outputs": [
    {
     "data": {
      "image/png": "[encoded data removed]",
      "text/plain": [
       "<Figure size 864x576 with 1 Axes>"
      ]
     },
     "metadata": {
      "needs_background": "light"
     },
     "output_type": "display_data"
    }
   ],
   "source": [
    "plt.figure(figsize=(12, 8))\n",
    "sns.barplot(x='count', y='name', data=top_15_chains, hue='category', palette='dark')\n",
    "plt.title('Топ-15 популярных сетей в Москве по количеству заведений')\n",
    "plt.xlabel('Количество заведений')\n",
    "plt.ylabel('Название сети')\n",
    "plt.grid(True)"
   ]
  },
  {
   "cell_type": "markdown",
   "id": "41a9f862",
   "metadata": {},
   "source": [
    "Среди сетей лидером по количеству заведений является кофейня Шоколадница - практически 120 заведений. Из графика видно,что больше всего объектов одной сети встречается в категории Кофейня.\n",
    "\n",
    "В ходе анализа мы сгруппировали данные по названиям заведений и определили топ-15 популярных сетей в Москве на основе количества заведений. Мы также рассчитали средний рейтинг для каждой из этих сетей и проанализировали их категории.\n",
    "\n",
    "1. Топ-3 по количеству заведений:  \n",
    "Шоколадница - 119 заведений  \n",
    "Домино'с Пицца - 76 заведений  \n",
    "Додо Пицца - 74 заведения  \n",
    "2. Топ-3 по среднему рейтингу:  \n",
    "Кофемания - средний рейтинг 4.39  \n",
    "Буханка - средний рейтинг 4.41  \n",
    "Кулинарная лавка братьев Караваевых - средний рейтинг 4.39\n",
    "3. Топ-3 по категории заведений:\n",
    "- Кофейни:  \n",
    "  Шоколадница  \n",
    "  One Price Coffee  \n",
    "  Cofix\n",
    "- Пиццерии:  \n",
    "  Домино'с Пицца  \n",
    "  Додо Пицца\n",
    "- Рестораны:  \n",
    "  Яндекс Лавка  \n",
    "  Prime  \n",
    "  Теремок"
   ]
  },
  {
   "cell_type": "markdown",
   "id": "85a90a94",
   "metadata": {
    "id": "85a90a94"
   },
   "source": [
    "---\n",
    "\n",
    "### Задача 8\n",
    "\n",
    "Изучите вариацию среднего чека заведения (столбец `middle_avg_bill`) в зависимости от района Москвы. Проанализируйте цены в Центральном административном округе и других. Как удалённость от центра влияет на цены в заведениях? Результат сопроводите подходящими визуализациями.\n"
   ]
  },
  {
   "cell_type": "code",
   "execution_count": 78,
   "id": "48a9bf49",
   "metadata": {},
   "outputs": [],
   "source": [
    "#  Фильтруем данные, чтобы исключить записи с недоступными значениями\n",
    "filtered_avg_bill = df[df['middle_avg_bill'] != -1]"
   ]
  },
  {
   "cell_type": "code",
   "execution_count": 79,
   "id": "a00744b4",
   "metadata": {},
   "outputs": [],
   "source": [
    "average_bill_by_district = filtered_avg_bill.groupby('district')['middle_avg_bill'].mean().reset_index()"
   ]
  },
  {
   "cell_type": "code",
   "execution_count": 80,
   "id": "3e938250",
   "metadata": {},
   "outputs": [],
   "source": [
    "average_bill_by_district = average_bill_by_district.sort_values(by='middle_avg_bill', ascending=False)"
   ]
  },
  {
   "cell_type": "code",
   "execution_count": 81,
   "id": "0cfa4474",
   "metadata": {},
   "outputs": [
    {
     "data": {
      "image/png": "[encoded data removed]",
      "text/plain": [
       "<Figure size 864x576 with 1 Axes>"
      ]
     },
     "metadata": {
      "needs_background": "light"
     },
     "output_type": "display_data"
    }
   ],
   "source": [
    "plt.figure(figsize=(12, 8))\n",
    "sns.barplot(x='middle_avg_bill', y='district', data=average_bill_by_district, color='skyblue')\n",
    "plt.title('Средний чек заведений по районам Москвы')\n",
    "plt.xlabel('Средний чек (₽)')\n",
    "plt.ylabel('Район')\n",
    "plt.grid(True)"
   ]
  },
  {
   "cell_type": "code",
   "execution_count": 82,
   "id": "3ce40e05",
   "metadata": {},
   "outputs": [],
   "source": [
    "central_avg = average_bill_by_district[average_bill_by_district['district'] == 'Центральный административный округ']['middle_avg_bill'].values[0]\n",
    "other_avg = average_bill_by_district[average_bill_by_district['district'] != 'Центральный административный округ']['middle_avg_bill'].mean()"
   ]
  },
  {
   "cell_type": "code",
   "execution_count": 83,
   "id": "cd2ef341",
   "metadata": {},
   "outputs": [
    {
     "data": {
      "text/plain": [
       "1191.06"
      ]
     },
     "execution_count": 83,
     "metadata": {},
     "output_type": "execute_result"
    }
   ],
   "source": [
    "#Средний чек в Центральном административном округе\n",
    "round(central_avg,2)"
   ]
  },
  {
   "cell_type": "code",
   "execution_count": 84,
   "id": "f3c9340b",
   "metadata": {},
   "outputs": [
    {
     "data": {
      "text/plain": [
       "827.71"
      ]
     },
     "execution_count": 84,
     "metadata": {},
     "output_type": "execute_result"
    }
   ],
   "source": [
    "#Средний чек в остальных округах\n",
    "round(other_avg,2)"
   ]
  },
  {
   "cell_type": "code",
   "execution_count": 85,
   "id": "6f51b4b1",
   "metadata": {},
   "outputs": [],
   "source": [
    "def classify_distance(row):\n",
    "    if row['district'] == 'Центральный административный округ':\n",
    "        return 'Центр'\n",
    "    elif row['district'] in ['Северный административный округ', 'Северо-Восточный административный округ', \n",
    "                              'Северо-Западный административный округ', 'Западный административный округ']:\n",
    "        return 'Ближе к центру'\n",
    "    else:\n",
    "        return 'Дальше от центра'"
   ]
  },
  {
   "cell_type": "code",
   "execution_count": 86,
   "id": "e402705d",
   "metadata": {},
   "outputs": [],
   "source": [
    "pd.options.mode.chained_assignment = None"
   ]
  },
  {
   "cell_type": "code",
   "execution_count": 87,
   "id": "bc47c7fc",
   "metadata": {},
   "outputs": [],
   "source": [
    "filtered_avg_bill['distance_category'] = filtered_avg_bill.apply(classify_distance, axis=1)"
   ]
  },
  {
   "cell_type": "code",
   "execution_count": 88,
   "id": "d28a9dd0",
   "metadata": {},
   "outputs": [],
   "source": [
    "average_bill_by_distance = filtered_avg_bill.groupby('distance_category')['middle_avg_bill'].mean().reset_index()"
   ]
  },
  {
   "cell_type": "code",
   "execution_count": 89,
   "id": "0f39a6c7",
   "metadata": {},
   "outputs": [
    {
     "data": {
      "image/png": "[encoded data removed]",
      "text/plain": [
       "<Figure size 576x432 with 1 Axes>"
      ]
     },
     "metadata": {
      "needs_background": "light"
     },
     "output_type": "display_data"
    }
   ],
   "source": [
    "plt.figure(figsize=(8, 6))\n",
    "sns.barplot(x='distance_category', y='middle_avg_bill', data=average_bill_by_distance, palette='viridis')\n",
    "plt.title('Влияние удаленности от центра на средний чек заведений')\n",
    "plt.xlabel('Категория удаленности')\n",
    "plt.ylabel('Средний чек (₽)')\n",
    "plt.grid()"
   ]
  },
  {
   "cell_type": "code",
   "execution_count": 90,
   "id": "dd5c888a",
   "metadata": {},
   "outputs": [
    {
     "data": {
      "text/html": [
       "<div>\n",
       "<style scoped>\n",
       "    .dataframe tbody tr th:only-of-type {\n",
       "        vertical-align: middle;\n",
       "    }\n",
       "\n",
       "    .dataframe tbody tr th {\n",
       "        vertical-align: top;\n",
       "    }\n",
       "\n",
       "    .dataframe thead th {\n",
       "        text-align: right;\n",
       "    }\n",
       "</style>\n",
       "<table border=\"1\" class=\"dataframe\">\n",
       "  <thead>\n",
       "    <tr style=\"text-align: right;\">\n",
       "      <th></th>\n",
       "      <th>distance_category</th>\n",
       "      <th>middle_avg_bill</th>\n",
       "    </tr>\n",
       "  </thead>\n",
       "  <tbody>\n",
       "    <tr>\n",
       "      <th>0</th>\n",
       "      <td>Ближе к центру</td>\n",
       "      <td>889.391344</td>\n",
       "    </tr>\n",
       "    <tr>\n",
       "      <th>1</th>\n",
       "      <td>Дальше от центра</td>\n",
       "      <td>786.152542</td>\n",
       "    </tr>\n",
       "    <tr>\n",
       "      <th>2</th>\n",
       "      <td>Центр</td>\n",
       "      <td>1191.057547</td>\n",
       "    </tr>\n",
       "  </tbody>\n",
       "</table>\n",
       "</div>"
      ],
      "text/plain": [
       "  distance_category  middle_avg_bill\n",
       "0    Ближе к центру       889.391344\n",
       "1  Дальше от центра       786.152542\n",
       "2             Центр      1191.057547"
      ]
     },
     "execution_count": 90,
     "metadata": {},
     "output_type": "execute_result"
    }
   ],
   "source": [
    "average_bill_by_distance"
   ]
  },
  {
   "cell_type": "markdown",
   "id": "6aabe47e",
   "metadata": {},
   "source": [
    " Cредний чек в Центральном административном округе будет значительно выше, это может указывать на то, что заведения в центре ориентированы на более состоятельных клиентов или предлагают более высококачественные услуги.Cредний чек в категории \"Дальше от центра\" значительно ниже, это может указывать на более низкий уровень цен в этих районах, что может быть связано с меньшей покупательской способностью или меньшей конкуренцией."
   ]
  },
  {
   "cell_type": "markdown",
   "id": "c150bd4f",
   "metadata": {
    "id": "c150bd4f"
   },
   "source": [
    "---\n",
    "\n",
    "### Задача 9\n",
    "\n",
    " При необходимости проведите исследования других данных и их взаимосвязи. Например, часы работы заведений или стоимость чашки кофе в зависимости от расположения или типа заведения.\n"
   ]
  },
  {
   "cell_type": "code",
   "execution_count": 91,
   "id": "4e7e0f63",
   "metadata": {},
   "outputs": [],
   "source": [
    "# Фильтруем данные, чтобы исключить записи с недоступными значениями\n",
    "filtered_coffee = df[df['middle_coffee_cup'] != -1]"
   ]
  },
  {
   "cell_type": "code",
   "execution_count": 92,
   "id": "5ee8b279",
   "metadata": {
    "id": "5ee8b279"
   },
   "outputs": [],
   "source": [
    "# посмотрим на среднюю/медианную стоимость  чашки кофе  по всем заведениям\n",
    "coffee_stats = filtered_coffee['middle_coffee_cup'].describe()"
   ]
  },
  {
   "cell_type": "code",
   "execution_count": 93,
   "id": "c6a666d9",
   "metadata": {
    "id": "c6a666d9"
   },
   "outputs": [],
   "source": [
    "median_coffee_by_district = filtered_coffee.groupby('district')['middle_coffee_cup'].median().reset_index()\n",
    "median_coffee_by_district = median_coffee_by_district.sort_values(by='middle_coffee_cup', ascending=False)"
   ]
  },
  {
   "cell_type": "code",
   "execution_count": 94,
   "id": "66f8e2f6",
   "metadata": {},
   "outputs": [
    {
     "data": {
      "text/html": [
       "<div>\n",
       "<style scoped>\n",
       "    .dataframe tbody tr th:only-of-type {\n",
       "        vertical-align: middle;\n",
       "    }\n",
       "\n",
       "    .dataframe tbody tr th {\n",
       "        vertical-align: top;\n",
       "    }\n",
       "\n",
       "    .dataframe thead th {\n",
       "        text-align: right;\n",
       "    }\n",
       "</style>\n",
       "<table border=\"1\" class=\"dataframe\">\n",
       "  <thead>\n",
       "    <tr style=\"text-align: right;\">\n",
       "      <th></th>\n",
       "      <th>district</th>\n",
       "      <th>middle_coffee_cup</th>\n",
       "    </tr>\n",
       "  </thead>\n",
       "  <tbody>\n",
       "    <tr>\n",
       "      <th>7</th>\n",
       "      <td>Юго-Западный административный округ</td>\n",
       "      <td>197.0</td>\n",
       "    </tr>\n",
       "    <tr>\n",
       "      <th>5</th>\n",
       "      <td>Центральный административный округ</td>\n",
       "      <td>190.0</td>\n",
       "    </tr>\n",
       "    <tr>\n",
       "      <th>1</th>\n",
       "      <td>Западный административный округ</td>\n",
       "      <td>187.0</td>\n",
       "    </tr>\n",
       "    <tr>\n",
       "      <th>3</th>\n",
       "      <td>Северо-Восточный административный округ</td>\n",
       "      <td>162.5</td>\n",
       "    </tr>\n",
       "    <tr>\n",
       "      <th>2</th>\n",
       "      <td>Северный административный округ</td>\n",
       "      <td>159.0</td>\n",
       "    </tr>\n",
       "    <tr>\n",
       "      <th>4</th>\n",
       "      <td>Северо-Западный административный округ</td>\n",
       "      <td>150.0</td>\n",
       "    </tr>\n",
       "    <tr>\n",
       "      <th>8</th>\n",
       "      <td>Южный административный округ</td>\n",
       "      <td>149.5</td>\n",
       "    </tr>\n",
       "    <tr>\n",
       "      <th>6</th>\n",
       "      <td>Юго-Восточный административный округ</td>\n",
       "      <td>145.0</td>\n",
       "    </tr>\n",
       "    <tr>\n",
       "      <th>0</th>\n",
       "      <td>Восточный административный округ</td>\n",
       "      <td>135.0</td>\n",
       "    </tr>\n",
       "  </tbody>\n",
       "</table>\n",
       "</div>"
      ],
      "text/plain": [
       "                                  district  middle_coffee_cup\n",
       "7      Юго-Западный административный округ              197.0\n",
       "5       Центральный административный округ              190.0\n",
       "1          Западный административный округ              187.0\n",
       "3  Северо-Восточный административный округ              162.5\n",
       "2          Северный административный округ              159.0\n",
       "4   Северо-Западный административный округ              150.0\n",
       "8             Южный административный округ              149.5\n",
       "6     Юго-Восточный административный округ              145.0\n",
       "0         Восточный административный округ              135.0"
      ]
     },
     "execution_count": 94,
     "metadata": {},
     "output_type": "execute_result"
    }
   ],
   "source": [
    "median_coffee_by_district"
   ]
  },
  {
   "cell_type": "code",
   "execution_count": 95,
   "id": "618096b5",
   "metadata": {
    "id": "618096b5"
   },
   "outputs": [
    {
     "data": {
      "text/plain": [
       "Text(0, 0.5, 'Район')"
      ]
     },
     "execution_count": 95,
     "metadata": {},
     "output_type": "execute_result"
    },
    {
     "data": {
      "image/png": "[encoded data removed]",
      "text/plain": [
       "<Figure size 864x576 with 1 Axes>"
      ]
     },
     "metadata": {
      "needs_background": "light"
     },
     "output_type": "display_data"
    }
   ],
   "source": [
    "# Визуализируем медианную стоимость чашки кофе по районам\n",
    "plt.figure(figsize=(12, 8))\n",
    "sns.barplot(x='middle_coffee_cup', y='district', data=median_coffee_by_district, color='skyblue')\n",
    "plt.title('Медианная стоимость чашки кофе по районам Москвы')\n",
    "plt.xlabel('Стоимость чашки кофе (₽)')\n",
    "plt.ylabel('Район')"
   ]
  },
  {
   "cell_type": "markdown",
   "id": "fe6a3756",
   "metadata": {},
   "source": [
    "В Юго-Западном административном округе самая дорогая стоимость чашки кофе, а в Восточном наоборот самая недорогая."
   ]
  },
  {
   "cell_type": "markdown",
   "id": "480f3422",
   "metadata": {
    "id": "480f3422"
   },
   "source": [
    "## 4. Итоговый вывод и рекомендации\n",
    "\n",
    "По результатам проведённого исследовательского анализа данных сформулируйте итоговый вывод и рекомендации для заказчика. Старайтесь акцентировать внимание на ключевых моментах исследования.\n",
    "\n",
    "При составлении вывода придерживайтесь такой структуры:\n",
    "\n",
    "1. Общий обзор проделанной работы.\n",
    "2. Ответы на исследовательские вопросы, или главные выводы.\n",
    "3. Рекомендации на основе анализа данных."
   ]
  },
  {
   "cell_type": "markdown",
   "id": "6e870ee8",
   "metadata": {},
   "source": [
    "В ходе  исследования я проанализировал данные о заведениях общественного питания в Москве, используя два основных датасета: /datasets/rest_info.csv и /datasets/rest_price.csv. Мы выполнили следующие шаги:\n",
    "\n",
    "Загрузка и знакомство с данными: Данные были загружены и проанализированы на наличие пропусков и соответствие описанию.\n",
    "- Предобработка данных:  \n",
    "Объединение датасетов, обработка пропусков, проверка типов данных и создание новых признаков.\n",
    "* Исследовательский анализ данных:  \n",
    "- Категории заведений:  \n",
    "Наибольшее количество заведений представлено кафе (2378) и ресторанами (2043). Это указывает на их популярность среди потребителей.\n",
    "- Административные районы:  \n",
    "Центральный административный округ имеет наибольшее количество заведений (2242), что может свидетельствовать о высокой конкуренции и проходимости.\n",
    "В Центральном округе рестораны занимают первое место по количеству заведений (670), что составляет 29.88% от общего числа заведений в этом округе.\n",
    "- Сетевые и несетевые заведения:  \n",
    "В Москве больше несетевых заведений (5201, 61.87%) по сравнению с сетевыми (3205, 38.13%).\n",
    "Наибольшее количество сетевых заведений наблюдается в булочных (61%), пиццериях (52%) и кофейнях (50%).\n",
    "- Количество посадочных мест:  \n",
    "Рестораны имеют наибольшее медианное количество мест (86), в то время как булочные имеют наименьшее (50). Это может быть связано с форматом обслуживания и целевой аудиторией каждого типа заведения.\n",
    "- Рейтинг заведений:  \n",
    "Средний рейтинг заведений варьируется: у баров и пабов самый высокий рейтинг (4.39), а у категории \"быстрое питание\" самый низкий (4.05). Это подчеркивает важность поддержания высокого стандарта качества.\n",
    "- Корреляция рейтингов:    \n",
    "Наибольшая корреляция наблюдается с ценовой категорией (0.281), что указывает на то, что ценовая категория является важным фактором, влияющим на рейтинг заведений.\n",
    "- Топ-15 популярных сетей:  \n",
    "\n",
    "Лидером по количеству заведений является кофейня Шоколадница с 119 заведениями, и её средний рейтинг составляет 4.18.\n",
    "Топ-3 по количеству заведений:\n",
    "Шоколадница - 119 заведений\n",
    "Домино'с Пицца - 76 заведений\n",
    "Додо Пицца - 74 заведения\n",
    "Топ-3 по среднему рейтингу:\n",
    "Буханка - 4.41\n",
    "Кофемания - 4.39\n",
    "Кулинарная лавка братьев Караваевых - 4.39\n",
    "Влияние удаленности от центра на цены:\n",
    "\n",
    "- Вариация среднего чека в ЦАО:  \n",
    "Средний чек в Центральном административном округе составляет 1191.06 ₽, что значительно выше, чем в других округах (827.71 ₽). Это может указывать на то, что заведения в центре ориентированы на более состоятельных клиентов или предлагают более высококачественные услуги.\n",
    "\n",
    "- Средня стоимость чашки кофе:  \n",
    "В ходе исследования выснилось, что в  Юго-Западном административном округе самая дорогая средняя стоимость чашки кофе 197 руб., в Восточном наоборот самая дешёвая 135 руб.\n",
    "\n",
    "\n",
    "\n",
    "- Рекомендации на основе анализа данных:  \n",
    "* Расширение сети:  \n",
    "Рассмотреть возможность открытия новых заведений в менее популярных категориях, таких как столовые и булочные, которые могут иметь потенциал для роста.\n",
    "\n",
    "* Ценовая политика:  \n",
    "Учитывать, что заведения в центре имеют более высокие цены. Рекомендуется проводить анализ целевой аудитории и предлагать специальные предложения для привлечения клиентов.\n",
    "\n",
    "* Качество услуг:  \n",
    "Сосредоточиться на повышении качества обслуживания в заведениях, особенно в категориях с низким рейтингом, таких как \"быстрое питание\".\n",
    "\n",
    "* Выбор местоположения:  \n",
    "Рассмотреть открытие заведений в административных округах с высоким количеством заведений, таких как Центральный округ, что может привести к увеличению прибыли засчет проходимости."
   ]
  },
  {
   "cell_type": "markdown",
   "id": "6ae0fac3",
   "metadata": {},
   "source": [
    "[начало тетрадки](#intro)"
   ]
  },
  {
   "cell_type": "code",
   "execution_count": null,
   "id": "b4549894",
   "metadata": {},
   "outputs": [],
   "source": []
  }
 ],
 "metadata": {
  "ExecuteTimeLog": [
   {
    "duration": 413,
    "start_time": "2025-01-15T14:31:31.561Z"
   },
   {
    "duration": 1039,
    "start_time": "2025-01-15T14:33:01.933Z"
   },
   {
    "duration": 101,
    "start_time": "2025-01-15T14:33:20.608Z"
   },
   {
    "duration": 5,
    "start_time": "2025-01-15T14:35:32.428Z"
   },
   {
    "duration": 4,
    "start_time": "2025-01-15T14:35:32.435Z"
   },
   {
    "duration": 12,
    "start_time": "2025-01-15T14:35:32.440Z"
   },
   {
    "duration": 0,
    "start_time": "2025-01-15T14:39:21.164Z"
   },
   {
    "duration": 0,
    "start_time": "2025-01-15T14:39:21.166Z"
   },
   {
    "duration": 0,
    "start_time": "2025-01-15T14:39:21.167Z"
   },
   {
    "duration": 0,
    "start_time": "2025-01-15T14:39:21.168Z"
   },
   {
    "duration": 0,
    "start_time": "2025-01-15T14:39:21.170Z"
   },
   {
    "duration": 2,
    "start_time": "2025-01-15T14:49:50.024Z"
   },
   {
    "duration": 79740,
    "start_time": "2025-01-15T14:49:51.055Z"
   },
   {
    "duration": 17168,
    "start_time": "2025-01-15T14:51:10.797Z"
   },
   {
    "duration": 2,
    "start_time": "2025-01-15T14:51:27.967Z"
   },
   {
    "duration": 48,
    "start_time": "2025-01-15T14:51:27.971Z"
   },
   {
    "duration": 0,
    "start_time": "2025-01-15T14:51:28.021Z"
   },
   {
    "duration": 632903,
    "start_time": "2025-01-15T14:54:14.989Z"
   },
   {
    "duration": 40,
    "start_time": "2025-01-15T15:04:47.894Z"
   },
   {
    "duration": 0,
    "start_time": "2025-01-15T15:04:47.941Z"
   },
   {
    "duration": 0,
    "start_time": "2025-01-15T15:04:47.948Z"
   },
   {
    "duration": 0,
    "start_time": "2025-01-15T15:04:47.950Z"
   },
   {
    "duration": 0,
    "start_time": "2025-01-15T15:04:47.951Z"
   },
   {
    "duration": 0,
    "start_time": "2025-01-15T15:04:47.953Z"
   },
   {
    "duration": 0,
    "start_time": "2025-01-15T15:04:47.954Z"
   },
   {
    "duration": 0,
    "start_time": "2025-01-15T15:04:47.956Z"
   },
   {
    "duration": 372,
    "start_time": "2025-01-15T15:05:12.981Z"
   },
   {
    "duration": 110,
    "start_time": "2025-01-15T15:05:13.355Z"
   },
   {
    "duration": 28,
    "start_time": "2025-01-15T15:05:13.812Z"
   },
   {
    "duration": 24,
    "start_time": "2025-01-15T15:05:14.981Z"
   },
   {
    "duration": 10,
    "start_time": "2025-01-15T15:05:17.486Z"
   },
   {
    "duration": 18,
    "start_time": "2025-01-15T15:05:18.013Z"
   },
   {
    "duration": 9,
    "start_time": "2025-01-15T15:06:09.141Z"
   },
   {
    "duration": 92,
    "start_time": "2025-01-15T15:06:11.026Z"
   },
   {
    "duration": 4,
    "start_time": "2025-01-15T15:14:17.496Z"
   },
   {
    "duration": 6,
    "start_time": "2025-01-15T15:14:17.502Z"
   },
   {
    "duration": 5,
    "start_time": "2025-01-15T15:14:17.510Z"
   },
   {
    "duration": 446,
    "start_time": "2025-01-15T15:14:17.518Z"
   },
   {
    "duration": 2133,
    "start_time": "2025-01-15T15:14:17.966Z"
   },
   {
    "duration": 112,
    "start_time": "2025-01-15T15:14:20.101Z"
   },
   {
    "duration": 0,
    "start_time": "2025-01-15T15:14:20.215Z"
   },
   {
    "duration": 0,
    "start_time": "2025-01-15T15:14:20.216Z"
   },
   {
    "duration": 0,
    "start_time": "2025-01-15T15:14:20.217Z"
   },
   {
    "duration": 0,
    "start_time": "2025-01-15T15:14:20.218Z"
   },
   {
    "duration": 0,
    "start_time": "2025-01-15T15:14:20.234Z"
   },
   {
    "duration": 0,
    "start_time": "2025-01-15T15:14:20.237Z"
   },
   {
    "duration": 0,
    "start_time": "2025-01-15T15:14:20.239Z"
   },
   {
    "duration": 314,
    "start_time": "2025-01-15T15:14:34.752Z"
   },
   {
    "duration": 84,
    "start_time": "2025-01-15T15:14:35.408Z"
   },
   {
    "duration": 21,
    "start_time": "2025-01-15T15:14:35.904Z"
   },
   {
    "duration": 27,
    "start_time": "2025-01-15T15:14:36.552Z"
   },
   {
    "duration": 11,
    "start_time": "2025-01-15T15:14:37.353Z"
   },
   {
    "duration": 12,
    "start_time": "2025-01-15T15:14:37.881Z"
   },
   {
    "duration": 94,
    "start_time": "2025-01-15T15:14:39.537Z"
   },
   {
    "duration": 4,
    "start_time": "2025-01-15T15:14:47.945Z"
   },
   {
    "duration": 5,
    "start_time": "2025-01-15T15:15:06.605Z"
   },
   {
    "duration": 9,
    "start_time": "2025-01-15T15:54:09.042Z"
   },
   {
    "duration": 4,
    "start_time": "2025-01-15T15:54:21.241Z"
   },
   {
    "duration": 11,
    "start_time": "2025-01-15T15:54:22.314Z"
   },
   {
    "duration": 8,
    "start_time": "2025-01-15T15:54:48.406Z"
   },
   {
    "duration": 4,
    "start_time": "2025-01-15T15:59:34.071Z"
   },
   {
    "duration": 6,
    "start_time": "2025-01-15T15:59:34.077Z"
   },
   {
    "duration": 13,
    "start_time": "2025-01-15T15:59:34.085Z"
   },
   {
    "duration": 454,
    "start_time": "2025-01-15T15:59:34.099Z"
   },
   {
    "duration": 761,
    "start_time": "2025-01-15T15:59:34.555Z"
   },
   {
    "duration": 113,
    "start_time": "2025-01-15T15:59:35.318Z"
   },
   {
    "duration": 0,
    "start_time": "2025-01-15T15:59:35.433Z"
   },
   {
    "duration": 0,
    "start_time": "2025-01-15T15:59:35.434Z"
   },
   {
    "duration": 0,
    "start_time": "2025-01-15T15:59:35.435Z"
   },
   {
    "duration": 0,
    "start_time": "2025-01-15T15:59:35.436Z"
   },
   {
    "duration": 0,
    "start_time": "2025-01-15T15:59:35.438Z"
   },
   {
    "duration": 0,
    "start_time": "2025-01-15T15:59:35.439Z"
   },
   {
    "duration": 0,
    "start_time": "2025-01-15T15:59:35.440Z"
   },
   {
    "duration": 0,
    "start_time": "2025-01-15T15:59:35.441Z"
   },
   {
    "duration": 0,
    "start_time": "2025-01-15T15:59:35.443Z"
   },
   {
    "duration": 0,
    "start_time": "2025-01-15T15:59:35.444Z"
   },
   {
    "duration": 12,
    "start_time": "2025-01-15T16:06:55.316Z"
   },
   {
    "duration": 12,
    "start_time": "2025-01-15T16:06:55.901Z"
   },
   {
    "duration": 3,
    "start_time": "2025-01-15T16:07:01.973Z"
   },
   {
    "duration": 2,
    "start_time": "2025-01-15T16:07:02.372Z"
   },
   {
    "duration": 94,
    "start_time": "2025-01-15T16:07:06.924Z"
   },
   {
    "duration": 82,
    "start_time": "2025-01-15T16:07:07.381Z"
   },
   {
    "duration": 18,
    "start_time": "2025-01-15T16:07:07.812Z"
   },
   {
    "duration": 15,
    "start_time": "2025-01-15T16:07:10.804Z"
   },
   {
    "duration": 11,
    "start_time": "2025-01-15T16:07:12.156Z"
   },
   {
    "duration": 12,
    "start_time": "2025-01-15T16:07:12.396Z"
   },
   {
    "duration": 4,
    "start_time": "2025-01-15T16:07:15.044Z"
   },
   {
    "duration": 4,
    "start_time": "2025-01-15T16:07:15.396Z"
   },
   {
    "duration": 12,
    "start_time": "2025-01-15T16:07:16.164Z"
   },
   {
    "duration": 8,
    "start_time": "2025-01-15T16:07:21.580Z"
   },
   {
    "duration": 3429,
    "start_time": "2025-01-15T16:38:54.505Z"
   },
   {
    "duration": 4,
    "start_time": "2025-01-15T16:39:08.734Z"
   },
   {
    "duration": 15,
    "start_time": "2025-01-15T16:39:08.739Z"
   },
   {
    "duration": 42,
    "start_time": "2025-01-15T16:39:08.756Z"
   },
   {
    "duration": 2568,
    "start_time": "2025-01-15T16:39:08.800Z"
   },
   {
    "duration": 397,
    "start_time": "2025-01-15T16:39:11.371Z"
   },
   {
    "duration": 752,
    "start_time": "2025-01-15T16:39:11.770Z"
   },
   {
    "duration": 55,
    "start_time": "2025-01-15T16:39:12.524Z"
   },
   {
    "duration": 89,
    "start_time": "2025-01-15T16:39:12.581Z"
   },
   {
    "duration": 80,
    "start_time": "2025-01-15T16:39:12.672Z"
   },
   {
    "duration": 0,
    "start_time": "2025-01-15T16:39:12.754Z"
   },
   {
    "duration": 0,
    "start_time": "2025-01-15T16:39:12.755Z"
   },
   {
    "duration": 0,
    "start_time": "2025-01-15T16:39:12.756Z"
   },
   {
    "duration": 0,
    "start_time": "2025-01-15T16:39:12.758Z"
   },
   {
    "duration": 0,
    "start_time": "2025-01-15T16:39:12.760Z"
   },
   {
    "duration": 0,
    "start_time": "2025-01-15T16:39:12.761Z"
   },
   {
    "duration": 0,
    "start_time": "2025-01-15T16:39:12.762Z"
   },
   {
    "duration": 0,
    "start_time": "2025-01-15T16:39:12.764Z"
   },
   {
    "duration": 3,
    "start_time": "2025-01-15T16:39:16.022Z"
   },
   {
    "duration": 3,
    "start_time": "2025-01-15T16:39:16.317Z"
   },
   {
    "duration": 2,
    "start_time": "2025-01-15T16:39:16.630Z"
   },
   {
    "duration": 2545,
    "start_time": "2025-01-15T16:39:17.661Z"
   },
   {
    "duration": 3,
    "start_time": "2025-01-15T16:39:20.210Z"
   },
   {
    "duration": 90,
    "start_time": "2025-01-15T16:39:20.215Z"
   },
   {
    "duration": 7,
    "start_time": "2025-01-15T16:39:20.307Z"
   },
   {
    "duration": 94,
    "start_time": "2025-01-15T16:39:21.365Z"
   },
   {
    "duration": 86,
    "start_time": "2025-01-15T16:39:22.366Z"
   },
   {
    "duration": 19,
    "start_time": "2025-01-15T16:39:23.645Z"
   },
   {
    "duration": 15,
    "start_time": "2025-01-15T16:39:24.541Z"
   },
   {
    "duration": 11,
    "start_time": "2025-01-15T16:39:25.701Z"
   },
   {
    "duration": 12,
    "start_time": "2025-01-15T16:39:26.326Z"
   },
   {
    "duration": 5,
    "start_time": "2025-01-15T16:39:26.733Z"
   },
   {
    "duration": 4,
    "start_time": "2025-01-15T16:39:27.157Z"
   },
   {
    "duration": 15,
    "start_time": "2025-01-15T16:39:27.653Z"
   },
   {
    "duration": 8,
    "start_time": "2025-01-15T16:39:29.462Z"
   },
   {
    "duration": 113,
    "start_time": "2025-01-15T16:46:30.102Z"
   },
   {
    "duration": 20,
    "start_time": "2025-01-15T16:46:46.015Z"
   },
   {
    "duration": 9,
    "start_time": "2025-01-15T16:46:55.487Z"
   },
   {
    "duration": 9,
    "start_time": "2025-01-15T16:47:43.819Z"
   },
   {
    "duration": 19,
    "start_time": "2025-01-15T16:48:01.172Z"
   },
   {
    "duration": 10,
    "start_time": "2025-01-15T16:53:54.390Z"
   },
   {
    "duration": 9,
    "start_time": "2025-01-15T16:54:05.014Z"
   },
   {
    "duration": 10,
    "start_time": "2025-01-15T16:54:23.703Z"
   },
   {
    "duration": 11,
    "start_time": "2025-01-15T16:54:47.371Z"
   },
   {
    "duration": 14,
    "start_time": "2025-01-15T16:55:03.235Z"
   },
   {
    "duration": 19,
    "start_time": "2025-01-15T16:55:49.061Z"
   },
   {
    "duration": 23,
    "start_time": "2025-01-15T16:55:49.913Z"
   },
   {
    "duration": 9,
    "start_time": "2025-01-15T16:57:39.830Z"
   },
   {
    "duration": 5,
    "start_time": "2025-01-15T16:57:46.694Z"
   },
   {
    "duration": 4,
    "start_time": "2025-01-15T17:09:54.196Z"
   },
   {
    "duration": 13,
    "start_time": "2025-01-15T17:09:54.202Z"
   },
   {
    "duration": 16,
    "start_time": "2025-01-15T17:09:54.217Z"
   },
   {
    "duration": 2731,
    "start_time": "2025-01-15T17:09:54.235Z"
   },
   {
    "duration": 408,
    "start_time": "2025-01-15T17:09:56.968Z"
   },
   {
    "duration": 813,
    "start_time": "2025-01-15T17:09:57.378Z"
   },
   {
    "duration": 58,
    "start_time": "2025-01-15T17:09:58.193Z"
   },
   {
    "duration": 90,
    "start_time": "2025-01-15T17:09:58.253Z"
   },
   {
    "duration": 81,
    "start_time": "2025-01-15T17:09:58.346Z"
   },
   {
    "duration": 0,
    "start_time": "2025-01-15T17:09:58.430Z"
   },
   {
    "duration": 0,
    "start_time": "2025-01-15T17:09:58.431Z"
   },
   {
    "duration": 0,
    "start_time": "2025-01-15T17:09:58.432Z"
   },
   {
    "duration": 0,
    "start_time": "2025-01-15T17:09:58.434Z"
   },
   {
    "duration": 0,
    "start_time": "2025-01-15T17:09:58.435Z"
   },
   {
    "duration": 0,
    "start_time": "2025-01-15T17:09:58.436Z"
   },
   {
    "duration": 0,
    "start_time": "2025-01-15T17:09:58.438Z"
   },
   {
    "duration": 0,
    "start_time": "2025-01-15T17:09:58.439Z"
   },
   {
    "duration": 0,
    "start_time": "2025-01-15T17:09:58.440Z"
   },
   {
    "duration": 0,
    "start_time": "2025-01-15T17:09:58.441Z"
   },
   {
    "duration": 19,
    "start_time": "2025-01-15T17:14:03.518Z"
   },
   {
    "duration": 15,
    "start_time": "2025-01-15T17:14:04.017Z"
   },
   {
    "duration": 10,
    "start_time": "2025-01-15T17:14:04.425Z"
   },
   {
    "duration": 11,
    "start_time": "2025-01-15T17:14:04.625Z"
   },
   {
    "duration": 5,
    "start_time": "2025-01-15T17:14:04.841Z"
   },
   {
    "duration": 4,
    "start_time": "2025-01-15T17:14:05.042Z"
   },
   {
    "duration": 12,
    "start_time": "2025-01-15T17:14:05.241Z"
   },
   {
    "duration": 9,
    "start_time": "2025-01-15T17:14:05.457Z"
   },
   {
    "duration": 12,
    "start_time": "2025-01-15T17:14:06.800Z"
   },
   {
    "duration": 15,
    "start_time": "2025-01-15T17:14:07.353Z"
   },
   {
    "duration": 10,
    "start_time": "2025-01-15T17:18:01.130Z"
   },
   {
    "duration": 15,
    "start_time": "2025-01-15T17:18:01.930Z"
   },
   {
    "duration": 16,
    "start_time": "2025-01-15T17:18:31.846Z"
   },
   {
    "duration": 22,
    "start_time": "2025-01-15T17:18:32.086Z"
   },
   {
    "duration": 22,
    "start_time": "2025-01-15T17:20:15.140Z"
   },
   {
    "duration": 8,
    "start_time": "2025-01-15T17:31:06.252Z"
   },
   {
    "duration": 7,
    "start_time": "2025-01-15T17:31:48.602Z"
   },
   {
    "duration": 8,
    "start_time": "2025-01-15T17:32:07.275Z"
   },
   {
    "duration": 78,
    "start_time": "2025-01-15T17:32:19.691Z"
   },
   {
    "duration": 7,
    "start_time": "2025-01-15T17:32:38.867Z"
   },
   {
    "duration": 6,
    "start_time": "2025-01-15T17:34:15.493Z"
   },
   {
    "duration": 14,
    "start_time": "2025-01-15T17:35:02.782Z"
   },
   {
    "duration": 8,
    "start_time": "2025-01-15T17:35:15.722Z"
   },
   {
    "duration": 14,
    "start_time": "2025-01-15T17:35:40.946Z"
   },
   {
    "duration": 3,
    "start_time": "2025-01-15T17:37:07.416Z"
   },
   {
    "duration": 5,
    "start_time": "2025-01-15T17:37:07.421Z"
   },
   {
    "duration": 6,
    "start_time": "2025-01-15T17:37:07.427Z"
   },
   {
    "duration": 2705,
    "start_time": "2025-01-15T17:37:07.435Z"
   },
   {
    "duration": 433,
    "start_time": "2025-01-15T17:37:10.142Z"
   },
   {
    "duration": 765,
    "start_time": "2025-01-15T17:37:10.580Z"
   },
   {
    "duration": 47,
    "start_time": "2025-01-15T17:37:11.347Z"
   },
   {
    "duration": 93,
    "start_time": "2025-01-15T17:37:11.396Z"
   },
   {
    "duration": 230,
    "start_time": "2025-01-15T17:37:11.491Z"
   },
   {
    "duration": 0,
    "start_time": "2025-01-15T17:37:11.723Z"
   },
   {
    "duration": 0,
    "start_time": "2025-01-15T17:37:11.725Z"
   },
   {
    "duration": 0,
    "start_time": "2025-01-15T17:37:11.727Z"
   },
   {
    "duration": 0,
    "start_time": "2025-01-15T17:37:11.728Z"
   },
   {
    "duration": 0,
    "start_time": "2025-01-15T17:37:11.729Z"
   },
   {
    "duration": 0,
    "start_time": "2025-01-15T17:37:11.730Z"
   },
   {
    "duration": 0,
    "start_time": "2025-01-15T17:37:11.731Z"
   },
   {
    "duration": 0,
    "start_time": "2025-01-15T17:37:11.732Z"
   },
   {
    "duration": 0,
    "start_time": "2025-01-15T17:37:11.734Z"
   },
   {
    "duration": 0,
    "start_time": "2025-01-15T17:37:11.735Z"
   },
   {
    "duration": 0,
    "start_time": "2025-01-15T17:37:11.736Z"
   },
   {
    "duration": 0,
    "start_time": "2025-01-15T17:37:11.737Z"
   },
   {
    "duration": 3,
    "start_time": "2025-01-15T19:24:18.885Z"
   },
   {
    "duration": 2,
    "start_time": "2025-01-15T19:24:19.128Z"
   },
   {
    "duration": 2,
    "start_time": "2025-01-15T19:24:19.397Z"
   },
   {
    "duration": 2603,
    "start_time": "2025-01-15T19:24:19.917Z"
   },
   {
    "duration": 3,
    "start_time": "2025-01-15T19:24:22.523Z"
   },
   {
    "duration": 6,
    "start_time": "2025-01-15T19:24:22.528Z"
   },
   {
    "duration": 2,
    "start_time": "2025-01-15T19:24:22.536Z"
   },
   {
    "duration": 94,
    "start_time": "2025-01-15T19:24:22.540Z"
   },
   {
    "duration": 123,
    "start_time": "2025-01-15T19:24:22.636Z"
   },
   {
    "duration": 0,
    "start_time": "2025-01-15T19:24:22.761Z"
   },
   {
    "duration": 0,
    "start_time": "2025-01-15T19:24:22.762Z"
   },
   {
    "duration": 0,
    "start_time": "2025-01-15T19:24:22.763Z"
   },
   {
    "duration": 0,
    "start_time": "2025-01-15T19:24:22.764Z"
   },
   {
    "duration": 6,
    "start_time": "2025-01-15T19:24:22.793Z"
   },
   {
    "duration": 4,
    "start_time": "2025-01-15T19:24:24.077Z"
   },
   {
    "duration": 14,
    "start_time": "2025-01-15T19:24:24.430Z"
   },
   {
    "duration": 8,
    "start_time": "2025-01-15T19:24:31.109Z"
   },
   {
    "duration": 12,
    "start_time": "2025-01-15T19:24:35.141Z"
   },
   {
    "duration": 16,
    "start_time": "2025-01-15T19:24:36.309Z"
   },
   {
    "duration": 16,
    "start_time": "2025-01-15T19:24:37.213Z"
   },
   {
    "duration": 15,
    "start_time": "2025-01-15T19:26:20.615Z"
   },
   {
    "duration": 13,
    "start_time": "2025-01-15T19:26:21.056Z"
   },
   {
    "duration": 11,
    "start_time": "2025-01-15T19:26:21.551Z"
   },
   {
    "duration": 13,
    "start_time": "2025-01-15T19:26:22.179Z"
   },
   {
    "duration": 128,
    "start_time": "2025-01-15T19:29:05.395Z"
   },
   {
    "duration": 7,
    "start_time": "2025-01-15T19:30:00.752Z"
   },
   {
    "duration": 5,
    "start_time": "2025-01-15T19:30:29.520Z"
   },
   {
    "duration": 23,
    "start_time": "2025-01-15T19:30:51.705Z"
   },
   {
    "duration": 7,
    "start_time": "2025-01-15T19:31:43.454Z"
   },
   {
    "duration": 21,
    "start_time": "2025-01-15T19:31:48.806Z"
   },
   {
    "duration": 6,
    "start_time": "2025-01-15T19:32:13.694Z"
   },
   {
    "duration": 21,
    "start_time": "2025-01-15T19:32:14.279Z"
   },
   {
    "duration": 6,
    "start_time": "2025-01-15T19:32:20.467Z"
   },
   {
    "duration": 25,
    "start_time": "2025-01-15T19:32:21.243Z"
   },
   {
    "duration": 7,
    "start_time": "2025-01-15T19:33:49.072Z"
   },
   {
    "duration": 24,
    "start_time": "2025-01-15T19:33:51.408Z"
   },
   {
    "duration": 7,
    "start_time": "2025-01-15T19:34:07.528Z"
   },
   {
    "duration": 20,
    "start_time": "2025-01-15T19:34:09.153Z"
   },
   {
    "duration": 7,
    "start_time": "2025-01-15T19:34:18.776Z"
   },
   {
    "duration": 19,
    "start_time": "2025-01-15T19:34:19.769Z"
   },
   {
    "duration": 3,
    "start_time": "2025-01-15T19:34:31.011Z"
   },
   {
    "duration": 88,
    "start_time": "2025-01-15T19:34:31.016Z"
   },
   {
    "duration": 13,
    "start_time": "2025-01-15T19:34:31.106Z"
   },
   {
    "duration": 2621,
    "start_time": "2025-01-15T19:34:31.120Z"
   },
   {
    "duration": 417,
    "start_time": "2025-01-15T19:34:33.744Z"
   },
   {
    "duration": 742,
    "start_time": "2025-01-15T19:34:34.163Z"
   },
   {
    "duration": 58,
    "start_time": "2025-01-15T19:34:34.907Z"
   },
   {
    "duration": 93,
    "start_time": "2025-01-15T19:34:34.967Z"
   },
   {
    "duration": 99,
    "start_time": "2025-01-15T19:34:35.061Z"
   },
   {
    "duration": 0,
    "start_time": "2025-01-15T19:34:35.162Z"
   },
   {
    "duration": 0,
    "start_time": "2025-01-15T19:34:35.163Z"
   },
   {
    "duration": 0,
    "start_time": "2025-01-15T19:34:35.164Z"
   },
   {
    "duration": 0,
    "start_time": "2025-01-15T19:34:35.166Z"
   },
   {
    "duration": 0,
    "start_time": "2025-01-15T19:34:35.167Z"
   },
   {
    "duration": 0,
    "start_time": "2025-01-15T19:34:35.169Z"
   },
   {
    "duration": 0,
    "start_time": "2025-01-15T19:34:35.170Z"
   },
   {
    "duration": 0,
    "start_time": "2025-01-15T19:34:35.172Z"
   },
   {
    "duration": 0,
    "start_time": "2025-01-15T19:34:35.173Z"
   },
   {
    "duration": 0,
    "start_time": "2025-01-15T19:34:35.174Z"
   },
   {
    "duration": 0,
    "start_time": "2025-01-15T19:34:35.176Z"
   },
   {
    "duration": 0,
    "start_time": "2025-01-15T19:34:35.177Z"
   },
   {
    "duration": 0,
    "start_time": "2025-01-15T19:34:35.178Z"
   },
   {
    "duration": 3,
    "start_time": "2025-01-15T19:34:40.996Z"
   },
   {
    "duration": 3,
    "start_time": "2025-01-15T19:34:43.209Z"
   },
   {
    "duration": 4,
    "start_time": "2025-01-15T19:34:43.604Z"
   },
   {
    "duration": 90,
    "start_time": "2025-01-15T19:34:44.020Z"
   },
   {
    "duration": 80,
    "start_time": "2025-01-15T19:34:44.438Z"
   },
   {
    "duration": 17,
    "start_time": "2025-01-15T19:34:44.937Z"
   },
   {
    "duration": 14,
    "start_time": "2025-01-15T19:34:45.621Z"
   },
   {
    "duration": 11,
    "start_time": "2025-01-15T19:34:46.149Z"
   },
   {
    "duration": 12,
    "start_time": "2025-01-15T19:34:46.685Z"
   },
   {
    "duration": 3,
    "start_time": "2025-01-15T19:34:47.213Z"
   },
   {
    "duration": 4,
    "start_time": "2025-01-15T19:34:47.652Z"
   },
   {
    "duration": 11,
    "start_time": "2025-01-15T19:34:48.181Z"
   },
   {
    "duration": 8,
    "start_time": "2025-01-15T19:34:48.740Z"
   },
   {
    "duration": 12,
    "start_time": "2025-01-15T19:34:51.117Z"
   },
   {
    "duration": 17,
    "start_time": "2025-01-15T19:34:51.781Z"
   },
   {
    "duration": 16,
    "start_time": "2025-01-15T19:34:52.493Z"
   },
   {
    "duration": 6,
    "start_time": "2025-01-15T19:34:56.917Z"
   },
   {
    "duration": 20,
    "start_time": "2025-01-15T19:34:57.485Z"
   },
   {
    "duration": 6,
    "start_time": "2025-01-15T19:35:25.846Z"
   },
   {
    "duration": 19,
    "start_time": "2025-01-15T19:35:26.639Z"
   },
   {
    "duration": 50,
    "start_time": "2025-01-15T19:35:40.905Z"
   },
   {
    "duration": 6,
    "start_time": "2025-01-15T19:35:41.585Z"
   },
   {
    "duration": 2811,
    "start_time": "2025-01-15T19:35:50.812Z"
   },
   {
    "duration": 425,
    "start_time": "2025-01-15T19:35:53.625Z"
   },
   {
    "duration": 723,
    "start_time": "2025-01-15T19:35:54.052Z"
   },
   {
    "duration": 69,
    "start_time": "2025-01-15T19:35:54.777Z"
   },
   {
    "duration": 92,
    "start_time": "2025-01-15T19:35:54.847Z"
   },
   {
    "duration": 83,
    "start_time": "2025-01-15T19:35:54.941Z"
   },
   {
    "duration": 0,
    "start_time": "2025-01-15T19:35:55.026Z"
   },
   {
    "duration": 0,
    "start_time": "2025-01-15T19:35:55.027Z"
   },
   {
    "duration": 0,
    "start_time": "2025-01-15T19:35:55.029Z"
   },
   {
    "duration": 0,
    "start_time": "2025-01-15T19:35:55.030Z"
   },
   {
    "duration": 0,
    "start_time": "2025-01-15T19:35:55.031Z"
   },
   {
    "duration": 0,
    "start_time": "2025-01-15T19:35:55.032Z"
   },
   {
    "duration": 0,
    "start_time": "2025-01-15T19:35:55.033Z"
   },
   {
    "duration": 12,
    "start_time": "2025-01-15T19:35:55.276Z"
   },
   {
    "duration": 12,
    "start_time": "2025-01-15T19:35:56.820Z"
   },
   {
    "duration": 16,
    "start_time": "2025-01-15T19:35:57.444Z"
   },
   {
    "duration": 18,
    "start_time": "2025-01-15T19:35:57.972Z"
   },
   {
    "duration": 6,
    "start_time": "2025-01-15T19:36:00.864Z"
   },
   {
    "duration": 23,
    "start_time": "2025-01-15T19:36:01.653Z"
   },
   {
    "duration": 83,
    "start_time": "2025-01-15T19:37:01.258Z"
   },
   {
    "duration": 84,
    "start_time": "2025-01-15T19:37:06.186Z"
   },
   {
    "duration": 84,
    "start_time": "2025-01-15T19:37:23.313Z"
   },
   {
    "duration": 6,
    "start_time": "2025-01-15T19:38:42.944Z"
   },
   {
    "duration": 20,
    "start_time": "2025-01-15T19:38:43.504Z"
   },
   {
    "duration": 5,
    "start_time": "2025-01-15T19:38:44.112Z"
   },
   {
    "duration": 4,
    "start_time": "2025-01-15T19:38:47.800Z"
   },
   {
    "duration": 3,
    "start_time": "2025-01-15T19:38:54.632Z"
   },
   {
    "duration": 5,
    "start_time": "2025-01-15T19:38:54.637Z"
   },
   {
    "duration": 3,
    "start_time": "2025-01-15T19:38:54.644Z"
   },
   {
    "duration": 2563,
    "start_time": "2025-01-15T19:38:54.648Z"
   },
   {
    "duration": 447,
    "start_time": "2025-01-15T19:38:57.213Z"
   },
   {
    "duration": 724,
    "start_time": "2025-01-15T19:38:57.662Z"
   },
   {
    "duration": 62,
    "start_time": "2025-01-15T19:38:58.388Z"
   },
   {
    "duration": 91,
    "start_time": "2025-01-15T19:38:58.452Z"
   },
   {
    "duration": 80,
    "start_time": "2025-01-15T19:38:58.545Z"
   },
   {
    "duration": 0,
    "start_time": "2025-01-15T19:38:58.628Z"
   },
   {
    "duration": 0,
    "start_time": "2025-01-15T19:38:58.629Z"
   },
   {
    "duration": 0,
    "start_time": "2025-01-15T19:38:58.630Z"
   },
   {
    "duration": 0,
    "start_time": "2025-01-15T19:38:58.632Z"
   },
   {
    "duration": 0,
    "start_time": "2025-01-15T19:38:58.633Z"
   },
   {
    "duration": 0,
    "start_time": "2025-01-15T19:38:58.635Z"
   },
   {
    "duration": 0,
    "start_time": "2025-01-15T19:38:58.636Z"
   },
   {
    "duration": 0,
    "start_time": "2025-01-15T19:38:58.638Z"
   },
   {
    "duration": 0,
    "start_time": "2025-01-15T19:38:58.640Z"
   },
   {
    "duration": 0,
    "start_time": "2025-01-15T19:38:58.641Z"
   },
   {
    "duration": 0,
    "start_time": "2025-01-15T19:38:58.643Z"
   },
   {
    "duration": 0,
    "start_time": "2025-01-15T19:38:58.644Z"
   },
   {
    "duration": 0,
    "start_time": "2025-01-15T19:38:58.646Z"
   },
   {
    "duration": 0,
    "start_time": "2025-01-15T19:38:58.648Z"
   },
   {
    "duration": 2552,
    "start_time": "2025-01-15T19:39:02.871Z"
   },
   {
    "duration": 4,
    "start_time": "2025-01-15T19:39:05.425Z"
   },
   {
    "duration": 74,
    "start_time": "2025-01-15T19:39:05.431Z"
   },
   {
    "duration": 2,
    "start_time": "2025-01-15T19:39:06.215Z"
   },
   {
    "duration": 95,
    "start_time": "2025-01-15T19:39:07.118Z"
   },
   {
    "duration": 85,
    "start_time": "2025-01-15T19:39:07.839Z"
   },
   {
    "duration": 19,
    "start_time": "2025-01-15T19:39:08.550Z"
   },
   {
    "duration": 16,
    "start_time": "2025-01-15T19:39:09.438Z"
   },
   {
    "duration": 10,
    "start_time": "2025-01-15T19:39:10.551Z"
   },
   {
    "duration": 13,
    "start_time": "2025-01-15T19:39:11.118Z"
   },
   {
    "duration": 5,
    "start_time": "2025-01-15T19:39:11.838Z"
   },
   {
    "duration": 4,
    "start_time": "2025-01-15T19:39:12.807Z"
   },
   {
    "duration": 69,
    "start_time": "2025-01-15T19:39:13.439Z"
   },
   {
    "duration": 10,
    "start_time": "2025-01-15T19:39:14.119Z"
   },
   {
    "duration": 12,
    "start_time": "2025-01-15T19:39:17.182Z"
   },
   {
    "duration": 17,
    "start_time": "2025-01-15T19:39:17.726Z"
   },
   {
    "duration": 18,
    "start_time": "2025-01-15T19:39:18.446Z"
   },
   {
    "duration": 6,
    "start_time": "2025-01-15T19:39:22.227Z"
   },
   {
    "duration": 20,
    "start_time": "2025-01-15T19:39:22.918Z"
   },
   {
    "duration": 5,
    "start_time": "2025-01-15T19:39:23.919Z"
   },
   {
    "duration": 6,
    "start_time": "2025-01-15T19:39:41.091Z"
   },
   {
    "duration": 5,
    "start_time": "2025-01-15T19:39:54.211Z"
   },
   {
    "duration": 6,
    "start_time": "2025-01-15T19:39:54.755Z"
   },
   {
    "duration": 17,
    "start_time": "2025-01-15T19:40:29.232Z"
   },
   {
    "duration": 23,
    "start_time": "2025-01-15T19:40:50.081Z"
   },
   {
    "duration": 13,
    "start_time": "2025-01-15T19:40:54.649Z"
   },
   {
    "duration": 13,
    "start_time": "2025-01-15T19:40:58.808Z"
   },
   {
    "duration": 15,
    "start_time": "2025-01-15T19:41:42.346Z"
   },
   {
    "duration": 24,
    "start_time": "2025-01-15T19:41:44.682Z"
   },
   {
    "duration": 15,
    "start_time": "2025-01-15T19:41:52.890Z"
   },
   {
    "duration": 14,
    "start_time": "2025-01-15T19:42:11.567Z"
   },
   {
    "duration": 4,
    "start_time": "2025-01-15T19:55:52.216Z"
   },
   {
    "duration": 7,
    "start_time": "2025-01-15T19:56:10.021Z"
   },
   {
    "duration": 3,
    "start_time": "2025-01-15T19:56:39.803Z"
   },
   {
    "duration": 5,
    "start_time": "2025-01-15T19:56:39.808Z"
   },
   {
    "duration": 3,
    "start_time": "2025-01-15T19:56:39.815Z"
   },
   {
    "duration": 2537,
    "start_time": "2025-01-15T19:56:39.819Z"
   },
   {
    "duration": 393,
    "start_time": "2025-01-15T19:56:42.359Z"
   },
   {
    "duration": 726,
    "start_time": "2025-01-15T19:56:42.754Z"
   },
   {
    "duration": 46,
    "start_time": "2025-01-15T19:56:43.482Z"
   },
   {
    "duration": 91,
    "start_time": "2025-01-15T19:56:43.530Z"
   },
   {
    "duration": 81,
    "start_time": "2025-01-15T19:56:43.623Z"
   },
   {
    "duration": 0,
    "start_time": "2025-01-15T19:56:43.706Z"
   },
   {
    "duration": 0,
    "start_time": "2025-01-15T19:56:43.708Z"
   },
   {
    "duration": 0,
    "start_time": "2025-01-15T19:56:43.709Z"
   },
   {
    "duration": 0,
    "start_time": "2025-01-15T19:56:43.710Z"
   },
   {
    "duration": 0,
    "start_time": "2025-01-15T19:56:43.711Z"
   },
   {
    "duration": 0,
    "start_time": "2025-01-15T19:56:43.712Z"
   },
   {
    "duration": 0,
    "start_time": "2025-01-15T19:56:43.714Z"
   },
   {
    "duration": 0,
    "start_time": "2025-01-15T19:56:43.716Z"
   },
   {
    "duration": 0,
    "start_time": "2025-01-15T19:56:43.717Z"
   },
   {
    "duration": 0,
    "start_time": "2025-01-15T19:56:43.718Z"
   },
   {
    "duration": 0,
    "start_time": "2025-01-15T19:56:43.719Z"
   },
   {
    "duration": 0,
    "start_time": "2025-01-15T19:56:43.720Z"
   },
   {
    "duration": 0,
    "start_time": "2025-01-15T19:56:43.722Z"
   },
   {
    "duration": 0,
    "start_time": "2025-01-15T19:56:43.723Z"
   },
   {
    "duration": 0,
    "start_time": "2025-01-15T19:56:43.724Z"
   },
   {
    "duration": 0,
    "start_time": "2025-01-15T19:56:43.726Z"
   },
   {
    "duration": 0,
    "start_time": "2025-01-15T19:56:43.727Z"
   },
   {
    "duration": 3,
    "start_time": "2025-01-15T19:56:47.917Z"
   },
   {
    "duration": 3,
    "start_time": "2025-01-15T19:56:48.340Z"
   },
   {
    "duration": 2,
    "start_time": "2025-01-15T19:56:48.829Z"
   },
   {
    "duration": 2531,
    "start_time": "2025-01-15T19:56:51.917Z"
   },
   {
    "duration": 3,
    "start_time": "2025-01-15T19:56:54.451Z"
   },
   {
    "duration": 7,
    "start_time": "2025-01-15T19:56:54.455Z"
   },
   {
    "duration": 3,
    "start_time": "2025-01-15T19:56:55.749Z"
   },
   {
    "duration": 92,
    "start_time": "2025-01-15T19:56:56.494Z"
   },
   {
    "duration": 86,
    "start_time": "2025-01-15T19:56:57.133Z"
   },
   {
    "duration": 20,
    "start_time": "2025-01-15T19:56:57.862Z"
   },
   {
    "duration": 15,
    "start_time": "2025-01-15T19:56:58.902Z"
   },
   {
    "duration": 11,
    "start_time": "2025-01-15T19:56:59.813Z"
   },
   {
    "duration": 11,
    "start_time": "2025-01-15T19:57:00.622Z"
   },
   {
    "duration": 4,
    "start_time": "2025-01-15T19:57:01.277Z"
   },
   {
    "duration": 5,
    "start_time": "2025-01-15T19:57:02.149Z"
   },
   {
    "duration": 13,
    "start_time": "2025-01-15T19:57:02.845Z"
   },
   {
    "duration": 9,
    "start_time": "2025-01-15T19:57:03.637Z"
   },
   {
    "duration": 15,
    "start_time": "2025-01-15T19:57:06.804Z"
   },
   {
    "duration": 16,
    "start_time": "2025-01-15T19:57:07.310Z"
   },
   {
    "duration": 15,
    "start_time": "2025-01-15T19:57:08.821Z"
   },
   {
    "duration": 119,
    "start_time": "2025-01-15T19:57:11.324Z"
   },
   {
    "duration": 7,
    "start_time": "2025-01-15T19:58:14.434Z"
   },
   {
    "duration": 22,
    "start_time": "2025-01-15T19:58:15.010Z"
   },
   {
    "duration": 4,
    "start_time": "2025-01-15T19:58:25.299Z"
   },
   {
    "duration": 5,
    "start_time": "2025-01-15T19:58:26.259Z"
   },
   {
    "duration": 5,
    "start_time": "2025-01-15T19:59:05.903Z"
   },
   {
    "duration": 23,
    "start_time": "2025-01-15T19:59:06.655Z"
   },
   {
    "duration": 16,
    "start_time": "2025-01-15T19:59:08.648Z"
   },
   {
    "duration": 24,
    "start_time": "2025-01-15T19:59:10.375Z"
   },
   {
    "duration": 3,
    "start_time": "2025-01-16T07:31:12.607Z"
   },
   {
    "duration": 16,
    "start_time": "2025-01-16T07:31:12.613Z"
   },
   {
    "duration": 3,
    "start_time": "2025-01-16T07:31:12.632Z"
   },
   {
    "duration": 3598,
    "start_time": "2025-01-16T07:31:12.637Z"
   },
   {
    "duration": 426,
    "start_time": "2025-01-16T07:31:16.238Z"
   },
   {
    "duration": 786,
    "start_time": "2025-01-16T07:31:16.666Z"
   },
   {
    "duration": 79,
    "start_time": "2025-01-16T07:31:17.454Z"
   },
   {
    "duration": 328,
    "start_time": "2025-01-16T07:31:17.535Z"
   },
   {
    "duration": 90,
    "start_time": "2025-01-16T07:31:17.865Z"
   },
   {
    "duration": 0,
    "start_time": "2025-01-16T07:31:17.959Z"
   },
   {
    "duration": 0,
    "start_time": "2025-01-16T07:31:17.960Z"
   },
   {
    "duration": 0,
    "start_time": "2025-01-16T07:31:17.961Z"
   },
   {
    "duration": 0,
    "start_time": "2025-01-16T07:31:17.963Z"
   },
   {
    "duration": 0,
    "start_time": "2025-01-16T07:31:17.965Z"
   },
   {
    "duration": 0,
    "start_time": "2025-01-16T07:31:17.967Z"
   },
   {
    "duration": 0,
    "start_time": "2025-01-16T07:31:17.968Z"
   },
   {
    "duration": 0,
    "start_time": "2025-01-16T07:31:17.970Z"
   },
   {
    "duration": 0,
    "start_time": "2025-01-16T07:31:17.971Z"
   },
   {
    "duration": 0,
    "start_time": "2025-01-16T07:31:17.973Z"
   },
   {
    "duration": 0,
    "start_time": "2025-01-16T07:31:17.975Z"
   },
   {
    "duration": 0,
    "start_time": "2025-01-16T07:31:17.977Z"
   },
   {
    "duration": 0,
    "start_time": "2025-01-16T07:31:17.978Z"
   },
   {
    "duration": 0,
    "start_time": "2025-01-16T07:31:17.980Z"
   },
   {
    "duration": 0,
    "start_time": "2025-01-16T07:31:17.981Z"
   },
   {
    "duration": 0,
    "start_time": "2025-01-16T07:31:17.983Z"
   },
   {
    "duration": 2546,
    "start_time": "2025-01-16T07:31:31.149Z"
   },
   {
    "duration": 3,
    "start_time": "2025-01-16T07:31:33.697Z"
   },
   {
    "duration": 39,
    "start_time": "2025-01-16T07:31:33.702Z"
   },
   {
    "duration": 3,
    "start_time": "2025-01-16T07:31:34.317Z"
   },
   {
    "duration": 94,
    "start_time": "2025-01-16T07:31:35.073Z"
   },
   {
    "duration": 118,
    "start_time": "2025-01-16T07:31:35.853Z"
   },
   {
    "duration": 18,
    "start_time": "2025-01-16T07:31:36.853Z"
   },
   {
    "duration": 15,
    "start_time": "2025-01-16T07:31:37.364Z"
   },
   {
    "duration": 11,
    "start_time": "2025-01-16T07:31:37.908Z"
   },
   {
    "duration": 14,
    "start_time": "2025-01-16T07:31:38.460Z"
   },
   {
    "duration": 5,
    "start_time": "2025-01-16T07:31:38.980Z"
   },
   {
    "duration": 4,
    "start_time": "2025-01-16T07:31:39.464Z"
   },
   {
    "duration": 16,
    "start_time": "2025-01-16T07:31:39.981Z"
   },
   {
    "duration": 8,
    "start_time": "2025-01-16T07:31:40.529Z"
   },
   {
    "duration": 12,
    "start_time": "2025-01-16T07:31:42.715Z"
   },
   {
    "duration": 22,
    "start_time": "2025-01-16T07:31:43.261Z"
   },
   {
    "duration": 20,
    "start_time": "2025-01-16T07:31:43.945Z"
   },
   {
    "duration": 10,
    "start_time": "2025-01-16T07:31:45.485Z"
   },
   {
    "duration": 20,
    "start_time": "2025-01-16T07:31:46.097Z"
   },
   {
    "duration": 5,
    "start_time": "2025-01-16T07:31:47.276Z"
   },
   {
    "duration": 22,
    "start_time": "2025-01-16T07:31:47.809Z"
   },
   {
    "duration": 18,
    "start_time": "2025-01-16T07:31:48.337Z"
   },
   {
    "duration": 8,
    "start_time": "2025-01-16T07:38:05.661Z"
   },
   {
    "duration": 22,
    "start_time": "2025-01-16T07:38:08.717Z"
   },
   {
    "duration": 6,
    "start_time": "2025-01-16T07:38:20.484Z"
   },
   {
    "duration": 20,
    "start_time": "2025-01-16T07:38:57.706Z"
   },
   {
    "duration": 5,
    "start_time": "2025-01-16T07:38:58.937Z"
   },
   {
    "duration": 96,
    "start_time": "2025-01-16T07:39:04.802Z"
   },
   {
    "duration": 15,
    "start_time": "2025-01-16T07:39:05.162Z"
   },
   {
    "duration": 7,
    "start_time": "2025-01-16T07:39:21.906Z"
   },
   {
    "duration": 109,
    "start_time": "2025-01-16T10:00:16.431Z"
   },
   {
    "duration": 4,
    "start_time": "2025-01-16T10:00:36.514Z"
   },
   {
    "duration": 4,
    "start_time": "2025-01-16T10:01:08.556Z"
   },
   {
    "duration": 5,
    "start_time": "2025-01-16T10:01:34.876Z"
   },
   {
    "duration": 19,
    "start_time": "2025-01-16T10:09:48.706Z"
   },
   {
    "duration": 3,
    "start_time": "2025-01-16T10:13:18.464Z"
   },
   {
    "duration": 3,
    "start_time": "2025-01-16T10:13:18.469Z"
   },
   {
    "duration": 8,
    "start_time": "2025-01-16T10:13:18.474Z"
   },
   {
    "duration": 2537,
    "start_time": "2025-01-16T10:13:33.449Z"
   },
   {
    "duration": 432,
    "start_time": "2025-01-16T10:13:35.989Z"
   },
   {
    "duration": 829,
    "start_time": "2025-01-16T10:13:36.423Z"
   },
   {
    "duration": 54,
    "start_time": "2025-01-16T10:13:37.254Z"
   },
   {
    "duration": 96,
    "start_time": "2025-01-16T10:13:37.310Z"
   },
   {
    "duration": 91,
    "start_time": "2025-01-16T10:13:37.408Z"
   },
   {
    "duration": 17,
    "start_time": "2025-01-16T10:13:38.333Z"
   },
   {
    "duration": 15,
    "start_time": "2025-01-16T10:13:39.093Z"
   },
   {
    "duration": 11,
    "start_time": "2025-01-16T10:13:39.685Z"
   },
   {
    "duration": 12,
    "start_time": "2025-01-16T10:13:40.293Z"
   },
   {
    "duration": 4,
    "start_time": "2025-01-16T10:13:40.793Z"
   },
   {
    "duration": 6,
    "start_time": "2025-01-16T10:13:41.349Z"
   },
   {
    "duration": 14,
    "start_time": "2025-01-16T10:13:41.949Z"
   },
   {
    "duration": 13,
    "start_time": "2025-01-16T10:13:42.561Z"
   },
   {
    "duration": 12,
    "start_time": "2025-01-16T10:13:44.925Z"
   },
   {
    "duration": 20,
    "start_time": "2025-01-16T10:13:46.277Z"
   },
   {
    "duration": 18,
    "start_time": "2025-01-16T10:13:47.029Z"
   },
   {
    "duration": 5,
    "start_time": "2025-01-16T10:13:49.453Z"
   },
   {
    "duration": 16,
    "start_time": "2025-01-16T10:13:49.942Z"
   },
   {
    "duration": 20,
    "start_time": "2025-01-16T10:26:09.620Z"
   },
   {
    "duration": 22,
    "start_time": "2025-01-16T10:26:28.740Z"
   },
   {
    "duration": 22,
    "start_time": "2025-01-16T10:27:24.529Z"
   },
   {
    "duration": 4,
    "start_time": "2025-01-16T10:27:43.980Z"
   },
   {
    "duration": 24,
    "start_time": "2025-01-16T10:27:43.986Z"
   },
   {
    "duration": 21,
    "start_time": "2025-01-16T10:27:44.012Z"
   },
   {
    "duration": 2548,
    "start_time": "2025-01-16T10:27:44.035Z"
   },
   {
    "duration": 421,
    "start_time": "2025-01-16T10:27:46.586Z"
   },
   {
    "duration": 814,
    "start_time": "2025-01-16T10:27:47.008Z"
   },
   {
    "duration": 56,
    "start_time": "2025-01-16T10:27:47.823Z"
   },
   {
    "duration": 95,
    "start_time": "2025-01-16T10:27:47.881Z"
   },
   {
    "duration": 92,
    "start_time": "2025-01-16T10:27:47.978Z"
   },
   {
    "duration": 0,
    "start_time": "2025-01-16T10:27:48.073Z"
   },
   {
    "duration": 0,
    "start_time": "2025-01-16T10:27:48.074Z"
   },
   {
    "duration": 0,
    "start_time": "2025-01-16T10:27:48.075Z"
   },
   {
    "duration": 0,
    "start_time": "2025-01-16T10:27:48.077Z"
   },
   {
    "duration": 0,
    "start_time": "2025-01-16T10:27:48.078Z"
   },
   {
    "duration": 0,
    "start_time": "2025-01-16T10:27:48.079Z"
   },
   {
    "duration": 0,
    "start_time": "2025-01-16T10:27:48.080Z"
   },
   {
    "duration": 0,
    "start_time": "2025-01-16T10:27:48.081Z"
   },
   {
    "duration": 0,
    "start_time": "2025-01-16T10:27:48.082Z"
   },
   {
    "duration": 0,
    "start_time": "2025-01-16T10:27:48.083Z"
   },
   {
    "duration": 0,
    "start_time": "2025-01-16T10:27:48.085Z"
   },
   {
    "duration": 0,
    "start_time": "2025-01-16T10:27:48.087Z"
   },
   {
    "duration": 0,
    "start_time": "2025-01-16T10:27:48.088Z"
   },
   {
    "duration": 0,
    "start_time": "2025-01-16T10:27:48.089Z"
   },
   {
    "duration": 0,
    "start_time": "2025-01-16T10:27:48.091Z"
   },
   {
    "duration": 19,
    "start_time": "2025-01-16T10:27:52.586Z"
   },
   {
    "duration": 15,
    "start_time": "2025-01-16T10:27:53.274Z"
   },
   {
    "duration": 10,
    "start_time": "2025-01-16T10:27:54.117Z"
   },
   {
    "duration": 15,
    "start_time": "2025-01-16T10:27:54.166Z"
   },
   {
    "duration": 4,
    "start_time": "2025-01-16T10:27:54.522Z"
   },
   {
    "duration": 4,
    "start_time": "2025-01-16T10:27:54.946Z"
   },
   {
    "duration": 16,
    "start_time": "2025-01-16T10:27:55.387Z"
   },
   {
    "duration": 9,
    "start_time": "2025-01-16T10:27:56.107Z"
   },
   {
    "duration": 17,
    "start_time": "2025-01-16T10:27:58.170Z"
   },
   {
    "duration": 16,
    "start_time": "2025-01-16T10:28:00.320Z"
   },
   {
    "duration": 16,
    "start_time": "2025-01-16T10:28:01.011Z"
   },
   {
    "duration": 4,
    "start_time": "2025-01-16T10:28:03.299Z"
   },
   {
    "duration": 15,
    "start_time": "2025-01-16T10:28:03.831Z"
   },
   {
    "duration": 15,
    "start_time": "2025-01-16T10:28:08.988Z"
   },
   {
    "duration": 21,
    "start_time": "2025-01-16T10:28:11.951Z"
   },
   {
    "duration": 12,
    "start_time": "2025-01-16T10:29:41.836Z"
   },
   {
    "duration": 3,
    "start_time": "2025-01-16T13:19:37.021Z"
   },
   {
    "duration": 26,
    "start_time": "2025-01-16T13:19:37.025Z"
   },
   {
    "duration": 5,
    "start_time": "2025-01-16T13:19:37.053Z"
   },
   {
    "duration": 3672,
    "start_time": "2025-01-16T13:19:37.059Z"
   },
   {
    "duration": 399,
    "start_time": "2025-01-16T13:19:40.733Z"
   },
   {
    "duration": 900,
    "start_time": "2025-01-16T13:19:41.133Z"
   },
   {
    "duration": 86,
    "start_time": "2025-01-16T13:19:42.034Z"
   },
   {
    "duration": 229,
    "start_time": "2025-01-16T13:19:42.121Z"
   },
   {
    "duration": 92,
    "start_time": "2025-01-16T13:19:42.352Z"
   },
   {
    "duration": 0,
    "start_time": "2025-01-16T13:19:42.445Z"
   },
   {
    "duration": 0,
    "start_time": "2025-01-16T13:19:42.447Z"
   },
   {
    "duration": 0,
    "start_time": "2025-01-16T13:19:42.448Z"
   },
   {
    "duration": 0,
    "start_time": "2025-01-16T13:19:42.449Z"
   },
   {
    "duration": 0,
    "start_time": "2025-01-16T13:19:42.450Z"
   },
   {
    "duration": 0,
    "start_time": "2025-01-16T13:19:42.451Z"
   },
   {
    "duration": 0,
    "start_time": "2025-01-16T13:19:42.453Z"
   },
   {
    "duration": 0,
    "start_time": "2025-01-16T13:19:42.453Z"
   },
   {
    "duration": 1,
    "start_time": "2025-01-16T13:19:42.454Z"
   },
   {
    "duration": 0,
    "start_time": "2025-01-16T13:19:42.455Z"
   },
   {
    "duration": 0,
    "start_time": "2025-01-16T13:19:42.456Z"
   },
   {
    "duration": 0,
    "start_time": "2025-01-16T13:19:42.457Z"
   },
   {
    "duration": 0,
    "start_time": "2025-01-16T13:19:42.458Z"
   },
   {
    "duration": 0,
    "start_time": "2025-01-16T13:19:42.459Z"
   },
   {
    "duration": 2675,
    "start_time": "2025-01-16T13:20:26.466Z"
   },
   {
    "duration": 3,
    "start_time": "2025-01-16T13:20:29.143Z"
   },
   {
    "duration": 24,
    "start_time": "2025-01-16T13:20:29.147Z"
   },
   {
    "duration": 20,
    "start_time": "2025-01-16T13:20:29.173Z"
   },
   {
    "duration": 102,
    "start_time": "2025-01-16T13:20:29.194Z"
   },
   {
    "duration": 103,
    "start_time": "2025-01-16T13:20:31.594Z"
   },
   {
    "duration": 15,
    "start_time": "2025-01-16T13:20:32.202Z"
   },
   {
    "duration": 11,
    "start_time": "2025-01-16T13:20:32.794Z"
   },
   {
    "duration": 8,
    "start_time": "2025-01-16T13:20:33.266Z"
   },
   {
    "duration": 10,
    "start_time": "2025-01-16T13:20:33.810Z"
   },
   {
    "duration": 3,
    "start_time": "2025-01-16T13:20:34.298Z"
   },
   {
    "duration": 4,
    "start_time": "2025-01-16T13:20:34.789Z"
   },
   {
    "duration": 10,
    "start_time": "2025-01-16T13:20:35.237Z"
   },
   {
    "duration": 6,
    "start_time": "2025-01-16T13:20:35.714Z"
   },
   {
    "duration": 9,
    "start_time": "2025-01-16T13:20:37.738Z"
   },
   {
    "duration": 12,
    "start_time": "2025-01-16T13:20:38.182Z"
   },
   {
    "duration": 15,
    "start_time": "2025-01-16T13:20:38.693Z"
   },
   {
    "duration": 4,
    "start_time": "2025-01-16T13:20:39.777Z"
   },
   {
    "duration": 12,
    "start_time": "2025-01-16T13:20:40.838Z"
   },
   {
    "duration": 13,
    "start_time": "2025-01-16T13:20:41.521Z"
   },
   {
    "duration": 103,
    "start_time": "2025-01-16T13:20:43.517Z"
   },
   {
    "duration": 7,
    "start_time": "2025-01-16T13:20:44.014Z"
   },
   {
    "duration": 6,
    "start_time": "2025-01-16T13:21:03.743Z"
   },
   {
    "duration": 3,
    "start_time": "2025-01-16T13:21:04.655Z"
   },
   {
    "duration": 123,
    "start_time": "2025-01-16T13:21:16.742Z"
   },
   {
    "duration": 96,
    "start_time": "2025-01-16T13:21:20.607Z"
   },
   {
    "duration": 9,
    "start_time": "2025-01-16T13:21:25.742Z"
   },
   {
    "duration": 15,
    "start_time": "2025-01-16T14:01:42.204Z"
   },
   {
    "duration": 6,
    "start_time": "2025-01-16T14:02:03.428Z"
   },
   {
    "duration": 14,
    "start_time": "2025-01-16T14:10:08.770Z"
   },
   {
    "duration": 17,
    "start_time": "2025-01-16T14:11:06.399Z"
   },
   {
    "duration": 4,
    "start_time": "2025-01-16T14:11:07.383Z"
   },
   {
    "duration": 5,
    "start_time": "2025-01-16T14:11:08.303Z"
   },
   {
    "duration": 18,
    "start_time": "2025-01-16T14:11:19.983Z"
   },
   {
    "duration": 6,
    "start_time": "2025-01-16T14:13:10.389Z"
   },
   {
    "duration": 3,
    "start_time": "2025-01-16T14:24:40.858Z"
   },
   {
    "duration": 3,
    "start_time": "2025-01-16T14:24:46.882Z"
   },
   {
    "duration": 13,
    "start_time": "2025-01-16T14:25:35.231Z"
   },
   {
    "duration": 111,
    "start_time": "2025-01-16T14:25:50.248Z"
   },
   {
    "duration": 11,
    "start_time": "2025-01-16T14:25:52.343Z"
   },
   {
    "duration": 150,
    "start_time": "2025-01-16T14:26:05.304Z"
   },
   {
    "duration": 11,
    "start_time": "2025-01-16T14:26:06.392Z"
   },
   {
    "duration": 3,
    "start_time": "2025-01-16T14:27:04.941Z"
   },
   {
    "duration": 9,
    "start_time": "2025-01-16T14:27:05.877Z"
   },
   {
    "duration": 8,
    "start_time": "2025-01-16T14:27:40.601Z"
   },
   {
    "duration": 2,
    "start_time": "2025-01-16T14:29:41.593Z"
   },
   {
    "duration": 390,
    "start_time": "2025-01-16T14:29:42.136Z"
   },
   {
    "duration": 8,
    "start_time": "2025-01-16T14:29:42.593Z"
   },
   {
    "duration": 9,
    "start_time": "2025-01-16T14:30:14.901Z"
   },
   {
    "duration": 410,
    "start_time": "2025-01-16T14:30:42.525Z"
   },
   {
    "duration": 8,
    "start_time": "2025-01-16T14:37:26.222Z"
   },
   {
    "duration": 9,
    "start_time": "2025-01-16T14:37:27.702Z"
   },
   {
    "duration": 2,
    "start_time": "2025-01-16T14:38:41.963Z"
   },
   {
    "duration": 6,
    "start_time": "2025-01-16T14:39:18.412Z"
   },
   {
    "duration": 6,
    "start_time": "2025-01-16T14:39:32.980Z"
   },
   {
    "duration": 1588,
    "start_time": "2025-01-16T14:40:20.298Z"
   },
   {
    "duration": 4,
    "start_time": "2025-01-16T14:40:50.018Z"
   },
   {
    "duration": 20,
    "start_time": "2025-01-16T14:40:50.023Z"
   },
   {
    "duration": 12,
    "start_time": "2025-01-16T14:40:50.044Z"
   },
   {
    "duration": 2555,
    "start_time": "2025-01-16T14:40:50.058Z"
   },
   {
    "duration": 370,
    "start_time": "2025-01-16T14:40:52.615Z"
   },
   {
    "duration": 728,
    "start_time": "2025-01-16T14:40:52.987Z"
   },
   {
    "duration": 45,
    "start_time": "2025-01-16T14:40:53.716Z"
   },
   {
    "duration": 82,
    "start_time": "2025-01-16T14:40:53.762Z"
   },
   {
    "duration": 107,
    "start_time": "2025-01-16T14:40:53.846Z"
   },
   {
    "duration": 0,
    "start_time": "2025-01-16T14:40:53.955Z"
   },
   {
    "duration": 0,
    "start_time": "2025-01-16T14:40:53.957Z"
   },
   {
    "duration": 0,
    "start_time": "2025-01-16T14:40:53.960Z"
   },
   {
    "duration": 0,
    "start_time": "2025-01-16T14:40:53.962Z"
   },
   {
    "duration": 0,
    "start_time": "2025-01-16T14:40:53.963Z"
   },
   {
    "duration": 0,
    "start_time": "2025-01-16T14:40:53.964Z"
   },
   {
    "duration": 0,
    "start_time": "2025-01-16T14:40:53.966Z"
   },
   {
    "duration": 0,
    "start_time": "2025-01-16T14:40:53.968Z"
   },
   {
    "duration": 0,
    "start_time": "2025-01-16T14:40:53.970Z"
   },
   {
    "duration": 0,
    "start_time": "2025-01-16T14:40:53.971Z"
   },
   {
    "duration": 0,
    "start_time": "2025-01-16T14:40:53.973Z"
   },
   {
    "duration": 0,
    "start_time": "2025-01-16T14:40:53.974Z"
   },
   {
    "duration": 0,
    "start_time": "2025-01-16T14:40:53.975Z"
   },
   {
    "duration": 0,
    "start_time": "2025-01-16T14:40:53.977Z"
   },
   {
    "duration": 0,
    "start_time": "2025-01-16T14:40:53.978Z"
   },
   {
    "duration": 0,
    "start_time": "2025-01-16T14:40:53.980Z"
   },
   {
    "duration": 0,
    "start_time": "2025-01-16T14:40:53.981Z"
   },
   {
    "duration": 0,
    "start_time": "2025-01-16T14:40:53.983Z"
   },
   {
    "duration": 0,
    "start_time": "2025-01-16T14:40:53.984Z"
   },
   {
    "duration": 0,
    "start_time": "2025-01-16T14:40:53.985Z"
   },
   {
    "duration": 0,
    "start_time": "2025-01-16T14:40:53.986Z"
   },
   {
    "duration": 0,
    "start_time": "2025-01-16T14:40:53.987Z"
   },
   {
    "duration": 14,
    "start_time": "2025-01-16T14:40:58.739Z"
   },
   {
    "duration": 12,
    "start_time": "2025-01-16T14:40:59.530Z"
   },
   {
    "duration": 9,
    "start_time": "2025-01-16T14:41:00.083Z"
   },
   {
    "duration": 10,
    "start_time": "2025-01-16T14:41:00.490Z"
   },
   {
    "duration": 4,
    "start_time": "2025-01-16T14:41:00.914Z"
   },
   {
    "duration": 3,
    "start_time": "2025-01-16T14:41:01.363Z"
   },
   {
    "duration": 9,
    "start_time": "2025-01-16T14:41:01.931Z"
   },
   {
    "duration": 6,
    "start_time": "2025-01-16T14:41:02.515Z"
   },
   {
    "duration": 10,
    "start_time": "2025-01-16T14:41:04.290Z"
   },
   {
    "duration": 13,
    "start_time": "2025-01-16T14:41:04.794Z"
   },
   {
    "duration": 16,
    "start_time": "2025-01-16T14:41:05.779Z"
   },
   {
    "duration": 4,
    "start_time": "2025-01-16T14:41:06.938Z"
   },
   {
    "duration": 12,
    "start_time": "2025-01-16T14:41:07.514Z"
   },
   {
    "duration": 13,
    "start_time": "2025-01-16T14:41:08.043Z"
   },
   {
    "duration": 6,
    "start_time": "2025-01-16T14:41:09.394Z"
   },
   {
    "duration": 4,
    "start_time": "2025-01-16T14:41:09.818Z"
   },
   {
    "duration": 7,
    "start_time": "2025-01-16T14:41:10.875Z"
   },
   {
    "duration": 15,
    "start_time": "2025-01-16T14:41:16.066Z"
   },
   {
    "duration": 7,
    "start_time": "2025-01-16T14:41:17.139Z"
   },
   {
    "duration": 3,
    "start_time": "2025-01-16T14:41:20.810Z"
   },
   {
    "duration": 6,
    "start_time": "2025-01-16T14:41:21.419Z"
   },
   {
    "duration": 1731,
    "start_time": "2025-01-16T14:41:22.163Z"
   },
   {
    "duration": 10,
    "start_time": "2025-01-16T14:42:52.577Z"
   },
   {
    "duration": 3,
    "start_time": "2025-01-16T14:43:15.777Z"
   },
   {
    "duration": 5,
    "start_time": "2025-01-16T14:43:16.289Z"
   },
   {
    "duration": 9,
    "start_time": "2025-01-16T14:43:17.133Z"
   },
   {
    "duration": 9,
    "start_time": "2025-01-16T15:08:43.254Z"
   },
   {
    "duration": 8,
    "start_time": "2025-01-16T15:08:55.278Z"
   },
   {
    "duration": 8,
    "start_time": "2025-01-16T15:08:59.694Z"
   },
   {
    "duration": 9,
    "start_time": "2025-01-16T15:09:05.606Z"
   },
   {
    "duration": 246,
    "start_time": "2025-01-16T15:25:28.456Z"
   },
   {
    "duration": 13,
    "start_time": "2025-01-16T15:29:25.472Z"
   },
   {
    "duration": 6,
    "start_time": "2025-01-16T15:36:07.620Z"
   },
   {
    "duration": 9,
    "start_time": "2025-01-16T15:36:08.392Z"
   },
   {
    "duration": 5,
    "start_time": "2025-01-16T15:36:22.032Z"
   },
   {
    "duration": 9,
    "start_time": "2025-01-16T15:36:22.868Z"
   },
   {
    "duration": 3,
    "start_time": "2025-01-16T15:36:48.675Z"
   },
   {
    "duration": 9,
    "start_time": "2025-01-16T15:36:48.679Z"
   },
   {
    "duration": 3,
    "start_time": "2025-01-16T15:36:48.690Z"
   },
   {
    "duration": 2570,
    "start_time": "2025-01-16T15:36:48.694Z"
   },
   {
    "duration": 377,
    "start_time": "2025-01-16T15:36:51.266Z"
   },
   {
    "duration": 690,
    "start_time": "2025-01-16T15:36:51.644Z"
   },
   {
    "duration": 48,
    "start_time": "2025-01-16T15:36:52.335Z"
   },
   {
    "duration": 82,
    "start_time": "2025-01-16T15:36:52.384Z"
   },
   {
    "duration": 91,
    "start_time": "2025-01-16T15:36:52.467Z"
   },
   {
    "duration": 0,
    "start_time": "2025-01-16T15:36:52.560Z"
   },
   {
    "duration": 0,
    "start_time": "2025-01-16T15:36:52.561Z"
   },
   {
    "duration": 0,
    "start_time": "2025-01-16T15:36:52.562Z"
   },
   {
    "duration": 0,
    "start_time": "2025-01-16T15:36:52.563Z"
   },
   {
    "duration": 0,
    "start_time": "2025-01-16T15:36:52.564Z"
   },
   {
    "duration": 0,
    "start_time": "2025-01-16T15:36:52.565Z"
   },
   {
    "duration": 0,
    "start_time": "2025-01-16T15:36:52.566Z"
   },
   {
    "duration": 0,
    "start_time": "2025-01-16T15:36:52.567Z"
   },
   {
    "duration": 0,
    "start_time": "2025-01-16T15:36:52.568Z"
   },
   {
    "duration": 0,
    "start_time": "2025-01-16T15:36:52.569Z"
   },
   {
    "duration": 0,
    "start_time": "2025-01-16T15:36:52.569Z"
   },
   {
    "duration": 0,
    "start_time": "2025-01-16T15:36:52.570Z"
   },
   {
    "duration": 0,
    "start_time": "2025-01-16T15:36:52.571Z"
   },
   {
    "duration": 0,
    "start_time": "2025-01-16T15:36:52.572Z"
   },
   {
    "duration": 0,
    "start_time": "2025-01-16T15:36:52.573Z"
   },
   {
    "duration": 0,
    "start_time": "2025-01-16T15:36:52.573Z"
   },
   {
    "duration": 0,
    "start_time": "2025-01-16T15:36:52.574Z"
   },
   {
    "duration": 0,
    "start_time": "2025-01-16T15:36:52.575Z"
   },
   {
    "duration": 0,
    "start_time": "2025-01-16T15:36:52.576Z"
   },
   {
    "duration": 0,
    "start_time": "2025-01-16T15:36:52.577Z"
   },
   {
    "duration": 0,
    "start_time": "2025-01-16T15:36:52.578Z"
   },
   {
    "duration": 0,
    "start_time": "2025-01-16T15:36:52.579Z"
   },
   {
    "duration": 0,
    "start_time": "2025-01-16T15:36:52.579Z"
   },
   {
    "duration": 0,
    "start_time": "2025-01-16T15:36:52.580Z"
   },
   {
    "duration": 0,
    "start_time": "2025-01-16T15:36:52.581Z"
   },
   {
    "duration": 14,
    "start_time": "2025-01-16T15:37:00.545Z"
   },
   {
    "duration": 12,
    "start_time": "2025-01-16T15:37:01.346Z"
   },
   {
    "duration": 9,
    "start_time": "2025-01-16T15:37:04.094Z"
   },
   {
    "duration": 10,
    "start_time": "2025-01-16T15:37:04.623Z"
   },
   {
    "duration": 3,
    "start_time": "2025-01-16T15:37:05.071Z"
   },
   {
    "duration": 3,
    "start_time": "2025-01-16T15:37:05.494Z"
   },
   {
    "duration": 9,
    "start_time": "2025-01-16T15:37:05.886Z"
   },
   {
    "duration": 7,
    "start_time": "2025-01-16T15:37:06.278Z"
   },
   {
    "duration": 9,
    "start_time": "2025-01-16T15:37:07.861Z"
   },
   {
    "duration": 13,
    "start_time": "2025-01-16T15:37:08.365Z"
   },
   {
    "duration": 16,
    "start_time": "2025-01-16T15:37:08.862Z"
   },
   {
    "duration": 4,
    "start_time": "2025-01-16T15:37:09.757Z"
   },
   {
    "duration": 12,
    "start_time": "2025-01-16T15:37:10.710Z"
   },
   {
    "duration": 13,
    "start_time": "2025-01-16T15:37:11.998Z"
   },
   {
    "duration": 6,
    "start_time": "2025-01-16T15:37:19.125Z"
   },
   {
    "duration": 3,
    "start_time": "2025-01-16T15:37:19.646Z"
   },
   {
    "duration": 9,
    "start_time": "2025-01-16T15:37:20.278Z"
   },
   {
    "duration": 14,
    "start_time": "2025-01-16T15:37:22.302Z"
   },
   {
    "duration": 5,
    "start_time": "2025-01-16T15:37:24.319Z"
   },
   {
    "duration": 2,
    "start_time": "2025-01-16T15:37:25.670Z"
   },
   {
    "duration": 5,
    "start_time": "2025-01-16T15:37:26.150Z"
   },
   {
    "duration": 10,
    "start_time": "2025-01-16T15:37:26.702Z"
   },
   {
    "duration": 3,
    "start_time": "2025-01-16T15:37:31.510Z"
   },
   {
    "duration": 6,
    "start_time": "2025-01-16T15:37:32.127Z"
   },
   {
    "duration": 143,
    "start_time": "2025-01-16T15:37:33.159Z"
   },
   {
    "duration": 134,
    "start_time": "2025-01-16T15:38:09.899Z"
   },
   {
    "duration": 132,
    "start_time": "2025-01-16T15:39:53.706Z"
   },
   {
    "duration": 115,
    "start_time": "2025-01-16T15:41:14.762Z"
   },
   {
    "duration": 103,
    "start_time": "2025-01-16T15:42:04.764Z"
   },
   {
    "duration": 135,
    "start_time": "2025-01-16T15:42:11.676Z"
   },
   {
    "duration": 4,
    "start_time": "2025-01-16T16:30:59.850Z"
   },
   {
    "duration": 5,
    "start_time": "2025-01-16T16:31:08.802Z"
   },
   {
    "duration": 5,
    "start_time": "2025-01-16T16:38:01.626Z"
   },
   {
    "duration": 164,
    "start_time": "2025-01-16T16:38:01.906Z"
   },
   {
    "duration": 109,
    "start_time": "2025-01-16T16:38:02.811Z"
   },
   {
    "duration": 112,
    "start_time": "2025-01-16T16:38:30.347Z"
   },
   {
    "duration": 264,
    "start_time": "2025-01-16T16:39:07.140Z"
   },
   {
    "duration": 5,
    "start_time": "2025-01-16T16:39:29.728Z"
   },
   {
    "duration": 190,
    "start_time": "2025-01-16T16:39:30.136Z"
   },
   {
    "duration": 206,
    "start_time": "2025-01-16T16:40:00.554Z"
   },
   {
    "duration": 190,
    "start_time": "2025-01-16T16:40:25.390Z"
   },
   {
    "duration": 6,
    "start_time": "2025-01-16T16:41:41.690Z"
   },
   {
    "duration": 189,
    "start_time": "2025-01-16T16:41:42.042Z"
   },
   {
    "duration": 3,
    "start_time": "2025-01-16T16:41:50.697Z"
   },
   {
    "duration": 7,
    "start_time": "2025-01-16T16:41:50.702Z"
   },
   {
    "duration": 15,
    "start_time": "2025-01-16T16:41:50.710Z"
   },
   {
    "duration": 2637,
    "start_time": "2025-01-16T16:41:50.727Z"
   },
   {
    "duration": 376,
    "start_time": "2025-01-16T16:41:53.366Z"
   },
   {
    "duration": 786,
    "start_time": "2025-01-16T16:41:53.744Z"
   },
   {
    "duration": 49,
    "start_time": "2025-01-16T16:41:54.532Z"
   },
   {
    "duration": 82,
    "start_time": "2025-01-16T16:41:54.582Z"
   },
   {
    "duration": 89,
    "start_time": "2025-01-16T16:41:54.667Z"
   },
   {
    "duration": 0,
    "start_time": "2025-01-16T16:41:54.757Z"
   },
   {
    "duration": 0,
    "start_time": "2025-01-16T16:41:54.759Z"
   },
   {
    "duration": 0,
    "start_time": "2025-01-16T16:41:54.760Z"
   },
   {
    "duration": 0,
    "start_time": "2025-01-16T16:41:54.761Z"
   },
   {
    "duration": 0,
    "start_time": "2025-01-16T16:41:54.762Z"
   },
   {
    "duration": 0,
    "start_time": "2025-01-16T16:41:54.763Z"
   },
   {
    "duration": 0,
    "start_time": "2025-01-16T16:41:54.764Z"
   },
   {
    "duration": 0,
    "start_time": "2025-01-16T16:41:54.765Z"
   },
   {
    "duration": 0,
    "start_time": "2025-01-16T16:41:54.766Z"
   },
   {
    "duration": 0,
    "start_time": "2025-01-16T16:41:54.767Z"
   },
   {
    "duration": 0,
    "start_time": "2025-01-16T16:41:54.768Z"
   },
   {
    "duration": 0,
    "start_time": "2025-01-16T16:41:54.769Z"
   },
   {
    "duration": 0,
    "start_time": "2025-01-16T16:41:54.770Z"
   },
   {
    "duration": 0,
    "start_time": "2025-01-16T16:41:54.771Z"
   },
   {
    "duration": 0,
    "start_time": "2025-01-16T16:41:54.772Z"
   },
   {
    "duration": 0,
    "start_time": "2025-01-16T16:41:54.773Z"
   },
   {
    "duration": 0,
    "start_time": "2025-01-16T16:41:54.773Z"
   },
   {
    "duration": 0,
    "start_time": "2025-01-16T16:41:54.775Z"
   },
   {
    "duration": 0,
    "start_time": "2025-01-16T16:41:54.775Z"
   },
   {
    "duration": 0,
    "start_time": "2025-01-16T16:41:54.776Z"
   },
   {
    "duration": 0,
    "start_time": "2025-01-16T16:41:54.777Z"
   },
   {
    "duration": 0,
    "start_time": "2025-01-16T16:41:54.778Z"
   },
   {
    "duration": 0,
    "start_time": "2025-01-16T16:41:54.779Z"
   },
   {
    "duration": 0,
    "start_time": "2025-01-16T16:41:54.780Z"
   },
   {
    "duration": 0,
    "start_time": "2025-01-16T16:41:54.782Z"
   },
   {
    "duration": 0,
    "start_time": "2025-01-16T16:41:54.783Z"
   },
   {
    "duration": 0,
    "start_time": "2025-01-16T16:41:54.784Z"
   },
   {
    "duration": 0,
    "start_time": "2025-01-16T16:41:54.785Z"
   },
   {
    "duration": 0,
    "start_time": "2025-01-16T16:41:54.786Z"
   },
   {
    "duration": 0,
    "start_time": "2025-01-16T16:41:54.786Z"
   },
   {
    "duration": 0,
    "start_time": "2025-01-16T16:41:54.787Z"
   },
   {
    "duration": 14,
    "start_time": "2025-01-16T16:41:58.285Z"
   },
   {
    "duration": 13,
    "start_time": "2025-01-16T16:41:58.733Z"
   },
   {
    "duration": 9,
    "start_time": "2025-01-16T16:41:59.221Z"
   },
   {
    "duration": 9,
    "start_time": "2025-01-16T16:41:59.630Z"
   },
   {
    "duration": 4,
    "start_time": "2025-01-16T16:41:59.997Z"
   },
   {
    "duration": 3,
    "start_time": "2025-01-16T16:42:00.358Z"
   },
   {
    "duration": 9,
    "start_time": "2025-01-16T16:42:00.766Z"
   },
   {
    "duration": 7,
    "start_time": "2025-01-16T16:42:01.118Z"
   },
   {
    "duration": 10,
    "start_time": "2025-01-16T16:42:02.613Z"
   },
   {
    "duration": 13,
    "start_time": "2025-01-16T16:42:03.022Z"
   },
   {
    "duration": 16,
    "start_time": "2025-01-16T16:42:03.413Z"
   },
   {
    "duration": 3,
    "start_time": "2025-01-16T16:42:04.230Z"
   },
   {
    "duration": 13,
    "start_time": "2025-01-16T16:42:04.589Z"
   },
   {
    "duration": 13,
    "start_time": "2025-01-16T16:42:04.982Z"
   },
   {
    "duration": 6,
    "start_time": "2025-01-16T16:42:05.774Z"
   },
   {
    "duration": 4,
    "start_time": "2025-01-16T16:42:06.222Z"
   },
   {
    "duration": 8,
    "start_time": "2025-01-16T16:42:06.638Z"
   },
   {
    "duration": 14,
    "start_time": "2025-01-16T16:42:07.438Z"
   },
   {
    "duration": 6,
    "start_time": "2025-01-16T16:42:07.918Z"
   },
   {
    "duration": 2,
    "start_time": "2025-01-16T16:42:08.942Z"
   },
   {
    "duration": 4,
    "start_time": "2025-01-16T16:42:10.118Z"
   },
   {
    "duration": 10,
    "start_time": "2025-01-16T16:42:10.558Z"
   },
   {
    "duration": 4,
    "start_time": "2025-01-16T16:42:13.365Z"
   },
   {
    "duration": 9,
    "start_time": "2025-01-16T16:42:13.918Z"
   },
   {
    "duration": 156,
    "start_time": "2025-01-16T16:42:15.750Z"
   },
   {
    "duration": 4,
    "start_time": "2025-01-16T16:42:22.766Z"
   },
   {
    "duration": 5,
    "start_time": "2025-01-16T16:42:24.182Z"
   },
   {
    "duration": 6,
    "start_time": "2025-01-16T16:42:24.966Z"
   },
   {
    "duration": 189,
    "start_time": "2025-01-16T16:42:26.119Z"
   },
   {
    "duration": 207,
    "start_time": "2025-01-16T16:46:14.350Z"
   },
   {
    "duration": 9,
    "start_time": "2025-01-16T16:46:23.890Z"
   },
   {
    "duration": 202,
    "start_time": "2025-01-16T16:51:44.009Z"
   },
   {
    "duration": 237,
    "start_time": "2025-01-16T16:51:53.217Z"
   },
   {
    "duration": 186,
    "start_time": "2025-01-16T16:52:05.874Z"
   },
   {
    "duration": 6,
    "start_time": "2025-01-16T16:54:01.426Z"
   },
   {
    "duration": 102,
    "start_time": "2025-01-16T16:54:01.867Z"
   },
   {
    "duration": 9,
    "start_time": "2025-01-16T16:54:02.579Z"
   },
   {
    "duration": 1622,
    "start_time": "2025-01-16T16:54:54.423Z"
   },
   {
    "duration": 0,
    "start_time": "2025-01-16T16:54:56.047Z"
   },
   {
    "duration": 4,
    "start_time": "2025-01-16T16:55:24.401Z"
   },
   {
    "duration": 142,
    "start_time": "2025-01-16T16:55:25.313Z"
   },
   {
    "duration": 1700,
    "start_time": "2025-01-16T16:55:54.149Z"
   },
   {
    "duration": 0,
    "start_time": "2025-01-16T16:55:55.851Z"
   },
   {
    "duration": 3,
    "start_time": "2025-01-16T16:56:08.206Z"
   },
   {
    "duration": 137,
    "start_time": "2025-01-16T16:56:08.997Z"
   },
   {
    "duration": 142,
    "start_time": "2025-01-16T16:56:28.550Z"
   },
   {
    "duration": 133,
    "start_time": "2025-01-16T16:56:36.158Z"
   },
   {
    "duration": 141,
    "start_time": "2025-01-16T16:56:43.262Z"
   },
   {
    "duration": 158,
    "start_time": "2025-01-16T16:57:14.199Z"
   },
   {
    "duration": 4,
    "start_time": "2025-01-16T16:59:12.009Z"
   },
   {
    "duration": 4,
    "start_time": "2025-01-16T16:59:12.913Z"
   },
   {
    "duration": 6,
    "start_time": "2025-01-16T16:59:13.377Z"
   },
   {
    "duration": 174,
    "start_time": "2025-01-16T16:59:14.232Z"
   },
   {
    "duration": 143,
    "start_time": "2025-01-16T16:59:34.734Z"
   },
   {
    "duration": 143,
    "start_time": "2025-01-16T16:59:46.054Z"
   },
   {
    "duration": 171,
    "start_time": "2025-01-16T16:59:52.134Z"
   },
   {
    "duration": 222,
    "start_time": "2025-01-16T17:00:07.766Z"
   },
   {
    "duration": 163,
    "start_time": "2025-01-16T17:06:16.465Z"
   },
   {
    "duration": 159,
    "start_time": "2025-01-16T17:06:24.369Z"
   },
   {
    "duration": 3,
    "start_time": "2025-01-16T17:08:32.754Z"
   },
   {
    "duration": 20,
    "start_time": "2025-01-16T17:08:32.759Z"
   },
   {
    "duration": 45,
    "start_time": "2025-01-16T17:08:32.781Z"
   },
   {
    "duration": 2686,
    "start_time": "2025-01-16T17:08:32.829Z"
   },
   {
    "duration": 387,
    "start_time": "2025-01-16T17:08:35.517Z"
   },
   {
    "duration": 726,
    "start_time": "2025-01-16T17:08:35.906Z"
   },
   {
    "duration": 67,
    "start_time": "2025-01-16T17:08:36.634Z"
   },
   {
    "duration": 85,
    "start_time": "2025-01-16T17:08:36.702Z"
   },
   {
    "duration": 146,
    "start_time": "2025-01-16T17:08:36.790Z"
   },
   {
    "duration": 0,
    "start_time": "2025-01-16T17:08:36.938Z"
   },
   {
    "duration": 0,
    "start_time": "2025-01-16T17:08:36.939Z"
   },
   {
    "duration": 0,
    "start_time": "2025-01-16T17:08:36.940Z"
   },
   {
    "duration": 0,
    "start_time": "2025-01-16T17:08:36.942Z"
   },
   {
    "duration": 0,
    "start_time": "2025-01-16T17:08:36.943Z"
   },
   {
    "duration": 0,
    "start_time": "2025-01-16T17:08:36.944Z"
   },
   {
    "duration": 0,
    "start_time": "2025-01-16T17:08:36.946Z"
   },
   {
    "duration": 0,
    "start_time": "2025-01-16T17:08:36.948Z"
   },
   {
    "duration": 0,
    "start_time": "2025-01-16T17:08:36.949Z"
   },
   {
    "duration": 0,
    "start_time": "2025-01-16T17:08:36.950Z"
   },
   {
    "duration": 0,
    "start_time": "2025-01-16T17:08:36.952Z"
   },
   {
    "duration": 0,
    "start_time": "2025-01-16T17:08:36.953Z"
   },
   {
    "duration": 0,
    "start_time": "2025-01-16T17:08:36.955Z"
   },
   {
    "duration": 0,
    "start_time": "2025-01-16T17:08:36.956Z"
   },
   {
    "duration": 0,
    "start_time": "2025-01-16T17:08:36.957Z"
   },
   {
    "duration": 0,
    "start_time": "2025-01-16T17:08:36.959Z"
   },
   {
    "duration": 0,
    "start_time": "2025-01-16T17:08:36.960Z"
   },
   {
    "duration": 0,
    "start_time": "2025-01-16T17:08:36.961Z"
   },
   {
    "duration": 0,
    "start_time": "2025-01-16T17:08:36.963Z"
   },
   {
    "duration": 0,
    "start_time": "2025-01-16T17:08:36.964Z"
   },
   {
    "duration": 0,
    "start_time": "2025-01-16T17:08:36.965Z"
   },
   {
    "duration": 0,
    "start_time": "2025-01-16T17:08:36.967Z"
   },
   {
    "duration": 0,
    "start_time": "2025-01-16T17:08:36.968Z"
   },
   {
    "duration": 0,
    "start_time": "2025-01-16T17:08:36.970Z"
   },
   {
    "duration": 0,
    "start_time": "2025-01-16T17:08:36.971Z"
   },
   {
    "duration": 0,
    "start_time": "2025-01-16T17:08:36.972Z"
   },
   {
    "duration": 0,
    "start_time": "2025-01-16T17:08:36.974Z"
   },
   {
    "duration": 0,
    "start_time": "2025-01-16T17:08:36.975Z"
   },
   {
    "duration": 0,
    "start_time": "2025-01-16T17:08:36.977Z"
   },
   {
    "duration": 0,
    "start_time": "2025-01-16T17:08:36.978Z"
   },
   {
    "duration": 0,
    "start_time": "2025-01-16T17:08:36.979Z"
   },
   {
    "duration": 0,
    "start_time": "2025-01-16T17:08:36.980Z"
   },
   {
    "duration": 0,
    "start_time": "2025-01-16T17:08:36.982Z"
   },
   {
    "duration": 53,
    "start_time": "2025-01-16T19:21:15.535Z"
   },
   {
    "duration": 6,
    "start_time": "2025-01-16T19:21:16.785Z"
   },
   {
    "duration": 5,
    "start_time": "2025-01-16T19:21:30.738Z"
   },
   {
    "duration": 5,
    "start_time": "2025-01-16T19:21:31.338Z"
   },
   {
    "duration": 3,
    "start_time": "2025-01-16T19:21:41.515Z"
   },
   {
    "duration": 13,
    "start_time": "2025-01-16T19:21:41.519Z"
   },
   {
    "duration": 9,
    "start_time": "2025-01-16T19:21:41.533Z"
   },
   {
    "duration": 4094,
    "start_time": "2025-01-16T19:21:41.543Z"
   },
   {
    "duration": 410,
    "start_time": "2025-01-16T19:21:45.640Z"
   },
   {
    "duration": 891,
    "start_time": "2025-01-16T19:21:46.053Z"
   },
   {
    "duration": 54,
    "start_time": "2025-01-16T19:21:46.946Z"
   },
   {
    "duration": 240,
    "start_time": "2025-01-16T19:21:47.001Z"
   },
   {
    "duration": 97,
    "start_time": "2025-01-16T19:21:47.242Z"
   },
   {
    "duration": 0,
    "start_time": "2025-01-16T19:21:47.341Z"
   },
   {
    "duration": 0,
    "start_time": "2025-01-16T19:21:47.343Z"
   },
   {
    "duration": 0,
    "start_time": "2025-01-16T19:21:47.344Z"
   },
   {
    "duration": 0,
    "start_time": "2025-01-16T19:21:47.345Z"
   },
   {
    "duration": 0,
    "start_time": "2025-01-16T19:21:47.346Z"
   },
   {
    "duration": 0,
    "start_time": "2025-01-16T19:21:47.346Z"
   },
   {
    "duration": 0,
    "start_time": "2025-01-16T19:21:47.347Z"
   },
   {
    "duration": 0,
    "start_time": "2025-01-16T19:21:47.348Z"
   },
   {
    "duration": 0,
    "start_time": "2025-01-16T19:21:47.349Z"
   },
   {
    "duration": 0,
    "start_time": "2025-01-16T19:21:47.349Z"
   },
   {
    "duration": 0,
    "start_time": "2025-01-16T19:21:47.350Z"
   },
   {
    "duration": 0,
    "start_time": "2025-01-16T19:21:47.351Z"
   },
   {
    "duration": 0,
    "start_time": "2025-01-16T19:21:47.354Z"
   },
   {
    "duration": 0,
    "start_time": "2025-01-16T19:21:47.356Z"
   },
   {
    "duration": 0,
    "start_time": "2025-01-16T19:21:47.357Z"
   },
   {
    "duration": 1,
    "start_time": "2025-01-16T19:21:47.357Z"
   },
   {
    "duration": 0,
    "start_time": "2025-01-16T19:21:47.358Z"
   },
   {
    "duration": 0,
    "start_time": "2025-01-16T19:21:47.359Z"
   },
   {
    "duration": 0,
    "start_time": "2025-01-16T19:21:47.360Z"
   },
   {
    "duration": 0,
    "start_time": "2025-01-16T19:21:47.361Z"
   },
   {
    "duration": 0,
    "start_time": "2025-01-16T19:21:47.362Z"
   },
   {
    "duration": 0,
    "start_time": "2025-01-16T19:21:47.363Z"
   },
   {
    "duration": 0,
    "start_time": "2025-01-16T19:21:47.364Z"
   },
   {
    "duration": 0,
    "start_time": "2025-01-16T19:21:47.364Z"
   },
   {
    "duration": 0,
    "start_time": "2025-01-16T19:21:47.365Z"
   },
   {
    "duration": 0,
    "start_time": "2025-01-16T19:21:47.366Z"
   },
   {
    "duration": 0,
    "start_time": "2025-01-16T19:21:47.367Z"
   },
   {
    "duration": 0,
    "start_time": "2025-01-16T19:21:47.368Z"
   },
   {
    "duration": 0,
    "start_time": "2025-01-16T19:21:47.373Z"
   },
   {
    "duration": 0,
    "start_time": "2025-01-16T19:21:47.374Z"
   },
   {
    "duration": 0,
    "start_time": "2025-01-16T19:21:47.375Z"
   },
   {
    "duration": 0,
    "start_time": "2025-01-16T19:21:47.376Z"
   },
   {
    "duration": 0,
    "start_time": "2025-01-16T19:21:47.376Z"
   },
   {
    "duration": 14,
    "start_time": "2025-01-16T19:21:51.889Z"
   },
   {
    "duration": 13,
    "start_time": "2025-01-16T19:21:52.714Z"
   },
   {
    "duration": 9,
    "start_time": "2025-01-16T19:21:53.018Z"
   },
   {
    "duration": 10,
    "start_time": "2025-01-16T19:21:53.282Z"
   },
   {
    "duration": 3,
    "start_time": "2025-01-16T19:21:53.515Z"
   },
   {
    "duration": 3,
    "start_time": "2025-01-16T19:21:53.682Z"
   },
   {
    "duration": 9,
    "start_time": "2025-01-16T19:22:27.714Z"
   },
   {
    "duration": 13,
    "start_time": "2025-01-16T19:22:28.150Z"
   },
   {
    "duration": 9,
    "start_time": "2025-01-16T19:22:30.315Z"
   },
   {
    "duration": 14,
    "start_time": "2025-01-16T19:22:30.826Z"
   },
   {
    "duration": 18,
    "start_time": "2025-01-16T19:22:31.399Z"
   },
   {
    "duration": 3,
    "start_time": "2025-01-16T19:22:32.406Z"
   },
   {
    "duration": 13,
    "start_time": "2025-01-16T19:22:33.742Z"
   },
   {
    "duration": 14,
    "start_time": "2025-01-16T19:22:34.460Z"
   },
   {
    "duration": 6,
    "start_time": "2025-01-16T19:22:35.742Z"
   },
   {
    "duration": 3,
    "start_time": "2025-01-16T19:22:36.287Z"
   },
   {
    "duration": 9,
    "start_time": "2025-01-16T19:22:36.868Z"
   },
   {
    "duration": 14,
    "start_time": "2025-01-16T19:22:37.894Z"
   },
   {
    "duration": 5,
    "start_time": "2025-01-16T19:22:38.102Z"
   },
   {
    "duration": 3,
    "start_time": "2025-01-16T19:22:38.502Z"
   },
   {
    "duration": 5,
    "start_time": "2025-01-16T19:22:39.030Z"
   },
   {
    "duration": 11,
    "start_time": "2025-01-16T19:22:39.510Z"
   },
   {
    "duration": 4,
    "start_time": "2025-01-16T19:22:42.070Z"
   },
   {
    "duration": 6,
    "start_time": "2025-01-16T19:22:42.471Z"
   },
   {
    "duration": 159,
    "start_time": "2025-01-16T19:22:42.660Z"
   },
   {
    "duration": 4,
    "start_time": "2025-01-16T19:22:44.382Z"
   },
   {
    "duration": 4,
    "start_time": "2025-01-16T19:22:44.591Z"
   },
   {
    "duration": 6,
    "start_time": "2025-01-16T19:22:44.822Z"
   },
   {
    "duration": 194,
    "start_time": "2025-01-16T19:22:45.087Z"
   },
   {
    "duration": 4,
    "start_time": "2025-01-16T19:22:45.623Z"
   },
   {
    "duration": 5,
    "start_time": "2025-01-16T19:22:46.461Z"
   },
   {
    "duration": 7,
    "start_time": "2025-01-16T19:22:47.847Z"
   },
   {
    "duration": 161,
    "start_time": "2025-01-16T19:22:48.465Z"
   },
   {
    "duration": 107,
    "start_time": "2025-01-16T19:23:22.816Z"
   },
   {
    "duration": 6,
    "start_time": "2025-01-16T19:39:58.467Z"
   },
   {
    "duration": 6,
    "start_time": "2025-01-16T19:40:18.330Z"
   },
   {
    "duration": 6,
    "start_time": "2025-01-16T19:40:37.519Z"
   },
   {
    "duration": 11,
    "start_time": "2025-01-16T19:41:05.776Z"
   },
   {
    "duration": 19,
    "start_time": "2025-01-16T19:41:42.377Z"
   },
   {
    "duration": 11,
    "start_time": "2025-01-16T19:41:49.325Z"
   },
   {
    "duration": 17,
    "start_time": "2025-01-16T19:42:42.550Z"
   },
   {
    "duration": 6,
    "start_time": "2025-01-16T19:42:54.133Z"
   },
   {
    "duration": 22,
    "start_time": "2025-01-16T19:43:01.358Z"
   },
   {
    "duration": 127,
    "start_time": "2025-01-16T19:48:01.382Z"
   },
   {
    "duration": 193,
    "start_time": "2025-01-16T19:48:39.832Z"
   },
   {
    "duration": 129,
    "start_time": "2025-01-16T19:48:48.193Z"
   },
   {
    "duration": 128,
    "start_time": "2025-01-16T19:48:58.117Z"
   },
   {
    "duration": 215,
    "start_time": "2025-01-16T19:49:34.902Z"
   },
   {
    "duration": 229,
    "start_time": "2025-01-16T19:49:50.860Z"
   },
   {
    "duration": 241,
    "start_time": "2025-01-16T19:50:04.446Z"
   },
   {
    "duration": 226,
    "start_time": "2025-01-16T19:50:09.062Z"
   },
   {
    "duration": 237,
    "start_time": "2025-01-16T19:50:41.691Z"
   },
   {
    "duration": 216,
    "start_time": "2025-01-16T19:50:47.724Z"
   },
   {
    "duration": 221,
    "start_time": "2025-01-16T19:51:01.443Z"
   },
   {
    "duration": 215,
    "start_time": "2025-01-16T19:51:22.208Z"
   },
   {
    "duration": 9,
    "start_time": "2025-01-16T19:55:04.135Z"
   },
   {
    "duration": 8,
    "start_time": "2025-01-16T19:55:22.007Z"
   },
   {
    "duration": 14,
    "start_time": "2025-01-16T19:55:32.048Z"
   },
   {
    "duration": 8,
    "start_time": "2025-01-16T19:55:51.800Z"
   },
   {
    "duration": 5,
    "start_time": "2025-01-16T19:56:04.867Z"
   },
   {
    "duration": 28,
    "start_time": "2025-01-16T19:56:04.874Z"
   },
   {
    "duration": 28,
    "start_time": "2025-01-16T19:56:04.903Z"
   },
   {
    "duration": 2768,
    "start_time": "2025-01-16T19:56:04.933Z"
   },
   {
    "duration": 370,
    "start_time": "2025-01-16T19:56:07.703Z"
   },
   {
    "duration": 754,
    "start_time": "2025-01-16T19:56:08.075Z"
   },
   {
    "duration": 56,
    "start_time": "2025-01-16T19:56:08.830Z"
   },
   {
    "duration": 89,
    "start_time": "2025-01-16T19:56:08.887Z"
   },
   {
    "duration": 96,
    "start_time": "2025-01-16T19:56:08.979Z"
   },
   {
    "duration": 0,
    "start_time": "2025-01-16T19:56:09.078Z"
   },
   {
    "duration": 0,
    "start_time": "2025-01-16T19:56:09.079Z"
   },
   {
    "duration": 0,
    "start_time": "2025-01-16T19:56:09.080Z"
   },
   {
    "duration": 0,
    "start_time": "2025-01-16T19:56:09.081Z"
   },
   {
    "duration": 0,
    "start_time": "2025-01-16T19:56:09.082Z"
   },
   {
    "duration": 0,
    "start_time": "2025-01-16T19:56:09.083Z"
   },
   {
    "duration": 0,
    "start_time": "2025-01-16T19:56:09.084Z"
   },
   {
    "duration": 0,
    "start_time": "2025-01-16T19:56:09.085Z"
   },
   {
    "duration": 0,
    "start_time": "2025-01-16T19:56:09.085Z"
   },
   {
    "duration": 0,
    "start_time": "2025-01-16T19:56:09.086Z"
   },
   {
    "duration": 0,
    "start_time": "2025-01-16T19:56:09.087Z"
   },
   {
    "duration": 0,
    "start_time": "2025-01-16T19:56:09.087Z"
   },
   {
    "duration": 0,
    "start_time": "2025-01-16T19:56:09.088Z"
   },
   {
    "duration": 0,
    "start_time": "2025-01-16T19:56:09.089Z"
   },
   {
    "duration": 0,
    "start_time": "2025-01-16T19:56:09.090Z"
   },
   {
    "duration": 0,
    "start_time": "2025-01-16T19:56:09.091Z"
   },
   {
    "duration": 0,
    "start_time": "2025-01-16T19:56:09.092Z"
   },
   {
    "duration": 0,
    "start_time": "2025-01-16T19:56:09.093Z"
   },
   {
    "duration": 0,
    "start_time": "2025-01-16T19:56:09.094Z"
   },
   {
    "duration": 0,
    "start_time": "2025-01-16T19:56:09.095Z"
   },
   {
    "duration": 0,
    "start_time": "2025-01-16T19:56:09.096Z"
   },
   {
    "duration": 0,
    "start_time": "2025-01-16T19:56:09.097Z"
   },
   {
    "duration": 0,
    "start_time": "2025-01-16T19:56:09.098Z"
   },
   {
    "duration": 0,
    "start_time": "2025-01-16T19:56:09.100Z"
   },
   {
    "duration": 0,
    "start_time": "2025-01-16T19:56:09.101Z"
   },
   {
    "duration": 0,
    "start_time": "2025-01-16T19:56:09.102Z"
   },
   {
    "duration": 0,
    "start_time": "2025-01-16T19:56:09.103Z"
   },
   {
    "duration": 0,
    "start_time": "2025-01-16T19:56:09.104Z"
   },
   {
    "duration": 0,
    "start_time": "2025-01-16T19:56:09.105Z"
   },
   {
    "duration": 0,
    "start_time": "2025-01-16T19:56:09.106Z"
   },
   {
    "duration": 0,
    "start_time": "2025-01-16T19:56:09.107Z"
   },
   {
    "duration": 0,
    "start_time": "2025-01-16T19:56:09.108Z"
   },
   {
    "duration": 0,
    "start_time": "2025-01-16T19:56:09.110Z"
   },
   {
    "duration": 0,
    "start_time": "2025-01-16T19:56:09.111Z"
   },
   {
    "duration": 0,
    "start_time": "2025-01-16T19:56:09.112Z"
   },
   {
    "duration": 0,
    "start_time": "2025-01-16T19:56:09.113Z"
   },
   {
    "duration": 0,
    "start_time": "2025-01-16T19:56:09.113Z"
   },
   {
    "duration": 0,
    "start_time": "2025-01-16T19:56:09.114Z"
   },
   {
    "duration": 24,
    "start_time": "2025-01-16T19:56:13.544Z"
   },
   {
    "duration": 13,
    "start_time": "2025-01-16T19:56:14.336Z"
   },
   {
    "duration": 9,
    "start_time": "2025-01-16T19:56:14.871Z"
   },
   {
    "duration": 10,
    "start_time": "2025-01-16T19:56:15.376Z"
   },
   {
    "duration": 4,
    "start_time": "2025-01-16T19:56:15.919Z"
   },
   {
    "duration": 6,
    "start_time": "2025-01-16T19:56:16.361Z"
   },
   {
    "duration": 14,
    "start_time": "2025-01-16T19:56:16.770Z"
   },
   {
    "duration": 7,
    "start_time": "2025-01-16T19:56:17.240Z"
   },
   {
    "duration": 10,
    "start_time": "2025-01-16T19:56:19.127Z"
   },
   {
    "duration": 12,
    "start_time": "2025-01-16T19:56:19.592Z"
   },
   {
    "duration": 22,
    "start_time": "2025-01-16T19:56:20.048Z"
   },
   {
    "duration": 6,
    "start_time": "2025-01-16T19:56:20.961Z"
   },
   {
    "duration": 21,
    "start_time": "2025-01-16T19:56:21.443Z"
   },
   {
    "duration": 13,
    "start_time": "2025-01-16T19:56:22.073Z"
   },
   {
    "duration": 6,
    "start_time": "2025-01-16T19:56:23.407Z"
   },
   {
    "duration": 8,
    "start_time": "2025-01-16T19:56:23.856Z"
   },
   {
    "duration": 9,
    "start_time": "2025-01-16T19:56:24.392Z"
   },
   {
    "duration": 16,
    "start_time": "2025-01-16T19:56:25.407Z"
   },
   {
    "duration": 6,
    "start_time": "2025-01-16T19:56:25.872Z"
   },
   {
    "duration": 2,
    "start_time": "2025-01-16T19:56:26.848Z"
   },
   {
    "duration": 5,
    "start_time": "2025-01-16T19:56:27.295Z"
   },
   {
    "duration": 11,
    "start_time": "2025-01-16T19:56:27.769Z"
   },
   {
    "duration": 4,
    "start_time": "2025-01-16T19:56:30.320Z"
   },
   {
    "duration": 16,
    "start_time": "2025-01-16T19:56:30.752Z"
   },
   {
    "duration": 164,
    "start_time": "2025-01-16T19:56:30.968Z"
   },
   {
    "duration": 3,
    "start_time": "2025-01-16T19:56:32.224Z"
   },
   {
    "duration": 4,
    "start_time": "2025-01-16T19:56:32.769Z"
   },
   {
    "duration": 6,
    "start_time": "2025-01-16T19:56:33.008Z"
   },
   {
    "duration": 205,
    "start_time": "2025-01-16T19:56:33.312Z"
   },
   {
    "duration": 6,
    "start_time": "2025-01-16T19:56:33.769Z"
   },
   {
    "duration": 5,
    "start_time": "2025-01-16T19:56:34.165Z"
   },
   {
    "duration": 12,
    "start_time": "2025-01-16T19:56:34.551Z"
   },
   {
    "duration": 169,
    "start_time": "2025-01-16T19:56:34.793Z"
   },
   {
    "duration": 6,
    "start_time": "2025-01-16T19:56:36.399Z"
   },
   {
    "duration": 11,
    "start_time": "2025-01-16T19:56:36.801Z"
   },
   {
    "duration": 134,
    "start_time": "2025-01-16T19:56:37.040Z"
   },
   {
    "duration": 203,
    "start_time": "2025-01-16T19:56:37.808Z"
   },
   {
    "duration": 123,
    "start_time": "2025-01-16T19:56:40.080Z"
   },
   {
    "duration": 5,
    "start_time": "2025-01-16T19:56:48.024Z"
   },
   {
    "duration": 162,
    "start_time": "2025-01-16T19:56:58.616Z"
   },
   {
    "duration": 107,
    "start_time": "2025-01-16T19:57:08.449Z"
   },
   {
    "duration": 4,
    "start_time": "2025-01-16T19:57:35.285Z"
   },
   {
    "duration": 3,
    "start_time": "2025-01-16T19:57:37.605Z"
   },
   {
    "duration": 4,
    "start_time": "2025-01-16T19:57:51.310Z"
   },
   {
    "duration": 268,
    "start_time": "2025-01-16T19:58:21.560Z"
   },
   {
    "duration": 11,
    "start_time": "2025-01-16T19:59:02.499Z"
   },
   {
    "duration": 3,
    "start_time": "2025-01-16T19:59:06.051Z"
   },
   {
    "duration": 10,
    "start_time": "2025-01-16T19:59:50.976Z"
   },
   {
    "duration": 8,
    "start_time": "2025-01-16T20:00:16.497Z"
   },
   {
    "duration": 164,
    "start_time": "2025-01-16T20:00:47.073Z"
   },
   {
    "duration": 6,
    "start_time": "2025-01-16T20:02:50.228Z"
   },
   {
    "duration": 7,
    "start_time": "2025-01-16T20:02:52.226Z"
   },
   {
    "duration": 181,
    "start_time": "2025-01-16T20:02:53.531Z"
   },
   {
    "duration": 7,
    "start_time": "2025-01-16T20:03:23.224Z"
   },
   {
    "duration": 2,
    "start_time": "2025-01-16T20:06:25.837Z"
   },
   {
    "duration": 3,
    "start_time": "2025-01-16T20:06:25.841Z"
   },
   {
    "duration": 3,
    "start_time": "2025-01-16T20:06:25.846Z"
   },
   {
    "duration": 2854,
    "start_time": "2025-01-16T20:06:25.850Z"
   },
   {
    "duration": 373,
    "start_time": "2025-01-16T20:06:28.706Z"
   },
   {
    "duration": 762,
    "start_time": "2025-01-16T20:06:29.081Z"
   },
   {
    "duration": 62,
    "start_time": "2025-01-16T20:06:29.845Z"
   },
   {
    "duration": 90,
    "start_time": "2025-01-16T20:06:29.908Z"
   },
   {
    "duration": 112,
    "start_time": "2025-01-16T20:06:30.000Z"
   },
   {
    "duration": 0,
    "start_time": "2025-01-16T20:06:30.114Z"
   },
   {
    "duration": 0,
    "start_time": "2025-01-16T20:06:30.115Z"
   },
   {
    "duration": 0,
    "start_time": "2025-01-16T20:06:30.116Z"
   },
   {
    "duration": 0,
    "start_time": "2025-01-16T20:06:30.117Z"
   },
   {
    "duration": 0,
    "start_time": "2025-01-16T20:06:30.118Z"
   },
   {
    "duration": 0,
    "start_time": "2025-01-16T20:06:30.119Z"
   },
   {
    "duration": 0,
    "start_time": "2025-01-16T20:06:30.120Z"
   },
   {
    "duration": 0,
    "start_time": "2025-01-16T20:06:30.121Z"
   },
   {
    "duration": 0,
    "start_time": "2025-01-16T20:06:30.122Z"
   },
   {
    "duration": 0,
    "start_time": "2025-01-16T20:06:30.123Z"
   },
   {
    "duration": 0,
    "start_time": "2025-01-16T20:06:30.124Z"
   },
   {
    "duration": 0,
    "start_time": "2025-01-16T20:06:30.125Z"
   },
   {
    "duration": 0,
    "start_time": "2025-01-16T20:06:30.126Z"
   },
   {
    "duration": 0,
    "start_time": "2025-01-16T20:06:30.127Z"
   },
   {
    "duration": 0,
    "start_time": "2025-01-16T20:06:30.128Z"
   },
   {
    "duration": 0,
    "start_time": "2025-01-16T20:06:30.129Z"
   },
   {
    "duration": 0,
    "start_time": "2025-01-16T20:06:30.131Z"
   },
   {
    "duration": 0,
    "start_time": "2025-01-16T20:06:30.131Z"
   },
   {
    "duration": 0,
    "start_time": "2025-01-16T20:06:30.133Z"
   },
   {
    "duration": 0,
    "start_time": "2025-01-16T20:06:30.134Z"
   },
   {
    "duration": 0,
    "start_time": "2025-01-16T20:06:30.135Z"
   },
   {
    "duration": 0,
    "start_time": "2025-01-16T20:06:30.136Z"
   },
   {
    "duration": 0,
    "start_time": "2025-01-16T20:06:30.138Z"
   },
   {
    "duration": 0,
    "start_time": "2025-01-16T20:06:30.139Z"
   },
   {
    "duration": 0,
    "start_time": "2025-01-16T20:06:30.140Z"
   },
   {
    "duration": 0,
    "start_time": "2025-01-16T20:06:30.141Z"
   },
   {
    "duration": 0,
    "start_time": "2025-01-16T20:06:30.142Z"
   },
   {
    "duration": 0,
    "start_time": "2025-01-16T20:06:30.144Z"
   },
   {
    "duration": 0,
    "start_time": "2025-01-16T20:06:30.145Z"
   },
   {
    "duration": 0,
    "start_time": "2025-01-16T20:06:30.146Z"
   },
   {
    "duration": 0,
    "start_time": "2025-01-16T20:06:30.147Z"
   },
   {
    "duration": 0,
    "start_time": "2025-01-16T20:06:30.148Z"
   },
   {
    "duration": 0,
    "start_time": "2025-01-16T20:06:30.156Z"
   },
   {
    "duration": 0,
    "start_time": "2025-01-16T20:06:30.157Z"
   },
   {
    "duration": 0,
    "start_time": "2025-01-16T20:06:30.158Z"
   },
   {
    "duration": 0,
    "start_time": "2025-01-16T20:06:30.159Z"
   },
   {
    "duration": 0,
    "start_time": "2025-01-16T20:06:30.161Z"
   },
   {
    "duration": 0,
    "start_time": "2025-01-16T20:06:30.162Z"
   },
   {
    "duration": 0,
    "start_time": "2025-01-16T20:06:30.163Z"
   },
   {
    "duration": 0,
    "start_time": "2025-01-16T20:06:30.163Z"
   },
   {
    "duration": 0,
    "start_time": "2025-01-16T20:06:30.164Z"
   },
   {
    "duration": 0,
    "start_time": "2025-01-16T20:06:30.165Z"
   },
   {
    "duration": 0,
    "start_time": "2025-01-16T20:06:30.165Z"
   },
   {
    "duration": 16,
    "start_time": "2025-01-16T20:06:33.070Z"
   },
   {
    "duration": 29,
    "start_time": "2025-01-16T20:06:33.452Z"
   },
   {
    "duration": 14,
    "start_time": "2025-01-16T20:06:33.869Z"
   },
   {
    "duration": 10,
    "start_time": "2025-01-16T20:06:34.123Z"
   },
   {
    "duration": 4,
    "start_time": "2025-01-16T20:06:34.331Z"
   },
   {
    "duration": 4,
    "start_time": "2025-01-16T20:06:34.507Z"
   },
   {
    "duration": 9,
    "start_time": "2025-01-16T20:06:34.692Z"
   },
   {
    "duration": 6,
    "start_time": "2025-01-16T20:06:34.884Z"
   },
   {
    "duration": 9,
    "start_time": "2025-01-16T20:06:35.891Z"
   },
   {
    "duration": 13,
    "start_time": "2025-01-16T20:06:36.091Z"
   },
   {
    "duration": 16,
    "start_time": "2025-01-16T20:06:36.277Z"
   },
   {
    "duration": 4,
    "start_time": "2025-01-16T20:06:36.683Z"
   },
   {
    "duration": 12,
    "start_time": "2025-01-16T20:06:36.877Z"
   },
   {
    "duration": 12,
    "start_time": "2025-01-16T20:06:37.092Z"
   },
   {
    "duration": 5,
    "start_time": "2025-01-16T20:06:37.491Z"
   },
   {
    "duration": 3,
    "start_time": "2025-01-16T20:06:37.683Z"
   },
   {
    "duration": 8,
    "start_time": "2025-01-16T20:06:37.891Z"
   },
   {
    "duration": 14,
    "start_time": "2025-01-16T20:06:38.299Z"
   },
   {
    "duration": 5,
    "start_time": "2025-01-16T20:06:38.507Z"
   },
   {
    "duration": 3,
    "start_time": "2025-01-16T20:06:38.947Z"
   },
   {
    "duration": 6,
    "start_time": "2025-01-16T20:06:39.155Z"
   },
   {
    "duration": 17,
    "start_time": "2025-01-16T20:06:39.366Z"
   },
   {
    "duration": 8,
    "start_time": "2025-01-16T20:06:40.451Z"
   },
   {
    "duration": 7,
    "start_time": "2025-01-16T20:06:40.676Z"
   },
   {
    "duration": 157,
    "start_time": "2025-01-16T20:06:40.899Z"
   },
   {
    "duration": 7,
    "start_time": "2025-01-16T20:06:41.561Z"
   },
   {
    "duration": 7,
    "start_time": "2025-01-16T20:06:41.771Z"
   },
   {
    "duration": 4,
    "start_time": "2025-01-16T20:06:41.996Z"
   },
   {
    "duration": 204,
    "start_time": "2025-01-16T20:06:42.228Z"
   },
   {
    "duration": 4,
    "start_time": "2025-01-16T20:06:42.443Z"
   },
   {
    "duration": 10,
    "start_time": "2025-01-16T20:06:42.651Z"
   },
   {
    "duration": 9,
    "start_time": "2025-01-16T20:06:42.860Z"
   },
   {
    "duration": 163,
    "start_time": "2025-01-16T20:06:43.083Z"
   },
   {
    "duration": 8,
    "start_time": "2025-01-16T20:06:43.896Z"
   },
   {
    "duration": 17,
    "start_time": "2025-01-16T20:06:44.260Z"
   },
   {
    "duration": 133,
    "start_time": "2025-01-16T20:06:44.461Z"
   },
   {
    "duration": 215,
    "start_time": "2025-01-16T20:06:44.673Z"
   },
   {
    "duration": 293,
    "start_time": "2025-01-16T20:06:47.091Z"
   },
   {
    "duration": 12,
    "start_time": "2025-01-16T20:06:47.982Z"
   },
   {
    "duration": 11,
    "start_time": "2025-01-16T20:06:48.560Z"
   },
   {
    "duration": 7,
    "start_time": "2025-01-16T20:06:48.987Z"
   },
   {
    "duration": 16,
    "start_time": "2025-01-16T20:06:49.560Z"
   },
   {
    "duration": 180,
    "start_time": "2025-01-16T20:06:50.461Z"
   },
   {
    "duration": 4,
    "start_time": "2025-01-16T20:09:35.507Z"
   },
   {
    "duration": 14,
    "start_time": "2025-01-16T20:09:36.803Z"
   },
   {
    "duration": 18,
    "start_time": "2025-01-16T20:09:42.269Z"
   },
   {
    "duration": 15,
    "start_time": "2025-01-16T20:10:08.116Z"
   },
   {
    "duration": 15,
    "start_time": "2025-01-16T20:10:32.933Z"
   },
   {
    "duration": 11,
    "start_time": "2025-01-16T20:10:46.766Z"
   },
   {
    "duration": 4,
    "start_time": "2025-01-16T20:11:01.433Z"
   },
   {
    "duration": 20,
    "start_time": "2025-01-16T20:11:42.170Z"
   },
   {
    "duration": 117,
    "start_time": "2025-01-16T20:12:47.147Z"
   },
   {
    "duration": 5,
    "start_time": "2025-01-16T20:13:07.531Z"
   },
   {
    "duration": 3,
    "start_time": "2025-01-16T20:13:20.235Z"
   },
   {
    "duration": 3,
    "start_time": "2025-01-16T20:13:25.244Z"
   },
   {
    "duration": 4,
    "start_time": "2025-01-16T20:13:46.788Z"
   },
   {
    "duration": 5,
    "start_time": "2025-01-16T20:13:56.871Z"
   },
   {
    "duration": 115,
    "start_time": "2025-01-16T20:22:24.678Z"
   },
   {
    "duration": 16,
    "start_time": "2025-01-16T20:22:57.352Z"
   },
   {
    "duration": 9,
    "start_time": "2025-01-16T20:23:08.975Z"
   },
   {
    "duration": 4,
    "start_time": "2025-01-16T20:23:18.385Z"
   },
   {
    "duration": 51,
    "start_time": "2025-01-17T11:55:06.949Z"
   },
   {
    "duration": 6,
    "start_time": "2025-01-17T11:55:10.045Z"
   },
   {
    "duration": 6,
    "start_time": "2025-01-17T11:55:11.020Z"
   },
   {
    "duration": 6,
    "start_time": "2025-01-17T11:55:11.541Z"
   },
   {
    "duration": 6,
    "start_time": "2025-01-17T11:55:12.108Z"
   },
   {
    "duration": 5,
    "start_time": "2025-01-17T11:55:18.806Z"
   },
   {
    "duration": 4,
    "start_time": "2025-01-17T11:55:18.814Z"
   },
   {
    "duration": 6,
    "start_time": "2025-01-17T11:55:18.820Z"
   },
   {
    "duration": 3754,
    "start_time": "2025-01-17T11:55:18.829Z"
   },
   {
    "duration": 424,
    "start_time": "2025-01-17T11:55:22.586Z"
   },
   {
    "duration": 995,
    "start_time": "2025-01-17T11:55:23.012Z"
   },
   {
    "duration": 57,
    "start_time": "2025-01-17T11:55:24.009Z"
   },
   {
    "duration": 241,
    "start_time": "2025-01-17T11:55:24.067Z"
   },
   {
    "duration": 100,
    "start_time": "2025-01-17T11:55:24.311Z"
   },
   {
    "duration": 0,
    "start_time": "2025-01-17T11:55:24.413Z"
   },
   {
    "duration": 0,
    "start_time": "2025-01-17T11:55:24.414Z"
   },
   {
    "duration": 0,
    "start_time": "2025-01-17T11:55:24.415Z"
   },
   {
    "duration": 0,
    "start_time": "2025-01-17T11:55:24.416Z"
   },
   {
    "duration": 0,
    "start_time": "2025-01-17T11:55:24.417Z"
   },
   {
    "duration": 0,
    "start_time": "2025-01-17T11:55:24.418Z"
   },
   {
    "duration": 0,
    "start_time": "2025-01-17T11:55:24.419Z"
   },
   {
    "duration": 0,
    "start_time": "2025-01-17T11:55:24.420Z"
   },
   {
    "duration": 0,
    "start_time": "2025-01-17T11:55:24.421Z"
   },
   {
    "duration": 0,
    "start_time": "2025-01-17T11:55:24.422Z"
   },
   {
    "duration": 0,
    "start_time": "2025-01-17T11:55:24.423Z"
   },
   {
    "duration": 0,
    "start_time": "2025-01-17T11:55:24.424Z"
   },
   {
    "duration": 0,
    "start_time": "2025-01-17T11:55:24.425Z"
   },
   {
    "duration": 0,
    "start_time": "2025-01-17T11:55:24.426Z"
   },
   {
    "duration": 0,
    "start_time": "2025-01-17T11:55:24.427Z"
   },
   {
    "duration": 0,
    "start_time": "2025-01-17T11:55:24.428Z"
   },
   {
    "duration": 0,
    "start_time": "2025-01-17T11:55:24.430Z"
   },
   {
    "duration": 0,
    "start_time": "2025-01-17T11:55:24.431Z"
   },
   {
    "duration": 0,
    "start_time": "2025-01-17T11:55:24.432Z"
   },
   {
    "duration": 0,
    "start_time": "2025-01-17T11:55:24.433Z"
   },
   {
    "duration": 0,
    "start_time": "2025-01-17T11:55:24.434Z"
   },
   {
    "duration": 0,
    "start_time": "2025-01-17T11:55:24.435Z"
   },
   {
    "duration": 0,
    "start_time": "2025-01-17T11:55:24.437Z"
   },
   {
    "duration": 0,
    "start_time": "2025-01-17T11:55:24.438Z"
   },
   {
    "duration": 1,
    "start_time": "2025-01-17T11:55:24.439Z"
   },
   {
    "duration": 0,
    "start_time": "2025-01-17T11:55:24.441Z"
   },
   {
    "duration": 0,
    "start_time": "2025-01-17T11:55:24.443Z"
   },
   {
    "duration": 0,
    "start_time": "2025-01-17T11:55:24.444Z"
   },
   {
    "duration": 0,
    "start_time": "2025-01-17T11:55:24.448Z"
   },
   {
    "duration": 0,
    "start_time": "2025-01-17T11:55:24.449Z"
   },
   {
    "duration": 0,
    "start_time": "2025-01-17T11:55:24.487Z"
   },
   {
    "duration": 0,
    "start_time": "2025-01-17T11:55:24.488Z"
   },
   {
    "duration": 0,
    "start_time": "2025-01-17T11:55:24.490Z"
   },
   {
    "duration": 0,
    "start_time": "2025-01-17T11:55:24.491Z"
   },
   {
    "duration": 0,
    "start_time": "2025-01-17T11:55:24.492Z"
   },
   {
    "duration": 0,
    "start_time": "2025-01-17T11:55:24.493Z"
   },
   {
    "duration": 0,
    "start_time": "2025-01-17T11:55:24.494Z"
   },
   {
    "duration": 0,
    "start_time": "2025-01-17T11:55:24.495Z"
   },
   {
    "duration": 0,
    "start_time": "2025-01-17T11:55:24.496Z"
   },
   {
    "duration": 0,
    "start_time": "2025-01-17T11:55:24.497Z"
   },
   {
    "duration": 0,
    "start_time": "2025-01-17T11:55:24.498Z"
   },
   {
    "duration": 0,
    "start_time": "2025-01-17T11:55:24.499Z"
   },
   {
    "duration": 0,
    "start_time": "2025-01-17T11:55:24.500Z"
   },
   {
    "duration": 0,
    "start_time": "2025-01-17T11:55:24.501Z"
   },
   {
    "duration": 0,
    "start_time": "2025-01-17T11:55:24.503Z"
   },
   {
    "duration": 0,
    "start_time": "2025-01-17T11:55:24.504Z"
   },
   {
    "duration": 26,
    "start_time": "2025-01-17T11:55:33.758Z"
   },
   {
    "duration": 23,
    "start_time": "2025-01-17T11:55:34.669Z"
   },
   {
    "duration": 16,
    "start_time": "2025-01-17T11:55:35.246Z"
   },
   {
    "duration": 21,
    "start_time": "2025-01-17T11:55:35.727Z"
   },
   {
    "duration": 4,
    "start_time": "2025-01-17T11:55:36.245Z"
   },
   {
    "duration": 4,
    "start_time": "2025-01-17T11:55:36.781Z"
   },
   {
    "duration": 15,
    "start_time": "2025-01-17T11:55:37.301Z"
   },
   {
    "duration": 11,
    "start_time": "2025-01-17T11:55:40.498Z"
   },
   {
    "duration": 17,
    "start_time": "2025-01-17T11:55:43.317Z"
   },
   {
    "duration": 22,
    "start_time": "2025-01-17T11:55:43.666Z"
   },
   {
    "duration": 17,
    "start_time": "2025-01-17T11:55:44.250Z"
   },
   {
    "duration": 4,
    "start_time": "2025-01-17T11:55:45.101Z"
   },
   {
    "duration": 18,
    "start_time": "2025-01-17T11:55:45.553Z"
   },
   {
    "duration": 13,
    "start_time": "2025-01-17T11:55:46.098Z"
   },
   {
    "duration": 7,
    "start_time": "2025-01-17T11:55:47.457Z"
   },
   {
    "duration": 4,
    "start_time": "2025-01-17T11:55:47.869Z"
   },
   {
    "duration": 10,
    "start_time": "2025-01-17T11:55:49.857Z"
   },
   {
    "duration": 16,
    "start_time": "2025-01-17T11:55:50.984Z"
   },
   {
    "duration": 6,
    "start_time": "2025-01-17T11:55:51.430Z"
   },
   {
    "duration": 4,
    "start_time": "2025-01-17T11:55:52.209Z"
   },
   {
    "duration": 6,
    "start_time": "2025-01-17T11:55:52.426Z"
   },
   {
    "duration": 12,
    "start_time": "2025-01-17T11:55:52.825Z"
   },
   {
    "duration": 5,
    "start_time": "2025-01-17T11:55:55.128Z"
   },
   {
    "duration": 8,
    "start_time": "2025-01-17T11:55:55.473Z"
   },
   {
    "duration": 156,
    "start_time": "2025-01-17T11:55:55.762Z"
   },
   {
    "duration": 4,
    "start_time": "2025-01-17T11:55:57.441Z"
   },
   {
    "duration": 6,
    "start_time": "2025-01-17T11:55:57.697Z"
   },
   {
    "duration": 6,
    "start_time": "2025-01-17T11:55:57.962Z"
   },
   {
    "duration": 191,
    "start_time": "2025-01-17T11:55:58.329Z"
   },
   {
    "duration": 5,
    "start_time": "2025-01-17T11:55:59.346Z"
   },
   {
    "duration": 4,
    "start_time": "2025-01-17T11:55:59.954Z"
   },
   {
    "duration": 6,
    "start_time": "2025-01-17T11:56:00.330Z"
   },
   {
    "duration": 165,
    "start_time": "2025-01-17T11:56:01.210Z"
   },
   {
    "duration": 104,
    "start_time": "2025-01-17T11:56:50.564Z"
   },
   {
    "duration": 9,
    "start_time": "2025-01-17T11:57:18.007Z"
   },
   {
    "duration": 7,
    "start_time": "2025-01-17T11:57:23.151Z"
   },
   {
    "duration": 223,
    "start_time": "2025-01-17T11:58:03.920Z"
   },
   {
    "duration": 4,
    "start_time": "2025-01-17T11:58:36.099Z"
   },
   {
    "duration": 17,
    "start_time": "2025-01-17T11:58:36.105Z"
   },
   {
    "duration": 30,
    "start_time": "2025-01-17T11:58:36.124Z"
   },
   {
    "duration": 2849,
    "start_time": "2025-01-17T11:58:36.156Z"
   },
   {
    "duration": 388,
    "start_time": "2025-01-17T11:58:39.007Z"
   },
   {
    "duration": 814,
    "start_time": "2025-01-17T11:58:39.397Z"
   },
   {
    "duration": 51,
    "start_time": "2025-01-17T11:58:40.212Z"
   },
   {
    "duration": 87,
    "start_time": "2025-01-17T11:58:40.264Z"
   },
   {
    "duration": 94,
    "start_time": "2025-01-17T11:58:40.353Z"
   },
   {
    "duration": 0,
    "start_time": "2025-01-17T11:58:40.449Z"
   },
   {
    "duration": 0,
    "start_time": "2025-01-17T11:58:40.451Z"
   },
   {
    "duration": 0,
    "start_time": "2025-01-17T11:58:40.451Z"
   },
   {
    "duration": 0,
    "start_time": "2025-01-17T11:58:40.452Z"
   },
   {
    "duration": 0,
    "start_time": "2025-01-17T11:58:40.454Z"
   },
   {
    "duration": 0,
    "start_time": "2025-01-17T11:58:40.455Z"
   },
   {
    "duration": 0,
    "start_time": "2025-01-17T11:58:40.456Z"
   },
   {
    "duration": 0,
    "start_time": "2025-01-17T11:58:40.457Z"
   },
   {
    "duration": 0,
    "start_time": "2025-01-17T11:58:40.458Z"
   },
   {
    "duration": 0,
    "start_time": "2025-01-17T11:58:40.459Z"
   },
   {
    "duration": 0,
    "start_time": "2025-01-17T11:58:40.460Z"
   },
   {
    "duration": 0,
    "start_time": "2025-01-17T11:58:40.461Z"
   },
   {
    "duration": 0,
    "start_time": "2025-01-17T11:58:40.462Z"
   },
   {
    "duration": 0,
    "start_time": "2025-01-17T11:58:40.463Z"
   },
   {
    "duration": 0,
    "start_time": "2025-01-17T11:58:40.465Z"
   },
   {
    "duration": 0,
    "start_time": "2025-01-17T11:58:40.466Z"
   },
   {
    "duration": 0,
    "start_time": "2025-01-17T11:58:40.468Z"
   },
   {
    "duration": 0,
    "start_time": "2025-01-17T11:58:40.470Z"
   },
   {
    "duration": 0,
    "start_time": "2025-01-17T11:58:40.471Z"
   },
   {
    "duration": 0,
    "start_time": "2025-01-17T11:58:40.473Z"
   },
   {
    "duration": 0,
    "start_time": "2025-01-17T11:58:40.475Z"
   },
   {
    "duration": 0,
    "start_time": "2025-01-17T11:58:40.476Z"
   },
   {
    "duration": 0,
    "start_time": "2025-01-17T11:58:40.479Z"
   },
   {
    "duration": 0,
    "start_time": "2025-01-17T11:58:40.480Z"
   },
   {
    "duration": 0,
    "start_time": "2025-01-17T11:58:40.481Z"
   },
   {
    "duration": 0,
    "start_time": "2025-01-17T11:58:40.483Z"
   },
   {
    "duration": 1,
    "start_time": "2025-01-17T11:58:40.484Z"
   },
   {
    "duration": 0,
    "start_time": "2025-01-17T11:58:40.486Z"
   },
   {
    "duration": 0,
    "start_time": "2025-01-17T11:58:40.488Z"
   },
   {
    "duration": 0,
    "start_time": "2025-01-17T11:58:40.489Z"
   },
   {
    "duration": 0,
    "start_time": "2025-01-17T11:58:40.491Z"
   },
   {
    "duration": 0,
    "start_time": "2025-01-17T11:58:40.492Z"
   },
   {
    "duration": 0,
    "start_time": "2025-01-17T11:58:40.493Z"
   },
   {
    "duration": 0,
    "start_time": "2025-01-17T11:58:40.495Z"
   },
   {
    "duration": 0,
    "start_time": "2025-01-17T11:58:40.497Z"
   },
   {
    "duration": 0,
    "start_time": "2025-01-17T11:58:40.498Z"
   },
   {
    "duration": 0,
    "start_time": "2025-01-17T11:58:40.500Z"
   },
   {
    "duration": 0,
    "start_time": "2025-01-17T11:58:40.501Z"
   },
   {
    "duration": 0,
    "start_time": "2025-01-17T11:58:40.503Z"
   },
   {
    "duration": 0,
    "start_time": "2025-01-17T11:58:40.504Z"
   },
   {
    "duration": 0,
    "start_time": "2025-01-17T11:58:40.506Z"
   },
   {
    "duration": 0,
    "start_time": "2025-01-17T11:58:40.508Z"
   },
   {
    "duration": 0,
    "start_time": "2025-01-17T11:58:40.509Z"
   },
   {
    "duration": 0,
    "start_time": "2025-01-17T11:58:40.510Z"
   },
   {
    "duration": 0,
    "start_time": "2025-01-17T11:58:40.512Z"
   },
   {
    "duration": 0,
    "start_time": "2025-01-17T11:58:40.514Z"
   },
   {
    "duration": 0,
    "start_time": "2025-01-17T11:58:40.515Z"
   },
   {
    "duration": 0,
    "start_time": "2025-01-17T11:58:40.516Z"
   },
   {
    "duration": 25,
    "start_time": "2025-01-17T11:58:46.029Z"
   },
   {
    "duration": 13,
    "start_time": "2025-01-17T11:58:46.493Z"
   },
   {
    "duration": 15,
    "start_time": "2025-01-17T11:58:46.942Z"
   },
   {
    "duration": 12,
    "start_time": "2025-01-17T11:58:47.397Z"
   },
   {
    "duration": 4,
    "start_time": "2025-01-17T11:58:47.861Z"
   },
   {
    "duration": 3,
    "start_time": "2025-01-17T11:58:48.293Z"
   },
   {
    "duration": 11,
    "start_time": "2025-01-17T11:58:48.724Z"
   },
   {
    "duration": 8,
    "start_time": "2025-01-17T11:58:49.181Z"
   },
   {
    "duration": 11,
    "start_time": "2025-01-17T11:58:50.948Z"
   },
   {
    "duration": 15,
    "start_time": "2025-01-17T11:58:51.412Z"
   },
   {
    "duration": 22,
    "start_time": "2025-01-17T11:58:51.924Z"
   },
   {
    "duration": 4,
    "start_time": "2025-01-17T11:58:52.911Z"
   },
   {
    "duration": 13,
    "start_time": "2025-01-17T11:58:53.397Z"
   },
   {
    "duration": 14,
    "start_time": "2025-01-17T11:58:53.822Z"
   },
   {
    "duration": 6,
    "start_time": "2025-01-17T11:58:54.765Z"
   },
   {
    "duration": 3,
    "start_time": "2025-01-17T11:58:55.238Z"
   },
   {
    "duration": 9,
    "start_time": "2025-01-17T11:58:55.654Z"
   },
   {
    "duration": 15,
    "start_time": "2025-01-17T11:58:56.636Z"
   },
   {
    "duration": 6,
    "start_time": "2025-01-17T11:58:57.141Z"
   },
   {
    "duration": 3,
    "start_time": "2025-01-17T11:58:58.333Z"
   },
   {
    "duration": 6,
    "start_time": "2025-01-17T11:58:58.612Z"
   },
   {
    "duration": 12,
    "start_time": "2025-01-17T11:58:59.037Z"
   },
   {
    "duration": 5,
    "start_time": "2025-01-17T11:59:01.948Z"
   },
   {
    "duration": 7,
    "start_time": "2025-01-17T11:59:02.413Z"
   },
   {
    "duration": 158,
    "start_time": "2025-01-17T11:59:02.905Z"
   },
   {
    "duration": 5,
    "start_time": "2025-01-17T11:59:04.844Z"
   },
   {
    "duration": 5,
    "start_time": "2025-01-17T11:59:05.325Z"
   },
   {
    "duration": 6,
    "start_time": "2025-01-17T11:59:05.838Z"
   },
   {
    "duration": 193,
    "start_time": "2025-01-17T11:59:06.901Z"
   },
   {
    "duration": 5,
    "start_time": "2025-01-17T11:59:08.782Z"
   },
   {
    "duration": 3,
    "start_time": "2025-01-17T11:59:09.762Z"
   },
   {
    "duration": 6,
    "start_time": "2025-01-17T11:59:10.237Z"
   },
   {
    "duration": 162,
    "start_time": "2025-01-17T11:59:11.449Z"
   },
   {
    "duration": 6,
    "start_time": "2025-01-17T11:59:13.733Z"
   },
   {
    "duration": 13,
    "start_time": "2025-01-17T11:59:14.309Z"
   },
   {
    "duration": 121,
    "start_time": "2025-01-17T11:59:14.902Z"
   },
   {
    "duration": 212,
    "start_time": "2025-01-17T11:59:17.270Z"
   },
   {
    "duration": 7,
    "start_time": "2025-01-17T11:59:31.201Z"
   },
   {
    "duration": 7,
    "start_time": "2025-01-17T11:59:33.306Z"
   },
   {
    "duration": 111,
    "start_time": "2025-01-17T12:00:21.835Z"
   },
   {
    "duration": 208,
    "start_time": "2025-01-17T12:01:39.424Z"
   },
   {
    "duration": 110,
    "start_time": "2025-01-17T12:03:31.355Z"
   },
   {
    "duration": 106,
    "start_time": "2025-01-17T12:03:40.324Z"
   },
   {
    "duration": 110,
    "start_time": "2025-01-17T12:03:50.739Z"
   },
   {
    "duration": 174,
    "start_time": "2025-01-17T12:04:01.668Z"
   },
   {
    "duration": 158,
    "start_time": "2025-01-17T12:04:20.032Z"
   },
   {
    "duration": 500,
    "start_time": "2025-01-17T12:04:30.056Z"
   },
   {
    "duration": 227,
    "start_time": "2025-01-17T12:04:39.432Z"
   },
   {
    "duration": 9,
    "start_time": "2025-01-17T12:08:38.161Z"
   },
   {
    "duration": 14,
    "start_time": "2025-01-17T12:09:31.526Z"
   },
   {
    "duration": 50,
    "start_time": "2025-01-17T12:09:39.166Z"
   },
   {
    "duration": 3,
    "start_time": "2025-01-17T12:09:42.999Z"
   },
   {
    "duration": 8,
    "start_time": "2025-01-17T12:09:43.004Z"
   },
   {
    "duration": 3,
    "start_time": "2025-01-17T12:09:43.014Z"
   },
   {
    "duration": 2795,
    "start_time": "2025-01-17T12:09:43.019Z"
   },
   {
    "duration": 424,
    "start_time": "2025-01-17T12:09:45.817Z"
   },
   {
    "duration": 760,
    "start_time": "2025-01-17T12:09:46.243Z"
   },
   {
    "duration": 93,
    "start_time": "2025-01-17T12:09:47.005Z"
   },
   {
    "duration": 90,
    "start_time": "2025-01-17T12:09:47.099Z"
   },
   {
    "duration": 135,
    "start_time": "2025-01-17T12:09:47.191Z"
   },
   {
    "duration": 0,
    "start_time": "2025-01-17T12:09:47.330Z"
   },
   {
    "duration": 0,
    "start_time": "2025-01-17T12:09:47.331Z"
   },
   {
    "duration": 0,
    "start_time": "2025-01-17T12:09:47.332Z"
   },
   {
    "duration": 0,
    "start_time": "2025-01-17T12:09:47.333Z"
   },
   {
    "duration": 0,
    "start_time": "2025-01-17T12:09:47.334Z"
   },
   {
    "duration": 0,
    "start_time": "2025-01-17T12:09:47.336Z"
   },
   {
    "duration": 0,
    "start_time": "2025-01-17T12:09:47.337Z"
   },
   {
    "duration": 0,
    "start_time": "2025-01-17T12:09:47.339Z"
   },
   {
    "duration": 0,
    "start_time": "2025-01-17T12:09:47.340Z"
   },
   {
    "duration": 0,
    "start_time": "2025-01-17T12:09:47.341Z"
   },
   {
    "duration": 0,
    "start_time": "2025-01-17T12:09:47.343Z"
   },
   {
    "duration": 0,
    "start_time": "2025-01-17T12:09:47.344Z"
   },
   {
    "duration": 0,
    "start_time": "2025-01-17T12:09:47.345Z"
   },
   {
    "duration": 0,
    "start_time": "2025-01-17T12:09:47.346Z"
   },
   {
    "duration": 0,
    "start_time": "2025-01-17T12:09:47.348Z"
   },
   {
    "duration": 0,
    "start_time": "2025-01-17T12:09:47.349Z"
   },
   {
    "duration": 0,
    "start_time": "2025-01-17T12:09:47.350Z"
   },
   {
    "duration": 0,
    "start_time": "2025-01-17T12:09:47.352Z"
   },
   {
    "duration": 0,
    "start_time": "2025-01-17T12:09:47.353Z"
   },
   {
    "duration": 0,
    "start_time": "2025-01-17T12:09:47.354Z"
   },
   {
    "duration": 0,
    "start_time": "2025-01-17T12:09:47.356Z"
   },
   {
    "duration": 0,
    "start_time": "2025-01-17T12:09:47.357Z"
   },
   {
    "duration": 0,
    "start_time": "2025-01-17T12:09:47.359Z"
   },
   {
    "duration": 0,
    "start_time": "2025-01-17T12:09:47.360Z"
   },
   {
    "duration": 0,
    "start_time": "2025-01-17T12:09:47.361Z"
   },
   {
    "duration": 0,
    "start_time": "2025-01-17T12:09:47.362Z"
   },
   {
    "duration": 0,
    "start_time": "2025-01-17T12:09:47.363Z"
   },
   {
    "duration": 0,
    "start_time": "2025-01-17T12:09:47.365Z"
   },
   {
    "duration": 0,
    "start_time": "2025-01-17T12:09:47.366Z"
   },
   {
    "duration": 0,
    "start_time": "2025-01-17T12:09:47.386Z"
   },
   {
    "duration": 1,
    "start_time": "2025-01-17T12:09:47.387Z"
   },
   {
    "duration": 1,
    "start_time": "2025-01-17T12:09:47.388Z"
   },
   {
    "duration": 0,
    "start_time": "2025-01-17T12:09:47.390Z"
   },
   {
    "duration": 0,
    "start_time": "2025-01-17T12:09:47.391Z"
   },
   {
    "duration": 0,
    "start_time": "2025-01-17T12:09:47.392Z"
   },
   {
    "duration": 0,
    "start_time": "2025-01-17T12:09:47.393Z"
   },
   {
    "duration": 0,
    "start_time": "2025-01-17T12:09:47.394Z"
   },
   {
    "duration": 0,
    "start_time": "2025-01-17T12:09:47.395Z"
   },
   {
    "duration": 0,
    "start_time": "2025-01-17T12:09:47.396Z"
   },
   {
    "duration": 0,
    "start_time": "2025-01-17T12:09:47.397Z"
   },
   {
    "duration": 0,
    "start_time": "2025-01-17T12:09:47.398Z"
   },
   {
    "duration": 0,
    "start_time": "2025-01-17T12:09:47.398Z"
   },
   {
    "duration": 0,
    "start_time": "2025-01-17T12:09:47.399Z"
   },
   {
    "duration": 0,
    "start_time": "2025-01-17T12:09:47.400Z"
   },
   {
    "duration": 0,
    "start_time": "2025-01-17T12:09:47.401Z"
   },
   {
    "duration": 0,
    "start_time": "2025-01-17T12:09:47.402Z"
   },
   {
    "duration": 0,
    "start_time": "2025-01-17T12:09:47.403Z"
   },
   {
    "duration": 0,
    "start_time": "2025-01-17T12:09:47.404Z"
   },
   {
    "duration": 0,
    "start_time": "2025-01-17T12:09:47.405Z"
   },
   {
    "duration": 0,
    "start_time": "2025-01-17T12:09:47.406Z"
   },
   {
    "duration": 16,
    "start_time": "2025-01-17T12:09:51.758Z"
   },
   {
    "duration": 14,
    "start_time": "2025-01-17T12:09:52.158Z"
   },
   {
    "duration": 10,
    "start_time": "2025-01-17T12:09:52.566Z"
   },
   {
    "duration": 11,
    "start_time": "2025-01-17T12:09:52.926Z"
   },
   {
    "duration": 4,
    "start_time": "2025-01-17T12:09:53.310Z"
   },
   {
    "duration": 4,
    "start_time": "2025-01-17T12:09:53.678Z"
   },
   {
    "duration": 10,
    "start_time": "2025-01-17T12:09:54.054Z"
   },
   {
    "duration": 8,
    "start_time": "2025-01-17T12:09:54.342Z"
   },
   {
    "duration": 11,
    "start_time": "2025-01-17T12:09:55.485Z"
   },
   {
    "duration": 14,
    "start_time": "2025-01-17T12:09:55.862Z"
   },
   {
    "duration": 17,
    "start_time": "2025-01-17T12:09:56.110Z"
   },
   {
    "duration": 4,
    "start_time": "2025-01-17T12:09:56.645Z"
   },
   {
    "duration": 15,
    "start_time": "2025-01-17T12:09:56.839Z"
   },
   {
    "duration": 13,
    "start_time": "2025-01-17T12:09:57.046Z"
   },
   {
    "duration": 6,
    "start_time": "2025-01-17T12:09:57.774Z"
   },
   {
    "duration": 4,
    "start_time": "2025-01-17T12:09:58.102Z"
   },
   {
    "duration": 9,
    "start_time": "2025-01-17T12:09:58.462Z"
   },
   {
    "duration": 15,
    "start_time": "2025-01-17T12:09:59.110Z"
   },
   {
    "duration": 7,
    "start_time": "2025-01-17T12:09:59.341Z"
   },
   {
    "duration": 3,
    "start_time": "2025-01-17T12:09:59.854Z"
   },
   {
    "duration": 5,
    "start_time": "2025-01-17T12:10:00.199Z"
   },
   {
    "duration": 11,
    "start_time": "2025-01-17T12:10:00.558Z"
   },
   {
    "duration": 4,
    "start_time": "2025-01-17T12:10:02.134Z"
   },
   {
    "duration": 6,
    "start_time": "2025-01-17T12:10:02.359Z"
   },
   {
    "duration": 158,
    "start_time": "2025-01-17T12:10:02.711Z"
   },
   {
    "duration": 4,
    "start_time": "2025-01-17T12:10:03.774Z"
   },
   {
    "duration": 4,
    "start_time": "2025-01-17T12:10:04.103Z"
   },
   {
    "duration": 5,
    "start_time": "2025-01-17T12:10:04.455Z"
   },
   {
    "duration": 198,
    "start_time": "2025-01-17T12:10:04.702Z"
   },
   {
    "duration": 5,
    "start_time": "2025-01-17T12:10:04.907Z"
   },
   {
    "duration": 4,
    "start_time": "2025-01-17T12:10:05.118Z"
   },
   {
    "duration": 6,
    "start_time": "2025-01-17T12:10:05.475Z"
   },
   {
    "duration": 165,
    "start_time": "2025-01-17T12:10:05.855Z"
   },
   {
    "duration": 6,
    "start_time": "2025-01-17T12:10:07.018Z"
   },
   {
    "duration": 13,
    "start_time": "2025-01-17T12:10:07.235Z"
   },
   {
    "duration": 123,
    "start_time": "2025-01-17T12:10:07.559Z"
   },
   {
    "duration": 204,
    "start_time": "2025-01-17T12:10:07.902Z"
   },
   {
    "duration": 7,
    "start_time": "2025-01-17T12:10:08.786Z"
   },
   {
    "duration": 7,
    "start_time": "2025-01-17T12:10:08.974Z"
   },
   {
    "duration": 274,
    "start_time": "2025-01-17T12:10:09.355Z"
   },
   {
    "duration": 118,
    "start_time": "2025-01-17T12:10:09.987Z"
   },
   {
    "duration": 9,
    "start_time": "2025-01-17T12:10:36.547Z"
   },
   {
    "duration": 12,
    "start_time": "2025-01-17T12:10:50.723Z"
   },
   {
    "duration": 110,
    "start_time": "2025-01-17T12:12:03.856Z"
   },
   {
    "duration": 118,
    "start_time": "2025-01-17T12:12:20.217Z"
   },
   {
    "duration": 14,
    "start_time": "2025-01-17T12:16:33.679Z"
   },
   {
    "duration": 137,
    "start_time": "2025-01-17T12:21:08.107Z"
   },
   {
    "duration": 158,
    "start_time": "2025-01-17T12:21:50.956Z"
   },
   {
    "duration": 135,
    "start_time": "2025-01-17T12:22:53.762Z"
   },
   {
    "duration": 14,
    "start_time": "2025-01-17T12:23:32.287Z"
   },
   {
    "duration": 13,
    "start_time": "2025-01-17T12:24:08.815Z"
   },
   {
    "duration": 135,
    "start_time": "2025-01-17T12:24:14.487Z"
   },
   {
    "duration": 10,
    "start_time": "2025-01-17T12:31:36.577Z"
   },
   {
    "duration": 33,
    "start_time": "2025-01-17T12:31:41.552Z"
   },
   {
    "duration": 123,
    "start_time": "2025-01-17T12:32:40.837Z"
   },
   {
    "duration": 6,
    "start_time": "2025-01-17T12:32:57.641Z"
   },
   {
    "duration": 175,
    "start_time": "2025-01-17T12:34:10.734Z"
   },
   {
    "duration": 105,
    "start_time": "2025-01-17T12:34:18.111Z"
   },
   {
    "duration": 142,
    "start_time": "2025-01-17T12:34:27.639Z"
   },
   {
    "duration": 10,
    "start_time": "2025-01-17T12:35:58.630Z"
   },
   {
    "duration": 6,
    "start_time": "2025-01-17T12:36:12.749Z"
   },
   {
    "duration": 9,
    "start_time": "2025-01-17T12:37:19.290Z"
   },
   {
    "duration": 6,
    "start_time": "2025-01-17T12:37:43.295Z"
   },
   {
    "duration": 9,
    "start_time": "2025-01-17T12:46:24.444Z"
   },
   {
    "duration": 123,
    "start_time": "2025-01-17T12:46:36.637Z"
   },
   {
    "duration": 10,
    "start_time": "2025-01-17T12:46:44.885Z"
   },
   {
    "duration": 3,
    "start_time": "2025-01-17T15:25:37.330Z"
   },
   {
    "duration": 3,
    "start_time": "2025-01-17T15:25:37.335Z"
   },
   {
    "duration": 3,
    "start_time": "2025-01-17T15:25:37.339Z"
   },
   {
    "duration": 3620,
    "start_time": "2025-01-17T15:25:37.344Z"
   },
   {
    "duration": 421,
    "start_time": "2025-01-17T15:25:40.966Z"
   },
   {
    "duration": 992,
    "start_time": "2025-01-17T15:25:41.389Z"
   },
   {
    "duration": 48,
    "start_time": "2025-01-17T15:25:42.386Z"
   },
   {
    "duration": 248,
    "start_time": "2025-01-17T15:25:42.435Z"
   },
   {
    "duration": 106,
    "start_time": "2025-01-17T15:25:42.685Z"
   },
   {
    "duration": 0,
    "start_time": "2025-01-17T15:25:42.794Z"
   },
   {
    "duration": 0,
    "start_time": "2025-01-17T15:25:42.796Z"
   },
   {
    "duration": 0,
    "start_time": "2025-01-17T15:25:42.797Z"
   },
   {
    "duration": 0,
    "start_time": "2025-01-17T15:25:42.799Z"
   },
   {
    "duration": 0,
    "start_time": "2025-01-17T15:25:42.801Z"
   },
   {
    "duration": 0,
    "start_time": "2025-01-17T15:25:42.802Z"
   },
   {
    "duration": 0,
    "start_time": "2025-01-17T15:25:42.803Z"
   },
   {
    "duration": 0,
    "start_time": "2025-01-17T15:25:42.804Z"
   },
   {
    "duration": 0,
    "start_time": "2025-01-17T15:25:42.805Z"
   },
   {
    "duration": 1,
    "start_time": "2025-01-17T15:25:42.806Z"
   },
   {
    "duration": 0,
    "start_time": "2025-01-17T15:25:42.808Z"
   },
   {
    "duration": 0,
    "start_time": "2025-01-17T15:25:42.809Z"
   },
   {
    "duration": 0,
    "start_time": "2025-01-17T15:25:42.810Z"
   },
   {
    "duration": 0,
    "start_time": "2025-01-17T15:25:42.811Z"
   },
   {
    "duration": 0,
    "start_time": "2025-01-17T15:25:42.812Z"
   },
   {
    "duration": 0,
    "start_time": "2025-01-17T15:25:42.813Z"
   },
   {
    "duration": 0,
    "start_time": "2025-01-17T15:25:42.815Z"
   },
   {
    "duration": 0,
    "start_time": "2025-01-17T15:25:42.816Z"
   },
   {
    "duration": 0,
    "start_time": "2025-01-17T15:25:42.817Z"
   },
   {
    "duration": 0,
    "start_time": "2025-01-17T15:25:42.818Z"
   },
   {
    "duration": 0,
    "start_time": "2025-01-17T15:25:42.819Z"
   },
   {
    "duration": 0,
    "start_time": "2025-01-17T15:25:42.820Z"
   },
   {
    "duration": 0,
    "start_time": "2025-01-17T15:25:42.821Z"
   },
   {
    "duration": 0,
    "start_time": "2025-01-17T15:25:42.822Z"
   },
   {
    "duration": 0,
    "start_time": "2025-01-17T15:25:42.823Z"
   },
   {
    "duration": 0,
    "start_time": "2025-01-17T15:25:42.824Z"
   },
   {
    "duration": 0,
    "start_time": "2025-01-17T15:25:42.825Z"
   },
   {
    "duration": 0,
    "start_time": "2025-01-17T15:25:42.826Z"
   },
   {
    "duration": 0,
    "start_time": "2025-01-17T15:25:42.827Z"
   },
   {
    "duration": 0,
    "start_time": "2025-01-17T15:25:42.827Z"
   },
   {
    "duration": 0,
    "start_time": "2025-01-17T15:25:42.828Z"
   },
   {
    "duration": 0,
    "start_time": "2025-01-17T15:25:42.829Z"
   },
   {
    "duration": 0,
    "start_time": "2025-01-17T15:25:42.886Z"
   },
   {
    "duration": 0,
    "start_time": "2025-01-17T15:25:42.887Z"
   },
   {
    "duration": 0,
    "start_time": "2025-01-17T15:25:42.888Z"
   },
   {
    "duration": 0,
    "start_time": "2025-01-17T15:25:42.889Z"
   },
   {
    "duration": 0,
    "start_time": "2025-01-17T15:25:42.890Z"
   },
   {
    "duration": 0,
    "start_time": "2025-01-17T15:25:42.891Z"
   },
   {
    "duration": 0,
    "start_time": "2025-01-17T15:25:42.892Z"
   },
   {
    "duration": 0,
    "start_time": "2025-01-17T15:25:42.893Z"
   },
   {
    "duration": 0,
    "start_time": "2025-01-17T15:25:42.894Z"
   },
   {
    "duration": 0,
    "start_time": "2025-01-17T15:25:42.895Z"
   },
   {
    "duration": 0,
    "start_time": "2025-01-17T15:25:42.896Z"
   },
   {
    "duration": 0,
    "start_time": "2025-01-17T15:25:42.897Z"
   },
   {
    "duration": 0,
    "start_time": "2025-01-17T15:25:42.898Z"
   },
   {
    "duration": 0,
    "start_time": "2025-01-17T15:25:42.899Z"
   },
   {
    "duration": 0,
    "start_time": "2025-01-17T15:25:42.899Z"
   },
   {
    "duration": 14,
    "start_time": "2025-01-17T15:25:49.258Z"
   },
   {
    "duration": 13,
    "start_time": "2025-01-17T15:25:50.026Z"
   },
   {
    "duration": 9,
    "start_time": "2025-01-17T15:25:50.866Z"
   },
   {
    "duration": 10,
    "start_time": "2025-01-17T15:25:51.498Z"
   },
   {
    "duration": 4,
    "start_time": "2025-01-17T15:25:52.345Z"
   },
   {
    "duration": 4,
    "start_time": "2025-01-17T15:25:52.906Z"
   },
   {
    "duration": 10,
    "start_time": "2025-01-17T15:25:53.378Z"
   },
   {
    "duration": 7,
    "start_time": "2025-01-17T15:25:54.190Z"
   },
   {
    "duration": 10,
    "start_time": "2025-01-17T15:25:58.641Z"
   },
   {
    "duration": 13,
    "start_time": "2025-01-17T15:25:59.154Z"
   },
   {
    "duration": 17,
    "start_time": "2025-01-17T15:26:00.162Z"
   },
   {
    "duration": 123,
    "start_time": "2025-01-17T15:26:16.282Z"
   },
   {
    "duration": 4,
    "start_time": "2025-01-17T15:26:42.668Z"
   },
   {
    "duration": 13,
    "start_time": "2025-01-17T15:26:43.603Z"
   },
   {
    "duration": 13,
    "start_time": "2025-01-17T15:26:45.123Z"
   },
   {
    "duration": 7,
    "start_time": "2025-01-17T15:26:47.694Z"
   },
   {
    "duration": 4,
    "start_time": "2025-01-17T15:26:48.263Z"
   },
   {
    "duration": 9,
    "start_time": "2025-01-17T15:26:50.303Z"
   },
   {
    "duration": 20,
    "start_time": "2025-01-17T15:27:07.943Z"
   },
   {
    "duration": 15,
    "start_time": "2025-01-17T15:27:22.319Z"
   },
   {
    "duration": 6,
    "start_time": "2025-01-17T15:27:22.976Z"
   },
   {
    "duration": 3,
    "start_time": "2025-01-17T15:27:24.167Z"
   },
   {
    "duration": 5,
    "start_time": "2025-01-17T15:27:24.720Z"
   },
   {
    "duration": 16,
    "start_time": "2025-01-17T15:27:25.295Z"
   },
   {
    "duration": 4,
    "start_time": "2025-01-17T15:27:31.688Z"
   },
   {
    "duration": 7,
    "start_time": "2025-01-17T15:27:32.503Z"
   },
   {
    "duration": 151,
    "start_time": "2025-01-17T15:27:33.129Z"
   },
   {
    "duration": 4,
    "start_time": "2025-01-17T15:27:35.168Z"
   },
   {
    "duration": 5,
    "start_time": "2025-01-17T15:27:35.976Z"
   },
   {
    "duration": 6,
    "start_time": "2025-01-17T15:27:36.584Z"
   },
   {
    "duration": 197,
    "start_time": "2025-01-17T15:27:37.176Z"
   },
   {
    "duration": 4,
    "start_time": "2025-01-17T15:27:37.720Z"
   },
   {
    "duration": 4,
    "start_time": "2025-01-17T15:27:38.952Z"
   },
   {
    "duration": 6,
    "start_time": "2025-01-17T15:27:39.488Z"
   },
   {
    "duration": 166,
    "start_time": "2025-01-17T15:27:40.393Z"
   },
   {
    "duration": 6,
    "start_time": "2025-01-17T15:27:45.235Z"
   },
   {
    "duration": 13,
    "start_time": "2025-01-17T15:27:45.808Z"
   },
   {
    "duration": 120,
    "start_time": "2025-01-17T15:27:46.808Z"
   },
   {
    "duration": 201,
    "start_time": "2025-01-17T15:27:47.832Z"
   },
   {
    "duration": 7,
    "start_time": "2025-01-17T15:27:50.423Z"
   },
   {
    "duration": 7,
    "start_time": "2025-01-17T15:27:51.052Z"
   },
   {
    "duration": 234,
    "start_time": "2025-01-17T15:27:51.889Z"
   },
   {
    "duration": 133,
    "start_time": "2025-01-17T15:27:59.480Z"
   },
   {
    "duration": 119,
    "start_time": "2025-01-17T15:28:01.524Z"
   },
   {
    "duration": 148,
    "start_time": "2025-01-17T15:28:05.632Z"
   },
   {
    "duration": 7,
    "start_time": "2025-01-17T15:28:12.821Z"
   },
   {
    "duration": 21,
    "start_time": "2025-01-17T15:28:14.101Z"
   },
   {
    "duration": 10,
    "start_time": "2025-01-17T15:28:19.741Z"
   },
   {
    "duration": 6,
    "start_time": "2025-01-17T15:28:20.413Z"
   },
   {
    "duration": 18,
    "start_time": "2025-01-17T15:28:30.773Z"
   },
   {
    "duration": 14,
    "start_time": "2025-01-17T15:28:37.334Z"
   },
   {
    "duration": 15,
    "start_time": "2025-01-17T15:28:44.981Z"
   },
   {
    "duration": 10,
    "start_time": "2025-01-17T15:29:17.095Z"
   },
   {
    "duration": 7,
    "start_time": "2025-01-17T15:29:30.026Z"
   },
   {
    "duration": 21,
    "start_time": "2025-01-17T15:29:30.756Z"
   },
   {
    "duration": 10,
    "start_time": "2025-01-17T15:29:31.482Z"
   },
   {
    "duration": 7,
    "start_time": "2025-01-17T15:29:32.442Z"
   },
   {
    "duration": 6,
    "start_time": "2025-01-17T15:30:02.579Z"
   },
   {
    "duration": 21,
    "start_time": "2025-01-17T15:30:03.187Z"
   },
   {
    "duration": 3,
    "start_time": "2025-01-17T15:31:22.664Z"
   },
   {
    "duration": 6,
    "start_time": "2025-01-17T15:31:22.669Z"
   },
   {
    "duration": 6,
    "start_time": "2025-01-17T15:31:22.677Z"
   },
   {
    "duration": 2692,
    "start_time": "2025-01-17T15:31:22.685Z"
   },
   {
    "duration": 416,
    "start_time": "2025-01-17T15:31:25.380Z"
   },
   {
    "duration": 679,
    "start_time": "2025-01-17T15:31:25.797Z"
   },
   {
    "duration": 52,
    "start_time": "2025-01-17T15:31:26.478Z"
   },
   {
    "duration": 84,
    "start_time": "2025-01-17T15:31:26.532Z"
   },
   {
    "duration": 119,
    "start_time": "2025-01-17T15:31:26.618Z"
   },
   {
    "duration": 0,
    "start_time": "2025-01-17T15:31:26.740Z"
   },
   {
    "duration": 0,
    "start_time": "2025-01-17T15:31:26.741Z"
   },
   {
    "duration": 0,
    "start_time": "2025-01-17T15:31:26.742Z"
   },
   {
    "duration": 0,
    "start_time": "2025-01-17T15:31:26.743Z"
   },
   {
    "duration": 0,
    "start_time": "2025-01-17T15:31:26.744Z"
   },
   {
    "duration": 0,
    "start_time": "2025-01-17T15:31:26.745Z"
   },
   {
    "duration": 0,
    "start_time": "2025-01-17T15:31:26.746Z"
   },
   {
    "duration": 0,
    "start_time": "2025-01-17T15:31:26.747Z"
   },
   {
    "duration": 0,
    "start_time": "2025-01-17T15:31:26.748Z"
   },
   {
    "duration": 0,
    "start_time": "2025-01-17T15:31:26.750Z"
   },
   {
    "duration": 0,
    "start_time": "2025-01-17T15:31:26.751Z"
   },
   {
    "duration": 0,
    "start_time": "2025-01-17T15:31:26.752Z"
   },
   {
    "duration": 0,
    "start_time": "2025-01-17T15:31:26.753Z"
   },
   {
    "duration": 0,
    "start_time": "2025-01-17T15:31:26.754Z"
   },
   {
    "duration": 0,
    "start_time": "2025-01-17T15:31:26.755Z"
   },
   {
    "duration": 0,
    "start_time": "2025-01-17T15:31:26.756Z"
   },
   {
    "duration": 0,
    "start_time": "2025-01-17T15:31:26.757Z"
   },
   {
    "duration": 0,
    "start_time": "2025-01-17T15:31:26.758Z"
   },
   {
    "duration": 0,
    "start_time": "2025-01-17T15:31:26.759Z"
   },
   {
    "duration": 0,
    "start_time": "2025-01-17T15:31:26.760Z"
   },
   {
    "duration": 0,
    "start_time": "2025-01-17T15:31:26.761Z"
   },
   {
    "duration": 0,
    "start_time": "2025-01-17T15:31:26.762Z"
   },
   {
    "duration": 0,
    "start_time": "2025-01-17T15:31:26.762Z"
   },
   {
    "duration": 0,
    "start_time": "2025-01-17T15:31:26.764Z"
   },
   {
    "duration": 0,
    "start_time": "2025-01-17T15:31:26.765Z"
   },
   {
    "duration": 0,
    "start_time": "2025-01-17T15:31:26.766Z"
   },
   {
    "duration": 0,
    "start_time": "2025-01-17T15:31:26.767Z"
   },
   {
    "duration": 0,
    "start_time": "2025-01-17T15:31:26.768Z"
   },
   {
    "duration": 0,
    "start_time": "2025-01-17T15:31:26.769Z"
   },
   {
    "duration": 0,
    "start_time": "2025-01-17T15:31:26.770Z"
   },
   {
    "duration": 0,
    "start_time": "2025-01-17T15:31:26.771Z"
   },
   {
    "duration": 0,
    "start_time": "2025-01-17T15:31:26.772Z"
   },
   {
    "duration": 0,
    "start_time": "2025-01-17T15:31:26.773Z"
   },
   {
    "duration": 0,
    "start_time": "2025-01-17T15:31:26.774Z"
   },
   {
    "duration": 0,
    "start_time": "2025-01-17T15:31:26.786Z"
   },
   {
    "duration": 0,
    "start_time": "2025-01-17T15:31:26.787Z"
   },
   {
    "duration": 0,
    "start_time": "2025-01-17T15:31:26.788Z"
   },
   {
    "duration": 0,
    "start_time": "2025-01-17T15:31:26.788Z"
   },
   {
    "duration": 0,
    "start_time": "2025-01-17T15:31:26.790Z"
   },
   {
    "duration": 0,
    "start_time": "2025-01-17T15:31:26.791Z"
   },
   {
    "duration": 0,
    "start_time": "2025-01-17T15:31:26.792Z"
   },
   {
    "duration": 0,
    "start_time": "2025-01-17T15:31:26.793Z"
   },
   {
    "duration": 0,
    "start_time": "2025-01-17T15:31:26.793Z"
   },
   {
    "duration": 0,
    "start_time": "2025-01-17T15:31:26.794Z"
   },
   {
    "duration": 0,
    "start_time": "2025-01-17T15:31:26.795Z"
   },
   {
    "duration": 0,
    "start_time": "2025-01-17T15:31:26.796Z"
   },
   {
    "duration": 19,
    "start_time": "2025-01-17T15:31:35.569Z"
   },
   {
    "duration": 13,
    "start_time": "2025-01-17T15:31:35.961Z"
   },
   {
    "duration": 9,
    "start_time": "2025-01-17T15:31:36.377Z"
   },
   {
    "duration": 11,
    "start_time": "2025-01-17T15:31:36.697Z"
   },
   {
    "duration": 4,
    "start_time": "2025-01-17T15:31:37.076Z"
   },
   {
    "duration": 4,
    "start_time": "2025-01-17T15:31:37.460Z"
   },
   {
    "duration": 11,
    "start_time": "2025-01-17T15:31:37.864Z"
   },
   {
    "duration": 8,
    "start_time": "2025-01-17T15:31:38.252Z"
   },
   {
    "duration": 11,
    "start_time": "2025-01-17T15:31:39.828Z"
   },
   {
    "duration": 15,
    "start_time": "2025-01-17T15:31:40.244Z"
   },
   {
    "duration": 17,
    "start_time": "2025-01-17T15:31:40.677Z"
   },
   {
    "duration": 12,
    "start_time": "2025-01-17T15:31:42.516Z"
   },
   {
    "duration": 13,
    "start_time": "2025-01-17T15:31:43.133Z"
   },
   {
    "duration": 6,
    "start_time": "2025-01-17T15:31:48.285Z"
   },
   {
    "duration": 4,
    "start_time": "2025-01-17T15:31:49.069Z"
   },
   {
    "duration": 9,
    "start_time": "2025-01-17T15:31:49.765Z"
   },
   {
    "duration": 16,
    "start_time": "2025-01-17T15:31:51.896Z"
   },
   {
    "duration": 6,
    "start_time": "2025-01-17T15:31:52.173Z"
   },
   {
    "duration": 2,
    "start_time": "2025-01-17T15:31:52.989Z"
   },
   {
    "duration": 4,
    "start_time": "2025-01-17T15:31:53.390Z"
   },
   {
    "duration": 10,
    "start_time": "2025-01-17T15:31:53.734Z"
   },
   {
    "duration": 3,
    "start_time": "2025-01-17T15:31:55.685Z"
   },
   {
    "duration": 6,
    "start_time": "2025-01-17T15:31:56.134Z"
   },
   {
    "duration": 153,
    "start_time": "2025-01-17T15:31:56.585Z"
   },
   {
    "duration": 4,
    "start_time": "2025-01-17T15:31:57.829Z"
   },
   {
    "duration": 5,
    "start_time": "2025-01-17T15:31:58.221Z"
   },
   {
    "duration": 6,
    "start_time": "2025-01-17T15:31:58.605Z"
   },
   {
    "duration": 189,
    "start_time": "2025-01-17T15:31:59.022Z"
   },
   {
    "duration": 5,
    "start_time": "2025-01-17T15:31:59.485Z"
   },
   {
    "duration": 4,
    "start_time": "2025-01-17T15:31:59.837Z"
   },
   {
    "duration": 6,
    "start_time": "2025-01-17T15:32:00.261Z"
   },
   {
    "duration": 163,
    "start_time": "2025-01-17T15:32:00.710Z"
   },
   {
    "duration": 6,
    "start_time": "2025-01-17T15:32:02.085Z"
   },
   {
    "duration": 15,
    "start_time": "2025-01-17T15:32:02.525Z"
   },
   {
    "duration": 125,
    "start_time": "2025-01-17T15:32:03.077Z"
   },
   {
    "duration": 198,
    "start_time": "2025-01-17T15:32:03.749Z"
   },
   {
    "duration": 7,
    "start_time": "2025-01-17T15:32:06.324Z"
   },
   {
    "duration": 8,
    "start_time": "2025-01-17T15:32:07.797Z"
   },
   {
    "duration": 234,
    "start_time": "2025-01-17T15:32:08.829Z"
   },
   {
    "duration": 128,
    "start_time": "2025-01-17T15:32:10.918Z"
   },
   {
    "duration": 127,
    "start_time": "2025-01-17T15:32:12.101Z"
   },
   {
    "duration": 113,
    "start_time": "2025-01-17T15:32:15.349Z"
   },
   {
    "duration": 7,
    "start_time": "2025-01-17T15:32:17.766Z"
   },
   {
    "duration": 22,
    "start_time": "2025-01-17T15:32:20.149Z"
   },
   {
    "duration": 10,
    "start_time": "2025-01-17T15:32:26.670Z"
   },
   {
    "duration": 8,
    "start_time": "2025-01-17T15:32:27.493Z"
   },
   {
    "duration": 3,
    "start_time": "2025-01-17T15:33:40.364Z"
   },
   {
    "duration": 7,
    "start_time": "2025-01-17T15:33:51.204Z"
   },
   {
    "duration": 2,
    "start_time": "2025-01-17T15:33:55.072Z"
   },
   {
    "duration": 5,
    "start_time": "2025-01-17T15:33:55.076Z"
   },
   {
    "duration": 3,
    "start_time": "2025-01-17T15:33:55.082Z"
   },
   {
    "duration": 2749,
    "start_time": "2025-01-17T15:33:55.086Z"
   },
   {
    "duration": 351,
    "start_time": "2025-01-17T15:33:57.838Z"
   },
   {
    "duration": 689,
    "start_time": "2025-01-17T15:33:58.191Z"
   },
   {
    "duration": 51,
    "start_time": "2025-01-17T15:33:58.882Z"
   },
   {
    "duration": 86,
    "start_time": "2025-01-17T15:33:58.934Z"
   },
   {
    "duration": 124,
    "start_time": "2025-01-17T15:33:59.022Z"
   },
   {
    "duration": 0,
    "start_time": "2025-01-17T15:33:59.149Z"
   },
   {
    "duration": 0,
    "start_time": "2025-01-17T15:33:59.150Z"
   },
   {
    "duration": 0,
    "start_time": "2025-01-17T15:33:59.151Z"
   },
   {
    "duration": 0,
    "start_time": "2025-01-17T15:33:59.152Z"
   },
   {
    "duration": 0,
    "start_time": "2025-01-17T15:33:59.153Z"
   },
   {
    "duration": 0,
    "start_time": "2025-01-17T15:33:59.154Z"
   },
   {
    "duration": 0,
    "start_time": "2025-01-17T15:33:59.155Z"
   },
   {
    "duration": 0,
    "start_time": "2025-01-17T15:33:59.156Z"
   },
   {
    "duration": 0,
    "start_time": "2025-01-17T15:33:59.157Z"
   },
   {
    "duration": 0,
    "start_time": "2025-01-17T15:33:59.158Z"
   },
   {
    "duration": 0,
    "start_time": "2025-01-17T15:33:59.159Z"
   },
   {
    "duration": 0,
    "start_time": "2025-01-17T15:33:59.160Z"
   },
   {
    "duration": 0,
    "start_time": "2025-01-17T15:33:59.161Z"
   },
   {
    "duration": 0,
    "start_time": "2025-01-17T15:33:59.162Z"
   },
   {
    "duration": 0,
    "start_time": "2025-01-17T15:33:59.163Z"
   },
   {
    "duration": 0,
    "start_time": "2025-01-17T15:33:59.165Z"
   },
   {
    "duration": 0,
    "start_time": "2025-01-17T15:33:59.166Z"
   },
   {
    "duration": 0,
    "start_time": "2025-01-17T15:33:59.167Z"
   },
   {
    "duration": 0,
    "start_time": "2025-01-17T15:33:59.168Z"
   },
   {
    "duration": 0,
    "start_time": "2025-01-17T15:33:59.170Z"
   },
   {
    "duration": 0,
    "start_time": "2025-01-17T15:33:59.171Z"
   },
   {
    "duration": 0,
    "start_time": "2025-01-17T15:33:59.173Z"
   },
   {
    "duration": 0,
    "start_time": "2025-01-17T15:33:59.175Z"
   },
   {
    "duration": 0,
    "start_time": "2025-01-17T15:33:59.176Z"
   },
   {
    "duration": 0,
    "start_time": "2025-01-17T15:33:59.177Z"
   },
   {
    "duration": 0,
    "start_time": "2025-01-17T15:33:59.179Z"
   },
   {
    "duration": 0,
    "start_time": "2025-01-17T15:33:59.180Z"
   },
   {
    "duration": 0,
    "start_time": "2025-01-17T15:33:59.182Z"
   },
   {
    "duration": 0,
    "start_time": "2025-01-17T15:33:59.183Z"
   },
   {
    "duration": 0,
    "start_time": "2025-01-17T15:33:59.184Z"
   },
   {
    "duration": 0,
    "start_time": "2025-01-17T15:33:59.187Z"
   },
   {
    "duration": 0,
    "start_time": "2025-01-17T15:33:59.188Z"
   },
   {
    "duration": 0,
    "start_time": "2025-01-17T15:33:59.189Z"
   },
   {
    "duration": 0,
    "start_time": "2025-01-17T15:33:59.190Z"
   },
   {
    "duration": 0,
    "start_time": "2025-01-17T15:33:59.193Z"
   },
   {
    "duration": 0,
    "start_time": "2025-01-17T15:33:59.194Z"
   },
   {
    "duration": 0,
    "start_time": "2025-01-17T15:33:59.195Z"
   },
   {
    "duration": 0,
    "start_time": "2025-01-17T15:33:59.196Z"
   },
   {
    "duration": 0,
    "start_time": "2025-01-17T15:33:59.197Z"
   },
   {
    "duration": 0,
    "start_time": "2025-01-17T15:33:59.198Z"
   },
   {
    "duration": 0,
    "start_time": "2025-01-17T15:33:59.199Z"
   },
   {
    "duration": 0,
    "start_time": "2025-01-17T15:33:59.200Z"
   },
   {
    "duration": 0,
    "start_time": "2025-01-17T15:33:59.202Z"
   },
   {
    "duration": 0,
    "start_time": "2025-01-17T15:33:59.203Z"
   },
   {
    "duration": 0,
    "start_time": "2025-01-17T15:33:59.204Z"
   },
   {
    "duration": 0,
    "start_time": "2025-01-17T15:33:59.205Z"
   },
   {
    "duration": 0,
    "start_time": "2025-01-17T15:33:59.206Z"
   },
   {
    "duration": 15,
    "start_time": "2025-01-17T15:34:04.805Z"
   },
   {
    "duration": 12,
    "start_time": "2025-01-17T15:34:05.130Z"
   },
   {
    "duration": 9,
    "start_time": "2025-01-17T15:34:05.418Z"
   },
   {
    "duration": 11,
    "start_time": "2025-01-17T15:34:05.713Z"
   },
   {
    "duration": 3,
    "start_time": "2025-01-17T15:34:06.026Z"
   },
   {
    "duration": 4,
    "start_time": "2025-01-17T15:34:06.305Z"
   },
   {
    "duration": 10,
    "start_time": "2025-01-17T15:34:06.609Z"
   },
   {
    "duration": 7,
    "start_time": "2025-01-17T15:34:06.929Z"
   },
   {
    "duration": 11,
    "start_time": "2025-01-17T15:34:08.144Z"
   },
   {
    "duration": 14,
    "start_time": "2025-01-17T15:34:08.497Z"
   },
   {
    "duration": 17,
    "start_time": "2025-01-17T15:34:08.809Z"
   },
   {
    "duration": 5,
    "start_time": "2025-01-17T15:34:09.457Z"
   },
   {
    "duration": 13,
    "start_time": "2025-01-17T15:34:09.789Z"
   },
   {
    "duration": 13,
    "start_time": "2025-01-17T15:34:10.105Z"
   },
   {
    "duration": 6,
    "start_time": "2025-01-17T15:34:10.745Z"
   },
   {
    "duration": 4,
    "start_time": "2025-01-17T15:34:11.041Z"
   },
   {
    "duration": 9,
    "start_time": "2025-01-17T15:34:11.370Z"
   },
   {
    "duration": 15,
    "start_time": "2025-01-17T15:34:11.985Z"
   },
   {
    "duration": 6,
    "start_time": "2025-01-17T15:34:12.297Z"
   },
   {
    "duration": 4,
    "start_time": "2025-01-17T15:34:12.944Z"
   },
   {
    "duration": 4,
    "start_time": "2025-01-17T15:34:13.298Z"
   },
   {
    "duration": 11,
    "start_time": "2025-01-17T15:34:13.649Z"
   },
   {
    "duration": 4,
    "start_time": "2025-01-17T15:34:15.049Z"
   },
   {
    "duration": 7,
    "start_time": "2025-01-17T15:34:15.233Z"
   },
   {
    "duration": 164,
    "start_time": "2025-01-17T15:34:15.425Z"
   },
   {
    "duration": 4,
    "start_time": "2025-01-17T15:34:16.017Z"
   },
   {
    "duration": 4,
    "start_time": "2025-01-17T15:34:16.177Z"
   },
   {
    "duration": 5,
    "start_time": "2025-01-17T15:34:16.369Z"
   },
   {
    "duration": 196,
    "start_time": "2025-01-17T15:34:16.549Z"
   },
   {
    "duration": 4,
    "start_time": "2025-01-17T15:34:16.747Z"
   },
   {
    "duration": 4,
    "start_time": "2025-01-17T15:34:16.905Z"
   },
   {
    "duration": 6,
    "start_time": "2025-01-17T15:34:17.105Z"
   },
   {
    "duration": 164,
    "start_time": "2025-01-17T15:34:17.313Z"
   },
   {
    "duration": 6,
    "start_time": "2025-01-17T15:34:18.097Z"
   },
   {
    "duration": 13,
    "start_time": "2025-01-17T15:34:18.401Z"
   },
   {
    "duration": 119,
    "start_time": "2025-01-17T15:34:18.721Z"
   },
   {
    "duration": 203,
    "start_time": "2025-01-17T15:34:19.009Z"
   },
   {
    "duration": 8,
    "start_time": "2025-01-17T15:34:20.329Z"
   },
   {
    "duration": 6,
    "start_time": "2025-01-17T15:34:20.794Z"
   },
   {
    "duration": 246,
    "start_time": "2025-01-17T15:34:21.233Z"
   },
   {
    "duration": 139,
    "start_time": "2025-01-17T15:34:21.729Z"
   },
   {
    "duration": 120,
    "start_time": "2025-01-17T15:34:22.034Z"
   },
   {
    "duration": 100,
    "start_time": "2025-01-17T15:34:22.874Z"
   },
   {
    "duration": 7,
    "start_time": "2025-01-17T15:34:23.610Z"
   },
   {
    "duration": 21,
    "start_time": "2025-01-17T15:34:23.833Z"
   },
   {
    "duration": 9,
    "start_time": "2025-01-17T15:34:24.066Z"
   },
   {
    "duration": 6,
    "start_time": "2025-01-17T15:34:25.237Z"
   },
   {
    "duration": 6,
    "start_time": "2025-01-17T15:36:52.709Z"
   },
   {
    "duration": 20,
    "start_time": "2025-01-17T15:36:55.869Z"
   },
   {
    "duration": 10,
    "start_time": "2025-01-17T15:36:56.612Z"
   },
   {
    "duration": 7,
    "start_time": "2025-01-17T15:36:57.436Z"
   },
   {
    "duration": 9,
    "start_time": "2025-01-17T15:37:54.082Z"
   },
   {
    "duration": 7,
    "start_time": "2025-01-17T15:37:54.273Z"
   },
   {
    "duration": 112,
    "start_time": "2025-01-17T15:52:40.499Z"
   },
   {
    "duration": 3,
    "start_time": "2025-01-17T15:53:44.720Z"
   },
   {
    "duration": 16,
    "start_time": "2025-01-17T15:53:44.725Z"
   },
   {
    "duration": 20,
    "start_time": "2025-01-17T15:53:44.743Z"
   },
   {
    "duration": 2735,
    "start_time": "2025-01-17T15:53:44.765Z"
   },
   {
    "duration": 396,
    "start_time": "2025-01-17T15:53:47.503Z"
   },
   {
    "duration": 738,
    "start_time": "2025-01-17T15:53:47.901Z"
   },
   {
    "duration": 57,
    "start_time": "2025-01-17T15:53:48.641Z"
   },
   {
    "duration": 98,
    "start_time": "2025-01-17T15:53:48.700Z"
   },
   {
    "duration": 100,
    "start_time": "2025-01-17T15:53:48.800Z"
   },
   {
    "duration": 0,
    "start_time": "2025-01-17T15:53:48.904Z"
   },
   {
    "duration": 0,
    "start_time": "2025-01-17T15:53:48.905Z"
   },
   {
    "duration": 0,
    "start_time": "2025-01-17T15:53:48.907Z"
   },
   {
    "duration": 0,
    "start_time": "2025-01-17T15:53:48.908Z"
   },
   {
    "duration": 0,
    "start_time": "2025-01-17T15:53:48.910Z"
   },
   {
    "duration": 0,
    "start_time": "2025-01-17T15:53:48.911Z"
   },
   {
    "duration": 0,
    "start_time": "2025-01-17T15:53:48.912Z"
   },
   {
    "duration": 0,
    "start_time": "2025-01-17T15:53:48.914Z"
   },
   {
    "duration": 0,
    "start_time": "2025-01-17T15:53:48.915Z"
   },
   {
    "duration": 0,
    "start_time": "2025-01-17T15:53:48.917Z"
   },
   {
    "duration": 0,
    "start_time": "2025-01-17T15:53:48.918Z"
   },
   {
    "duration": 0,
    "start_time": "2025-01-17T15:53:48.920Z"
   },
   {
    "duration": 0,
    "start_time": "2025-01-17T15:53:48.920Z"
   },
   {
    "duration": 1,
    "start_time": "2025-01-17T15:53:48.922Z"
   },
   {
    "duration": 0,
    "start_time": "2025-01-17T15:53:48.924Z"
   },
   {
    "duration": 0,
    "start_time": "2025-01-17T15:53:48.925Z"
   },
   {
    "duration": 0,
    "start_time": "2025-01-17T15:53:48.926Z"
   },
   {
    "duration": 0,
    "start_time": "2025-01-17T15:53:48.927Z"
   },
   {
    "duration": 0,
    "start_time": "2025-01-17T15:53:48.928Z"
   },
   {
    "duration": 0,
    "start_time": "2025-01-17T15:53:48.929Z"
   },
   {
    "duration": 0,
    "start_time": "2025-01-17T15:53:48.930Z"
   },
   {
    "duration": 0,
    "start_time": "2025-01-17T15:53:48.931Z"
   },
   {
    "duration": 0,
    "start_time": "2025-01-17T15:53:48.932Z"
   },
   {
    "duration": 0,
    "start_time": "2025-01-17T15:53:48.933Z"
   },
   {
    "duration": 0,
    "start_time": "2025-01-17T15:53:48.933Z"
   },
   {
    "duration": 0,
    "start_time": "2025-01-17T15:53:48.934Z"
   },
   {
    "duration": 0,
    "start_time": "2025-01-17T15:53:48.935Z"
   },
   {
    "duration": 0,
    "start_time": "2025-01-17T15:53:48.936Z"
   },
   {
    "duration": 0,
    "start_time": "2025-01-17T15:53:48.937Z"
   },
   {
    "duration": 0,
    "start_time": "2025-01-17T15:53:48.938Z"
   },
   {
    "duration": 0,
    "start_time": "2025-01-17T15:53:48.939Z"
   },
   {
    "duration": 0,
    "start_time": "2025-01-17T15:53:48.940Z"
   },
   {
    "duration": 0,
    "start_time": "2025-01-17T15:53:48.940Z"
   },
   {
    "duration": 0,
    "start_time": "2025-01-17T15:53:48.994Z"
   },
   {
    "duration": 0,
    "start_time": "2025-01-17T15:53:48.995Z"
   },
   {
    "duration": 0,
    "start_time": "2025-01-17T15:53:48.995Z"
   },
   {
    "duration": 0,
    "start_time": "2025-01-17T15:53:48.996Z"
   },
   {
    "duration": 0,
    "start_time": "2025-01-17T15:53:48.996Z"
   },
   {
    "duration": 0,
    "start_time": "2025-01-17T15:53:48.997Z"
   },
   {
    "duration": 0,
    "start_time": "2025-01-17T15:53:48.997Z"
   },
   {
    "duration": 0,
    "start_time": "2025-01-17T15:53:49.000Z"
   },
   {
    "duration": 0,
    "start_time": "2025-01-17T15:53:49.001Z"
   },
   {
    "duration": 0,
    "start_time": "2025-01-17T15:53:49.002Z"
   },
   {
    "duration": 0,
    "start_time": "2025-01-17T15:53:49.004Z"
   },
   {
    "duration": 0,
    "start_time": "2025-01-17T15:53:49.005Z"
   },
   {
    "duration": 0,
    "start_time": "2025-01-17T15:53:49.006Z"
   },
   {
    "duration": 0,
    "start_time": "2025-01-17T15:53:49.008Z"
   },
   {
    "duration": 0,
    "start_time": "2025-01-17T15:53:49.009Z"
   },
   {
    "duration": 22,
    "start_time": "2025-01-17T15:53:53.377Z"
   },
   {
    "duration": 13,
    "start_time": "2025-01-17T15:53:53.737Z"
   },
   {
    "duration": 10,
    "start_time": "2025-01-17T15:53:54.273Z"
   },
   {
    "duration": 10,
    "start_time": "2025-01-17T15:53:54.618Z"
   },
   {
    "duration": 4,
    "start_time": "2025-01-17T15:53:54.999Z"
   },
   {
    "duration": 4,
    "start_time": "2025-01-17T15:53:55.313Z"
   },
   {
    "duration": 13,
    "start_time": "2025-01-17T15:53:55.599Z"
   },
   {
    "duration": 7,
    "start_time": "2025-01-17T15:53:55.922Z"
   },
   {
    "duration": 11,
    "start_time": "2025-01-17T15:53:56.841Z"
   },
   {
    "duration": 14,
    "start_time": "2025-01-17T15:53:57.017Z"
   },
   {
    "duration": 17,
    "start_time": "2025-01-17T15:53:57.218Z"
   },
   {
    "duration": 7,
    "start_time": "2025-01-17T15:53:57.585Z"
   },
   {
    "duration": 13,
    "start_time": "2025-01-17T15:53:57.769Z"
   },
   {
    "duration": 15,
    "start_time": "2025-01-17T15:53:57.999Z"
   },
   {
    "duration": 6,
    "start_time": "2025-01-17T15:53:58.833Z"
   },
   {
    "duration": 4,
    "start_time": "2025-01-17T15:53:59.025Z"
   },
   {
    "duration": 9,
    "start_time": "2025-01-17T15:53:59.210Z"
   },
   {
    "duration": 15,
    "start_time": "2025-01-17T15:53:59.561Z"
   },
   {
    "duration": 6,
    "start_time": "2025-01-17T15:53:59.753Z"
   },
   {
    "duration": 2,
    "start_time": "2025-01-17T15:54:00.146Z"
   },
   {
    "duration": 5,
    "start_time": "2025-01-17T15:54:00.330Z"
   },
   {
    "duration": 11,
    "start_time": "2025-01-17T15:54:00.521Z"
   },
   {
    "duration": 4,
    "start_time": "2025-01-17T15:54:01.529Z"
   },
   {
    "duration": 7,
    "start_time": "2025-01-17T15:54:01.713Z"
   },
   {
    "duration": 160,
    "start_time": "2025-01-17T15:54:01.922Z"
   },
   {
    "duration": 3,
    "start_time": "2025-01-17T15:54:02.562Z"
   },
   {
    "duration": 4,
    "start_time": "2025-01-17T15:54:02.777Z"
   },
   {
    "duration": 10,
    "start_time": "2025-01-17T15:54:02.986Z"
   },
   {
    "duration": 205,
    "start_time": "2025-01-17T15:54:03.195Z"
   },
   {
    "duration": 5,
    "start_time": "2025-01-17T15:54:03.403Z"
   },
   {
    "duration": 4,
    "start_time": "2025-01-17T15:54:03.577Z"
   },
   {
    "duration": 6,
    "start_time": "2025-01-17T15:54:03.753Z"
   },
   {
    "duration": 169,
    "start_time": "2025-01-17T15:54:03.961Z"
   },
   {
    "duration": 6,
    "start_time": "2025-01-17T15:54:04.577Z"
   },
   {
    "duration": 12,
    "start_time": "2025-01-17T15:54:04.770Z"
   },
   {
    "duration": 125,
    "start_time": "2025-01-17T15:54:04.977Z"
   },
   {
    "duration": 201,
    "start_time": "2025-01-17T15:54:05.178Z"
   },
   {
    "duration": 7,
    "start_time": "2025-01-17T15:54:05.825Z"
   },
   {
    "duration": 7,
    "start_time": "2025-01-17T15:54:06.121Z"
   },
   {
    "duration": 231,
    "start_time": "2025-01-17T15:54:06.322Z"
   },
   {
    "duration": 138,
    "start_time": "2025-01-17T15:54:06.745Z"
   },
   {
    "duration": 120,
    "start_time": "2025-01-17T15:54:06.954Z"
   },
   {
    "duration": 151,
    "start_time": "2025-01-17T15:54:07.154Z"
   },
   {
    "duration": 8,
    "start_time": "2025-01-17T15:54:07.362Z"
   },
   {
    "duration": 22,
    "start_time": "2025-01-17T15:54:07.562Z"
   },
   {
    "duration": 10,
    "start_time": "2025-01-17T15:54:07.769Z"
   },
   {
    "duration": 12,
    "start_time": "2025-01-17T15:54:07.985Z"
   },
   {
    "duration": 121,
    "start_time": "2025-01-17T15:54:08.202Z"
   },
   {
    "duration": 9,
    "start_time": "2025-01-17T15:55:17.865Z"
   },
   {
    "duration": 6,
    "start_time": "2025-01-17T15:55:18.520Z"
   },
   {
    "duration": 26,
    "start_time": "2025-01-17T15:55:31.072Z"
   },
   {
    "duration": 127,
    "start_time": "2025-01-17T15:55:45.044Z"
   },
   {
    "duration": 98,
    "start_time": "2025-01-17T15:55:53.212Z"
   },
   {
    "duration": 10,
    "start_time": "2025-01-17T15:56:27.141Z"
   },
   {
    "duration": 14,
    "start_time": "2025-01-17T15:56:35.765Z"
   },
   {
    "duration": 16,
    "start_time": "2025-01-17T15:58:40.360Z"
   },
   {
    "duration": 16,
    "start_time": "2025-01-17T15:59:28.316Z"
   },
   {
    "duration": 48,
    "start_time": "2025-01-18T19:20:19.659Z"
   },
   {
    "duration": 6,
    "start_time": "2025-01-18T19:20:20.287Z"
   },
   {
    "duration": 8,
    "start_time": "2025-01-18T19:20:21.466Z"
   },
   {
    "duration": 7,
    "start_time": "2025-01-18T19:21:01.915Z"
   },
   {
    "duration": 6,
    "start_time": "2025-01-18T19:21:03.283Z"
   },
   {
    "duration": 8,
    "start_time": "2025-01-18T19:21:04.371Z"
   },
   {
    "duration": 7,
    "start_time": "2025-01-18T19:21:14.396Z"
   },
   {
    "duration": 3,
    "start_time": "2025-01-18T19:21:23.616Z"
   },
   {
    "duration": 3,
    "start_time": "2025-01-18T19:21:23.620Z"
   },
   {
    "duration": 3,
    "start_time": "2025-01-18T19:21:23.625Z"
   },
   {
    "duration": 3557,
    "start_time": "2025-01-18T19:21:23.629Z"
   },
   {
    "duration": 369,
    "start_time": "2025-01-18T19:21:27.188Z"
   },
   {
    "duration": 1016,
    "start_time": "2025-01-18T19:21:27.559Z"
   },
   {
    "duration": 52,
    "start_time": "2025-01-18T19:21:28.577Z"
   },
   {
    "duration": 327,
    "start_time": "2025-01-18T19:21:28.631Z"
   },
   {
    "duration": 106,
    "start_time": "2025-01-18T19:21:28.960Z"
   },
   {
    "duration": 0,
    "start_time": "2025-01-18T19:21:29.070Z"
   },
   {
    "duration": 0,
    "start_time": "2025-01-18T19:21:29.072Z"
   },
   {
    "duration": 0,
    "start_time": "2025-01-18T19:21:29.073Z"
   },
   {
    "duration": 1,
    "start_time": "2025-01-18T19:21:29.074Z"
   },
   {
    "duration": 0,
    "start_time": "2025-01-18T19:21:29.076Z"
   },
   {
    "duration": 0,
    "start_time": "2025-01-18T19:21:29.077Z"
   },
   {
    "duration": 0,
    "start_time": "2025-01-18T19:21:29.079Z"
   },
   {
    "duration": 0,
    "start_time": "2025-01-18T19:21:29.080Z"
   },
   {
    "duration": 0,
    "start_time": "2025-01-18T19:21:29.086Z"
   },
   {
    "duration": 0,
    "start_time": "2025-01-18T19:21:29.088Z"
   },
   {
    "duration": 0,
    "start_time": "2025-01-18T19:21:29.089Z"
   },
   {
    "duration": 0,
    "start_time": "2025-01-18T19:21:29.091Z"
   },
   {
    "duration": 0,
    "start_time": "2025-01-18T19:21:29.092Z"
   },
   {
    "duration": 0,
    "start_time": "2025-01-18T19:21:29.093Z"
   },
   {
    "duration": 0,
    "start_time": "2025-01-18T19:21:29.095Z"
   },
   {
    "duration": 0,
    "start_time": "2025-01-18T19:21:29.096Z"
   },
   {
    "duration": 0,
    "start_time": "2025-01-18T19:21:29.098Z"
   },
   {
    "duration": 0,
    "start_time": "2025-01-18T19:21:29.100Z"
   },
   {
    "duration": 0,
    "start_time": "2025-01-18T19:21:29.101Z"
   },
   {
    "duration": 0,
    "start_time": "2025-01-18T19:21:29.103Z"
   },
   {
    "duration": 0,
    "start_time": "2025-01-18T19:21:29.104Z"
   },
   {
    "duration": 0,
    "start_time": "2025-01-18T19:21:29.106Z"
   },
   {
    "duration": 0,
    "start_time": "2025-01-18T19:21:29.107Z"
   },
   {
    "duration": 0,
    "start_time": "2025-01-18T19:21:29.108Z"
   },
   {
    "duration": 0,
    "start_time": "2025-01-18T19:21:29.110Z"
   },
   {
    "duration": 0,
    "start_time": "2025-01-18T19:21:29.111Z"
   },
   {
    "duration": 0,
    "start_time": "2025-01-18T19:21:29.129Z"
   },
   {
    "duration": 0,
    "start_time": "2025-01-18T19:21:29.131Z"
   },
   {
    "duration": 0,
    "start_time": "2025-01-18T19:21:29.133Z"
   },
   {
    "duration": 0,
    "start_time": "2025-01-18T19:21:29.134Z"
   },
   {
    "duration": 0,
    "start_time": "2025-01-18T19:21:29.136Z"
   },
   {
    "duration": 0,
    "start_time": "2025-01-18T19:21:29.137Z"
   },
   {
    "duration": 0,
    "start_time": "2025-01-18T19:21:29.139Z"
   },
   {
    "duration": 0,
    "start_time": "2025-01-18T19:21:29.140Z"
   },
   {
    "duration": 0,
    "start_time": "2025-01-18T19:21:29.142Z"
   },
   {
    "duration": 0,
    "start_time": "2025-01-18T19:21:29.143Z"
   },
   {
    "duration": 0,
    "start_time": "2025-01-18T19:21:29.145Z"
   },
   {
    "duration": 0,
    "start_time": "2025-01-18T19:21:29.146Z"
   },
   {
    "duration": 0,
    "start_time": "2025-01-18T19:21:29.148Z"
   },
   {
    "duration": 0,
    "start_time": "2025-01-18T19:21:29.149Z"
   },
   {
    "duration": 0,
    "start_time": "2025-01-18T19:21:29.151Z"
   },
   {
    "duration": 0,
    "start_time": "2025-01-18T19:21:29.152Z"
   },
   {
    "duration": 0,
    "start_time": "2025-01-18T19:21:29.153Z"
   },
   {
    "duration": 0,
    "start_time": "2025-01-18T19:21:29.155Z"
   },
   {
    "duration": 0,
    "start_time": "2025-01-18T19:21:29.156Z"
   },
   {
    "duration": 0,
    "start_time": "2025-01-18T19:21:29.158Z"
   },
   {
    "duration": 0,
    "start_time": "2025-01-18T19:21:29.159Z"
   },
   {
    "duration": 0,
    "start_time": "2025-01-18T19:21:29.161Z"
   },
   {
    "duration": 16,
    "start_time": "2025-01-18T19:21:33.322Z"
   },
   {
    "duration": 15,
    "start_time": "2025-01-18T19:21:33.717Z"
   },
   {
    "duration": 10,
    "start_time": "2025-01-18T19:21:34.101Z"
   },
   {
    "duration": 11,
    "start_time": "2025-01-18T19:21:34.450Z"
   },
   {
    "duration": 5,
    "start_time": "2025-01-18T19:21:34.837Z"
   },
   {
    "duration": 4,
    "start_time": "2025-01-18T19:21:35.590Z"
   },
   {
    "duration": 17,
    "start_time": "2025-01-18T19:21:36.010Z"
   },
   {
    "duration": 8,
    "start_time": "2025-01-18T19:21:36.738Z"
   },
   {
    "duration": 11,
    "start_time": "2025-01-18T19:21:39.321Z"
   },
   {
    "duration": 17,
    "start_time": "2025-01-18T19:21:39.532Z"
   },
   {
    "duration": 19,
    "start_time": "2025-01-18T19:21:39.762Z"
   },
   {
    "duration": 4,
    "start_time": "2025-01-18T19:21:40.289Z"
   },
   {
    "duration": 16,
    "start_time": "2025-01-18T19:21:40.522Z"
   },
   {
    "duration": 15,
    "start_time": "2025-01-18T19:21:40.793Z"
   },
   {
    "duration": 7,
    "start_time": "2025-01-18T19:21:50.681Z"
   },
   {
    "duration": 4,
    "start_time": "2025-01-18T19:21:51.002Z"
   },
   {
    "duration": 10,
    "start_time": "2025-01-18T19:21:51.346Z"
   },
   {
    "duration": 19,
    "start_time": "2025-01-18T19:22:01.873Z"
   },
   {
    "duration": 7,
    "start_time": "2025-01-18T19:22:02.178Z"
   },
   {
    "duration": 3,
    "start_time": "2025-01-18T19:22:02.721Z"
   },
   {
    "duration": 5,
    "start_time": "2025-01-18T19:22:02.938Z"
   },
   {
    "duration": 13,
    "start_time": "2025-01-18T19:22:03.297Z"
   },
   {
    "duration": 4,
    "start_time": "2025-01-18T19:22:04.410Z"
   },
   {
    "duration": 7,
    "start_time": "2025-01-18T19:22:04.594Z"
   },
   {
    "duration": 164,
    "start_time": "2025-01-18T19:22:04.738Z"
   },
   {
    "duration": 4,
    "start_time": "2025-01-18T19:22:05.217Z"
   },
   {
    "duration": 5,
    "start_time": "2025-01-18T19:22:05.370Z"
   },
   {
    "duration": 6,
    "start_time": "2025-01-18T19:22:05.618Z"
   },
   {
    "duration": 197,
    "start_time": "2025-01-18T19:22:05.797Z"
   },
   {
    "duration": 5,
    "start_time": "2025-01-18T19:22:06.010Z"
   },
   {
    "duration": 5,
    "start_time": "2025-01-18T19:22:06.201Z"
   },
   {
    "duration": 7,
    "start_time": "2025-01-18T19:22:06.378Z"
   },
   {
    "duration": 173,
    "start_time": "2025-01-18T19:22:06.562Z"
   },
   {
    "duration": 7,
    "start_time": "2025-01-18T19:22:07.257Z"
   },
   {
    "duration": 13,
    "start_time": "2025-01-18T19:22:07.562Z"
   },
   {
    "duration": 129,
    "start_time": "2025-01-18T19:22:07.753Z"
   },
   {
    "duration": 293,
    "start_time": "2025-01-18T19:22:07.930Z"
   },
   {
    "duration": 8,
    "start_time": "2025-01-18T19:22:09.233Z"
   },
   {
    "duration": 8,
    "start_time": "2025-01-18T19:22:09.529Z"
   },
   {
    "duration": 201,
    "start_time": "2025-01-18T19:22:09.722Z"
   },
   {
    "duration": 137,
    "start_time": "2025-01-18T19:22:10.889Z"
   },
   {
    "duration": 122,
    "start_time": "2025-01-18T19:22:11.410Z"
   },
   {
    "duration": 101,
    "start_time": "2025-01-18T19:22:11.986Z"
   },
   {
    "duration": 8,
    "start_time": "2025-01-18T19:22:13.722Z"
   },
   {
    "duration": 23,
    "start_time": "2025-01-18T19:22:14.201Z"
   },
   {
    "duration": 11,
    "start_time": "2025-01-18T19:22:15.898Z"
   },
   {
    "duration": 8,
    "start_time": "2025-01-18T19:22:16.773Z"
   },
   {
    "duration": 6,
    "start_time": "2025-01-18T19:22:27.554Z"
   },
   {
    "duration": 23,
    "start_time": "2025-01-18T19:22:31.307Z"
   },
   {
    "duration": 12,
    "start_time": "2025-01-18T19:22:32.074Z"
   },
   {
    "duration": 7,
    "start_time": "2025-01-18T19:22:33.115Z"
   },
   {
    "duration": 5,
    "start_time": "2025-01-18T19:22:44.743Z"
   },
   {
    "duration": 8,
    "start_time": "2025-01-18T19:22:45.132Z"
   },
   {
    "duration": 121,
    "start_time": "2025-01-18T19:22:45.784Z"
   },
   {
    "duration": 6,
    "start_time": "2025-01-18T19:22:54.887Z"
   },
   {
    "duration": 22,
    "start_time": "2025-01-18T19:22:55.375Z"
   },
   {
    "duration": 16,
    "start_time": "2025-01-18T19:22:56.008Z"
   },
   {
    "duration": 7,
    "start_time": "2025-01-18T19:22:56.567Z"
   },
   {
    "duration": 6,
    "start_time": "2025-01-18T19:23:10.695Z"
   },
   {
    "duration": 23,
    "start_time": "2025-01-18T19:23:11.287Z"
   },
   {
    "duration": 12,
    "start_time": "2025-01-18T19:23:11.887Z"
   },
   {
    "duration": 9,
    "start_time": "2025-01-18T19:23:12.559Z"
   },
   {
    "duration": 17,
    "start_time": "2025-01-18T19:23:14.167Z"
   },
   {
    "duration": 7,
    "start_time": "2025-01-18T19:23:23.415Z"
   },
   {
    "duration": 139,
    "start_time": "2025-01-18T19:24:23.244Z"
   },
   {
    "duration": 12,
    "start_time": "2025-01-18T19:24:37.525Z"
   },
   {
    "duration": 13,
    "start_time": "2025-01-18T19:25:03.014Z"
   },
   {
    "duration": 12,
    "start_time": "2025-01-18T19:25:07.754Z"
   },
   {
    "duration": 11,
    "start_time": "2025-01-18T19:25:17.786Z"
   },
   {
    "duration": 227,
    "start_time": "2025-01-18T19:25:22.378Z"
   },
   {
    "duration": 171,
    "start_time": "2025-01-18T19:26:22.601Z"
   },
   {
    "duration": 153,
    "start_time": "2025-01-18T19:26:30.920Z"
   },
   {
    "duration": 152,
    "start_time": "2025-01-18T19:26:43.832Z"
   },
   {
    "duration": 163,
    "start_time": "2025-01-18T19:26:56.088Z"
   },
   {
    "duration": 152,
    "start_time": "2025-01-18T19:29:40.859Z"
   },
   {
    "duration": 148,
    "start_time": "2025-01-18T19:29:52.620Z"
   },
   {
    "duration": 233,
    "start_time": "2025-01-18T19:30:48.121Z"
   },
   {
    "duration": 12,
    "start_time": "2025-01-18T19:40:35.197Z"
   },
   {
    "duration": 6,
    "start_time": "2025-01-18T19:40:35.893Z"
   },
   {
    "duration": 140,
    "start_time": "2025-01-18T19:40:52.705Z"
   },
   {
    "duration": 4,
    "start_time": "2025-01-18T19:41:01.944Z"
   },
   {
    "duration": 4,
    "start_time": "2025-01-18T19:41:01.950Z"
   },
   {
    "duration": 4,
    "start_time": "2025-01-18T19:41:01.955Z"
   },
   {
    "duration": 2529,
    "start_time": "2025-01-18T19:41:01.963Z"
   },
   {
    "duration": 389,
    "start_time": "2025-01-18T19:41:04.495Z"
   },
   {
    "duration": 790,
    "start_time": "2025-01-18T19:41:04.886Z"
   },
   {
    "duration": 51,
    "start_time": "2025-01-18T19:41:05.678Z"
   },
   {
    "duration": 94,
    "start_time": "2025-01-18T19:41:05.731Z"
   },
   {
    "duration": 93,
    "start_time": "2025-01-18T19:41:05.828Z"
   },
   {
    "duration": 0,
    "start_time": "2025-01-18T19:41:05.923Z"
   },
   {
    "duration": 0,
    "start_time": "2025-01-18T19:41:05.925Z"
   },
   {
    "duration": 0,
    "start_time": "2025-01-18T19:41:05.926Z"
   },
   {
    "duration": 0,
    "start_time": "2025-01-18T19:41:05.927Z"
   },
   {
    "duration": 0,
    "start_time": "2025-01-18T19:41:05.928Z"
   },
   {
    "duration": 0,
    "start_time": "2025-01-18T19:41:05.929Z"
   },
   {
    "duration": 0,
    "start_time": "2025-01-18T19:41:05.930Z"
   },
   {
    "duration": 0,
    "start_time": "2025-01-18T19:41:05.931Z"
   },
   {
    "duration": 0,
    "start_time": "2025-01-18T19:41:05.932Z"
   },
   {
    "duration": 0,
    "start_time": "2025-01-18T19:41:05.933Z"
   },
   {
    "duration": 0,
    "start_time": "2025-01-18T19:41:05.935Z"
   },
   {
    "duration": 0,
    "start_time": "2025-01-18T19:41:05.936Z"
   },
   {
    "duration": 0,
    "start_time": "2025-01-18T19:41:05.938Z"
   },
   {
    "duration": 0,
    "start_time": "2025-01-18T19:41:05.939Z"
   },
   {
    "duration": 0,
    "start_time": "2025-01-18T19:41:05.940Z"
   },
   {
    "duration": 0,
    "start_time": "2025-01-18T19:41:05.941Z"
   },
   {
    "duration": 0,
    "start_time": "2025-01-18T19:41:05.942Z"
   },
   {
    "duration": 0,
    "start_time": "2025-01-18T19:41:05.943Z"
   },
   {
    "duration": 0,
    "start_time": "2025-01-18T19:41:05.944Z"
   },
   {
    "duration": 0,
    "start_time": "2025-01-18T19:41:05.945Z"
   },
   {
    "duration": 0,
    "start_time": "2025-01-18T19:41:05.946Z"
   },
   {
    "duration": 0,
    "start_time": "2025-01-18T19:41:05.947Z"
   },
   {
    "duration": 0,
    "start_time": "2025-01-18T19:41:05.948Z"
   },
   {
    "duration": 0,
    "start_time": "2025-01-18T19:41:05.949Z"
   },
   {
    "duration": 0,
    "start_time": "2025-01-18T19:41:05.950Z"
   },
   {
    "duration": 0,
    "start_time": "2025-01-18T19:41:05.951Z"
   },
   {
    "duration": 0,
    "start_time": "2025-01-18T19:41:05.953Z"
   },
   {
    "duration": 0,
    "start_time": "2025-01-18T19:41:05.954Z"
   },
   {
    "duration": 0,
    "start_time": "2025-01-18T19:41:05.955Z"
   },
   {
    "duration": 0,
    "start_time": "2025-01-18T19:41:05.956Z"
   },
   {
    "duration": 0,
    "start_time": "2025-01-18T19:41:05.957Z"
   },
   {
    "duration": 0,
    "start_time": "2025-01-18T19:41:05.958Z"
   },
   {
    "duration": 0,
    "start_time": "2025-01-18T19:41:05.959Z"
   },
   {
    "duration": 0,
    "start_time": "2025-01-18T19:41:05.960Z"
   },
   {
    "duration": 0,
    "start_time": "2025-01-18T19:41:05.961Z"
   },
   {
    "duration": 0,
    "start_time": "2025-01-18T19:41:05.962Z"
   },
   {
    "duration": 0,
    "start_time": "2025-01-18T19:41:05.963Z"
   },
   {
    "duration": 0,
    "start_time": "2025-01-18T19:41:05.965Z"
   },
   {
    "duration": 0,
    "start_time": "2025-01-18T19:41:05.966Z"
   },
   {
    "duration": 0,
    "start_time": "2025-01-18T19:41:05.967Z"
   },
   {
    "duration": 0,
    "start_time": "2025-01-18T19:41:05.968Z"
   },
   {
    "duration": 0,
    "start_time": "2025-01-18T19:41:06.033Z"
   },
   {
    "duration": 0,
    "start_time": "2025-01-18T19:41:06.035Z"
   },
   {
    "duration": 0,
    "start_time": "2025-01-18T19:41:06.037Z"
   },
   {
    "duration": 0,
    "start_time": "2025-01-18T19:41:06.038Z"
   },
   {
    "duration": 0,
    "start_time": "2025-01-18T19:41:06.041Z"
   },
   {
    "duration": 0,
    "start_time": "2025-01-18T19:41:06.042Z"
   },
   {
    "duration": 0,
    "start_time": "2025-01-18T19:41:06.044Z"
   },
   {
    "duration": 17,
    "start_time": "2025-01-18T19:57:32.466Z"
   },
   {
    "duration": 15,
    "start_time": "2025-01-18T19:57:32.746Z"
   },
   {
    "duration": 12,
    "start_time": "2025-01-18T19:57:32.987Z"
   },
   {
    "duration": 11,
    "start_time": "2025-01-18T19:57:33.178Z"
   },
   {
    "duration": 4,
    "start_time": "2025-01-18T19:57:33.370Z"
   },
   {
    "duration": 3,
    "start_time": "2025-01-18T19:57:33.554Z"
   },
   {
    "duration": 34,
    "start_time": "2025-01-18T19:57:33.746Z"
   },
   {
    "duration": 8,
    "start_time": "2025-01-18T19:57:33.942Z"
   },
   {
    "duration": 12,
    "start_time": "2025-01-18T19:57:34.698Z"
   },
   {
    "duration": 15,
    "start_time": "2025-01-18T19:57:34.891Z"
   },
   {
    "duration": 17,
    "start_time": "2025-01-18T19:57:35.058Z"
   },
   {
    "duration": 5,
    "start_time": "2025-01-18T19:57:35.438Z"
   },
   {
    "duration": 15,
    "start_time": "2025-01-18T19:57:35.618Z"
   },
   {
    "duration": 24,
    "start_time": "2025-01-18T19:57:36.010Z"
   },
   {
    "duration": 7,
    "start_time": "2025-01-18T19:57:36.426Z"
   },
   {
    "duration": 4,
    "start_time": "2025-01-18T19:57:36.634Z"
   },
   {
    "duration": 9,
    "start_time": "2025-01-18T19:57:36.835Z"
   },
   {
    "duration": 15,
    "start_time": "2025-01-18T19:57:37.249Z"
   },
   {
    "duration": 6,
    "start_time": "2025-01-18T19:57:37.450Z"
   },
   {
    "duration": 3,
    "start_time": "2025-01-18T19:57:37.849Z"
   },
   {
    "duration": 6,
    "start_time": "2025-01-18T19:57:38.042Z"
   },
   {
    "duration": 12,
    "start_time": "2025-01-18T19:57:38.258Z"
   },
   {
    "duration": 4,
    "start_time": "2025-01-18T19:57:39.506Z"
   },
   {
    "duration": 7,
    "start_time": "2025-01-18T19:57:39.706Z"
   },
   {
    "duration": 170,
    "start_time": "2025-01-18T19:57:39.931Z"
   },
   {
    "duration": 4,
    "start_time": "2025-01-18T19:57:40.538Z"
   },
   {
    "duration": 5,
    "start_time": "2025-01-18T19:57:40.730Z"
   },
   {
    "duration": 6,
    "start_time": "2025-01-18T19:57:40.930Z"
   },
   {
    "duration": 195,
    "start_time": "2025-01-18T19:57:41.131Z"
   },
   {
    "duration": 5,
    "start_time": "2025-01-18T19:57:41.330Z"
   },
   {
    "duration": 4,
    "start_time": "2025-01-18T19:57:41.514Z"
   },
   {
    "duration": 6,
    "start_time": "2025-01-18T19:57:41.714Z"
   },
   {
    "duration": 205,
    "start_time": "2025-01-18T19:57:41.914Z"
   },
   {
    "duration": 6,
    "start_time": "2025-01-18T19:57:42.554Z"
   },
   {
    "duration": 13,
    "start_time": "2025-01-18T19:57:42.754Z"
   },
   {
    "duration": 128,
    "start_time": "2025-01-18T19:57:42.954Z"
   },
   {
    "duration": 289,
    "start_time": "2025-01-18T19:57:43.155Z"
   },
   {
    "duration": 86,
    "start_time": "2025-01-18T19:57:43.794Z"
   },
   {
    "duration": 105,
    "start_time": "2025-01-18T19:57:44.018Z"
   },
   {
    "duration": 9,
    "start_time": "2025-01-18T19:57:44.259Z"
   },
   {
    "duration": 135,
    "start_time": "2025-01-18T19:57:44.706Z"
   },
   {
    "duration": 88,
    "start_time": "2025-01-18T19:57:44.963Z"
   },
   {
    "duration": 86,
    "start_time": "2025-01-18T19:57:45.203Z"
   },
   {
    "duration": 8,
    "start_time": "2025-01-18T19:57:45.523Z"
   },
   {
    "duration": 24,
    "start_time": "2025-01-18T19:57:46.227Z"
   },
   {
    "duration": 15,
    "start_time": "2025-01-18T19:57:51.635Z"
   },
   {
    "duration": 7,
    "start_time": "2025-01-18T19:57:52.899Z"
   },
   {
    "duration": 21,
    "start_time": "2025-01-18T19:57:53.579Z"
   },
   {
    "duration": 8,
    "start_time": "2025-01-18T19:57:55.866Z"
   },
   {
    "duration": 8,
    "start_time": "2025-01-18T19:57:56.723Z"
   },
   {
    "duration": 182,
    "start_time": "2025-01-18T19:58:02.610Z"
   },
   {
    "duration": 183,
    "start_time": "2025-01-18T19:58:38.580Z"
   },
   {
    "duration": 283,
    "start_time": "2025-01-18T19:58:46.000Z"
   },
   {
    "duration": 263,
    "start_time": "2025-01-18T19:59:08.449Z"
   },
   {
    "duration": 18,
    "start_time": "2025-01-18T20:10:12.537Z"
   },
   {
    "duration": 12,
    "start_time": "2025-01-18T20:10:31.280Z"
   },
   {
    "duration": 5,
    "start_time": "2025-01-18T20:11:04.501Z"
   },
   {
    "duration": 23,
    "start_time": "2025-01-18T20:11:15.341Z"
   },
   {
    "duration": 6,
    "start_time": "2025-01-18T20:11:41.046Z"
   },
   {
    "duration": 8,
    "start_time": "2025-01-18T20:11:51.926Z"
   },
   {
    "duration": 13,
    "start_time": "2025-01-18T20:12:04.898Z"
   },
   {
    "duration": 8,
    "start_time": "2025-01-18T20:12:26.738Z"
   },
   {
    "duration": 211,
    "start_time": "2025-01-18T20:12:41.866Z"
   },
   {
    "duration": 126,
    "start_time": "2025-01-18T20:13:04.359Z"
   },
   {
    "duration": 23,
    "start_time": "2025-01-18T20:31:49.961Z"
   },
   {
    "duration": 23,
    "start_time": "2025-01-18T20:31:50.624Z"
   },
   {
    "duration": 13,
    "start_time": "2025-01-18T20:32:00.924Z"
   },
   {
    "duration": 2646,
    "start_time": "2025-01-18T20:32:14.693Z"
   },
   {
    "duration": 2409,
    "start_time": "2025-01-18T20:32:28.774Z"
   },
   {
    "duration": 2585,
    "start_time": "2025-01-18T20:35:38.345Z"
   },
   {
    "duration": 190,
    "start_time": "2025-01-18T20:36:15.166Z"
   },
   {
    "duration": 11,
    "start_time": "2025-01-18T20:36:58.598Z"
   },
   {
    "duration": 9,
    "start_time": "2025-01-18T20:36:59.058Z"
   },
   {
    "duration": 15,
    "start_time": "2025-01-18T20:46:02.160Z"
   },
   {
    "duration": 17,
    "start_time": "2025-01-18T20:46:21.898Z"
   },
   {
    "duration": 12,
    "start_time": "2025-01-18T20:46:26.618Z"
   },
   {
    "duration": 118,
    "start_time": "2025-01-18T20:59:40.128Z"
   },
   {
    "duration": 12,
    "start_time": "2025-01-18T20:59:49.641Z"
   },
   {
    "duration": 55,
    "start_time": "2025-01-19T12:48:02.165Z"
   },
   {
    "duration": 4,
    "start_time": "2025-01-19T12:48:11.975Z"
   },
   {
    "duration": 20,
    "start_time": "2025-01-19T12:48:11.981Z"
   },
   {
    "duration": 3,
    "start_time": "2025-01-19T12:48:12.003Z"
   },
   {
    "duration": 3640,
    "start_time": "2025-01-19T12:48:12.008Z"
   },
   {
    "duration": 442,
    "start_time": "2025-01-19T12:48:15.651Z"
   },
   {
    "duration": 1030,
    "start_time": "2025-01-19T12:48:16.095Z"
   },
   {
    "duration": 59,
    "start_time": "2025-01-19T12:48:17.127Z"
   },
   {
    "duration": 250,
    "start_time": "2025-01-19T12:48:17.187Z"
   },
   {
    "duration": 107,
    "start_time": "2025-01-19T12:48:17.439Z"
   },
   {
    "duration": 0,
    "start_time": "2025-01-19T12:48:17.549Z"
   },
   {
    "duration": 0,
    "start_time": "2025-01-19T12:48:17.550Z"
   },
   {
    "duration": 0,
    "start_time": "2025-01-19T12:48:17.552Z"
   },
   {
    "duration": 0,
    "start_time": "2025-01-19T12:48:17.553Z"
   },
   {
    "duration": 0,
    "start_time": "2025-01-19T12:48:17.554Z"
   },
   {
    "duration": 0,
    "start_time": "2025-01-19T12:48:17.555Z"
   },
   {
    "duration": 0,
    "start_time": "2025-01-19T12:48:17.556Z"
   },
   {
    "duration": 0,
    "start_time": "2025-01-19T12:48:17.557Z"
   },
   {
    "duration": 0,
    "start_time": "2025-01-19T12:48:17.558Z"
   },
   {
    "duration": 0,
    "start_time": "2025-01-19T12:48:17.559Z"
   },
   {
    "duration": 0,
    "start_time": "2025-01-19T12:48:17.560Z"
   },
   {
    "duration": 0,
    "start_time": "2025-01-19T12:48:17.562Z"
   },
   {
    "duration": 0,
    "start_time": "2025-01-19T12:48:17.563Z"
   },
   {
    "duration": 0,
    "start_time": "2025-01-19T12:48:17.564Z"
   },
   {
    "duration": 0,
    "start_time": "2025-01-19T12:48:17.564Z"
   },
   {
    "duration": 0,
    "start_time": "2025-01-19T12:48:17.566Z"
   },
   {
    "duration": 0,
    "start_time": "2025-01-19T12:48:17.567Z"
   },
   {
    "duration": 0,
    "start_time": "2025-01-19T12:48:17.568Z"
   },
   {
    "duration": 0,
    "start_time": "2025-01-19T12:48:17.569Z"
   },
   {
    "duration": 0,
    "start_time": "2025-01-19T12:48:17.570Z"
   },
   {
    "duration": 0,
    "start_time": "2025-01-19T12:48:17.571Z"
   },
   {
    "duration": 0,
    "start_time": "2025-01-19T12:48:17.572Z"
   },
   {
    "duration": 0,
    "start_time": "2025-01-19T12:48:17.573Z"
   },
   {
    "duration": 0,
    "start_time": "2025-01-19T12:48:17.574Z"
   },
   {
    "duration": 0,
    "start_time": "2025-01-19T12:48:17.575Z"
   },
   {
    "duration": 0,
    "start_time": "2025-01-19T12:48:17.576Z"
   },
   {
    "duration": 0,
    "start_time": "2025-01-19T12:48:17.577Z"
   },
   {
    "duration": 0,
    "start_time": "2025-01-19T12:48:17.578Z"
   },
   {
    "duration": 0,
    "start_time": "2025-01-19T12:48:17.579Z"
   },
   {
    "duration": 0,
    "start_time": "2025-01-19T12:48:17.580Z"
   },
   {
    "duration": 0,
    "start_time": "2025-01-19T12:48:17.581Z"
   },
   {
    "duration": 0,
    "start_time": "2025-01-19T12:48:17.581Z"
   },
   {
    "duration": 0,
    "start_time": "2025-01-19T12:48:17.583Z"
   },
   {
    "duration": 0,
    "start_time": "2025-01-19T12:48:17.584Z"
   },
   {
    "duration": 0,
    "start_time": "2025-01-19T12:48:17.584Z"
   },
   {
    "duration": 0,
    "start_time": "2025-01-19T12:48:17.585Z"
   },
   {
    "duration": 0,
    "start_time": "2025-01-19T12:48:17.586Z"
   },
   {
    "duration": 0,
    "start_time": "2025-01-19T12:48:17.587Z"
   },
   {
    "duration": 0,
    "start_time": "2025-01-19T12:48:17.588Z"
   },
   {
    "duration": 0,
    "start_time": "2025-01-19T12:48:17.590Z"
   },
   {
    "duration": 0,
    "start_time": "2025-01-19T12:48:17.591Z"
   },
   {
    "duration": 0,
    "start_time": "2025-01-19T12:48:17.592Z"
   },
   {
    "duration": 0,
    "start_time": "2025-01-19T12:48:17.593Z"
   },
   {
    "duration": 0,
    "start_time": "2025-01-19T12:48:17.595Z"
   },
   {
    "duration": 0,
    "start_time": "2025-01-19T12:48:17.596Z"
   },
   {
    "duration": 0,
    "start_time": "2025-01-19T12:48:17.597Z"
   },
   {
    "duration": 0,
    "start_time": "2025-01-19T12:48:17.597Z"
   },
   {
    "duration": 0,
    "start_time": "2025-01-19T12:48:17.599Z"
   },
   {
    "duration": 17,
    "start_time": "2025-01-19T12:48:21.045Z"
   },
   {
    "duration": 18,
    "start_time": "2025-01-19T12:48:21.660Z"
   },
   {
    "duration": 10,
    "start_time": "2025-01-19T12:48:22.088Z"
   },
   {
    "duration": 13,
    "start_time": "2025-01-19T12:48:22.404Z"
   },
   {
    "duration": 5,
    "start_time": "2025-01-19T12:48:22.797Z"
   },
   {
    "duration": 5,
    "start_time": "2025-01-19T12:48:23.061Z"
   },
   {
    "duration": 15,
    "start_time": "2025-01-19T12:48:23.429Z"
   },
   {
    "duration": 7,
    "start_time": "2025-01-19T12:48:23.693Z"
   },
   {
    "duration": 12,
    "start_time": "2025-01-19T12:48:24.924Z"
   },
   {
    "duration": 18,
    "start_time": "2025-01-19T12:48:25.389Z"
   },
   {
    "duration": 21,
    "start_time": "2025-01-19T12:48:25.669Z"
   },
   {
    "duration": 5,
    "start_time": "2025-01-19T12:48:26.180Z"
   },
   {
    "duration": 15,
    "start_time": "2025-01-19T12:48:26.429Z"
   },
   {
    "duration": 16,
    "start_time": "2025-01-19T12:48:26.693Z"
   },
   {
    "duration": 7,
    "start_time": "2025-01-19T12:48:27.148Z"
   },
   {
    "duration": 5,
    "start_time": "2025-01-19T12:48:27.413Z"
   },
   {
    "duration": 10,
    "start_time": "2025-01-19T12:48:27.645Z"
   },
   {
    "duration": 16,
    "start_time": "2025-01-19T12:48:28.148Z"
   },
   {
    "duration": 7,
    "start_time": "2025-01-19T12:48:28.372Z"
   },
   {
    "duration": 3,
    "start_time": "2025-01-19T12:48:28.869Z"
   },
   {
    "duration": 5,
    "start_time": "2025-01-19T12:48:29.117Z"
   },
   {
    "duration": 12,
    "start_time": "2025-01-19T12:48:29.541Z"
   },
   {
    "duration": 5,
    "start_time": "2025-01-19T12:48:30.636Z"
   },
   {
    "duration": 9,
    "start_time": "2025-01-19T12:48:30.852Z"
   },
   {
    "duration": 308,
    "start_time": "2025-01-19T12:48:31.084Z"
   },
   {
    "duration": 8,
    "start_time": "2025-01-19T12:48:31.725Z"
   },
   {
    "duration": 5,
    "start_time": "2025-01-19T12:48:31.917Z"
   },
   {
    "duration": 7,
    "start_time": "2025-01-19T12:48:32.124Z"
   },
   {
    "duration": 238,
    "start_time": "2025-01-19T12:48:32.332Z"
   },
   {
    "duration": 7,
    "start_time": "2025-01-19T12:48:32.573Z"
   },
   {
    "duration": 4,
    "start_time": "2025-01-19T12:48:32.741Z"
   },
   {
    "duration": 8,
    "start_time": "2025-01-19T12:48:32.940Z"
   },
   {
    "duration": 197,
    "start_time": "2025-01-19T12:48:33.156Z"
   },
   {
    "duration": 7,
    "start_time": "2025-01-19T12:48:33.780Z"
   },
   {
    "duration": 14,
    "start_time": "2025-01-19T12:48:34.020Z"
   },
   {
    "duration": 140,
    "start_time": "2025-01-19T12:48:34.229Z"
   },
   {
    "duration": 227,
    "start_time": "2025-01-19T12:48:34.437Z"
   },
   {
    "duration": 7,
    "start_time": "2025-01-19T12:48:35.300Z"
   },
   {
    "duration": 24,
    "start_time": "2025-01-19T12:48:35.500Z"
   },
   {
    "duration": 8,
    "start_time": "2025-01-19T12:48:35.701Z"
   },
   {
    "duration": 7,
    "start_time": "2025-01-19T12:48:35.893Z"
   },
   {
    "duration": 284,
    "start_time": "2025-01-19T12:48:36.109Z"
   },
   {
    "duration": 136,
    "start_time": "2025-01-19T12:48:36.395Z"
   },
   {
    "duration": 7,
    "start_time": "2025-01-19T12:48:37.197Z"
   },
   {
    "duration": 9,
    "start_time": "2025-01-19T12:48:37.589Z"
   },
   {
    "duration": 218,
    "start_time": "2025-01-19T12:48:41.661Z"
   },
   {
    "duration": 14,
    "start_time": "2025-01-19T12:48:43.004Z"
   },
   {
    "duration": 116,
    "start_time": "2025-01-19T12:48:43.805Z"
   },
   {
    "duration": 10,
    "start_time": "2025-01-19T12:49:20.538Z"
   },
   {
    "duration": 11,
    "start_time": "2025-01-19T12:49:36.962Z"
   },
   {
    "duration": 12,
    "start_time": "2025-01-19T12:51:25.200Z"
   },
   {
    "duration": 10,
    "start_time": "2025-01-19T12:51:38.908Z"
   },
   {
    "duration": 208,
    "start_time": "2025-01-19T12:53:33.699Z"
   },
   {
    "duration": 190,
    "start_time": "2025-01-19T12:53:48.947Z"
   },
   {
    "duration": 101,
    "start_time": "2025-01-19T12:55:15.604Z"
   },
   {
    "duration": 103,
    "start_time": "2025-01-19T12:55:22.908Z"
   },
   {
    "duration": 11,
    "start_time": "2025-01-19T12:55:35.357Z"
   },
   {
    "duration": 18,
    "start_time": "2025-01-19T12:55:46.692Z"
   },
   {
    "duration": 10,
    "start_time": "2025-01-19T12:56:57.481Z"
   },
   {
    "duration": 110,
    "start_time": "2025-01-19T13:04:58.992Z"
   },
   {
    "duration": 249,
    "start_time": "2025-01-19T13:05:08.791Z"
   },
   {
    "duration": 13,
    "start_time": "2025-01-19T13:10:58.466Z"
   },
   {
    "duration": 8,
    "start_time": "2025-01-19T13:11:04.369Z"
   },
   {
    "duration": 5,
    "start_time": "2025-01-19T13:11:24.034Z"
   },
   {
    "duration": 7,
    "start_time": "2025-01-19T13:11:29.410Z"
   },
   {
    "duration": 12,
    "start_time": "2025-01-19T13:11:59.512Z"
   },
   {
    "duration": 4,
    "start_time": "2025-01-19T13:12:00.071Z"
   },
   {
    "duration": 9,
    "start_time": "2025-01-19T13:12:00.779Z"
   },
   {
    "duration": 6,
    "start_time": "2025-01-19T13:12:22.143Z"
   },
   {
    "duration": 8,
    "start_time": "2025-01-19T13:12:26.463Z"
   },
   {
    "duration": 11,
    "start_time": "2025-01-19T13:13:41.997Z"
   },
   {
    "duration": 12,
    "start_time": "2025-01-19T13:14:33.706Z"
   },
   {
    "duration": 9,
    "start_time": "2025-01-19T13:14:48.298Z"
   },
   {
    "duration": 16,
    "start_time": "2025-01-19T13:15:08.939Z"
   },
   {
    "duration": 8,
    "start_time": "2025-01-19T13:15:09.299Z"
   },
   {
    "duration": 14,
    "start_time": "2025-01-19T13:15:35.185Z"
   },
   {
    "duration": 14,
    "start_time": "2025-01-19T13:17:09.197Z"
   },
   {
    "duration": 11,
    "start_time": "2025-01-19T13:19:05.676Z"
   },
   {
    "duration": 4,
    "start_time": "2025-01-19T13:19:23.688Z"
   },
   {
    "duration": 6,
    "start_time": "2025-01-19T13:19:23.694Z"
   },
   {
    "duration": 3,
    "start_time": "2025-01-19T13:19:23.705Z"
   },
   {
    "duration": 2558,
    "start_time": "2025-01-19T13:19:23.710Z"
   },
   {
    "duration": 426,
    "start_time": "2025-01-19T13:19:26.270Z"
   },
   {
    "duration": 815,
    "start_time": "2025-01-19T13:19:26.698Z"
   },
   {
    "duration": 62,
    "start_time": "2025-01-19T13:19:27.515Z"
   },
   {
    "duration": 88,
    "start_time": "2025-01-19T13:19:27.581Z"
   },
   {
    "duration": 109,
    "start_time": "2025-01-19T13:19:27.671Z"
   },
   {
    "duration": 0,
    "start_time": "2025-01-19T13:19:27.783Z"
   },
   {
    "duration": 0,
    "start_time": "2025-01-19T13:19:27.786Z"
   },
   {
    "duration": 0,
    "start_time": "2025-01-19T13:19:27.788Z"
   },
   {
    "duration": 0,
    "start_time": "2025-01-19T13:19:27.789Z"
   },
   {
    "duration": 0,
    "start_time": "2025-01-19T13:19:27.790Z"
   },
   {
    "duration": 0,
    "start_time": "2025-01-19T13:19:27.792Z"
   },
   {
    "duration": 0,
    "start_time": "2025-01-19T13:19:27.793Z"
   },
   {
    "duration": 0,
    "start_time": "2025-01-19T13:19:27.794Z"
   },
   {
    "duration": 0,
    "start_time": "2025-01-19T13:19:27.795Z"
   },
   {
    "duration": 0,
    "start_time": "2025-01-19T13:19:27.796Z"
   },
   {
    "duration": 0,
    "start_time": "2025-01-19T13:19:27.797Z"
   },
   {
    "duration": 0,
    "start_time": "2025-01-19T13:19:27.798Z"
   },
   {
    "duration": 0,
    "start_time": "2025-01-19T13:19:27.799Z"
   },
   {
    "duration": 0,
    "start_time": "2025-01-19T13:19:27.800Z"
   },
   {
    "duration": 0,
    "start_time": "2025-01-19T13:19:27.801Z"
   },
   {
    "duration": 0,
    "start_time": "2025-01-19T13:19:27.803Z"
   },
   {
    "duration": 0,
    "start_time": "2025-01-19T13:19:27.804Z"
   },
   {
    "duration": 0,
    "start_time": "2025-01-19T13:19:27.805Z"
   },
   {
    "duration": 0,
    "start_time": "2025-01-19T13:19:27.806Z"
   },
   {
    "duration": 0,
    "start_time": "2025-01-19T13:19:27.807Z"
   },
   {
    "duration": 0,
    "start_time": "2025-01-19T13:19:27.808Z"
   },
   {
    "duration": 0,
    "start_time": "2025-01-19T13:19:27.809Z"
   },
   {
    "duration": 0,
    "start_time": "2025-01-19T13:19:27.810Z"
   },
   {
    "duration": 0,
    "start_time": "2025-01-19T13:19:27.812Z"
   },
   {
    "duration": 0,
    "start_time": "2025-01-19T13:19:27.813Z"
   },
   {
    "duration": 0,
    "start_time": "2025-01-19T13:19:27.814Z"
   },
   {
    "duration": 0,
    "start_time": "2025-01-19T13:19:27.815Z"
   },
   {
    "duration": 0,
    "start_time": "2025-01-19T13:19:27.816Z"
   },
   {
    "duration": 0,
    "start_time": "2025-01-19T13:19:27.818Z"
   },
   {
    "duration": 0,
    "start_time": "2025-01-19T13:19:27.819Z"
   },
   {
    "duration": 0,
    "start_time": "2025-01-19T13:19:27.860Z"
   },
   {
    "duration": 0,
    "start_time": "2025-01-19T13:19:27.861Z"
   },
   {
    "duration": 0,
    "start_time": "2025-01-19T13:19:27.862Z"
   },
   {
    "duration": 0,
    "start_time": "2025-01-19T13:19:27.863Z"
   },
   {
    "duration": 0,
    "start_time": "2025-01-19T13:19:27.864Z"
   },
   {
    "duration": 0,
    "start_time": "2025-01-19T13:19:27.865Z"
   },
   {
    "duration": 0,
    "start_time": "2025-01-19T13:19:27.866Z"
   },
   {
    "duration": 0,
    "start_time": "2025-01-19T13:19:27.867Z"
   },
   {
    "duration": 0,
    "start_time": "2025-01-19T13:19:27.868Z"
   },
   {
    "duration": 0,
    "start_time": "2025-01-19T13:19:27.869Z"
   },
   {
    "duration": 0,
    "start_time": "2025-01-19T13:19:27.870Z"
   },
   {
    "duration": 0,
    "start_time": "2025-01-19T13:19:27.871Z"
   },
   {
    "duration": 0,
    "start_time": "2025-01-19T13:19:27.872Z"
   },
   {
    "duration": 0,
    "start_time": "2025-01-19T13:19:27.873Z"
   },
   {
    "duration": 0,
    "start_time": "2025-01-19T13:19:27.874Z"
   },
   {
    "duration": 0,
    "start_time": "2025-01-19T13:19:27.876Z"
   },
   {
    "duration": 0,
    "start_time": "2025-01-19T13:19:27.877Z"
   },
   {
    "duration": 0,
    "start_time": "2025-01-19T13:19:27.878Z"
   },
   {
    "duration": 0,
    "start_time": "2025-01-19T13:19:27.879Z"
   },
   {
    "duration": 0,
    "start_time": "2025-01-19T13:19:27.880Z"
   },
   {
    "duration": 0,
    "start_time": "2025-01-19T13:19:27.881Z"
   },
   {
    "duration": 0,
    "start_time": "2025-01-19T13:19:27.882Z"
   },
   {
    "duration": 16,
    "start_time": "2025-01-19T13:19:32.999Z"
   },
   {
    "duration": 14,
    "start_time": "2025-01-19T13:19:33.215Z"
   },
   {
    "duration": 10,
    "start_time": "2025-01-19T13:19:33.424Z"
   },
   {
    "duration": 12,
    "start_time": "2025-01-19T13:19:33.663Z"
   },
   {
    "duration": 3,
    "start_time": "2025-01-19T13:19:33.896Z"
   },
   {
    "duration": 4,
    "start_time": "2025-01-19T13:19:34.143Z"
   },
   {
    "duration": 12,
    "start_time": "2025-01-19T13:19:34.358Z"
   },
   {
    "duration": 9,
    "start_time": "2025-01-19T13:19:34.575Z"
   },
   {
    "duration": 13,
    "start_time": "2025-01-19T13:19:35.526Z"
   },
   {
    "duration": 16,
    "start_time": "2025-01-19T13:19:35.783Z"
   },
   {
    "duration": 19,
    "start_time": "2025-01-19T13:19:36.039Z"
   },
   {
    "duration": 4,
    "start_time": "2025-01-19T13:19:36.510Z"
   },
   {
    "duration": 15,
    "start_time": "2025-01-19T13:19:36.767Z"
   },
   {
    "duration": 16,
    "start_time": "2025-01-19T13:19:37.023Z"
   },
   {
    "duration": 6,
    "start_time": "2025-01-19T13:19:37.535Z"
   },
   {
    "duration": 5,
    "start_time": "2025-01-19T13:19:37.791Z"
   },
   {
    "duration": 11,
    "start_time": "2025-01-19T13:19:38.055Z"
   },
   {
    "duration": 15,
    "start_time": "2025-01-19T13:19:39.510Z"
   },
   {
    "duration": 6,
    "start_time": "2025-01-19T13:19:39.711Z"
   },
   {
    "duration": 3,
    "start_time": "2025-01-19T13:19:40.167Z"
   },
   {
    "duration": 5,
    "start_time": "2025-01-19T13:19:40.391Z"
   },
   {
    "duration": 17,
    "start_time": "2025-01-19T13:19:40.591Z"
   },
   {
    "duration": 5,
    "start_time": "2025-01-19T13:19:41.719Z"
   },
   {
    "duration": 7,
    "start_time": "2025-01-19T13:19:44.199Z"
   },
   {
    "duration": 169,
    "start_time": "2025-01-19T13:19:44.639Z"
   },
   {
    "duration": 6,
    "start_time": "2025-01-19T13:19:45.376Z"
   },
   {
    "duration": 5,
    "start_time": "2025-01-19T13:19:45.631Z"
   },
   {
    "duration": 7,
    "start_time": "2025-01-19T13:19:45.879Z"
   },
   {
    "duration": 209,
    "start_time": "2025-01-19T13:19:46.103Z"
   },
   {
    "duration": 5,
    "start_time": "2025-01-19T13:19:46.315Z"
   },
   {
    "duration": 5,
    "start_time": "2025-01-19T13:19:46.559Z"
   },
   {
    "duration": 6,
    "start_time": "2025-01-19T13:19:46.783Z"
   },
   {
    "duration": 182,
    "start_time": "2025-01-19T13:19:46.999Z"
   },
   {
    "duration": 6,
    "start_time": "2025-01-19T13:19:47.759Z"
   },
   {
    "duration": 20,
    "start_time": "2025-01-19T13:19:47.983Z"
   },
   {
    "duration": 137,
    "start_time": "2025-01-19T13:19:48.224Z"
   },
   {
    "duration": 229,
    "start_time": "2025-01-19T13:19:48.463Z"
   },
   {
    "duration": 6,
    "start_time": "2025-01-19T13:19:49.231Z"
   },
   {
    "duration": 26,
    "start_time": "2025-01-19T13:19:49.455Z"
   },
   {
    "duration": 7,
    "start_time": "2025-01-19T13:19:49.687Z"
   },
   {
    "duration": 8,
    "start_time": "2025-01-19T13:19:50.007Z"
   },
   {
    "duration": 280,
    "start_time": "2025-01-19T13:19:50.231Z"
   },
   {
    "duration": 154,
    "start_time": "2025-01-19T13:19:50.514Z"
   },
   {
    "duration": 7,
    "start_time": "2025-01-19T13:19:57.296Z"
   },
   {
    "duration": 9,
    "start_time": "2025-01-19T13:19:57.559Z"
   },
   {
    "duration": 178,
    "start_time": "2025-01-19T13:19:58.072Z"
   },
   {
    "duration": 212,
    "start_time": "2025-01-19T13:20:00.688Z"
   },
   {
    "duration": 9,
    "start_time": "2025-01-19T13:20:01.184Z"
   },
   {
    "duration": 205,
    "start_time": "2025-01-19T13:20:02.511Z"
   },
   {
    "duration": 6,
    "start_time": "2025-01-19T13:20:05.471Z"
   },
   {
    "duration": 16,
    "start_time": "2025-01-19T13:20:06.160Z"
   },
   {
    "duration": 7,
    "start_time": "2025-01-19T13:20:07.032Z"
   },
   {
    "duration": 125,
    "start_time": "2025-01-19T13:20:41.760Z"
   },
   {
    "duration": 140,
    "start_time": "2025-01-19T13:21:16.534Z"
   },
   {
    "duration": 12,
    "start_time": "2025-01-19T13:22:54.702Z"
   },
   {
    "duration": 14,
    "start_time": "2025-01-19T13:24:00.701Z"
   },
   {
    "duration": 21,
    "start_time": "2025-01-19T13:24:27.069Z"
   },
   {
    "duration": 105,
    "start_time": "2025-01-19T13:27:13.113Z"
   },
   {
    "duration": 107,
    "start_time": "2025-01-19T13:29:07.506Z"
   },
   {
    "duration": 10,
    "start_time": "2025-01-19T13:29:39.028Z"
   },
   {
    "duration": 14,
    "start_time": "2025-01-19T13:30:47.425Z"
   },
   {
    "duration": 12,
    "start_time": "2025-01-19T13:30:48.457Z"
   },
   {
    "duration": 14,
    "start_time": "2025-01-19T13:31:38.039Z"
   },
   {
    "duration": 12,
    "start_time": "2025-01-19T13:31:38.934Z"
   },
   {
    "duration": 14,
    "start_time": "2025-01-19T13:31:42.638Z"
   },
   {
    "duration": 11,
    "start_time": "2025-01-19T13:31:42.902Z"
   },
   {
    "duration": 4,
    "start_time": "2025-01-19T13:31:49.530Z"
   },
   {
    "duration": 17,
    "start_time": "2025-01-19T13:31:49.536Z"
   },
   {
    "duration": 9,
    "start_time": "2025-01-19T13:31:49.555Z"
   },
   {
    "duration": 2543,
    "start_time": "2025-01-19T13:31:49.566Z"
   },
   {
    "duration": 370,
    "start_time": "2025-01-19T13:31:52.112Z"
   },
   {
    "duration": 845,
    "start_time": "2025-01-19T13:31:52.484Z"
   },
   {
    "duration": 61,
    "start_time": "2025-01-19T13:31:53.330Z"
   },
   {
    "duration": 92,
    "start_time": "2025-01-19T13:31:53.393Z"
   },
   {
    "duration": 134,
    "start_time": "2025-01-19T13:31:53.487Z"
   },
   {
    "duration": 0,
    "start_time": "2025-01-19T13:31:53.624Z"
   },
   {
    "duration": 0,
    "start_time": "2025-01-19T13:31:53.626Z"
   },
   {
    "duration": 0,
    "start_time": "2025-01-19T13:31:53.627Z"
   },
   {
    "duration": 0,
    "start_time": "2025-01-19T13:31:53.628Z"
   },
   {
    "duration": 0,
    "start_time": "2025-01-19T13:31:53.629Z"
   },
   {
    "duration": 0,
    "start_time": "2025-01-19T13:31:53.630Z"
   },
   {
    "duration": 0,
    "start_time": "2025-01-19T13:31:53.632Z"
   },
   {
    "duration": 0,
    "start_time": "2025-01-19T13:31:53.633Z"
   },
   {
    "duration": 0,
    "start_time": "2025-01-19T13:31:53.634Z"
   },
   {
    "duration": 0,
    "start_time": "2025-01-19T13:31:53.635Z"
   },
   {
    "duration": 0,
    "start_time": "2025-01-19T13:31:53.636Z"
   },
   {
    "duration": 0,
    "start_time": "2025-01-19T13:31:53.637Z"
   },
   {
    "duration": 0,
    "start_time": "2025-01-19T13:31:53.638Z"
   },
   {
    "duration": 1,
    "start_time": "2025-01-19T13:31:53.638Z"
   },
   {
    "duration": 0,
    "start_time": "2025-01-19T13:31:53.639Z"
   },
   {
    "duration": 0,
    "start_time": "2025-01-19T13:31:53.640Z"
   },
   {
    "duration": 0,
    "start_time": "2025-01-19T13:31:53.642Z"
   },
   {
    "duration": 0,
    "start_time": "2025-01-19T13:31:53.642Z"
   },
   {
    "duration": 0,
    "start_time": "2025-01-19T13:31:53.644Z"
   },
   {
    "duration": 1,
    "start_time": "2025-01-19T13:31:53.644Z"
   },
   {
    "duration": 0,
    "start_time": "2025-01-19T13:31:53.645Z"
   },
   {
    "duration": 0,
    "start_time": "2025-01-19T13:31:53.647Z"
   },
   {
    "duration": 0,
    "start_time": "2025-01-19T13:31:53.648Z"
   },
   {
    "duration": 0,
    "start_time": "2025-01-19T13:31:53.649Z"
   },
   {
    "duration": 0,
    "start_time": "2025-01-19T13:31:53.650Z"
   },
   {
    "duration": 0,
    "start_time": "2025-01-19T13:31:53.651Z"
   },
   {
    "duration": 0,
    "start_time": "2025-01-19T13:31:53.652Z"
   },
   {
    "duration": 0,
    "start_time": "2025-01-19T13:31:53.653Z"
   },
   {
    "duration": 0,
    "start_time": "2025-01-19T13:31:53.654Z"
   },
   {
    "duration": 0,
    "start_time": "2025-01-19T13:31:53.655Z"
   },
   {
    "duration": 0,
    "start_time": "2025-01-19T13:31:53.656Z"
   },
   {
    "duration": 0,
    "start_time": "2025-01-19T13:31:53.657Z"
   },
   {
    "duration": 0,
    "start_time": "2025-01-19T13:31:53.658Z"
   },
   {
    "duration": 0,
    "start_time": "2025-01-19T13:31:53.659Z"
   },
   {
    "duration": 0,
    "start_time": "2025-01-19T13:31:53.661Z"
   },
   {
    "duration": 0,
    "start_time": "2025-01-19T13:31:53.663Z"
   },
   {
    "duration": 0,
    "start_time": "2025-01-19T13:31:53.664Z"
   },
   {
    "duration": 0,
    "start_time": "2025-01-19T13:31:53.665Z"
   },
   {
    "duration": 0,
    "start_time": "2025-01-19T13:31:53.667Z"
   },
   {
    "duration": 0,
    "start_time": "2025-01-19T13:31:53.668Z"
   },
   {
    "duration": 0,
    "start_time": "2025-01-19T13:31:53.669Z"
   },
   {
    "duration": 0,
    "start_time": "2025-01-19T13:31:53.670Z"
   },
   {
    "duration": 0,
    "start_time": "2025-01-19T13:31:53.672Z"
   },
   {
    "duration": 0,
    "start_time": "2025-01-19T13:31:53.673Z"
   },
   {
    "duration": 0,
    "start_time": "2025-01-19T13:31:53.674Z"
   },
   {
    "duration": 0,
    "start_time": "2025-01-19T13:31:53.675Z"
   },
   {
    "duration": 0,
    "start_time": "2025-01-19T13:31:53.676Z"
   },
   {
    "duration": 0,
    "start_time": "2025-01-19T13:31:53.678Z"
   },
   {
    "duration": 0,
    "start_time": "2025-01-19T13:31:53.679Z"
   },
   {
    "duration": 0,
    "start_time": "2025-01-19T13:31:53.680Z"
   },
   {
    "duration": 0,
    "start_time": "2025-01-19T13:31:53.681Z"
   },
   {
    "duration": 0,
    "start_time": "2025-01-19T13:31:53.682Z"
   },
   {
    "duration": 16,
    "start_time": "2025-01-19T13:31:57.680Z"
   },
   {
    "duration": 16,
    "start_time": "2025-01-19T13:31:57.880Z"
   },
   {
    "duration": 11,
    "start_time": "2025-01-19T13:31:58.108Z"
   },
   {
    "duration": 12,
    "start_time": "2025-01-19T13:31:58.341Z"
   },
   {
    "duration": 4,
    "start_time": "2025-01-19T13:31:58.576Z"
   },
   {
    "duration": 4,
    "start_time": "2025-01-19T13:31:58.800Z"
   },
   {
    "duration": 40,
    "start_time": "2025-01-19T13:31:59.033Z"
   },
   {
    "duration": 9,
    "start_time": "2025-01-19T13:31:59.280Z"
   },
   {
    "duration": 12,
    "start_time": "2025-01-19T13:32:00.160Z"
   },
   {
    "duration": 17,
    "start_time": "2025-01-19T13:32:00.392Z"
   },
   {
    "duration": 19,
    "start_time": "2025-01-19T13:32:00.599Z"
   },
   {
    "duration": 5,
    "start_time": "2025-01-19T13:32:01.064Z"
   },
   {
    "duration": 16,
    "start_time": "2025-01-19T13:32:01.289Z"
   },
   {
    "duration": 15,
    "start_time": "2025-01-19T13:32:01.512Z"
   },
   {
    "duration": 7,
    "start_time": "2025-01-19T13:32:01.976Z"
   },
   {
    "duration": 5,
    "start_time": "2025-01-19T13:32:02.208Z"
   },
   {
    "duration": 12,
    "start_time": "2025-01-19T13:32:02.424Z"
   },
   {
    "duration": 17,
    "start_time": "2025-01-19T13:32:02.865Z"
   },
   {
    "duration": 7,
    "start_time": "2025-01-19T13:32:03.072Z"
   },
   {
    "duration": 2,
    "start_time": "2025-01-19T13:32:03.529Z"
   },
   {
    "duration": 7,
    "start_time": "2025-01-19T13:32:03.752Z"
   },
   {
    "duration": 13,
    "start_time": "2025-01-19T13:32:03.984Z"
   },
   {
    "duration": 4,
    "start_time": "2025-01-19T13:32:05.057Z"
   },
   {
    "duration": 7,
    "start_time": "2025-01-19T13:32:05.281Z"
   },
   {
    "duration": 187,
    "start_time": "2025-01-19T13:32:05.481Z"
   },
   {
    "duration": 5,
    "start_time": "2025-01-19T13:32:06.180Z"
   },
   {
    "duration": 5,
    "start_time": "2025-01-19T13:32:06.424Z"
   },
   {
    "duration": 8,
    "start_time": "2025-01-19T13:32:06.657Z"
   },
   {
    "duration": 207,
    "start_time": "2025-01-19T13:32:06.889Z"
   },
   {
    "duration": 5,
    "start_time": "2025-01-19T13:32:07.137Z"
   },
   {
    "duration": 4,
    "start_time": "2025-01-19T13:32:07.368Z"
   },
   {
    "duration": 6,
    "start_time": "2025-01-19T13:32:07.608Z"
   },
   {
    "duration": 216,
    "start_time": "2025-01-19T13:32:07.849Z"
   },
   {
    "duration": 8,
    "start_time": "2025-01-19T13:32:08.560Z"
   },
   {
    "duration": 14,
    "start_time": "2025-01-19T13:32:08.796Z"
   },
   {
    "duration": 134,
    "start_time": "2025-01-19T13:32:09.009Z"
   },
   {
    "duration": 228,
    "start_time": "2025-01-19T13:32:09.221Z"
   },
   {
    "duration": 6,
    "start_time": "2025-01-19T13:32:09.761Z"
   },
   {
    "duration": 24,
    "start_time": "2025-01-19T13:32:09.920Z"
   },
   {
    "duration": 7,
    "start_time": "2025-01-19T13:32:10.053Z"
   },
   {
    "duration": 7,
    "start_time": "2025-01-19T13:32:10.209Z"
   },
   {
    "duration": 271,
    "start_time": "2025-01-19T13:32:10.360Z"
   },
   {
    "duration": 147,
    "start_time": "2025-01-19T13:32:10.633Z"
   },
   {
    "duration": 8,
    "start_time": "2025-01-19T13:32:11.280Z"
   },
   {
    "duration": 9,
    "start_time": "2025-01-19T13:32:11.548Z"
   },
   {
    "duration": 184,
    "start_time": "2025-01-19T13:32:11.800Z"
   },
   {
    "duration": 202,
    "start_time": "2025-01-19T13:32:12.764Z"
   },
   {
    "duration": 10,
    "start_time": "2025-01-19T13:32:12.970Z"
   },
   {
    "duration": 212,
    "start_time": "2025-01-19T13:32:13.589Z"
   },
   {
    "duration": 6,
    "start_time": "2025-01-19T13:32:14.772Z"
   },
   {
    "duration": 14,
    "start_time": "2025-01-19T13:32:14.985Z"
   },
   {
    "duration": 11,
    "start_time": "2025-01-19T13:32:15.837Z"
   },
   {
    "duration": 116,
    "start_time": "2025-01-19T13:32:47.333Z"
   },
   {
    "duration": 21,
    "start_time": "2025-01-19T13:33:00.718Z"
   },
   {
    "duration": 111,
    "start_time": "2025-01-19T13:33:08.231Z"
   },
   {
    "duration": 145,
    "start_time": "2025-01-19T13:33:16.798Z"
   },
   {
    "duration": 96,
    "start_time": "2025-01-19T13:33:26.147Z"
   },
   {
    "duration": 97,
    "start_time": "2025-01-19T13:33:36.026Z"
   },
   {
    "duration": 106,
    "start_time": "2025-01-19T13:33:53.227Z"
   },
   {
    "duration": 12,
    "start_time": "2025-01-19T13:34:08.308Z"
   },
   {
    "duration": 4,
    "start_time": "2025-01-19T13:34:20.443Z"
   },
   {
    "duration": 12,
    "start_time": "2025-01-19T13:36:39.599Z"
   },
   {
    "duration": 18,
    "start_time": "2025-01-19T13:37:11.331Z"
   },
   {
    "duration": 9,
    "start_time": "2025-01-19T13:37:30.788Z"
   },
   {
    "duration": 20,
    "start_time": "2025-01-19T13:38:08.204Z"
   },
   {
    "duration": 13,
    "start_time": "2025-01-19T13:38:09.205Z"
   },
   {
    "duration": 10,
    "start_time": "2025-01-19T13:39:16.578Z"
   },
   {
    "duration": 18,
    "start_time": "2025-01-19T13:39:27.543Z"
   },
   {
    "duration": 14,
    "start_time": "2025-01-19T14:22:06.498Z"
   },
   {
    "duration": 20,
    "start_time": "2025-01-19T14:23:26.255Z"
   },
   {
    "duration": 6,
    "start_time": "2025-01-19T14:24:41.412Z"
   },
   {
    "duration": 718,
    "start_time": "2025-01-19T14:24:56.425Z"
   },
   {
    "duration": 831,
    "start_time": "2025-01-19T14:25:16.441Z"
   },
   {
    "duration": 29,
    "start_time": "2025-01-19T14:25:39.529Z"
   },
   {
    "duration": 689,
    "start_time": "2025-01-19T14:29:38.662Z"
   },
   {
    "duration": 6,
    "start_time": "2025-01-19T15:01:03.659Z"
   },
   {
    "duration": 6,
    "start_time": "2025-01-19T15:01:50.191Z"
   },
   {
    "duration": 5,
    "start_time": "2025-01-19T15:01:55.431Z"
   },
   {
    "duration": 10,
    "start_time": "2025-01-19T15:02:18.016Z"
   },
   {
    "duration": 6,
    "start_time": "2025-01-19T15:02:43.529Z"
   },
   {
    "duration": 5,
    "start_time": "2025-01-19T15:02:44.392Z"
   },
   {
    "duration": 252,
    "start_time": "2025-01-19T15:03:26.581Z"
   },
   {
    "duration": 263,
    "start_time": "2025-01-19T15:03:58.702Z"
   },
   {
    "duration": 6,
    "start_time": "2025-01-19T15:05:10.779Z"
   },
   {
    "duration": 111,
    "start_time": "2025-01-19T15:05:26.443Z"
   },
   {
    "duration": 4,
    "start_time": "2025-01-19T15:05:41.815Z"
   },
   {
    "duration": 4,
    "start_time": "2025-01-19T15:06:12.800Z"
   },
   {
    "duration": 5,
    "start_time": "2025-01-19T15:06:31.953Z"
   },
   {
    "duration": 10,
    "start_time": "2025-01-19T15:07:26.030Z"
   },
   {
    "duration": 10,
    "start_time": "2025-01-19T15:07:31.798Z"
   },
   {
    "duration": 4,
    "start_time": "2025-01-19T15:07:52.306Z"
   },
   {
    "duration": 4,
    "start_time": "2025-01-19T15:08:14.915Z"
   },
   {
    "duration": 4,
    "start_time": "2025-01-19T15:08:27.067Z"
   },
   {
    "duration": 3,
    "start_time": "2025-01-19T15:11:36.699Z"
   },
   {
    "duration": 38,
    "start_time": "2025-01-19T15:11:37.339Z"
   },
   {
    "duration": 13,
    "start_time": "2025-01-19T15:11:40.154Z"
   },
   {
    "duration": 12,
    "start_time": "2025-01-19T15:11:40.675Z"
   },
   {
    "duration": 9,
    "start_time": "2025-01-19T15:11:41.291Z"
   },
   {
    "duration": 33,
    "start_time": "2025-01-19T15:13:40.729Z"
   },
   {
    "duration": 7,
    "start_time": "2025-01-19T15:13:44.637Z"
   },
   {
    "duration": 161,
    "start_time": "2025-01-19T15:13:46.882Z"
   },
   {
    "duration": 8,
    "start_time": "2025-01-19T15:13:51.213Z"
   },
   {
    "duration": 36,
    "start_time": "2025-01-19T15:14:04.797Z"
   },
   {
    "duration": 34,
    "start_time": "2025-01-19T15:15:06.139Z"
   },
   {
    "duration": 6,
    "start_time": "2025-01-19T15:15:07.211Z"
   },
   {
    "duration": 148,
    "start_time": "2025-01-19T15:15:08.195Z"
   },
   {
    "duration": 8,
    "start_time": "2025-01-19T15:15:08.931Z"
   },
   {
    "duration": 4,
    "start_time": "2025-01-19T15:16:27.427Z"
   },
   {
    "duration": 4,
    "start_time": "2025-01-19T15:16:27.432Z"
   },
   {
    "duration": 10,
    "start_time": "2025-01-19T15:16:27.437Z"
   },
   {
    "duration": 2564,
    "start_time": "2025-01-19T15:16:27.449Z"
   },
   {
    "duration": 397,
    "start_time": "2025-01-19T15:16:30.015Z"
   },
   {
    "duration": 810,
    "start_time": "2025-01-19T15:16:30.414Z"
   },
   {
    "duration": 61,
    "start_time": "2025-01-19T15:16:31.226Z"
   },
   {
    "duration": 101,
    "start_time": "2025-01-19T15:16:31.290Z"
   },
   {
    "duration": 109,
    "start_time": "2025-01-19T15:16:31.392Z"
   },
   {
    "duration": 0,
    "start_time": "2025-01-19T15:16:31.505Z"
   },
   {
    "duration": 1,
    "start_time": "2025-01-19T15:16:31.506Z"
   },
   {
    "duration": 0,
    "start_time": "2025-01-19T15:16:31.508Z"
   },
   {
    "duration": 0,
    "start_time": "2025-01-19T15:16:31.510Z"
   },
   {
    "duration": 0,
    "start_time": "2025-01-19T15:16:31.511Z"
   },
   {
    "duration": 0,
    "start_time": "2025-01-19T15:16:31.512Z"
   },
   {
    "duration": 0,
    "start_time": "2025-01-19T15:16:31.514Z"
   },
   {
    "duration": 0,
    "start_time": "2025-01-19T15:16:31.515Z"
   },
   {
    "duration": 0,
    "start_time": "2025-01-19T15:16:31.516Z"
   },
   {
    "duration": 0,
    "start_time": "2025-01-19T15:16:31.518Z"
   },
   {
    "duration": 0,
    "start_time": "2025-01-19T15:16:31.519Z"
   },
   {
    "duration": 1,
    "start_time": "2025-01-19T15:16:31.520Z"
   },
   {
    "duration": 0,
    "start_time": "2025-01-19T15:16:31.521Z"
   },
   {
    "duration": 0,
    "start_time": "2025-01-19T15:16:31.523Z"
   },
   {
    "duration": 0,
    "start_time": "2025-01-19T15:16:31.525Z"
   },
   {
    "duration": 0,
    "start_time": "2025-01-19T15:16:31.526Z"
   },
   {
    "duration": 0,
    "start_time": "2025-01-19T15:16:31.527Z"
   },
   {
    "duration": 0,
    "start_time": "2025-01-19T15:16:31.528Z"
   },
   {
    "duration": 0,
    "start_time": "2025-01-19T15:16:31.529Z"
   },
   {
    "duration": 0,
    "start_time": "2025-01-19T15:16:31.530Z"
   },
   {
    "duration": 0,
    "start_time": "2025-01-19T15:16:31.532Z"
   },
   {
    "duration": 0,
    "start_time": "2025-01-19T15:16:31.533Z"
   },
   {
    "duration": 0,
    "start_time": "2025-01-19T15:16:31.535Z"
   },
   {
    "duration": 0,
    "start_time": "2025-01-19T15:16:31.536Z"
   },
   {
    "duration": 0,
    "start_time": "2025-01-19T15:16:31.537Z"
   },
   {
    "duration": 0,
    "start_time": "2025-01-19T15:16:31.539Z"
   },
   {
    "duration": 0,
    "start_time": "2025-01-19T15:16:31.561Z"
   },
   {
    "duration": 0,
    "start_time": "2025-01-19T15:16:31.562Z"
   },
   {
    "duration": 0,
    "start_time": "2025-01-19T15:16:31.563Z"
   },
   {
    "duration": 0,
    "start_time": "2025-01-19T15:16:31.564Z"
   },
   {
    "duration": 0,
    "start_time": "2025-01-19T15:16:31.566Z"
   },
   {
    "duration": 0,
    "start_time": "2025-01-19T15:16:31.567Z"
   },
   {
    "duration": 0,
    "start_time": "2025-01-19T15:16:31.568Z"
   },
   {
    "duration": 0,
    "start_time": "2025-01-19T15:16:31.570Z"
   },
   {
    "duration": 0,
    "start_time": "2025-01-19T15:16:31.571Z"
   },
   {
    "duration": 0,
    "start_time": "2025-01-19T15:16:31.572Z"
   },
   {
    "duration": 0,
    "start_time": "2025-01-19T15:16:31.573Z"
   },
   {
    "duration": 0,
    "start_time": "2025-01-19T15:16:31.574Z"
   },
   {
    "duration": 0,
    "start_time": "2025-01-19T15:16:31.575Z"
   },
   {
    "duration": 0,
    "start_time": "2025-01-19T15:16:31.577Z"
   },
   {
    "duration": 0,
    "start_time": "2025-01-19T15:16:31.578Z"
   },
   {
    "duration": 0,
    "start_time": "2025-01-19T15:16:31.579Z"
   },
   {
    "duration": 0,
    "start_time": "2025-01-19T15:16:31.581Z"
   },
   {
    "duration": 0,
    "start_time": "2025-01-19T15:16:31.582Z"
   },
   {
    "duration": 0,
    "start_time": "2025-01-19T15:16:31.583Z"
   },
   {
    "duration": 0,
    "start_time": "2025-01-19T15:16:31.584Z"
   },
   {
    "duration": 0,
    "start_time": "2025-01-19T15:16:31.585Z"
   },
   {
    "duration": 0,
    "start_time": "2025-01-19T15:16:31.587Z"
   },
   {
    "duration": 0,
    "start_time": "2025-01-19T15:16:31.588Z"
   },
   {
    "duration": 0,
    "start_time": "2025-01-19T15:16:31.589Z"
   },
   {
    "duration": 0,
    "start_time": "2025-01-19T15:16:31.590Z"
   },
   {
    "duration": 0,
    "start_time": "2025-01-19T15:16:31.591Z"
   },
   {
    "duration": 0,
    "start_time": "2025-01-19T15:16:31.592Z"
   },
   {
    "duration": 0,
    "start_time": "2025-01-19T15:16:31.593Z"
   },
   {
    "duration": 0,
    "start_time": "2025-01-19T15:16:31.595Z"
   },
   {
    "duration": 0,
    "start_time": "2025-01-19T15:16:31.596Z"
   },
   {
    "duration": 0,
    "start_time": "2025-01-19T15:16:31.597Z"
   },
   {
    "duration": 0,
    "start_time": "2025-01-19T15:16:31.660Z"
   },
   {
    "duration": 0,
    "start_time": "2025-01-19T15:16:31.662Z"
   },
   {
    "duration": 0,
    "start_time": "2025-01-19T15:16:31.664Z"
   },
   {
    "duration": 0,
    "start_time": "2025-01-19T15:16:31.666Z"
   },
   {
    "duration": 0,
    "start_time": "2025-01-19T15:16:31.668Z"
   },
   {
    "duration": 0,
    "start_time": "2025-01-19T15:16:31.670Z"
   },
   {
    "duration": 0,
    "start_time": "2025-01-19T15:16:31.672Z"
   },
   {
    "duration": 0,
    "start_time": "2025-01-19T15:16:31.673Z"
   },
   {
    "duration": 0,
    "start_time": "2025-01-19T15:16:31.675Z"
   },
   {
    "duration": 18,
    "start_time": "2025-01-19T15:16:34.695Z"
   },
   {
    "duration": 14,
    "start_time": "2025-01-19T15:16:35.062Z"
   },
   {
    "duration": 11,
    "start_time": "2025-01-19T15:16:35.422Z"
   },
   {
    "duration": 12,
    "start_time": "2025-01-19T15:16:35.662Z"
   },
   {
    "duration": 4,
    "start_time": "2025-01-19T15:16:35.887Z"
   },
   {
    "duration": 4,
    "start_time": "2025-01-19T15:16:36.127Z"
   },
   {
    "duration": 12,
    "start_time": "2025-01-19T15:16:36.350Z"
   },
   {
    "duration": 7,
    "start_time": "2025-01-19T15:16:36.591Z"
   },
   {
    "duration": 13,
    "start_time": "2025-01-19T15:16:37.566Z"
   },
   {
    "duration": 22,
    "start_time": "2025-01-19T15:16:37.797Z"
   },
   {
    "duration": 20,
    "start_time": "2025-01-19T15:16:38.086Z"
   },
   {
    "duration": 5,
    "start_time": "2025-01-19T15:16:38.781Z"
   },
   {
    "duration": 17,
    "start_time": "2025-01-19T15:16:39.030Z"
   },
   {
    "duration": 15,
    "start_time": "2025-01-19T15:16:39.262Z"
   },
   {
    "duration": 7,
    "start_time": "2025-01-19T15:16:39.797Z"
   },
   {
    "duration": 5,
    "start_time": "2025-01-19T15:16:40.054Z"
   },
   {
    "duration": 12,
    "start_time": "2025-01-19T15:16:41.814Z"
   },
   {
    "duration": 19,
    "start_time": "2025-01-19T15:16:42.597Z"
   },
   {
    "duration": 8,
    "start_time": "2025-01-19T15:16:43.086Z"
   },
   {
    "duration": 4,
    "start_time": "2025-01-19T15:16:43.501Z"
   },
   {
    "duration": 5,
    "start_time": "2025-01-19T15:16:43.710Z"
   },
   {
    "duration": 12,
    "start_time": "2025-01-19T15:16:43.943Z"
   },
   {
    "duration": 5,
    "start_time": "2025-01-19T15:16:45.137Z"
   },
   {
    "duration": 7,
    "start_time": "2025-01-19T15:16:45.383Z"
   },
   {
    "duration": 170,
    "start_time": "2025-01-19T15:16:45.639Z"
   },
   {
    "duration": 5,
    "start_time": "2025-01-19T15:16:46.382Z"
   },
   {
    "duration": 6,
    "start_time": "2025-01-19T15:16:46.646Z"
   },
   {
    "duration": 6,
    "start_time": "2025-01-19T15:16:46.887Z"
   },
   {
    "duration": 225,
    "start_time": "2025-01-19T15:16:47.122Z"
   },
   {
    "duration": 5,
    "start_time": "2025-01-19T15:16:47.396Z"
   },
   {
    "duration": 4,
    "start_time": "2025-01-19T15:16:47.635Z"
   },
   {
    "duration": 7,
    "start_time": "2025-01-19T15:16:47.895Z"
   },
   {
    "duration": 191,
    "start_time": "2025-01-19T15:16:48.126Z"
   },
   {
    "duration": 7,
    "start_time": "2025-01-19T15:16:48.934Z"
   },
   {
    "duration": 14,
    "start_time": "2025-01-19T15:16:49.158Z"
   },
   {
    "duration": 139,
    "start_time": "2025-01-19T15:16:49.430Z"
   },
   {
    "duration": 231,
    "start_time": "2025-01-19T15:16:49.663Z"
   },
   {
    "duration": 6,
    "start_time": "2025-01-19T15:16:50.510Z"
   },
   {
    "duration": 24,
    "start_time": "2025-01-19T15:16:50.774Z"
   },
   {
    "duration": 7,
    "start_time": "2025-01-19T15:16:51.014Z"
   },
   {
    "duration": 8,
    "start_time": "2025-01-19T15:16:51.302Z"
   },
   {
    "duration": 300,
    "start_time": "2025-01-19T15:16:51.550Z"
   },
   {
    "duration": 128,
    "start_time": "2025-01-19T15:16:51.860Z"
   },
   {
    "duration": 7,
    "start_time": "2025-01-19T15:16:52.542Z"
   },
   {
    "duration": 8,
    "start_time": "2025-01-19T15:16:52.790Z"
   },
   {
    "duration": 202,
    "start_time": "2025-01-19T15:16:53.040Z"
   },
   {
    "duration": 218,
    "start_time": "2025-01-19T15:16:53.886Z"
   },
   {
    "duration": 10,
    "start_time": "2025-01-19T15:16:54.117Z"
   },
   {
    "duration": 237,
    "start_time": "2025-01-19T15:16:54.622Z"
   },
   {
    "duration": 6,
    "start_time": "2025-01-19T15:16:55.399Z"
   },
   {
    "duration": 17,
    "start_time": "2025-01-19T15:16:55.742Z"
   },
   {
    "duration": 13,
    "start_time": "2025-01-19T15:16:56.007Z"
   },
   {
    "duration": 5,
    "start_time": "2025-01-19T15:16:56.222Z"
   },
   {
    "duration": 744,
    "start_time": "2025-01-19T15:16:56.526Z"
   },
   {
    "duration": 6,
    "start_time": "2025-01-19T15:16:59.814Z"
   },
   {
    "duration": 7,
    "start_time": "2025-01-19T15:17:00.022Z"
   },
   {
    "duration": 5,
    "start_time": "2025-01-19T15:17:00.263Z"
   },
   {
    "duration": 258,
    "start_time": "2025-01-19T15:17:00.487Z"
   },
   {
    "duration": 14,
    "start_time": "2025-01-19T15:17:00.748Z"
   },
   {
    "duration": 4,
    "start_time": "2025-01-19T15:17:01.111Z"
   },
   {
    "duration": 5,
    "start_time": "2025-01-19T15:17:03.159Z"
   },
   {
    "duration": 5,
    "start_time": "2025-01-19T15:17:03.871Z"
   },
   {
    "duration": 34,
    "start_time": "2025-01-19T15:17:04.719Z"
   },
   {
    "duration": 7,
    "start_time": "2025-01-19T15:17:05.271Z"
   },
   {
    "duration": 152,
    "start_time": "2025-01-19T15:17:05.851Z"
   },
   {
    "duration": 8,
    "start_time": "2025-01-19T15:17:06.327Z"
   },
   {
    "duration": 138,
    "start_time": "2025-01-19T15:17:31.996Z"
   },
   {
    "duration": 38,
    "start_time": "2025-01-19T15:17:37.036Z"
   },
   {
    "duration": 8,
    "start_time": "2025-01-19T15:17:38.756Z"
   },
   {
    "duration": 153,
    "start_time": "2025-01-19T15:17:39.356Z"
   },
   {
    "duration": 8,
    "start_time": "2025-01-19T15:17:40.076Z"
   },
   {
    "duration": 42,
    "start_time": "2025-01-19T15:17:56.156Z"
   },
   {
    "duration": 36,
    "start_time": "2025-01-19T15:18:00.564Z"
   },
   {
    "duration": 38,
    "start_time": "2025-01-19T15:20:11.735Z"
   },
   {
    "duration": 6,
    "start_time": "2025-01-19T15:20:12.567Z"
   },
   {
    "duration": 37,
    "start_time": "2025-01-19T15:20:20.231Z"
   },
   {
    "duration": 5,
    "start_time": "2025-01-19T15:20:21.303Z"
   },
   {
    "duration": 134,
    "start_time": "2025-01-19T15:20:21.975Z"
   },
   {
    "duration": 8,
    "start_time": "2025-01-19T15:20:24.039Z"
   },
   {
    "duration": 110,
    "start_time": "2025-01-19T15:26:19.738Z"
   },
   {
    "duration": 4,
    "start_time": "2025-01-19T15:26:39.498Z"
   },
   {
    "duration": 38,
    "start_time": "2025-01-19T15:26:40.523Z"
   },
   {
    "duration": 6,
    "start_time": "2025-01-19T15:26:41.363Z"
   },
   {
    "duration": 251,
    "start_time": "2025-01-19T15:26:42.059Z"
   },
   {
    "duration": 7,
    "start_time": "2025-01-19T15:26:43.555Z"
   },
   {
    "duration": 35,
    "start_time": "2025-01-19T15:26:51.762Z"
   },
   {
    "duration": 36,
    "start_time": "2025-01-19T15:26:54.099Z"
   },
   {
    "duration": 6,
    "start_time": "2025-01-19T15:26:55.218Z"
   },
   {
    "duration": 135,
    "start_time": "2025-01-19T15:26:55.823Z"
   },
   {
    "duration": 8,
    "start_time": "2025-01-19T15:26:56.514Z"
   },
   {
    "duration": 26,
    "start_time": "2025-01-19T17:08:38.449Z"
   },
   {
    "duration": 10,
    "start_time": "2025-01-19T17:11:02.590Z"
   },
   {
    "duration": 5,
    "start_time": "2025-01-19T17:11:41.084Z"
   },
   {
    "duration": 11,
    "start_time": "2025-01-19T17:11:45.387Z"
   },
   {
    "duration": 36,
    "start_time": "2025-01-19T17:11:56.940Z"
   },
   {
    "duration": 1692,
    "start_time": "2025-01-19T17:12:27.048Z"
   },
   {
    "duration": 29,
    "start_time": "2025-01-19T17:12:34.592Z"
   },
   {
    "duration": 24,
    "start_time": "2025-01-19T17:13:56.018Z"
   },
   {
    "duration": 10,
    "start_time": "2025-01-19T17:14:13.799Z"
   },
   {
    "duration": 1758,
    "start_time": "2025-01-19T17:14:25.878Z"
   },
   {
    "duration": 1945,
    "start_time": "2025-01-19T17:14:28.522Z"
   },
   {
    "duration": 17,
    "start_time": "2025-01-19T17:14:57.530Z"
   },
   {
    "duration": 8,
    "start_time": "2025-01-19T17:15:37.211Z"
   },
   {
    "duration": 7,
    "start_time": "2025-01-19T17:15:39.764Z"
   },
   {
    "duration": 1622,
    "start_time": "2025-01-19T17:15:47.088Z"
   },
   {
    "duration": 4,
    "start_time": "2025-01-19T17:16:06.768Z"
   },
   {
    "duration": 1662,
    "start_time": "2025-01-19T17:16:07.136Z"
   },
   {
    "duration": 3,
    "start_time": "2025-01-19T17:16:17.267Z"
   },
   {
    "duration": 4,
    "start_time": "2025-01-19T17:16:17.272Z"
   },
   {
    "duration": 5,
    "start_time": "2025-01-19T17:16:17.278Z"
   },
   {
    "duration": 2681,
    "start_time": "2025-01-19T17:16:17.285Z"
   },
   {
    "duration": 458,
    "start_time": "2025-01-19T17:16:19.968Z"
   },
   {
    "duration": 863,
    "start_time": "2025-01-19T17:16:20.428Z"
   },
   {
    "duration": 55,
    "start_time": "2025-01-19T17:16:21.292Z"
   },
   {
    "duration": 93,
    "start_time": "2025-01-19T17:16:21.351Z"
   },
   {
    "duration": 142,
    "start_time": "2025-01-19T17:16:21.445Z"
   },
   {
    "duration": 0,
    "start_time": "2025-01-19T17:16:21.591Z"
   },
   {
    "duration": 0,
    "start_time": "2025-01-19T17:16:21.593Z"
   },
   {
    "duration": 0,
    "start_time": "2025-01-19T17:16:21.594Z"
   },
   {
    "duration": 0,
    "start_time": "2025-01-19T17:16:21.595Z"
   },
   {
    "duration": 0,
    "start_time": "2025-01-19T17:16:21.597Z"
   },
   {
    "duration": 1,
    "start_time": "2025-01-19T17:16:21.598Z"
   },
   {
    "duration": 0,
    "start_time": "2025-01-19T17:16:21.600Z"
   },
   {
    "duration": 0,
    "start_time": "2025-01-19T17:16:21.601Z"
   },
   {
    "duration": 0,
    "start_time": "2025-01-19T17:16:21.603Z"
   },
   {
    "duration": 0,
    "start_time": "2025-01-19T17:16:21.605Z"
   },
   {
    "duration": 0,
    "start_time": "2025-01-19T17:16:21.606Z"
   },
   {
    "duration": 0,
    "start_time": "2025-01-19T17:16:21.608Z"
   },
   {
    "duration": 0,
    "start_time": "2025-01-19T17:16:21.610Z"
   },
   {
    "duration": 0,
    "start_time": "2025-01-19T17:16:21.612Z"
   },
   {
    "duration": 0,
    "start_time": "2025-01-19T17:16:21.613Z"
   },
   {
    "duration": 0,
    "start_time": "2025-01-19T17:16:21.615Z"
   },
   {
    "duration": 1,
    "start_time": "2025-01-19T17:16:21.616Z"
   },
   {
    "duration": 0,
    "start_time": "2025-01-19T17:16:21.618Z"
   },
   {
    "duration": 0,
    "start_time": "2025-01-19T17:16:21.620Z"
   },
   {
    "duration": 0,
    "start_time": "2025-01-19T17:16:21.621Z"
   },
   {
    "duration": 0,
    "start_time": "2025-01-19T17:16:21.623Z"
   },
   {
    "duration": 0,
    "start_time": "2025-01-19T17:16:21.624Z"
   },
   {
    "duration": 0,
    "start_time": "2025-01-19T17:16:21.626Z"
   },
   {
    "duration": 0,
    "start_time": "2025-01-19T17:16:21.627Z"
   },
   {
    "duration": 0,
    "start_time": "2025-01-19T17:16:21.660Z"
   },
   {
    "duration": 0,
    "start_time": "2025-01-19T17:16:21.662Z"
   },
   {
    "duration": 0,
    "start_time": "2025-01-19T17:16:21.664Z"
   },
   {
    "duration": 0,
    "start_time": "2025-01-19T17:16:21.665Z"
   },
   {
    "duration": 0,
    "start_time": "2025-01-19T17:16:21.667Z"
   },
   {
    "duration": 0,
    "start_time": "2025-01-19T17:16:21.669Z"
   },
   {
    "duration": 0,
    "start_time": "2025-01-19T17:16:21.670Z"
   },
   {
    "duration": 0,
    "start_time": "2025-01-19T17:16:21.672Z"
   },
   {
    "duration": 0,
    "start_time": "2025-01-19T17:16:21.673Z"
   },
   {
    "duration": 0,
    "start_time": "2025-01-19T17:16:21.675Z"
   },
   {
    "duration": 0,
    "start_time": "2025-01-19T17:16:21.676Z"
   },
   {
    "duration": 0,
    "start_time": "2025-01-19T17:16:21.678Z"
   },
   {
    "duration": 0,
    "start_time": "2025-01-19T17:16:21.679Z"
   },
   {
    "duration": 0,
    "start_time": "2025-01-19T17:16:21.681Z"
   },
   {
    "duration": 0,
    "start_time": "2025-01-19T17:16:21.682Z"
   },
   {
    "duration": 0,
    "start_time": "2025-01-19T17:16:21.683Z"
   },
   {
    "duration": 0,
    "start_time": "2025-01-19T17:16:21.684Z"
   },
   {
    "duration": 0,
    "start_time": "2025-01-19T17:16:21.686Z"
   },
   {
    "duration": 0,
    "start_time": "2025-01-19T17:16:21.687Z"
   },
   {
    "duration": 0,
    "start_time": "2025-01-19T17:16:21.688Z"
   },
   {
    "duration": 0,
    "start_time": "2025-01-19T17:16:21.689Z"
   },
   {
    "duration": 0,
    "start_time": "2025-01-19T17:16:21.691Z"
   },
   {
    "duration": 0,
    "start_time": "2025-01-19T17:16:21.692Z"
   },
   {
    "duration": 0,
    "start_time": "2025-01-19T17:16:21.694Z"
   },
   {
    "duration": 0,
    "start_time": "2025-01-19T17:16:21.696Z"
   },
   {
    "duration": 0,
    "start_time": "2025-01-19T17:16:21.697Z"
   },
   {
    "duration": 0,
    "start_time": "2025-01-19T17:16:21.698Z"
   },
   {
    "duration": 0,
    "start_time": "2025-01-19T17:16:21.760Z"
   },
   {
    "duration": 0,
    "start_time": "2025-01-19T17:16:21.761Z"
   },
   {
    "duration": 0,
    "start_time": "2025-01-19T17:16:21.763Z"
   },
   {
    "duration": 0,
    "start_time": "2025-01-19T17:16:21.764Z"
   },
   {
    "duration": 0,
    "start_time": "2025-01-19T17:16:21.765Z"
   },
   {
    "duration": 0,
    "start_time": "2025-01-19T17:16:21.766Z"
   },
   {
    "duration": 0,
    "start_time": "2025-01-19T17:16:21.767Z"
   },
   {
    "duration": 0,
    "start_time": "2025-01-19T17:16:21.769Z"
   },
   {
    "duration": 0,
    "start_time": "2025-01-19T17:16:21.770Z"
   },
   {
    "duration": 0,
    "start_time": "2025-01-19T17:16:21.771Z"
   },
   {
    "duration": 0,
    "start_time": "2025-01-19T17:16:21.772Z"
   },
   {
    "duration": 0,
    "start_time": "2025-01-19T17:16:21.773Z"
   },
   {
    "duration": 0,
    "start_time": "2025-01-19T17:16:21.774Z"
   },
   {
    "duration": 0,
    "start_time": "2025-01-19T17:16:21.776Z"
   },
   {
    "duration": 0,
    "start_time": "2025-01-19T17:16:21.776Z"
   },
   {
    "duration": 0,
    "start_time": "2025-01-19T17:16:21.778Z"
   },
   {
    "duration": 0,
    "start_time": "2025-01-19T17:16:21.779Z"
   },
   {
    "duration": 16,
    "start_time": "2025-01-19T17:16:27.738Z"
   },
   {
    "duration": 16,
    "start_time": "2025-01-19T17:16:28.066Z"
   },
   {
    "duration": 10,
    "start_time": "2025-01-19T17:16:28.410Z"
   },
   {
    "duration": 13,
    "start_time": "2025-01-19T17:16:28.730Z"
   },
   {
    "duration": 4,
    "start_time": "2025-01-19T17:16:28.978Z"
   },
   {
    "duration": 4,
    "start_time": "2025-01-19T17:16:29.170Z"
   },
   {
    "duration": 16,
    "start_time": "2025-01-19T17:16:29.337Z"
   },
   {
    "duration": 9,
    "start_time": "2025-01-19T17:16:29.498Z"
   },
   {
    "duration": 13,
    "start_time": "2025-01-19T17:16:30.218Z"
   },
   {
    "duration": 17,
    "start_time": "2025-01-19T17:16:30.370Z"
   },
   {
    "duration": 20,
    "start_time": "2025-01-19T17:16:30.530Z"
   },
   {
    "duration": 5,
    "start_time": "2025-01-19T17:16:31.001Z"
   },
   {
    "duration": 17,
    "start_time": "2025-01-19T17:16:31.201Z"
   },
   {
    "duration": 15,
    "start_time": "2025-01-19T17:16:31.385Z"
   },
   {
    "duration": 7,
    "start_time": "2025-01-19T17:16:31.873Z"
   },
   {
    "duration": 5,
    "start_time": "2025-01-19T17:16:32.074Z"
   },
   {
    "duration": 11,
    "start_time": "2025-01-19T17:16:32.266Z"
   },
   {
    "duration": 17,
    "start_time": "2025-01-19T17:16:32.642Z"
   },
   {
    "duration": 6,
    "start_time": "2025-01-19T17:16:32.834Z"
   },
   {
    "duration": 3,
    "start_time": "2025-01-19T17:16:33.378Z"
   },
   {
    "duration": 6,
    "start_time": "2025-01-19T17:16:33.578Z"
   },
   {
    "duration": 13,
    "start_time": "2025-01-19T17:16:33.779Z"
   },
   {
    "duration": 6,
    "start_time": "2025-01-19T17:16:34.937Z"
   },
   {
    "duration": 10,
    "start_time": "2025-01-19T17:16:35.138Z"
   },
   {
    "duration": 195,
    "start_time": "2025-01-19T17:16:35.330Z"
   },
   {
    "duration": 5,
    "start_time": "2025-01-19T17:16:35.833Z"
   },
   {
    "duration": 5,
    "start_time": "2025-01-19T17:16:36.001Z"
   },
   {
    "duration": 7,
    "start_time": "2025-01-19T17:16:36.186Z"
   },
   {
    "duration": 233,
    "start_time": "2025-01-19T17:16:36.354Z"
   },
   {
    "duration": 6,
    "start_time": "2025-01-19T17:16:36.590Z"
   },
   {
    "duration": 5,
    "start_time": "2025-01-19T17:16:36.769Z"
   },
   {
    "duration": 6,
    "start_time": "2025-01-19T17:16:36.962Z"
   },
   {
    "duration": 197,
    "start_time": "2025-01-19T17:16:37.146Z"
   },
   {
    "duration": 6,
    "start_time": "2025-01-19T17:16:37.738Z"
   },
   {
    "duration": 20,
    "start_time": "2025-01-19T17:16:37.923Z"
   },
   {
    "duration": 138,
    "start_time": "2025-01-19T17:16:38.123Z"
   },
   {
    "duration": 226,
    "start_time": "2025-01-19T17:16:38.324Z"
   },
   {
    "duration": 7,
    "start_time": "2025-01-19T17:16:38.946Z"
   },
   {
    "duration": 27,
    "start_time": "2025-01-19T17:16:39.138Z"
   },
   {
    "duration": 9,
    "start_time": "2025-01-19T17:16:39.338Z"
   },
   {
    "duration": 10,
    "start_time": "2025-01-19T17:16:39.514Z"
   },
   {
    "duration": 279,
    "start_time": "2025-01-19T17:16:39.682Z"
   },
   {
    "duration": 136,
    "start_time": "2025-01-19T17:16:39.964Z"
   },
   {
    "duration": 7,
    "start_time": "2025-01-19T17:16:40.441Z"
   },
   {
    "duration": 8,
    "start_time": "2025-01-19T17:16:40.650Z"
   },
   {
    "duration": 184,
    "start_time": "2025-01-19T17:16:40.842Z"
   },
   {
    "duration": 227,
    "start_time": "2025-01-19T17:16:41.441Z"
   },
   {
    "duration": 13,
    "start_time": "2025-01-19T17:16:41.672Z"
   },
   {
    "duration": 216,
    "start_time": "2025-01-19T17:16:42.090Z"
   },
   {
    "duration": 5,
    "start_time": "2025-01-19T17:16:42.490Z"
   },
   {
    "duration": 16,
    "start_time": "2025-01-19T17:16:42.674Z"
   },
   {
    "duration": 16,
    "start_time": "2025-01-19T17:16:42.841Z"
   },
   {
    "duration": 5,
    "start_time": "2025-01-19T17:16:42.986Z"
   },
   {
    "duration": 709,
    "start_time": "2025-01-19T17:16:43.154Z"
   },
   {
    "duration": 6,
    "start_time": "2025-01-19T17:16:44.066Z"
   },
   {
    "duration": 6,
    "start_time": "2025-01-19T17:16:44.314Z"
   },
   {
    "duration": 3,
    "start_time": "2025-01-19T17:16:44.530Z"
   },
   {
    "duration": 249,
    "start_time": "2025-01-19T17:16:44.762Z"
   },
   {
    "duration": 6,
    "start_time": "2025-01-19T17:16:45.014Z"
   },
   {
    "duration": 5,
    "start_time": "2025-01-19T17:16:45.162Z"
   },
   {
    "duration": 4,
    "start_time": "2025-01-19T17:16:45.369Z"
   },
   {
    "duration": 3,
    "start_time": "2025-01-19T17:16:45.603Z"
   },
   {
    "duration": 41,
    "start_time": "2025-01-19T17:16:45.827Z"
   },
   {
    "duration": 113,
    "start_time": "2025-01-19T17:16:46.050Z"
   },
   {
    "duration": 15,
    "start_time": "2025-01-19T17:16:46.291Z"
   },
   {
    "duration": 9,
    "start_time": "2025-01-19T17:16:46.579Z"
   },
   {
    "duration": 5,
    "start_time": "2025-01-19T17:16:47.795Z"
   },
   {
    "duration": 1651,
    "start_time": "2025-01-19T17:16:48.747Z"
   },
   {
    "duration": 1753,
    "start_time": "2025-01-19T17:17:03.847Z"
   },
   {
    "duration": 9,
    "start_time": "2025-01-19T17:18:24.133Z"
   },
   {
    "duration": 16,
    "start_time": "2025-01-19T17:18:31.804Z"
   },
   {
    "duration": 10,
    "start_time": "2025-01-19T17:18:32.637Z"
   },
   {
    "duration": 13,
    "start_time": "2025-01-19T17:18:40.020Z"
   },
   {
    "duration": 37,
    "start_time": "2025-01-19T17:18:44.164Z"
   },
   {
    "duration": 14,
    "start_time": "2025-01-19T17:18:44.796Z"
   },
   {
    "duration": 37,
    "start_time": "2025-01-19T17:19:11.813Z"
   },
   {
    "duration": 14,
    "start_time": "2025-01-19T17:19:12.133Z"
   },
   {
    "duration": 15,
    "start_time": "2025-01-19T17:19:12.702Z"
   },
   {
    "duration": 11,
    "start_time": "2025-01-19T17:19:15.429Z"
   },
   {
    "duration": 4,
    "start_time": "2025-01-19T17:19:26.021Z"
   },
   {
    "duration": 4,
    "start_time": "2025-01-19T17:19:26.026Z"
   },
   {
    "duration": 8,
    "start_time": "2025-01-19T17:19:26.031Z"
   },
   {
    "duration": 2581,
    "start_time": "2025-01-19T17:19:26.042Z"
   },
   {
    "duration": 437,
    "start_time": "2025-01-19T17:19:28.625Z"
   },
   {
    "duration": 840,
    "start_time": "2025-01-19T17:19:29.064Z"
   },
   {
    "duration": 52,
    "start_time": "2025-01-19T17:19:29.906Z"
   },
   {
    "duration": 94,
    "start_time": "2025-01-19T17:19:29.960Z"
   },
   {
    "duration": 175,
    "start_time": "2025-01-19T17:19:30.057Z"
   },
   {
    "duration": 0,
    "start_time": "2025-01-19T17:19:30.236Z"
   },
   {
    "duration": 0,
    "start_time": "2025-01-19T17:19:30.237Z"
   },
   {
    "duration": 0,
    "start_time": "2025-01-19T17:19:30.238Z"
   },
   {
    "duration": 0,
    "start_time": "2025-01-19T17:19:30.239Z"
   },
   {
    "duration": 0,
    "start_time": "2025-01-19T17:19:30.240Z"
   },
   {
    "duration": 0,
    "start_time": "2025-01-19T17:19:30.241Z"
   },
   {
    "duration": 0,
    "start_time": "2025-01-19T17:19:30.242Z"
   },
   {
    "duration": 0,
    "start_time": "2025-01-19T17:19:30.242Z"
   },
   {
    "duration": 0,
    "start_time": "2025-01-19T17:19:30.243Z"
   },
   {
    "duration": 0,
    "start_time": "2025-01-19T17:19:30.244Z"
   },
   {
    "duration": 0,
    "start_time": "2025-01-19T17:19:30.245Z"
   },
   {
    "duration": 0,
    "start_time": "2025-01-19T17:19:30.246Z"
   },
   {
    "duration": 0,
    "start_time": "2025-01-19T17:19:30.247Z"
   },
   {
    "duration": 0,
    "start_time": "2025-01-19T17:19:30.248Z"
   },
   {
    "duration": 0,
    "start_time": "2025-01-19T17:19:30.249Z"
   },
   {
    "duration": 0,
    "start_time": "2025-01-19T17:19:30.250Z"
   },
   {
    "duration": 0,
    "start_time": "2025-01-19T17:19:30.252Z"
   },
   {
    "duration": 0,
    "start_time": "2025-01-19T17:19:30.253Z"
   },
   {
    "duration": 0,
    "start_time": "2025-01-19T17:19:30.254Z"
   },
   {
    "duration": 0,
    "start_time": "2025-01-19T17:19:30.255Z"
   },
   {
    "duration": 0,
    "start_time": "2025-01-19T17:19:30.257Z"
   },
   {
    "duration": 0,
    "start_time": "2025-01-19T17:19:30.258Z"
   },
   {
    "duration": 0,
    "start_time": "2025-01-19T17:19:30.259Z"
   },
   {
    "duration": 0,
    "start_time": "2025-01-19T17:19:30.260Z"
   },
   {
    "duration": 0,
    "start_time": "2025-01-19T17:19:30.261Z"
   },
   {
    "duration": 0,
    "start_time": "2025-01-19T17:19:30.263Z"
   },
   {
    "duration": 0,
    "start_time": "2025-01-19T17:19:30.264Z"
   },
   {
    "duration": 0,
    "start_time": "2025-01-19T17:19:30.265Z"
   },
   {
    "duration": 0,
    "start_time": "2025-01-19T17:19:30.266Z"
   },
   {
    "duration": 0,
    "start_time": "2025-01-19T17:19:30.267Z"
   },
   {
    "duration": 0,
    "start_time": "2025-01-19T17:19:30.268Z"
   },
   {
    "duration": 0,
    "start_time": "2025-01-19T17:19:30.270Z"
   },
   {
    "duration": 0,
    "start_time": "2025-01-19T17:19:30.271Z"
   },
   {
    "duration": 0,
    "start_time": "2025-01-19T17:19:30.272Z"
   },
   {
    "duration": 0,
    "start_time": "2025-01-19T17:19:30.274Z"
   },
   {
    "duration": 0,
    "start_time": "2025-01-19T17:19:30.275Z"
   },
   {
    "duration": 0,
    "start_time": "2025-01-19T17:19:30.276Z"
   },
   {
    "duration": 0,
    "start_time": "2025-01-19T17:19:30.277Z"
   },
   {
    "duration": 0,
    "start_time": "2025-01-19T17:19:30.278Z"
   },
   {
    "duration": 0,
    "start_time": "2025-01-19T17:19:30.280Z"
   },
   {
    "duration": 0,
    "start_time": "2025-01-19T17:19:30.281Z"
   },
   {
    "duration": 0,
    "start_time": "2025-01-19T17:19:30.282Z"
   },
   {
    "duration": 0,
    "start_time": "2025-01-19T17:19:30.283Z"
   },
   {
    "duration": 0,
    "start_time": "2025-01-19T17:19:30.285Z"
   },
   {
    "duration": 0,
    "start_time": "2025-01-19T17:19:30.289Z"
   },
   {
    "duration": 0,
    "start_time": "2025-01-19T17:19:30.290Z"
   },
   {
    "duration": 0,
    "start_time": "2025-01-19T17:19:30.291Z"
   },
   {
    "duration": 0,
    "start_time": "2025-01-19T17:19:30.292Z"
   },
   {
    "duration": 0,
    "start_time": "2025-01-19T17:19:30.293Z"
   },
   {
    "duration": 0,
    "start_time": "2025-01-19T17:19:30.294Z"
   },
   {
    "duration": 0,
    "start_time": "2025-01-19T17:19:30.360Z"
   },
   {
    "duration": 0,
    "start_time": "2025-01-19T17:19:30.361Z"
   },
   {
    "duration": 0,
    "start_time": "2025-01-19T17:19:30.362Z"
   },
   {
    "duration": 0,
    "start_time": "2025-01-19T17:19:30.363Z"
   },
   {
    "duration": 0,
    "start_time": "2025-01-19T17:19:30.365Z"
   },
   {
    "duration": 0,
    "start_time": "2025-01-19T17:19:30.366Z"
   },
   {
    "duration": 0,
    "start_time": "2025-01-19T17:19:30.367Z"
   },
   {
    "duration": 0,
    "start_time": "2025-01-19T17:19:30.368Z"
   },
   {
    "duration": 0,
    "start_time": "2025-01-19T17:19:30.369Z"
   },
   {
    "duration": 0,
    "start_time": "2025-01-19T17:19:30.370Z"
   },
   {
    "duration": 0,
    "start_time": "2025-01-19T17:19:30.371Z"
   },
   {
    "duration": 0,
    "start_time": "2025-01-19T17:19:30.372Z"
   },
   {
    "duration": 0,
    "start_time": "2025-01-19T17:19:30.373Z"
   },
   {
    "duration": 0,
    "start_time": "2025-01-19T17:19:30.374Z"
   },
   {
    "duration": 0,
    "start_time": "2025-01-19T17:19:30.375Z"
   },
   {
    "duration": 0,
    "start_time": "2025-01-19T17:19:30.376Z"
   },
   {
    "duration": 0,
    "start_time": "2025-01-19T17:19:30.377Z"
   },
   {
    "duration": 0,
    "start_time": "2025-01-19T17:19:30.378Z"
   },
   {
    "duration": 18,
    "start_time": "2025-01-19T17:19:34.073Z"
   },
   {
    "duration": 16,
    "start_time": "2025-01-19T17:19:34.409Z"
   },
   {
    "duration": 11,
    "start_time": "2025-01-19T17:19:34.738Z"
   },
   {
    "duration": 13,
    "start_time": "2025-01-19T17:19:35.065Z"
   },
   {
    "duration": 4,
    "start_time": "2025-01-19T17:19:35.353Z"
   },
   {
    "duration": 4,
    "start_time": "2025-01-19T17:19:35.649Z"
   },
   {
    "duration": 12,
    "start_time": "2025-01-19T17:19:35.961Z"
   },
   {
    "duration": 8,
    "start_time": "2025-01-19T17:19:36.266Z"
   },
   {
    "duration": 13,
    "start_time": "2025-01-19T17:19:37.505Z"
   },
   {
    "duration": 16,
    "start_time": "2025-01-19T17:19:37.781Z"
   },
   {
    "duration": 19,
    "start_time": "2025-01-19T17:19:38.106Z"
   },
   {
    "duration": 5,
    "start_time": "2025-01-19T17:19:38.729Z"
   },
   {
    "duration": 15,
    "start_time": "2025-01-19T17:19:39.027Z"
   },
   {
    "duration": 16,
    "start_time": "2025-01-19T17:19:39.338Z"
   },
   {
    "duration": 7,
    "start_time": "2025-01-19T17:19:40.169Z"
   },
   {
    "duration": 4,
    "start_time": "2025-01-19T17:19:40.426Z"
   },
   {
    "duration": 11,
    "start_time": "2025-01-19T17:19:40.698Z"
   },
   {
    "duration": 17,
    "start_time": "2025-01-19T17:19:41.322Z"
   },
   {
    "duration": 7,
    "start_time": "2025-01-19T17:19:41.618Z"
   },
   {
    "duration": 3,
    "start_time": "2025-01-19T17:19:42.177Z"
   },
   {
    "duration": 5,
    "start_time": "2025-01-19T17:19:42.490Z"
   },
   {
    "duration": 13,
    "start_time": "2025-01-19T17:19:42.818Z"
   },
   {
    "duration": 4,
    "start_time": "2025-01-19T17:19:44.241Z"
   },
   {
    "duration": 8,
    "start_time": "2025-01-19T17:19:44.498Z"
   },
   {
    "duration": 175,
    "start_time": "2025-01-19T17:19:44.787Z"
   },
   {
    "duration": 4,
    "start_time": "2025-01-19T17:19:45.626Z"
   },
   {
    "duration": 5,
    "start_time": "2025-01-19T17:19:45.899Z"
   },
   {
    "duration": 7,
    "start_time": "2025-01-19T17:19:52.738Z"
   },
   {
    "duration": 205,
    "start_time": "2025-01-19T17:19:53.049Z"
   },
   {
    "duration": 5,
    "start_time": "2025-01-19T17:19:53.298Z"
   },
   {
    "duration": 5,
    "start_time": "2025-01-19T17:19:53.489Z"
   },
   {
    "duration": 6,
    "start_time": "2025-01-19T17:19:53.690Z"
   },
   {
    "duration": 181,
    "start_time": "2025-01-19T17:19:53.889Z"
   },
   {
    "duration": 7,
    "start_time": "2025-01-19T17:19:55.749Z"
   },
   {
    "duration": 14,
    "start_time": "2025-01-19T17:19:55.962Z"
   },
   {
    "duration": 132,
    "start_time": "2025-01-19T17:19:56.274Z"
   },
   {
    "duration": 225,
    "start_time": "2025-01-19T17:19:56.514Z"
   },
   {
    "duration": 6,
    "start_time": "2025-01-19T17:19:57.457Z"
   },
   {
    "duration": 30,
    "start_time": "2025-01-19T17:19:57.938Z"
   },
   {
    "duration": 7,
    "start_time": "2025-01-19T17:19:58.226Z"
   },
   {
    "duration": 8,
    "start_time": "2025-01-19T17:19:58.530Z"
   },
   {
    "duration": 255,
    "start_time": "2025-01-19T17:19:58.826Z"
   },
   {
    "duration": 126,
    "start_time": "2025-01-19T17:19:59.186Z"
   },
   {
    "duration": 9,
    "start_time": "2025-01-19T17:20:01.169Z"
   },
   {
    "duration": 8,
    "start_time": "2025-01-19T17:20:02.138Z"
   },
   {
    "duration": 183,
    "start_time": "2025-01-19T17:20:02.626Z"
   },
   {
    "duration": 225,
    "start_time": "2025-01-19T17:20:04.706Z"
   },
   {
    "duration": 10,
    "start_time": "2025-01-19T17:20:05.515Z"
   },
   {
    "duration": 214,
    "start_time": "2025-01-19T17:20:07.106Z"
   },
   {
    "duration": 5,
    "start_time": "2025-01-19T17:20:09.842Z"
   },
   {
    "duration": 17,
    "start_time": "2025-01-19T17:20:10.405Z"
   },
   {
    "duration": 14,
    "start_time": "2025-01-19T17:20:11.379Z"
   },
   {
    "duration": 5,
    "start_time": "2025-01-19T17:20:12.083Z"
   },
   {
    "duration": 674,
    "start_time": "2025-01-19T17:20:12.819Z"
   },
   {
    "duration": 716,
    "start_time": "2025-01-19T17:27:10.500Z"
   },
   {
    "duration": 5,
    "start_time": "2025-01-19T17:27:18.650Z"
   },
   {
    "duration": 6,
    "start_time": "2025-01-19T17:27:19.267Z"
   },
   {
    "duration": 4,
    "start_time": "2025-01-19T17:27:20.428Z"
   },
   {
    "duration": 230,
    "start_time": "2025-01-19T17:27:20.972Z"
   },
   {
    "duration": 7,
    "start_time": "2025-01-19T17:27:21.667Z"
   },
   {
    "duration": 4,
    "start_time": "2025-01-19T17:27:22.348Z"
   },
   {
    "duration": 4,
    "start_time": "2025-01-19T17:27:22.787Z"
   },
   {
    "duration": 4,
    "start_time": "2025-01-19T17:27:23.259Z"
   },
   {
    "duration": 39,
    "start_time": "2025-01-19T17:27:24.499Z"
   },
   {
    "duration": 115,
    "start_time": "2025-01-19T17:27:27.467Z"
   },
   {
    "duration": 14,
    "start_time": "2025-01-19T17:27:29.151Z"
   },
   {
    "duration": 9,
    "start_time": "2025-01-19T17:27:29.194Z"
   },
   {
    "duration": 4,
    "start_time": "2025-01-19T17:27:33.220Z"
   },
   {
    "duration": 10,
    "start_time": "2025-01-19T17:27:34.247Z"
   },
   {
    "duration": 6,
    "start_time": "2025-01-19T17:28:08.864Z"
   },
   {
    "duration": 7,
    "start_time": "2025-01-19T17:28:09.368Z"
   },
   {
    "duration": 4,
    "start_time": "2025-01-19T17:28:09.884Z"
   },
   {
    "duration": 345,
    "start_time": "2025-01-19T17:28:10.640Z"
   },
   {
    "duration": 6,
    "start_time": "2025-01-19T17:28:12.200Z"
   },
   {
    "duration": 4,
    "start_time": "2025-01-19T17:28:13.624Z"
   },
   {
    "duration": 5,
    "start_time": "2025-01-19T17:28:14.184Z"
   },
   {
    "duration": 3,
    "start_time": "2025-01-19T17:28:16.776Z"
   },
   {
    "duration": 41,
    "start_time": "2025-01-19T17:28:17.688Z"
   },
   {
    "duration": 36,
    "start_time": "2025-01-19T17:28:26.632Z"
   },
   {
    "duration": 13,
    "start_time": "2025-01-19T17:28:27.176Z"
   },
   {
    "duration": 13,
    "start_time": "2025-01-19T17:28:34.601Z"
   },
   {
    "duration": 11,
    "start_time": "2025-01-19T17:28:35.336Z"
   },
   {
    "duration": 4,
    "start_time": "2025-01-19T17:28:56.952Z"
   },
   {
    "duration": 6,
    "start_time": "2025-01-19T17:28:56.958Z"
   },
   {
    "duration": 6,
    "start_time": "2025-01-19T17:28:56.965Z"
   },
   {
    "duration": 2572,
    "start_time": "2025-01-19T17:28:56.974Z"
   },
   {
    "duration": 439,
    "start_time": "2025-01-19T17:28:59.548Z"
   },
   {
    "duration": 855,
    "start_time": "2025-01-19T17:28:59.989Z"
   },
   {
    "duration": 65,
    "start_time": "2025-01-19T17:29:00.845Z"
   },
   {
    "duration": 103,
    "start_time": "2025-01-19T17:29:00.912Z"
   },
   {
    "duration": 99,
    "start_time": "2025-01-19T17:29:01.018Z"
   },
   {
    "duration": 0,
    "start_time": "2025-01-19T17:29:01.121Z"
   },
   {
    "duration": 0,
    "start_time": "2025-01-19T17:29:01.122Z"
   },
   {
    "duration": 0,
    "start_time": "2025-01-19T17:29:01.123Z"
   },
   {
    "duration": 0,
    "start_time": "2025-01-19T17:29:01.125Z"
   },
   {
    "duration": 0,
    "start_time": "2025-01-19T17:29:01.126Z"
   },
   {
    "duration": 0,
    "start_time": "2025-01-19T17:29:01.127Z"
   },
   {
    "duration": 0,
    "start_time": "2025-01-19T17:29:01.128Z"
   },
   {
    "duration": 0,
    "start_time": "2025-01-19T17:29:01.129Z"
   },
   {
    "duration": 0,
    "start_time": "2025-01-19T17:29:01.130Z"
   },
   {
    "duration": 0,
    "start_time": "2025-01-19T17:29:01.131Z"
   },
   {
    "duration": 0,
    "start_time": "2025-01-19T17:29:01.132Z"
   },
   {
    "duration": 0,
    "start_time": "2025-01-19T17:29:01.133Z"
   },
   {
    "duration": 0,
    "start_time": "2025-01-19T17:29:01.134Z"
   },
   {
    "duration": 0,
    "start_time": "2025-01-19T17:29:01.135Z"
   },
   {
    "duration": 0,
    "start_time": "2025-01-19T17:29:01.136Z"
   },
   {
    "duration": 0,
    "start_time": "2025-01-19T17:29:01.137Z"
   },
   {
    "duration": 0,
    "start_time": "2025-01-19T17:29:01.138Z"
   },
   {
    "duration": 0,
    "start_time": "2025-01-19T17:29:01.140Z"
   },
   {
    "duration": 0,
    "start_time": "2025-01-19T17:29:01.142Z"
   },
   {
    "duration": 0,
    "start_time": "2025-01-19T17:29:01.145Z"
   },
   {
    "duration": 0,
    "start_time": "2025-01-19T17:29:01.146Z"
   },
   {
    "duration": 0,
    "start_time": "2025-01-19T17:29:01.147Z"
   },
   {
    "duration": 0,
    "start_time": "2025-01-19T17:29:01.149Z"
   },
   {
    "duration": 0,
    "start_time": "2025-01-19T17:29:01.150Z"
   },
   {
    "duration": 0,
    "start_time": "2025-01-19T17:29:01.151Z"
   },
   {
    "duration": 0,
    "start_time": "2025-01-19T17:29:01.152Z"
   },
   {
    "duration": 0,
    "start_time": "2025-01-19T17:29:01.153Z"
   },
   {
    "duration": 0,
    "start_time": "2025-01-19T17:29:01.154Z"
   },
   {
    "duration": 0,
    "start_time": "2025-01-19T17:29:01.156Z"
   },
   {
    "duration": 0,
    "start_time": "2025-01-19T17:29:01.158Z"
   },
   {
    "duration": 0,
    "start_time": "2025-01-19T17:29:01.159Z"
   },
   {
    "duration": 0,
    "start_time": "2025-01-19T17:29:01.160Z"
   },
   {
    "duration": 0,
    "start_time": "2025-01-19T17:29:01.162Z"
   },
   {
    "duration": 0,
    "start_time": "2025-01-19T17:29:01.163Z"
   },
   {
    "duration": 0,
    "start_time": "2025-01-19T17:29:01.165Z"
   },
   {
    "duration": 0,
    "start_time": "2025-01-19T17:29:01.167Z"
   },
   {
    "duration": 0,
    "start_time": "2025-01-19T17:29:01.168Z"
   },
   {
    "duration": 0,
    "start_time": "2025-01-19T17:29:01.169Z"
   },
   {
    "duration": 0,
    "start_time": "2025-01-19T17:29:01.171Z"
   },
   {
    "duration": 1,
    "start_time": "2025-01-19T17:29:01.172Z"
   },
   {
    "duration": 0,
    "start_time": "2025-01-19T17:29:01.174Z"
   },
   {
    "duration": 0,
    "start_time": "2025-01-19T17:29:01.176Z"
   },
   {
    "duration": 0,
    "start_time": "2025-01-19T17:29:01.176Z"
   },
   {
    "duration": 0,
    "start_time": "2025-01-19T17:29:01.178Z"
   },
   {
    "duration": 0,
    "start_time": "2025-01-19T17:29:01.179Z"
   },
   {
    "duration": 0,
    "start_time": "2025-01-19T17:29:01.180Z"
   },
   {
    "duration": 0,
    "start_time": "2025-01-19T17:29:01.181Z"
   },
   {
    "duration": 0,
    "start_time": "2025-01-19T17:29:01.183Z"
   },
   {
    "duration": 0,
    "start_time": "2025-01-19T17:29:01.184Z"
   },
   {
    "duration": 0,
    "start_time": "2025-01-19T17:29:01.185Z"
   },
   {
    "duration": 0,
    "start_time": "2025-01-19T17:29:01.187Z"
   },
   {
    "duration": 0,
    "start_time": "2025-01-19T17:29:01.188Z"
   },
   {
    "duration": 0,
    "start_time": "2025-01-19T17:29:01.189Z"
   },
   {
    "duration": 0,
    "start_time": "2025-01-19T17:29:01.190Z"
   },
   {
    "duration": 0,
    "start_time": "2025-01-19T17:29:01.191Z"
   },
   {
    "duration": 0,
    "start_time": "2025-01-19T17:29:01.192Z"
   },
   {
    "duration": 0,
    "start_time": "2025-01-19T17:29:01.194Z"
   },
   {
    "duration": 0,
    "start_time": "2025-01-19T17:29:01.195Z"
   },
   {
    "duration": 0,
    "start_time": "2025-01-19T17:29:01.196Z"
   },
   {
    "duration": 0,
    "start_time": "2025-01-19T17:29:01.197Z"
   },
   {
    "duration": 0,
    "start_time": "2025-01-19T17:29:01.198Z"
   },
   {
    "duration": 0,
    "start_time": "2025-01-19T17:29:01.260Z"
   },
   {
    "duration": 0,
    "start_time": "2025-01-19T17:29:01.261Z"
   },
   {
    "duration": 0,
    "start_time": "2025-01-19T17:29:01.262Z"
   },
   {
    "duration": 0,
    "start_time": "2025-01-19T17:29:01.264Z"
   },
   {
    "duration": 0,
    "start_time": "2025-01-19T17:29:01.264Z"
   },
   {
    "duration": 0,
    "start_time": "2025-01-19T17:29:01.265Z"
   },
   {
    "duration": 0,
    "start_time": "2025-01-19T17:29:01.267Z"
   },
   {
    "duration": 16,
    "start_time": "2025-01-19T17:29:03.572Z"
   },
   {
    "duration": 17,
    "start_time": "2025-01-19T17:29:04.035Z"
   },
   {
    "duration": 11,
    "start_time": "2025-01-19T17:29:04.467Z"
   },
   {
    "duration": 13,
    "start_time": "2025-01-19T17:29:04.899Z"
   },
   {
    "duration": 4,
    "start_time": "2025-01-19T17:29:05.330Z"
   },
   {
    "duration": 4,
    "start_time": "2025-01-19T17:29:05.594Z"
   },
   {
    "duration": 13,
    "start_time": "2025-01-19T17:29:05.883Z"
   },
   {
    "duration": 9,
    "start_time": "2025-01-19T17:29:06.211Z"
   },
   {
    "duration": 13,
    "start_time": "2025-01-19T17:29:08.986Z"
   },
   {
    "duration": 17,
    "start_time": "2025-01-19T17:29:09.195Z"
   },
   {
    "duration": 21,
    "start_time": "2025-01-19T17:29:09.587Z"
   },
   {
    "duration": 5,
    "start_time": "2025-01-19T17:29:10.290Z"
   },
   {
    "duration": 15,
    "start_time": "2025-01-19T17:29:10.627Z"
   },
   {
    "duration": 15,
    "start_time": "2025-01-19T17:29:11.027Z"
   },
   {
    "duration": 7,
    "start_time": "2025-01-19T17:29:11.778Z"
   },
   {
    "duration": 4,
    "start_time": "2025-01-19T17:29:12.083Z"
   },
   {
    "duration": 10,
    "start_time": "2025-01-19T17:29:12.363Z"
   },
   {
    "duration": 19,
    "start_time": "2025-01-19T17:29:12.827Z"
   },
   {
    "duration": 9,
    "start_time": "2025-01-19T17:29:13.107Z"
   },
   {
    "duration": 3,
    "start_time": "2025-01-19T17:29:13.619Z"
   },
   {
    "duration": 5,
    "start_time": "2025-01-19T17:29:13.891Z"
   },
   {
    "duration": 14,
    "start_time": "2025-01-19T17:29:14.115Z"
   },
   {
    "duration": 5,
    "start_time": "2025-01-19T17:29:15.210Z"
   },
   {
    "duration": 8,
    "start_time": "2025-01-19T17:29:15.426Z"
   },
   {
    "duration": 181,
    "start_time": "2025-01-19T17:29:15.644Z"
   },
   {
    "duration": 5,
    "start_time": "2025-01-19T17:29:16.250Z"
   },
   {
    "duration": 5,
    "start_time": "2025-01-19T17:29:16.459Z"
   },
   {
    "duration": 6,
    "start_time": "2025-01-19T17:29:16.667Z"
   },
   {
    "duration": 223,
    "start_time": "2025-01-19T17:29:16.883Z"
   },
   {
    "duration": 5,
    "start_time": "2025-01-19T17:29:17.108Z"
   },
   {
    "duration": 4,
    "start_time": "2025-01-19T17:29:17.307Z"
   },
   {
    "duration": 6,
    "start_time": "2025-01-19T17:29:17.531Z"
   },
   {
    "duration": 195,
    "start_time": "2025-01-19T17:29:17.742Z"
   },
   {
    "duration": 6,
    "start_time": "2025-01-19T17:29:18.343Z"
   },
   {
    "duration": 14,
    "start_time": "2025-01-19T17:29:18.555Z"
   },
   {
    "duration": 129,
    "start_time": "2025-01-19T17:29:18.787Z"
   },
   {
    "duration": 218,
    "start_time": "2025-01-19T17:29:19.027Z"
   },
   {
    "duration": 6,
    "start_time": "2025-01-19T17:29:19.674Z"
   },
   {
    "duration": 25,
    "start_time": "2025-01-19T17:29:19.898Z"
   },
   {
    "duration": 6,
    "start_time": "2025-01-19T17:29:20.084Z"
   },
   {
    "duration": 8,
    "start_time": "2025-01-19T17:29:20.267Z"
   },
   {
    "duration": 265,
    "start_time": "2025-01-19T17:29:20.467Z"
   },
   {
    "duration": 145,
    "start_time": "2025-01-19T17:29:20.734Z"
   },
   {
    "duration": 6,
    "start_time": "2025-01-19T17:29:21.311Z"
   },
   {
    "duration": 8,
    "start_time": "2025-01-19T17:29:21.530Z"
   },
   {
    "duration": 174,
    "start_time": "2025-01-19T17:29:21.780Z"
   },
   {
    "duration": 209,
    "start_time": "2025-01-19T17:29:22.387Z"
   },
   {
    "duration": 9,
    "start_time": "2025-01-19T17:29:22.597Z"
   },
   {
    "duration": 193,
    "start_time": "2025-01-19T17:29:23.419Z"
   },
   {
    "duration": 6,
    "start_time": "2025-01-19T17:29:23.779Z"
   },
   {
    "duration": 18,
    "start_time": "2025-01-19T17:29:24.283Z"
   },
   {
    "duration": 13,
    "start_time": "2025-01-19T17:29:24.542Z"
   },
   {
    "duration": 7,
    "start_time": "2025-01-19T17:29:25.051Z"
   },
   {
    "duration": 676,
    "start_time": "2025-01-19T17:29:25.259Z"
   },
   {
    "duration": 5,
    "start_time": "2025-01-19T17:29:27.427Z"
   },
   {
    "duration": 6,
    "start_time": "2025-01-19T17:29:28.364Z"
   },
   {
    "duration": 4,
    "start_time": "2025-01-19T17:29:29.171Z"
   },
   {
    "duration": 243,
    "start_time": "2025-01-19T17:29:30.036Z"
   },
   {
    "duration": 5,
    "start_time": "2025-01-19T17:29:30.644Z"
   },
   {
    "duration": 4,
    "start_time": "2025-01-19T17:29:32.156Z"
   },
   {
    "duration": 4,
    "start_time": "2025-01-19T17:29:32.796Z"
   },
   {
    "duration": 4,
    "start_time": "2025-01-19T17:29:33.707Z"
   },
   {
    "duration": 40,
    "start_time": "2025-01-19T17:29:35.227Z"
   },
   {
    "duration": 111,
    "start_time": "2025-01-19T17:29:40.244Z"
   },
   {
    "duration": 13,
    "start_time": "2025-01-19T17:29:41.500Z"
   },
   {
    "duration": 9,
    "start_time": "2025-01-19T17:29:42.123Z"
   },
   {
    "duration": 40,
    "start_time": "2025-01-19T17:32:29.647Z"
   },
   {
    "duration": 13,
    "start_time": "2025-01-19T17:32:30.187Z"
   },
   {
    "duration": 13,
    "start_time": "2025-01-19T17:32:31.164Z"
   },
   {
    "duration": 12,
    "start_time": "2025-01-19T17:32:32.027Z"
   },
   {
    "duration": 14,
    "start_time": "2025-01-19T17:33:06.131Z"
   },
   {
    "duration": 14,
    "start_time": "2025-01-19T17:33:07.724Z"
   },
   {
    "duration": 13,
    "start_time": "2025-01-19T17:33:19.748Z"
   },
   {
    "duration": 3,
    "start_time": "2025-01-19T17:33:46.013Z"
   },
   {
    "duration": 35,
    "start_time": "2025-01-19T17:33:46.336Z"
   },
   {
    "duration": 13,
    "start_time": "2025-01-19T17:33:47.240Z"
   },
   {
    "duration": 13,
    "start_time": "2025-01-19T17:33:47.812Z"
   },
   {
    "duration": 10,
    "start_time": "2025-01-19T17:33:49.545Z"
   },
   {
    "duration": 36,
    "start_time": "2025-01-19T17:35:40.591Z"
   },
   {
    "duration": 6,
    "start_time": "2025-01-19T17:35:41.367Z"
   },
   {
    "duration": 228,
    "start_time": "2025-01-19T17:35:42.175Z"
   },
   {
    "duration": 33,
    "start_time": "2025-01-19T17:37:50.146Z"
   },
   {
    "duration": 6,
    "start_time": "2025-01-19T17:37:50.762Z"
   },
   {
    "duration": 133,
    "start_time": "2025-01-19T17:37:51.541Z"
   },
   {
    "duration": 7,
    "start_time": "2025-01-19T17:38:16.938Z"
   },
   {
    "duration": 7,
    "start_time": "2025-01-19T17:38:25.726Z"
   },
   {
    "duration": 13,
    "start_time": "2025-01-19T17:38:31.535Z"
   },
   {
    "duration": 14,
    "start_time": "2025-01-19T17:38:34.475Z"
   },
   {
    "duration": 5,
    "start_time": "2025-01-19T17:38:50.156Z"
   },
   {
    "duration": 6,
    "start_time": "2025-01-19T17:38:50.164Z"
   },
   {
    "duration": 3,
    "start_time": "2025-01-19T17:38:50.172Z"
   },
   {
    "duration": 2570,
    "start_time": "2025-01-19T17:38:50.177Z"
   },
   {
    "duration": 439,
    "start_time": "2025-01-19T17:38:52.749Z"
   },
   {
    "duration": 849,
    "start_time": "2025-01-19T17:38:53.189Z"
   },
   {
    "duration": 63,
    "start_time": "2025-01-19T17:38:54.040Z"
   },
   {
    "duration": 101,
    "start_time": "2025-01-19T17:38:54.107Z"
   },
   {
    "duration": 97,
    "start_time": "2025-01-19T17:38:54.210Z"
   },
   {
    "duration": 0,
    "start_time": "2025-01-19T17:38:54.312Z"
   },
   {
    "duration": 0,
    "start_time": "2025-01-19T17:38:54.314Z"
   },
   {
    "duration": 0,
    "start_time": "2025-01-19T17:38:54.316Z"
   },
   {
    "duration": 0,
    "start_time": "2025-01-19T17:38:54.318Z"
   },
   {
    "duration": 0,
    "start_time": "2025-01-19T17:38:54.320Z"
   },
   {
    "duration": 0,
    "start_time": "2025-01-19T17:38:54.322Z"
   },
   {
    "duration": 0,
    "start_time": "2025-01-19T17:38:54.324Z"
   },
   {
    "duration": 0,
    "start_time": "2025-01-19T17:38:54.326Z"
   },
   {
    "duration": 0,
    "start_time": "2025-01-19T17:38:54.328Z"
   },
   {
    "duration": 0,
    "start_time": "2025-01-19T17:38:54.330Z"
   },
   {
    "duration": 0,
    "start_time": "2025-01-19T17:38:54.331Z"
   },
   {
    "duration": 0,
    "start_time": "2025-01-19T17:38:54.333Z"
   },
   {
    "duration": 0,
    "start_time": "2025-01-19T17:38:54.335Z"
   },
   {
    "duration": 0,
    "start_time": "2025-01-19T17:38:54.337Z"
   },
   {
    "duration": 1,
    "start_time": "2025-01-19T17:38:54.339Z"
   },
   {
    "duration": 0,
    "start_time": "2025-01-19T17:38:54.341Z"
   },
   {
    "duration": 0,
    "start_time": "2025-01-19T17:38:54.343Z"
   },
   {
    "duration": 0,
    "start_time": "2025-01-19T17:38:54.345Z"
   },
   {
    "duration": 0,
    "start_time": "2025-01-19T17:38:54.347Z"
   },
   {
    "duration": 0,
    "start_time": "2025-01-19T17:38:54.359Z"
   },
   {
    "duration": 1,
    "start_time": "2025-01-19T17:38:54.361Z"
   },
   {
    "duration": 0,
    "start_time": "2025-01-19T17:38:54.363Z"
   },
   {
    "duration": 0,
    "start_time": "2025-01-19T17:38:54.365Z"
   },
   {
    "duration": 0,
    "start_time": "2025-01-19T17:38:54.367Z"
   },
   {
    "duration": 0,
    "start_time": "2025-01-19T17:38:54.369Z"
   },
   {
    "duration": 0,
    "start_time": "2025-01-19T17:38:54.371Z"
   },
   {
    "duration": 0,
    "start_time": "2025-01-19T17:38:54.374Z"
   },
   {
    "duration": 0,
    "start_time": "2025-01-19T17:38:54.375Z"
   },
   {
    "duration": 0,
    "start_time": "2025-01-19T17:38:54.377Z"
   },
   {
    "duration": 0,
    "start_time": "2025-01-19T17:38:54.379Z"
   },
   {
    "duration": 0,
    "start_time": "2025-01-19T17:38:54.381Z"
   },
   {
    "duration": 0,
    "start_time": "2025-01-19T17:38:54.383Z"
   },
   {
    "duration": 0,
    "start_time": "2025-01-19T17:38:54.385Z"
   },
   {
    "duration": 0,
    "start_time": "2025-01-19T17:38:54.387Z"
   },
   {
    "duration": 0,
    "start_time": "2025-01-19T17:38:54.389Z"
   },
   {
    "duration": 0,
    "start_time": "2025-01-19T17:38:54.391Z"
   },
   {
    "duration": 0,
    "start_time": "2025-01-19T17:38:54.392Z"
   },
   {
    "duration": 0,
    "start_time": "2025-01-19T17:38:54.394Z"
   },
   {
    "duration": 0,
    "start_time": "2025-01-19T17:38:54.396Z"
   },
   {
    "duration": 0,
    "start_time": "2025-01-19T17:38:54.398Z"
   },
   {
    "duration": 0,
    "start_time": "2025-01-19T17:38:54.459Z"
   },
   {
    "duration": 0,
    "start_time": "2025-01-19T17:38:54.462Z"
   },
   {
    "duration": 0,
    "start_time": "2025-01-19T17:38:54.464Z"
   },
   {
    "duration": 0,
    "start_time": "2025-01-19T17:38:54.466Z"
   },
   {
    "duration": 0,
    "start_time": "2025-01-19T17:38:54.468Z"
   },
   {
    "duration": 0,
    "start_time": "2025-01-19T17:38:54.470Z"
   },
   {
    "duration": 0,
    "start_time": "2025-01-19T17:38:54.472Z"
   },
   {
    "duration": 0,
    "start_time": "2025-01-19T17:38:54.473Z"
   },
   {
    "duration": 0,
    "start_time": "2025-01-19T17:38:54.475Z"
   },
   {
    "duration": 0,
    "start_time": "2025-01-19T17:38:54.477Z"
   },
   {
    "duration": 0,
    "start_time": "2025-01-19T17:38:54.479Z"
   },
   {
    "duration": 0,
    "start_time": "2025-01-19T17:38:54.481Z"
   },
   {
    "duration": 0,
    "start_time": "2025-01-19T17:38:54.483Z"
   },
   {
    "duration": 0,
    "start_time": "2025-01-19T17:38:54.485Z"
   },
   {
    "duration": 0,
    "start_time": "2025-01-19T17:38:54.487Z"
   },
   {
    "duration": 0,
    "start_time": "2025-01-19T17:38:54.488Z"
   },
   {
    "duration": 0,
    "start_time": "2025-01-19T17:38:54.491Z"
   },
   {
    "duration": 0,
    "start_time": "2025-01-19T17:38:54.492Z"
   },
   {
    "duration": 0,
    "start_time": "2025-01-19T17:38:54.494Z"
   },
   {
    "duration": 0,
    "start_time": "2025-01-19T17:38:54.496Z"
   },
   {
    "duration": 0,
    "start_time": "2025-01-19T17:38:54.497Z"
   },
   {
    "duration": 0,
    "start_time": "2025-01-19T17:38:54.499Z"
   },
   {
    "duration": 0,
    "start_time": "2025-01-19T17:38:54.560Z"
   },
   {
    "duration": 0,
    "start_time": "2025-01-19T17:38:54.563Z"
   },
   {
    "duration": 0,
    "start_time": "2025-01-19T17:38:54.565Z"
   },
   {
    "duration": 0,
    "start_time": "2025-01-19T17:38:54.567Z"
   },
   {
    "duration": 0,
    "start_time": "2025-01-19T17:38:54.568Z"
   },
   {
    "duration": 0,
    "start_time": "2025-01-19T17:38:54.570Z"
   },
   {
    "duration": 0,
    "start_time": "2025-01-19T17:38:54.572Z"
   },
   {
    "duration": 0,
    "start_time": "2025-01-19T17:38:54.575Z"
   },
   {
    "duration": 0,
    "start_time": "2025-01-19T17:38:54.576Z"
   },
   {
    "duration": 0,
    "start_time": "2025-01-19T17:38:54.578Z"
   },
   {
    "duration": 17,
    "start_time": "2025-01-19T17:39:04.304Z"
   },
   {
    "duration": 15,
    "start_time": "2025-01-19T17:39:04.543Z"
   },
   {
    "duration": 10,
    "start_time": "2025-01-19T17:39:04.775Z"
   },
   {
    "duration": 12,
    "start_time": "2025-01-19T17:39:05.007Z"
   },
   {
    "duration": 4,
    "start_time": "2025-01-19T17:39:05.280Z"
   },
   {
    "duration": 4,
    "start_time": "2025-01-19T17:39:05.503Z"
   },
   {
    "duration": 12,
    "start_time": "2025-01-19T17:39:05.744Z"
   },
   {
    "duration": 9,
    "start_time": "2025-01-19T17:39:05.975Z"
   },
   {
    "duration": 12,
    "start_time": "2025-01-19T17:39:09.463Z"
   },
   {
    "duration": 16,
    "start_time": "2025-01-19T17:39:09.751Z"
   },
   {
    "duration": 17,
    "start_time": "2025-01-19T17:39:10.032Z"
   },
   {
    "duration": 5,
    "start_time": "2025-01-19T17:39:10.479Z"
   },
   {
    "duration": 16,
    "start_time": "2025-01-19T17:39:10.759Z"
   },
   {
    "duration": 16,
    "start_time": "2025-01-19T17:39:10.983Z"
   },
   {
    "duration": 7,
    "start_time": "2025-01-19T17:39:11.471Z"
   },
   {
    "duration": 6,
    "start_time": "2025-01-19T17:39:11.735Z"
   },
   {
    "duration": 12,
    "start_time": "2025-01-19T17:39:11.975Z"
   },
   {
    "duration": 17,
    "start_time": "2025-01-19T17:39:12.431Z"
   },
   {
    "duration": 8,
    "start_time": "2025-01-19T17:39:12.671Z"
   },
   {
    "duration": 3,
    "start_time": "2025-01-19T17:39:13.207Z"
   },
   {
    "duration": 6,
    "start_time": "2025-01-19T17:39:13.488Z"
   },
   {
    "duration": 13,
    "start_time": "2025-01-19T17:39:13.743Z"
   },
   {
    "duration": 5,
    "start_time": "2025-01-19T17:39:14.959Z"
   },
   {
    "duration": 8,
    "start_time": "2025-01-19T17:39:15.177Z"
   },
   {
    "duration": 169,
    "start_time": "2025-01-19T17:39:15.432Z"
   },
   {
    "duration": 5,
    "start_time": "2025-01-19T17:39:16.127Z"
   },
   {
    "duration": 5,
    "start_time": "2025-01-19T17:39:16.351Z"
   },
   {
    "duration": 7,
    "start_time": "2025-01-19T17:39:16.599Z"
   },
   {
    "duration": 206,
    "start_time": "2025-01-19T17:39:16.823Z"
   },
   {
    "duration": 5,
    "start_time": "2025-01-19T17:39:17.080Z"
   },
   {
    "duration": 4,
    "start_time": "2025-01-19T17:39:17.303Z"
   },
   {
    "duration": 7,
    "start_time": "2025-01-19T17:39:17.527Z"
   },
   {
    "duration": 180,
    "start_time": "2025-01-19T17:39:17.719Z"
   },
   {
    "duration": 7,
    "start_time": "2025-01-19T17:39:18.367Z"
   },
   {
    "duration": 14,
    "start_time": "2025-01-19T17:39:18.544Z"
   },
   {
    "duration": 130,
    "start_time": "2025-01-19T17:39:18.688Z"
   },
   {
    "duration": 208,
    "start_time": "2025-01-19T17:39:18.882Z"
   },
   {
    "duration": 6,
    "start_time": "2025-01-19T17:39:19.687Z"
   },
   {
    "duration": 26,
    "start_time": "2025-01-19T17:39:20.071Z"
   },
   {
    "duration": 6,
    "start_time": "2025-01-19T17:39:20.240Z"
   },
   {
    "duration": 7,
    "start_time": "2025-01-19T17:39:20.391Z"
   },
   {
    "duration": 272,
    "start_time": "2025-01-19T17:39:20.535Z"
   },
   {
    "duration": 129,
    "start_time": "2025-01-19T17:39:21.000Z"
   },
   {
    "duration": 7,
    "start_time": "2025-01-19T17:39:21.847Z"
   },
   {
    "duration": 7,
    "start_time": "2025-01-19T17:39:22.048Z"
   },
   {
    "duration": 171,
    "start_time": "2025-01-19T17:39:22.496Z"
   },
   {
    "duration": 190,
    "start_time": "2025-01-19T17:39:23.799Z"
   },
   {
    "duration": 9,
    "start_time": "2025-01-19T17:39:24.160Z"
   },
   {
    "duration": 270,
    "start_time": "2025-01-19T17:39:25.456Z"
   },
   {
    "duration": 5,
    "start_time": "2025-01-19T17:39:26.800Z"
   },
   {
    "duration": 18,
    "start_time": "2025-01-19T17:39:29.449Z"
   },
   {
    "duration": 13,
    "start_time": "2025-01-19T17:39:29.712Z"
   },
   {
    "duration": 5,
    "start_time": "2025-01-19T17:39:29.992Z"
   },
   {
    "duration": 666,
    "start_time": "2025-01-19T17:39:30.256Z"
   },
   {
    "duration": 5,
    "start_time": "2025-01-19T17:39:40.328Z"
   },
   {
    "duration": 6,
    "start_time": "2025-01-19T17:39:40.981Z"
   },
   {
    "duration": 4,
    "start_time": "2025-01-19T17:39:42.212Z"
   },
   {
    "duration": 247,
    "start_time": "2025-01-19T17:39:42.900Z"
   },
   {
    "duration": 5,
    "start_time": "2025-01-19T17:39:51.965Z"
   },
   {
    "duration": 4,
    "start_time": "2025-01-19T17:39:52.485Z"
   },
   {
    "duration": 4,
    "start_time": "2025-01-19T17:39:53.389Z"
   },
   {
    "duration": 4,
    "start_time": "2025-01-19T17:39:56.374Z"
   },
   {
    "duration": 41,
    "start_time": "2025-01-19T17:40:00.333Z"
   },
   {
    "duration": 116,
    "start_time": "2025-01-19T17:40:01.069Z"
   },
   {
    "duration": 15,
    "start_time": "2025-01-19T17:40:01.909Z"
   },
   {
    "duration": 10,
    "start_time": "2025-01-19T17:40:02.528Z"
   },
   {
    "duration": 5,
    "start_time": "2025-01-19T17:42:39.080Z"
   },
   {
    "duration": 6,
    "start_time": "2025-01-19T17:42:45.468Z"
   },
   {
    "duration": 4,
    "start_time": "2025-01-19T17:42:55.176Z"
   },
   {
    "duration": 242,
    "start_time": "2025-01-19T17:43:08.265Z"
   },
   {
    "duration": 253,
    "start_time": "2025-01-19T17:43:19.973Z"
   },
   {
    "duration": 5,
    "start_time": "2025-01-19T17:43:40.477Z"
   },
   {
    "duration": 4,
    "start_time": "2025-01-19T17:44:03.135Z"
   },
   {
    "duration": 4,
    "start_time": "2025-01-19T17:44:05.926Z"
   },
   {
    "duration": 4,
    "start_time": "2025-01-19T17:44:12.294Z"
   },
   {
    "duration": 4,
    "start_time": "2025-01-19T17:44:19.342Z"
   },
   {
    "duration": 4,
    "start_time": "2025-01-19T17:44:25.926Z"
   },
   {
    "duration": 4,
    "start_time": "2025-01-19T17:44:31.370Z"
   },
   {
    "duration": 5,
    "start_time": "2025-01-19T17:44:31.958Z"
   },
   {
    "duration": 5,
    "start_time": "2025-01-19T17:44:57.218Z"
   },
   {
    "duration": 3,
    "start_time": "2025-01-19T17:45:59.292Z"
   },
   {
    "duration": 34,
    "start_time": "2025-01-19T17:46:10.112Z"
   },
   {
    "duration": 7,
    "start_time": "2025-01-19T17:46:21.216Z"
   },
   {
    "duration": 272,
    "start_time": "2025-01-19T17:46:35.457Z"
   },
   {
    "duration": 8,
    "start_time": "2025-01-19T17:47:02.477Z"
   },
   {
    "duration": 4,
    "start_time": "2025-01-19T17:47:54.222Z"
   },
   {
    "duration": 31,
    "start_time": "2025-01-19T17:47:54.710Z"
   },
   {
    "duration": 6,
    "start_time": "2025-01-19T17:47:55.278Z"
   },
   {
    "duration": 126,
    "start_time": "2025-01-19T17:47:55.902Z"
   },
   {
    "duration": 8,
    "start_time": "2025-01-19T17:47:56.630Z"
   },
   {
    "duration": 4,
    "start_time": "2025-01-19T17:48:15.755Z"
   },
   {
    "duration": 35,
    "start_time": "2025-01-19T17:48:16.426Z"
   },
   {
    "duration": 6,
    "start_time": "2025-01-19T17:48:17.037Z"
   },
   {
    "duration": 145,
    "start_time": "2025-01-19T17:48:17.586Z"
   },
   {
    "duration": 122,
    "start_time": "2025-01-19T17:48:51.596Z"
   },
   {
    "duration": 32,
    "start_time": "2025-01-19T17:48:52.099Z"
   },
   {
    "duration": 8,
    "start_time": "2025-01-19T17:48:54.299Z"
   },
   {
    "duration": 135,
    "start_time": "2025-01-19T17:48:55.692Z"
   },
   {
    "duration": 3,
    "start_time": "2025-01-19T17:49:07.317Z"
   },
   {
    "duration": 37,
    "start_time": "2025-01-19T17:49:08.020Z"
   },
   {
    "duration": 7,
    "start_time": "2025-01-19T17:49:08.512Z"
   },
   {
    "duration": 143,
    "start_time": "2025-01-19T17:49:08.995Z"
   },
   {
    "duration": 7,
    "start_time": "2025-01-19T17:50:05.713Z"
   },
   {
    "duration": 6,
    "start_time": "2025-01-19T17:52:17.210Z"
   },
   {
    "duration": 10,
    "start_time": "2025-01-19T17:52:17.828Z"
   },
   {
    "duration": 12,
    "start_time": "2025-01-19T17:53:07.285Z"
   },
   {
    "duration": 254,
    "start_time": "2025-01-19T17:53:19.464Z"
   },
   {
    "duration": 111,
    "start_time": "2025-01-19T17:54:12.350Z"
   },
   {
    "duration": 15,
    "start_time": "2025-01-19T17:54:28.957Z"
   },
   {
    "duration": 9,
    "start_time": "2025-01-19T17:55:10.358Z"
   },
   {
    "duration": 12,
    "start_time": "2025-01-19T17:55:24.723Z"
   },
   {
    "duration": 109,
    "start_time": "2025-01-19T17:55:43.643Z"
   },
   {
    "duration": 7,
    "start_time": "2025-01-19T18:01:19.718Z"
   },
   {
    "duration": 6,
    "start_time": "2025-01-19T18:01:34.094Z"
   },
   {
    "duration": 7,
    "start_time": "2025-01-19T18:01:34.438Z"
   },
   {
    "duration": 136,
    "start_time": "2025-01-19T18:01:35.566Z"
   },
   {
    "duration": 7,
    "start_time": "2025-01-19T18:04:00.265Z"
   },
   {
    "duration": 271,
    "start_time": "2025-01-19T18:04:38.281Z"
   },
   {
    "duration": 4,
    "start_time": "2025-01-19T22:03:55.154Z"
   },
   {
    "duration": 4,
    "start_time": "2025-01-19T22:03:55.159Z"
   },
   {
    "duration": 5,
    "start_time": "2025-01-19T22:03:55.165Z"
   },
   {
    "duration": 2705,
    "start_time": "2025-01-19T22:03:55.171Z"
   },
   {
    "duration": 415,
    "start_time": "2025-01-19T22:03:57.879Z"
   },
   {
    "duration": 745,
    "start_time": "2025-01-19T22:03:58.296Z"
   },
   {
    "duration": 242,
    "start_time": "2025-01-19T22:03:59.042Z"
   },
   {
    "duration": 241,
    "start_time": "2025-01-19T22:03:59.286Z"
   },
   {
    "duration": 91,
    "start_time": "2025-01-19T22:03:59.528Z"
   },
   {
    "duration": 0,
    "start_time": "2025-01-19T22:03:59.623Z"
   },
   {
    "duration": 0,
    "start_time": "2025-01-19T22:03:59.624Z"
   },
   {
    "duration": 0,
    "start_time": "2025-01-19T22:03:59.625Z"
   },
   {
    "duration": 0,
    "start_time": "2025-01-19T22:03:59.626Z"
   },
   {
    "duration": 0,
    "start_time": "2025-01-19T22:03:59.627Z"
   },
   {
    "duration": 0,
    "start_time": "2025-01-19T22:03:59.628Z"
   },
   {
    "duration": 0,
    "start_time": "2025-01-19T22:03:59.630Z"
   },
   {
    "duration": 0,
    "start_time": "2025-01-19T22:03:59.631Z"
   },
   {
    "duration": 0,
    "start_time": "2025-01-19T22:03:59.632Z"
   },
   {
    "duration": 0,
    "start_time": "2025-01-19T22:03:59.633Z"
   },
   {
    "duration": 0,
    "start_time": "2025-01-19T22:03:59.634Z"
   },
   {
    "duration": 0,
    "start_time": "2025-01-19T22:03:59.635Z"
   },
   {
    "duration": 0,
    "start_time": "2025-01-19T22:03:59.636Z"
   },
   {
    "duration": 0,
    "start_time": "2025-01-19T22:03:59.637Z"
   },
   {
    "duration": 0,
    "start_time": "2025-01-19T22:03:59.638Z"
   },
   {
    "duration": 0,
    "start_time": "2025-01-19T22:03:59.639Z"
   },
   {
    "duration": 0,
    "start_time": "2025-01-19T22:03:59.640Z"
   },
   {
    "duration": 0,
    "start_time": "2025-01-19T22:03:59.641Z"
   },
   {
    "duration": 0,
    "start_time": "2025-01-19T22:03:59.642Z"
   },
   {
    "duration": 0,
    "start_time": "2025-01-19T22:03:59.643Z"
   },
   {
    "duration": 0,
    "start_time": "2025-01-19T22:03:59.644Z"
   },
   {
    "duration": 0,
    "start_time": "2025-01-19T22:03:59.644Z"
   },
   {
    "duration": 0,
    "start_time": "2025-01-19T22:03:59.645Z"
   },
   {
    "duration": 0,
    "start_time": "2025-01-19T22:03:59.646Z"
   },
   {
    "duration": 0,
    "start_time": "2025-01-19T22:03:59.647Z"
   },
   {
    "duration": 0,
    "start_time": "2025-01-19T22:03:59.648Z"
   },
   {
    "duration": 0,
    "start_time": "2025-01-19T22:03:59.649Z"
   },
   {
    "duration": 0,
    "start_time": "2025-01-19T22:03:59.650Z"
   },
   {
    "duration": 0,
    "start_time": "2025-01-19T22:03:59.651Z"
   },
   {
    "duration": 0,
    "start_time": "2025-01-19T22:03:59.651Z"
   },
   {
    "duration": 0,
    "start_time": "2025-01-19T22:03:59.652Z"
   },
   {
    "duration": 0,
    "start_time": "2025-01-19T22:03:59.653Z"
   },
   {
    "duration": 0,
    "start_time": "2025-01-19T22:03:59.654Z"
   },
   {
    "duration": 0,
    "start_time": "2025-01-19T22:03:59.655Z"
   },
   {
    "duration": 0,
    "start_time": "2025-01-19T22:03:59.655Z"
   },
   {
    "duration": 0,
    "start_time": "2025-01-19T22:03:59.656Z"
   },
   {
    "duration": 0,
    "start_time": "2025-01-19T22:03:59.657Z"
   },
   {
    "duration": 0,
    "start_time": "2025-01-19T22:03:59.658Z"
   },
   {
    "duration": 0,
    "start_time": "2025-01-19T22:03:59.686Z"
   },
   {
    "duration": 0,
    "start_time": "2025-01-19T22:03:59.688Z"
   },
   {
    "duration": 0,
    "start_time": "2025-01-19T22:03:59.688Z"
   },
   {
    "duration": 0,
    "start_time": "2025-01-19T22:03:59.690Z"
   },
   {
    "duration": 0,
    "start_time": "2025-01-19T22:03:59.691Z"
   },
   {
    "duration": 0,
    "start_time": "2025-01-19T22:03:59.692Z"
   },
   {
    "duration": 0,
    "start_time": "2025-01-19T22:03:59.693Z"
   },
   {
    "duration": 0,
    "start_time": "2025-01-19T22:03:59.694Z"
   },
   {
    "duration": 0,
    "start_time": "2025-01-19T22:03:59.694Z"
   },
   {
    "duration": 0,
    "start_time": "2025-01-19T22:03:59.695Z"
   },
   {
    "duration": 0,
    "start_time": "2025-01-19T22:03:59.696Z"
   },
   {
    "duration": 0,
    "start_time": "2025-01-19T22:03:59.697Z"
   },
   {
    "duration": 0,
    "start_time": "2025-01-19T22:03:59.698Z"
   },
   {
    "duration": 0,
    "start_time": "2025-01-19T22:03:59.699Z"
   },
   {
    "duration": 0,
    "start_time": "2025-01-19T22:03:59.699Z"
   },
   {
    "duration": 0,
    "start_time": "2025-01-19T22:03:59.700Z"
   },
   {
    "duration": 0,
    "start_time": "2025-01-19T22:03:59.701Z"
   },
   {
    "duration": 0,
    "start_time": "2025-01-19T22:03:59.702Z"
   },
   {
    "duration": 0,
    "start_time": "2025-01-19T22:03:59.703Z"
   },
   {
    "duration": 0,
    "start_time": "2025-01-19T22:03:59.704Z"
   },
   {
    "duration": 0,
    "start_time": "2025-01-19T22:03:59.705Z"
   },
   {
    "duration": 0,
    "start_time": "2025-01-19T22:03:59.705Z"
   },
   {
    "duration": 0,
    "start_time": "2025-01-19T22:03:59.706Z"
   },
   {
    "duration": 0,
    "start_time": "2025-01-19T22:03:59.707Z"
   },
   {
    "duration": 0,
    "start_time": "2025-01-19T22:03:59.708Z"
   },
   {
    "duration": 0,
    "start_time": "2025-01-19T22:03:59.709Z"
   },
   {
    "duration": 0,
    "start_time": "2025-01-19T22:03:59.710Z"
   },
   {
    "duration": 0,
    "start_time": "2025-01-19T22:03:59.711Z"
   },
   {
    "duration": 0,
    "start_time": "2025-01-19T22:03:59.712Z"
   },
   {
    "duration": 0,
    "start_time": "2025-01-19T22:03:59.712Z"
   },
   {
    "duration": 0,
    "start_time": "2025-01-19T22:03:59.713Z"
   },
   {
    "duration": 0,
    "start_time": "2025-01-19T22:03:59.714Z"
   },
   {
    "duration": 89,
    "start_time": "2025-01-19T22:07:07.698Z"
   },
   {
    "duration": 48,
    "start_time": "2025-01-20T08:26:04.304Z"
   },
   {
    "duration": 6,
    "start_time": "2025-01-20T08:26:04.670Z"
   },
   {
    "duration": 3,
    "start_time": "2025-01-20T08:26:19.406Z"
   },
   {
    "duration": 4,
    "start_time": "2025-01-20T08:26:19.411Z"
   },
   {
    "duration": 3,
    "start_time": "2025-01-20T08:26:19.417Z"
   },
   {
    "duration": 3557,
    "start_time": "2025-01-20T08:26:19.422Z"
   },
   {
    "duration": 370,
    "start_time": "2025-01-20T08:26:22.980Z"
   },
   {
    "duration": 906,
    "start_time": "2025-01-20T08:26:23.351Z"
   },
   {
    "duration": 100,
    "start_time": "2025-01-20T08:26:24.259Z"
   },
   {
    "duration": 306,
    "start_time": "2025-01-20T08:26:24.361Z"
   },
   {
    "duration": 18,
    "start_time": "2025-01-20T08:26:24.670Z"
   },
   {
    "duration": 14,
    "start_time": "2025-01-20T08:26:24.689Z"
   },
   {
    "duration": 17,
    "start_time": "2025-01-20T08:26:24.704Z"
   },
   {
    "duration": 10,
    "start_time": "2025-01-20T08:26:24.723Z"
   },
   {
    "duration": 5,
    "start_time": "2025-01-20T08:26:24.734Z"
   },
   {
    "duration": 5,
    "start_time": "2025-01-20T08:26:24.740Z"
   },
   {
    "duration": 21,
    "start_time": "2025-01-20T08:26:24.746Z"
   },
   {
    "duration": 7,
    "start_time": "2025-01-20T08:26:24.769Z"
   },
   {
    "duration": 10,
    "start_time": "2025-01-20T08:26:24.778Z"
   },
   {
    "duration": 14,
    "start_time": "2025-01-20T08:26:24.789Z"
   },
   {
    "duration": 42,
    "start_time": "2025-01-20T08:26:24.804Z"
   },
   {
    "duration": 4,
    "start_time": "2025-01-20T08:26:24.847Z"
   },
   {
    "duration": 83,
    "start_time": "2025-01-20T08:26:24.852Z"
   },
   {
    "duration": 20,
    "start_time": "2025-01-20T08:26:24.937Z"
   },
   {
    "duration": 6,
    "start_time": "2025-01-20T08:26:24.959Z"
   },
   {
    "duration": 9,
    "start_time": "2025-01-20T08:26:24.969Z"
   },
   {
    "duration": 13,
    "start_time": "2025-01-20T08:26:24.980Z"
   },
   {
    "duration": 15,
    "start_time": "2025-01-20T08:26:24.994Z"
   },
   {
    "duration": 5,
    "start_time": "2025-01-20T08:26:25.010Z"
   },
   {
    "duration": 20,
    "start_time": "2025-01-20T08:26:25.017Z"
   },
   {
    "duration": 13,
    "start_time": "2025-01-20T08:26:25.039Z"
   },
   {
    "duration": 38,
    "start_time": "2025-01-20T08:26:25.053Z"
   },
   {
    "duration": 3,
    "start_time": "2025-01-20T08:26:25.093Z"
   },
   {
    "duration": 22,
    "start_time": "2025-01-20T08:26:25.098Z"
   },
   {
    "duration": 157,
    "start_time": "2025-01-20T08:26:25.121Z"
   },
   {
    "duration": 5,
    "start_time": "2025-01-20T08:26:25.279Z"
   },
   {
    "duration": 5,
    "start_time": "2025-01-20T08:26:25.285Z"
   },
   {
    "duration": 11,
    "start_time": "2025-01-20T08:26:25.292Z"
   },
   {
    "duration": 213,
    "start_time": "2025-01-20T08:26:25.304Z"
   },
   {
    "duration": 5,
    "start_time": "2025-01-20T08:26:25.518Z"
   },
   {
    "duration": 12,
    "start_time": "2025-01-20T08:26:25.525Z"
   },
   {
    "duration": 6,
    "start_time": "2025-01-20T08:26:25.538Z"
   },
   {
    "duration": 185,
    "start_time": "2025-01-20T08:26:25.545Z"
   },
   {
    "duration": 11,
    "start_time": "2025-01-20T08:26:25.731Z"
   },
   {
    "duration": 18,
    "start_time": "2025-01-20T08:26:25.744Z"
   },
   {
    "duration": 140,
    "start_time": "2025-01-20T08:26:25.764Z"
   },
   {
    "duration": 304,
    "start_time": "2025-01-20T08:26:25.906Z"
   },
   {
    "duration": 6,
    "start_time": "2025-01-20T08:26:26.212Z"
   },
   {
    "duration": 36,
    "start_time": "2025-01-20T08:26:26.220Z"
   },
   {
    "duration": 7,
    "start_time": "2025-01-20T08:26:26.258Z"
   },
   {
    "duration": 11,
    "start_time": "2025-01-20T08:26:26.266Z"
   },
   {
    "duration": 194,
    "start_time": "2025-01-20T08:26:26.278Z"
   },
   {
    "duration": 132,
    "start_time": "2025-01-20T08:26:26.473Z"
   },
   {
    "duration": 7,
    "start_time": "2025-01-20T08:26:26.606Z"
   },
   {
    "duration": 7,
    "start_time": "2025-01-20T08:26:26.614Z"
   },
   {
    "duration": 186,
    "start_time": "2025-01-20T08:26:26.637Z"
   },
   {
    "duration": 214,
    "start_time": "2025-01-20T08:26:26.825Z"
   },
   {
    "duration": 9,
    "start_time": "2025-01-20T08:26:27.040Z"
   },
   {
    "duration": 259,
    "start_time": "2025-01-20T08:26:27.050Z"
   },
   {
    "duration": 5,
    "start_time": "2025-01-20T08:26:27.311Z"
   },
   {
    "duration": 33,
    "start_time": "2025-01-20T08:26:27.317Z"
   },
   {
    "duration": 12,
    "start_time": "2025-01-20T08:26:27.352Z"
   },
   {
    "duration": 4,
    "start_time": "2025-01-20T08:26:27.365Z"
   },
   {
    "duration": 669,
    "start_time": "2025-01-20T08:26:27.370Z"
   },
   {
    "duration": 5,
    "start_time": "2025-01-20T08:26:28.041Z"
   },
   {
    "duration": 6,
    "start_time": "2025-01-20T08:26:28.047Z"
   },
   {
    "duration": 3,
    "start_time": "2025-01-20T08:26:28.054Z"
   },
   {
    "duration": 261,
    "start_time": "2025-01-20T08:26:28.059Z"
   },
   {
    "duration": 5,
    "start_time": "2025-01-20T08:26:28.322Z"
   },
   {
    "duration": 4,
    "start_time": "2025-01-20T08:26:28.336Z"
   },
   {
    "duration": 4,
    "start_time": "2025-01-20T08:26:28.344Z"
   },
   {
    "duration": 7,
    "start_time": "2025-01-20T08:26:28.349Z"
   },
   {
    "duration": 32,
    "start_time": "2025-01-20T08:26:28.358Z"
   },
   {
    "duration": 5,
    "start_time": "2025-01-20T08:26:28.391Z"
   },
   {
    "duration": 161,
    "start_time": "2025-01-20T08:26:28.398Z"
   },
   {
    "duration": 7,
    "start_time": "2025-01-20T08:26:28.561Z"
   },
   {
    "duration": 7,
    "start_time": "2025-01-20T08:26:28.569Z"
   },
   {
    "duration": 6,
    "start_time": "2025-01-20T08:26:28.578Z"
   },
   {
    "duration": 9,
    "start_time": "2025-01-20T08:26:28.585Z"
   },
   {
    "duration": 258,
    "start_time": "2025-01-20T08:26:28.595Z"
   },
   {
    "duration": 12,
    "start_time": "2025-01-20T08:27:13.010Z"
   },
   {
    "duration": 14,
    "start_time": "2025-01-20T08:27:13.514Z"
   },
   {
    "duration": 10,
    "start_time": "2025-01-20T08:27:14.667Z"
   },
   {
    "duration": 12,
    "start_time": "2025-01-20T08:27:15.354Z"
   },
   {
    "duration": 4,
    "start_time": "2025-01-20T08:27:15.658Z"
   },
   {
    "duration": 4,
    "start_time": "2025-01-20T08:27:16.218Z"
   },
   {
    "duration": 11,
    "start_time": "2025-01-20T08:27:16.746Z"
   },
   {
    "duration": 10,
    "start_time": "2025-01-20T08:27:17.035Z"
   },
   {
    "duration": 11,
    "start_time": "2025-01-20T08:27:20.121Z"
   },
   {
    "duration": 15,
    "start_time": "2025-01-20T08:27:20.402Z"
   },
   {
    "duration": 14,
    "start_time": "2025-01-20T08:27:20.747Z"
   },
   {
    "duration": 4,
    "start_time": "2025-01-20T08:27:21.521Z"
   },
   {
    "duration": 14,
    "start_time": "2025-01-20T08:27:22.731Z"
   },
   {
    "duration": 13,
    "start_time": "2025-01-20T08:27:23.139Z"
   },
   {
    "duration": 6,
    "start_time": "2025-01-20T08:27:23.634Z"
   },
   {
    "duration": 4,
    "start_time": "2025-01-20T08:27:23.931Z"
   },
   {
    "duration": 11,
    "start_time": "2025-01-20T08:27:24.194Z"
   },
   {
    "duration": 16,
    "start_time": "2025-01-20T08:27:25.290Z"
   },
   {
    "duration": 7,
    "start_time": "2025-01-20T08:27:25.682Z"
   },
   {
    "duration": 3,
    "start_time": "2025-01-20T08:27:26.210Z"
   },
   {
    "duration": 6,
    "start_time": "2025-01-20T08:27:26.418Z"
   },
   {
    "duration": 12,
    "start_time": "2025-01-20T08:27:26.634Z"
   },
   {
    "duration": 5,
    "start_time": "2025-01-20T08:27:28.193Z"
   },
   {
    "duration": 6,
    "start_time": "2025-01-20T08:27:28.474Z"
   },
   {
    "duration": 239,
    "start_time": "2025-01-20T08:27:28.787Z"
   },
   {
    "duration": 5,
    "start_time": "2025-01-20T08:27:29.706Z"
   },
   {
    "duration": 5,
    "start_time": "2025-01-20T08:27:29.939Z"
   },
   {
    "duration": 6,
    "start_time": "2025-01-20T08:27:30.211Z"
   },
   {
    "duration": 193,
    "start_time": "2025-01-20T08:27:30.458Z"
   },
   {
    "duration": 6,
    "start_time": "2025-01-20T08:27:30.730Z"
   },
   {
    "duration": 4,
    "start_time": "2025-01-20T08:27:30.946Z"
   },
   {
    "duration": 6,
    "start_time": "2025-01-20T08:27:31.154Z"
   },
   {
    "duration": 169,
    "start_time": "2025-01-20T08:27:31.346Z"
   },
   {
    "duration": 6,
    "start_time": "2025-01-20T08:27:32.594Z"
   },
   {
    "duration": 13,
    "start_time": "2025-01-20T08:27:33.331Z"
   },
   {
    "duration": 129,
    "start_time": "2025-01-20T08:27:33.923Z"
   },
   {
    "duration": 204,
    "start_time": "2025-01-20T08:27:34.306Z"
   },
   {
    "duration": 6,
    "start_time": "2025-01-20T08:27:35.826Z"
   },
   {
    "duration": 23,
    "start_time": "2025-01-20T08:27:36.227Z"
   },
   {
    "duration": 7,
    "start_time": "2025-01-20T08:27:36.578Z"
   },
   {
    "duration": 7,
    "start_time": "2025-01-20T08:27:36.939Z"
   },
   {
    "duration": 185,
    "start_time": "2025-01-20T08:27:37.355Z"
   },
   {
    "duration": 130,
    "start_time": "2025-01-20T08:27:37.738Z"
   },
   {
    "duration": 8,
    "start_time": "2025-01-20T08:27:38.990Z"
   },
   {
    "duration": 8,
    "start_time": "2025-01-20T08:27:39.474Z"
   },
   {
    "duration": 187,
    "start_time": "2025-01-20T08:27:39.883Z"
   },
   {
    "duration": 179,
    "start_time": "2025-01-20T08:27:41.106Z"
   },
   {
    "duration": 9,
    "start_time": "2025-01-20T08:27:41.498Z"
   },
   {
    "duration": 245,
    "start_time": "2025-01-20T08:27:42.338Z"
   },
   {
    "duration": 5,
    "start_time": "2025-01-20T08:27:43.138Z"
   },
   {
    "duration": 16,
    "start_time": "2025-01-20T08:27:43.516Z"
   },
   {
    "duration": 13,
    "start_time": "2025-01-20T08:27:43.931Z"
   },
   {
    "duration": 6,
    "start_time": "2025-01-20T08:27:44.327Z"
   },
   {
    "duration": 759,
    "start_time": "2025-01-20T08:27:44.804Z"
   },
   {
    "duration": 9,
    "start_time": "2025-01-20T08:27:45.998Z"
   },
   {
    "duration": 5,
    "start_time": "2025-01-20T08:27:46.311Z"
   },
   {
    "duration": 3,
    "start_time": "2025-01-20T08:27:46.531Z"
   },
   {
    "duration": 261,
    "start_time": "2025-01-20T08:27:46.795Z"
   },
   {
    "duration": 4,
    "start_time": "2025-01-20T08:27:47.147Z"
   },
   {
    "duration": 4,
    "start_time": "2025-01-20T08:27:51.755Z"
   },
   {
    "duration": 4,
    "start_time": "2025-01-20T08:27:52.191Z"
   },
   {
    "duration": 5,
    "start_time": "2025-01-20T08:27:52.951Z"
   },
   {
    "duration": 42,
    "start_time": "2025-01-20T08:27:53.539Z"
   },
   {
    "duration": 5,
    "start_time": "2025-01-20T08:27:54.071Z"
   },
   {
    "duration": 144,
    "start_time": "2025-01-20T08:27:54.727Z"
   },
   {
    "duration": 8,
    "start_time": "2025-01-20T08:27:55.015Z"
   },
   {
    "duration": 5,
    "start_time": "2025-01-20T08:27:55.814Z"
   },
   {
    "duration": 7,
    "start_time": "2025-01-20T08:27:56.043Z"
   },
   {
    "duration": 6,
    "start_time": "2025-01-20T08:27:56.271Z"
   },
   {
    "duration": 257,
    "start_time": "2025-01-20T08:27:56.799Z"
   },
   {
    "duration": 3,
    "start_time": "2025-01-20T08:45:24.850Z"
   },
   {
    "duration": 31,
    "start_time": "2025-01-20T08:45:25.450Z"
   },
   {
    "duration": 3,
    "start_time": "2025-01-20T08:45:31.745Z"
   },
   {
    "duration": 23,
    "start_time": "2025-01-20T08:45:31.749Z"
   },
   {
    "duration": 4,
    "start_time": "2025-01-20T08:45:31.774Z"
   },
   {
    "duration": 2446,
    "start_time": "2025-01-20T08:45:31.780Z"
   },
   {
    "duration": 433,
    "start_time": "2025-01-20T08:45:34.228Z"
   },
   {
    "duration": 781,
    "start_time": "2025-01-20T08:45:34.663Z"
   },
   {
    "duration": 47,
    "start_time": "2025-01-20T08:45:35.446Z"
   },
   {
    "duration": 94,
    "start_time": "2025-01-20T08:45:35.495Z"
   },
   {
    "duration": 16,
    "start_time": "2025-01-20T08:45:35.590Z"
   },
   {
    "duration": 29,
    "start_time": "2025-01-20T08:45:35.608Z"
   },
   {
    "duration": 10,
    "start_time": "2025-01-20T08:45:35.639Z"
   },
   {
    "duration": 15,
    "start_time": "2025-01-20T08:45:35.651Z"
   },
   {
    "duration": 8,
    "start_time": "2025-01-20T08:45:35.668Z"
   },
   {
    "duration": 21,
    "start_time": "2025-01-20T08:45:35.678Z"
   },
   {
    "duration": 24,
    "start_time": "2025-01-20T08:45:35.700Z"
   },
   {
    "duration": 23,
    "start_time": "2025-01-20T08:45:35.725Z"
   },
   {
    "duration": 22,
    "start_time": "2025-01-20T08:45:35.750Z"
   },
   {
    "duration": 19,
    "start_time": "2025-01-20T08:45:35.774Z"
   },
   {
    "duration": 17,
    "start_time": "2025-01-20T08:45:35.794Z"
   },
   {
    "duration": 4,
    "start_time": "2025-01-20T08:45:35.813Z"
   },
   {
    "duration": 21,
    "start_time": "2025-01-20T08:45:35.818Z"
   },
   {
    "duration": 24,
    "start_time": "2025-01-20T08:45:35.840Z"
   },
   {
    "duration": 44,
    "start_time": "2025-01-20T08:45:35.866Z"
   },
   {
    "duration": 38,
    "start_time": "2025-01-20T08:45:35.912Z"
   },
   {
    "duration": 23,
    "start_time": "2025-01-20T08:45:35.952Z"
   },
   {
    "duration": 15,
    "start_time": "2025-01-20T08:45:35.978Z"
   },
   {
    "duration": 6,
    "start_time": "2025-01-20T08:45:35.995Z"
   },
   {
    "duration": 8,
    "start_time": "2025-01-20T08:45:36.002Z"
   },
   {
    "duration": 15,
    "start_time": "2025-01-20T08:45:36.014Z"
   },
   {
    "duration": 13,
    "start_time": "2025-01-20T08:45:36.030Z"
   },
   {
    "duration": 7,
    "start_time": "2025-01-20T08:45:36.044Z"
   },
   {
    "duration": 24,
    "start_time": "2025-01-20T08:45:36.053Z"
   },
   {
    "duration": 161,
    "start_time": "2025-01-20T08:45:36.079Z"
   },
   {
    "duration": 4,
    "start_time": "2025-01-20T08:45:36.242Z"
   },
   {
    "duration": 48,
    "start_time": "2025-01-20T08:45:36.247Z"
   },
   {
    "duration": 6,
    "start_time": "2025-01-20T08:45:36.296Z"
   },
   {
    "duration": 207,
    "start_time": "2025-01-20T08:45:36.303Z"
   },
   {
    "duration": 7,
    "start_time": "2025-01-20T08:45:36.511Z"
   },
   {
    "duration": 19,
    "start_time": "2025-01-20T08:45:36.520Z"
   },
   {
    "duration": 39,
    "start_time": "2025-01-20T08:45:36.540Z"
   },
   {
    "duration": 182,
    "start_time": "2025-01-20T08:45:36.581Z"
   },
   {
    "duration": 6,
    "start_time": "2025-01-20T08:45:36.765Z"
   },
   {
    "duration": 20,
    "start_time": "2025-01-20T08:45:36.773Z"
   },
   {
    "duration": 147,
    "start_time": "2025-01-20T08:45:36.795Z"
   },
   {
    "duration": 281,
    "start_time": "2025-01-20T08:45:36.944Z"
   },
   {
    "duration": 13,
    "start_time": "2025-01-20T08:45:37.227Z"
   },
   {
    "duration": 55,
    "start_time": "2025-01-20T08:45:37.242Z"
   },
   {
    "duration": 14,
    "start_time": "2025-01-20T08:45:37.299Z"
   },
   {
    "duration": 18,
    "start_time": "2025-01-20T08:45:37.314Z"
   },
   {
    "duration": 177,
    "start_time": "2025-01-20T08:45:37.334Z"
   },
   {
    "duration": 136,
    "start_time": "2025-01-20T08:45:37.513Z"
   },
   {
    "duration": 7,
    "start_time": "2025-01-20T08:45:37.650Z"
   },
   {
    "duration": 13,
    "start_time": "2025-01-20T08:45:37.658Z"
   },
   {
    "duration": 183,
    "start_time": "2025-01-20T08:45:37.673Z"
   },
   {
    "duration": 187,
    "start_time": "2025-01-20T08:45:37.858Z"
   },
   {
    "duration": 9,
    "start_time": "2025-01-20T08:45:38.046Z"
   },
   {
    "duration": 255,
    "start_time": "2025-01-20T08:45:38.056Z"
   },
   {
    "duration": 4,
    "start_time": "2025-01-20T08:45:38.313Z"
   },
   {
    "duration": 28,
    "start_time": "2025-01-20T08:45:38.319Z"
   },
   {
    "duration": 12,
    "start_time": "2025-01-20T08:45:38.349Z"
   },
   {
    "duration": 5,
    "start_time": "2025-01-20T08:45:38.362Z"
   },
   {
    "duration": 675,
    "start_time": "2025-01-20T08:45:38.369Z"
   },
   {
    "duration": 5,
    "start_time": "2025-01-20T08:45:39.046Z"
   },
   {
    "duration": 6,
    "start_time": "2025-01-20T08:45:39.052Z"
   },
   {
    "duration": 3,
    "start_time": "2025-01-20T08:45:39.059Z"
   },
   {
    "duration": 245,
    "start_time": "2025-01-20T08:45:39.064Z"
   },
   {
    "duration": 5,
    "start_time": "2025-01-20T08:45:39.311Z"
   },
   {
    "duration": 13,
    "start_time": "2025-01-20T08:45:39.317Z"
   },
   {
    "duration": 3,
    "start_time": "2025-01-20T08:45:39.337Z"
   },
   {
    "duration": 4,
    "start_time": "2025-01-20T08:45:39.341Z"
   },
   {
    "duration": 4,
    "start_time": "2025-01-20T08:45:39.346Z"
   },
   {
    "duration": 31,
    "start_time": "2025-01-20T08:45:39.351Z"
   },
   {
    "duration": 6,
    "start_time": "2025-01-20T08:45:39.383Z"
   },
   {
    "duration": 161,
    "start_time": "2025-01-20T08:45:39.390Z"
   },
   {
    "duration": 7,
    "start_time": "2025-01-20T08:45:39.552Z"
   },
   {
    "duration": 4,
    "start_time": "2025-01-20T08:45:39.561Z"
   },
   {
    "duration": 6,
    "start_time": "2025-01-20T08:45:39.566Z"
   },
   {
    "duration": 11,
    "start_time": "2025-01-20T08:45:39.573Z"
   },
   {
    "duration": 272,
    "start_time": "2025-01-20T08:45:39.586Z"
   },
   {
    "duration": 4,
    "start_time": "2025-01-20T08:45:54.179Z"
   },
   {
    "duration": 3,
    "start_time": "2025-01-20T08:45:54.185Z"
   },
   {
    "duration": 11,
    "start_time": "2025-01-20T08:45:54.190Z"
   },
   {
    "duration": 2555,
    "start_time": "2025-01-20T08:45:54.203Z"
   },
   {
    "duration": 384,
    "start_time": "2025-01-20T08:45:56.760Z"
   },
   {
    "duration": 817,
    "start_time": "2025-01-20T08:45:57.146Z"
   },
   {
    "duration": 45,
    "start_time": "2025-01-20T08:45:57.964Z"
   },
   {
    "duration": 90,
    "start_time": "2025-01-20T08:45:58.011Z"
   },
   {
    "duration": 16,
    "start_time": "2025-01-20T08:45:58.103Z"
   },
   {
    "duration": 13,
    "start_time": "2025-01-20T08:45:58.120Z"
   },
   {
    "duration": 9,
    "start_time": "2025-01-20T08:45:58.136Z"
   },
   {
    "duration": 10,
    "start_time": "2025-01-20T08:45:58.147Z"
   },
   {
    "duration": 4,
    "start_time": "2025-01-20T08:45:58.158Z"
   },
   {
    "duration": 4,
    "start_time": "2025-01-20T08:45:58.163Z"
   },
   {
    "duration": 10,
    "start_time": "2025-01-20T08:45:58.168Z"
   },
   {
    "duration": 7,
    "start_time": "2025-01-20T08:45:58.180Z"
   },
   {
    "duration": 53,
    "start_time": "2025-01-20T08:45:58.189Z"
   },
   {
    "duration": 21,
    "start_time": "2025-01-20T08:45:58.244Z"
   },
   {
    "duration": 17,
    "start_time": "2025-01-20T08:45:58.266Z"
   },
   {
    "duration": 3,
    "start_time": "2025-01-20T08:45:58.285Z"
   },
   {
    "duration": 19,
    "start_time": "2025-01-20T08:45:58.290Z"
   },
   {
    "duration": 40,
    "start_time": "2025-01-20T08:45:58.310Z"
   },
   {
    "duration": 6,
    "start_time": "2025-01-20T08:45:58.351Z"
   },
   {
    "duration": 4,
    "start_time": "2025-01-20T08:45:58.361Z"
   },
   {
    "duration": 13,
    "start_time": "2025-01-20T08:45:58.367Z"
   },
   {
    "duration": 15,
    "start_time": "2025-01-20T08:45:58.381Z"
   },
   {
    "duration": 6,
    "start_time": "2025-01-20T08:45:58.397Z"
   },
   {
    "duration": 3,
    "start_time": "2025-01-20T08:45:58.437Z"
   },
   {
    "duration": 6,
    "start_time": "2025-01-20T08:45:58.442Z"
   },
   {
    "duration": 13,
    "start_time": "2025-01-20T08:45:58.450Z"
   },
   {
    "duration": 4,
    "start_time": "2025-01-20T08:45:58.465Z"
   },
   {
    "duration": 32,
    "start_time": "2025-01-20T08:45:58.470Z"
   },
   {
    "duration": 182,
    "start_time": "2025-01-20T08:45:58.504Z"
   },
   {
    "duration": 5,
    "start_time": "2025-01-20T08:45:58.687Z"
   },
   {
    "duration": 6,
    "start_time": "2025-01-20T08:45:58.693Z"
   },
   {
    "duration": 7,
    "start_time": "2025-01-20T08:45:58.700Z"
   },
   {
    "duration": 233,
    "start_time": "2025-01-20T08:45:58.709Z"
   },
   {
    "duration": 6,
    "start_time": "2025-01-20T08:45:58.943Z"
   },
   {
    "duration": 31,
    "start_time": "2025-01-20T08:45:58.950Z"
   },
   {
    "duration": 8,
    "start_time": "2025-01-20T08:45:58.982Z"
   },
   {
    "duration": 171,
    "start_time": "2025-01-20T08:45:58.992Z"
   },
   {
    "duration": 6,
    "start_time": "2025-01-20T08:45:59.165Z"
   },
   {
    "duration": 17,
    "start_time": "2025-01-20T08:45:59.173Z"
   },
   {
    "duration": 134,
    "start_time": "2025-01-20T08:45:59.192Z"
   },
   {
    "duration": 298,
    "start_time": "2025-01-20T08:45:59.328Z"
   },
   {
    "duration": 11,
    "start_time": "2025-01-20T08:45:59.627Z"
   },
   {
    "duration": 31,
    "start_time": "2025-01-20T08:45:59.639Z"
   },
   {
    "duration": 6,
    "start_time": "2025-01-20T08:45:59.672Z"
   },
   {
    "duration": 7,
    "start_time": "2025-01-20T08:45:59.680Z"
   },
   {
    "duration": 198,
    "start_time": "2025-01-20T08:45:59.689Z"
   },
   {
    "duration": 128,
    "start_time": "2025-01-20T08:45:59.888Z"
   },
   {
    "duration": 6,
    "start_time": "2025-01-20T08:46:00.018Z"
   },
   {
    "duration": 53,
    "start_time": "2025-01-20T08:46:00.025Z"
   },
   {
    "duration": 196,
    "start_time": "2025-01-20T08:46:00.080Z"
   },
   {
    "duration": 193,
    "start_time": "2025-01-20T08:46:00.277Z"
   },
   {
    "duration": 8,
    "start_time": "2025-01-20T08:46:00.472Z"
   },
   {
    "duration": 225,
    "start_time": "2025-01-20T08:46:00.482Z"
   },
   {
    "duration": 29,
    "start_time": "2025-01-20T08:46:00.708Z"
   },
   {
    "duration": 16,
    "start_time": "2025-01-20T08:46:00.739Z"
   },
   {
    "duration": 28,
    "start_time": "2025-01-20T08:46:00.757Z"
   },
   {
    "duration": 22,
    "start_time": "2025-01-20T08:46:00.787Z"
   },
   {
    "duration": 722,
    "start_time": "2025-01-20T08:46:00.811Z"
   },
   {
    "duration": 5,
    "start_time": "2025-01-20T08:46:01.538Z"
   },
   {
    "duration": 72,
    "start_time": "2025-01-20T08:46:01.544Z"
   },
   {
    "duration": 21,
    "start_time": "2025-01-20T08:46:01.618Z"
   },
   {
    "duration": 284,
    "start_time": "2025-01-20T08:46:01.641Z"
   },
   {
    "duration": 5,
    "start_time": "2025-01-20T08:46:01.927Z"
   },
   {
    "duration": 38,
    "start_time": "2025-01-20T08:46:01.937Z"
   },
   {
    "duration": 19,
    "start_time": "2025-01-20T08:46:01.980Z"
   },
   {
    "duration": 26,
    "start_time": "2025-01-20T08:46:02.001Z"
   },
   {
    "duration": 29,
    "start_time": "2025-01-20T08:46:02.029Z"
   },
   {
    "duration": 43,
    "start_time": "2025-01-20T08:46:02.060Z"
   },
   {
    "duration": 5,
    "start_time": "2025-01-20T08:46:02.105Z"
   },
   {
    "duration": 155,
    "start_time": "2025-01-20T08:46:02.111Z"
   },
   {
    "duration": 7,
    "start_time": "2025-01-20T08:46:02.267Z"
   },
   {
    "duration": 33,
    "start_time": "2025-01-20T08:46:02.276Z"
   },
   {
    "duration": 23,
    "start_time": "2025-01-20T08:46:02.311Z"
   },
   {
    "duration": 26,
    "start_time": "2025-01-20T08:46:02.336Z"
   },
   {
    "duration": 251,
    "start_time": "2025-01-20T08:46:02.364Z"
   },
   {
    "duration": 12,
    "start_time": "2025-01-20T08:46:11.254Z"
   },
   {
    "duration": 13,
    "start_time": "2025-01-20T08:46:11.735Z"
   },
   {
    "duration": 10,
    "start_time": "2025-01-20T08:46:11.975Z"
   },
   {
    "duration": 11,
    "start_time": "2025-01-20T08:46:12.248Z"
   },
   {
    "duration": 4,
    "start_time": "2025-01-20T08:46:12.527Z"
   },
   {
    "duration": 4,
    "start_time": "2025-01-20T08:46:12.847Z"
   },
   {
    "duration": 10,
    "start_time": "2025-01-20T08:46:13.199Z"
   },
   {
    "duration": 8,
    "start_time": "2025-01-20T08:46:13.535Z"
   },
   {
    "duration": 11,
    "start_time": "2025-01-20T08:46:14.726Z"
   },
   {
    "duration": 14,
    "start_time": "2025-01-20T08:46:14.976Z"
   },
   {
    "duration": 17,
    "start_time": "2025-01-20T08:46:15.247Z"
   },
   {
    "duration": 4,
    "start_time": "2025-01-20T08:46:15.742Z"
   },
   {
    "duration": 15,
    "start_time": "2025-01-20T08:46:15.967Z"
   },
   {
    "duration": 15,
    "start_time": "2025-01-20T08:46:16.223Z"
   },
   {
    "duration": 6,
    "start_time": "2025-01-20T08:46:16.688Z"
   },
   {
    "duration": 4,
    "start_time": "2025-01-20T08:46:16.943Z"
   },
   {
    "duration": 10,
    "start_time": "2025-01-20T08:46:17.191Z"
   },
   {
    "duration": 15,
    "start_time": "2025-01-20T08:46:17.711Z"
   },
   {
    "duration": 7,
    "start_time": "2025-01-20T08:46:18.031Z"
   },
   {
    "duration": 3,
    "start_time": "2025-01-20T08:46:18.703Z"
   },
   {
    "duration": 5,
    "start_time": "2025-01-20T08:46:18.976Z"
   },
   {
    "duration": 11,
    "start_time": "2025-01-20T08:46:19.689Z"
   },
   {
    "duration": 4,
    "start_time": "2025-01-20T08:46:21.839Z"
   },
   {
    "duration": 6,
    "start_time": "2025-01-20T08:46:22.232Z"
   },
   {
    "duration": 243,
    "start_time": "2025-01-20T08:46:22.584Z"
   },
   {
    "duration": 4,
    "start_time": "2025-01-20T08:46:23.831Z"
   },
   {
    "duration": 4,
    "start_time": "2025-01-20T08:46:24.200Z"
   },
   {
    "duration": 6,
    "start_time": "2025-01-20T08:46:24.584Z"
   },
   {
    "duration": 188,
    "start_time": "2025-01-20T08:46:24.920Z"
   },
   {
    "duration": 5,
    "start_time": "2025-01-20T08:46:25.199Z"
   },
   {
    "duration": 4,
    "start_time": "2025-01-20T08:46:25.464Z"
   },
   {
    "duration": 8,
    "start_time": "2025-01-20T08:46:25.759Z"
   },
   {
    "duration": 180,
    "start_time": "2025-01-20T08:46:26.016Z"
   },
   {
    "duration": 6,
    "start_time": "2025-01-20T08:46:26.815Z"
   },
   {
    "duration": 14,
    "start_time": "2025-01-20T08:46:27.128Z"
   },
   {
    "duration": 130,
    "start_time": "2025-01-20T08:46:27.416Z"
   },
   {
    "duration": 214,
    "start_time": "2025-01-20T08:46:27.743Z"
   },
   {
    "duration": 6,
    "start_time": "2025-01-20T08:46:28.895Z"
   },
   {
    "duration": 22,
    "start_time": "2025-01-20T08:46:29.296Z"
   },
   {
    "duration": 8,
    "start_time": "2025-01-20T08:46:29.608Z"
   },
   {
    "duration": 7,
    "start_time": "2025-01-20T08:46:29.977Z"
   },
   {
    "duration": 176,
    "start_time": "2025-01-20T08:46:30.304Z"
   },
   {
    "duration": 122,
    "start_time": "2025-01-20T08:46:30.687Z"
   },
   {
    "duration": 7,
    "start_time": "2025-01-20T08:46:31.807Z"
   },
   {
    "duration": 7,
    "start_time": "2025-01-20T08:46:32.248Z"
   },
   {
    "duration": 175,
    "start_time": "2025-01-20T08:46:32.640Z"
   },
   {
    "duration": 184,
    "start_time": "2025-01-20T08:46:34.047Z"
   },
   {
    "duration": 9,
    "start_time": "2025-01-20T08:46:34.423Z"
   },
   {
    "duration": 190,
    "start_time": "2025-01-20T08:46:35.087Z"
   },
   {
    "duration": 5,
    "start_time": "2025-01-20T08:46:35.496Z"
   },
   {
    "duration": 15,
    "start_time": "2025-01-20T08:46:36.344Z"
   },
   {
    "duration": 12,
    "start_time": "2025-01-20T08:46:37.360Z"
   },
   {
    "duration": 5,
    "start_time": "2025-01-20T08:46:38.496Z"
   },
   {
    "duration": 741,
    "start_time": "2025-01-20T08:46:39.104Z"
   },
   {
    "duration": 5,
    "start_time": "2025-01-20T08:46:41.087Z"
   },
   {
    "duration": 6,
    "start_time": "2025-01-20T08:46:41.487Z"
   },
   {
    "duration": 4,
    "start_time": "2025-01-20T08:46:41.696Z"
   },
   {
    "duration": 232,
    "start_time": "2025-01-20T08:46:42.176Z"
   },
   {
    "duration": 5,
    "start_time": "2025-01-20T08:46:42.482Z"
   },
   {
    "duration": 4,
    "start_time": "2025-01-20T08:46:43.072Z"
   },
   {
    "duration": 5,
    "start_time": "2025-01-20T08:46:43.528Z"
   },
   {
    "duration": 3,
    "start_time": "2025-01-20T08:46:43.952Z"
   },
   {
    "duration": 4,
    "start_time": "2025-01-20T08:46:44.415Z"
   },
   {
    "duration": 31,
    "start_time": "2025-01-20T08:46:44.864Z"
   },
   {
    "duration": 6,
    "start_time": "2025-01-20T08:46:45.161Z"
   },
   {
    "duration": 139,
    "start_time": "2025-01-20T08:46:45.448Z"
   },
   {
    "duration": 7,
    "start_time": "2025-01-20T08:46:45.768Z"
   },
   {
    "duration": 5,
    "start_time": "2025-01-20T08:46:46.855Z"
   },
   {
    "duration": 5,
    "start_time": "2025-01-20T08:46:47.152Z"
   },
   {
    "duration": 7,
    "start_time": "2025-01-20T08:46:47.488Z"
   },
   {
    "duration": 232,
    "start_time": "2025-01-20T08:46:47.760Z"
   },
   {
    "duration": 4,
    "start_time": "2025-01-20T23:49:16.941Z"
   },
   {
    "duration": 21,
    "start_time": "2025-01-20T23:49:16.947Z"
   },
   {
    "duration": 10,
    "start_time": "2025-01-20T23:49:16.970Z"
   },
   {
    "duration": 2417,
    "start_time": "2025-01-20T23:49:16.981Z"
   },
   {
    "duration": 431,
    "start_time": "2025-01-20T23:49:19.400Z"
   },
   {
    "duration": 816,
    "start_time": "2025-01-20T23:49:19.832Z"
   },
   {
    "duration": 273,
    "start_time": "2025-01-20T23:49:20.650Z"
   },
   {
    "duration": 326,
    "start_time": "2025-01-20T23:49:20.925Z"
   },
   {
    "duration": 16,
    "start_time": "2025-01-20T23:49:21.252Z"
   },
   {
    "duration": 36,
    "start_time": "2025-01-20T23:49:21.270Z"
   },
   {
    "duration": 10,
    "start_time": "2025-01-20T23:49:21.309Z"
   },
   {
    "duration": 11,
    "start_time": "2025-01-20T23:49:21.321Z"
   },
   {
    "duration": 9,
    "start_time": "2025-01-20T23:49:21.334Z"
   },
   {
    "duration": 9,
    "start_time": "2025-01-20T23:49:21.346Z"
   },
   {
    "duration": 12,
    "start_time": "2025-01-20T23:49:21.357Z"
   },
   {
    "duration": 8,
    "start_time": "2025-01-20T23:49:21.371Z"
   },
   {
    "duration": 42,
    "start_time": "2025-01-20T23:49:21.381Z"
   },
   {
    "duration": 16,
    "start_time": "2025-01-20T23:49:21.425Z"
   },
   {
    "duration": 18,
    "start_time": "2025-01-20T23:49:21.443Z"
   },
   {
    "duration": 5,
    "start_time": "2025-01-20T23:49:21.463Z"
   },
   {
    "duration": 46,
    "start_time": "2025-01-20T23:49:21.470Z"
   },
   {
    "duration": 14,
    "start_time": "2025-01-20T23:49:21.518Z"
   },
   {
    "duration": 56,
    "start_time": "2025-01-20T23:49:21.533Z"
   },
   {
    "duration": 10,
    "start_time": "2025-01-20T23:49:21.591Z"
   },
   {
    "duration": 10,
    "start_time": "2025-01-20T23:49:21.602Z"
   },
   {
    "duration": 15,
    "start_time": "2025-01-20T23:49:21.613Z"
   },
   {
    "duration": 5,
    "start_time": "2025-01-20T23:49:21.629Z"
   },
   {
    "duration": 2,
    "start_time": "2025-01-20T23:49:21.636Z"
   },
   {
    "duration": 5,
    "start_time": "2025-01-20T23:49:21.642Z"
   },
   {
    "duration": 14,
    "start_time": "2025-01-20T23:49:21.648Z"
   },
   {
    "duration": 4,
    "start_time": "2025-01-20T23:49:21.663Z"
   },
   {
    "duration": 8,
    "start_time": "2025-01-20T23:49:21.668Z"
   },
   {
    "duration": 224,
    "start_time": "2025-01-20T23:49:21.677Z"
   },
   {
    "duration": 4,
    "start_time": "2025-01-20T23:49:21.903Z"
   },
   {
    "duration": 4,
    "start_time": "2025-01-20T23:49:21.914Z"
   },
   {
    "duration": 12,
    "start_time": "2025-01-20T23:49:21.920Z"
   },
   {
    "duration": 201,
    "start_time": "2025-01-20T23:49:21.933Z"
   },
   {
    "duration": 4,
    "start_time": "2025-01-20T23:49:22.136Z"
   },
   {
    "duration": 5,
    "start_time": "2025-01-20T23:49:22.142Z"
   },
   {
    "duration": 12,
    "start_time": "2025-01-20T23:49:22.149Z"
   },
   {
    "duration": 197,
    "start_time": "2025-01-20T23:49:22.163Z"
   },
   {
    "duration": 6,
    "start_time": "2025-01-20T23:49:22.362Z"
   },
   {
    "duration": 16,
    "start_time": "2025-01-20T23:49:22.370Z"
   },
   {
    "duration": 150,
    "start_time": "2025-01-20T23:49:22.388Z"
   },
   {
    "duration": 297,
    "start_time": "2025-01-20T23:49:22.540Z"
   },
   {
    "duration": 7,
    "start_time": "2025-01-20T23:49:22.838Z"
   },
   {
    "duration": 35,
    "start_time": "2025-01-20T23:49:22.846Z"
   },
   {
    "duration": 10,
    "start_time": "2025-01-20T23:49:22.883Z"
   },
   {
    "duration": 6,
    "start_time": "2025-01-20T23:49:22.895Z"
   },
   {
    "duration": 192,
    "start_time": "2025-01-20T23:49:22.916Z"
   },
   {
    "duration": 133,
    "start_time": "2025-01-20T23:49:23.110Z"
   },
   {
    "duration": 7,
    "start_time": "2025-01-20T23:49:23.245Z"
   },
   {
    "duration": 57,
    "start_time": "2025-01-20T23:49:23.253Z"
   },
   {
    "duration": 170,
    "start_time": "2025-01-20T23:49:23.312Z"
   },
   {
    "duration": 198,
    "start_time": "2025-01-20T23:49:23.484Z"
   },
   {
    "duration": 8,
    "start_time": "2025-01-20T23:49:23.683Z"
   },
   {
    "duration": 255,
    "start_time": "2025-01-20T23:49:23.693Z"
   },
   {
    "duration": 6,
    "start_time": "2025-01-20T23:49:23.949Z"
   },
   {
    "duration": 16,
    "start_time": "2025-01-20T23:49:23.956Z"
   },
   {
    "duration": 12,
    "start_time": "2025-01-20T23:49:23.974Z"
   },
   {
    "duration": 62,
    "start_time": "2025-01-20T23:49:23.987Z"
   },
   {
    "duration": 638,
    "start_time": "2025-01-20T23:49:24.051Z"
   },
   {
    "duration": 5,
    "start_time": "2025-01-20T23:49:24.691Z"
   },
   {
    "duration": 18,
    "start_time": "2025-01-20T23:49:24.697Z"
   },
   {
    "duration": 4,
    "start_time": "2025-01-20T23:49:24.716Z"
   },
   {
    "duration": 247,
    "start_time": "2025-01-20T23:49:24.721Z"
   },
   {
    "duration": 6,
    "start_time": "2025-01-20T23:49:24.970Z"
   },
   {
    "duration": 7,
    "start_time": "2025-01-20T23:49:24.977Z"
   },
   {
    "duration": 29,
    "start_time": "2025-01-20T23:49:24.986Z"
   },
   {
    "duration": 6,
    "start_time": "2025-01-20T23:49:25.017Z"
   },
   {
    "duration": 14,
    "start_time": "2025-01-20T23:49:25.025Z"
   },
   {
    "duration": 37,
    "start_time": "2025-01-20T23:49:25.041Z"
   },
   {
    "duration": 5,
    "start_time": "2025-01-20T23:49:25.080Z"
   },
   {
    "duration": 152,
    "start_time": "2025-01-20T23:49:25.087Z"
   },
   {
    "duration": 7,
    "start_time": "2025-01-20T23:49:25.241Z"
   },
   {
    "duration": 44,
    "start_time": "2025-01-20T23:49:25.250Z"
   },
   {
    "duration": 6,
    "start_time": "2025-01-20T23:49:25.295Z"
   },
   {
    "duration": 16,
    "start_time": "2025-01-20T23:49:25.303Z"
   },
   {
    "duration": 244,
    "start_time": "2025-01-20T23:49:25.320Z"
   },
   {
    "duration": 57,
    "start_time": "2025-01-21T07:12:11.538Z"
   },
   {
    "duration": 49,
    "start_time": "2025-01-21T11:47:06.431Z"
   },
   {
    "duration": 3,
    "start_time": "2025-01-21T11:47:15.894Z"
   },
   {
    "duration": 3,
    "start_time": "2025-01-21T11:47:15.900Z"
   },
   {
    "duration": 4,
    "start_time": "2025-01-21T11:47:15.905Z"
   },
   {
    "duration": 3828,
    "start_time": "2025-01-21T11:47:15.910Z"
   },
   {
    "duration": 553,
    "start_time": "2025-01-21T11:47:19.741Z"
   },
   {
    "duration": 1202,
    "start_time": "2025-01-21T11:47:20.295Z"
   },
   {
    "duration": 50,
    "start_time": "2025-01-21T11:47:21.499Z"
   },
   {
    "duration": 249,
    "start_time": "2025-01-21T11:47:21.551Z"
   },
   {
    "duration": 16,
    "start_time": "2025-01-21T11:47:21.801Z"
   },
   {
    "duration": 12,
    "start_time": "2025-01-21T11:47:21.821Z"
   },
   {
    "duration": 8,
    "start_time": "2025-01-21T11:47:21.835Z"
   },
   {
    "duration": 13,
    "start_time": "2025-01-21T11:47:21.845Z"
   },
   {
    "duration": 3,
    "start_time": "2025-01-21T11:47:21.859Z"
   },
   {
    "duration": 23,
    "start_time": "2025-01-21T11:47:21.863Z"
   },
   {
    "duration": 28,
    "start_time": "2025-01-21T11:47:21.888Z"
   },
   {
    "duration": 10,
    "start_time": "2025-01-21T11:47:21.918Z"
   },
   {
    "duration": 31,
    "start_time": "2025-01-21T11:47:21.929Z"
   },
   {
    "duration": 12,
    "start_time": "2025-01-21T11:47:21.962Z"
   },
   {
    "duration": 31,
    "start_time": "2025-01-21T11:47:21.976Z"
   },
   {
    "duration": 3,
    "start_time": "2025-01-21T11:47:22.009Z"
   },
   {
    "duration": 21,
    "start_time": "2025-01-21T11:47:22.013Z"
   },
   {
    "duration": 12,
    "start_time": "2025-01-21T11:47:22.036Z"
   },
   {
    "duration": 61,
    "start_time": "2025-01-21T11:47:22.049Z"
   },
   {
    "duration": 5,
    "start_time": "2025-01-21T11:47:22.112Z"
   },
   {
    "duration": 22,
    "start_time": "2025-01-21T11:47:22.120Z"
   },
   {
    "duration": 14,
    "start_time": "2025-01-21T11:47:22.144Z"
   },
   {
    "duration": 5,
    "start_time": "2025-01-21T11:47:22.159Z"
   },
   {
    "duration": 4,
    "start_time": "2025-01-21T11:47:22.166Z"
   },
   {
    "duration": 16,
    "start_time": "2025-01-21T11:47:22.172Z"
   },
   {
    "duration": 15,
    "start_time": "2025-01-21T11:47:22.190Z"
   },
   {
    "duration": 3,
    "start_time": "2025-01-21T11:47:22.207Z"
   },
   {
    "duration": 8,
    "start_time": "2025-01-21T11:47:22.212Z"
   },
   {
    "duration": 16,
    "start_time": "2025-01-21T11:47:22.222Z"
   },
   {
    "duration": 156,
    "start_time": "2025-01-21T11:47:22.240Z"
   },
   {
    "duration": 4,
    "start_time": "2025-01-21T11:47:22.398Z"
   },
   {
    "duration": 18,
    "start_time": "2025-01-21T11:47:22.404Z"
   },
   {
    "duration": 12,
    "start_time": "2025-01-21T11:47:22.423Z"
   },
   {
    "duration": 257,
    "start_time": "2025-01-21T11:47:22.437Z"
   },
   {
    "duration": 5,
    "start_time": "2025-01-21T11:47:22.695Z"
   },
   {
    "duration": 20,
    "start_time": "2025-01-21T11:47:22.701Z"
   },
   {
    "duration": 15,
    "start_time": "2025-01-21T11:47:22.722Z"
   },
   {
    "duration": 174,
    "start_time": "2025-01-21T11:47:22.739Z"
   },
   {
    "duration": 6,
    "start_time": "2025-01-21T11:47:22.914Z"
   },
   {
    "duration": 14,
    "start_time": "2025-01-21T11:47:22.921Z"
   },
   {
    "duration": 151,
    "start_time": "2025-01-21T11:47:22.937Z"
   },
   {
    "duration": 260,
    "start_time": "2025-01-21T11:47:23.089Z"
   },
   {
    "duration": 5,
    "start_time": "2025-01-21T11:47:23.351Z"
   },
   {
    "duration": 32,
    "start_time": "2025-01-21T11:47:23.357Z"
   },
   {
    "duration": 6,
    "start_time": "2025-01-21T11:47:23.390Z"
   },
   {
    "duration": 29,
    "start_time": "2025-01-21T11:47:23.397Z"
   },
   {
    "duration": 177,
    "start_time": "2025-01-21T11:47:23.427Z"
   },
   {
    "duration": 129,
    "start_time": "2025-01-21T11:47:23.605Z"
   },
   {
    "duration": 6,
    "start_time": "2025-01-21T11:47:23.736Z"
   },
   {
    "duration": 10,
    "start_time": "2025-01-21T11:47:23.743Z"
   },
   {
    "duration": 175,
    "start_time": "2025-01-21T11:47:23.754Z"
   },
   {
    "duration": 178,
    "start_time": "2025-01-21T11:47:23.931Z"
   },
   {
    "duration": 8,
    "start_time": "2025-01-21T11:47:24.110Z"
   },
   {
    "duration": 283,
    "start_time": "2025-01-21T11:47:24.119Z"
   },
   {
    "duration": 5,
    "start_time": "2025-01-21T11:47:24.403Z"
   },
   {
    "duration": 18,
    "start_time": "2025-01-21T11:47:24.410Z"
   },
   {
    "duration": 11,
    "start_time": "2025-01-21T11:47:24.429Z"
   },
   {
    "duration": 65,
    "start_time": "2025-01-21T11:47:24.442Z"
   },
   {
    "duration": 577,
    "start_time": "2025-01-21T11:47:24.509Z"
   },
   {
    "duration": 5,
    "start_time": "2025-01-21T11:47:25.087Z"
   },
   {
    "duration": 19,
    "start_time": "2025-01-21T11:47:25.093Z"
   },
   {
    "duration": 16,
    "start_time": "2025-01-21T11:47:25.113Z"
   },
   {
    "duration": 237,
    "start_time": "2025-01-21T11:47:25.130Z"
   },
   {
    "duration": 4,
    "start_time": "2025-01-21T11:47:25.369Z"
   },
   {
    "duration": 13,
    "start_time": "2025-01-21T11:47:25.374Z"
   },
   {
    "duration": 3,
    "start_time": "2025-01-21T11:47:25.392Z"
   },
   {
    "duration": 17,
    "start_time": "2025-01-21T11:47:25.396Z"
   },
   {
    "duration": 17,
    "start_time": "2025-01-21T11:47:25.414Z"
   },
   {
    "duration": 34,
    "start_time": "2025-01-21T11:47:25.432Z"
   },
   {
    "duration": 4,
    "start_time": "2025-01-21T11:47:25.468Z"
   },
   {
    "duration": 138,
    "start_time": "2025-01-21T11:47:25.473Z"
   },
   {
    "duration": 7,
    "start_time": "2025-01-21T11:47:25.613Z"
   },
   {
    "duration": 21,
    "start_time": "2025-01-21T11:47:25.622Z"
   },
   {
    "duration": 12,
    "start_time": "2025-01-21T11:47:25.644Z"
   },
   {
    "duration": 14,
    "start_time": "2025-01-21T11:47:25.658Z"
   },
   {
    "duration": 230,
    "start_time": "2025-01-21T11:47:25.673Z"
   },
   {
    "duration": 4,
    "start_time": "2025-01-21T11:47:33.391Z"
   },
   {
    "duration": 13,
    "start_time": "2025-01-21T11:47:35.469Z"
   },
   {
    "duration": 15,
    "start_time": "2025-01-21T11:47:42.223Z"
   },
   {
    "duration": 6,
    "start_time": "2025-01-21T11:47:50.799Z"
   },
   {
    "duration": 4,
    "start_time": "2025-01-21T11:47:51.575Z"
   },
   {
    "duration": 11,
    "start_time": "2025-01-21T11:48:07.294Z"
   },
   {
    "duration": 16,
    "start_time": "2025-01-21T11:48:08.826Z"
   },
   {
    "duration": 4,
    "start_time": "2025-01-21T11:48:42.071Z"
   },
   {
    "duration": 13,
    "start_time": "2025-01-21T11:48:45.043Z"
   },
   {
    "duration": 14,
    "start_time": "2025-01-21T11:48:45.748Z"
   },
   {
    "duration": 6,
    "start_time": "2025-01-21T11:48:47.323Z"
   },
   {
    "duration": 4,
    "start_time": "2025-01-21T11:48:48.012Z"
   },
   {
    "duration": 8,
    "start_time": "2025-01-21T11:48:49.900Z"
   },
   {
    "duration": 16,
    "start_time": "2025-01-21T11:48:54.083Z"
   },
   {
    "duration": 6,
    "start_time": "2025-01-21T11:48:55.323Z"
   },
   {
    "duration": 2,
    "start_time": "2025-01-21T11:49:56.817Z"
   },
   {
    "duration": 5,
    "start_time": "2025-01-21T11:49:57.417Z"
   },
   {
    "duration": 9,
    "start_time": "2025-01-21T11:49:59.050Z"
   },
   {
    "duration": 4,
    "start_time": "2025-01-21T11:50:07.025Z"
   },
   {
    "duration": 5,
    "start_time": "2025-01-21T11:51:42.947Z"
   },
   {
    "duration": 7,
    "start_time": "2025-01-21T11:51:47.701Z"
   },
   {
    "duration": 207,
    "start_time": "2025-01-21T11:51:49.018Z"
   },
   {
    "duration": 4,
    "start_time": "2025-01-21T11:52:01.298Z"
   },
   {
    "duration": 5,
    "start_time": "2025-01-21T11:52:02.036Z"
   },
   {
    "duration": 6,
    "start_time": "2025-01-21T11:52:04.219Z"
   },
   {
    "duration": 186,
    "start_time": "2025-01-21T11:52:05.148Z"
   },
   {
    "duration": 5,
    "start_time": "2025-01-21T11:52:10.667Z"
   },
   {
    "duration": 4,
    "start_time": "2025-01-21T11:52:20.997Z"
   },
   {
    "duration": 4,
    "start_time": "2025-01-21T11:52:45.804Z"
   },
   {
    "duration": 6,
    "start_time": "2025-01-21T11:52:49.511Z"
   },
   {
    "duration": 161,
    "start_time": "2025-01-21T11:52:50.364Z"
   },
   {
    "duration": 219,
    "start_time": "2025-01-21T11:54:19.814Z"
   },
   {
    "duration": 118,
    "start_time": "2025-01-21T11:54:35.511Z"
   },
   {
    "duration": 188,
    "start_time": "2025-01-21T11:54:40.432Z"
   },
   {
    "duration": 183,
    "start_time": "2025-01-21T11:55:40.332Z"
   },
   {
    "duration": 4,
    "start_time": "2025-01-21T12:26:48.399Z"
   },
   {
    "duration": 4,
    "start_time": "2025-01-21T12:26:49.231Z"
   },
   {
    "duration": 4,
    "start_time": "2025-01-21T12:26:50.368Z"
   },
   {
    "duration": 4,
    "start_time": "2025-01-21T12:39:35.999Z"
   },
   {
    "duration": 4,
    "start_time": "2025-01-21T12:39:49.087Z"
   },
   {
    "duration": 3,
    "start_time": "2025-01-21T12:40:34.976Z"
   },
   {
    "duration": 4,
    "start_time": "2025-01-21T12:40:42.277Z"
   },
   {
    "duration": 5,
    "start_time": "2025-01-21T12:41:04.760Z"
   },
   {
    "duration": 3,
    "start_time": "2025-01-21T12:43:08.420Z"
   },
   {
    "duration": 5,
    "start_time": "2025-01-21T12:43:21.299Z"
   },
   {
    "duration": 5,
    "start_time": "2025-01-21T12:43:42.764Z"
   },
   {
    "duration": 102,
    "start_time": "2025-01-21T12:52:17.074Z"
   },
   {
    "duration": 4,
    "start_time": "2025-01-21T12:52:25.042Z"
   },
   {
    "duration": 10,
    "start_time": "2025-01-21T12:52:42.859Z"
   },
   {
    "duration": 4,
    "start_time": "2025-01-21T12:52:57.095Z"
   },
   {
    "duration": 5,
    "start_time": "2025-01-21T12:53:14.239Z"
   },
   {
    "duration": 5,
    "start_time": "2025-01-21T12:53:53.795Z"
   },
   {
    "duration": 13,
    "start_time": "2025-01-21T12:53:54.496Z"
   },
   {
    "duration": 113,
    "start_time": "2025-01-21T12:53:55.670Z"
   },
   {
    "duration": 9,
    "start_time": "2025-01-21T12:54:25.885Z"
   },
   {
    "duration": 199,
    "start_time": "2025-01-21T12:55:02.650Z"
   },
   {
    "duration": 14,
    "start_time": "2025-01-21T12:56:05.787Z"
   },
   {
    "duration": 119,
    "start_time": "2025-01-21T12:56:13.814Z"
   },
   {
    "duration": 115,
    "start_time": "2025-01-21T13:00:15.947Z"
   },
   {
    "duration": 16,
    "start_time": "2025-01-21T13:00:37.096Z"
   },
   {
    "duration": 12,
    "start_time": "2025-01-21T13:00:46.424Z"
   },
   {
    "duration": 11,
    "start_time": "2025-01-21T13:01:00.344Z"
   },
   {
    "duration": 12,
    "start_time": "2025-01-21T13:01:37.853Z"
   },
   {
    "duration": 88,
    "start_time": "2025-01-21T13:02:17.501Z"
   },
   {
    "duration": 85,
    "start_time": "2025-01-21T13:02:40.354Z"
   },
   {
    "duration": 205,
    "start_time": "2025-01-21T13:13:50.139Z"
   },
   {
    "duration": 242,
    "start_time": "2025-01-21T13:27:59.676Z"
   },
   {
    "duration": 197,
    "start_time": "2025-01-21T13:28:18.531Z"
   },
   {
    "duration": 195,
    "start_time": "2025-01-21T13:28:43.856Z"
   },
   {
    "duration": 112,
    "start_time": "2025-01-21T13:33:25.957Z"
   },
   {
    "duration": 208,
    "start_time": "2025-01-21T13:33:36.285Z"
   },
   {
    "duration": 197,
    "start_time": "2025-01-21T13:33:47.064Z"
   },
   {
    "duration": 200,
    "start_time": "2025-01-21T13:35:22.580Z"
   },
   {
    "duration": 198,
    "start_time": "2025-01-21T13:35:46.157Z"
   },
   {
    "duration": 264,
    "start_time": "2025-01-21T13:37:30.230Z"
   },
   {
    "duration": 250,
    "start_time": "2025-01-21T13:39:52.330Z"
   },
   {
    "duration": 259,
    "start_time": "2025-01-21T13:40:21.729Z"
   },
   {
    "duration": 253,
    "start_time": "2025-01-21T13:40:31.465Z"
   },
   {
    "duration": 243,
    "start_time": "2025-01-21T13:40:41.838Z"
   },
   {
    "duration": 343,
    "start_time": "2025-01-21T13:41:18.495Z"
   },
   {
    "duration": 264,
    "start_time": "2025-01-21T13:41:24.223Z"
   },
   {
    "duration": 266,
    "start_time": "2025-01-21T13:41:46.883Z"
   },
   {
    "duration": 262,
    "start_time": "2025-01-21T13:41:58.724Z"
   },
   {
    "duration": 261,
    "start_time": "2025-01-21T13:42:06.436Z"
   },
   {
    "duration": 273,
    "start_time": "2025-01-21T13:42:15.260Z"
   },
   {
    "duration": 260,
    "start_time": "2025-01-21T13:42:28.572Z"
   },
   {
    "duration": 15,
    "start_time": "2025-01-21T13:47:31.298Z"
   },
   {
    "duration": 169,
    "start_time": "2025-01-21T13:47:46.870Z"
   },
   {
    "duration": 254,
    "start_time": "2025-01-21T13:48:30.079Z"
   },
   {
    "duration": 252,
    "start_time": "2025-01-21T13:50:24.073Z"
   },
   {
    "duration": 251,
    "start_time": "2025-01-21T13:50:47.730Z"
   },
   {
    "duration": 4,
    "start_time": "2025-01-21T13:55:47.255Z"
   },
   {
    "duration": 7,
    "start_time": "2025-01-21T13:55:58.975Z"
   },
   {
    "duration": 4,
    "start_time": "2025-01-21T13:57:13.981Z"
   },
   {
    "duration": 10,
    "start_time": "2025-01-21T13:57:24.360Z"
   },
   {
    "duration": 249,
    "start_time": "2025-01-21T13:57:59.969Z"
   },
   {
    "duration": 10,
    "start_time": "2025-01-21T13:58:44.575Z"
   },
   {
    "duration": 9,
    "start_time": "2025-01-21T13:58:51.311Z"
   },
   {
    "duration": 176,
    "start_time": "2025-01-21T13:59:15.103Z"
   },
   {
    "duration": 3,
    "start_time": "2025-01-21T13:59:24.079Z"
   },
   {
    "duration": 7,
    "start_time": "2025-01-21T13:59:25.111Z"
   },
   {
    "duration": 9,
    "start_time": "2025-01-21T14:00:22.133Z"
   },
   {
    "duration": 9,
    "start_time": "2025-01-21T14:00:26.868Z"
   },
   {
    "duration": 3,
    "start_time": "2025-01-21T14:00:27.739Z"
   },
   {
    "duration": 6,
    "start_time": "2025-01-21T14:00:30.804Z"
   },
   {
    "duration": 6,
    "start_time": "2025-01-21T14:00:34.059Z"
   },
   {
    "duration": 3,
    "start_time": "2025-01-21T14:00:37.580Z"
   },
   {
    "duration": 6,
    "start_time": "2025-01-21T14:00:38.108Z"
   },
   {
    "duration": 189,
    "start_time": "2025-01-21T14:00:41.236Z"
   },
   {
    "duration": 281,
    "start_time": "2025-01-21T14:00:49.259Z"
   },
   {
    "duration": 194,
    "start_time": "2025-01-21T14:01:14.986Z"
   },
   {
    "duration": 9,
    "start_time": "2025-01-21T14:02:42.743Z"
   },
   {
    "duration": 5,
    "start_time": "2025-01-21T14:15:57.816Z"
   },
   {
    "duration": 21,
    "start_time": "2025-01-21T14:16:11.176Z"
   },
   {
    "duration": 6,
    "start_time": "2025-01-21T14:16:16.041Z"
   },
   {
    "duration": 7,
    "start_time": "2025-01-21T14:16:17.165Z"
   },
   {
    "duration": 165,
    "start_time": "2025-01-21T14:16:21.544Z"
   },
   {
    "duration": 169,
    "start_time": "2025-01-21T14:16:35.862Z"
   },
   {
    "duration": 167,
    "start_time": "2025-01-21T14:16:56.798Z"
   },
   {
    "duration": 168,
    "start_time": "2025-01-21T14:17:11.591Z"
   },
   {
    "duration": 116,
    "start_time": "2025-01-21T14:17:24.742Z"
   },
   {
    "duration": 12,
    "start_time": "2025-01-21T14:49:34.136Z"
   },
   {
    "duration": 6,
    "start_time": "2025-01-21T14:49:45.464Z"
   },
   {
    "duration": 160,
    "start_time": "2025-01-21T14:50:25.781Z"
   },
   {
    "duration": 166,
    "start_time": "2025-01-21T14:51:23.281Z"
   },
   {
    "duration": 8,
    "start_time": "2025-01-21T14:51:24.466Z"
   },
   {
    "duration": 239,
    "start_time": "2025-01-21T14:51:32.289Z"
   },
   {
    "duration": 181,
    "start_time": "2025-01-21T14:54:16.454Z"
   },
   {
    "duration": 118,
    "start_time": "2025-01-21T14:54:53.242Z"
   },
   {
    "duration": 117,
    "start_time": "2025-01-21T14:55:06.883Z"
   },
   {
    "duration": 191,
    "start_time": "2025-01-21T14:55:17.139Z"
   },
   {
    "duration": 7,
    "start_time": "2025-01-21T14:55:45.879Z"
   },
   {
    "duration": 9,
    "start_time": "2025-01-21T15:13:06.020Z"
   },
   {
    "duration": 125,
    "start_time": "2025-01-21T15:14:51.258Z"
   },
   {
    "duration": 19,
    "start_time": "2025-01-21T15:14:58.746Z"
   },
   {
    "duration": 19,
    "start_time": "2025-01-21T15:15:36.039Z"
   },
   {
    "duration": 16,
    "start_time": "2025-01-21T15:15:59.687Z"
   },
   {
    "duration": 22,
    "start_time": "2025-01-21T15:16:20.003Z"
   },
   {
    "duration": 14,
    "start_time": "2025-01-21T15:16:35.020Z"
   },
   {
    "duration": 14,
    "start_time": "2025-01-21T15:17:06.076Z"
   },
   {
    "duration": 10,
    "start_time": "2025-01-21T15:17:41.186Z"
   },
   {
    "duration": 14,
    "start_time": "2025-01-21T15:17:49.865Z"
   },
   {
    "duration": 103,
    "start_time": "2025-01-21T15:22:38.351Z"
   },
   {
    "duration": 9,
    "start_time": "2025-01-21T15:22:48.831Z"
   },
   {
    "duration": 3,
    "start_time": "2025-01-21T15:23:23.091Z"
   },
   {
    "duration": 3,
    "start_time": "2025-01-21T15:23:33.508Z"
   },
   {
    "duration": 6,
    "start_time": "2025-01-21T15:29:46.935Z"
   },
   {
    "duration": 10,
    "start_time": "2025-01-21T15:30:01.576Z"
   },
   {
    "duration": 7,
    "start_time": "2025-01-21T15:30:10.663Z"
   },
   {
    "duration": 8,
    "start_time": "2025-01-21T15:30:25.488Z"
   },
   {
    "duration": 330,
    "start_time": "2025-01-21T15:38:36.686Z"
   },
   {
    "duration": 225,
    "start_time": "2025-01-21T15:39:08.314Z"
   },
   {
    "duration": 8,
    "start_time": "2025-01-21T16:11:10.215Z"
   },
   {
    "duration": 8,
    "start_time": "2025-01-21T16:11:18.824Z"
   },
   {
    "duration": 3,
    "start_time": "2025-01-21T16:17:35.860Z"
   },
   {
    "duration": 21,
    "start_time": "2025-01-21T16:17:35.866Z"
   },
   {
    "duration": 27,
    "start_time": "2025-01-21T16:17:35.889Z"
   },
   {
    "duration": 2749,
    "start_time": "2025-01-21T16:17:35.918Z"
   },
   {
    "duration": 420,
    "start_time": "2025-01-21T16:17:38.669Z"
   },
   {
    "duration": 783,
    "start_time": "2025-01-21T16:17:39.091Z"
   },
   {
    "duration": 51,
    "start_time": "2025-01-21T16:17:39.876Z"
   },
   {
    "duration": 87,
    "start_time": "2025-01-21T16:17:39.929Z"
   },
   {
    "duration": 15,
    "start_time": "2025-01-21T16:17:40.017Z"
   },
   {
    "duration": 12,
    "start_time": "2025-01-21T16:17:40.033Z"
   },
   {
    "duration": 20,
    "start_time": "2025-01-21T16:17:40.047Z"
   },
   {
    "duration": 24,
    "start_time": "2025-01-21T16:17:40.068Z"
   },
   {
    "duration": 3,
    "start_time": "2025-01-21T16:17:40.094Z"
   },
   {
    "duration": 12,
    "start_time": "2025-01-21T16:17:40.099Z"
   },
   {
    "duration": 18,
    "start_time": "2025-01-21T16:17:40.113Z"
   },
   {
    "duration": 6,
    "start_time": "2025-01-21T16:17:40.132Z"
   },
   {
    "duration": 62,
    "start_time": "2025-01-21T16:17:40.139Z"
   },
   {
    "duration": 14,
    "start_time": "2025-01-21T16:17:40.203Z"
   },
   {
    "duration": 15,
    "start_time": "2025-01-21T16:17:40.219Z"
   },
   {
    "duration": 53,
    "start_time": "2025-01-21T16:17:40.235Z"
   },
   {
    "duration": 17,
    "start_time": "2025-01-21T16:17:40.289Z"
   },
   {
    "duration": 12,
    "start_time": "2025-01-21T16:17:40.308Z"
   },
   {
    "duration": 7,
    "start_time": "2025-01-21T16:17:40.321Z"
   },
   {
    "duration": 57,
    "start_time": "2025-01-21T16:17:40.330Z"
   },
   {
    "duration": 9,
    "start_time": "2025-01-21T16:17:40.389Z"
   },
   {
    "duration": 14,
    "start_time": "2025-01-21T16:17:40.399Z"
   },
   {
    "duration": 5,
    "start_time": "2025-01-21T16:17:40.415Z"
   },
   {
    "duration": 17,
    "start_time": "2025-01-21T16:17:40.422Z"
   },
   {
    "duration": 4,
    "start_time": "2025-01-21T16:17:40.487Z"
   },
   {
    "duration": 14,
    "start_time": "2025-01-21T16:17:40.493Z"
   },
   {
    "duration": 4,
    "start_time": "2025-01-21T16:17:40.508Z"
   },
   {
    "duration": 24,
    "start_time": "2025-01-21T16:17:40.513Z"
   },
   {
    "duration": 51,
    "start_time": "2025-01-21T16:17:40.539Z"
   },
   {
    "duration": 312,
    "start_time": "2025-01-21T16:17:40.592Z"
   },
   {
    "duration": 5,
    "start_time": "2025-01-21T16:17:40.905Z"
   },
   {
    "duration": 7,
    "start_time": "2025-01-21T16:17:40.911Z"
   },
   {
    "duration": 6,
    "start_time": "2025-01-21T16:17:40.919Z"
   },
   {
    "duration": 7,
    "start_time": "2025-01-21T16:17:40.926Z"
   },
   {
    "duration": 56,
    "start_time": "2025-01-21T16:17:40.934Z"
   },
   {
    "duration": 341,
    "start_time": "2025-01-21T16:17:40.992Z"
   },
   {
    "duration": 4,
    "start_time": "2025-01-21T16:17:41.386Z"
   },
   {
    "duration": 5,
    "start_time": "2025-01-21T16:17:41.395Z"
   },
   {
    "duration": 6,
    "start_time": "2025-01-21T16:17:41.401Z"
   },
   {
    "duration": 6,
    "start_time": "2025-01-21T16:17:41.408Z"
   },
   {
    "duration": 8,
    "start_time": "2025-01-21T16:17:41.415Z"
   },
   {
    "duration": 8,
    "start_time": "2025-01-21T16:17:41.424Z"
   },
   {
    "duration": 255,
    "start_time": "2025-01-21T16:17:41.433Z"
   },
   {
    "duration": 6,
    "start_time": "2025-01-21T16:17:41.690Z"
   },
   {
    "duration": 18,
    "start_time": "2025-01-21T16:17:41.697Z"
   },
   {
    "duration": 5,
    "start_time": "2025-01-21T16:17:41.717Z"
   },
   {
    "duration": 12,
    "start_time": "2025-01-21T16:17:41.724Z"
   },
   {
    "duration": 3,
    "start_time": "2025-01-21T16:17:41.737Z"
   },
   {
    "duration": 12,
    "start_time": "2025-01-21T16:17:41.742Z"
   },
   {
    "duration": 5,
    "start_time": "2025-01-21T16:17:41.755Z"
   },
   {
    "duration": 10,
    "start_time": "2025-01-21T16:17:41.761Z"
   },
   {
    "duration": 84,
    "start_time": "2025-01-21T16:17:41.786Z"
   },
   {
    "duration": 266,
    "start_time": "2025-01-21T16:17:41.872Z"
   },
   {
    "duration": 6,
    "start_time": "2025-01-21T16:17:42.140Z"
   },
   {
    "duration": 24,
    "start_time": "2025-01-21T16:17:42.147Z"
   },
   {
    "duration": 6,
    "start_time": "2025-01-21T16:17:42.187Z"
   },
   {
    "duration": 9,
    "start_time": "2025-01-21T16:17:42.194Z"
   },
   {
    "duration": 183,
    "start_time": "2025-01-21T16:17:42.205Z"
   },
   {
    "duration": 121,
    "start_time": "2025-01-21T16:17:42.390Z"
   },
   {
    "duration": 6,
    "start_time": "2025-01-21T16:17:42.513Z"
   },
   {
    "duration": 9,
    "start_time": "2025-01-21T16:17:42.520Z"
   },
   {
    "duration": 180,
    "start_time": "2025-01-21T16:17:42.530Z"
   },
   {
    "duration": 175,
    "start_time": "2025-01-21T16:17:42.711Z"
   },
   {
    "duration": 7,
    "start_time": "2025-01-21T16:17:42.888Z"
   },
   {
    "duration": 222,
    "start_time": "2025-01-21T16:17:42.897Z"
   },
   {
    "duration": 205,
    "start_time": "2025-01-21T16:17:43.121Z"
   },
   {
    "duration": 6,
    "start_time": "2025-01-21T16:17:43.328Z"
   },
   {
    "duration": 17,
    "start_time": "2025-01-21T16:17:43.336Z"
   },
   {
    "duration": 12,
    "start_time": "2025-01-21T16:17:43.354Z"
   },
   {
    "duration": 4,
    "start_time": "2025-01-21T16:17:43.387Z"
   },
   {
    "duration": 8,
    "start_time": "2025-01-21T16:17:43.393Z"
   },
   {
    "duration": 5,
    "start_time": "2025-01-21T16:17:43.402Z"
   },
   {
    "duration": 605,
    "start_time": "2025-01-21T16:17:43.408Z"
   },
   {
    "duration": 4,
    "start_time": "2025-01-21T16:17:44.014Z"
   },
   {
    "duration": 90,
    "start_time": "2025-01-21T16:17:44.020Z"
   },
   {
    "duration": 4,
    "start_time": "2025-01-21T16:17:44.112Z"
   },
   {
    "duration": 224,
    "start_time": "2025-01-21T16:17:44.117Z"
   },
   {
    "duration": 5,
    "start_time": "2025-01-21T16:17:44.342Z"
   },
   {
    "duration": 8,
    "start_time": "2025-01-21T16:17:44.348Z"
   },
   {
    "duration": 3,
    "start_time": "2025-01-21T16:17:44.358Z"
   },
   {
    "duration": 2,
    "start_time": "2025-01-21T16:17:44.363Z"
   },
   {
    "duration": 20,
    "start_time": "2025-01-21T16:17:44.367Z"
   },
   {
    "duration": 38,
    "start_time": "2025-01-21T16:17:44.389Z"
   },
   {
    "duration": 5,
    "start_time": "2025-01-21T16:17:44.429Z"
   },
   {
    "duration": 146,
    "start_time": "2025-01-21T16:17:44.435Z"
   },
   {
    "duration": 6,
    "start_time": "2025-01-21T16:17:44.583Z"
   },
   {
    "duration": 16,
    "start_time": "2025-01-21T16:17:44.590Z"
   },
   {
    "duration": 28,
    "start_time": "2025-01-21T16:17:44.607Z"
   },
   {
    "duration": 14,
    "start_time": "2025-01-21T16:17:44.636Z"
   },
   {
    "duration": 7,
    "start_time": "2025-01-21T16:17:44.651Z"
   },
   {
    "duration": 299,
    "start_time": "2025-01-21T16:17:44.659Z"
   },
   {
    "duration": 3,
    "start_time": "2025-01-21T16:17:44.959Z"
   },
   {
    "duration": 3,
    "start_time": "2025-01-21T23:44:00.289Z"
   },
   {
    "duration": 26,
    "start_time": "2025-01-21T23:44:00.294Z"
   },
   {
    "duration": 12,
    "start_time": "2025-01-21T23:44:00.322Z"
   },
   {
    "duration": 2355,
    "start_time": "2025-01-21T23:44:00.335Z"
   },
   {
    "duration": 361,
    "start_time": "2025-01-21T23:44:02.693Z"
   },
   {
    "duration": 692,
    "start_time": "2025-01-21T23:44:03.055Z"
   },
   {
    "duration": 260,
    "start_time": "2025-01-21T23:44:03.749Z"
   },
   {
    "duration": 357,
    "start_time": "2025-01-21T23:44:04.011Z"
   },
   {
    "duration": 17,
    "start_time": "2025-01-21T23:44:04.370Z"
   },
   {
    "duration": 24,
    "start_time": "2025-01-21T23:44:04.390Z"
   },
   {
    "duration": 12,
    "start_time": "2025-01-21T23:44:04.417Z"
   },
   {
    "duration": 9,
    "start_time": "2025-01-21T23:44:04.431Z"
   },
   {
    "duration": 14,
    "start_time": "2025-01-21T23:44:04.441Z"
   },
   {
    "duration": 5,
    "start_time": "2025-01-21T23:44:04.458Z"
   },
   {
    "duration": 13,
    "start_time": "2025-01-21T23:44:04.464Z"
   },
   {
    "duration": 7,
    "start_time": "2025-01-21T23:44:04.478Z"
   },
   {
    "duration": 14,
    "start_time": "2025-01-21T23:44:04.487Z"
   },
   {
    "duration": 26,
    "start_time": "2025-01-21T23:44:04.502Z"
   },
   {
    "duration": 27,
    "start_time": "2025-01-21T23:44:04.529Z"
   },
   {
    "duration": 3,
    "start_time": "2025-01-21T23:44:04.558Z"
   },
   {
    "duration": 19,
    "start_time": "2025-01-21T23:44:04.563Z"
   },
   {
    "duration": 14,
    "start_time": "2025-01-21T23:44:04.583Z"
   },
   {
    "duration": 43,
    "start_time": "2025-01-21T23:44:04.598Z"
   },
   {
    "duration": 13,
    "start_time": "2025-01-21T23:44:04.643Z"
   },
   {
    "duration": 15,
    "start_time": "2025-01-21T23:44:04.658Z"
   },
   {
    "duration": 18,
    "start_time": "2025-01-21T23:44:04.674Z"
   },
   {
    "duration": 5,
    "start_time": "2025-01-21T23:44:04.694Z"
   },
   {
    "duration": 20,
    "start_time": "2025-01-21T23:44:04.700Z"
   },
   {
    "duration": 22,
    "start_time": "2025-01-21T23:44:04.722Z"
   },
   {
    "duration": 19,
    "start_time": "2025-01-21T23:44:04.745Z"
   },
   {
    "duration": 4,
    "start_time": "2025-01-21T23:44:04.766Z"
   },
   {
    "duration": 8,
    "start_time": "2025-01-21T23:44:04.771Z"
   },
   {
    "duration": 15,
    "start_time": "2025-01-21T23:44:04.780Z"
   },
   {
    "duration": 203,
    "start_time": "2025-01-21T23:44:04.796Z"
   },
   {
    "duration": 4,
    "start_time": "2025-01-21T23:44:05.001Z"
   },
   {
    "duration": 12,
    "start_time": "2025-01-21T23:44:05.006Z"
   },
   {
    "duration": 3,
    "start_time": "2025-01-21T23:44:05.020Z"
   },
   {
    "duration": 7,
    "start_time": "2025-01-21T23:44:05.024Z"
   },
   {
    "duration": 7,
    "start_time": "2025-01-21T23:44:05.032Z"
   },
   {
    "duration": 199,
    "start_time": "2025-01-21T23:44:05.041Z"
   },
   {
    "duration": 5,
    "start_time": "2025-01-21T23:44:05.244Z"
   },
   {
    "duration": 12,
    "start_time": "2025-01-21T23:44:05.254Z"
   },
   {
    "duration": 12,
    "start_time": "2025-01-21T23:44:05.267Z"
   },
   {
    "duration": 16,
    "start_time": "2025-01-21T23:44:05.281Z"
   },
   {
    "duration": 28,
    "start_time": "2025-01-21T23:44:05.298Z"
   },
   {
    "duration": 18,
    "start_time": "2025-01-21T23:44:05.327Z"
   },
   {
    "duration": 160,
    "start_time": "2025-01-21T23:44:05.347Z"
   },
   {
    "duration": 7,
    "start_time": "2025-01-21T23:44:05.508Z"
   },
   {
    "duration": 11,
    "start_time": "2025-01-21T23:44:05.516Z"
   },
   {
    "duration": 12,
    "start_time": "2025-01-21T23:44:05.529Z"
   },
   {
    "duration": 47,
    "start_time": "2025-01-21T23:44:05.542Z"
   },
   {
    "duration": 4,
    "start_time": "2025-01-21T23:44:05.592Z"
   },
   {
    "duration": 13,
    "start_time": "2025-01-21T23:44:05.597Z"
   },
   {
    "duration": 3,
    "start_time": "2025-01-21T23:44:05.612Z"
   },
   {
    "duration": 21,
    "start_time": "2025-01-21T23:44:05.616Z"
   },
   {
    "duration": 103,
    "start_time": "2025-01-21T23:44:05.639Z"
   },
   {
    "duration": 265,
    "start_time": "2025-01-21T23:44:05.744Z"
   },
   {
    "duration": 6,
    "start_time": "2025-01-21T23:44:06.011Z"
   },
   {
    "duration": 36,
    "start_time": "2025-01-21T23:44:06.018Z"
   },
   {
    "duration": 6,
    "start_time": "2025-01-21T23:44:06.055Z"
   },
   {
    "duration": 37,
    "start_time": "2025-01-21T23:44:06.064Z"
   },
   {
    "duration": 173,
    "start_time": "2025-01-21T23:44:06.103Z"
   },
   {
    "duration": 123,
    "start_time": "2025-01-21T23:44:06.278Z"
   },
   {
    "duration": 7,
    "start_time": "2025-01-21T23:44:06.403Z"
   },
   {
    "duration": 35,
    "start_time": "2025-01-21T23:44:06.411Z"
   },
   {
    "duration": 167,
    "start_time": "2025-01-21T23:44:06.447Z"
   },
   {
    "duration": 190,
    "start_time": "2025-01-21T23:44:06.616Z"
   },
   {
    "duration": 8,
    "start_time": "2025-01-21T23:44:06.808Z"
   },
   {
    "duration": 267,
    "start_time": "2025-01-21T23:44:06.818Z"
   },
   {
    "duration": 199,
    "start_time": "2025-01-21T23:44:07.086Z"
   },
   {
    "duration": 6,
    "start_time": "2025-01-21T23:44:07.287Z"
   },
   {
    "duration": 18,
    "start_time": "2025-01-21T23:44:07.295Z"
   },
   {
    "duration": 11,
    "start_time": "2025-01-21T23:44:07.315Z"
   },
   {
    "duration": 10,
    "start_time": "2025-01-21T23:44:07.327Z"
   },
   {
    "duration": 17,
    "start_time": "2025-01-21T23:44:07.339Z"
   },
   {
    "duration": 8,
    "start_time": "2025-01-21T23:44:07.357Z"
   },
   {
    "duration": 637,
    "start_time": "2025-01-21T23:44:07.366Z"
   },
   {
    "duration": 5,
    "start_time": "2025-01-21T23:44:08.004Z"
   },
   {
    "duration": 9,
    "start_time": "2025-01-21T23:44:08.010Z"
   },
   {
    "duration": 15,
    "start_time": "2025-01-21T23:44:08.020Z"
   },
   {
    "duration": 227,
    "start_time": "2025-01-21T23:44:08.037Z"
   },
   {
    "duration": 5,
    "start_time": "2025-01-21T23:44:08.266Z"
   },
   {
    "duration": 6,
    "start_time": "2025-01-21T23:44:08.272Z"
   },
   {
    "duration": 4,
    "start_time": "2025-01-21T23:44:08.279Z"
   },
   {
    "duration": 4,
    "start_time": "2025-01-21T23:44:08.285Z"
   },
   {
    "duration": 4,
    "start_time": "2025-01-21T23:44:08.291Z"
   },
   {
    "duration": 62,
    "start_time": "2025-01-21T23:44:08.297Z"
   },
   {
    "duration": 7,
    "start_time": "2025-01-21T23:44:08.361Z"
   },
   {
    "duration": 156,
    "start_time": "2025-01-21T23:44:08.370Z"
   },
   {
    "duration": 6,
    "start_time": "2025-01-21T23:44:08.527Z"
   },
   {
    "duration": 4,
    "start_time": "2025-01-21T23:44:08.535Z"
   },
   {
    "duration": 18,
    "start_time": "2025-01-21T23:44:08.541Z"
   },
   {
    "duration": 10,
    "start_time": "2025-01-21T23:44:08.561Z"
   },
   {
    "duration": 8,
    "start_time": "2025-01-21T23:44:08.572Z"
   },
   {
    "duration": 330,
    "start_time": "2025-01-21T23:44:08.582Z"
   },
   {
    "duration": 2,
    "start_time": "2025-01-21T23:44:08.914Z"
   },
   {
    "duration": 89,
    "start_time": "2025-01-21T23:47:30.105Z"
   }
  ],
  "colab": {
   "provenance": []
  },
  "kernelspec": {
   "display_name": "Python 3 (ipykernel)",
   "language": "python",
   "name": "python3"
  },
  "language_info": {
   "codemirror_mode": {
    "name": "ipython",
    "version": 3
   },
   "file_extension": ".py",
   "mimetype": "text/x-python",
   "name": "python",
   "nbconvert_exporter": "python",
   "pygments_lexer": "ipython3",
   "version": "3.9.7"
  },
  "toc": {
   "base_numbering": 1,
   "nav_menu": {},
   "number_sections": true,
   "sideBar": true,
   "skip_h1_title": true,
   "title_cell": "Table of Contents",
   "title_sidebar": "Contents",
   "toc_cell": false,
   "toc_position": {
    "height": "calc(100% - 180px)",
    "left": "10px",
    "top": "150px",
    "width": "369.344px"
   },
   "toc_section_display": true,
   "toc_window_display": true
  }
 },
 "nbformat": 4,
 "nbformat_minor": 5
}
