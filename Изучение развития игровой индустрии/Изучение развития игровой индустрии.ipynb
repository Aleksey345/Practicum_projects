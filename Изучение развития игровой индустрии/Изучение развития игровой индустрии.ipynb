{
 "cells": [
  {
   "cell_type": "markdown",
   "id": "e06910dd",
   "metadata": {
    "id": "e06910dd"
   },
   "source": [
    "# Изучение развития игровой индустрии\n",
    "\n",
    "- Автор:Сурков Алексей Александрович  \n",
    "- Дата:25.12.2024 \n",
    "<a id='intro'></a>"
   ]
  },
  {
   "cell_type": "markdown",
   "id": "4149134c",
   "metadata": {
    "id": "4149134c"
   },
   "source": [
    "### Цели и задачи проекта\n",
    "\n",
    "- Отобрать данные по времени выхода игры.Нужен период с 2000 по 2013 год включительно.\n",
    "- Категоризовать игры по оценкам пользователей и экспертов. Выделите три категории:\n",
    "   - высокая оценка — с оценкой от 8 до 10 и от 80 до 100, включая правые границы интервалов.\n",
    "   - средняя оценка — с оценкой от 3 до 8 и от 30 до 80, не включая правые границы интервалов.\n",
    "   - низкая оценка — с оценкой от 0 до 3 и от 0 до 30, не включая правые границы интервалов.\n",
    "- Выделить топ-7 платформ по количеству игр, выпущенных за весь требуемый период."
   ]
  },
  {
   "cell_type": "markdown",
   "id": "728986ea",
   "metadata": {
    "id": "728986ea"
   },
   "source": [
    "### Описание данных\n",
    "\n",
    "Данные /datasets/new_games.csv содержат информацию о продажах игр разных жанров и платформ, а также пользовательские и экспертные оценки игр:\n",
    "- Name — название игры.\n",
    "- Platform — название платформы.\n",
    "- Year of Release — год выпуска игры.\n",
    "- Genre — жанр игры.\n",
    "- NA sales — продажи в Северной Америке (в миллионах проданных копий).\n",
    "- EU sales — продажи в Европе (в миллионах проданных копий).\n",
    "- JP sales — продажи в Японии (в миллионах проданных копий).\n",
    "- Other sales — продажи в других странах (в миллионах проданных копий).\n",
    "- Critic Score — оценка критиков (от 0 до 100).\n",
    "- User Score — оценка пользователей (от 0 до 10).\n",
    "- Rating — рейтинг организации ESRB (англ. Entertainment Software Rating Board). Эта ассоциация определяет рейтинг компьютерных игр и присваивает им подходящую возрастную категорию."
   ]
  },
  {
   "cell_type": "markdown",
   "id": "4fecaf95",
   "metadata": {
    "id": "4fecaf95"
   },
   "source": [
    "### Содержимое проекта\n",
    "\n",
    "\n",
    "- [Загрузка и знакомство с данными](#1.-Загрузка-данных-и-знакомство-с-ними)\n",
    "- [Проверка ошибок в данных и их предобработка](#2.-Проверка-ошибок-в-данных-и-их-предобработка)\n",
    "- [Фильтрация данных](#3.-Фильтрация-данных)\n",
    "- [Категоризация данных](#4.-Категоризация-данных)\n",
    "- [Итоговый вывод](#5.-Итоговый-вывод)\n",
    "\n",
    "---"
   ]
  },
  {
   "cell_type": "markdown",
   "id": "6f7d21d6",
   "metadata": {
    "id": "6f7d21d6"
   },
   "source": [
    "# 1. Загрузка данных и знакомство с ними\n",
    "\n",
    "\n"
   ]
  },
  {
   "cell_type": "code",
   "execution_count": 1,
   "id": "3937acf7",
   "metadata": {
    "id": "3937acf7"
   },
   "outputs": [],
   "source": [
    "import pandas as pd "
   ]
  },
  {
   "cell_type": "code",
   "execution_count": 2,
   "id": "d7c8eb4b",
   "metadata": {
    "id": "d7c8eb4b"
   },
   "outputs": [],
   "source": [
    "# Выгружаем данные из датасета /datasets/new_games.csv."
   ]
  },
  {
   "cell_type": "code",
   "execution_count": 3,
   "id": "fc561cac",
   "metadata": {
    "id": "fc561cac"
   },
   "outputs": [],
   "source": [
    "df= pd.read_csv('https://code.s3.yandex.net/datasets/new_games.csv')"
   ]
  },
  {
   "cell_type": "code",
   "execution_count": 4,
   "id": "edf35a11",
   "metadata": {},
   "outputs": [],
   "source": [
    "# Выводим информацию о датафрейме"
   ]
  },
  {
   "cell_type": "code",
   "execution_count": 5,
   "id": "9ca581c9",
   "metadata": {
    "scrolled": false
   },
   "outputs": [
    {
     "name": "stdout",
     "output_type": "stream",
     "text": [
      "<class 'pandas.core.frame.DataFrame'>\n",
      "RangeIndex: 16956 entries, 0 to 16955\n",
      "Data columns (total 11 columns):\n",
      " #   Column           Non-Null Count  Dtype  \n",
      "---  ------           --------------  -----  \n",
      " 0   Name             16954 non-null  object \n",
      " 1   Platform         16956 non-null  object \n",
      " 2   Year of Release  16681 non-null  float64\n",
      " 3   Genre            16954 non-null  object \n",
      " 4   NA sales         16956 non-null  float64\n",
      " 5   EU sales         16956 non-null  object \n",
      " 6   JP sales         16956 non-null  object \n",
      " 7   Other sales      16956 non-null  float64\n",
      " 8   Critic Score     8242 non-null   float64\n",
      " 9   User Score       10152 non-null  object \n",
      " 10  Rating           10085 non-null  object \n",
      "dtypes: float64(4), object(7)\n",
      "memory usage: 1.4+ MB\n"
     ]
    }
   ],
   "source": [
    "df.info()"
   ]
  },
  {
   "cell_type": "code",
   "execution_count": 6,
   "id": "14e94a9f",
   "metadata": {},
   "outputs": [],
   "source": [
    "# Выводим первые строки датафрейма на экран"
   ]
  },
  {
   "cell_type": "code",
   "execution_count": 7,
   "id": "a33220ba",
   "metadata": {
    "scrolled": false
   },
   "outputs": [
    {
     "data": {
      "text/html": [
       "<div>\n",
       "<style scoped>\n",
       "    .dataframe tbody tr th:only-of-type {\n",
       "        vertical-align: middle;\n",
       "    }\n",
       "\n",
       "    .dataframe tbody tr th {\n",
       "        vertical-align: top;\n",
       "    }\n",
       "\n",
       "    .dataframe thead th {\n",
       "        text-align: right;\n",
       "    }\n",
       "</style>\n",
       "<table border=\"1\" class=\"dataframe\">\n",
       "  <thead>\n",
       "    <tr style=\"text-align: right;\">\n",
       "      <th></th>\n",
       "      <th>Name</th>\n",
       "      <th>Platform</th>\n",
       "      <th>Year of Release</th>\n",
       "      <th>Genre</th>\n",
       "      <th>NA sales</th>\n",
       "      <th>EU sales</th>\n",
       "      <th>JP sales</th>\n",
       "      <th>Other sales</th>\n",
       "      <th>Critic Score</th>\n",
       "      <th>User Score</th>\n",
       "      <th>Rating</th>\n",
       "    </tr>\n",
       "  </thead>\n",
       "  <tbody>\n",
       "    <tr>\n",
       "      <th>0</th>\n",
       "      <td>Wii Sports</td>\n",
       "      <td>Wii</td>\n",
       "      <td>2006.0</td>\n",
       "      <td>Sports</td>\n",
       "      <td>41.36</td>\n",
       "      <td>28.96</td>\n",
       "      <td>3.77</td>\n",
       "      <td>8.45</td>\n",
       "      <td>76.0</td>\n",
       "      <td>8</td>\n",
       "      <td>E</td>\n",
       "    </tr>\n",
       "    <tr>\n",
       "      <th>1</th>\n",
       "      <td>Super Mario Bros.</td>\n",
       "      <td>NES</td>\n",
       "      <td>1985.0</td>\n",
       "      <td>Platform</td>\n",
       "      <td>29.08</td>\n",
       "      <td>3.58</td>\n",
       "      <td>6.81</td>\n",
       "      <td>0.77</td>\n",
       "      <td>NaN</td>\n",
       "      <td>NaN</td>\n",
       "      <td>NaN</td>\n",
       "    </tr>\n",
       "    <tr>\n",
       "      <th>2</th>\n",
       "      <td>Mario Kart Wii</td>\n",
       "      <td>Wii</td>\n",
       "      <td>2008.0</td>\n",
       "      <td>Racing</td>\n",
       "      <td>15.68</td>\n",
       "      <td>12.76</td>\n",
       "      <td>3.79</td>\n",
       "      <td>3.29</td>\n",
       "      <td>82.0</td>\n",
       "      <td>8.3</td>\n",
       "      <td>E</td>\n",
       "    </tr>\n",
       "    <tr>\n",
       "      <th>3</th>\n",
       "      <td>Wii Sports Resort</td>\n",
       "      <td>Wii</td>\n",
       "      <td>2009.0</td>\n",
       "      <td>Sports</td>\n",
       "      <td>15.61</td>\n",
       "      <td>10.93</td>\n",
       "      <td>3.28</td>\n",
       "      <td>2.95</td>\n",
       "      <td>80.0</td>\n",
       "      <td>8</td>\n",
       "      <td>E</td>\n",
       "    </tr>\n",
       "    <tr>\n",
       "      <th>4</th>\n",
       "      <td>Pokemon Red/Pokemon Blue</td>\n",
       "      <td>GB</td>\n",
       "      <td>1996.0</td>\n",
       "      <td>Role-Playing</td>\n",
       "      <td>11.27</td>\n",
       "      <td>8.89</td>\n",
       "      <td>10.22</td>\n",
       "      <td>1.00</td>\n",
       "      <td>NaN</td>\n",
       "      <td>NaN</td>\n",
       "      <td>NaN</td>\n",
       "    </tr>\n",
       "  </tbody>\n",
       "</table>\n",
       "</div>"
      ],
      "text/plain": [
       "                       Name Platform  Year of Release         Genre  NA sales  \\\n",
       "0                Wii Sports      Wii           2006.0        Sports     41.36   \n",
       "1         Super Mario Bros.      NES           1985.0      Platform     29.08   \n",
       "2            Mario Kart Wii      Wii           2008.0        Racing     15.68   \n",
       "3         Wii Sports Resort      Wii           2009.0        Sports     15.61   \n",
       "4  Pokemon Red/Pokemon Blue       GB           1996.0  Role-Playing     11.27   \n",
       "\n",
       "  EU sales JP sales  Other sales  Critic Score User Score Rating  \n",
       "0    28.96     3.77         8.45          76.0          8      E  \n",
       "1     3.58     6.81         0.77           NaN        NaN    NaN  \n",
       "2    12.76     3.79         3.29          82.0        8.3      E  \n",
       "3    10.93     3.28         2.95          80.0          8      E  \n",
       "4     8.89    10.22         1.00           NaN        NaN    NaN  "
      ]
     },
     "execution_count": 7,
     "metadata": {},
     "output_type": "execute_result"
    }
   ],
   "source": [
    "df.head()"
   ]
  },
  {
   "cell_type": "markdown",
   "id": "390ff41c",
   "metadata": {},
   "source": [
    "\n",
    "Датасет /datasets/new_games.csv содержит 11 столбцов и 16956 строк, которые содержат информацию о продажах игр разных жанров и платформ\n",
    "Изучим типы данных и их корректность:\n",
    "\n",
    "Столбцы соответствуют описанию, представленному в проекте. Каждый столбец содержит информацию о различных аспектах видеоигр, таких как название, платформа, год выпуска, жанр, продажи и оценки.\n",
    "* Пропуски:\n",
    "\n",
    "В столбце Name и Genre по 2 пропуска.\n",
    "В столбце Year of Release 275 пропусков. Это может быть проблематично для анализа, особенно если мы хотим изучить тенденции по годам.\n",
    "В столбцах Critic Score, User  Score и Rating также присутствуют пропуски (8,714, 6,804 и 6,871 соответственно). Это может повлиять на анализ оценок и рейтингов игр.\n",
    "* Тип данных:\n",
    "\n",
    "Большинство столбцов имеют правильные типы данных (например, float64 для продаж и оценок).\n",
    "Однако столбцы EU sales, JP sales и User  Score имеют тип object, что может указывать на наличие некорректных данных (например, строки вместо чисел).\n",
    "* Названия столбцов:\n",
    "\n",
    "Названия столбцов в целом понятные, но стоит обратить внимание на формат. Например, названия с пробелами (такие как Year of Release) могут затруднить работу с данными. \n",
    "* Другие особенности:\n",
    "\n",
    "Необходимо проверить, нет ли дубликатов в данных, так как это может исказить результаты анализа.\n",
    "Возможно, стоит рассмотреть возможность категоризации данных по жанрам или платформам для дальнейшего анализа.\n",
    "Также стоит обратить внимание на возможные выбросы в данных о продажах и оценках, которые могут повлиять на результаты анализа."
   ]
  },
  {
   "cell_type": "markdown",
   "id": "774bf76e",
   "metadata": {
    "id": "774bf76e"
   },
   "source": [
    "\n",
    "# 2. Проверка ошибок в данных и их предобработка\n",
    "\n",
    "\n"
   ]
  },
  {
   "cell_type": "markdown",
   "id": "2d6363de",
   "metadata": {},
   "source": [
    "### 2.1. Названия, или метки, столбцов датафрейма"
   ]
  },
  {
   "cell_type": "code",
   "execution_count": 8,
   "id": "b9276a2b",
   "metadata": {
    "id": "b9276a2b"
   },
   "outputs": [],
   "source": [
    "# Выводим названия всех столбцов датафрейма"
   ]
  },
  {
   "cell_type": "code",
   "execution_count": 9,
   "id": "d554563c",
   "metadata": {
    "id": "d554563c",
    "scrolled": true
   },
   "outputs": [
    {
     "data": {
      "text/plain": [
       "Index(['Name', 'Platform', 'Year of Release', 'Genre', 'NA sales', 'EU sales',\n",
       "       'JP sales', 'Other sales', 'Critic Score', 'User Score', 'Rating'],\n",
       "      dtype='object')"
      ]
     },
     "execution_count": 9,
     "metadata": {},
     "output_type": "execute_result"
    }
   ],
   "source": [
    "df.columns"
   ]
  },
  {
   "cell_type": "code",
   "execution_count": 10,
   "id": "87b573dd",
   "metadata": {
    "id": "87b573dd"
   },
   "outputs": [],
   "source": [
    "# Приводим названия столбцов к стилю snake case, нижнему регистру и вместо проблеов- подчёркивания. "
   ]
  },
  {
   "cell_type": "code",
   "execution_count": 11,
   "id": "c2fd4fb5",
   "metadata": {},
   "outputs": [
    {
     "data": {
      "text/plain": [
       "Index(['name', 'platform', 'year_of_release', 'genre', 'na_sales', 'eu_sales',\n",
       "       'jp_sales', 'other_sales', 'critic_score', 'user_score', 'rating'],\n",
       "      dtype='object')"
      ]
     },
     "execution_count": 11,
     "metadata": {},
     "output_type": "execute_result"
    }
   ],
   "source": [
    "df.columns = df.columns.str.lower().str.replace(' ', '_')\n",
    "df.columns"
   ]
  },
  {
   "cell_type": "markdown",
   "id": "41bc6bf8",
   "metadata": {
    "id": "41bc6bf8"
   },
   "source": [
    "### 2.2. Типы данных\n"
   ]
  },
  {
   "cell_type": "code",
   "execution_count": 12,
   "id": "8adaac81",
   "metadata": {
    "id": "8adaac81"
   },
   "outputs": [],
   "source": [
    "# проверяем тип данных "
   ]
  },
  {
   "cell_type": "code",
   "execution_count": 13,
   "id": "e8412c01",
   "metadata": {
    "id": "e8412c01"
   },
   "outputs": [
    {
     "data": {
      "text/plain": [
       "name                object\n",
       "platform            object\n",
       "year_of_release    float64\n",
       "genre               object\n",
       "na_sales           float64\n",
       "eu_sales            object\n",
       "jp_sales            object\n",
       "other_sales        float64\n",
       "critic_score       float64\n",
       "user_score          object\n",
       "rating              object\n",
       "dtype: object"
      ]
     },
     "execution_count": 13,
     "metadata": {},
     "output_type": "execute_result"
    }
   ],
   "source": [
    "df.dtypes"
   ]
  },
  {
   "cell_type": "code",
   "execution_count": 14,
   "id": "e8972106",
   "metadata": {
    "scrolled": true
   },
   "outputs": [
    {
     "data": {
      "text/html": [
       "<div>\n",
       "<style scoped>\n",
       "    .dataframe tbody tr th:only-of-type {\n",
       "        vertical-align: middle;\n",
       "    }\n",
       "\n",
       "    .dataframe tbody tr th {\n",
       "        vertical-align: top;\n",
       "    }\n",
       "\n",
       "    .dataframe thead th {\n",
       "        text-align: right;\n",
       "    }\n",
       "</style>\n",
       "<table border=\"1\" class=\"dataframe\">\n",
       "  <thead>\n",
       "    <tr style=\"text-align: right;\">\n",
       "      <th></th>\n",
       "      <th>name</th>\n",
       "      <th>platform</th>\n",
       "      <th>year_of_release</th>\n",
       "      <th>genre</th>\n",
       "      <th>na_sales</th>\n",
       "      <th>eu_sales</th>\n",
       "      <th>jp_sales</th>\n",
       "      <th>other_sales</th>\n",
       "      <th>critic_score</th>\n",
       "      <th>user_score</th>\n",
       "      <th>rating</th>\n",
       "    </tr>\n",
       "  </thead>\n",
       "  <tbody>\n",
       "    <tr>\n",
       "      <th>0</th>\n",
       "      <td>Wii Sports</td>\n",
       "      <td>Wii</td>\n",
       "      <td>2006.0</td>\n",
       "      <td>Sports</td>\n",
       "      <td>41.36</td>\n",
       "      <td>28.96</td>\n",
       "      <td>3.77</td>\n",
       "      <td>8.45</td>\n",
       "      <td>76.0</td>\n",
       "      <td>8</td>\n",
       "      <td>E</td>\n",
       "    </tr>\n",
       "    <tr>\n",
       "      <th>1</th>\n",
       "      <td>Super Mario Bros.</td>\n",
       "      <td>NES</td>\n",
       "      <td>1985.0</td>\n",
       "      <td>Platform</td>\n",
       "      <td>29.08</td>\n",
       "      <td>3.58</td>\n",
       "      <td>6.81</td>\n",
       "      <td>0.77</td>\n",
       "      <td>NaN</td>\n",
       "      <td>NaN</td>\n",
       "      <td>NaN</td>\n",
       "    </tr>\n",
       "    <tr>\n",
       "      <th>2</th>\n",
       "      <td>Mario Kart Wii</td>\n",
       "      <td>Wii</td>\n",
       "      <td>2008.0</td>\n",
       "      <td>Racing</td>\n",
       "      <td>15.68</td>\n",
       "      <td>12.76</td>\n",
       "      <td>3.79</td>\n",
       "      <td>3.29</td>\n",
       "      <td>82.0</td>\n",
       "      <td>8.3</td>\n",
       "      <td>E</td>\n",
       "    </tr>\n",
       "    <tr>\n",
       "      <th>3</th>\n",
       "      <td>Wii Sports Resort</td>\n",
       "      <td>Wii</td>\n",
       "      <td>2009.0</td>\n",
       "      <td>Sports</td>\n",
       "      <td>15.61</td>\n",
       "      <td>10.93</td>\n",
       "      <td>3.28</td>\n",
       "      <td>2.95</td>\n",
       "      <td>80.0</td>\n",
       "      <td>8</td>\n",
       "      <td>E</td>\n",
       "    </tr>\n",
       "    <tr>\n",
       "      <th>4</th>\n",
       "      <td>Pokemon Red/Pokemon Blue</td>\n",
       "      <td>GB</td>\n",
       "      <td>1996.0</td>\n",
       "      <td>Role-Playing</td>\n",
       "      <td>11.27</td>\n",
       "      <td>8.89</td>\n",
       "      <td>10.22</td>\n",
       "      <td>1.00</td>\n",
       "      <td>NaN</td>\n",
       "      <td>NaN</td>\n",
       "      <td>NaN</td>\n",
       "    </tr>\n",
       "    <tr>\n",
       "      <th>5</th>\n",
       "      <td>Tetris</td>\n",
       "      <td>GB</td>\n",
       "      <td>1989.0</td>\n",
       "      <td>Puzzle</td>\n",
       "      <td>23.20</td>\n",
       "      <td>2.26</td>\n",
       "      <td>4.22</td>\n",
       "      <td>0.58</td>\n",
       "      <td>NaN</td>\n",
       "      <td>NaN</td>\n",
       "      <td>NaN</td>\n",
       "    </tr>\n",
       "    <tr>\n",
       "      <th>6</th>\n",
       "      <td>New Super Mario Bros.</td>\n",
       "      <td>DS</td>\n",
       "      <td>2006.0</td>\n",
       "      <td>Platform</td>\n",
       "      <td>11.28</td>\n",
       "      <td>9.14</td>\n",
       "      <td>6.5</td>\n",
       "      <td>2.88</td>\n",
       "      <td>89.0</td>\n",
       "      <td>8.5</td>\n",
       "      <td>E</td>\n",
       "    </tr>\n",
       "    <tr>\n",
       "      <th>7</th>\n",
       "      <td>Wii Play</td>\n",
       "      <td>Wii</td>\n",
       "      <td>2006.0</td>\n",
       "      <td>Misc</td>\n",
       "      <td>13.96</td>\n",
       "      <td>9.18</td>\n",
       "      <td>2.93</td>\n",
       "      <td>2.84</td>\n",
       "      <td>58.0</td>\n",
       "      <td>6.6</td>\n",
       "      <td>E</td>\n",
       "    </tr>\n",
       "    <tr>\n",
       "      <th>8</th>\n",
       "      <td>New Super Mario Bros. Wii</td>\n",
       "      <td>Wii</td>\n",
       "      <td>2009.0</td>\n",
       "      <td>Platform</td>\n",
       "      <td>14.44</td>\n",
       "      <td>6.94</td>\n",
       "      <td>4.7</td>\n",
       "      <td>2.24</td>\n",
       "      <td>87.0</td>\n",
       "      <td>8.4</td>\n",
       "      <td>E</td>\n",
       "    </tr>\n",
       "    <tr>\n",
       "      <th>9</th>\n",
       "      <td>Duck Hunt</td>\n",
       "      <td>NES</td>\n",
       "      <td>1984.0</td>\n",
       "      <td>Shooter</td>\n",
       "      <td>26.93</td>\n",
       "      <td>0.63</td>\n",
       "      <td>0.28</td>\n",
       "      <td>0.47</td>\n",
       "      <td>NaN</td>\n",
       "      <td>NaN</td>\n",
       "      <td>NaN</td>\n",
       "    </tr>\n",
       "    <tr>\n",
       "      <th>10</th>\n",
       "      <td>Nintendogs</td>\n",
       "      <td>DS</td>\n",
       "      <td>2005.0</td>\n",
       "      <td>Simulation</td>\n",
       "      <td>9.05</td>\n",
       "      <td>10.95</td>\n",
       "      <td>1.93</td>\n",
       "      <td>2.74</td>\n",
       "      <td>NaN</td>\n",
       "      <td>NaN</td>\n",
       "      <td>NaN</td>\n",
       "    </tr>\n",
       "    <tr>\n",
       "      <th>11</th>\n",
       "      <td>Mario Kart DS</td>\n",
       "      <td>DS</td>\n",
       "      <td>2005.0</td>\n",
       "      <td>Racing</td>\n",
       "      <td>9.71</td>\n",
       "      <td>7.47</td>\n",
       "      <td>4.13</td>\n",
       "      <td>1.90</td>\n",
       "      <td>91.0</td>\n",
       "      <td>8.6</td>\n",
       "      <td>E</td>\n",
       "    </tr>\n",
       "    <tr>\n",
       "      <th>12</th>\n",
       "      <td>Pokemon Gold/Pokemon Silver</td>\n",
       "      <td>GB</td>\n",
       "      <td>1999.0</td>\n",
       "      <td>Role-Playing</td>\n",
       "      <td>9.00</td>\n",
       "      <td>6.18</td>\n",
       "      <td>7.2</td>\n",
       "      <td>0.71</td>\n",
       "      <td>NaN</td>\n",
       "      <td>NaN</td>\n",
       "      <td>NaN</td>\n",
       "    </tr>\n",
       "    <tr>\n",
       "      <th>13</th>\n",
       "      <td>Wii Fit</td>\n",
       "      <td>Wii</td>\n",
       "      <td>2007.0</td>\n",
       "      <td>Sports</td>\n",
       "      <td>8.92</td>\n",
       "      <td>8.03</td>\n",
       "      <td>3.6</td>\n",
       "      <td>2.15</td>\n",
       "      <td>80.0</td>\n",
       "      <td>7.7</td>\n",
       "      <td>E</td>\n",
       "    </tr>\n",
       "    <tr>\n",
       "      <th>14</th>\n",
       "      <td>Kinect Adventures!</td>\n",
       "      <td>X360</td>\n",
       "      <td>2010.0</td>\n",
       "      <td>Misc</td>\n",
       "      <td>15.00</td>\n",
       "      <td>4.89</td>\n",
       "      <td>0.24</td>\n",
       "      <td>1.69</td>\n",
       "      <td>61.0</td>\n",
       "      <td>6.3</td>\n",
       "      <td>E</td>\n",
       "    </tr>\n",
       "  </tbody>\n",
       "</table>\n",
       "</div>"
      ],
      "text/plain": [
       "                           name platform  year_of_release         genre  \\\n",
       "0                    Wii Sports      Wii           2006.0        Sports   \n",
       "1             Super Mario Bros.      NES           1985.0      Platform   \n",
       "2                Mario Kart Wii      Wii           2008.0        Racing   \n",
       "3             Wii Sports Resort      Wii           2009.0        Sports   \n",
       "4      Pokemon Red/Pokemon Blue       GB           1996.0  Role-Playing   \n",
       "5                        Tetris       GB           1989.0        Puzzle   \n",
       "6         New Super Mario Bros.       DS           2006.0      Platform   \n",
       "7                      Wii Play      Wii           2006.0          Misc   \n",
       "8     New Super Mario Bros. Wii      Wii           2009.0      Platform   \n",
       "9                     Duck Hunt      NES           1984.0       Shooter   \n",
       "10                   Nintendogs       DS           2005.0    Simulation   \n",
       "11                Mario Kart DS       DS           2005.0        Racing   \n",
       "12  Pokemon Gold/Pokemon Silver       GB           1999.0  Role-Playing   \n",
       "13                      Wii Fit      Wii           2007.0        Sports   \n",
       "14           Kinect Adventures!     X360           2010.0          Misc   \n",
       "\n",
       "    na_sales eu_sales jp_sales  other_sales  critic_score user_score rating  \n",
       "0      41.36    28.96     3.77         8.45          76.0          8      E  \n",
       "1      29.08     3.58     6.81         0.77           NaN        NaN    NaN  \n",
       "2      15.68    12.76     3.79         3.29          82.0        8.3      E  \n",
       "3      15.61    10.93     3.28         2.95          80.0          8      E  \n",
       "4      11.27     8.89    10.22         1.00           NaN        NaN    NaN  \n",
       "5      23.20     2.26     4.22         0.58           NaN        NaN    NaN  \n",
       "6      11.28     9.14      6.5         2.88          89.0        8.5      E  \n",
       "7      13.96     9.18     2.93         2.84          58.0        6.6      E  \n",
       "8      14.44     6.94      4.7         2.24          87.0        8.4      E  \n",
       "9      26.93     0.63     0.28         0.47           NaN        NaN    NaN  \n",
       "10      9.05    10.95     1.93         2.74           NaN        NaN    NaN  \n",
       "11      9.71     7.47     4.13         1.90          91.0        8.6      E  \n",
       "12      9.00     6.18      7.2         0.71           NaN        NaN    NaN  \n",
       "13      8.92     8.03      3.6         2.15          80.0        7.7      E  \n",
       "14     15.00     4.89     0.24         1.69          61.0        6.3      E  "
      ]
     },
     "execution_count": 14,
     "metadata": {},
     "output_type": "execute_result"
    }
   ],
   "source": [
    "df.head(15)"
   ]
  },
  {
   "cell_type": "code",
   "execution_count": 15,
   "id": "012858c6",
   "metadata": {},
   "outputs": [],
   "source": [
    "# Выводим количество пропущенных строк"
   ]
  },
  {
   "cell_type": "code",
   "execution_count": 16,
   "id": "c5bf361d",
   "metadata": {},
   "outputs": [
    {
     "data": {
      "text/plain": [
       "name                  2\n",
       "platform              0\n",
       "year_of_release     275\n",
       "genre                 2\n",
       "na_sales              0\n",
       "eu_sales              0\n",
       "jp_sales              0\n",
       "other_sales           0\n",
       "critic_score       8714\n",
       "user_score         6804\n",
       "rating             6871\n",
       "dtype: int64"
      ]
     },
     "execution_count": 16,
     "metadata": {},
     "output_type": "execute_result"
    }
   ],
   "source": [
    "df.isna().sum()"
   ]
  },
  {
   "cell_type": "code",
   "execution_count": 17,
   "id": "ffe5bf62",
   "metadata": {},
   "outputs": [
    {
     "data": {
      "text/plain": [
       "name                0.01\n",
       "platform            0.00\n",
       "year_of_release     1.62\n",
       "genre               0.01\n",
       "na_sales            0.00\n",
       "eu_sales            0.00\n",
       "jp_sales            0.00\n",
       "other_sales         0.00\n",
       "critic_score       51.39\n",
       "user_score         40.13\n",
       "rating             40.52\n",
       "dtype: float64"
      ]
     },
     "execution_count": 17,
     "metadata": {},
     "output_type": "execute_result"
    }
   ],
   "source": [
    "round(df.isna().sum()/len(df)*100,2) # Подсчитываем процент строк с пропусками"
   ]
  },
  {
   "cell_type": "code",
   "execution_count": 18,
   "id": "9e53cff4",
   "metadata": {
    "id": "9e53cff4"
   },
   "outputs": [],
   "source": [
    "# Преобразуем столбцы с некорректными типами данных\n",
    "df['year_of_release'] = df['year_of_release'].fillna(0).astype(int)\n",
    "df['eu_sales'] = pd.to_numeric(df['eu_sales'], errors='coerce')\n",
    "df['jp_sales'] = pd.to_numeric(df['jp_sales'], errors='coerce')\n",
    "df['user_score'] = pd.to_numeric(df['user_score'], errors='coerce')"
   ]
  },
  {
   "cell_type": "code",
   "execution_count": 19,
   "id": "11003d69",
   "metadata": {
    "id": "11003d69"
   },
   "outputs": [
    {
     "data": {
      "text/plain": [
       "name                object\n",
       "platform            object\n",
       "year_of_release      int32\n",
       "genre               object\n",
       "na_sales           float64\n",
       "eu_sales           float64\n",
       "jp_sales           float64\n",
       "other_sales        float64\n",
       "critic_score       float64\n",
       "user_score         float64\n",
       "rating              object\n",
       "dtype: object"
      ]
     },
     "execution_count": 19,
     "metadata": {},
     "output_type": "execute_result"
    }
   ],
   "source": [
    "df.dtypes"
   ]
  },
  {
   "cell_type": "code",
   "execution_count": 20,
   "id": "8f52ebfb",
   "metadata": {},
   "outputs": [
    {
     "data": {
      "text/html": [
       "<div>\n",
       "<style scoped>\n",
       "    .dataframe tbody tr th:only-of-type {\n",
       "        vertical-align: middle;\n",
       "    }\n",
       "\n",
       "    .dataframe tbody tr th {\n",
       "        vertical-align: top;\n",
       "    }\n",
       "\n",
       "    .dataframe thead th {\n",
       "        text-align: right;\n",
       "    }\n",
       "</style>\n",
       "<table border=\"1\" class=\"dataframe\">\n",
       "  <thead>\n",
       "    <tr style=\"text-align: right;\">\n",
       "      <th></th>\n",
       "      <th>name</th>\n",
       "      <th>platform</th>\n",
       "      <th>year_of_release</th>\n",
       "      <th>genre</th>\n",
       "      <th>na_sales</th>\n",
       "      <th>eu_sales</th>\n",
       "      <th>jp_sales</th>\n",
       "      <th>other_sales</th>\n",
       "      <th>critic_score</th>\n",
       "      <th>user_score</th>\n",
       "      <th>rating</th>\n",
       "    </tr>\n",
       "  </thead>\n",
       "  <tbody>\n",
       "    <tr>\n",
       "      <th>0</th>\n",
       "      <td>Wii Sports</td>\n",
       "      <td>Wii</td>\n",
       "      <td>2006</td>\n",
       "      <td>Sports</td>\n",
       "      <td>41.36</td>\n",
       "      <td>28.96</td>\n",
       "      <td>3.77</td>\n",
       "      <td>8.45</td>\n",
       "      <td>76.0</td>\n",
       "      <td>8.0</td>\n",
       "      <td>E</td>\n",
       "    </tr>\n",
       "    <tr>\n",
       "      <th>1</th>\n",
       "      <td>Super Mario Bros.</td>\n",
       "      <td>NES</td>\n",
       "      <td>1985</td>\n",
       "      <td>Platform</td>\n",
       "      <td>29.08</td>\n",
       "      <td>3.58</td>\n",
       "      <td>6.81</td>\n",
       "      <td>0.77</td>\n",
       "      <td>NaN</td>\n",
       "      <td>NaN</td>\n",
       "      <td>NaN</td>\n",
       "    </tr>\n",
       "    <tr>\n",
       "      <th>2</th>\n",
       "      <td>Mario Kart Wii</td>\n",
       "      <td>Wii</td>\n",
       "      <td>2008</td>\n",
       "      <td>Racing</td>\n",
       "      <td>15.68</td>\n",
       "      <td>12.76</td>\n",
       "      <td>3.79</td>\n",
       "      <td>3.29</td>\n",
       "      <td>82.0</td>\n",
       "      <td>8.3</td>\n",
       "      <td>E</td>\n",
       "    </tr>\n",
       "    <tr>\n",
       "      <th>3</th>\n",
       "      <td>Wii Sports Resort</td>\n",
       "      <td>Wii</td>\n",
       "      <td>2009</td>\n",
       "      <td>Sports</td>\n",
       "      <td>15.61</td>\n",
       "      <td>10.93</td>\n",
       "      <td>3.28</td>\n",
       "      <td>2.95</td>\n",
       "      <td>80.0</td>\n",
       "      <td>8.0</td>\n",
       "      <td>E</td>\n",
       "    </tr>\n",
       "    <tr>\n",
       "      <th>4</th>\n",
       "      <td>Pokemon Red/Pokemon Blue</td>\n",
       "      <td>GB</td>\n",
       "      <td>1996</td>\n",
       "      <td>Role-Playing</td>\n",
       "      <td>11.27</td>\n",
       "      <td>8.89</td>\n",
       "      <td>10.22</td>\n",
       "      <td>1.00</td>\n",
       "      <td>NaN</td>\n",
       "      <td>NaN</td>\n",
       "      <td>NaN</td>\n",
       "    </tr>\n",
       "    <tr>\n",
       "      <th>5</th>\n",
       "      <td>Tetris</td>\n",
       "      <td>GB</td>\n",
       "      <td>1989</td>\n",
       "      <td>Puzzle</td>\n",
       "      <td>23.20</td>\n",
       "      <td>2.26</td>\n",
       "      <td>4.22</td>\n",
       "      <td>0.58</td>\n",
       "      <td>NaN</td>\n",
       "      <td>NaN</td>\n",
       "      <td>NaN</td>\n",
       "    </tr>\n",
       "    <tr>\n",
       "      <th>6</th>\n",
       "      <td>New Super Mario Bros.</td>\n",
       "      <td>DS</td>\n",
       "      <td>2006</td>\n",
       "      <td>Platform</td>\n",
       "      <td>11.28</td>\n",
       "      <td>9.14</td>\n",
       "      <td>6.50</td>\n",
       "      <td>2.88</td>\n",
       "      <td>89.0</td>\n",
       "      <td>8.5</td>\n",
       "      <td>E</td>\n",
       "    </tr>\n",
       "    <tr>\n",
       "      <th>7</th>\n",
       "      <td>Wii Play</td>\n",
       "      <td>Wii</td>\n",
       "      <td>2006</td>\n",
       "      <td>Misc</td>\n",
       "      <td>13.96</td>\n",
       "      <td>9.18</td>\n",
       "      <td>2.93</td>\n",
       "      <td>2.84</td>\n",
       "      <td>58.0</td>\n",
       "      <td>6.6</td>\n",
       "      <td>E</td>\n",
       "    </tr>\n",
       "    <tr>\n",
       "      <th>8</th>\n",
       "      <td>New Super Mario Bros. Wii</td>\n",
       "      <td>Wii</td>\n",
       "      <td>2009</td>\n",
       "      <td>Platform</td>\n",
       "      <td>14.44</td>\n",
       "      <td>6.94</td>\n",
       "      <td>4.70</td>\n",
       "      <td>2.24</td>\n",
       "      <td>87.0</td>\n",
       "      <td>8.4</td>\n",
       "      <td>E</td>\n",
       "    </tr>\n",
       "    <tr>\n",
       "      <th>9</th>\n",
       "      <td>Duck Hunt</td>\n",
       "      <td>NES</td>\n",
       "      <td>1984</td>\n",
       "      <td>Shooter</td>\n",
       "      <td>26.93</td>\n",
       "      <td>0.63</td>\n",
       "      <td>0.28</td>\n",
       "      <td>0.47</td>\n",
       "      <td>NaN</td>\n",
       "      <td>NaN</td>\n",
       "      <td>NaN</td>\n",
       "    </tr>\n",
       "    <tr>\n",
       "      <th>10</th>\n",
       "      <td>Nintendogs</td>\n",
       "      <td>DS</td>\n",
       "      <td>2005</td>\n",
       "      <td>Simulation</td>\n",
       "      <td>9.05</td>\n",
       "      <td>10.95</td>\n",
       "      <td>1.93</td>\n",
       "      <td>2.74</td>\n",
       "      <td>NaN</td>\n",
       "      <td>NaN</td>\n",
       "      <td>NaN</td>\n",
       "    </tr>\n",
       "    <tr>\n",
       "      <th>11</th>\n",
       "      <td>Mario Kart DS</td>\n",
       "      <td>DS</td>\n",
       "      <td>2005</td>\n",
       "      <td>Racing</td>\n",
       "      <td>9.71</td>\n",
       "      <td>7.47</td>\n",
       "      <td>4.13</td>\n",
       "      <td>1.90</td>\n",
       "      <td>91.0</td>\n",
       "      <td>8.6</td>\n",
       "      <td>E</td>\n",
       "    </tr>\n",
       "    <tr>\n",
       "      <th>12</th>\n",
       "      <td>Pokemon Gold/Pokemon Silver</td>\n",
       "      <td>GB</td>\n",
       "      <td>1999</td>\n",
       "      <td>Role-Playing</td>\n",
       "      <td>9.00</td>\n",
       "      <td>6.18</td>\n",
       "      <td>7.20</td>\n",
       "      <td>0.71</td>\n",
       "      <td>NaN</td>\n",
       "      <td>NaN</td>\n",
       "      <td>NaN</td>\n",
       "    </tr>\n",
       "    <tr>\n",
       "      <th>13</th>\n",
       "      <td>Wii Fit</td>\n",
       "      <td>Wii</td>\n",
       "      <td>2007</td>\n",
       "      <td>Sports</td>\n",
       "      <td>8.92</td>\n",
       "      <td>8.03</td>\n",
       "      <td>3.60</td>\n",
       "      <td>2.15</td>\n",
       "      <td>80.0</td>\n",
       "      <td>7.7</td>\n",
       "      <td>E</td>\n",
       "    </tr>\n",
       "    <tr>\n",
       "      <th>14</th>\n",
       "      <td>Kinect Adventures!</td>\n",
       "      <td>X360</td>\n",
       "      <td>2010</td>\n",
       "      <td>Misc</td>\n",
       "      <td>15.00</td>\n",
       "      <td>4.89</td>\n",
       "      <td>0.24</td>\n",
       "      <td>1.69</td>\n",
       "      <td>61.0</td>\n",
       "      <td>6.3</td>\n",
       "      <td>E</td>\n",
       "    </tr>\n",
       "  </tbody>\n",
       "</table>\n",
       "</div>"
      ],
      "text/plain": [
       "                           name platform  year_of_release         genre  \\\n",
       "0                    Wii Sports      Wii             2006        Sports   \n",
       "1             Super Mario Bros.      NES             1985      Platform   \n",
       "2                Mario Kart Wii      Wii             2008        Racing   \n",
       "3             Wii Sports Resort      Wii             2009        Sports   \n",
       "4      Pokemon Red/Pokemon Blue       GB             1996  Role-Playing   \n",
       "5                        Tetris       GB             1989        Puzzle   \n",
       "6         New Super Mario Bros.       DS             2006      Platform   \n",
       "7                      Wii Play      Wii             2006          Misc   \n",
       "8     New Super Mario Bros. Wii      Wii             2009      Platform   \n",
       "9                     Duck Hunt      NES             1984       Shooter   \n",
       "10                   Nintendogs       DS             2005    Simulation   \n",
       "11                Mario Kart DS       DS             2005        Racing   \n",
       "12  Pokemon Gold/Pokemon Silver       GB             1999  Role-Playing   \n",
       "13                      Wii Fit      Wii             2007        Sports   \n",
       "14           Kinect Adventures!     X360             2010          Misc   \n",
       "\n",
       "    na_sales  eu_sales  jp_sales  other_sales  critic_score  user_score rating  \n",
       "0      41.36     28.96      3.77         8.45          76.0         8.0      E  \n",
       "1      29.08      3.58      6.81         0.77           NaN         NaN    NaN  \n",
       "2      15.68     12.76      3.79         3.29          82.0         8.3      E  \n",
       "3      15.61     10.93      3.28         2.95          80.0         8.0      E  \n",
       "4      11.27      8.89     10.22         1.00           NaN         NaN    NaN  \n",
       "5      23.20      2.26      4.22         0.58           NaN         NaN    NaN  \n",
       "6      11.28      9.14      6.50         2.88          89.0         8.5      E  \n",
       "7      13.96      9.18      2.93         2.84          58.0         6.6      E  \n",
       "8      14.44      6.94      4.70         2.24          87.0         8.4      E  \n",
       "9      26.93      0.63      0.28         0.47           NaN         NaN    NaN  \n",
       "10      9.05     10.95      1.93         2.74           NaN         NaN    NaN  \n",
       "11      9.71      7.47      4.13         1.90          91.0         8.6      E  \n",
       "12      9.00      6.18      7.20         0.71           NaN         NaN    NaN  \n",
       "13      8.92      8.03      3.60         2.15          80.0         7.7      E  \n",
       "14     15.00      4.89      0.24         1.69          61.0         6.3      E  "
      ]
     },
     "execution_count": 20,
     "metadata": {},
     "output_type": "execute_result"
    }
   ],
   "source": [
    "df.head(15)"
   ]
  },
  {
   "cell_type": "markdown",
   "id": "b39893cb",
   "metadata": {
    "id": "b39893cb"
   },
   "source": [
    "### 2.3. Наличие пропусков в данных\n",
    "\n"
   ]
  },
  {
   "cell_type": "markdown",
   "id": "cf796f51",
   "metadata": {
    "id": "cf796f51"
   },
   "source": [
    "\n"
   ]
  },
  {
   "cell_type": "markdown",
   "id": "707800b5",
   "metadata": {
    "id": "bd69e642"
   },
   "source": [
    "### В процессе анализа данных были выявлены пропуски в:\n",
    "\n",
    "* Name: 2 пропуска (0.01%)\n",
    "* Year of Release: 275 пропусков (1.62%)\n",
    "* Genre: 2 пропуска (0.01%)\n",
    "* Critic Score: 8714 пропусков (51.39%)\n",
    "* User Score: 6804 пропуска (40.13%)\n",
    "* Rating: 6871 пропусков (40.52%)"
   ]
  },
  {
   "cell_type": "markdown",
   "id": "ac8ca797",
   "metadata": {
    "id": "b6965b19"
   },
   "source": [
    "### Возможные причины пропусков\n",
    "- Name и Genre: Пропуски могут возникать из-за ошибок при сборе данных или отсутствия информации о названии или жанре игры.\n",
    "- Year of Release: Пропуски могут быть связаны с отсутствием данных о годе выпуска, либо их просто не занесли в таблицу.\n",
    "- Critic Score, User Score и Rating: Высокое количество пропусков в этих столбцах может свидетельствовать о том, что не все игры были оценены критиками или пользователями."
   ]
  },
  {
   "cell_type": "markdown",
   "id": "c5828b29",
   "metadata": {},
   "source": [
    "* В столбцах Critic Score, User  Score и Rating заменим пропуски на значение 'unknown', чтобы сохранить целостность данных для дальнейшего анализа.\n",
    "* В Name , genre и year_of_release  оставим все без изменений , т.к % проспусков незначителен "
   ]
  },
  {
   "cell_type": "code",
   "execution_count": 21,
   "id": "cc2d1374",
   "metadata": {
    "id": "cc2d1374"
   },
   "outputs": [],
   "source": [
    "# Заменяем пропуски на значение 'unknown\n",
    "df['critic_score'].fillna('unknown', inplace=True) \n",
    "df['user_score'].fillna('unknown', inplace=True)\n",
    "df['rating'].fillna('unknown', inplace=True)"
   ]
  },
  {
   "cell_type": "code",
   "execution_count": 22,
   "id": "f843b7d6",
   "metadata": {},
   "outputs": [
    {
     "data": {
      "text/html": [
       "<div>\n",
       "<style scoped>\n",
       "    .dataframe tbody tr th:only-of-type {\n",
       "        vertical-align: middle;\n",
       "    }\n",
       "\n",
       "    .dataframe tbody tr th {\n",
       "        vertical-align: top;\n",
       "    }\n",
       "\n",
       "    .dataframe thead th {\n",
       "        text-align: right;\n",
       "    }\n",
       "</style>\n",
       "<table border=\"1\" class=\"dataframe\">\n",
       "  <thead>\n",
       "    <tr style=\"text-align: right;\">\n",
       "      <th></th>\n",
       "      <th>name</th>\n",
       "      <th>platform</th>\n",
       "      <th>year_of_release</th>\n",
       "      <th>genre</th>\n",
       "      <th>na_sales</th>\n",
       "      <th>eu_sales</th>\n",
       "      <th>jp_sales</th>\n",
       "      <th>other_sales</th>\n",
       "      <th>critic_score</th>\n",
       "      <th>user_score</th>\n",
       "      <th>rating</th>\n",
       "    </tr>\n",
       "  </thead>\n",
       "  <tbody>\n",
       "    <tr>\n",
       "      <th>0</th>\n",
       "      <td>Wii Sports</td>\n",
       "      <td>Wii</td>\n",
       "      <td>2006</td>\n",
       "      <td>Sports</td>\n",
       "      <td>41.36</td>\n",
       "      <td>28.96</td>\n",
       "      <td>3.77</td>\n",
       "      <td>8.45</td>\n",
       "      <td>76.0</td>\n",
       "      <td>8.0</td>\n",
       "      <td>E</td>\n",
       "    </tr>\n",
       "    <tr>\n",
       "      <th>1</th>\n",
       "      <td>Super Mario Bros.</td>\n",
       "      <td>NES</td>\n",
       "      <td>1985</td>\n",
       "      <td>Platform</td>\n",
       "      <td>29.08</td>\n",
       "      <td>3.58</td>\n",
       "      <td>6.81</td>\n",
       "      <td>0.77</td>\n",
       "      <td>unknown</td>\n",
       "      <td>unknown</td>\n",
       "      <td>unknown</td>\n",
       "    </tr>\n",
       "    <tr>\n",
       "      <th>2</th>\n",
       "      <td>Mario Kart Wii</td>\n",
       "      <td>Wii</td>\n",
       "      <td>2008</td>\n",
       "      <td>Racing</td>\n",
       "      <td>15.68</td>\n",
       "      <td>12.76</td>\n",
       "      <td>3.79</td>\n",
       "      <td>3.29</td>\n",
       "      <td>82.0</td>\n",
       "      <td>8.3</td>\n",
       "      <td>E</td>\n",
       "    </tr>\n",
       "    <tr>\n",
       "      <th>3</th>\n",
       "      <td>Wii Sports Resort</td>\n",
       "      <td>Wii</td>\n",
       "      <td>2009</td>\n",
       "      <td>Sports</td>\n",
       "      <td>15.61</td>\n",
       "      <td>10.93</td>\n",
       "      <td>3.28</td>\n",
       "      <td>2.95</td>\n",
       "      <td>80.0</td>\n",
       "      <td>8.0</td>\n",
       "      <td>E</td>\n",
       "    </tr>\n",
       "    <tr>\n",
       "      <th>4</th>\n",
       "      <td>Pokemon Red/Pokemon Blue</td>\n",
       "      <td>GB</td>\n",
       "      <td>1996</td>\n",
       "      <td>Role-Playing</td>\n",
       "      <td>11.27</td>\n",
       "      <td>8.89</td>\n",
       "      <td>10.22</td>\n",
       "      <td>1.00</td>\n",
       "      <td>unknown</td>\n",
       "      <td>unknown</td>\n",
       "      <td>unknown</td>\n",
       "    </tr>\n",
       "  </tbody>\n",
       "</table>\n",
       "</div>"
      ],
      "text/plain": [
       "                       name platform  year_of_release         genre  na_sales  \\\n",
       "0                Wii Sports      Wii             2006        Sports     41.36   \n",
       "1         Super Mario Bros.      NES             1985      Platform     29.08   \n",
       "2            Mario Kart Wii      Wii             2008        Racing     15.68   \n",
       "3         Wii Sports Resort      Wii             2009        Sports     15.61   \n",
       "4  Pokemon Red/Pokemon Blue       GB             1996  Role-Playing     11.27   \n",
       "\n",
       "   eu_sales  jp_sales  other_sales critic_score user_score   rating  \n",
       "0     28.96      3.77         8.45         76.0        8.0        E  \n",
       "1      3.58      6.81         0.77      unknown    unknown  unknown  \n",
       "2     12.76      3.79         3.29         82.0        8.3        E  \n",
       "3     10.93      3.28         2.95         80.0        8.0        E  \n",
       "4      8.89     10.22         1.00      unknown    unknown  unknown  "
      ]
     },
     "execution_count": 22,
     "metadata": {},
     "output_type": "execute_result"
    }
   ],
   "source": [
    "df.head()"
   ]
  },
  {
   "cell_type": "markdown",
   "id": "a63363fd",
   "metadata": {
    "id": "a63363fd"
   },
   "source": [
    "### 2.4. Явные и неявные дубликаты в данных\n",
    "\n",
    "- Изучите уникальные значения в категориальных данных, например с названиями жанра игры, платформы, рейтинга и года выпуска. Проверьте, встречаются ли среди данных неявные дубликаты, связанные с опечатками или разным способом написания.\n",
    "- При необходимости проведите нормализацию данных с текстовыми значениями. Названия или жанры игр можно привести к нижнему регистру, а названия рейтинга — к верхнему."
   ]
  },
  {
   "cell_type": "code",
   "execution_count": 23,
   "id": "491c9c39",
   "metadata": {
    "id": "491c9c39",
    "scrolled": true
   },
   "outputs": [
    {
     "data": {
      "text/plain": [
       "'жанры:'"
      ]
     },
     "metadata": {},
     "output_type": "display_data"
    },
    {
     "data": {
      "text/plain": [
       "array(['Sports', 'Platform', 'Racing', 'Role-Playing', 'Puzzle', 'Misc',\n",
       "       'Shooter', 'Simulation', 'Action', 'Fighting', 'Adventure',\n",
       "       'Strategy', nan, 'MISC', 'ROLE-PLAYING', 'RACING', 'ACTION',\n",
       "       'SHOOTER', 'FIGHTING', 'SPORTS', 'PLATFORM', 'ADVENTURE',\n",
       "       'SIMULATION', 'PUZZLE', 'STRATEGY'], dtype=object)"
      ]
     },
     "metadata": {},
     "output_type": "display_data"
    },
    {
     "data": {
      "text/plain": [
       "'платформы:'"
      ]
     },
     "metadata": {},
     "output_type": "display_data"
    },
    {
     "data": {
      "text/plain": [
       "array(['Wii', 'NES', 'GB', 'DS', 'X360', 'PS3', 'PS2', 'SNES', 'GBA',\n",
       "       'PS4', '3DS', 'N64', 'PS', 'XB', 'PC', '2600', 'PSP', 'XOne',\n",
       "       'WiiU', 'GC', 'GEN', 'DC', 'PSV', 'SAT', 'SCD', 'WS', 'NG', 'TG16',\n",
       "       '3DO', 'GG', 'PCFX'], dtype=object)"
      ]
     },
     "metadata": {},
     "output_type": "display_data"
    },
    {
     "data": {
      "text/plain": [
       "'рейтинги:'"
      ]
     },
     "metadata": {},
     "output_type": "display_data"
    },
    {
     "data": {
      "text/plain": [
       "array(['E', 'unknown', 'M', 'T', 'E10+', 'K-A', 'AO', 'EC', 'RP'],\n",
       "      dtype=object)"
      ]
     },
     "metadata": {},
     "output_type": "display_data"
    },
    {
     "data": {
      "text/plain": [
       "'год выпуска:'"
      ]
     },
     "metadata": {},
     "output_type": "display_data"
    },
    {
     "data": {
      "text/plain": [
       "array([2006, 1985, 2008, 2009, 1996, 1989, 1984, 2005, 1999, 2007, 2010,\n",
       "       2013, 2004, 1990, 1988, 2002, 2001, 2011, 1998, 2015, 2012, 2014,\n",
       "       1992, 1997, 1993, 1994, 1982, 2016, 2003, 1986, 2000,    0, 1995,\n",
       "       1991, 1981, 1987, 1980, 1983])"
      ]
     },
     "metadata": {},
     "output_type": "display_data"
    }
   ],
   "source": [
    "# Изучаем уникальные значения в категориальных данных\n",
    "unique_genre = df['genre'].unique()\n",
    "unique_platform = df['platform'].unique()\n",
    "unique_rating = df['rating'].unique()\n",
    "unique_year = df['year_of_release'].unique()\n",
    "display(\"жанры:\", unique_genre)\n",
    "display(\"платформы:\", unique_platform)\n",
    "display(\"рейтинги:\", unique_rating)\n",
    "display(\"год выпуска:\", unique_year)"
   ]
  },
  {
   "cell_type": "code",
   "execution_count": 24,
   "id": "7d4528ca",
   "metadata": {
    "scrolled": true
   },
   "outputs": [
    {
     "data": {
      "text/plain": [
       "0              sports\n",
       "1            platform\n",
       "2              racing\n",
       "3              sports\n",
       "4        role-playing\n",
       "             ...     \n",
       "16951          action\n",
       "16952          sports\n",
       "16953       adventure\n",
       "16954        platform\n",
       "16955      simulation\n",
       "Name: genre, Length: 16956, dtype: object"
      ]
     },
     "metadata": {},
     "output_type": "display_data"
    },
    {
     "data": {
      "text/plain": [
       "0         wii\n",
       "1         nes\n",
       "2         wii\n",
       "3         wii\n",
       "4          gb\n",
       "         ... \n",
       "16951     ps3\n",
       "16952    x360\n",
       "16953     psv\n",
       "16954     gba\n",
       "16955     psv\n",
       "Name: platform, Length: 16956, dtype: object"
      ]
     },
     "metadata": {},
     "output_type": "display_data"
    },
    {
     "data": {
      "text/plain": [
       "0              E\n",
       "1        UNKNOWN\n",
       "2              E\n",
       "3              E\n",
       "4        UNKNOWN\n",
       "          ...   \n",
       "16951    UNKNOWN\n",
       "16952    UNKNOWN\n",
       "16953    UNKNOWN\n",
       "16954    UNKNOWN\n",
       "16955    UNKNOWN\n",
       "Name: rating, Length: 16956, dtype: object"
      ]
     },
     "metadata": {},
     "output_type": "display_data"
    }
   ],
   "source": [
    "df['genre'] = df['genre'].str.lower()\n",
    "df['platform'] = df['platform'].str.lower()\n",
    "df['rating'] = df['rating'].str.upper()\n",
    "display(df['genre'])\n",
    "display(df['platform'])\n",
    "display(df['rating'])"
   ]
  },
  {
   "cell_type": "code",
   "execution_count": 25,
   "id": "b84b4149",
   "metadata": {},
   "outputs": [
    {
     "data": {
      "text/plain": [
       "'Количество явных дубликатов: 241'"
      ]
     },
     "metadata": {},
     "output_type": "display_data"
    }
   ],
   "source": [
    "# Проверяем наличие явных дубликатов\n",
    "duplicates = df.duplicated().sum()\n",
    "display(f'Количество явных дубликатов: {duplicates}')"
   ]
  },
  {
   "cell_type": "code",
   "execution_count": 26,
   "id": "a0cac80c",
   "metadata": {
    "id": "a0cac80c",
    "scrolled": true
   },
   "outputs": [
    {
     "data": {
      "text/html": [
       "<div>\n",
       "<style scoped>\n",
       "    .dataframe tbody tr th:only-of-type {\n",
       "        vertical-align: middle;\n",
       "    }\n",
       "\n",
       "    .dataframe tbody tr th {\n",
       "        vertical-align: top;\n",
       "    }\n",
       "\n",
       "    .dataframe thead th {\n",
       "        text-align: right;\n",
       "    }\n",
       "</style>\n",
       "<table border=\"1\" class=\"dataframe\">\n",
       "  <thead>\n",
       "    <tr style=\"text-align: right;\">\n",
       "      <th></th>\n",
       "      <th>name</th>\n",
       "      <th>platform</th>\n",
       "      <th>year_of_release</th>\n",
       "      <th>genre</th>\n",
       "      <th>na_sales</th>\n",
       "      <th>eu_sales</th>\n",
       "      <th>jp_sales</th>\n",
       "      <th>other_sales</th>\n",
       "      <th>critic_score</th>\n",
       "      <th>user_score</th>\n",
       "      <th>rating</th>\n",
       "    </tr>\n",
       "  </thead>\n",
       "  <tbody>\n",
       "    <tr>\n",
       "      <th>0</th>\n",
       "      <td>Wii Sports</td>\n",
       "      <td>wii</td>\n",
       "      <td>2006</td>\n",
       "      <td>sports</td>\n",
       "      <td>41.36</td>\n",
       "      <td>28.96</td>\n",
       "      <td>3.77</td>\n",
       "      <td>8.45</td>\n",
       "      <td>76.0</td>\n",
       "      <td>8.0</td>\n",
       "      <td>E</td>\n",
       "    </tr>\n",
       "    <tr>\n",
       "      <th>1</th>\n",
       "      <td>Super Mario Bros.</td>\n",
       "      <td>nes</td>\n",
       "      <td>1985</td>\n",
       "      <td>platform</td>\n",
       "      <td>29.08</td>\n",
       "      <td>3.58</td>\n",
       "      <td>6.81</td>\n",
       "      <td>0.77</td>\n",
       "      <td>unknown</td>\n",
       "      <td>unknown</td>\n",
       "      <td>UNKNOWN</td>\n",
       "    </tr>\n",
       "    <tr>\n",
       "      <th>2</th>\n",
       "      <td>Mario Kart Wii</td>\n",
       "      <td>wii</td>\n",
       "      <td>2008</td>\n",
       "      <td>racing</td>\n",
       "      <td>15.68</td>\n",
       "      <td>12.76</td>\n",
       "      <td>3.79</td>\n",
       "      <td>3.29</td>\n",
       "      <td>82.0</td>\n",
       "      <td>8.3</td>\n",
       "      <td>E</td>\n",
       "    </tr>\n",
       "    <tr>\n",
       "      <th>3</th>\n",
       "      <td>Wii Sports Resort</td>\n",
       "      <td>wii</td>\n",
       "      <td>2009</td>\n",
       "      <td>sports</td>\n",
       "      <td>15.61</td>\n",
       "      <td>10.93</td>\n",
       "      <td>3.28</td>\n",
       "      <td>2.95</td>\n",
       "      <td>80.0</td>\n",
       "      <td>8.0</td>\n",
       "      <td>E</td>\n",
       "    </tr>\n",
       "    <tr>\n",
       "      <th>4</th>\n",
       "      <td>Pokemon Red/Pokemon Blue</td>\n",
       "      <td>gb</td>\n",
       "      <td>1996</td>\n",
       "      <td>role-playing</td>\n",
       "      <td>11.27</td>\n",
       "      <td>8.89</td>\n",
       "      <td>10.22</td>\n",
       "      <td>1.00</td>\n",
       "      <td>unknown</td>\n",
       "      <td>unknown</td>\n",
       "      <td>UNKNOWN</td>\n",
       "    </tr>\n",
       "    <tr>\n",
       "      <th>5</th>\n",
       "      <td>Tetris</td>\n",
       "      <td>gb</td>\n",
       "      <td>1989</td>\n",
       "      <td>puzzle</td>\n",
       "      <td>23.20</td>\n",
       "      <td>2.26</td>\n",
       "      <td>4.22</td>\n",
       "      <td>0.58</td>\n",
       "      <td>unknown</td>\n",
       "      <td>unknown</td>\n",
       "      <td>UNKNOWN</td>\n",
       "    </tr>\n",
       "    <tr>\n",
       "      <th>6</th>\n",
       "      <td>New Super Mario Bros.</td>\n",
       "      <td>ds</td>\n",
       "      <td>2006</td>\n",
       "      <td>platform</td>\n",
       "      <td>11.28</td>\n",
       "      <td>9.14</td>\n",
       "      <td>6.50</td>\n",
       "      <td>2.88</td>\n",
       "      <td>89.0</td>\n",
       "      <td>8.5</td>\n",
       "      <td>E</td>\n",
       "    </tr>\n",
       "    <tr>\n",
       "      <th>7</th>\n",
       "      <td>Wii Play</td>\n",
       "      <td>wii</td>\n",
       "      <td>2006</td>\n",
       "      <td>misc</td>\n",
       "      <td>13.96</td>\n",
       "      <td>9.18</td>\n",
       "      <td>2.93</td>\n",
       "      <td>2.84</td>\n",
       "      <td>58.0</td>\n",
       "      <td>6.6</td>\n",
       "      <td>E</td>\n",
       "    </tr>\n",
       "    <tr>\n",
       "      <th>8</th>\n",
       "      <td>New Super Mario Bros. Wii</td>\n",
       "      <td>wii</td>\n",
       "      <td>2009</td>\n",
       "      <td>platform</td>\n",
       "      <td>14.44</td>\n",
       "      <td>6.94</td>\n",
       "      <td>4.70</td>\n",
       "      <td>2.24</td>\n",
       "      <td>87.0</td>\n",
       "      <td>8.4</td>\n",
       "      <td>E</td>\n",
       "    </tr>\n",
       "    <tr>\n",
       "      <th>9</th>\n",
       "      <td>Duck Hunt</td>\n",
       "      <td>nes</td>\n",
       "      <td>1984</td>\n",
       "      <td>shooter</td>\n",
       "      <td>26.93</td>\n",
       "      <td>0.63</td>\n",
       "      <td>0.28</td>\n",
       "      <td>0.47</td>\n",
       "      <td>unknown</td>\n",
       "      <td>unknown</td>\n",
       "      <td>UNKNOWN</td>\n",
       "    </tr>\n",
       "    <tr>\n",
       "      <th>10</th>\n",
       "      <td>Nintendogs</td>\n",
       "      <td>ds</td>\n",
       "      <td>2005</td>\n",
       "      <td>simulation</td>\n",
       "      <td>9.05</td>\n",
       "      <td>10.95</td>\n",
       "      <td>1.93</td>\n",
       "      <td>2.74</td>\n",
       "      <td>unknown</td>\n",
       "      <td>unknown</td>\n",
       "      <td>UNKNOWN</td>\n",
       "    </tr>\n",
       "    <tr>\n",
       "      <th>11</th>\n",
       "      <td>Mario Kart DS</td>\n",
       "      <td>ds</td>\n",
       "      <td>2005</td>\n",
       "      <td>racing</td>\n",
       "      <td>9.71</td>\n",
       "      <td>7.47</td>\n",
       "      <td>4.13</td>\n",
       "      <td>1.90</td>\n",
       "      <td>91.0</td>\n",
       "      <td>8.6</td>\n",
       "      <td>E</td>\n",
       "    </tr>\n",
       "    <tr>\n",
       "      <th>12</th>\n",
       "      <td>Pokemon Gold/Pokemon Silver</td>\n",
       "      <td>gb</td>\n",
       "      <td>1999</td>\n",
       "      <td>role-playing</td>\n",
       "      <td>9.00</td>\n",
       "      <td>6.18</td>\n",
       "      <td>7.20</td>\n",
       "      <td>0.71</td>\n",
       "      <td>unknown</td>\n",
       "      <td>unknown</td>\n",
       "      <td>UNKNOWN</td>\n",
       "    </tr>\n",
       "    <tr>\n",
       "      <th>13</th>\n",
       "      <td>Wii Fit</td>\n",
       "      <td>wii</td>\n",
       "      <td>2007</td>\n",
       "      <td>sports</td>\n",
       "      <td>8.92</td>\n",
       "      <td>8.03</td>\n",
       "      <td>3.60</td>\n",
       "      <td>2.15</td>\n",
       "      <td>80.0</td>\n",
       "      <td>7.7</td>\n",
       "      <td>E</td>\n",
       "    </tr>\n",
       "    <tr>\n",
       "      <th>14</th>\n",
       "      <td>Kinect Adventures!</td>\n",
       "      <td>x360</td>\n",
       "      <td>2010</td>\n",
       "      <td>misc</td>\n",
       "      <td>15.00</td>\n",
       "      <td>4.89</td>\n",
       "      <td>0.24</td>\n",
       "      <td>1.69</td>\n",
       "      <td>61.0</td>\n",
       "      <td>6.3</td>\n",
       "      <td>E</td>\n",
       "    </tr>\n",
       "  </tbody>\n",
       "</table>\n",
       "</div>"
      ],
      "text/plain": [
       "                           name platform  year_of_release         genre  \\\n",
       "0                    Wii Sports      wii             2006        sports   \n",
       "1             Super Mario Bros.      nes             1985      platform   \n",
       "2                Mario Kart Wii      wii             2008        racing   \n",
       "3             Wii Sports Resort      wii             2009        sports   \n",
       "4      Pokemon Red/Pokemon Blue       gb             1996  role-playing   \n",
       "5                        Tetris       gb             1989        puzzle   \n",
       "6         New Super Mario Bros.       ds             2006      platform   \n",
       "7                      Wii Play      wii             2006          misc   \n",
       "8     New Super Mario Bros. Wii      wii             2009      platform   \n",
       "9                     Duck Hunt      nes             1984       shooter   \n",
       "10                   Nintendogs       ds             2005    simulation   \n",
       "11                Mario Kart DS       ds             2005        racing   \n",
       "12  Pokemon Gold/Pokemon Silver       gb             1999  role-playing   \n",
       "13                      Wii Fit      wii             2007        sports   \n",
       "14           Kinect Adventures!     x360             2010          misc   \n",
       "\n",
       "    na_sales  eu_sales  jp_sales  other_sales critic_score user_score   rating  \n",
       "0      41.36     28.96      3.77         8.45         76.0        8.0        E  \n",
       "1      29.08      3.58      6.81         0.77      unknown    unknown  UNKNOWN  \n",
       "2      15.68     12.76      3.79         3.29         82.0        8.3        E  \n",
       "3      15.61     10.93      3.28         2.95         80.0        8.0        E  \n",
       "4      11.27      8.89     10.22         1.00      unknown    unknown  UNKNOWN  \n",
       "5      23.20      2.26      4.22         0.58      unknown    unknown  UNKNOWN  \n",
       "6      11.28      9.14      6.50         2.88         89.0        8.5        E  \n",
       "7      13.96      9.18      2.93         2.84         58.0        6.6        E  \n",
       "8      14.44      6.94      4.70         2.24         87.0        8.4        E  \n",
       "9      26.93      0.63      0.28         0.47      unknown    unknown  UNKNOWN  \n",
       "10      9.05     10.95      1.93         2.74      unknown    unknown  UNKNOWN  \n",
       "11      9.71      7.47      4.13         1.90         91.0        8.6        E  \n",
       "12      9.00      6.18      7.20         0.71      unknown    unknown  UNKNOWN  \n",
       "13      8.92      8.03      3.60         2.15         80.0        7.7        E  \n",
       "14     15.00      4.89      0.24         1.69         61.0        6.3        E  "
      ]
     },
     "metadata": {},
     "output_type": "display_data"
    }
   ],
   "source": [
    "# Удаляем явные дубликаты\n",
    "df.drop_duplicates(inplace=True)\n",
    "display(df.head(15))"
   ]
  },
  {
   "cell_type": "markdown",
   "id": "fc3d3db4",
   "metadata": {
    "id": "fc3d3db4"
   },
   "source": [
    "- После того как нормализуете данные и устраните неявные дубликаты, проверьте наличие явных дубликатов в данных."
   ]
  },
  {
   "cell_type": "markdown",
   "id": "54616bae",
   "metadata": {
    "id": "54616bae"
   },
   "source": [
    "- Напишите промежуточный вывод: укажите количество найденных дубликатов и действия по их обработке."
   ]
  },
  {
   "cell_type": "markdown",
   "id": "5c6f6371",
   "metadata": {
    "id": "8548f894"
   },
   "source": [
    "#### Проверка на явные дубликаты показала, что в данных есть 241 дубликат. Эти дубликаты могут быть удалены с помощью метода drop_duplicates().\n",
    "В процессе нормализации данных были устранены неявные дубликаты, связанные с различным регистром букв и написанием названий жанров и рейтингов."
   ]
  },
  {
   "cell_type": "markdown",
   "id": "b4207dea",
   "metadata": {},
   "source": [
    "Пропуски в данных были обработаны, и данные были нормализованы для дальнейшего анализа."
   ]
  },
  {
   "cell_type": "markdown",
   "id": "92fd1657",
   "metadata": {},
   "source": [
    "[Начало тетрадки](#intro)"
   ]
  },
  {
   "cell_type": "markdown",
   "id": "613f0eb0",
   "metadata": {
    "id": "613f0eb0"
   },
   "source": [
    "---\n",
    "\n",
    "## 3. Фильтрация данных\n",
    "\n"
   ]
  },
  {
   "cell_type": "markdown",
   "id": "9f012032",
   "metadata": {},
   "source": [
    "Коллеги хотят изучить историю продаж игр в начале XXI века, и их интересует период с 2000 по 2013 год включительно. Отберите данные по этому показателю. Сохраните новый срез данных в отдельном датафрейме, например `df_actual`."
   ]
  },
  {
   "cell_type": "code",
   "execution_count": 27,
   "id": "2344916d",
   "metadata": {
    "id": "2344916d"
   },
   "outputs": [
    {
     "data": {
      "text/plain": [
       "(12781, 11)"
      ]
     },
     "execution_count": 27,
     "metadata": {},
     "output_type": "execute_result"
    }
   ],
   "source": [
    "# Фильтрация данных по году выпуска\n",
    "df_actual = df[(df['year_of_release'] >= 2000) & (df['year_of_release'] <= 2013)]\n",
    "\n",
    "# Проверим, сколько строк в новом датафрейме\n",
    "df_actual.shape\n",
    "\n"
   ]
  },
  {
   "cell_type": "code",
   "execution_count": 28,
   "id": "44d7529f",
   "metadata": {
    "id": "44d7529f"
   },
   "outputs": [],
   "source": [
    "# Выведем первые строки "
   ]
  },
  {
   "cell_type": "code",
   "execution_count": 29,
   "id": "906577e8",
   "metadata": {
    "id": "906577e8"
   },
   "outputs": [
    {
     "data": {
      "text/html": [
       "<div>\n",
       "<style scoped>\n",
       "    .dataframe tbody tr th:only-of-type {\n",
       "        vertical-align: middle;\n",
       "    }\n",
       "\n",
       "    .dataframe tbody tr th {\n",
       "        vertical-align: top;\n",
       "    }\n",
       "\n",
       "    .dataframe thead th {\n",
       "        text-align: right;\n",
       "    }\n",
       "</style>\n",
       "<table border=\"1\" class=\"dataframe\">\n",
       "  <thead>\n",
       "    <tr style=\"text-align: right;\">\n",
       "      <th></th>\n",
       "      <th>name</th>\n",
       "      <th>platform</th>\n",
       "      <th>year_of_release</th>\n",
       "      <th>genre</th>\n",
       "      <th>na_sales</th>\n",
       "      <th>eu_sales</th>\n",
       "      <th>jp_sales</th>\n",
       "      <th>other_sales</th>\n",
       "      <th>critic_score</th>\n",
       "      <th>user_score</th>\n",
       "      <th>rating</th>\n",
       "    </tr>\n",
       "  </thead>\n",
       "  <tbody>\n",
       "    <tr>\n",
       "      <th>0</th>\n",
       "      <td>Wii Sports</td>\n",
       "      <td>wii</td>\n",
       "      <td>2006</td>\n",
       "      <td>sports</td>\n",
       "      <td>41.36</td>\n",
       "      <td>28.96</td>\n",
       "      <td>3.77</td>\n",
       "      <td>8.45</td>\n",
       "      <td>76.0</td>\n",
       "      <td>8.0</td>\n",
       "      <td>E</td>\n",
       "    </tr>\n",
       "    <tr>\n",
       "      <th>2</th>\n",
       "      <td>Mario Kart Wii</td>\n",
       "      <td>wii</td>\n",
       "      <td>2008</td>\n",
       "      <td>racing</td>\n",
       "      <td>15.68</td>\n",
       "      <td>12.76</td>\n",
       "      <td>3.79</td>\n",
       "      <td>3.29</td>\n",
       "      <td>82.0</td>\n",
       "      <td>8.3</td>\n",
       "      <td>E</td>\n",
       "    </tr>\n",
       "    <tr>\n",
       "      <th>3</th>\n",
       "      <td>Wii Sports Resort</td>\n",
       "      <td>wii</td>\n",
       "      <td>2009</td>\n",
       "      <td>sports</td>\n",
       "      <td>15.61</td>\n",
       "      <td>10.93</td>\n",
       "      <td>3.28</td>\n",
       "      <td>2.95</td>\n",
       "      <td>80.0</td>\n",
       "      <td>8.0</td>\n",
       "      <td>E</td>\n",
       "    </tr>\n",
       "    <tr>\n",
       "      <th>6</th>\n",
       "      <td>New Super Mario Bros.</td>\n",
       "      <td>ds</td>\n",
       "      <td>2006</td>\n",
       "      <td>platform</td>\n",
       "      <td>11.28</td>\n",
       "      <td>9.14</td>\n",
       "      <td>6.50</td>\n",
       "      <td>2.88</td>\n",
       "      <td>89.0</td>\n",
       "      <td>8.5</td>\n",
       "      <td>E</td>\n",
       "    </tr>\n",
       "    <tr>\n",
       "      <th>7</th>\n",
       "      <td>Wii Play</td>\n",
       "      <td>wii</td>\n",
       "      <td>2006</td>\n",
       "      <td>misc</td>\n",
       "      <td>13.96</td>\n",
       "      <td>9.18</td>\n",
       "      <td>2.93</td>\n",
       "      <td>2.84</td>\n",
       "      <td>58.0</td>\n",
       "      <td>6.6</td>\n",
       "      <td>E</td>\n",
       "    </tr>\n",
       "  </tbody>\n",
       "</table>\n",
       "</div>"
      ],
      "text/plain": [
       "                    name platform  year_of_release     genre  na_sales  \\\n",
       "0             Wii Sports      wii             2006    sports     41.36   \n",
       "2         Mario Kart Wii      wii             2008    racing     15.68   \n",
       "3      Wii Sports Resort      wii             2009    sports     15.61   \n",
       "6  New Super Mario Bros.       ds             2006  platform     11.28   \n",
       "7               Wii Play      wii             2006      misc     13.96   \n",
       "\n",
       "   eu_sales  jp_sales  other_sales critic_score user_score rating  \n",
       "0     28.96      3.77         8.45         76.0        8.0      E  \n",
       "2     12.76      3.79         3.29         82.0        8.3      E  \n",
       "3     10.93      3.28         2.95         80.0        8.0      E  \n",
       "6      9.14      6.50         2.88         89.0        8.5      E  \n",
       "7      9.18      2.93         2.84         58.0        6.6      E  "
      ]
     },
     "execution_count": 29,
     "metadata": {},
     "output_type": "execute_result"
    }
   ],
   "source": [
    "df_actual.head()"
   ]
  },
  {
   "cell_type": "markdown",
   "id": "15a15102",
   "metadata": {},
   "source": [
    "[начало тетрадки](#intro)"
   ]
  },
  {
   "cell_type": "markdown",
   "id": "a6f10b01",
   "metadata": {
    "id": "a6f10b01"
   },
   "source": [
    "---\n",
    "\n",
    "## 4. Категоризация данных\n",
    "    \n",
    "- Разделяем все игры по оценкам пользователей и выделяем такие категории: высокая оценка (от 8 до 10 включительно), средняя оценка (от 3 до 8, не включая правую границу интервала) и низкая оценка (от 0 до 3, не включая правую границу интервала)."
   ]
  },
  {
   "cell_type": "code",
   "execution_count": 30,
   "id": "230a559e",
   "metadata": {},
   "outputs": [],
   "source": [
    "# Функция для категоризации оценок пользователей\n",
    "def categorize_user_score(score):\n",
    "    if pd.isna(score) or score == 'unknown':\n",
    "        return 'unknown'\n",
    "    score = float(score)  # Преобразуем в float для сравнения\n",
    "    if 8 <= score <= 10:\n",
    "        return 'high'\n",
    "    elif 3 <= score < 8:\n",
    "        return 'medium'\n",
    "    else:\n",
    "        return 'low'\n"
   ]
  },
  {
   "cell_type": "markdown",
   "id": "f8f34b40",
   "metadata": {
    "id": "f8f34b40"
   },
   "source": [
    "- Разделяем  все игры по оценкам критиков и выделяем такие категории как : высокая оценка (от 80 до 100 включительно), средняя оценка (от 30 до 80, не включая правую границу интервала) и низкая оценка (от 0 до 30, не включая правую границу интервала)."
   ]
  },
  {
   "cell_type": "code",
   "execution_count": 31,
   "id": "548fde17",
   "metadata": {
    "id": "548fde17"
   },
   "outputs": [],
   "source": [
    "# Функция для категоризации оценок критиков\n",
    "def categorize_critic_score(score):\n",
    "    if pd.isna(score) or score == 'unknown':\n",
    "        return 'unknown'\n",
    "    score = float(score)  # Преобразуем в float для сравнения\n",
    "    if 80 <= score <= 100:\n",
    "        return 'high'\n",
    "    elif 30 <= score < 80:\n",
    "        return 'medium'\n",
    "    else:\n",
    "        return 'low'"
   ]
  },
  {
   "cell_type": "code",
   "execution_count": 32,
   "id": "07c4f5a2",
   "metadata": {},
   "outputs": [
    {
     "name": "stderr",
     "output_type": "stream",
     "text": [
      "D:\\Anaconda\\lib\\site-packages\\pandas\\core\\indexing.py:1667: SettingWithCopyWarning: \n",
      "A value is trying to be set on a copy of a slice from a DataFrame.\n",
      "Try using .loc[row_indexer,col_indexer] = value instead\n",
      "\n",
      "See the caveats in the documentation: https://pandas.pydata.org/pandas-docs/stable/user_guide/indexing.html#returning-a-view-versus-a-copy\n",
      "  self.obj[key] = value\n"
     ]
    },
    {
     "data": {
      "text/plain": [
       "'Количество игр по категориям оценок пользователей:'"
      ]
     },
     "metadata": {},
     "output_type": "display_data"
    },
    {
     "data": {
      "text/plain": [
       "unknown    6298\n",
       "medium     4081\n",
       "high       2286\n",
       "low         116\n",
       "Name: user_score_category, dtype: int64"
      ]
     },
     "metadata": {},
     "output_type": "display_data"
    },
    {
     "data": {
      "text/plain": [
       "'\\nКоличество игр по категориям оценок критиков:'"
      ]
     },
     "metadata": {},
     "output_type": "display_data"
    },
    {
     "data": {
      "text/plain": [
       "unknown    5612\n",
       "medium     5422\n",
       "high       1692\n",
       "low          55\n",
       "Name: critic_score_category, dtype: int64"
      ]
     },
     "metadata": {},
     "output_type": "display_data"
    }
   ],
   "source": [
    "# Применяем функции категоризации к соответствующим столбцам с использованием .loc\n",
    "df_actual.loc[:, 'user_score_category'] = df_actual['user_score'].apply(categorize_user_score)\n",
    "df_actual.loc[:, 'critic_score_category'] = df_actual['critic_score'].apply(categorize_critic_score)\n",
    "\n",
    "# Проверяем результат: группируем данные по категориям и считаем количество игр в каждой категории\n",
    "user_score_counts = df_actual['user_score_category'].value_counts()\n",
    "critic_score_counts = df_actual['critic_score_category'].value_counts()\n",
    "\n",
    "display(\"Количество игр по категориям оценок пользователей:\")\n",
    "display(user_score_counts)\n",
    "\n",
    "display(\"\\nКоличество игр по категориям оценок критиков:\")\n",
    "display(critic_score_counts)\n"
   ]
  },
  {
   "cell_type": "markdown",
   "id": "6a98444c",
   "metadata": {
    "id": "6a98444c"
   },
   "source": [
    "- Выделяем топ-7 платформ по количеству игр, выпущенных за весь актуальный период."
   ]
  },
  {
   "cell_type": "code",
   "execution_count": 33,
   "id": "003caa2c",
   "metadata": {
    "id": "003caa2c"
   },
   "outputs": [
    {
     "data": {
      "text/plain": [
       "ps2     2127\n",
       "ds      2120\n",
       "wii     1275\n",
       "psp     1180\n",
       "x360    1121\n",
       "ps3     1087\n",
       "gba      811\n",
       "Name: platform, dtype: int64"
      ]
     },
     "execution_count": 33,
     "metadata": {},
     "output_type": "execute_result"
    }
   ],
   "source": [
    "# Выделяем топ-7 платформ по количеству игр\n",
    "top_platforms = df_actual['platform'].value_counts().head(7)\n",
    "(\"\\nТоп-7 платформ по количеству игр:\")\n",
    "top_platforms\n"
   ]
  },
  {
   "cell_type": "markdown",
   "id": "770b7ff3",
   "metadata": {},
   "source": [
    "[начало тетрадки](#intro)"
   ]
  },
  {
   "cell_type": "markdown",
   "id": "c0158881",
   "metadata": {
    "id": "c0158881"
   },
   "source": [
    "---\n",
    "\n",
    "## 5. Итоговый вывод\n"
   ]
  },
  {
   "cell_type": "markdown",
   "id": "290f6ae6",
   "metadata": {
    "id": "20175f5b"
   },
   "source": [
    "#### В ходе выполнения проекта была проведена предобработка и анализ данных из датасета, содержащего информацию о продажах видеоигр.   \n",
    "* Датасет включает 11 столбцов и 16956 строк, содержащих данные о различных аспектах игр, таких как название, платформа, год выпуска, жанр, продажи и оценки.\n",
    "#### Предобработка данных,проверка и нормализация названий столбцов,обработка пропусков. \n",
    "- Пропуски в столбцах Critic Score, User  Score и Rating были заменены на значение 'unknown', в то время как пропуски в столбцах Name, Genre и Year of Release оставлены без изменений из-за их незначительного объёма.\n",
    "#### Удаление дубликатов: \n",
    "- В процессе анализа было выявлено 241 явный дубликат, который был успешно удалён.\n",
    "- Данные были отфильтрованы по годовому диапазону с 2000 по 2013. Новый датафрейм df_actual содержит 12781 строку.\n",
    "#### Категоризация данных:\n",
    "\n",
    "* Оценки пользователей были разделены на три категории: высокая, средняя и низкая.\n",
    "* Оценки критиков также были категоризированы по аналогичному принципу.\n",
    "* Было выделено топ-7 платформ по количеству игр, выпущенных за актуальный период, среди которых наибольшее количество игр выпущено для платформ PS2 и DS.\n",
    "#### Выводы:\n",
    "* Данные о продажах видеоигр содержат значительное количество пропусков и дубликатов, что требует внимательной предобработки перед анализом.\n",
    "* Наиболее популярными платформами в начале XXI века являются PS2 и DS, что может свидетельствовать о их влиянии на рынок видеоигр в тот период.\n",
    "* Категоризация оценок позволяет лучше понять, как пользователи и критики воспринимают игры, что может быть полезно для дальнейшего анализа и принятия решений в индустрии.\n",
    "* Таким образом, проведённый анализ и предобработка данных позволяют более глубоко изучить рынок видеоигр, выявить тенденции и сделать обоснованные выводы для дальнейшей работы."
   ]
  },
  {
   "cell_type": "markdown",
   "id": "5d868c0a",
   "metadata": {},
   "source": [
    "[начало тетрадки](#intro)"
   ]
  }
 ],
 "metadata": {
  "ExecuteTimeLog": [
   {
    "duration": 3,
    "start_time": "2024-12-25T09:57:07.357Z"
   },
   {
    "duration": 441,
    "start_time": "2024-12-25T09:57:07.946Z"
   },
   {
    "duration": 3,
    "start_time": "2024-12-25T09:57:08.714Z"
   },
   {
    "duration": 196,
    "start_time": "2024-12-25T09:57:09.521Z"
   },
   {
    "duration": 2,
    "start_time": "2024-12-25T09:57:10.690Z"
   },
   {
    "duration": 17,
    "start_time": "2024-12-25T09:57:11.210Z"
   },
   {
    "duration": 5,
    "start_time": "2024-12-25T10:11:40.572Z"
   },
   {
    "duration": 3,
    "start_time": "2024-12-25T10:11:40.584Z"
   },
   {
    "duration": 8,
    "start_time": "2024-12-25T10:11:40.589Z"
   },
   {
    "duration": 5,
    "start_time": "2024-12-25T10:11:40.599Z"
   },
   {
    "duration": 442,
    "start_time": "2024-12-25T10:11:40.606Z"
   },
   {
    "duration": 2,
    "start_time": "2024-12-25T10:11:41.050Z"
   },
   {
    "duration": 65,
    "start_time": "2024-12-25T10:11:41.054Z"
   },
   {
    "duration": 3,
    "start_time": "2024-12-25T10:11:41.120Z"
   },
   {
    "duration": 20,
    "start_time": "2024-12-25T10:11:41.124Z"
   },
   {
    "duration": 21,
    "start_time": "2024-12-25T10:18:21.140Z"
   },
   {
    "duration": 3,
    "start_time": "2024-12-25T11:23:51.455Z"
   },
   {
    "duration": 32,
    "start_time": "2024-12-25T11:23:51.460Z"
   },
   {
    "duration": 5,
    "start_time": "2024-12-25T11:23:51.494Z"
   },
   {
    "duration": 29,
    "start_time": "2024-12-25T11:23:51.500Z"
   },
   {
    "duration": 419,
    "start_time": "2024-12-25T11:23:51.531Z"
   },
   {
    "duration": 2,
    "start_time": "2024-12-25T11:23:51.952Z"
   },
   {
    "duration": 93,
    "start_time": "2024-12-25T11:23:51.956Z"
   },
   {
    "duration": 2,
    "start_time": "2024-12-25T11:23:52.051Z"
   },
   {
    "duration": 35,
    "start_time": "2024-12-25T11:23:52.055Z"
   },
   {
    "duration": 6,
    "start_time": "2024-12-25T11:23:52.097Z"
   },
   {
    "duration": 33,
    "start_time": "2024-12-25T11:23:52.105Z"
   },
   {
    "duration": 3,
    "start_time": "2024-12-25T11:27:10.491Z"
   },
   {
    "duration": 4,
    "start_time": "2024-12-25T11:27:10.819Z"
   },
   {
    "duration": 3,
    "start_time": "2024-12-25T11:28:22.000Z"
   },
   {
    "duration": 4,
    "start_time": "2024-12-25T11:28:22.304Z"
   },
   {
    "duration": 4,
    "start_time": "2024-12-25T11:28:25.552Z"
   },
   {
    "duration": 12,
    "start_time": "2024-12-25T11:28:48.465Z"
   },
   {
    "duration": 2,
    "start_time": "2024-12-25T11:37:07.734Z"
   },
   {
    "duration": 4,
    "start_time": "2024-12-25T11:37:07.951Z"
   },
   {
    "duration": 28,
    "start_time": "2024-12-25T11:41:16.499Z"
   },
   {
    "duration": 3,
    "start_time": "2024-12-25T11:41:38.995Z"
   },
   {
    "duration": 4,
    "start_time": "2024-12-25T11:41:42.382Z"
   },
   {
    "duration": 14,
    "start_time": "2024-12-25T11:42:15.476Z"
   },
   {
    "duration": 76,
    "start_time": "2024-12-25T11:43:32.776Z"
   },
   {
    "duration": 10,
    "start_time": "2024-12-25T11:43:37.751Z"
   },
   {
    "duration": 3,
    "start_time": "2024-12-25T11:45:28.532Z"
   },
   {
    "duration": 3,
    "start_time": "2024-12-25T11:46:30.945Z"
   },
   {
    "duration": 4,
    "start_time": "2024-12-25T11:46:31.465Z"
   },
   {
    "duration": 6,
    "start_time": "2024-12-25T11:46:32.090Z"
   },
   {
    "duration": 7,
    "start_time": "2024-12-25T11:46:32.921Z"
   },
   {
    "duration": 6,
    "start_time": "2024-12-25T11:46:43.642Z"
   },
   {
    "duration": 20,
    "start_time": "2024-12-25T11:56:59.962Z"
   },
   {
    "duration": 8,
    "start_time": "2024-12-25T11:57:30.442Z"
   },
   {
    "duration": 10,
    "start_time": "2024-12-25T11:57:38.930Z"
   },
   {
    "duration": 9,
    "start_time": "2024-12-25T11:57:49.846Z"
   },
   {
    "duration": 3,
    "start_time": "2024-12-25T11:59:02.244Z"
   },
   {
    "duration": 6,
    "start_time": "2024-12-25T11:59:02.583Z"
   },
   {
    "duration": 6,
    "start_time": "2024-12-25T11:59:03.411Z"
   },
   {
    "duration": 10,
    "start_time": "2024-12-25T11:59:09.014Z"
   },
   {
    "duration": 11,
    "start_time": "2024-12-25T11:59:13.027Z"
   },
   {
    "duration": 8,
    "start_time": "2024-12-25T11:59:54.341Z"
   },
   {
    "duration": 6,
    "start_time": "2024-12-25T11:59:54.852Z"
   },
   {
    "duration": 3,
    "start_time": "2024-12-25T12:00:23.489Z"
   },
   {
    "duration": 4,
    "start_time": "2024-12-25T12:00:35.984Z"
   },
   {
    "duration": 5,
    "start_time": "2024-12-25T12:00:39.114Z"
   },
   {
    "duration": 5,
    "start_time": "2024-12-25T12:00:40.194Z"
   },
   {
    "duration": 12,
    "start_time": "2024-12-25T12:04:45.586Z"
   },
   {
    "duration": 6,
    "start_time": "2024-12-25T12:09:06.695Z"
   },
   {
    "duration": 12,
    "start_time": "2024-12-25T12:09:11.390Z"
   },
   {
    "duration": 13,
    "start_time": "2024-12-25T12:09:12.527Z"
   },
   {
    "duration": 3,
    "start_time": "2024-12-25T12:09:17.428Z"
   },
   {
    "duration": 6,
    "start_time": "2024-12-25T12:09:17.433Z"
   },
   {
    "duration": 6,
    "start_time": "2024-12-25T12:09:17.440Z"
   },
   {
    "duration": 5,
    "start_time": "2024-12-25T12:09:17.448Z"
   },
   {
    "duration": 434,
    "start_time": "2024-12-25T12:09:17.455Z"
   },
   {
    "duration": 2,
    "start_time": "2024-12-25T12:09:17.891Z"
   },
   {
    "duration": 61,
    "start_time": "2024-12-25T12:09:17.895Z"
   },
   {
    "duration": 3,
    "start_time": "2024-12-25T12:09:17.957Z"
   },
   {
    "duration": 38,
    "start_time": "2024-12-25T12:09:17.962Z"
   },
   {
    "duration": 4,
    "start_time": "2024-12-25T12:09:18.003Z"
   },
   {
    "duration": 26,
    "start_time": "2024-12-25T12:09:18.008Z"
   },
   {
    "duration": 2,
    "start_time": "2024-12-25T12:09:18.035Z"
   },
   {
    "duration": 8,
    "start_time": "2024-12-25T12:09:18.039Z"
   },
   {
    "duration": 5,
    "start_time": "2024-12-25T12:09:18.049Z"
   },
   {
    "duration": 11,
    "start_time": "2024-12-25T12:09:18.056Z"
   },
   {
    "duration": 15,
    "start_time": "2024-12-25T12:09:18.068Z"
   },
   {
    "duration": 12,
    "start_time": "2024-12-25T12:09:18.085Z"
   },
   {
    "duration": 13,
    "start_time": "2024-12-25T12:09:18.098Z"
   },
   {
    "duration": 28,
    "start_time": "2024-12-25T12:09:18.113Z"
   },
   {
    "duration": 34,
    "start_time": "2024-12-25T12:09:18.143Z"
   },
   {
    "duration": 14,
    "start_time": "2024-12-25T12:09:24.183Z"
   },
   {
    "duration": 14,
    "start_time": "2024-12-25T12:09:27.821Z"
   },
   {
    "duration": 70,
    "start_time": "2024-12-25T12:58:21.722Z"
   },
   {
    "duration": 56,
    "start_time": "2024-12-25T12:58:25.994Z"
   },
   {
    "duration": 2,
    "start_time": "2024-12-25T12:58:26.513Z"
   },
   {
    "duration": 16,
    "start_time": "2024-12-25T12:58:27.226Z"
   },
   {
    "duration": 2,
    "start_time": "2024-12-25T12:58:36.689Z"
   },
   {
    "duration": 15,
    "start_time": "2024-12-25T12:58:37.099Z"
   },
   {
    "duration": 5,
    "start_time": "2024-12-25T12:58:49.634Z"
   },
   {
    "duration": 5,
    "start_time": "2024-12-25T12:59:00.662Z"
   },
   {
    "duration": 2,
    "start_time": "2024-12-25T12:59:01.070Z"
   },
   {
    "duration": 5,
    "start_time": "2024-12-25T12:59:02.199Z"
   },
   {
    "duration": 3,
    "start_time": "2024-12-25T12:59:15.374Z"
   },
   {
    "duration": 6,
    "start_time": "2024-12-25T12:59:16.014Z"
   },
   {
    "duration": 12,
    "start_time": "2024-12-25T12:59:30.055Z"
   },
   {
    "duration": 2,
    "start_time": "2024-12-25T12:59:30.623Z"
   },
   {
    "duration": 12,
    "start_time": "2024-12-25T12:59:31.167Z"
   },
   {
    "duration": 21,
    "start_time": "2024-12-25T13:02:08.739Z"
   },
   {
    "duration": 6,
    "start_time": "2024-12-25T13:02:10.737Z"
   },
   {
    "duration": 14,
    "start_time": "2024-12-25T13:07:11.125Z"
   },
   {
    "duration": 15,
    "start_time": "2024-12-25T13:07:26.085Z"
   },
   {
    "duration": 33,
    "start_time": "2024-12-25T13:08:07.566Z"
   },
   {
    "duration": 5,
    "start_time": "2024-12-25T13:08:50.202Z"
   },
   {
    "duration": 34,
    "start_time": "2024-12-25T13:08:51.635Z"
   },
   {
    "duration": 4,
    "start_time": "2024-12-25T13:09:00.738Z"
   },
   {
    "duration": 116,
    "start_time": "2024-12-25T13:09:00.744Z"
   },
   {
    "duration": 6,
    "start_time": "2024-12-25T13:09:00.862Z"
   },
   {
    "duration": 22,
    "start_time": "2024-12-25T13:09:00.869Z"
   },
   {
    "duration": 414,
    "start_time": "2024-12-25T13:09:00.893Z"
   },
   {
    "duration": 2,
    "start_time": "2024-12-25T13:09:01.309Z"
   },
   {
    "duration": 185,
    "start_time": "2024-12-25T13:09:01.312Z"
   },
   {
    "duration": 2,
    "start_time": "2024-12-25T13:09:01.499Z"
   },
   {
    "duration": 45,
    "start_time": "2024-12-25T13:09:01.503Z"
   },
   {
    "duration": 14,
    "start_time": "2024-12-25T13:09:01.549Z"
   },
   {
    "duration": 31,
    "start_time": "2024-12-25T13:09:01.564Z"
   },
   {
    "duration": 18,
    "start_time": "2024-12-25T13:09:01.596Z"
   },
   {
    "duration": 8,
    "start_time": "2024-12-25T13:09:01.616Z"
   },
   {
    "duration": 30,
    "start_time": "2024-12-25T13:09:01.626Z"
   },
   {
    "duration": 77,
    "start_time": "2024-12-25T13:09:01.657Z"
   },
   {
    "duration": 0,
    "start_time": "2024-12-25T13:09:01.736Z"
   },
   {
    "duration": 0,
    "start_time": "2024-12-25T13:09:01.737Z"
   },
   {
    "duration": 0,
    "start_time": "2024-12-25T13:09:01.738Z"
   },
   {
    "duration": 0,
    "start_time": "2024-12-25T13:09:01.740Z"
   },
   {
    "duration": 0,
    "start_time": "2024-12-25T13:09:01.741Z"
   },
   {
    "duration": 0,
    "start_time": "2024-12-25T13:09:01.742Z"
   },
   {
    "duration": 0,
    "start_time": "2024-12-25T13:09:01.743Z"
   },
   {
    "duration": 0,
    "start_time": "2024-12-25T13:09:01.744Z"
   },
   {
    "duration": 0,
    "start_time": "2024-12-25T13:09:01.745Z"
   },
   {
    "duration": 0,
    "start_time": "2024-12-25T13:09:01.747Z"
   },
   {
    "duration": 3,
    "start_time": "2024-12-25T13:09:10.006Z"
   },
   {
    "duration": 6,
    "start_time": "2024-12-25T13:09:10.606Z"
   },
   {
    "duration": 30,
    "start_time": "2024-12-25T13:09:12.126Z"
   },
   {
    "duration": 18,
    "start_time": "2024-12-25T13:09:38.020Z"
   },
   {
    "duration": 1435,
    "start_time": "2024-12-25T13:09:42.778Z"
   },
   {
    "duration": 0,
    "start_time": "2024-12-25T13:09:44.214Z"
   },
   {
    "duration": 32,
    "start_time": "2024-12-25T13:09:44.531Z"
   },
   {
    "duration": 1495,
    "start_time": "2024-12-25T13:10:44.701Z"
   },
   {
    "duration": 0,
    "start_time": "2024-12-25T13:10:46.198Z"
   },
   {
    "duration": 6,
    "start_time": "2024-12-25T13:10:51.864Z"
   },
   {
    "duration": 4,
    "start_time": "2024-12-25T13:11:55.653Z"
   },
   {
    "duration": 13,
    "start_time": "2024-12-25T13:11:55.659Z"
   },
   {
    "duration": 4,
    "start_time": "2024-12-25T13:11:55.674Z"
   },
   {
    "duration": 8,
    "start_time": "2024-12-25T13:11:55.679Z"
   },
   {
    "duration": 413,
    "start_time": "2024-12-25T13:11:55.690Z"
   },
   {
    "duration": 2,
    "start_time": "2024-12-25T13:11:56.105Z"
   },
   {
    "duration": 68,
    "start_time": "2024-12-25T13:11:56.108Z"
   },
   {
    "duration": 2,
    "start_time": "2024-12-25T13:11:56.178Z"
   },
   {
    "duration": 19,
    "start_time": "2024-12-25T13:11:56.182Z"
   },
   {
    "duration": 3,
    "start_time": "2024-12-25T13:11:56.202Z"
   },
   {
    "duration": 37,
    "start_time": "2024-12-25T13:11:56.207Z"
   },
   {
    "duration": 2,
    "start_time": "2024-12-25T13:11:56.246Z"
   },
   {
    "duration": 22,
    "start_time": "2024-12-25T13:11:56.249Z"
   },
   {
    "duration": 3,
    "start_time": "2024-12-25T13:11:56.273Z"
   },
   {
    "duration": 74,
    "start_time": "2024-12-25T13:11:56.278Z"
   },
   {
    "duration": 0,
    "start_time": "2024-12-25T13:11:56.354Z"
   },
   {
    "duration": 0,
    "start_time": "2024-12-25T13:11:56.356Z"
   },
   {
    "duration": 0,
    "start_time": "2024-12-25T13:11:56.371Z"
   },
   {
    "duration": 0,
    "start_time": "2024-12-25T13:11:56.372Z"
   },
   {
    "duration": 0,
    "start_time": "2024-12-25T13:11:56.373Z"
   },
   {
    "duration": 0,
    "start_time": "2024-12-25T13:11:56.374Z"
   },
   {
    "duration": 0,
    "start_time": "2024-12-25T13:11:56.375Z"
   },
   {
    "duration": 0,
    "start_time": "2024-12-25T13:11:56.376Z"
   },
   {
    "duration": 0,
    "start_time": "2024-12-25T13:11:56.377Z"
   },
   {
    "duration": 0,
    "start_time": "2024-12-25T13:11:56.378Z"
   },
   {
    "duration": 12,
    "start_time": "2024-12-25T13:12:08.539Z"
   },
   {
    "duration": 14,
    "start_time": "2024-12-25T13:12:12.250Z"
   },
   {
    "duration": 3,
    "start_time": "2024-12-25T13:12:20.858Z"
   },
   {
    "duration": 15,
    "start_time": "2024-12-25T13:12:21.226Z"
   },
   {
    "duration": 14,
    "start_time": "2024-12-25T13:12:28.955Z"
   },
   {
    "duration": 6,
    "start_time": "2024-12-25T13:16:01.339Z"
   },
   {
    "duration": 5,
    "start_time": "2024-12-25T13:17:14.064Z"
   },
   {
    "duration": 19,
    "start_time": "2024-12-25T13:17:15.024Z"
   },
   {
    "duration": 22,
    "start_time": "2024-12-25T13:18:03.310Z"
   },
   {
    "duration": 5,
    "start_time": "2024-12-25T13:18:03.765Z"
   },
   {
    "duration": 18,
    "start_time": "2024-12-25T13:18:07.149Z"
   },
   {
    "duration": 12,
    "start_time": "2024-12-25T13:23:44.787Z"
   },
   {
    "duration": 3,
    "start_time": "2024-12-25T13:32:51.844Z"
   },
   {
    "duration": 51,
    "start_time": "2024-12-25T13:32:51.849Z"
   },
   {
    "duration": 8,
    "start_time": "2024-12-25T13:32:51.901Z"
   },
   {
    "duration": 11,
    "start_time": "2024-12-25T13:32:51.912Z"
   },
   {
    "duration": 473,
    "start_time": "2024-12-25T13:32:51.924Z"
   },
   {
    "duration": 2,
    "start_time": "2024-12-25T13:32:52.399Z"
   },
   {
    "duration": 62,
    "start_time": "2024-12-25T13:32:52.404Z"
   },
   {
    "duration": 3,
    "start_time": "2024-12-25T13:32:52.468Z"
   },
   {
    "duration": 21,
    "start_time": "2024-12-25T13:32:52.475Z"
   },
   {
    "duration": 3,
    "start_time": "2024-12-25T13:32:52.498Z"
   },
   {
    "duration": 22,
    "start_time": "2024-12-25T13:32:52.503Z"
   },
   {
    "duration": 5,
    "start_time": "2024-12-25T13:32:52.527Z"
   },
   {
    "duration": 6,
    "start_time": "2024-12-25T13:32:52.534Z"
   },
   {
    "duration": 41,
    "start_time": "2024-12-25T13:32:52.541Z"
   },
   {
    "duration": 12,
    "start_time": "2024-12-25T13:32:52.584Z"
   },
   {
    "duration": 8,
    "start_time": "2024-12-25T13:32:52.597Z"
   },
   {
    "duration": 13,
    "start_time": "2024-12-25T13:32:52.607Z"
   },
   {
    "duration": 47,
    "start_time": "2024-12-25T13:32:52.622Z"
   },
   {
    "duration": 24,
    "start_time": "2024-12-25T13:32:52.671Z"
   },
   {
    "duration": 4,
    "start_time": "2024-12-25T13:32:52.697Z"
   },
   {
    "duration": 24,
    "start_time": "2024-12-25T13:32:52.703Z"
   },
   {
    "duration": 6,
    "start_time": "2024-12-25T13:32:52.729Z"
   },
   {
    "duration": 28,
    "start_time": "2024-12-25T13:32:52.737Z"
   },
   {
    "duration": 10,
    "start_time": "2024-12-25T13:32:52.773Z"
   },
   {
    "duration": 14,
    "start_time": "2024-12-25T13:32:52.785Z"
   },
   {
    "duration": 11,
    "start_time": "2024-12-25T13:49:02.977Z"
   },
   {
    "duration": 4,
    "start_time": "2024-12-25T13:49:13.024Z"
   },
   {
    "duration": 3,
    "start_time": "2024-12-25T13:49:13.031Z"
   },
   {
    "duration": 3,
    "start_time": "2024-12-25T13:49:13.036Z"
   },
   {
    "duration": 8,
    "start_time": "2024-12-25T13:49:13.042Z"
   },
   {
    "duration": 432,
    "start_time": "2024-12-25T13:49:13.051Z"
   },
   {
    "duration": 3,
    "start_time": "2024-12-25T13:49:13.484Z"
   },
   {
    "duration": 72,
    "start_time": "2024-12-25T13:49:13.489Z"
   },
   {
    "duration": 2,
    "start_time": "2024-12-25T13:49:13.563Z"
   },
   {
    "duration": 73,
    "start_time": "2024-12-25T13:49:13.567Z"
   },
   {
    "duration": 3,
    "start_time": "2024-12-25T13:49:13.641Z"
   },
   {
    "duration": 20,
    "start_time": "2024-12-25T13:49:13.646Z"
   },
   {
    "duration": 3,
    "start_time": "2024-12-25T13:49:13.668Z"
   },
   {
    "duration": 17,
    "start_time": "2024-12-25T13:49:13.673Z"
   },
   {
    "duration": 7,
    "start_time": "2024-12-25T13:49:13.691Z"
   },
   {
    "duration": 8,
    "start_time": "2024-12-25T13:49:13.701Z"
   },
   {
    "duration": 5,
    "start_time": "2024-12-25T13:49:13.711Z"
   },
   {
    "duration": 10,
    "start_time": "2024-12-25T13:49:13.717Z"
   },
   {
    "duration": 26,
    "start_time": "2024-12-25T13:49:13.729Z"
   },
   {
    "duration": 24,
    "start_time": "2024-12-25T13:49:13.757Z"
   },
   {
    "duration": 6,
    "start_time": "2024-12-25T13:49:13.782Z"
   },
   {
    "duration": 26,
    "start_time": "2024-12-25T13:49:13.790Z"
   },
   {
    "duration": 106,
    "start_time": "2024-12-25T13:49:13.817Z"
   },
   {
    "duration": 20,
    "start_time": "2024-12-25T13:49:13.925Z"
   },
   {
    "duration": 9,
    "start_time": "2024-12-25T13:49:13.946Z"
   },
   {
    "duration": 21,
    "start_time": "2024-12-25T13:49:13.957Z"
   },
   {
    "duration": 11,
    "start_time": "2024-12-25T13:49:20.057Z"
   },
   {
    "duration": 5,
    "start_time": "2024-12-25T13:49:28.497Z"
   },
   {
    "duration": 11,
    "start_time": "2024-12-25T13:49:34.593Z"
   },
   {
    "duration": 2,
    "start_time": "2024-12-25T13:52:07.077Z"
   },
   {
    "duration": 3,
    "start_time": "2024-12-25T13:52:07.572Z"
   },
   {
    "duration": 56,
    "start_time": "2024-12-25T13:52:08.109Z"
   },
   {
    "duration": 2,
    "start_time": "2024-12-25T13:52:08.918Z"
   },
   {
    "duration": 16,
    "start_time": "2024-12-25T13:52:10.405Z"
   },
   {
    "duration": 2,
    "start_time": "2024-12-25T13:52:13.917Z"
   },
   {
    "duration": 14,
    "start_time": "2024-12-25T13:52:14.694Z"
   },
   {
    "duration": 2,
    "start_time": "2024-12-25T13:52:26.933Z"
   },
   {
    "duration": 3,
    "start_time": "2024-12-25T13:52:29.182Z"
   },
   {
    "duration": 2,
    "start_time": "2024-12-25T13:52:29.989Z"
   },
   {
    "duration": 5,
    "start_time": "2024-12-25T13:52:32.529Z"
   },
   {
    "duration": 2,
    "start_time": "2024-12-25T13:52:38.985Z"
   },
   {
    "duration": 5,
    "start_time": "2024-12-25T13:52:40.953Z"
   },
   {
    "duration": 18,
    "start_time": "2024-12-25T13:52:45.602Z"
   },
   {
    "duration": 17,
    "start_time": "2024-12-25T13:54:21.328Z"
   },
   {
    "duration": 2,
    "start_time": "2024-12-25T13:54:22.967Z"
   },
   {
    "duration": 12,
    "start_time": "2024-12-25T13:54:24.399Z"
   },
   {
    "duration": 13,
    "start_time": "2024-12-25T13:54:25.920Z"
   },
   {
    "duration": 23,
    "start_time": "2024-12-25T13:54:39.367Z"
   },
   {
    "duration": 5,
    "start_time": "2024-12-25T13:54:40.088Z"
   },
   {
    "duration": 18,
    "start_time": "2024-12-25T13:54:42.224Z"
   },
   {
    "duration": 20,
    "start_time": "2024-12-25T14:02:26.613Z"
   },
   {
    "duration": 13,
    "start_time": "2024-12-25T14:02:27.229Z"
   },
   {
    "duration": 8,
    "start_time": "2024-12-25T14:03:08.093Z"
   },
   {
    "duration": 13,
    "start_time": "2024-12-25T14:03:08.614Z"
   },
   {
    "duration": 7,
    "start_time": "2024-12-25T14:03:51.636Z"
   },
   {
    "duration": 123,
    "start_time": "2024-12-25T14:04:05.970Z"
   },
   {
    "duration": 14,
    "start_time": "2024-12-25T14:04:06.386Z"
   },
   {
    "duration": 120,
    "start_time": "2024-12-25T14:04:22.699Z"
   },
   {
    "duration": 7,
    "start_time": "2024-12-25T14:04:23.043Z"
   },
   {
    "duration": 8,
    "start_time": "2024-12-25T14:04:34.674Z"
   },
   {
    "duration": 14,
    "start_time": "2024-12-25T14:04:36.119Z"
   },
   {
    "duration": 9,
    "start_time": "2024-12-25T14:18:08.546Z"
   },
   {
    "duration": 8,
    "start_time": "2024-12-25T14:18:28.924Z"
   },
   {
    "duration": 10,
    "start_time": "2024-12-25T14:18:42.530Z"
   },
   {
    "duration": 4,
    "start_time": "2024-12-25T14:18:57.792Z"
   },
   {
    "duration": 10,
    "start_time": "2024-12-25T14:18:57.798Z"
   },
   {
    "duration": 15,
    "start_time": "2024-12-25T14:18:57.809Z"
   },
   {
    "duration": 4,
    "start_time": "2024-12-25T14:18:57.826Z"
   },
   {
    "duration": 396,
    "start_time": "2024-12-25T14:18:57.832Z"
   },
   {
    "duration": 8,
    "start_time": "2024-12-25T14:18:58.229Z"
   },
   {
    "duration": 68,
    "start_time": "2024-12-25T14:18:58.240Z"
   },
   {
    "duration": 2,
    "start_time": "2024-12-25T14:18:58.310Z"
   },
   {
    "duration": 19,
    "start_time": "2024-12-25T14:18:58.314Z"
   },
   {
    "duration": 3,
    "start_time": "2024-12-25T14:18:58.335Z"
   },
   {
    "duration": 34,
    "start_time": "2024-12-25T14:18:58.340Z"
   },
   {
    "duration": 3,
    "start_time": "2024-12-25T14:18:58.376Z"
   },
   {
    "duration": 6,
    "start_time": "2024-12-25T14:18:58.381Z"
   },
   {
    "duration": 5,
    "start_time": "2024-12-25T14:18:58.389Z"
   },
   {
    "duration": 13,
    "start_time": "2024-12-25T14:18:58.396Z"
   },
   {
    "duration": 4,
    "start_time": "2024-12-25T14:18:58.411Z"
   },
   {
    "duration": 13,
    "start_time": "2024-12-25T14:18:58.417Z"
   },
   {
    "duration": 41,
    "start_time": "2024-12-25T14:18:58.431Z"
   },
   {
    "duration": 4,
    "start_time": "2024-12-25T14:18:58.474Z"
   },
   {
    "duration": 25,
    "start_time": "2024-12-25T14:18:58.480Z"
   },
   {
    "duration": 15,
    "start_time": "2024-12-25T14:18:58.507Z"
   },
   {
    "duration": 23,
    "start_time": "2024-12-25T14:18:58.524Z"
   },
   {
    "duration": 23,
    "start_time": "2024-12-25T14:18:58.549Z"
   },
   {
    "duration": 19,
    "start_time": "2024-12-25T14:18:58.576Z"
   },
   {
    "duration": 17,
    "start_time": "2024-12-25T14:18:58.597Z"
   },
   {
    "duration": 24,
    "start_time": "2024-12-25T14:18:58.616Z"
   },
   {
    "duration": 17,
    "start_time": "2024-12-25T14:18:58.641Z"
   },
   {
    "duration": 9,
    "start_time": "2024-12-25T14:19:03.447Z"
   },
   {
    "duration": 9,
    "start_time": "2024-12-25T14:19:43.727Z"
   },
   {
    "duration": 76,
    "start_time": "2024-12-25T14:20:15.155Z"
   },
   {
    "duration": 9,
    "start_time": "2024-12-25T14:20:24.852Z"
   },
   {
    "duration": 10,
    "start_time": "2024-12-25T14:21:21.642Z"
   },
   {
    "duration": 22,
    "start_time": "2024-12-25T14:22:40.440Z"
   },
   {
    "duration": 21,
    "start_time": "2024-12-25T14:22:43.335Z"
   },
   {
    "duration": 21,
    "start_time": "2024-12-25T14:22:48.264Z"
   },
   {
    "duration": 10,
    "start_time": "2024-12-25T14:23:26.871Z"
   },
   {
    "duration": 20,
    "start_time": "2024-12-25T14:23:27.152Z"
   },
   {
    "duration": 11,
    "start_time": "2024-12-25T14:26:20.263Z"
   },
   {
    "duration": 9,
    "start_time": "2024-12-25T14:26:32.871Z"
   },
   {
    "duration": 8,
    "start_time": "2024-12-25T14:26:35.919Z"
   },
   {
    "duration": 4,
    "start_time": "2024-12-25T14:26:42.228Z"
   },
   {
    "duration": 8,
    "start_time": "2024-12-25T14:26:42.234Z"
   },
   {
    "duration": 4,
    "start_time": "2024-12-25T14:26:42.244Z"
   },
   {
    "duration": 18,
    "start_time": "2024-12-25T14:26:42.249Z"
   },
   {
    "duration": 433,
    "start_time": "2024-12-25T14:26:42.269Z"
   },
   {
    "duration": 3,
    "start_time": "2024-12-25T14:26:42.704Z"
   },
   {
    "duration": 80,
    "start_time": "2024-12-25T14:26:42.708Z"
   },
   {
    "duration": 3,
    "start_time": "2024-12-25T14:26:42.790Z"
   },
   {
    "duration": 18,
    "start_time": "2024-12-25T14:26:42.795Z"
   },
   {
    "duration": 3,
    "start_time": "2024-12-25T14:26:42.815Z"
   },
   {
    "duration": 55,
    "start_time": "2024-12-25T14:26:42.822Z"
   },
   {
    "duration": 3,
    "start_time": "2024-12-25T14:26:42.878Z"
   },
   {
    "duration": 8,
    "start_time": "2024-12-25T14:26:42.883Z"
   },
   {
    "duration": 3,
    "start_time": "2024-12-25T14:26:42.892Z"
   },
   {
    "duration": 6,
    "start_time": "2024-12-25T14:26:42.897Z"
   },
   {
    "duration": 3,
    "start_time": "2024-12-25T14:26:42.905Z"
   },
   {
    "duration": 17,
    "start_time": "2024-12-25T14:26:42.909Z"
   },
   {
    "duration": 19,
    "start_time": "2024-12-25T14:26:42.928Z"
   },
   {
    "duration": 2,
    "start_time": "2024-12-25T14:26:42.971Z"
   },
   {
    "duration": 19,
    "start_time": "2024-12-25T14:26:42.975Z"
   },
   {
    "duration": 14,
    "start_time": "2024-12-25T14:26:42.996Z"
   },
   {
    "duration": 20,
    "start_time": "2024-12-25T14:26:43.012Z"
   },
   {
    "duration": 90,
    "start_time": "2024-12-25T14:26:43.034Z"
   },
   {
    "duration": 32,
    "start_time": "2024-12-25T14:26:43.126Z"
   },
   {
    "duration": 30,
    "start_time": "2024-12-25T14:26:43.160Z"
   },
   {
    "duration": 33,
    "start_time": "2024-12-25T14:26:43.192Z"
   },
   {
    "duration": 12,
    "start_time": "2024-12-25T14:26:43.227Z"
   },
   {
    "duration": 2,
    "start_time": "2024-12-25T14:26:43.241Z"
   },
   {
    "duration": 29,
    "start_time": "2024-12-25T14:26:43.246Z"
   },
   {
    "duration": 8,
    "start_time": "2024-12-25T14:26:47.590Z"
   },
   {
    "duration": 2,
    "start_time": "2024-12-25T14:26:51.632Z"
   },
   {
    "duration": 7,
    "start_time": "2024-12-25T14:26:51.847Z"
   },
   {
    "duration": 9,
    "start_time": "2024-12-25T14:27:12.016Z"
   },
   {
    "duration": 9,
    "start_time": "2024-12-25T14:27:15.304Z"
   },
   {
    "duration": 87,
    "start_time": "2024-12-25T14:27:44.532Z"
   },
   {
    "duration": 3,
    "start_time": "2024-12-25T14:27:48.988Z"
   },
   {
    "duration": 12,
    "start_time": "2024-12-25T14:27:51.123Z"
   },
   {
    "duration": 8,
    "start_time": "2024-12-25T14:28:21.262Z"
   },
   {
    "duration": 7,
    "start_time": "2024-12-25T14:28:54.457Z"
   },
   {
    "duration": 7,
    "start_time": "2024-12-25T14:29:03.722Z"
   },
   {
    "duration": 10,
    "start_time": "2024-12-25T14:29:48.919Z"
   },
   {
    "duration": 9,
    "start_time": "2024-12-25T14:30:00.160Z"
   },
   {
    "duration": 32,
    "start_time": "2024-12-25T14:31:05.084Z"
   },
   {
    "duration": 9,
    "start_time": "2024-12-25T15:50:44.693Z"
   },
   {
    "duration": 16,
    "start_time": "2024-12-25T15:51:00.565Z"
   },
   {
    "duration": 15,
    "start_time": "2024-12-25T15:51:10.006Z"
   },
   {
    "duration": 9,
    "start_time": "2024-12-25T15:52:10.804Z"
   },
   {
    "duration": 7,
    "start_time": "2024-12-25T15:52:12.643Z"
   },
   {
    "duration": 10,
    "start_time": "2024-12-25T15:52:18.539Z"
   },
   {
    "duration": 21,
    "start_time": "2024-12-25T15:52:37.011Z"
   },
   {
    "duration": 26,
    "start_time": "2024-12-25T15:53:04.656Z"
   },
   {
    "duration": 19,
    "start_time": "2024-12-25T15:54:37.902Z"
   },
   {
    "duration": 23,
    "start_time": "2024-12-25T15:54:57.182Z"
   },
   {
    "duration": 19,
    "start_time": "2024-12-25T15:54:59.910Z"
   },
   {
    "duration": 29,
    "start_time": "2024-12-25T15:55:24.195Z"
   },
   {
    "duration": 24,
    "start_time": "2024-12-25T15:55:54.220Z"
   },
   {
    "duration": 3,
    "start_time": "2024-12-25T16:27:55.579Z"
   },
   {
    "duration": 10,
    "start_time": "2024-12-25T16:27:55.584Z"
   },
   {
    "duration": 6,
    "start_time": "2024-12-25T16:27:55.595Z"
   },
   {
    "duration": 4,
    "start_time": "2024-12-25T16:27:55.602Z"
   },
   {
    "duration": 398,
    "start_time": "2024-12-25T16:27:55.607Z"
   },
   {
    "duration": 3,
    "start_time": "2024-12-25T16:27:56.007Z"
   },
   {
    "duration": 85,
    "start_time": "2024-12-25T16:27:56.012Z"
   },
   {
    "duration": 48,
    "start_time": "2024-12-25T16:27:56.098Z"
   },
   {
    "duration": 21,
    "start_time": "2024-12-25T16:27:56.148Z"
   },
   {
    "duration": 5,
    "start_time": "2024-12-25T16:27:56.171Z"
   },
   {
    "duration": 24,
    "start_time": "2024-12-25T16:27:56.179Z"
   },
   {
    "duration": 3,
    "start_time": "2024-12-25T16:27:56.205Z"
   },
   {
    "duration": 9,
    "start_time": "2024-12-25T16:27:56.209Z"
   },
   {
    "duration": 4,
    "start_time": "2024-12-25T16:27:56.220Z"
   },
   {
    "duration": 12,
    "start_time": "2024-12-25T16:27:56.225Z"
   },
   {
    "duration": 7,
    "start_time": "2024-12-25T16:27:56.239Z"
   },
   {
    "duration": 11,
    "start_time": "2024-12-25T16:27:56.248Z"
   },
   {
    "duration": 18,
    "start_time": "2024-12-25T16:27:56.271Z"
   },
   {
    "duration": 5,
    "start_time": "2024-12-25T16:27:56.290Z"
   },
   {
    "duration": 99,
    "start_time": "2024-12-25T16:27:56.297Z"
   },
   {
    "duration": 104,
    "start_time": "2024-12-25T16:27:56.398Z"
   },
   {
    "duration": 23,
    "start_time": "2024-12-25T16:27:56.504Z"
   },
   {
    "duration": 4,
    "start_time": "2024-12-25T16:27:56.529Z"
   },
   {
    "duration": 27,
    "start_time": "2024-12-25T16:27:56.535Z"
   },
   {
    "duration": 22,
    "start_time": "2024-12-25T16:27:56.563Z"
   },
   {
    "duration": 13,
    "start_time": "2024-12-25T16:27:56.586Z"
   },
   {
    "duration": 9,
    "start_time": "2024-12-25T16:27:56.600Z"
   },
   {
    "duration": 28,
    "start_time": "2024-12-25T16:27:56.610Z"
   },
   {
    "duration": 33,
    "start_time": "2024-12-25T16:27:56.641Z"
   },
   {
    "duration": 32,
    "start_time": "2024-12-25T16:27:56.676Z"
   },
   {
    "duration": 41,
    "start_time": "2024-12-25T16:32:32.851Z"
   },
   {
    "duration": 16,
    "start_time": "2024-12-25T16:36:27.939Z"
   },
   {
    "duration": 42,
    "start_time": "2024-12-25T16:39:23.874Z"
   },
   {
    "duration": 3,
    "start_time": "2024-12-25T16:40:09.762Z"
   },
   {
    "duration": 14,
    "start_time": "2024-12-25T16:40:09.767Z"
   },
   {
    "duration": 3,
    "start_time": "2024-12-25T16:40:09.783Z"
   },
   {
    "duration": 4,
    "start_time": "2024-12-25T16:40:09.787Z"
   },
   {
    "duration": 414,
    "start_time": "2024-12-25T16:40:09.793Z"
   },
   {
    "duration": 3,
    "start_time": "2024-12-25T16:40:10.208Z"
   },
   {
    "duration": 64,
    "start_time": "2024-12-25T16:40:10.212Z"
   },
   {
    "duration": 3,
    "start_time": "2024-12-25T16:40:10.277Z"
   },
   {
    "duration": 24,
    "start_time": "2024-12-25T16:40:10.281Z"
   },
   {
    "duration": 2,
    "start_time": "2024-12-25T16:40:10.307Z"
   },
   {
    "duration": 20,
    "start_time": "2024-12-25T16:40:10.312Z"
   },
   {
    "duration": 2,
    "start_time": "2024-12-25T16:40:10.334Z"
   },
   {
    "duration": 78,
    "start_time": "2024-12-25T16:40:10.338Z"
   },
   {
    "duration": 3,
    "start_time": "2024-12-25T16:40:10.418Z"
   },
   {
    "duration": 10,
    "start_time": "2024-12-25T16:40:10.422Z"
   },
   {
    "duration": 13,
    "start_time": "2024-12-25T16:40:10.434Z"
   },
   {
    "duration": 22,
    "start_time": "2024-12-25T16:40:10.448Z"
   },
   {
    "duration": 119,
    "start_time": "2024-12-25T16:40:10.472Z"
   },
   {
    "duration": 20,
    "start_time": "2024-12-25T16:40:10.593Z"
   },
   {
    "duration": 15,
    "start_time": "2024-12-25T16:40:10.614Z"
   },
   {
    "duration": 17,
    "start_time": "2024-12-25T16:40:10.631Z"
   },
   {
    "duration": 23,
    "start_time": "2024-12-25T16:40:10.650Z"
   },
   {
    "duration": 6,
    "start_time": "2024-12-25T16:40:10.674Z"
   },
   {
    "duration": 24,
    "start_time": "2024-12-25T16:40:10.681Z"
   },
   {
    "duration": 10,
    "start_time": "2024-12-25T16:40:10.706Z"
   },
   {
    "duration": 17,
    "start_time": "2024-12-25T16:40:10.717Z"
   },
   {
    "duration": 34,
    "start_time": "2024-12-25T16:40:10.736Z"
   },
   {
    "duration": 25,
    "start_time": "2024-12-25T16:40:10.772Z"
   },
   {
    "duration": 21,
    "start_time": "2024-12-25T16:40:10.800Z"
   },
   {
    "duration": 53,
    "start_time": "2024-12-25T16:40:10.823Z"
   },
   {
    "duration": 42,
    "start_time": "2024-12-25T16:40:10.878Z"
   },
   {
    "duration": 40,
    "start_time": "2024-12-25T16:40:14.778Z"
   },
   {
    "duration": 3,
    "start_time": "2024-12-25T16:40:23.109Z"
   },
   {
    "duration": 7,
    "start_time": "2024-12-25T16:40:23.114Z"
   },
   {
    "duration": 4,
    "start_time": "2024-12-25T16:40:23.123Z"
   },
   {
    "duration": 26,
    "start_time": "2024-12-25T16:40:23.130Z"
   },
   {
    "duration": 430,
    "start_time": "2024-12-25T16:40:23.158Z"
   },
   {
    "duration": 3,
    "start_time": "2024-12-25T16:40:23.590Z"
   },
   {
    "duration": 95,
    "start_time": "2024-12-25T16:40:23.595Z"
   },
   {
    "duration": 2,
    "start_time": "2024-12-25T16:40:23.691Z"
   },
   {
    "duration": 25,
    "start_time": "2024-12-25T16:40:23.696Z"
   },
   {
    "duration": 18,
    "start_time": "2024-12-25T16:40:23.723Z"
   },
   {
    "duration": 25,
    "start_time": "2024-12-25T16:40:23.742Z"
   },
   {
    "duration": 4,
    "start_time": "2024-12-25T16:40:23.769Z"
   },
   {
    "duration": 10,
    "start_time": "2024-12-25T16:40:23.775Z"
   },
   {
    "duration": 4,
    "start_time": "2024-12-25T16:40:23.787Z"
   },
   {
    "duration": 9,
    "start_time": "2024-12-25T16:40:23.792Z"
   },
   {
    "duration": 9,
    "start_time": "2024-12-25T16:40:23.802Z"
   },
   {
    "duration": 7,
    "start_time": "2024-12-25T16:40:23.812Z"
   },
   {
    "duration": 19,
    "start_time": "2024-12-25T16:40:23.820Z"
   },
   {
    "duration": 7,
    "start_time": "2024-12-25T16:40:23.841Z"
   },
   {
    "duration": 30,
    "start_time": "2024-12-25T16:40:23.850Z"
   },
   {
    "duration": 13,
    "start_time": "2024-12-25T16:40:23.882Z"
   },
   {
    "duration": 23,
    "start_time": "2024-12-25T16:40:23.897Z"
   },
   {
    "duration": 6,
    "start_time": "2024-12-25T16:40:23.922Z"
   },
   {
    "duration": 45,
    "start_time": "2024-12-25T16:40:23.931Z"
   },
   {
    "duration": 11,
    "start_time": "2024-12-25T16:40:23.978Z"
   },
   {
    "duration": 21,
    "start_time": "2024-12-25T16:40:23.991Z"
   },
   {
    "duration": 27,
    "start_time": "2024-12-25T16:40:24.014Z"
   },
   {
    "duration": 37,
    "start_time": "2024-12-25T16:40:24.042Z"
   },
   {
    "duration": 27,
    "start_time": "2024-12-25T16:40:24.082Z"
   },
   {
    "duration": 107,
    "start_time": "2024-12-25T16:40:24.111Z"
   },
   {
    "duration": 43,
    "start_time": "2024-12-25T16:40:24.220Z"
   },
   {
    "duration": 2,
    "start_time": "2024-12-25T16:40:33.251Z"
   },
   {
    "duration": 3,
    "start_time": "2024-12-25T16:40:33.618Z"
   },
   {
    "duration": 2,
    "start_time": "2024-12-25T16:40:34.055Z"
   },
   {
    "duration": 2,
    "start_time": "2024-12-25T16:40:34.778Z"
   },
   {
    "duration": 3,
    "start_time": "2024-12-25T16:40:35.242Z"
   },
   {
    "duration": 3,
    "start_time": "2024-12-25T16:40:35.694Z"
   },
   {
    "duration": 57,
    "start_time": "2024-12-25T16:40:36.090Z"
   },
   {
    "duration": 2,
    "start_time": "2024-12-25T16:40:36.446Z"
   },
   {
    "duration": 16,
    "start_time": "2024-12-25T16:40:39.427Z"
   },
   {
    "duration": 4,
    "start_time": "2024-12-25T16:40:47.870Z"
   },
   {
    "duration": 3,
    "start_time": "2024-12-25T16:40:47.876Z"
   },
   {
    "duration": 4,
    "start_time": "2024-12-25T16:40:47.881Z"
   },
   {
    "duration": 4,
    "start_time": "2024-12-25T16:40:47.887Z"
   },
   {
    "duration": 410,
    "start_time": "2024-12-25T16:40:47.893Z"
   },
   {
    "duration": 2,
    "start_time": "2024-12-25T16:40:48.305Z"
   },
   {
    "duration": 81,
    "start_time": "2024-12-25T16:40:48.309Z"
   },
   {
    "duration": 46,
    "start_time": "2024-12-25T16:40:48.391Z"
   },
   {
    "duration": 32,
    "start_time": "2024-12-25T16:40:48.440Z"
   },
   {
    "duration": 55,
    "start_time": "2024-12-25T16:40:48.474Z"
   },
   {
    "duration": 75,
    "start_time": "2024-12-25T16:40:48.531Z"
   },
   {
    "duration": 2,
    "start_time": "2024-12-25T16:40:48.609Z"
   },
   {
    "duration": 12,
    "start_time": "2024-12-25T16:40:48.613Z"
   },
   {
    "duration": 3,
    "start_time": "2024-12-25T16:40:48.627Z"
   },
   {
    "duration": 12,
    "start_time": "2024-12-25T16:40:48.632Z"
   },
   {
    "duration": 6,
    "start_time": "2024-12-25T16:40:48.646Z"
   },
   {
    "duration": 11,
    "start_time": "2024-12-25T16:40:48.653Z"
   },
   {
    "duration": 19,
    "start_time": "2024-12-25T16:40:48.666Z"
   },
   {
    "duration": 4,
    "start_time": "2024-12-25T16:40:48.687Z"
   },
   {
    "duration": 14,
    "start_time": "2024-12-25T16:40:48.692Z"
   },
   {
    "duration": 43,
    "start_time": "2024-12-25T16:40:48.708Z"
   },
   {
    "duration": 26,
    "start_time": "2024-12-25T16:40:48.753Z"
   },
   {
    "duration": 6,
    "start_time": "2024-12-25T16:40:48.781Z"
   },
   {
    "duration": 19,
    "start_time": "2024-12-25T16:40:48.791Z"
   },
   {
    "duration": 10,
    "start_time": "2024-12-25T16:40:48.812Z"
   },
   {
    "duration": 14,
    "start_time": "2024-12-25T16:40:48.824Z"
   },
   {
    "duration": 10,
    "start_time": "2024-12-25T16:40:48.871Z"
   },
   {
    "duration": 31,
    "start_time": "2024-12-25T16:40:48.882Z"
   },
   {
    "duration": 22,
    "start_time": "2024-12-25T16:40:48.915Z"
   },
   {
    "duration": 61,
    "start_time": "2024-12-25T16:40:48.939Z"
   },
   {
    "duration": 41,
    "start_time": "2024-12-25T16:40:49.002Z"
   },
   {
    "duration": 3,
    "start_time": "2024-12-25T16:40:59.439Z"
   },
   {
    "duration": 39,
    "start_time": "2024-12-25T16:41:20.328Z"
   },
   {
    "duration": 7,
    "start_time": "2024-12-25T16:45:34.541Z"
   },
   {
    "duration": 3,
    "start_time": "2024-12-25T16:45:54.684Z"
   },
   {
    "duration": 13,
    "start_time": "2024-12-25T16:45:55.262Z"
   },
   {
    "duration": 8,
    "start_time": "2024-12-25T16:46:26.597Z"
   },
   {
    "duration": 3,
    "start_time": "2024-12-25T16:46:28.782Z"
   },
   {
    "duration": 14,
    "start_time": "2024-12-25T16:46:29.766Z"
   },
   {
    "duration": 4,
    "start_time": "2024-12-25T16:49:31.661Z"
   },
   {
    "duration": 3,
    "start_time": "2024-12-25T16:50:48.618Z"
   },
   {
    "duration": 4,
    "start_time": "2024-12-25T16:50:53.098Z"
   },
   {
    "duration": 29,
    "start_time": "2024-12-25T16:50:56.450Z"
   },
   {
    "duration": 90,
    "start_time": "2024-12-25T16:50:57.858Z"
   },
   {
    "duration": 69,
    "start_time": "2024-12-25T16:51:00.259Z"
   },
   {
    "duration": 3,
    "start_time": "2024-12-25T16:51:13.337Z"
   },
   {
    "duration": 8,
    "start_time": "2024-12-25T16:51:13.342Z"
   },
   {
    "duration": 5,
    "start_time": "2024-12-25T16:51:13.352Z"
   },
   {
    "duration": 17,
    "start_time": "2024-12-25T16:51:13.358Z"
   },
   {
    "duration": 420,
    "start_time": "2024-12-25T16:51:13.376Z"
   },
   {
    "duration": 3,
    "start_time": "2024-12-25T16:51:13.797Z"
   },
   {
    "duration": 58,
    "start_time": "2024-12-25T16:51:13.801Z"
   },
   {
    "duration": 2,
    "start_time": "2024-12-25T16:51:13.861Z"
   },
   {
    "duration": 21,
    "start_time": "2024-12-25T16:51:13.865Z"
   },
   {
    "duration": 2,
    "start_time": "2024-12-25T16:51:13.888Z"
   },
   {
    "duration": 22,
    "start_time": "2024-12-25T16:51:13.892Z"
   },
   {
    "duration": 2,
    "start_time": "2024-12-25T16:51:13.916Z"
   },
   {
    "duration": 7,
    "start_time": "2024-12-25T16:51:13.920Z"
   },
   {
    "duration": 6,
    "start_time": "2024-12-25T16:51:13.928Z"
   },
   {
    "duration": 7,
    "start_time": "2024-12-25T16:51:13.935Z"
   },
   {
    "duration": 2,
    "start_time": "2024-12-25T16:51:13.944Z"
   },
   {
    "duration": 5,
    "start_time": "2024-12-25T16:51:13.971Z"
   },
   {
    "duration": 30,
    "start_time": "2024-12-25T16:51:13.978Z"
   },
   {
    "duration": 26,
    "start_time": "2024-12-25T16:51:14.009Z"
   },
   {
    "duration": 23,
    "start_time": "2024-12-25T16:51:14.036Z"
   },
   {
    "duration": 28,
    "start_time": "2024-12-25T16:51:14.060Z"
   },
   {
    "duration": 23,
    "start_time": "2024-12-25T16:51:14.090Z"
   },
   {
    "duration": 8,
    "start_time": "2024-12-25T16:51:14.114Z"
   },
   {
    "duration": 37,
    "start_time": "2024-12-25T16:51:14.125Z"
   },
   {
    "duration": 22,
    "start_time": "2024-12-25T16:51:14.164Z"
   },
   {
    "duration": 19,
    "start_time": "2024-12-25T16:51:14.189Z"
   },
   {
    "duration": 22,
    "start_time": "2024-12-25T16:51:14.209Z"
   },
   {
    "duration": 40,
    "start_time": "2024-12-25T16:51:14.233Z"
   },
   {
    "duration": 44,
    "start_time": "2024-12-25T16:51:14.275Z"
   },
   {
    "duration": 34,
    "start_time": "2024-12-25T16:51:14.320Z"
   },
   {
    "duration": 7,
    "start_time": "2024-12-25T16:51:14.356Z"
   },
   {
    "duration": 97,
    "start_time": "2024-12-25T16:51:14.365Z"
   },
   {
    "duration": 15,
    "start_time": "2024-12-25T16:51:14.464Z"
   },
   {
    "duration": 7,
    "start_time": "2024-12-25T16:51:14.480Z"
   },
   {
    "duration": 105,
    "start_time": "2024-12-25T16:51:14.489Z"
   },
   {
    "duration": 46,
    "start_time": "2024-12-25T16:51:14.596Z"
   },
   {
    "duration": 85,
    "start_time": "2024-12-25T16:51:14.643Z"
   },
   {
    "duration": 0,
    "start_time": "2024-12-25T16:51:14.730Z"
   },
   {
    "duration": 4,
    "start_time": "2024-12-25T16:51:25.335Z"
   },
   {
    "duration": 3,
    "start_time": "2024-12-25T16:51:27.599Z"
   },
   {
    "duration": 3,
    "start_time": "2024-12-25T16:58:45.344Z"
   },
   {
    "duration": 3,
    "start_time": "2024-12-25T16:58:55.048Z"
   },
   {
    "duration": 3,
    "start_time": "2024-12-25T17:00:39.893Z"
   },
   {
    "duration": 28,
    "start_time": "2024-12-25T17:06:30.377Z"
   },
   {
    "duration": 79,
    "start_time": "2024-12-25T17:07:43.975Z"
   },
   {
    "duration": 95,
    "start_time": "2024-12-25T17:08:40.692Z"
   },
   {
    "duration": 30,
    "start_time": "2024-12-25T17:09:36.281Z"
   },
   {
    "duration": 29,
    "start_time": "2024-12-25T17:11:08.223Z"
   },
   {
    "duration": 4,
    "start_time": "2024-12-25T17:11:14.912Z"
   },
   {
    "duration": 6,
    "start_time": "2024-12-25T17:11:14.918Z"
   },
   {
    "duration": 9,
    "start_time": "2024-12-25T17:11:14.926Z"
   },
   {
    "duration": 4,
    "start_time": "2024-12-25T17:11:14.936Z"
   },
   {
    "duration": 447,
    "start_time": "2024-12-25T17:11:14.943Z"
   },
   {
    "duration": 3,
    "start_time": "2024-12-25T17:11:15.392Z"
   },
   {
    "duration": 117,
    "start_time": "2024-12-25T17:11:15.397Z"
   },
   {
    "duration": 3,
    "start_time": "2024-12-25T17:11:15.516Z"
   },
   {
    "duration": 40,
    "start_time": "2024-12-25T17:11:15.521Z"
   },
   {
    "duration": 4,
    "start_time": "2024-12-25T17:11:15.563Z"
   },
   {
    "duration": 26,
    "start_time": "2024-12-25T17:11:15.570Z"
   },
   {
    "duration": 3,
    "start_time": "2024-12-25T17:11:15.598Z"
   },
   {
    "duration": 17,
    "start_time": "2024-12-25T17:11:15.603Z"
   },
   {
    "duration": 36,
    "start_time": "2024-12-25T17:11:15.623Z"
   },
   {
    "duration": 55,
    "start_time": "2024-12-25T17:11:15.660Z"
   },
   {
    "duration": 7,
    "start_time": "2024-12-25T17:11:15.717Z"
   },
   {
    "duration": 17,
    "start_time": "2024-12-25T17:11:15.726Z"
   },
   {
    "duration": 27,
    "start_time": "2024-12-25T17:11:15.748Z"
   },
   {
    "duration": 20,
    "start_time": "2024-12-25T17:11:15.777Z"
   },
   {
    "duration": 14,
    "start_time": "2024-12-25T17:11:15.799Z"
   },
   {
    "duration": 13,
    "start_time": "2024-12-25T17:11:15.814Z"
   },
   {
    "duration": 27,
    "start_time": "2024-12-25T17:11:15.829Z"
   },
   {
    "duration": 4,
    "start_time": "2024-12-25T17:11:15.870Z"
   },
   {
    "duration": 18,
    "start_time": "2024-12-25T17:11:15.876Z"
   },
   {
    "duration": 9,
    "start_time": "2024-12-25T17:11:15.896Z"
   },
   {
    "duration": 17,
    "start_time": "2024-12-25T17:11:15.907Z"
   },
   {
    "duration": 27,
    "start_time": "2024-12-25T17:11:15.925Z"
   },
   {
    "duration": 34,
    "start_time": "2024-12-25T17:11:15.954Z"
   },
   {
    "duration": 21,
    "start_time": "2024-12-25T17:11:15.991Z"
   },
   {
    "duration": 35,
    "start_time": "2024-12-25T17:11:16.013Z"
   },
   {
    "duration": 26,
    "start_time": "2024-12-25T17:11:16.050Z"
   },
   {
    "duration": 2,
    "start_time": "2024-12-25T17:11:16.077Z"
   },
   {
    "duration": 20,
    "start_time": "2024-12-25T17:11:16.081Z"
   },
   {
    "duration": 28,
    "start_time": "2024-12-25T17:11:16.103Z"
   },
   {
    "duration": 88,
    "start_time": "2024-12-25T17:11:16.133Z"
   },
   {
    "duration": 0,
    "start_time": "2024-12-25T17:11:16.223Z"
   },
   {
    "duration": 0,
    "start_time": "2024-12-25T17:11:16.224Z"
   },
   {
    "duration": 28,
    "start_time": "2024-12-25T17:11:21.186Z"
   },
   {
    "duration": 4,
    "start_time": "2024-12-25T17:13:33.964Z"
   },
   {
    "duration": 5,
    "start_time": "2024-12-25T17:13:35.875Z"
   },
   {
    "duration": 27,
    "start_time": "2024-12-25T17:13:37.492Z"
   },
   {
    "duration": 7,
    "start_time": "2024-12-25T17:14:18.273Z"
   },
   {
    "duration": 9,
    "start_time": "2024-12-25T17:14:45.066Z"
   },
   {
    "duration": 27,
    "start_time": "2024-12-25T17:14:58.434Z"
   },
   {
    "duration": 4,
    "start_time": "2024-12-25T17:15:07.842Z"
   },
   {
    "duration": 3,
    "start_time": "2024-12-25T17:15:08.898Z"
   },
   {
    "duration": 27,
    "start_time": "2024-12-25T17:15:10.233Z"
   },
   {
    "duration": 30,
    "start_time": "2024-12-25T17:15:52.519Z"
   },
   {
    "duration": 94,
    "start_time": "2024-12-25T17:16:30.776Z"
   },
   {
    "duration": 27,
    "start_time": "2024-12-25T17:16:41.757Z"
   },
   {
    "duration": 29,
    "start_time": "2024-12-25T17:16:52.117Z"
   },
   {
    "duration": 24,
    "start_time": "2024-12-25T17:17:12.029Z"
   },
   {
    "duration": 4,
    "start_time": "2024-12-25T17:28:34.824Z"
   },
   {
    "duration": 36,
    "start_time": "2024-12-25T17:28:34.830Z"
   },
   {
    "duration": 7,
    "start_time": "2024-12-25T17:28:34.867Z"
   },
   {
    "duration": 12,
    "start_time": "2024-12-25T17:28:34.875Z"
   },
   {
    "duration": 409,
    "start_time": "2024-12-25T17:28:34.888Z"
   },
   {
    "duration": 3,
    "start_time": "2024-12-25T17:28:35.299Z"
   },
   {
    "duration": 99,
    "start_time": "2024-12-25T17:28:35.303Z"
   },
   {
    "duration": 2,
    "start_time": "2024-12-25T17:28:35.404Z"
   },
   {
    "duration": 35,
    "start_time": "2024-12-25T17:28:35.408Z"
   },
   {
    "duration": 4,
    "start_time": "2024-12-25T17:28:35.446Z"
   },
   {
    "duration": 22,
    "start_time": "2024-12-25T17:28:35.452Z"
   },
   {
    "duration": 5,
    "start_time": "2024-12-25T17:28:35.475Z"
   },
   {
    "duration": 20,
    "start_time": "2024-12-25T17:28:35.481Z"
   },
   {
    "duration": 24,
    "start_time": "2024-12-25T17:28:35.503Z"
   },
   {
    "duration": 31,
    "start_time": "2024-12-25T17:28:35.529Z"
   },
   {
    "duration": 12,
    "start_time": "2024-12-25T17:28:35.562Z"
   },
   {
    "duration": 8,
    "start_time": "2024-12-25T17:28:35.576Z"
   },
   {
    "duration": 21,
    "start_time": "2024-12-25T17:28:35.586Z"
   },
   {
    "duration": 11,
    "start_time": "2024-12-25T17:28:35.609Z"
   },
   {
    "duration": 30,
    "start_time": "2024-12-25T17:28:35.622Z"
   },
   {
    "duration": 13,
    "start_time": "2024-12-25T17:28:35.654Z"
   },
   {
    "duration": 23,
    "start_time": "2024-12-25T17:28:35.669Z"
   },
   {
    "duration": 4,
    "start_time": "2024-12-25T17:28:35.693Z"
   },
   {
    "duration": 47,
    "start_time": "2024-12-25T17:28:35.699Z"
   },
   {
    "duration": 43,
    "start_time": "2024-12-25T17:28:35.749Z"
   },
   {
    "duration": 18,
    "start_time": "2024-12-25T17:28:35.795Z"
   },
   {
    "duration": 68,
    "start_time": "2024-12-25T17:28:35.815Z"
   },
   {
    "duration": 26,
    "start_time": "2024-12-25T17:28:35.887Z"
   },
   {
    "duration": 22,
    "start_time": "2024-12-25T17:28:35.915Z"
   },
   {
    "duration": 53,
    "start_time": "2024-12-25T17:28:35.939Z"
   },
   {
    "duration": 8,
    "start_time": "2024-12-25T17:28:35.994Z"
   },
   {
    "duration": 10,
    "start_time": "2024-12-25T17:28:36.004Z"
   },
   {
    "duration": 15,
    "start_time": "2024-12-25T17:28:36.016Z"
   },
   {
    "duration": 23,
    "start_time": "2024-12-25T17:28:36.033Z"
   },
   {
    "duration": 25,
    "start_time": "2024-12-25T17:28:36.058Z"
   },
   {
    "duration": 33,
    "start_time": "2024-12-25T17:28:36.084Z"
   },
   {
    "duration": 9,
    "start_time": "2024-12-25T17:28:36.119Z"
   },
   {
    "duration": 25,
    "start_time": "2024-12-25T17:28:51.415Z"
   },
   {
    "duration": 3,
    "start_time": "2024-12-25T17:42:10.509Z"
   },
   {
    "duration": 8,
    "start_time": "2024-12-25T17:42:10.514Z"
   },
   {
    "duration": 8,
    "start_time": "2024-12-25T17:42:10.524Z"
   },
   {
    "duration": 13,
    "start_time": "2024-12-25T17:42:10.534Z"
   },
   {
    "duration": 401,
    "start_time": "2024-12-25T17:42:10.549Z"
   },
   {
    "duration": 3,
    "start_time": "2024-12-25T17:42:10.951Z"
   },
   {
    "duration": 210,
    "start_time": "2024-12-25T17:42:10.956Z"
   },
   {
    "duration": 3,
    "start_time": "2024-12-25T17:42:11.167Z"
   },
   {
    "duration": 17,
    "start_time": "2024-12-25T17:42:11.173Z"
   },
   {
    "duration": 2,
    "start_time": "2024-12-25T17:42:11.192Z"
   },
   {
    "duration": 20,
    "start_time": "2024-12-25T17:42:11.196Z"
   },
   {
    "duration": 3,
    "start_time": "2024-12-25T17:42:11.236Z"
   },
   {
    "duration": 15,
    "start_time": "2024-12-25T17:42:11.240Z"
   },
   {
    "duration": 4,
    "start_time": "2024-12-25T17:42:11.257Z"
   },
   {
    "duration": 13,
    "start_time": "2024-12-25T17:42:11.262Z"
   },
   {
    "duration": 4,
    "start_time": "2024-12-25T17:42:11.277Z"
   },
   {
    "duration": 7,
    "start_time": "2024-12-25T17:42:11.282Z"
   },
   {
    "duration": 18,
    "start_time": "2024-12-25T17:42:11.290Z"
   },
   {
    "duration": 3,
    "start_time": "2024-12-25T17:42:11.309Z"
   },
   {
    "duration": 24,
    "start_time": "2024-12-25T17:42:11.314Z"
   },
   {
    "duration": 18,
    "start_time": "2024-12-25T17:42:11.340Z"
   },
   {
    "duration": 26,
    "start_time": "2024-12-25T17:42:11.359Z"
   },
   {
    "duration": 5,
    "start_time": "2024-12-25T17:42:11.386Z"
   },
   {
    "duration": 24,
    "start_time": "2024-12-25T17:42:11.394Z"
   },
   {
    "duration": 23,
    "start_time": "2024-12-25T17:42:11.420Z"
   },
   {
    "duration": 13,
    "start_time": "2024-12-25T17:42:11.445Z"
   },
   {
    "duration": 32,
    "start_time": "2024-12-25T17:42:11.459Z"
   },
   {
    "duration": 26,
    "start_time": "2024-12-25T17:42:11.493Z"
   },
   {
    "duration": 19,
    "start_time": "2024-12-25T17:42:11.536Z"
   },
   {
    "duration": 36,
    "start_time": "2024-12-25T17:42:11.557Z"
   },
   {
    "duration": 9,
    "start_time": "2024-12-25T17:42:11.595Z"
   },
   {
    "duration": 2,
    "start_time": "2024-12-25T17:42:11.606Z"
   },
   {
    "duration": 35,
    "start_time": "2024-12-25T17:42:11.610Z"
   },
   {
    "duration": 4,
    "start_time": "2024-12-25T17:42:11.647Z"
   },
   {
    "duration": 6,
    "start_time": "2024-12-25T17:42:11.653Z"
   },
   {
    "duration": 34,
    "start_time": "2024-12-25T17:42:11.660Z"
   },
   {
    "duration": 7,
    "start_time": "2024-12-25T17:42:11.696Z"
   },
   {
    "duration": 8,
    "start_time": "2024-12-25T17:52:06.874Z"
   },
   {
    "duration": 89,
    "start_time": "2024-12-25T17:55:02.228Z"
   },
   {
    "duration": 35,
    "start_time": "2024-12-25T17:55:08.635Z"
   },
   {
    "duration": 27,
    "start_time": "2024-12-25T17:55:15.830Z"
   },
   {
    "duration": 24,
    "start_time": "2024-12-25T17:55:20.648Z"
   },
   {
    "duration": 34,
    "start_time": "2024-12-25T17:57:03.995Z"
   },
   {
    "duration": 25,
    "start_time": "2024-12-25T17:57:06.258Z"
   },
   {
    "duration": 55,
    "start_time": "2025-01-27T14:56:52.594Z"
   }
  ],
  "colab": {
   "provenance": []
  },
  "kernelspec": {
   "display_name": "Python 3 (ipykernel)",
   "language": "python",
   "name": "python3"
  },
  "language_info": {
   "codemirror_mode": {
    "name": "ipython",
    "version": 3
   },
   "file_extension": ".py",
   "mimetype": "text/x-python",
   "name": "python",
   "nbconvert_exporter": "python",
   "pygments_lexer": "ipython3",
   "version": "3.9.7"
  },
  "toc": {
   "base_numbering": 1,
   "nav_menu": {},
   "number_sections": true,
   "sideBar": true,
   "skip_h1_title": true,
   "title_cell": "Table of Contents",
   "title_sidebar": "Contents",
   "toc_cell": false,
   "toc_position": {
    "height": "calc(100% - 180px)",
    "left": "10px",
    "top": "150px",
    "width": "336.364px"
   },
   "toc_section_display": true,
   "toc_window_display": true
  }
 },
 "nbformat": 4,
 "nbformat_minor": 5
}
