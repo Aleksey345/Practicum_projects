{
 "cells": [
  {
   "cell_type": "markdown",
   "metadata": {
    "id": "4mJbK1knrJgz"
   },
   "source": [
    "# Проект: Исследование стартапов\n",
    "- Автор: Сурков Алексей Александрович  \n",
    "- Дата: 27.01.2025"
   ]
  },
  {
   "cell_type": "markdown",
   "metadata": {
    "id": "P6j0r3worJg0"
   },
   "source": [
    "## Введение"
   ]
  },
  {
   "cell_type": "markdown",
   "metadata": {
    "id": "8lQtbsIUyFG6"
   },
   "source": [
    "Поле для вашего введения: описания контекста и цели проекта целом. Чтобы изменить содержимое ячейки, дважды нажмите на неё (или нажмите «Ввод»).\n",
    "### Цели и задачи проекта  \n",
    "\n",
    "Подготовить датасет и проверить, что данные могут быть использованы для анализа, а также ответить на вопросы заказчика, как о предобработке, так и о значении данных для бизнеса.  \n",
    "Нам предстоит принять решения:  \n",
    "* по каким столбцам можно объединять данные из разных таблиц;  \n",
    "* можно ли доверять данным о сотрудниках стартапов и их образовании;  \n",
    "* что значат покупки за 0 или за 1 доллар;  \n",
    "* какая цена в зависимости от категории стартапов и количества раундов финансирования перед его покупкой;  \n",
    "* как рассчитать и отобразить численные показатели и динамику."
   ]
  },
  {
   "cell_type": "markdown",
   "metadata": {},
   "source": [
    "# Описание данных\n",
    "\n",
    "### Таблица acquisition  \n",
    "Содержит информацию о покупках одними компаниями других компаний:  \n",
    "- id — идентификатор покупки.\n",
    "- acquiring_company_id — идентификатор покупающей компании.\n",
    "- acquired_company_id — идентификатор покупаемой компании.\n",
    "- term_code — варианты расчёта.\n",
    "- price_amount — сумма сделки.\n",
    "- acquired_at — дата сделки.  \n",
    "### Таблица company_and_rounds  \n",
    "Содержит информацию о компаниях и раундах финансирования:  \n",
    "- company ID — идентификатор компании.\n",
    "- name — название компании.\n",
    "- category code — категория области деятельности компании.\n",
    "- status — статус компании.\n",
    "- founded at — дата инвестирования.\n",
    "- closed at — дата закрытия компании.\n",
    "- domain — официальный сайт компании.\n",
    "- network username — ник компании в сети.\n",
    "- country code — код страны компании.\n",
    "- investment rounds — число инвестиционных раундов.\n",
    "- funding rounds — число раундов финансирования.\n",
    "- funding total — сумма финансирования.\n",
    "- milestones — вехи финансирования.\n",
    "- funding round id — идентификатор этапа финансирования.\n",
    "- company id — идентификатор компании.\n",
    "- funded at — дата финансирования.\n",
    "- funding round type — тип финансирования.\n",
    "- raised amount — сумма финансирования.\n",
    "- pre money valuation — предварительная денежная оценка.\n",
    "- participants — число участников.\n",
    "- is first round — является ли раунд первым.\n",
    "- is last round — является раунд последним.\n",
    "### Таблица education  \n",
    "Содержит информацию об образовании сотрудника:  \n",
    "- id — идентификатор записи об образовании.\n",
    "- person_id — идентификатор работника.\n",
    "- instituition — название учебного заведения.\n",
    "- graduated_at — дата получения образования.\n",
    "### Таблица people  \n",
    "Содержит информацию о сотрудниках:  \n",
    "- id — идентификатор сотрудника.\n",
    "- first_name — имя сотрудника.\n",
    "- last_name — фамилия сотрудника.\n",
    "- company_id — идентификатор компании.\n",
    "- network_username — ник в социальных сетях.\n",
    "### Таблица degrees  \n",
    "Содержит информацию о типе образования сотрудника:  \n",
    "- id — идентификатор записи.\n",
    "- object_id — идентификатор сотрудника.\n",
    "- degree_type — тип образования.\n",
    "- subject — специальность.\n",
    "### Дополнительные таблицы  \n",
    "\n",
    "Эти таблицы не требуются для выполнения проекта, но связаны с исследуемыми данными:  \n",
    "- fund.csv\n",
    "- investment.csv\n",
    "### Таблица fund  \n",
    "Содержит информацию о фондах:  \n",
    "- id — идентификатор фонда.\n",
    "- name — название фонда.\n",
    "- category_code — категория области деятельности компании.\n",
    "- founded_at — дата создания фонда.\n",
    "- domain — сайт фонда.\n",
    "- network_username — ник фонда в сети.\n",
    "- country_code — код страны фонда.\n",
    "- investment_rounds — число инвестиционных раундов.\n",
    "- invested_companies — число профинансированных компаний.\n",
    "- milestones — вехи финансирования.\n",
    "### Таблица investment  \n",
    "Содержит информацию о раундах инвестирования:  \n",
    "- id — идентификатор этапа инвестирования.\n",
    "- funding_round_id — идентификатор раунда инвестирования.\n",
    "- company_id — индентификатор компании.\n",
    "- funding_round_type — тип финансирования.\n",
    "- fund_id — идентификатор фонда."
   ]
  },
  {
   "cell_type": "markdown",
   "metadata": {},
   "source": [
    "### Содержимое проекта   \n",
    "* Шаг 1. Знакомство с данными: загрузка и первичная предобработка  \n",
    "* Шаг 2. Предобработка данных, предварительное исследование  \n",
    "* Шаг 3. Исследовательский анализ объединённых таблиц  \n",
    "* Шаг 4. Итоговый вывод и рекомендации"
   ]
  },
  {
   "cell_type": "markdown",
   "metadata": {
    "id": "xqr6uttCrJg0"
   },
   "source": [
    "\n",
    "## Шаг 1. Знакомство с данными: загрузка и первичная предобработка\n",
    "\n",
    "Названия файлов:\n",
    "* acquisition.csv\n",
    "* company_and_rounds.csv\n",
    "* degrees.csv\n",
    "* education.csv\n",
    "* fund.csv\n",
    "* investment.csv\n",
    "* people.csv\n",
    "\n",
    "Они находятся в папке datasets, если вы выполняете работу на платформе. В случае, если вы делаете работу локально, доступ к файлам в папке можно получить по адресу `https://code.s3.yandex.net/datasets/` + имя файла.\n",
    "\n",
    "### 1.1. Вывод общей информации, исправление названия столбцов"
   ]
  },
  {
   "cell_type": "code",
   "execution_count": 1,
   "metadata": {},
   "outputs": [
    {
     "name": "stdout",
     "output_type": "stream",
     "text": [
      "Requirement already satisfied: phik in /opt/conda/lib/python3.9/site-packages (0.12.4)\n",
      "Requirement already satisfied: pandas>=0.25.1 in /opt/conda/lib/python3.9/site-packages (from phik) (1.2.4)\n",
      "Requirement already satisfied: numpy>=1.18.0 in /opt/conda/lib/python3.9/site-packages (from phik) (1.21.1)\n",
      "Requirement already satisfied: joblib>=0.14.1 in /opt/conda/lib/python3.9/site-packages (from phik) (1.1.0)\n",
      "Requirement already satisfied: matplotlib>=2.2.3 in /opt/conda/lib/python3.9/site-packages (from phik) (3.3.4)\n",
      "Requirement already satisfied: scipy>=1.5.2 in /opt/conda/lib/python3.9/site-packages (from phik) (1.9.1)\n",
      "Requirement already satisfied: kiwisolver>=1.0.1 in /opt/conda/lib/python3.9/site-packages (from matplotlib>=2.2.3->phik) (1.4.4)\n",
      "Requirement already satisfied: pyparsing!=2.0.4,!=2.1.2,!=2.1.6,>=2.0.3 in /opt/conda/lib/python3.9/site-packages (from matplotlib>=2.2.3->phik) (2.4.7)\n",
      "Requirement already satisfied: cycler>=0.10 in /opt/conda/lib/python3.9/site-packages (from matplotlib>=2.2.3->phik) (0.11.0)\n",
      "Requirement already satisfied: pillow>=6.2.0 in /opt/conda/lib/python3.9/site-packages (from matplotlib>=2.2.3->phik) (8.4.0)\n",
      "Requirement already satisfied: python-dateutil>=2.1 in /opt/conda/lib/python3.9/site-packages (from matplotlib>=2.2.3->phik) (2.8.1)\n",
      "Requirement already satisfied: pytz>=2017.3 in /opt/conda/lib/python3.9/site-packages (from pandas>=0.25.1->phik) (2021.1)\n",
      "Requirement already satisfied: six>=1.5 in /opt/conda/lib/python3.9/site-packages (from python-dateutil>=2.1->matplotlib>=2.2.3->phik) (1.16.0)\n"
     ]
    }
   ],
   "source": [
    "# устанавливаем библиотеку phik\n",
    "!pip install phik"
   ]
  },
  {
   "cell_type": "code",
   "execution_count": 2,
   "metadata": {},
   "outputs": [],
   "source": [
    "# Импортируем библиотеку pandas\n",
    "import pandas as pd"
   ]
  },
  {
   "cell_type": "code",
   "execution_count": 3,
   "metadata": {},
   "outputs": [],
   "source": [
    "# Загружаем библиотеки для визуализации данных\n",
    "import matplotlib.pyplot as plt\n",
    "import seaborn as sns"
   ]
  },
  {
   "cell_type": "code",
   "execution_count": 4,
   "metadata": {},
   "outputs": [],
   "source": [
    "# Загружаем библиотеку для расчёта коэффициента корреляции phi_k\n",
    "from phik import phik_matrix"
   ]
  },
  {
   "cell_type": "markdown",
   "metadata": {},
   "source": [
    " Лучше устанавливать библиотеки в начале, т.к это помогает избежать повторного импорта и экономит время."
   ]
  },
  {
   "cell_type": "code",
   "execution_count": 5,
   "metadata": {},
   "outputs": [],
   "source": [
    "base_url= 'https://code.s3.yandex.net/datasets/'\n",
    "# выгружаем данные \n",
    "acquisition=pd.read_csv( base_url + 'acquisition.csv')\n",
    "company_and_rounds= pd.read_csv(' \n",
    "                                company_and_rounds.csv')\n",
    "people= pd.read_csv('https://code.s3.yandex.net/datasets/people.csv')\n",
    "education= pd.read_csv('https://code.s3.yandex.net/datasets/education.csv')\n",
    "degrees= pd.read_csv('https://code.s3.yandex.net/datasets/degrees.csv')\n",
    "# Дополнительные таблицы\n",
    "fund= pd.read_csv('https://code.s3.yandex.net/datasets/fund.csv')\n",
    "investment= pd.read_csv('https://code.s3.yandex.net/datasets/investment.csv')"
   ]
  },
  {
   "cell_type": "code",
   "execution_count": 6,
   "metadata": {},
   "outputs": [
    {
     "data": {
      "text/html": [
       "<div>\n",
       "<style scoped>\n",
       "    .dataframe tbody tr th:only-of-type {\n",
       "        vertical-align: middle;\n",
       "    }\n",
       "\n",
       "    .dataframe tbody tr th {\n",
       "        vertical-align: top;\n",
       "    }\n",
       "\n",
       "    .dataframe thead th {\n",
       "        text-align: right;\n",
       "    }\n",
       "</style>\n",
       "<table border=\"1\" class=\"dataframe\">\n",
       "  <thead>\n",
       "    <tr style=\"text-align: right;\">\n",
       "      <th></th>\n",
       "      <th>id</th>\n",
       "      <th>acquiring_company_id</th>\n",
       "      <th>acquired_company_id</th>\n",
       "      <th>term_code</th>\n",
       "      <th>price_amount</th>\n",
       "      <th>acquired_at</th>\n",
       "    </tr>\n",
       "  </thead>\n",
       "  <tbody>\n",
       "    <tr>\n",
       "      <th>0</th>\n",
       "      <td>1</td>\n",
       "      <td>11</td>\n",
       "      <td>10</td>\n",
       "      <td>NaN</td>\n",
       "      <td>20000000</td>\n",
       "      <td>2007-05-30</td>\n",
       "    </tr>\n",
       "    <tr>\n",
       "      <th>1</th>\n",
       "      <td>7</td>\n",
       "      <td>59</td>\n",
       "      <td>72</td>\n",
       "      <td>cash</td>\n",
       "      <td>60000000</td>\n",
       "      <td>2007-07-01</td>\n",
       "    </tr>\n",
       "    <tr>\n",
       "      <th>2</th>\n",
       "      <td>8</td>\n",
       "      <td>24</td>\n",
       "      <td>132</td>\n",
       "      <td>cash</td>\n",
       "      <td>280000000</td>\n",
       "      <td>2007-05-01</td>\n",
       "    </tr>\n",
       "    <tr>\n",
       "      <th>3</th>\n",
       "      <td>9</td>\n",
       "      <td>59</td>\n",
       "      <td>155</td>\n",
       "      <td>cash</td>\n",
       "      <td>100000000</td>\n",
       "      <td>2007-06-01</td>\n",
       "    </tr>\n",
       "    <tr>\n",
       "      <th>4</th>\n",
       "      <td>10</td>\n",
       "      <td>212</td>\n",
       "      <td>215</td>\n",
       "      <td>cash</td>\n",
       "      <td>25000000</td>\n",
       "      <td>2007-07-01</td>\n",
       "    </tr>\n",
       "  </tbody>\n",
       "</table>\n",
       "</div>"
      ],
      "text/plain": [
       "   id  acquiring_company_id  acquired_company_id term_code  price_amount  \\\n",
       "0   1                    11                   10       NaN      20000000   \n",
       "1   7                    59                   72      cash      60000000   \n",
       "2   8                    24                  132      cash     280000000   \n",
       "3   9                    59                  155      cash     100000000   \n",
       "4  10                   212                  215      cash      25000000   \n",
       "\n",
       "  acquired_at  \n",
       "0  2007-05-30  \n",
       "1  2007-07-01  \n",
       "2  2007-05-01  \n",
       "3  2007-06-01  \n",
       "4  2007-07-01  "
      ]
     },
     "execution_count": 6,
     "metadata": {},
     "output_type": "execute_result"
    }
   ],
   "source": [
    "# Выгружаем данные из датасета\n",
    "acquisition.head()"
   ]
  },
  {
   "cell_type": "markdown",
   "metadata": {},
   "source": [
    "\n",
    "* Загрузите все данные по проекту."
   ]
  },
  {
   "cell_type": "code",
   "execution_count": 7,
   "metadata": {},
   "outputs": [
    {
     "name": "stdout",
     "output_type": "stream",
     "text": [
      "<class 'pandas.core.frame.DataFrame'>\n",
      "RangeIndex: 9407 entries, 0 to 9406\n",
      "Data columns (total 6 columns):\n",
      " #   Column                Non-Null Count  Dtype \n",
      "---  ------                --------------  ----- \n",
      " 0   id                    9407 non-null   int64 \n",
      " 1   acquiring_company_id  9407 non-null   int64 \n",
      " 2   acquired_company_id   9407 non-null   int64 \n",
      " 3   term_code             1831 non-null   object\n",
      " 4   price_amount          9407 non-null   int64 \n",
      " 5   acquired_at           9378 non-null   object\n",
      "dtypes: int64(4), object(2)\n",
      "memory usage: 441.1+ KB\n"
     ]
    },
    {
     "data": {
      "text/plain": [
       "id                       0.00\n",
       "acquiring_company_id     0.00\n",
       "acquired_company_id      0.00\n",
       "term_code               80.54\n",
       "price_amount             0.00\n",
       "acquired_at              0.31\n",
       "dtype: float64"
      ]
     },
     "execution_count": 7,
     "metadata": {},
     "output_type": "execute_result"
    }
   ],
   "source": [
    "# Выводим информацию о датафрейме и считаем % пропусков \n",
    "acquisition.info()\n",
    "round(acquisition.isna().sum()/len(acquisition)*100,2) "
   ]
  },
  {
   "cell_type": "markdown",
   "metadata": {},
   "source": [
    "Таблица acquisition содержит 9407 строк и 6 столбцов.\n",
    "В столбце term_code (80 %) пропусков   в столбце  acquired_at  меньше (1%)- можно оставить , как есть. Типы данных соответствуют , но лучше  столбец  acquired_at привести к типу дата ."
   ]
  },
  {
   "cell_type": "code",
   "execution_count": 8,
   "metadata": {},
   "outputs": [
    {
     "name": "stdout",
     "output_type": "stream",
     "text": [
      "<class 'pandas.core.frame.DataFrame'>\n",
      "RangeIndex: 217774 entries, 0 to 217773\n",
      "Data columns (total 22 columns):\n",
      " #   Column                 Non-Null Count   Dtype  \n",
      "---  ------                 --------------   -----  \n",
      " 0   company  ID            217472 non-null  float64\n",
      " 1   name                   217472 non-null  object \n",
      " 2   category  code         143886 non-null  object \n",
      " 3   status                 217472 non-null  object \n",
      " 4   founded  at            109956 non-null  object \n",
      " 5   closed  at             3449 non-null    object \n",
      " 6   domain                 147159 non-null  object \n",
      " 7   network  username      95534 non-null   object \n",
      " 8   country  code          108607 non-null  object \n",
      " 9   investment  rounds     217472 non-null  float64\n",
      " 10  funding  rounds        217472 non-null  float64\n",
      " 11  funding  total         217472 non-null  float64\n",
      " 12  milestones             217472 non-null  float64\n",
      " 13  funding  round  id     52928 non-null   float64\n",
      " 14  company  id            52928 non-null   float64\n",
      " 15  funded  at             52680 non-null   object \n",
      " 16  funding  round  type   52928 non-null   object \n",
      " 17  raised  amount         52928 non-null   float64\n",
      " 18  pre  money  valuation  52928 non-null   float64\n",
      " 19  participants           52928 non-null   float64\n",
      " 20  is  first  round       52928 non-null   float64\n",
      " 21  is  last  round        52928 non-null   float64\n",
      "dtypes: float64(12), object(10)\n",
      "memory usage: 36.6+ MB\n"
     ]
    },
    {
     "data": {
      "text/plain": [
       "company  ID               0.14\n",
       "name                      0.14\n",
       "category  code           33.93\n",
       "status                    0.14\n",
       "founded  at              49.51\n",
       "closed  at               98.42\n",
       "domain                   32.43\n",
       "network  username        56.13\n",
       "country  code            50.13\n",
       "investment  rounds        0.14\n",
       "funding  rounds           0.14\n",
       "funding  total            0.14\n",
       "milestones                0.14\n",
       "funding  round  id       75.70\n",
       "company  id              75.70\n",
       "funded  at               75.81\n",
       "funding  round  type     75.70\n",
       "raised  amount           75.70\n",
       "pre  money  valuation    75.70\n",
       "participants             75.70\n",
       "is  first  round         75.70\n",
       "is  last  round          75.70\n",
       "dtype: float64"
      ]
     },
     "execution_count": 8,
     "metadata": {},
     "output_type": "execute_result"
    }
   ],
   "source": [
    "# Выводим информацию о датафрейме и считаем % пропусков \n",
    "company_and_rounds.info()\n",
    "round(company_and_rounds.isna().sum()/len(company_and_rounds)*100,2) "
   ]
  },
  {
   "cell_type": "code",
   "execution_count": 9,
   "metadata": {},
   "outputs": [
    {
     "data": {
      "text/html": [
       "<div>\n",
       "<style scoped>\n",
       "    .dataframe tbody tr th:only-of-type {\n",
       "        vertical-align: middle;\n",
       "    }\n",
       "\n",
       "    .dataframe tbody tr th {\n",
       "        vertical-align: top;\n",
       "    }\n",
       "\n",
       "    .dataframe thead th {\n",
       "        text-align: right;\n",
       "    }\n",
       "</style>\n",
       "<table border=\"1\" class=\"dataframe\">\n",
       "  <thead>\n",
       "    <tr style=\"text-align: right;\">\n",
       "      <th></th>\n",
       "      <th>company  ID</th>\n",
       "      <th>name</th>\n",
       "      <th>category  code</th>\n",
       "      <th>status</th>\n",
       "      <th>founded  at</th>\n",
       "      <th>closed  at</th>\n",
       "      <th>domain</th>\n",
       "      <th>network  username</th>\n",
       "      <th>country  code</th>\n",
       "      <th>investment  rounds</th>\n",
       "      <th>...</th>\n",
       "      <th>milestones</th>\n",
       "      <th>funding  round  id</th>\n",
       "      <th>company  id</th>\n",
       "      <th>funded  at</th>\n",
       "      <th>funding  round  type</th>\n",
       "      <th>raised  amount</th>\n",
       "      <th>pre  money  valuation</th>\n",
       "      <th>participants</th>\n",
       "      <th>is  first  round</th>\n",
       "      <th>is  last  round</th>\n",
       "    </tr>\n",
       "  </thead>\n",
       "  <tbody>\n",
       "    <tr>\n",
       "      <th>0</th>\n",
       "      <td>1.0</td>\n",
       "      <td>Wetpaint</td>\n",
       "      <td>web</td>\n",
       "      <td>operating</td>\n",
       "      <td>2005-10-17</td>\n",
       "      <td>NaN</td>\n",
       "      <td>wetpaint-inc.com</td>\n",
       "      <td>BachelrWetpaint</td>\n",
       "      <td>USA</td>\n",
       "      <td>0.0</td>\n",
       "      <td>...</td>\n",
       "      <td>5.0</td>\n",
       "      <td>888.0</td>\n",
       "      <td>1.0</td>\n",
       "      <td>2005-10-01</td>\n",
       "      <td>series-a</td>\n",
       "      <td>5250000.0</td>\n",
       "      <td>0.0</td>\n",
       "      <td>2.0</td>\n",
       "      <td>0.0</td>\n",
       "      <td>1.0</td>\n",
       "    </tr>\n",
       "    <tr>\n",
       "      <th>1</th>\n",
       "      <td>1.0</td>\n",
       "      <td>Wetpaint</td>\n",
       "      <td>web</td>\n",
       "      <td>operating</td>\n",
       "      <td>2005-10-17</td>\n",
       "      <td>NaN</td>\n",
       "      <td>wetpaint-inc.com</td>\n",
       "      <td>BachelrWetpaint</td>\n",
       "      <td>USA</td>\n",
       "      <td>0.0</td>\n",
       "      <td>...</td>\n",
       "      <td>5.0</td>\n",
       "      <td>889.0</td>\n",
       "      <td>1.0</td>\n",
       "      <td>2007-01-01</td>\n",
       "      <td>series-b</td>\n",
       "      <td>9500000.0</td>\n",
       "      <td>0.0</td>\n",
       "      <td>3.0</td>\n",
       "      <td>0.0</td>\n",
       "      <td>0.0</td>\n",
       "    </tr>\n",
       "    <tr>\n",
       "      <th>2</th>\n",
       "      <td>1.0</td>\n",
       "      <td>Wetpaint</td>\n",
       "      <td>web</td>\n",
       "      <td>operating</td>\n",
       "      <td>2005-10-17</td>\n",
       "      <td>NaN</td>\n",
       "      <td>wetpaint-inc.com</td>\n",
       "      <td>BachelrWetpaint</td>\n",
       "      <td>USA</td>\n",
       "      <td>0.0</td>\n",
       "      <td>...</td>\n",
       "      <td>5.0</td>\n",
       "      <td>2312.0</td>\n",
       "      <td>1.0</td>\n",
       "      <td>2008-05-19</td>\n",
       "      <td>series-c+</td>\n",
       "      <td>25000000.0</td>\n",
       "      <td>0.0</td>\n",
       "      <td>4.0</td>\n",
       "      <td>1.0</td>\n",
       "      <td>0.0</td>\n",
       "    </tr>\n",
       "    <tr>\n",
       "      <th>3</th>\n",
       "      <td>10.0</td>\n",
       "      <td>Flektor</td>\n",
       "      <td>games_video</td>\n",
       "      <td>acquired</td>\n",
       "      <td>NaN</td>\n",
       "      <td>NaN</td>\n",
       "      <td>flektor.com</td>\n",
       "      <td>NaN</td>\n",
       "      <td>USA</td>\n",
       "      <td>0.0</td>\n",
       "      <td>...</td>\n",
       "      <td>0.0</td>\n",
       "      <td>NaN</td>\n",
       "      <td>NaN</td>\n",
       "      <td>NaN</td>\n",
       "      <td>NaN</td>\n",
       "      <td>NaN</td>\n",
       "      <td>NaN</td>\n",
       "      <td>NaN</td>\n",
       "      <td>NaN</td>\n",
       "      <td>NaN</td>\n",
       "    </tr>\n",
       "    <tr>\n",
       "      <th>4</th>\n",
       "      <td>100.0</td>\n",
       "      <td>There</td>\n",
       "      <td>games_video</td>\n",
       "      <td>acquired</td>\n",
       "      <td>NaN</td>\n",
       "      <td>NaN</td>\n",
       "      <td>there.com</td>\n",
       "      <td>NaN</td>\n",
       "      <td>USA</td>\n",
       "      <td>0.0</td>\n",
       "      <td>...</td>\n",
       "      <td>4.0</td>\n",
       "      <td>NaN</td>\n",
       "      <td>NaN</td>\n",
       "      <td>NaN</td>\n",
       "      <td>NaN</td>\n",
       "      <td>NaN</td>\n",
       "      <td>NaN</td>\n",
       "      <td>NaN</td>\n",
       "      <td>NaN</td>\n",
       "      <td>NaN</td>\n",
       "    </tr>\n",
       "  </tbody>\n",
       "</table>\n",
       "<p>5 rows × 22 columns</p>\n",
       "</div>"
      ],
      "text/plain": [
       "   company  ID      name category  code     status founded  at closed  at  \\\n",
       "0          1.0  Wetpaint            web  operating  2005-10-17        NaN   \n",
       "1          1.0  Wetpaint            web  operating  2005-10-17        NaN   \n",
       "2          1.0  Wetpaint            web  operating  2005-10-17        NaN   \n",
       "3         10.0   Flektor    games_video   acquired         NaN        NaN   \n",
       "4        100.0     There    games_video   acquired         NaN        NaN   \n",
       "\n",
       "             domain network  username country  code  investment  rounds  ...  \\\n",
       "0  wetpaint-inc.com   BachelrWetpaint           USA                 0.0  ...   \n",
       "1  wetpaint-inc.com   BachelrWetpaint           USA                 0.0  ...   \n",
       "2  wetpaint-inc.com   BachelrWetpaint           USA                 0.0  ...   \n",
       "3       flektor.com               NaN           USA                 0.0  ...   \n",
       "4         there.com               NaN           USA                 0.0  ...   \n",
       "\n",
       "   milestones  funding  round  id  company  id  funded  at  \\\n",
       "0         5.0               888.0          1.0  2005-10-01   \n",
       "1         5.0               889.0          1.0  2007-01-01   \n",
       "2         5.0              2312.0          1.0  2008-05-19   \n",
       "3         0.0                 NaN          NaN         NaN   \n",
       "4         4.0                 NaN          NaN         NaN   \n",
       "\n",
       "   funding  round  type raised  amount pre  money  valuation  participants  \\\n",
       "0              series-a      5250000.0                   0.0           2.0   \n",
       "1              series-b      9500000.0                   0.0           3.0   \n",
       "2             series-c+     25000000.0                   0.0           4.0   \n",
       "3                   NaN            NaN                   NaN           NaN   \n",
       "4                   NaN            NaN                   NaN           NaN   \n",
       "\n",
       "   is  first  round  is  last  round  \n",
       "0               0.0              1.0  \n",
       "1               0.0              0.0  \n",
       "2               1.0              0.0  \n",
       "3               NaN              NaN  \n",
       "4               NaN              NaN  \n",
       "\n",
       "[5 rows x 22 columns]"
      ]
     },
     "execution_count": 9,
     "metadata": {},
     "output_type": "execute_result"
    }
   ],
   "source": [
    "# Выгружаем данные из датасета\n",
    "company_and_rounds.head()"
   ]
  },
  {
   "cell_type": "code",
   "execution_count": 10,
   "metadata": {},
   "outputs": [
    {
     "data": {
      "text/plain": [
       "company  ID                 302\n",
       "name                        302\n",
       "category  code            73888\n",
       "status                      302\n",
       "founded  at              107818\n",
       "closed  at               214325\n",
       "domain                    70615\n",
       "network  username        122240\n",
       "country  code            109167\n",
       "investment  rounds          302\n",
       "funding  rounds             302\n",
       "funding  total              302\n",
       "milestones                  302\n",
       "funding  round  id       164846\n",
       "company  id              164846\n",
       "funded  at               165094\n",
       "funding  round  type     164846\n",
       "raised  amount           164846\n",
       "pre  money  valuation    164846\n",
       "participants             164846\n",
       "is  first  round         164846\n",
       "is  last  round          164846\n",
       "dtype: int64"
      ]
     },
     "execution_count": 10,
     "metadata": {},
     "output_type": "execute_result"
    }
   ],
   "source": [
    "# Выводим количество пропущенных строк\n",
    "company_and_rounds.isna().sum()"
   ]
  },
  {
   "cell_type": "markdown",
   "metadata": {},
   "source": [
    "Таблица company_and_rounds содержит 217774 строк и 22 столбца.\n",
    "Во всех столбцах есть пропуски, нужно привести к нижнему регистру и сделать нижнее подчеркивание."
   ]
  },
  {
   "cell_type": "code",
   "execution_count": 11,
   "metadata": {},
   "outputs": [
    {
     "data": {
      "text/html": [
       "<div>\n",
       "<style scoped>\n",
       "    .dataframe tbody tr th:only-of-type {\n",
       "        vertical-align: middle;\n",
       "    }\n",
       "\n",
       "    .dataframe tbody tr th {\n",
       "        vertical-align: top;\n",
       "    }\n",
       "\n",
       "    .dataframe thead th {\n",
       "        text-align: right;\n",
       "    }\n",
       "</style>\n",
       "<table border=\"1\" class=\"dataframe\">\n",
       "  <thead>\n",
       "    <tr style=\"text-align: right;\">\n",
       "      <th></th>\n",
       "      <th>id</th>\n",
       "      <th>first_name</th>\n",
       "      <th>last_name</th>\n",
       "      <th>company_id</th>\n",
       "      <th>network_username</th>\n",
       "    </tr>\n",
       "  </thead>\n",
       "  <tbody>\n",
       "    <tr>\n",
       "      <th>0</th>\n",
       "      <td>10</td>\n",
       "      <td>Mark</td>\n",
       "      <td>Zuckerberg</td>\n",
       "      <td>5.0</td>\n",
       "      <td>NaN</td>\n",
       "    </tr>\n",
       "    <tr>\n",
       "      <th>1</th>\n",
       "      <td>100</td>\n",
       "      <td>Peter</td>\n",
       "      <td>Lester</td>\n",
       "      <td>27.0</td>\n",
       "      <td>NaN</td>\n",
       "    </tr>\n",
       "    <tr>\n",
       "      <th>2</th>\n",
       "      <td>1000</td>\n",
       "      <td>Dr. Steven</td>\n",
       "      <td>E. Saunders</td>\n",
       "      <td>292.0</td>\n",
       "      <td>NaN</td>\n",
       "    </tr>\n",
       "    <tr>\n",
       "      <th>3</th>\n",
       "      <td>10000</td>\n",
       "      <td>Neil</td>\n",
       "      <td>Capel</td>\n",
       "      <td>2526.0</td>\n",
       "      <td>NaN</td>\n",
       "    </tr>\n",
       "    <tr>\n",
       "      <th>4</th>\n",
       "      <td>100000</td>\n",
       "      <td>Sue</td>\n",
       "      <td>Pilsch</td>\n",
       "      <td>NaN</td>\n",
       "      <td>NaN</td>\n",
       "    </tr>\n",
       "  </tbody>\n",
       "</table>\n",
       "</div>"
      ],
      "text/plain": [
       "       id  first_name    last_name  company_id network_username\n",
       "0      10        Mark   Zuckerberg         5.0              NaN\n",
       "1     100       Peter       Lester        27.0              NaN\n",
       "2    1000  Dr. Steven  E. Saunders       292.0              NaN\n",
       "3   10000        Neil        Capel      2526.0              NaN\n",
       "4  100000         Sue       Pilsch         NaN              NaN"
      ]
     },
     "execution_count": 11,
     "metadata": {},
     "output_type": "execute_result"
    }
   ],
   "source": [
    "# Выгружаем данные из датасета\n",
    "people.head()"
   ]
  },
  {
   "cell_type": "code",
   "execution_count": 12,
   "metadata": {},
   "outputs": [
    {
     "name": "stdout",
     "output_type": "stream",
     "text": [
      "<class 'pandas.core.frame.DataFrame'>\n",
      "RangeIndex: 226709 entries, 0 to 226708\n",
      "Data columns (total 5 columns):\n",
      " #   Column            Non-Null Count   Dtype  \n",
      "---  ------            --------------   -----  \n",
      " 0   id                226709 non-null  int64  \n",
      " 1   first_name        226704 non-null  object \n",
      " 2   last_name         226708 non-null  object \n",
      " 3   company_id        34615 non-null   float64\n",
      " 4   network_username  38867 non-null   object \n",
      "dtypes: float64(1), int64(1), object(3)\n",
      "memory usage: 8.6+ MB\n"
     ]
    },
    {
     "data": {
      "text/plain": [
       "id                   0.00\n",
       "first_name           0.00\n",
       "last_name            0.00\n",
       "company_id          84.73\n",
       "network_username    82.86\n",
       "dtype: float64"
      ]
     },
     "execution_count": 12,
     "metadata": {},
     "output_type": "execute_result"
    }
   ],
   "source": [
    "# Выводим информацию о датафрейме и считаем % пропусков\n",
    "people.info()\n",
    "round(people.isna().sum()/len(people)*100,2) "
   ]
  },
  {
   "cell_type": "markdown",
   "metadata": {},
   "source": [
    "Таблица people содержит 223709 строк и 5 столбцов.\n",
    "В столбце company_id   почти (85 %) пропусков   в столбце  network_username  почти  (83%).   \n",
    "Типы данных соответствуют, для удобстава company_id можно привести к int64 "
   ]
  },
  {
   "cell_type": "code",
   "execution_count": 13,
   "metadata": {},
   "outputs": [
    {
     "data": {
      "text/html": [
       "<div>\n",
       "<style scoped>\n",
       "    .dataframe tbody tr th:only-of-type {\n",
       "        vertical-align: middle;\n",
       "    }\n",
       "\n",
       "    .dataframe tbody tr th {\n",
       "        vertical-align: top;\n",
       "    }\n",
       "\n",
       "    .dataframe thead th {\n",
       "        text-align: right;\n",
       "    }\n",
       "</style>\n",
       "<table border=\"1\" class=\"dataframe\">\n",
       "  <thead>\n",
       "    <tr style=\"text-align: right;\">\n",
       "      <th></th>\n",
       "      <th>id</th>\n",
       "      <th>person_id</th>\n",
       "      <th>instituition</th>\n",
       "      <th>graduated_at</th>\n",
       "    </tr>\n",
       "  </thead>\n",
       "  <tbody>\n",
       "    <tr>\n",
       "      <th>0</th>\n",
       "      <td>1</td>\n",
       "      <td>6117</td>\n",
       "      <td>NaN</td>\n",
       "      <td>NaN</td>\n",
       "    </tr>\n",
       "    <tr>\n",
       "      <th>1</th>\n",
       "      <td>2</td>\n",
       "      <td>6136</td>\n",
       "      <td>Washington University, St. Louis</td>\n",
       "      <td>1990-01-01</td>\n",
       "    </tr>\n",
       "    <tr>\n",
       "      <th>2</th>\n",
       "      <td>3</td>\n",
       "      <td>6136</td>\n",
       "      <td>Boston University</td>\n",
       "      <td>1992-01-01</td>\n",
       "    </tr>\n",
       "    <tr>\n",
       "      <th>3</th>\n",
       "      <td>4</td>\n",
       "      <td>6005</td>\n",
       "      <td>University of Greenwich</td>\n",
       "      <td>2006-01-01</td>\n",
       "    </tr>\n",
       "    <tr>\n",
       "      <th>4</th>\n",
       "      <td>5</td>\n",
       "      <td>5832</td>\n",
       "      <td>Rice University</td>\n",
       "      <td>NaN</td>\n",
       "    </tr>\n",
       "  </tbody>\n",
       "</table>\n",
       "</div>"
      ],
      "text/plain": [
       "   id  person_id                      instituition graduated_at\n",
       "0   1       6117                               NaN          NaN\n",
       "1   2       6136  Washington University, St. Louis   1990-01-01\n",
       "2   3       6136                 Boston University   1992-01-01\n",
       "3   4       6005           University of Greenwich   2006-01-01\n",
       "4   5       5832                   Rice University          NaN"
      ]
     },
     "execution_count": 13,
     "metadata": {},
     "output_type": "execute_result"
    }
   ],
   "source": [
    "# Выгружаем данные из датасета\n",
    "education.head()"
   ]
  },
  {
   "cell_type": "code",
   "execution_count": 14,
   "metadata": {},
   "outputs": [
    {
     "name": "stdout",
     "output_type": "stream",
     "text": [
      "<class 'pandas.core.frame.DataFrame'>\n",
      "RangeIndex: 109610 entries, 0 to 109609\n",
      "Data columns (total 4 columns):\n",
      " #   Column        Non-Null Count   Dtype \n",
      "---  ------        --------------   ----- \n",
      " 0   id            109610 non-null  int64 \n",
      " 1   person_id     109610 non-null  int64 \n",
      " 2   instituition  109555 non-null  object\n",
      " 3   graduated_at  58054 non-null   object\n",
      "dtypes: int64(2), object(2)\n",
      "memory usage: 3.3+ MB\n"
     ]
    },
    {
     "data": {
      "text/plain": [
       "id               0.00\n",
       "person_id        0.00\n",
       "instituition     0.05\n",
       "graduated_at    47.04\n",
       "dtype: float64"
      ]
     },
     "execution_count": 14,
     "metadata": {},
     "output_type": "execute_result"
    }
   ],
   "source": [
    "# Выводим информацию о датафрейме и считаем % пропусков\n",
    "education.info()\n",
    "round(education.isna().sum()/len(education)*100,2) "
   ]
  },
  {
   "cell_type": "markdown",
   "metadata": {},
   "source": [
    "Таблица education содержит 109610 строк и 4 столбца. В столбце graduated_at  (47 %) пропусков \n",
    "Типы данных соответствуют, для удобстава graduated_a можно привести к date"
   ]
  },
  {
   "cell_type": "code",
   "execution_count": 15,
   "metadata": {},
   "outputs": [
    {
     "data": {
      "text/html": [
       "<div>\n",
       "<style scoped>\n",
       "    .dataframe tbody tr th:only-of-type {\n",
       "        vertical-align: middle;\n",
       "    }\n",
       "\n",
       "    .dataframe tbody tr th {\n",
       "        vertical-align: top;\n",
       "    }\n",
       "\n",
       "    .dataframe thead th {\n",
       "        text-align: right;\n",
       "    }\n",
       "</style>\n",
       "<table border=\"1\" class=\"dataframe\">\n",
       "  <thead>\n",
       "    <tr style=\"text-align: right;\">\n",
       "      <th></th>\n",
       "      <th>id</th>\n",
       "      <th>object_id</th>\n",
       "      <th>degree_type</th>\n",
       "      <th>subject</th>\n",
       "    </tr>\n",
       "  </thead>\n",
       "  <tbody>\n",
       "    <tr>\n",
       "      <th>0</th>\n",
       "      <td>1</td>\n",
       "      <td>p:6117</td>\n",
       "      <td>MBA</td>\n",
       "      <td>NaN</td>\n",
       "    </tr>\n",
       "    <tr>\n",
       "      <th>1</th>\n",
       "      <td>2</td>\n",
       "      <td>p:6136</td>\n",
       "      <td>BA</td>\n",
       "      <td>English, French</td>\n",
       "    </tr>\n",
       "    <tr>\n",
       "      <th>2</th>\n",
       "      <td>3</td>\n",
       "      <td>p:6136</td>\n",
       "      <td>MS</td>\n",
       "      <td>Mass Communication</td>\n",
       "    </tr>\n",
       "    <tr>\n",
       "      <th>3</th>\n",
       "      <td>4</td>\n",
       "      <td>p:6005</td>\n",
       "      <td>MS</td>\n",
       "      <td>Internet Technology</td>\n",
       "    </tr>\n",
       "    <tr>\n",
       "      <th>4</th>\n",
       "      <td>5</td>\n",
       "      <td>p:5832</td>\n",
       "      <td>BCS</td>\n",
       "      <td>Computer Science, Psychology</td>\n",
       "    </tr>\n",
       "  </tbody>\n",
       "</table>\n",
       "</div>"
      ],
      "text/plain": [
       "   id object_id degree_type                       subject\n",
       "0   1    p:6117         MBA                           NaN\n",
       "1   2    p:6136          BA               English, French\n",
       "2   3    p:6136          MS            Mass Communication\n",
       "3   4    p:6005          MS           Internet Technology\n",
       "4   5    p:5832         BCS  Computer Science, Psychology"
      ]
     },
     "execution_count": 15,
     "metadata": {},
     "output_type": "execute_result"
    }
   ],
   "source": [
    "# Выгружаем данные из датасета\n",
    "degrees.head()"
   ]
  },
  {
   "cell_type": "code",
   "execution_count": 16,
   "metadata": {},
   "outputs": [
    {
     "name": "stdout",
     "output_type": "stream",
     "text": [
      "<class 'pandas.core.frame.DataFrame'>\n",
      "RangeIndex: 109610 entries, 0 to 109609\n",
      "Data columns (total 4 columns):\n",
      " #   Column       Non-Null Count   Dtype \n",
      "---  ------       --------------   ----- \n",
      " 0   id           109610 non-null  int64 \n",
      " 1   object_id    109610 non-null  object\n",
      " 2   degree_type  98392 non-null   object\n",
      " 3   subject      81298 non-null   object\n",
      "dtypes: int64(1), object(3)\n",
      "memory usage: 3.3+ MB\n"
     ]
    },
    {
     "data": {
      "text/plain": [
       "id              0.00\n",
       "object_id       0.00\n",
       "degree_type    10.23\n",
       "subject        25.83\n",
       "dtype: float64"
      ]
     },
     "execution_count": 16,
     "metadata": {},
     "output_type": "execute_result"
    }
   ],
   "source": [
    "# Выводим информацию о датафрейме и считаем % пропусков \n",
    "degrees.info()\n",
    "round(degrees.isna().sum()/len(degrees)*100,2) "
   ]
  },
  {
   "cell_type": "markdown",
   "metadata": {},
   "source": [
    "Таблица degrees содержит 109610 строк и 4 столбца. В столбце degree_type  почти (10 %) пропусков в столбце subject   почти (26%).\n",
    "Типы данных соответствуют, для удобстава object_id  можно привести к int64"
   ]
  },
  {
   "cell_type": "code",
   "execution_count": 17,
   "metadata": {},
   "outputs": [
    {
     "data": {
      "text/html": [
       "<div>\n",
       "<style scoped>\n",
       "    .dataframe tbody tr th:only-of-type {\n",
       "        vertical-align: middle;\n",
       "    }\n",
       "\n",
       "    .dataframe tbody tr th {\n",
       "        vertical-align: top;\n",
       "    }\n",
       "\n",
       "    .dataframe thead th {\n",
       "        text-align: right;\n",
       "    }\n",
       "</style>\n",
       "<table border=\"1\" class=\"dataframe\">\n",
       "  <thead>\n",
       "    <tr style=\"text-align: right;\">\n",
       "      <th></th>\n",
       "      <th>id</th>\n",
       "      <th>name</th>\n",
       "      <th>founded_at</th>\n",
       "      <th>domain</th>\n",
       "      <th>network_username</th>\n",
       "      <th>country_code</th>\n",
       "      <th>investment_rounds</th>\n",
       "      <th>invested_companies</th>\n",
       "      <th>milestones</th>\n",
       "    </tr>\n",
       "  </thead>\n",
       "  <tbody>\n",
       "    <tr>\n",
       "      <th>0</th>\n",
       "      <td>13131</td>\n",
       "      <td>NaN</td>\n",
       "      <td>NaN</td>\n",
       "      <td>NaN</td>\n",
       "      <td>NaN</td>\n",
       "      <td>NaN</td>\n",
       "      <td>0</td>\n",
       "      <td>0</td>\n",
       "      <td>0</td>\n",
       "    </tr>\n",
       "    <tr>\n",
       "      <th>1</th>\n",
       "      <td>1</td>\n",
       "      <td>Greylock Partners</td>\n",
       "      <td>1965-01-01</td>\n",
       "      <td>greylock.com</td>\n",
       "      <td>greylockvc</td>\n",
       "      <td>USA</td>\n",
       "      <td>307</td>\n",
       "      <td>196</td>\n",
       "      <td>0</td>\n",
       "    </tr>\n",
       "    <tr>\n",
       "      <th>2</th>\n",
       "      <td>10</td>\n",
       "      <td>Mission Ventures</td>\n",
       "      <td>1996-01-01</td>\n",
       "      <td>missionventures.com</td>\n",
       "      <td>NaN</td>\n",
       "      <td>USA</td>\n",
       "      <td>58</td>\n",
       "      <td>33</td>\n",
       "      <td>0</td>\n",
       "    </tr>\n",
       "    <tr>\n",
       "      <th>3</th>\n",
       "      <td>100</td>\n",
       "      <td>Kapor Enterprises, Inc.</td>\n",
       "      <td>NaN</td>\n",
       "      <td>kei.com</td>\n",
       "      <td>NaN</td>\n",
       "      <td>USA</td>\n",
       "      <td>2</td>\n",
       "      <td>1</td>\n",
       "      <td>0</td>\n",
       "    </tr>\n",
       "    <tr>\n",
       "      <th>4</th>\n",
       "      <td>1000</td>\n",
       "      <td>Speed Ventures</td>\n",
       "      <td>NaN</td>\n",
       "      <td>NaN</td>\n",
       "      <td>NaN</td>\n",
       "      <td>NaN</td>\n",
       "      <td>0</td>\n",
       "      <td>0</td>\n",
       "      <td>1</td>\n",
       "    </tr>\n",
       "  </tbody>\n",
       "</table>\n",
       "</div>"
      ],
      "text/plain": [
       "      id                     name  founded_at               domain  \\\n",
       "0  13131                      NaN         NaN                  NaN   \n",
       "1      1        Greylock Partners  1965-01-01         greylock.com   \n",
       "2     10         Mission Ventures  1996-01-01  missionventures.com   \n",
       "3    100  Kapor Enterprises, Inc.         NaN              kei.com   \n",
       "4   1000           Speed Ventures         NaN                  NaN   \n",
       "\n",
       "  network_username country_code  investment_rounds  invested_companies  \\\n",
       "0              NaN          NaN                  0                   0   \n",
       "1       greylockvc          USA                307                 196   \n",
       "2              NaN          USA                 58                  33   \n",
       "3              NaN          USA                  2                   1   \n",
       "4              NaN          NaN                  0                   0   \n",
       "\n",
       "   milestones  \n",
       "0           0  \n",
       "1           0  \n",
       "2           0  \n",
       "3           0  \n",
       "4           1  "
      ]
     },
     "execution_count": 17,
     "metadata": {},
     "output_type": "execute_result"
    }
   ],
   "source": [
    "# Выгружаем данные из датасета\n",
    "fund.head()"
   ]
  },
  {
   "cell_type": "code",
   "execution_count": 18,
   "metadata": {},
   "outputs": [
    {
     "name": "stdout",
     "output_type": "stream",
     "text": [
      "<class 'pandas.core.frame.DataFrame'>\n",
      "RangeIndex: 11652 entries, 0 to 11651\n",
      "Data columns (total 9 columns):\n",
      " #   Column              Non-Null Count  Dtype \n",
      "---  ------              --------------  ----- \n",
      " 0   id                  11652 non-null  int64 \n",
      " 1   name                11650 non-null  object\n",
      " 2   founded_at          4605 non-null   object\n",
      " 3   domain              7362 non-null   object\n",
      " 4   network_username    2149 non-null   object\n",
      " 5   country_code        7053 non-null   object\n",
      " 6   investment_rounds   11652 non-null  int64 \n",
      " 7   invested_companies  11652 non-null  int64 \n",
      " 8   milestones          11652 non-null  int64 \n",
      "dtypes: int64(4), object(5)\n",
      "memory usage: 819.4+ KB\n"
     ]
    },
    {
     "data": {
      "text/plain": [
       "id                     0.00\n",
       "name                   0.02\n",
       "founded_at            60.48\n",
       "domain                36.82\n",
       "network_username      81.56\n",
       "country_code          39.47\n",
       "investment_rounds      0.00\n",
       "invested_companies     0.00\n",
       "milestones             0.00\n",
       "dtype: float64"
      ]
     },
     "execution_count": 18,
     "metadata": {},
     "output_type": "execute_result"
    }
   ],
   "source": [
    "# Выводим информацию о датафрейме и считаем % пропусков \n",
    "fund.info()\n",
    "round(fund.isna().sum()/len(fund)*100,2)"
   ]
  },
  {
   "cell_type": "markdown",
   "metadata": {},
   "source": [
    "Таблица fund содержит 11652 строк и 9 столбцов. В столбцах п founded_at  (60 %), domain (37%),network_username (81%), country_code  (39%), пропусков. Типы данных соответствуют, для удобстава founded_at можно привести к date."
   ]
  },
  {
   "cell_type": "code",
   "execution_count": 19,
   "metadata": {},
   "outputs": [
    {
     "data": {
      "text/html": [
       "<div>\n",
       "<style scoped>\n",
       "    .dataframe tbody tr th:only-of-type {\n",
       "        vertical-align: middle;\n",
       "    }\n",
       "\n",
       "    .dataframe tbody tr th {\n",
       "        vertical-align: top;\n",
       "    }\n",
       "\n",
       "    .dataframe thead th {\n",
       "        text-align: right;\n",
       "    }\n",
       "</style>\n",
       "<table border=\"1\" class=\"dataframe\">\n",
       "  <thead>\n",
       "    <tr style=\"text-align: right;\">\n",
       "      <th></th>\n",
       "      <th>id</th>\n",
       "      <th>funding_round_id</th>\n",
       "      <th>company_id</th>\n",
       "      <th>fund_id</th>\n",
       "    </tr>\n",
       "  </thead>\n",
       "  <tbody>\n",
       "    <tr>\n",
       "      <th>0</th>\n",
       "      <td>1</td>\n",
       "      <td>1</td>\n",
       "      <td>4</td>\n",
       "      <td>1</td>\n",
       "    </tr>\n",
       "    <tr>\n",
       "      <th>1</th>\n",
       "      <td>2</td>\n",
       "      <td>1</td>\n",
       "      <td>4</td>\n",
       "      <td>2</td>\n",
       "    </tr>\n",
       "    <tr>\n",
       "      <th>2</th>\n",
       "      <td>3</td>\n",
       "      <td>3</td>\n",
       "      <td>5</td>\n",
       "      <td>4</td>\n",
       "    </tr>\n",
       "    <tr>\n",
       "      <th>3</th>\n",
       "      <td>4</td>\n",
       "      <td>4</td>\n",
       "      <td>5</td>\n",
       "      <td>1</td>\n",
       "    </tr>\n",
       "    <tr>\n",
       "      <th>4</th>\n",
       "      <td>5</td>\n",
       "      <td>4</td>\n",
       "      <td>5</td>\n",
       "      <td>5</td>\n",
       "    </tr>\n",
       "  </tbody>\n",
       "</table>\n",
       "</div>"
      ],
      "text/plain": [
       "   id  funding_round_id  company_id  fund_id\n",
       "0   1                 1           4        1\n",
       "1   2                 1           4        2\n",
       "2   3                 3           5        4\n",
       "3   4                 4           5        1\n",
       "4   5                 4           5        5"
      ]
     },
     "execution_count": 19,
     "metadata": {},
     "output_type": "execute_result"
    }
   ],
   "source": [
    "# Выгружаем данные из датасета\n",
    "investment.head()"
   ]
  },
  {
   "cell_type": "code",
   "execution_count": 20,
   "metadata": {},
   "outputs": [
    {
     "name": "stdout",
     "output_type": "stream",
     "text": [
      "<class 'pandas.core.frame.DataFrame'>\n",
      "RangeIndex: 61403 entries, 0 to 61402\n",
      "Data columns (total 4 columns):\n",
      " #   Column            Non-Null Count  Dtype\n",
      "---  ------            --------------  -----\n",
      " 0   id                61403 non-null  int64\n",
      " 1   funding_round_id  61403 non-null  int64\n",
      " 2   company_id        61403 non-null  int64\n",
      " 3   fund_id           61403 non-null  int64\n",
      "dtypes: int64(4)\n",
      "memory usage: 1.9 MB\n"
     ]
    },
    {
     "data": {
      "text/plain": [
       "id                  0.0\n",
       "funding_round_id    0.0\n",
       "company_id          0.0\n",
       "fund_id             0.0\n",
       "dtype: float64"
      ]
     },
     "execution_count": 20,
     "metadata": {},
     "output_type": "execute_result"
    }
   ],
   "source": [
    "# Выводим информацию о датафрейме и считаем % пропусков \n",
    "investment.info()\n",
    "round(investment.isna().sum()/len(investment)*100,2) "
   ]
  },
  {
   "cell_type": "markdown",
   "metadata": {},
   "source": [
    "Таблица investment содержит 61403  строк и 4 столбца. Пропуски отсутствуют. Типы данных соответствуют"
   ]
  },
  {
   "cell_type": "markdown",
   "metadata": {},
   "source": [
    "\n",
    "* Проверьте названия столбцов."
   ]
  },
  {
   "cell_type": "code",
   "execution_count": 21,
   "metadata": {},
   "outputs": [],
   "source": [
    "## Приводим названия столбцов к стилю snake case, нижнему регистру и вместо проблеов- подчёркивания. \n",
    "company_and_rounds.columns = company_and_rounds.columns.str.replace(' ', '_')"
   ]
  },
  {
   "cell_type": "code",
   "execution_count": 22,
   "metadata": {},
   "outputs": [
    {
     "data": {
      "text/plain": [
       "company__ID              float64\n",
       "name                      object\n",
       "category__code            object\n",
       "status                    object\n",
       "founded__at               object\n",
       "closed__at                object\n",
       "domain                    object\n",
       "network__username         object\n",
       "country__code             object\n",
       "investment__rounds       float64\n",
       "funding__rounds          float64\n",
       "funding__total           float64\n",
       "milestones               float64\n",
       "funding__round__id       float64\n",
       "company__id              float64\n",
       "funded__at                object\n",
       "funding__round__type      object\n",
       "raised__amount           float64\n",
       "pre__money__valuation    float64\n",
       "participants             float64\n",
       "is__first__round         float64\n",
       "is__last__round          float64\n",
       "dtype: object"
      ]
     },
     "execution_count": 22,
     "metadata": {},
     "output_type": "execute_result"
    }
   ],
   "source": [
    "# Выводим результат\n",
    "company_and_rounds.dtypes"
   ]
  },
  {
   "cell_type": "markdown",
   "metadata": {},
   "source": [
    "\n",
    "* Выведите информацию, которая необходима вам для принятия решений о предобработке, для каждого из датасетов."
   ]
  },
  {
   "cell_type": "markdown",
   "metadata": {
    "id": "mg2gEwh0rJg0"
   },
   "source": [
    "### 1.2. Смена типов и анализ пропусков\n",
    "\n",
    "* Обработайте типы данных в столбцах, которые хранят значения даты и времени, если это необходимо."
   ]
  },
  {
   "cell_type": "code",
   "execution_count": 23,
   "metadata": {},
   "outputs": [],
   "source": [
    "# Преобразуем столбцы с некорректными типами данных связанных с датой \n",
    "acquisition['acquired_at'] = pd.to_datetime(acquisition['acquired_at'], errors='coerce')\n",
    "company_and_rounds['founded__at'] = pd.to_datetime(company_and_rounds['founded__at'], errors='coerce')\n",
    "company_and_rounds['closed__at'] = pd.to_datetime(company_and_rounds['closed__at'], errors='coerce')\n",
    "company_and_rounds['funded__at'] = pd.to_datetime(company_and_rounds['funded__at'], errors='coerce')\n",
    "education['graduated_at'] = pd.to_datetime(education['graduated_at'], errors='coerce')\n",
    "fund['founded_at'] = pd.to_datetime(fund['founded_at'], errors='coerce')"
   ]
  },
  {
   "cell_type": "code",
   "execution_count": 24,
   "metadata": {},
   "outputs": [
    {
     "data": {
      "text/plain": [
       "id                               int64\n",
       "acquiring_company_id             int64\n",
       "acquired_company_id              int64\n",
       "term_code                       object\n",
       "price_amount                     int64\n",
       "acquired_at             datetime64[ns]\n",
       "dtype: object"
      ]
     },
     "execution_count": 24,
     "metadata": {},
     "output_type": "execute_result"
    }
   ],
   "source": [
    "# Выводим результат\n",
    "acquisition.dtypes"
   ]
  },
  {
   "cell_type": "code",
   "execution_count": 25,
   "metadata": {},
   "outputs": [
    {
     "data": {
      "text/html": [
       "<div>\n",
       "<style scoped>\n",
       "    .dataframe tbody tr th:only-of-type {\n",
       "        vertical-align: middle;\n",
       "    }\n",
       "\n",
       "    .dataframe tbody tr th {\n",
       "        vertical-align: top;\n",
       "    }\n",
       "\n",
       "    .dataframe thead th {\n",
       "        text-align: right;\n",
       "    }\n",
       "</style>\n",
       "<table border=\"1\" class=\"dataframe\">\n",
       "  <thead>\n",
       "    <tr style=\"text-align: right;\">\n",
       "      <th></th>\n",
       "      <th>company__ID</th>\n",
       "      <th>name</th>\n",
       "      <th>category__code</th>\n",
       "      <th>status</th>\n",
       "      <th>founded__at</th>\n",
       "      <th>closed__at</th>\n",
       "      <th>domain</th>\n",
       "      <th>network__username</th>\n",
       "      <th>country__code</th>\n",
       "      <th>investment__rounds</th>\n",
       "      <th>...</th>\n",
       "      <th>milestones</th>\n",
       "      <th>funding__round__id</th>\n",
       "      <th>company__id</th>\n",
       "      <th>funded__at</th>\n",
       "      <th>funding__round__type</th>\n",
       "      <th>raised__amount</th>\n",
       "      <th>pre__money__valuation</th>\n",
       "      <th>participants</th>\n",
       "      <th>is__first__round</th>\n",
       "      <th>is__last__round</th>\n",
       "    </tr>\n",
       "  </thead>\n",
       "  <tbody>\n",
       "    <tr>\n",
       "      <th>0</th>\n",
       "      <td>1.0</td>\n",
       "      <td>Wetpaint</td>\n",
       "      <td>web</td>\n",
       "      <td>operating</td>\n",
       "      <td>2005-10-17</td>\n",
       "      <td>NaT</td>\n",
       "      <td>wetpaint-inc.com</td>\n",
       "      <td>BachelrWetpaint</td>\n",
       "      <td>USA</td>\n",
       "      <td>0.0</td>\n",
       "      <td>...</td>\n",
       "      <td>5.0</td>\n",
       "      <td>888.0</td>\n",
       "      <td>1.0</td>\n",
       "      <td>2005-10-01</td>\n",
       "      <td>series-a</td>\n",
       "      <td>5250000.0</td>\n",
       "      <td>0.0</td>\n",
       "      <td>2.0</td>\n",
       "      <td>0.0</td>\n",
       "      <td>1.0</td>\n",
       "    </tr>\n",
       "    <tr>\n",
       "      <th>1</th>\n",
       "      <td>1.0</td>\n",
       "      <td>Wetpaint</td>\n",
       "      <td>web</td>\n",
       "      <td>operating</td>\n",
       "      <td>2005-10-17</td>\n",
       "      <td>NaT</td>\n",
       "      <td>wetpaint-inc.com</td>\n",
       "      <td>BachelrWetpaint</td>\n",
       "      <td>USA</td>\n",
       "      <td>0.0</td>\n",
       "      <td>...</td>\n",
       "      <td>5.0</td>\n",
       "      <td>889.0</td>\n",
       "      <td>1.0</td>\n",
       "      <td>2007-01-01</td>\n",
       "      <td>series-b</td>\n",
       "      <td>9500000.0</td>\n",
       "      <td>0.0</td>\n",
       "      <td>3.0</td>\n",
       "      <td>0.0</td>\n",
       "      <td>0.0</td>\n",
       "    </tr>\n",
       "    <tr>\n",
       "      <th>2</th>\n",
       "      <td>1.0</td>\n",
       "      <td>Wetpaint</td>\n",
       "      <td>web</td>\n",
       "      <td>operating</td>\n",
       "      <td>2005-10-17</td>\n",
       "      <td>NaT</td>\n",
       "      <td>wetpaint-inc.com</td>\n",
       "      <td>BachelrWetpaint</td>\n",
       "      <td>USA</td>\n",
       "      <td>0.0</td>\n",
       "      <td>...</td>\n",
       "      <td>5.0</td>\n",
       "      <td>2312.0</td>\n",
       "      <td>1.0</td>\n",
       "      <td>2008-05-19</td>\n",
       "      <td>series-c+</td>\n",
       "      <td>25000000.0</td>\n",
       "      <td>0.0</td>\n",
       "      <td>4.0</td>\n",
       "      <td>1.0</td>\n",
       "      <td>0.0</td>\n",
       "    </tr>\n",
       "    <tr>\n",
       "      <th>3</th>\n",
       "      <td>10.0</td>\n",
       "      <td>Flektor</td>\n",
       "      <td>games_video</td>\n",
       "      <td>acquired</td>\n",
       "      <td>NaT</td>\n",
       "      <td>NaT</td>\n",
       "      <td>flektor.com</td>\n",
       "      <td>NaN</td>\n",
       "      <td>USA</td>\n",
       "      <td>0.0</td>\n",
       "      <td>...</td>\n",
       "      <td>0.0</td>\n",
       "      <td>NaN</td>\n",
       "      <td>NaN</td>\n",
       "      <td>NaT</td>\n",
       "      <td>NaN</td>\n",
       "      <td>NaN</td>\n",
       "      <td>NaN</td>\n",
       "      <td>NaN</td>\n",
       "      <td>NaN</td>\n",
       "      <td>NaN</td>\n",
       "    </tr>\n",
       "    <tr>\n",
       "      <th>4</th>\n",
       "      <td>100.0</td>\n",
       "      <td>There</td>\n",
       "      <td>games_video</td>\n",
       "      <td>acquired</td>\n",
       "      <td>NaT</td>\n",
       "      <td>NaT</td>\n",
       "      <td>there.com</td>\n",
       "      <td>NaN</td>\n",
       "      <td>USA</td>\n",
       "      <td>0.0</td>\n",
       "      <td>...</td>\n",
       "      <td>4.0</td>\n",
       "      <td>NaN</td>\n",
       "      <td>NaN</td>\n",
       "      <td>NaT</td>\n",
       "      <td>NaN</td>\n",
       "      <td>NaN</td>\n",
       "      <td>NaN</td>\n",
       "      <td>NaN</td>\n",
       "      <td>NaN</td>\n",
       "      <td>NaN</td>\n",
       "    </tr>\n",
       "  </tbody>\n",
       "</table>\n",
       "<p>5 rows × 22 columns</p>\n",
       "</div>"
      ],
      "text/plain": [
       "   company__ID      name category__code     status founded__at closed__at  \\\n",
       "0          1.0  Wetpaint            web  operating  2005-10-17        NaT   \n",
       "1          1.0  Wetpaint            web  operating  2005-10-17        NaT   \n",
       "2          1.0  Wetpaint            web  operating  2005-10-17        NaT   \n",
       "3         10.0   Flektor    games_video   acquired         NaT        NaT   \n",
       "4        100.0     There    games_video   acquired         NaT        NaT   \n",
       "\n",
       "             domain network__username country__code  investment__rounds  ...  \\\n",
       "0  wetpaint-inc.com   BachelrWetpaint           USA                 0.0  ...   \n",
       "1  wetpaint-inc.com   BachelrWetpaint           USA                 0.0  ...   \n",
       "2  wetpaint-inc.com   BachelrWetpaint           USA                 0.0  ...   \n",
       "3       flektor.com               NaN           USA                 0.0  ...   \n",
       "4         there.com               NaN           USA                 0.0  ...   \n",
       "\n",
       "   milestones  funding__round__id  company__id  funded__at  \\\n",
       "0         5.0               888.0          1.0  2005-10-01   \n",
       "1         5.0               889.0          1.0  2007-01-01   \n",
       "2         5.0              2312.0          1.0  2008-05-19   \n",
       "3         0.0                 NaN          NaN         NaT   \n",
       "4         4.0                 NaN          NaN         NaT   \n",
       "\n",
       "   funding__round__type raised__amount pre__money__valuation  participants  \\\n",
       "0              series-a      5250000.0                   0.0           2.0   \n",
       "1              series-b      9500000.0                   0.0           3.0   \n",
       "2             series-c+     25000000.0                   0.0           4.0   \n",
       "3                   NaN            NaN                   NaN           NaN   \n",
       "4                   NaN            NaN                   NaN           NaN   \n",
       "\n",
       "   is__first__round  is__last__round  \n",
       "0               0.0              1.0  \n",
       "1               0.0              0.0  \n",
       "2               1.0              0.0  \n",
       "3               NaN              NaN  \n",
       "4               NaN              NaN  \n",
       "\n",
       "[5 rows x 22 columns]"
      ]
     },
     "execution_count": 25,
     "metadata": {},
     "output_type": "execute_result"
    }
   ],
   "source": [
    "company_and_rounds.dtypes\n",
    "company_and_rounds.head(5)"
   ]
  },
  {
   "cell_type": "code",
   "execution_count": 26,
   "metadata": {},
   "outputs": [
    {
     "data": {
      "text/plain": [
       "id                       int64\n",
       "person_id                int64\n",
       "instituition            object\n",
       "graduated_at    datetime64[ns]\n",
       "dtype: object"
      ]
     },
     "execution_count": 26,
     "metadata": {},
     "output_type": "execute_result"
    }
   ],
   "source": [
    "education.dtypes"
   ]
  },
  {
   "cell_type": "code",
   "execution_count": 27,
   "metadata": {},
   "outputs": [
    {
     "data": {
      "text/plain": [
       "id                             int64\n",
       "name                          object\n",
       "founded_at            datetime64[ns]\n",
       "domain                        object\n",
       "network_username              object\n",
       "country_code                  object\n",
       "investment_rounds              int64\n",
       "invested_companies             int64\n",
       "milestones                     int64\n",
       "dtype: object"
      ]
     },
     "execution_count": 27,
     "metadata": {},
     "output_type": "execute_result"
    }
   ],
   "source": [
    "fund.dtypes"
   ]
  },
  {
   "cell_type": "markdown",
   "metadata": {},
   "source": []
  },
  {
   "cell_type": "code",
   "execution_count": 28,
   "metadata": {},
   "outputs": [
    {
     "data": {
      "text/html": [
       "<div>\n",
       "<style scoped>\n",
       "    .dataframe tbody tr th:only-of-type {\n",
       "        vertical-align: middle;\n",
       "    }\n",
       "\n",
       "    .dataframe tbody tr th {\n",
       "        vertical-align: top;\n",
       "    }\n",
       "\n",
       "    .dataframe thead th {\n",
       "        text-align: right;\n",
       "    }\n",
       "</style>\n",
       "<table border=\"1\" class=\"dataframe\">\n",
       "  <thead>\n",
       "    <tr style=\"text-align: right;\">\n",
       "      <th></th>\n",
       "      <th>company__ID</th>\n",
       "      <th>name</th>\n",
       "      <th>category__code</th>\n",
       "      <th>status</th>\n",
       "      <th>founded__at</th>\n",
       "      <th>closed__at</th>\n",
       "      <th>domain</th>\n",
       "      <th>network__username</th>\n",
       "      <th>country__code</th>\n",
       "      <th>investment__rounds</th>\n",
       "      <th>...</th>\n",
       "      <th>milestones</th>\n",
       "      <th>funding__round__id</th>\n",
       "      <th>company__id</th>\n",
       "      <th>funded__at</th>\n",
       "      <th>funding__round__type</th>\n",
       "      <th>raised__amount</th>\n",
       "      <th>pre__money__valuation</th>\n",
       "      <th>participants</th>\n",
       "      <th>is__first__round</th>\n",
       "      <th>is__last__round</th>\n",
       "    </tr>\n",
       "  </thead>\n",
       "  <tbody>\n",
       "    <tr>\n",
       "      <th>0</th>\n",
       "      <td>1.0</td>\n",
       "      <td>Wetpaint</td>\n",
       "      <td>web</td>\n",
       "      <td>operating</td>\n",
       "      <td>2005-10-17</td>\n",
       "      <td>NaT</td>\n",
       "      <td>wetpaint-inc.com</td>\n",
       "      <td>BachelrWetpaint</td>\n",
       "      <td>USA</td>\n",
       "      <td>0.0</td>\n",
       "      <td>...</td>\n",
       "      <td>5.0</td>\n",
       "      <td>888.0</td>\n",
       "      <td>1.0</td>\n",
       "      <td>2005-10-01</td>\n",
       "      <td>series-a</td>\n",
       "      <td>5250000.0</td>\n",
       "      <td>0.0</td>\n",
       "      <td>2.0</td>\n",
       "      <td>0.0</td>\n",
       "      <td>1.0</td>\n",
       "    </tr>\n",
       "    <tr>\n",
       "      <th>1</th>\n",
       "      <td>1.0</td>\n",
       "      <td>Wetpaint</td>\n",
       "      <td>web</td>\n",
       "      <td>operating</td>\n",
       "      <td>2005-10-17</td>\n",
       "      <td>NaT</td>\n",
       "      <td>wetpaint-inc.com</td>\n",
       "      <td>BachelrWetpaint</td>\n",
       "      <td>USA</td>\n",
       "      <td>0.0</td>\n",
       "      <td>...</td>\n",
       "      <td>5.0</td>\n",
       "      <td>889.0</td>\n",
       "      <td>1.0</td>\n",
       "      <td>2007-01-01</td>\n",
       "      <td>series-b</td>\n",
       "      <td>9500000.0</td>\n",
       "      <td>0.0</td>\n",
       "      <td>3.0</td>\n",
       "      <td>0.0</td>\n",
       "      <td>0.0</td>\n",
       "    </tr>\n",
       "    <tr>\n",
       "      <th>2</th>\n",
       "      <td>1.0</td>\n",
       "      <td>Wetpaint</td>\n",
       "      <td>web</td>\n",
       "      <td>operating</td>\n",
       "      <td>2005-10-17</td>\n",
       "      <td>NaT</td>\n",
       "      <td>wetpaint-inc.com</td>\n",
       "      <td>BachelrWetpaint</td>\n",
       "      <td>USA</td>\n",
       "      <td>0.0</td>\n",
       "      <td>...</td>\n",
       "      <td>5.0</td>\n",
       "      <td>2312.0</td>\n",
       "      <td>1.0</td>\n",
       "      <td>2008-05-19</td>\n",
       "      <td>series-c+</td>\n",
       "      <td>25000000.0</td>\n",
       "      <td>0.0</td>\n",
       "      <td>4.0</td>\n",
       "      <td>1.0</td>\n",
       "      <td>0.0</td>\n",
       "    </tr>\n",
       "    <tr>\n",
       "      <th>3</th>\n",
       "      <td>10.0</td>\n",
       "      <td>Flektor</td>\n",
       "      <td>games_video</td>\n",
       "      <td>acquired</td>\n",
       "      <td>NaT</td>\n",
       "      <td>NaT</td>\n",
       "      <td>flektor.com</td>\n",
       "      <td>NaN</td>\n",
       "      <td>USA</td>\n",
       "      <td>0.0</td>\n",
       "      <td>...</td>\n",
       "      <td>0.0</td>\n",
       "      <td>NaN</td>\n",
       "      <td>NaN</td>\n",
       "      <td>NaT</td>\n",
       "      <td>NaN</td>\n",
       "      <td>NaN</td>\n",
       "      <td>NaN</td>\n",
       "      <td>NaN</td>\n",
       "      <td>NaN</td>\n",
       "      <td>NaN</td>\n",
       "    </tr>\n",
       "    <tr>\n",
       "      <th>4</th>\n",
       "      <td>100.0</td>\n",
       "      <td>There</td>\n",
       "      <td>games_video</td>\n",
       "      <td>acquired</td>\n",
       "      <td>NaT</td>\n",
       "      <td>NaT</td>\n",
       "      <td>there.com</td>\n",
       "      <td>NaN</td>\n",
       "      <td>USA</td>\n",
       "      <td>0.0</td>\n",
       "      <td>...</td>\n",
       "      <td>4.0</td>\n",
       "      <td>NaN</td>\n",
       "      <td>NaN</td>\n",
       "      <td>NaT</td>\n",
       "      <td>NaN</td>\n",
       "      <td>NaN</td>\n",
       "      <td>NaN</td>\n",
       "      <td>NaN</td>\n",
       "      <td>NaN</td>\n",
       "      <td>NaN</td>\n",
       "    </tr>\n",
       "    <tr>\n",
       "      <th>...</th>\n",
       "      <td>...</td>\n",
       "      <td>...</td>\n",
       "      <td>...</td>\n",
       "      <td>...</td>\n",
       "      <td>...</td>\n",
       "      <td>...</td>\n",
       "      <td>...</td>\n",
       "      <td>...</td>\n",
       "      <td>...</td>\n",
       "      <td>...</td>\n",
       "      <td>...</td>\n",
       "      <td>...</td>\n",
       "      <td>...</td>\n",
       "      <td>...</td>\n",
       "      <td>...</td>\n",
       "      <td>...</td>\n",
       "      <td>...</td>\n",
       "      <td>...</td>\n",
       "      <td>...</td>\n",
       "      <td>...</td>\n",
       "      <td>...</td>\n",
       "    </tr>\n",
       "    <tr>\n",
       "      <th>217769</th>\n",
       "      <td>NaN</td>\n",
       "      <td>NaN</td>\n",
       "      <td>NaN</td>\n",
       "      <td>NaN</td>\n",
       "      <td>NaT</td>\n",
       "      <td>NaT</td>\n",
       "      <td>NaN</td>\n",
       "      <td>NaN</td>\n",
       "      <td>NaN</td>\n",
       "      <td>NaN</td>\n",
       "      <td>...</td>\n",
       "      <td>NaN</td>\n",
       "      <td>56454.0</td>\n",
       "      <td>282847.0</td>\n",
       "      <td>2011-01-31</td>\n",
       "      <td>other</td>\n",
       "      <td>5500000.0</td>\n",
       "      <td>0.0</td>\n",
       "      <td>0.0</td>\n",
       "      <td>1.0</td>\n",
       "      <td>1.0</td>\n",
       "    </tr>\n",
       "    <tr>\n",
       "      <th>217770</th>\n",
       "      <td>NaN</td>\n",
       "      <td>NaN</td>\n",
       "      <td>NaN</td>\n",
       "      <td>NaN</td>\n",
       "      <td>NaT</td>\n",
       "      <td>NaT</td>\n",
       "      <td>NaN</td>\n",
       "      <td>NaN</td>\n",
       "      <td>NaN</td>\n",
       "      <td>NaN</td>\n",
       "      <td>...</td>\n",
       "      <td>NaN</td>\n",
       "      <td>56542.0</td>\n",
       "      <td>55477.0</td>\n",
       "      <td>2011-01-13</td>\n",
       "      <td>venture</td>\n",
       "      <td>10633300.0</td>\n",
       "      <td>0.0</td>\n",
       "      <td>0.0</td>\n",
       "      <td>0.0</td>\n",
       "      <td>1.0</td>\n",
       "    </tr>\n",
       "    <tr>\n",
       "      <th>217771</th>\n",
       "      <td>NaN</td>\n",
       "      <td>NaN</td>\n",
       "      <td>NaN</td>\n",
       "      <td>NaN</td>\n",
       "      <td>NaT</td>\n",
       "      <td>NaT</td>\n",
       "      <td>NaN</td>\n",
       "      <td>NaN</td>\n",
       "      <td>NaN</td>\n",
       "      <td>NaN</td>\n",
       "      <td>...</td>\n",
       "      <td>NaN</td>\n",
       "      <td>56543.0</td>\n",
       "      <td>55477.0</td>\n",
       "      <td>2012-05-31</td>\n",
       "      <td>venture</td>\n",
       "      <td>2125720.0</td>\n",
       "      <td>0.0</td>\n",
       "      <td>0.0</td>\n",
       "      <td>1.0</td>\n",
       "      <td>0.0</td>\n",
       "    </tr>\n",
       "    <tr>\n",
       "      <th>217772</th>\n",
       "      <td>NaN</td>\n",
       "      <td>NaN</td>\n",
       "      <td>NaN</td>\n",
       "      <td>NaN</td>\n",
       "      <td>NaT</td>\n",
       "      <td>NaT</td>\n",
       "      <td>NaN</td>\n",
       "      <td>NaN</td>\n",
       "      <td>NaN</td>\n",
       "      <td>NaN</td>\n",
       "      <td>...</td>\n",
       "      <td>NaN</td>\n",
       "      <td>56928.0</td>\n",
       "      <td>283492.0</td>\n",
       "      <td>2013-12-03</td>\n",
       "      <td>venture</td>\n",
       "      <td>3602480.0</td>\n",
       "      <td>0.0</td>\n",
       "      <td>5.0</td>\n",
       "      <td>1.0</td>\n",
       "      <td>1.0</td>\n",
       "    </tr>\n",
       "    <tr>\n",
       "      <th>217773</th>\n",
       "      <td>NaN</td>\n",
       "      <td>NaN</td>\n",
       "      <td>NaN</td>\n",
       "      <td>NaN</td>\n",
       "      <td>NaT</td>\n",
       "      <td>NaT</td>\n",
       "      <td>NaN</td>\n",
       "      <td>NaN</td>\n",
       "      <td>NaN</td>\n",
       "      <td>NaN</td>\n",
       "      <td>...</td>\n",
       "      <td>NaN</td>\n",
       "      <td>57063.0</td>\n",
       "      <td>284191.0</td>\n",
       "      <td>2013-12-04</td>\n",
       "      <td>venture</td>\n",
       "      <td>7000000.0</td>\n",
       "      <td>0.0</td>\n",
       "      <td>4.0</td>\n",
       "      <td>1.0</td>\n",
       "      <td>1.0</td>\n",
       "    </tr>\n",
       "  </tbody>\n",
       "</table>\n",
       "<p>217774 rows × 22 columns</p>\n",
       "</div>"
      ],
      "text/plain": [
       "        company__ID      name category__code     status founded__at  \\\n",
       "0               1.0  Wetpaint            web  operating  2005-10-17   \n",
       "1               1.0  Wetpaint            web  operating  2005-10-17   \n",
       "2               1.0  Wetpaint            web  operating  2005-10-17   \n",
       "3              10.0   Flektor    games_video   acquired         NaT   \n",
       "4             100.0     There    games_video   acquired         NaT   \n",
       "...             ...       ...            ...        ...         ...   \n",
       "217769          NaN       NaN            NaN        NaN         NaT   \n",
       "217770          NaN       NaN            NaN        NaN         NaT   \n",
       "217771          NaN       NaN            NaN        NaN         NaT   \n",
       "217772          NaN       NaN            NaN        NaN         NaT   \n",
       "217773          NaN       NaN            NaN        NaN         NaT   \n",
       "\n",
       "       closed__at            domain network__username country__code  \\\n",
       "0             NaT  wetpaint-inc.com   BachelrWetpaint           USA   \n",
       "1             NaT  wetpaint-inc.com   BachelrWetpaint           USA   \n",
       "2             NaT  wetpaint-inc.com   BachelrWetpaint           USA   \n",
       "3             NaT       flektor.com               NaN           USA   \n",
       "4             NaT         there.com               NaN           USA   \n",
       "...           ...               ...               ...           ...   \n",
       "217769        NaT               NaN               NaN           NaN   \n",
       "217770        NaT               NaN               NaN           NaN   \n",
       "217771        NaT               NaN               NaN           NaN   \n",
       "217772        NaT               NaN               NaN           NaN   \n",
       "217773        NaT               NaN               NaN           NaN   \n",
       "\n",
       "        investment__rounds  ...  milestones  funding__round__id  company__id  \\\n",
       "0                      0.0  ...         5.0               888.0          1.0   \n",
       "1                      0.0  ...         5.0               889.0          1.0   \n",
       "2                      0.0  ...         5.0              2312.0          1.0   \n",
       "3                      0.0  ...         0.0                 NaN          NaN   \n",
       "4                      0.0  ...         4.0                 NaN          NaN   \n",
       "...                    ...  ...         ...                 ...          ...   \n",
       "217769                 NaN  ...         NaN             56454.0     282847.0   \n",
       "217770                 NaN  ...         NaN             56542.0      55477.0   \n",
       "217771                 NaN  ...         NaN             56543.0      55477.0   \n",
       "217772                 NaN  ...         NaN             56928.0     283492.0   \n",
       "217773                 NaN  ...         NaN             57063.0     284191.0   \n",
       "\n",
       "        funded__at  funding__round__type raised__amount pre__money__valuation  \\\n",
       "0       2005-10-01              series-a      5250000.0                   0.0   \n",
       "1       2007-01-01              series-b      9500000.0                   0.0   \n",
       "2       2008-05-19             series-c+     25000000.0                   0.0   \n",
       "3              NaT                   NaN            NaN                   NaN   \n",
       "4              NaT                   NaN            NaN                   NaN   \n",
       "...            ...                   ...            ...                   ...   \n",
       "217769  2011-01-31                 other      5500000.0                   0.0   \n",
       "217770  2011-01-13               venture     10633300.0                   0.0   \n",
       "217771  2012-05-31               venture      2125720.0                   0.0   \n",
       "217772  2013-12-03               venture      3602480.0                   0.0   \n",
       "217773  2013-12-04               venture      7000000.0                   0.0   \n",
       "\n",
       "        participants  is__first__round  is__last__round  \n",
       "0                2.0               0.0              1.0  \n",
       "1                3.0               0.0              0.0  \n",
       "2                4.0               1.0              0.0  \n",
       "3                NaN               NaN              NaN  \n",
       "4                NaN               NaN              NaN  \n",
       "...              ...               ...              ...  \n",
       "217769           0.0               1.0              1.0  \n",
       "217770           0.0               0.0              1.0  \n",
       "217771           0.0               1.0              0.0  \n",
       "217772           5.0               1.0              1.0  \n",
       "217773           4.0               1.0              1.0  \n",
       "\n",
       "[217774 rows x 22 columns]"
      ]
     },
     "execution_count": 28,
     "metadata": {},
     "output_type": "execute_result"
    }
   ],
   "source": [
    "company_and_rounds"
   ]
  },
  {
   "cell_type": "code",
   "execution_count": 29,
   "metadata": {},
   "outputs": [],
   "source": [
    "# Ставим заглушки, где нет данных \n",
    "acquisition['term_code'] =acquisition['term_code'].fillna(-1)\n"
   ]
  },
  {
   "cell_type": "code",
   "execution_count": 30,
   "metadata": {},
   "outputs": [
    {
     "data": {
      "text/html": [
       "<div>\n",
       "<style scoped>\n",
       "    .dataframe tbody tr th:only-of-type {\n",
       "        vertical-align: middle;\n",
       "    }\n",
       "\n",
       "    .dataframe tbody tr th {\n",
       "        vertical-align: top;\n",
       "    }\n",
       "\n",
       "    .dataframe thead th {\n",
       "        text-align: right;\n",
       "    }\n",
       "</style>\n",
       "<table border=\"1\" class=\"dataframe\">\n",
       "  <thead>\n",
       "    <tr style=\"text-align: right;\">\n",
       "      <th></th>\n",
       "      <th>id</th>\n",
       "      <th>acquiring_company_id</th>\n",
       "      <th>acquired_company_id</th>\n",
       "      <th>term_code</th>\n",
       "      <th>price_amount</th>\n",
       "      <th>acquired_at</th>\n",
       "    </tr>\n",
       "  </thead>\n",
       "  <tbody>\n",
       "    <tr>\n",
       "      <th>0</th>\n",
       "      <td>1</td>\n",
       "      <td>11</td>\n",
       "      <td>10</td>\n",
       "      <td>-1</td>\n",
       "      <td>20000000</td>\n",
       "      <td>2007-05-30</td>\n",
       "    </tr>\n",
       "    <tr>\n",
       "      <th>1</th>\n",
       "      <td>7</td>\n",
       "      <td>59</td>\n",
       "      <td>72</td>\n",
       "      <td>cash</td>\n",
       "      <td>60000000</td>\n",
       "      <td>2007-07-01</td>\n",
       "    </tr>\n",
       "    <tr>\n",
       "      <th>2</th>\n",
       "      <td>8</td>\n",
       "      <td>24</td>\n",
       "      <td>132</td>\n",
       "      <td>cash</td>\n",
       "      <td>280000000</td>\n",
       "      <td>2007-05-01</td>\n",
       "    </tr>\n",
       "    <tr>\n",
       "      <th>3</th>\n",
       "      <td>9</td>\n",
       "      <td>59</td>\n",
       "      <td>155</td>\n",
       "      <td>cash</td>\n",
       "      <td>100000000</td>\n",
       "      <td>2007-06-01</td>\n",
       "    </tr>\n",
       "    <tr>\n",
       "      <th>4</th>\n",
       "      <td>10</td>\n",
       "      <td>212</td>\n",
       "      <td>215</td>\n",
       "      <td>cash</td>\n",
       "      <td>25000000</td>\n",
       "      <td>2007-07-01</td>\n",
       "    </tr>\n",
       "    <tr>\n",
       "      <th>...</th>\n",
       "      <td>...</td>\n",
       "      <td>...</td>\n",
       "      <td>...</td>\n",
       "      <td>...</td>\n",
       "      <td>...</td>\n",
       "      <td>...</td>\n",
       "    </tr>\n",
       "    <tr>\n",
       "      <th>9402</th>\n",
       "      <td>10525</td>\n",
       "      <td>267859</td>\n",
       "      <td>285995</td>\n",
       "      <td>stock</td>\n",
       "      <td>222000000</td>\n",
       "      <td>2013-12-11</td>\n",
       "    </tr>\n",
       "    <tr>\n",
       "      <th>9403</th>\n",
       "      <td>10526</td>\n",
       "      <td>285493</td>\n",
       "      <td>286006</td>\n",
       "      <td>-1</td>\n",
       "      <td>0</td>\n",
       "      <td>2013-12-09</td>\n",
       "    </tr>\n",
       "    <tr>\n",
       "      <th>9404</th>\n",
       "      <td>10527</td>\n",
       "      <td>223792</td>\n",
       "      <td>220208</td>\n",
       "      <td>-1</td>\n",
       "      <td>26000000000</td>\n",
       "      <td>2007-07-03</td>\n",
       "    </tr>\n",
       "    <tr>\n",
       "      <th>9405</th>\n",
       "      <td>10528</td>\n",
       "      <td>227620</td>\n",
       "      <td>286176</td>\n",
       "      <td>cash</td>\n",
       "      <td>52400000</td>\n",
       "      <td>2013-12-12</td>\n",
       "    </tr>\n",
       "    <tr>\n",
       "      <th>9406</th>\n",
       "      <td>10529</td>\n",
       "      <td>53</td>\n",
       "      <td>92846</td>\n",
       "      <td>-1</td>\n",
       "      <td>42600000</td>\n",
       "      <td>2013-12-12</td>\n",
       "    </tr>\n",
       "  </tbody>\n",
       "</table>\n",
       "<p>9407 rows × 6 columns</p>\n",
       "</div>"
      ],
      "text/plain": [
       "         id  acquiring_company_id  acquired_company_id term_code  \\\n",
       "0         1                    11                   10        -1   \n",
       "1         7                    59                   72      cash   \n",
       "2         8                    24                  132      cash   \n",
       "3         9                    59                  155      cash   \n",
       "4        10                   212                  215      cash   \n",
       "...     ...                   ...                  ...       ...   \n",
       "9402  10525                267859               285995     stock   \n",
       "9403  10526                285493               286006        -1   \n",
       "9404  10527                223792               220208        -1   \n",
       "9405  10528                227620               286176      cash   \n",
       "9406  10529                    53                92846        -1   \n",
       "\n",
       "      price_amount acquired_at  \n",
       "0         20000000  2007-05-30  \n",
       "1         60000000  2007-07-01  \n",
       "2        280000000  2007-05-01  \n",
       "3        100000000  2007-06-01  \n",
       "4         25000000  2007-07-01  \n",
       "...            ...         ...  \n",
       "9402     222000000  2013-12-11  \n",
       "9403             0  2013-12-09  \n",
       "9404   26000000000  2007-07-03  \n",
       "9405      52400000  2013-12-12  \n",
       "9406      42600000  2013-12-12  \n",
       "\n",
       "[9407 rows x 6 columns]"
      ]
     },
     "execution_count": 30,
     "metadata": {},
     "output_type": "execute_result"
    }
   ],
   "source": [
    "# Вывод результата \n",
    "acquisition"
   ]
  },
  {
   "cell_type": "code",
   "execution_count": 31,
   "metadata": {},
   "outputs": [],
   "source": [
    "columns_to_fill = ['raised__amount', \n",
    "                   'pre__money__valuation', 'participants', \n",
    "                   'is__first__round', 'is__last__round','funding__round__id','investment__rounds','milestones']\n",
    "company_and_rounds[columns_to_fill] = company_and_rounds[columns_to_fill].fillna(-1)"
   ]
  },
  {
   "cell_type": "code",
   "execution_count": 32,
   "metadata": {},
   "outputs": [],
   "source": [
    "company_and_rounds['category__code']= company_and_rounds['category__code'].fillna('Unknown')\n",
    "company_and_rounds['name'] = company_and_rounds['name'].fillna('Unknown')\n",
    "company_and_rounds['status'] = company_and_rounds['status'].fillna('Unknown')\n",
    "company_and_rounds['domain'] = company_and_rounds['domain'].fillna('Unknown')\n",
    "company_and_rounds['network__username'] = company_and_rounds['network__username'].fillna('Unknown')\n",
    "company_and_rounds['funding__round__type'] = company_and_rounds['funding__round__type'].fillna('Unknown')\n",
    "company_and_rounds['country__code'] = company_and_rounds['country__code'].fillna('Unknown')"
   ]
  },
  {
   "cell_type": "markdown",
   "metadata": {},
   "source": [
    "# Как часто исспользуются зашлушки в реальном анализе ? "
   ]
  },
  {
   "cell_type": "code",
   "execution_count": 33,
   "metadata": {},
   "outputs": [
    {
     "data": {
      "text/plain": [
       "0"
      ]
     },
     "execution_count": 33,
     "metadata": {},
     "output_type": "execute_result"
    }
   ],
   "source": [
    "company_and_rounds.duplicated().sum()"
   ]
  },
  {
   "cell_type": "code",
   "execution_count": 34,
   "metadata": {},
   "outputs": [
    {
     "data": {
      "text/plain": [
       "185834"
      ]
     },
     "execution_count": 34,
     "metadata": {},
     "output_type": "execute_result"
    }
   ],
   "source": [
    "company_and_rounds.duplicated(subset='company__id').sum()"
   ]
  },
  {
   "cell_type": "code",
   "execution_count": 35,
   "metadata": {},
   "outputs": [],
   "source": [
    "company_and_rounds=company_and_rounds.dropna(subset=['company__id'])"
   ]
  },
  {
   "cell_type": "code",
   "execution_count": 36,
   "metadata": {},
   "outputs": [
    {
     "data": {
      "text/html": [
       "<div>\n",
       "<style scoped>\n",
       "    .dataframe tbody tr th:only-of-type {\n",
       "        vertical-align: middle;\n",
       "    }\n",
       "\n",
       "    .dataframe tbody tr th {\n",
       "        vertical-align: top;\n",
       "    }\n",
       "\n",
       "    .dataframe thead th {\n",
       "        text-align: right;\n",
       "    }\n",
       "</style>\n",
       "<table border=\"1\" class=\"dataframe\">\n",
       "  <thead>\n",
       "    <tr style=\"text-align: right;\">\n",
       "      <th></th>\n",
       "      <th>company__ID</th>\n",
       "      <th>name</th>\n",
       "      <th>category__code</th>\n",
       "      <th>status</th>\n",
       "      <th>founded__at</th>\n",
       "      <th>closed__at</th>\n",
       "      <th>domain</th>\n",
       "      <th>network__username</th>\n",
       "      <th>country__code</th>\n",
       "      <th>investment__rounds</th>\n",
       "      <th>...</th>\n",
       "      <th>milestones</th>\n",
       "      <th>funding__round__id</th>\n",
       "      <th>company__id</th>\n",
       "      <th>funded__at</th>\n",
       "      <th>funding__round__type</th>\n",
       "      <th>raised__amount</th>\n",
       "      <th>pre__money__valuation</th>\n",
       "      <th>participants</th>\n",
       "      <th>is__first__round</th>\n",
       "      <th>is__last__round</th>\n",
       "    </tr>\n",
       "  </thead>\n",
       "  <tbody>\n",
       "    <tr>\n",
       "      <th>0</th>\n",
       "      <td>1.0</td>\n",
       "      <td>Wetpaint</td>\n",
       "      <td>web</td>\n",
       "      <td>operating</td>\n",
       "      <td>2005-10-17</td>\n",
       "      <td>NaT</td>\n",
       "      <td>wetpaint-inc.com</td>\n",
       "      <td>BachelrWetpaint</td>\n",
       "      <td>USA</td>\n",
       "      <td>0.0</td>\n",
       "      <td>...</td>\n",
       "      <td>5.0</td>\n",
       "      <td>888.0</td>\n",
       "      <td>1.0</td>\n",
       "      <td>2005-10-01</td>\n",
       "      <td>series-a</td>\n",
       "      <td>5250000.0</td>\n",
       "      <td>0.0</td>\n",
       "      <td>2.0</td>\n",
       "      <td>0.0</td>\n",
       "      <td>1.0</td>\n",
       "    </tr>\n",
       "    <tr>\n",
       "      <th>1</th>\n",
       "      <td>1.0</td>\n",
       "      <td>Wetpaint</td>\n",
       "      <td>web</td>\n",
       "      <td>operating</td>\n",
       "      <td>2005-10-17</td>\n",
       "      <td>NaT</td>\n",
       "      <td>wetpaint-inc.com</td>\n",
       "      <td>BachelrWetpaint</td>\n",
       "      <td>USA</td>\n",
       "      <td>0.0</td>\n",
       "      <td>...</td>\n",
       "      <td>5.0</td>\n",
       "      <td>889.0</td>\n",
       "      <td>1.0</td>\n",
       "      <td>2007-01-01</td>\n",
       "      <td>series-b</td>\n",
       "      <td>9500000.0</td>\n",
       "      <td>0.0</td>\n",
       "      <td>3.0</td>\n",
       "      <td>0.0</td>\n",
       "      <td>0.0</td>\n",
       "    </tr>\n",
       "    <tr>\n",
       "      <th>2</th>\n",
       "      <td>1.0</td>\n",
       "      <td>Wetpaint</td>\n",
       "      <td>web</td>\n",
       "      <td>operating</td>\n",
       "      <td>2005-10-17</td>\n",
       "      <td>NaT</td>\n",
       "      <td>wetpaint-inc.com</td>\n",
       "      <td>BachelrWetpaint</td>\n",
       "      <td>USA</td>\n",
       "      <td>0.0</td>\n",
       "      <td>...</td>\n",
       "      <td>5.0</td>\n",
       "      <td>2312.0</td>\n",
       "      <td>1.0</td>\n",
       "      <td>2008-05-19</td>\n",
       "      <td>series-c+</td>\n",
       "      <td>25000000.0</td>\n",
       "      <td>0.0</td>\n",
       "      <td>4.0</td>\n",
       "      <td>1.0</td>\n",
       "      <td>0.0</td>\n",
       "    </tr>\n",
       "    <tr>\n",
       "      <th>15</th>\n",
       "      <td>1001.0</td>\n",
       "      <td>FriendFeed</td>\n",
       "      <td>web</td>\n",
       "      <td>acquired</td>\n",
       "      <td>2007-10-01</td>\n",
       "      <td>NaT</td>\n",
       "      <td>friendfeed.com</td>\n",
       "      <td>friendfeed</td>\n",
       "      <td>USA</td>\n",
       "      <td>0.0</td>\n",
       "      <td>...</td>\n",
       "      <td>3.0</td>\n",
       "      <td>1644.0</td>\n",
       "      <td>1001.0</td>\n",
       "      <td>2008-02-26</td>\n",
       "      <td>series-a</td>\n",
       "      <td>5000000.0</td>\n",
       "      <td>0.0</td>\n",
       "      <td>3.0</td>\n",
       "      <td>1.0</td>\n",
       "      <td>1.0</td>\n",
       "    </tr>\n",
       "    <tr>\n",
       "      <th>20</th>\n",
       "      <td>10014.0</td>\n",
       "      <td>Mobclix</td>\n",
       "      <td>mobile</td>\n",
       "      <td>acquired</td>\n",
       "      <td>2008-03-01</td>\n",
       "      <td>NaT</td>\n",
       "      <td>mobclix.com</td>\n",
       "      <td>mobclix</td>\n",
       "      <td>USA</td>\n",
       "      <td>0.0</td>\n",
       "      <td>...</td>\n",
       "      <td>4.0</td>\n",
       "      <td>6682.0</td>\n",
       "      <td>10014.0</td>\n",
       "      <td>2008-09-01</td>\n",
       "      <td>angel</td>\n",
       "      <td>0.0</td>\n",
       "      <td>0.0</td>\n",
       "      <td>1.0</td>\n",
       "      <td>1.0</td>\n",
       "      <td>1.0</td>\n",
       "    </tr>\n",
       "    <tr>\n",
       "      <th>...</th>\n",
       "      <td>...</td>\n",
       "      <td>...</td>\n",
       "      <td>...</td>\n",
       "      <td>...</td>\n",
       "      <td>...</td>\n",
       "      <td>...</td>\n",
       "      <td>...</td>\n",
       "      <td>...</td>\n",
       "      <td>...</td>\n",
       "      <td>...</td>\n",
       "      <td>...</td>\n",
       "      <td>...</td>\n",
       "      <td>...</td>\n",
       "      <td>...</td>\n",
       "      <td>...</td>\n",
       "      <td>...</td>\n",
       "      <td>...</td>\n",
       "      <td>...</td>\n",
       "      <td>...</td>\n",
       "      <td>...</td>\n",
       "      <td>...</td>\n",
       "    </tr>\n",
       "    <tr>\n",
       "      <th>217769</th>\n",
       "      <td>NaN</td>\n",
       "      <td>Unknown</td>\n",
       "      <td>Unknown</td>\n",
       "      <td>Unknown</td>\n",
       "      <td>NaT</td>\n",
       "      <td>NaT</td>\n",
       "      <td>Unknown</td>\n",
       "      <td>Unknown</td>\n",
       "      <td>Unknown</td>\n",
       "      <td>-1.0</td>\n",
       "      <td>...</td>\n",
       "      <td>-1.0</td>\n",
       "      <td>56454.0</td>\n",
       "      <td>282847.0</td>\n",
       "      <td>2011-01-31</td>\n",
       "      <td>other</td>\n",
       "      <td>5500000.0</td>\n",
       "      <td>0.0</td>\n",
       "      <td>0.0</td>\n",
       "      <td>1.0</td>\n",
       "      <td>1.0</td>\n",
       "    </tr>\n",
       "    <tr>\n",
       "      <th>217770</th>\n",
       "      <td>NaN</td>\n",
       "      <td>Unknown</td>\n",
       "      <td>Unknown</td>\n",
       "      <td>Unknown</td>\n",
       "      <td>NaT</td>\n",
       "      <td>NaT</td>\n",
       "      <td>Unknown</td>\n",
       "      <td>Unknown</td>\n",
       "      <td>Unknown</td>\n",
       "      <td>-1.0</td>\n",
       "      <td>...</td>\n",
       "      <td>-1.0</td>\n",
       "      <td>56542.0</td>\n",
       "      <td>55477.0</td>\n",
       "      <td>2011-01-13</td>\n",
       "      <td>venture</td>\n",
       "      <td>10633300.0</td>\n",
       "      <td>0.0</td>\n",
       "      <td>0.0</td>\n",
       "      <td>0.0</td>\n",
       "      <td>1.0</td>\n",
       "    </tr>\n",
       "    <tr>\n",
       "      <th>217771</th>\n",
       "      <td>NaN</td>\n",
       "      <td>Unknown</td>\n",
       "      <td>Unknown</td>\n",
       "      <td>Unknown</td>\n",
       "      <td>NaT</td>\n",
       "      <td>NaT</td>\n",
       "      <td>Unknown</td>\n",
       "      <td>Unknown</td>\n",
       "      <td>Unknown</td>\n",
       "      <td>-1.0</td>\n",
       "      <td>...</td>\n",
       "      <td>-1.0</td>\n",
       "      <td>56543.0</td>\n",
       "      <td>55477.0</td>\n",
       "      <td>2012-05-31</td>\n",
       "      <td>venture</td>\n",
       "      <td>2125720.0</td>\n",
       "      <td>0.0</td>\n",
       "      <td>0.0</td>\n",
       "      <td>1.0</td>\n",
       "      <td>0.0</td>\n",
       "    </tr>\n",
       "    <tr>\n",
       "      <th>217772</th>\n",
       "      <td>NaN</td>\n",
       "      <td>Unknown</td>\n",
       "      <td>Unknown</td>\n",
       "      <td>Unknown</td>\n",
       "      <td>NaT</td>\n",
       "      <td>NaT</td>\n",
       "      <td>Unknown</td>\n",
       "      <td>Unknown</td>\n",
       "      <td>Unknown</td>\n",
       "      <td>-1.0</td>\n",
       "      <td>...</td>\n",
       "      <td>-1.0</td>\n",
       "      <td>56928.0</td>\n",
       "      <td>283492.0</td>\n",
       "      <td>2013-12-03</td>\n",
       "      <td>venture</td>\n",
       "      <td>3602480.0</td>\n",
       "      <td>0.0</td>\n",
       "      <td>5.0</td>\n",
       "      <td>1.0</td>\n",
       "      <td>1.0</td>\n",
       "    </tr>\n",
       "    <tr>\n",
       "      <th>217773</th>\n",
       "      <td>NaN</td>\n",
       "      <td>Unknown</td>\n",
       "      <td>Unknown</td>\n",
       "      <td>Unknown</td>\n",
       "      <td>NaT</td>\n",
       "      <td>NaT</td>\n",
       "      <td>Unknown</td>\n",
       "      <td>Unknown</td>\n",
       "      <td>Unknown</td>\n",
       "      <td>-1.0</td>\n",
       "      <td>...</td>\n",
       "      <td>-1.0</td>\n",
       "      <td>57063.0</td>\n",
       "      <td>284191.0</td>\n",
       "      <td>2013-12-04</td>\n",
       "      <td>venture</td>\n",
       "      <td>7000000.0</td>\n",
       "      <td>0.0</td>\n",
       "      <td>4.0</td>\n",
       "      <td>1.0</td>\n",
       "      <td>1.0</td>\n",
       "    </tr>\n",
       "  </tbody>\n",
       "</table>\n",
       "<p>52928 rows × 22 columns</p>\n",
       "</div>"
      ],
      "text/plain": [
       "        company__ID        name category__code     status founded__at  \\\n",
       "0               1.0    Wetpaint            web  operating  2005-10-17   \n",
       "1               1.0    Wetpaint            web  operating  2005-10-17   \n",
       "2               1.0    Wetpaint            web  operating  2005-10-17   \n",
       "15           1001.0  FriendFeed            web   acquired  2007-10-01   \n",
       "20          10014.0     Mobclix         mobile   acquired  2008-03-01   \n",
       "...             ...         ...            ...        ...         ...   \n",
       "217769          NaN     Unknown        Unknown    Unknown         NaT   \n",
       "217770          NaN     Unknown        Unknown    Unknown         NaT   \n",
       "217771          NaN     Unknown        Unknown    Unknown         NaT   \n",
       "217772          NaN     Unknown        Unknown    Unknown         NaT   \n",
       "217773          NaN     Unknown        Unknown    Unknown         NaT   \n",
       "\n",
       "       closed__at            domain network__username country__code  \\\n",
       "0             NaT  wetpaint-inc.com   BachelrWetpaint           USA   \n",
       "1             NaT  wetpaint-inc.com   BachelrWetpaint           USA   \n",
       "2             NaT  wetpaint-inc.com   BachelrWetpaint           USA   \n",
       "15            NaT    friendfeed.com        friendfeed           USA   \n",
       "20            NaT       mobclix.com           mobclix           USA   \n",
       "...           ...               ...               ...           ...   \n",
       "217769        NaT           Unknown           Unknown       Unknown   \n",
       "217770        NaT           Unknown           Unknown       Unknown   \n",
       "217771        NaT           Unknown           Unknown       Unknown   \n",
       "217772        NaT           Unknown           Unknown       Unknown   \n",
       "217773        NaT           Unknown           Unknown       Unknown   \n",
       "\n",
       "        investment__rounds  ...  milestones  funding__round__id  company__id  \\\n",
       "0                      0.0  ...         5.0               888.0          1.0   \n",
       "1                      0.0  ...         5.0               889.0          1.0   \n",
       "2                      0.0  ...         5.0              2312.0          1.0   \n",
       "15                     0.0  ...         3.0              1644.0       1001.0   \n",
       "20                     0.0  ...         4.0              6682.0      10014.0   \n",
       "...                    ...  ...         ...                 ...          ...   \n",
       "217769                -1.0  ...        -1.0             56454.0     282847.0   \n",
       "217770                -1.0  ...        -1.0             56542.0      55477.0   \n",
       "217771                -1.0  ...        -1.0             56543.0      55477.0   \n",
       "217772                -1.0  ...        -1.0             56928.0     283492.0   \n",
       "217773                -1.0  ...        -1.0             57063.0     284191.0   \n",
       "\n",
       "        funded__at  funding__round__type raised__amount pre__money__valuation  \\\n",
       "0       2005-10-01              series-a      5250000.0                   0.0   \n",
       "1       2007-01-01              series-b      9500000.0                   0.0   \n",
       "2       2008-05-19             series-c+     25000000.0                   0.0   \n",
       "15      2008-02-26              series-a      5000000.0                   0.0   \n",
       "20      2008-09-01                 angel            0.0                   0.0   \n",
       "...            ...                   ...            ...                   ...   \n",
       "217769  2011-01-31                 other      5500000.0                   0.0   \n",
       "217770  2011-01-13               venture     10633300.0                   0.0   \n",
       "217771  2012-05-31               venture      2125720.0                   0.0   \n",
       "217772  2013-12-03               venture      3602480.0                   0.0   \n",
       "217773  2013-12-04               venture      7000000.0                   0.0   \n",
       "\n",
       "        participants  is__first__round  is__last__round  \n",
       "0                2.0               0.0              1.0  \n",
       "1                3.0               0.0              0.0  \n",
       "2                4.0               1.0              0.0  \n",
       "15               3.0               1.0              1.0  \n",
       "20               1.0               1.0              1.0  \n",
       "...              ...               ...              ...  \n",
       "217769           0.0               1.0              1.0  \n",
       "217770           0.0               0.0              1.0  \n",
       "217771           0.0               1.0              0.0  \n",
       "217772           5.0               1.0              1.0  \n",
       "217773           4.0               1.0              1.0  \n",
       "\n",
       "[52928 rows x 22 columns]"
      ]
     },
     "execution_count": 36,
     "metadata": {},
     "output_type": "execute_result"
    }
   ],
   "source": [
    "company_and_rounds"
   ]
  },
  {
   "cell_type": "code",
   "execution_count": 37,
   "metadata": {},
   "outputs": [],
   "source": [
    "people['network_username']=people['network_username'].fillna('Unknown')\n",
    "people['company_id']=people['company_id'].fillna(-1)"
   ]
  },
  {
   "cell_type": "code",
   "execution_count": 38,
   "metadata": {},
   "outputs": [
    {
     "data": {
      "text/html": [
       "<div>\n",
       "<style scoped>\n",
       "    .dataframe tbody tr th:only-of-type {\n",
       "        vertical-align: middle;\n",
       "    }\n",
       "\n",
       "    .dataframe tbody tr th {\n",
       "        vertical-align: top;\n",
       "    }\n",
       "\n",
       "    .dataframe thead th {\n",
       "        text-align: right;\n",
       "    }\n",
       "</style>\n",
       "<table border=\"1\" class=\"dataframe\">\n",
       "  <thead>\n",
       "    <tr style=\"text-align: right;\">\n",
       "      <th></th>\n",
       "      <th>id</th>\n",
       "      <th>first_name</th>\n",
       "      <th>last_name</th>\n",
       "      <th>company_id</th>\n",
       "      <th>network_username</th>\n",
       "    </tr>\n",
       "  </thead>\n",
       "  <tbody>\n",
       "    <tr>\n",
       "      <th>0</th>\n",
       "      <td>10</td>\n",
       "      <td>Mark</td>\n",
       "      <td>Zuckerberg</td>\n",
       "      <td>5.0</td>\n",
       "      <td>Unknown</td>\n",
       "    </tr>\n",
       "    <tr>\n",
       "      <th>1</th>\n",
       "      <td>100</td>\n",
       "      <td>Peter</td>\n",
       "      <td>Lester</td>\n",
       "      <td>27.0</td>\n",
       "      <td>Unknown</td>\n",
       "    </tr>\n",
       "    <tr>\n",
       "      <th>2</th>\n",
       "      <td>1000</td>\n",
       "      <td>Dr. Steven</td>\n",
       "      <td>E. Saunders</td>\n",
       "      <td>292.0</td>\n",
       "      <td>Unknown</td>\n",
       "    </tr>\n",
       "    <tr>\n",
       "      <th>3</th>\n",
       "      <td>10000</td>\n",
       "      <td>Neil</td>\n",
       "      <td>Capel</td>\n",
       "      <td>2526.0</td>\n",
       "      <td>Unknown</td>\n",
       "    </tr>\n",
       "    <tr>\n",
       "      <th>4</th>\n",
       "      <td>100000</td>\n",
       "      <td>Sue</td>\n",
       "      <td>Pilsch</td>\n",
       "      <td>-1.0</td>\n",
       "      <td>Unknown</td>\n",
       "    </tr>\n",
       "    <tr>\n",
       "      <th>...</th>\n",
       "      <td>...</td>\n",
       "      <td>...</td>\n",
       "      <td>...</td>\n",
       "      <td>...</td>\n",
       "      <td>...</td>\n",
       "    </tr>\n",
       "    <tr>\n",
       "      <th>226704</th>\n",
       "      <td>99999</td>\n",
       "      <td>Ramon</td>\n",
       "      <td>Peypoch</td>\n",
       "      <td>-1.0</td>\n",
       "      <td>Unknown</td>\n",
       "    </tr>\n",
       "    <tr>\n",
       "      <th>226705</th>\n",
       "      <td>174088</td>\n",
       "      <td>Dr. Ray</td>\n",
       "      <td>Woods</td>\n",
       "      <td>188200.0</td>\n",
       "      <td>network</td>\n",
       "    </tr>\n",
       "    <tr>\n",
       "      <th>226706</th>\n",
       "      <td>118386</td>\n",
       "      <td>Ricardo</td>\n",
       "      <td>Durand</td>\n",
       "      <td>143419.0</td>\n",
       "      <td>itechsocialnet</td>\n",
       "    </tr>\n",
       "    <tr>\n",
       "      <th>226707</th>\n",
       "      <td>175827</td>\n",
       "      <td>mahesh</td>\n",
       "      <td>kumar</td>\n",
       "      <td>-1.0</td>\n",
       "      <td>socialnethubs</td>\n",
       "    </tr>\n",
       "    <tr>\n",
       "      <th>226708</th>\n",
       "      <td>178190</td>\n",
       "      <td>Alex</td>\n",
       "      <td>Smith</td>\n",
       "      <td>-1.0</td>\n",
       "      <td>esocialnetlike</td>\n",
       "    </tr>\n",
       "  </tbody>\n",
       "</table>\n",
       "<p>226709 rows × 5 columns</p>\n",
       "</div>"
      ],
      "text/plain": [
       "            id  first_name    last_name  company_id network_username\n",
       "0           10        Mark   Zuckerberg         5.0          Unknown\n",
       "1          100       Peter       Lester        27.0          Unknown\n",
       "2         1000  Dr. Steven  E. Saunders       292.0          Unknown\n",
       "3        10000        Neil        Capel      2526.0          Unknown\n",
       "4       100000         Sue       Pilsch        -1.0          Unknown\n",
       "...        ...         ...          ...         ...              ...\n",
       "226704   99999       Ramon      Peypoch        -1.0          Unknown\n",
       "226705  174088     Dr. Ray        Woods    188200.0          network\n",
       "226706  118386     Ricardo       Durand    143419.0   itechsocialnet\n",
       "226707  175827      mahesh        kumar        -1.0    socialnethubs\n",
       "226708  178190        Alex        Smith        -1.0   esocialnetlike\n",
       "\n",
       "[226709 rows x 5 columns]"
      ]
     },
     "execution_count": 38,
     "metadata": {},
     "output_type": "execute_result"
    }
   ],
   "source": [
    "people"
   ]
  },
  {
   "cell_type": "code",
   "execution_count": 39,
   "metadata": {},
   "outputs": [],
   "source": [
    "education['graduated_at']=education['graduated_at'].fillna('Unknown')"
   ]
  },
  {
   "cell_type": "code",
   "execution_count": 40,
   "metadata": {},
   "outputs": [
    {
     "data": {
      "text/html": [
       "<div>\n",
       "<style scoped>\n",
       "    .dataframe tbody tr th:only-of-type {\n",
       "        vertical-align: middle;\n",
       "    }\n",
       "\n",
       "    .dataframe tbody tr th {\n",
       "        vertical-align: top;\n",
       "    }\n",
       "\n",
       "    .dataframe thead th {\n",
       "        text-align: right;\n",
       "    }\n",
       "</style>\n",
       "<table border=\"1\" class=\"dataframe\">\n",
       "  <thead>\n",
       "    <tr style=\"text-align: right;\">\n",
       "      <th></th>\n",
       "      <th>id</th>\n",
       "      <th>person_id</th>\n",
       "      <th>instituition</th>\n",
       "      <th>graduated_at</th>\n",
       "    </tr>\n",
       "  </thead>\n",
       "  <tbody>\n",
       "    <tr>\n",
       "      <th>0</th>\n",
       "      <td>1</td>\n",
       "      <td>6117</td>\n",
       "      <td>NaN</td>\n",
       "      <td>Unknown</td>\n",
       "    </tr>\n",
       "    <tr>\n",
       "      <th>1</th>\n",
       "      <td>2</td>\n",
       "      <td>6136</td>\n",
       "      <td>Washington University, St. Louis</td>\n",
       "      <td>1990-01-01 00:00:00</td>\n",
       "    </tr>\n",
       "    <tr>\n",
       "      <th>2</th>\n",
       "      <td>3</td>\n",
       "      <td>6136</td>\n",
       "      <td>Boston University</td>\n",
       "      <td>1992-01-01 00:00:00</td>\n",
       "    </tr>\n",
       "    <tr>\n",
       "      <th>3</th>\n",
       "      <td>4</td>\n",
       "      <td>6005</td>\n",
       "      <td>University of Greenwich</td>\n",
       "      <td>2006-01-01 00:00:00</td>\n",
       "    </tr>\n",
       "    <tr>\n",
       "      <th>4</th>\n",
       "      <td>5</td>\n",
       "      <td>5832</td>\n",
       "      <td>Rice University</td>\n",
       "      <td>Unknown</td>\n",
       "    </tr>\n",
       "    <tr>\n",
       "      <th>...</th>\n",
       "      <td>...</td>\n",
       "      <td>...</td>\n",
       "      <td>...</td>\n",
       "      <td>...</td>\n",
       "    </tr>\n",
       "    <tr>\n",
       "      <th>109605</th>\n",
       "      <td>109606</td>\n",
       "      <td>268589</td>\n",
       "      <td>American Institute of Certtified Public Accoun...</td>\n",
       "      <td>Unknown</td>\n",
       "    </tr>\n",
       "    <tr>\n",
       "      <th>109606</th>\n",
       "      <td>109607</td>\n",
       "      <td>268527</td>\n",
       "      <td>South China University of Technology</td>\n",
       "      <td>Unknown</td>\n",
       "    </tr>\n",
       "    <tr>\n",
       "      <th>109607</th>\n",
       "      <td>109608</td>\n",
       "      <td>268527</td>\n",
       "      <td>Clarkson University</td>\n",
       "      <td>Unknown</td>\n",
       "    </tr>\n",
       "    <tr>\n",
       "      <th>109608</th>\n",
       "      <td>109609</td>\n",
       "      <td>268528</td>\n",
       "      <td>Colorado State University</td>\n",
       "      <td>Unknown</td>\n",
       "    </tr>\n",
       "    <tr>\n",
       "      <th>109609</th>\n",
       "      <td>109610</td>\n",
       "      <td>268528</td>\n",
       "      <td>University of San Diego School of Law</td>\n",
       "      <td>Unknown</td>\n",
       "    </tr>\n",
       "  </tbody>\n",
       "</table>\n",
       "<p>109610 rows × 4 columns</p>\n",
       "</div>"
      ],
      "text/plain": [
       "            id  person_id                                       instituition  \\\n",
       "0            1       6117                                                NaN   \n",
       "1            2       6136                   Washington University, St. Louis   \n",
       "2            3       6136                                  Boston University   \n",
       "3            4       6005                            University of Greenwich   \n",
       "4            5       5832                                    Rice University   \n",
       "...        ...        ...                                                ...   \n",
       "109605  109606     268589  American Institute of Certtified Public Accoun...   \n",
       "109606  109607     268527               South China University of Technology   \n",
       "109607  109608     268527                                Clarkson University   \n",
       "109608  109609     268528                          Colorado State University   \n",
       "109609  109610     268528              University of San Diego School of Law   \n",
       "\n",
       "               graduated_at  \n",
       "0                   Unknown  \n",
       "1       1990-01-01 00:00:00  \n",
       "2       1992-01-01 00:00:00  \n",
       "3       2006-01-01 00:00:00  \n",
       "4                   Unknown  \n",
       "...                     ...  \n",
       "109605              Unknown  \n",
       "109606              Unknown  \n",
       "109607              Unknown  \n",
       "109608              Unknown  \n",
       "109609              Unknown  \n",
       "\n",
       "[109610 rows x 4 columns]"
      ]
     },
     "execution_count": 40,
     "metadata": {},
     "output_type": "execute_result"
    }
   ],
   "source": [
    "education"
   ]
  },
  {
   "cell_type": "code",
   "execution_count": 41,
   "metadata": {},
   "outputs": [],
   "source": [
    "degrees['degree_type']=degrees['degree_type'].fillna('Unknown')\n",
    "degrees['subject'] = degrees['subject'].fillna('Unknown')     "
   ]
  },
  {
   "cell_type": "code",
   "execution_count": 42,
   "metadata": {},
   "outputs": [
    {
     "data": {
      "text/html": [
       "<div>\n",
       "<style scoped>\n",
       "    .dataframe tbody tr th:only-of-type {\n",
       "        vertical-align: middle;\n",
       "    }\n",
       "\n",
       "    .dataframe tbody tr th {\n",
       "        vertical-align: top;\n",
       "    }\n",
       "\n",
       "    .dataframe thead th {\n",
       "        text-align: right;\n",
       "    }\n",
       "</style>\n",
       "<table border=\"1\" class=\"dataframe\">\n",
       "  <thead>\n",
       "    <tr style=\"text-align: right;\">\n",
       "      <th></th>\n",
       "      <th>id</th>\n",
       "      <th>object_id</th>\n",
       "      <th>degree_type</th>\n",
       "      <th>subject</th>\n",
       "    </tr>\n",
       "  </thead>\n",
       "  <tbody>\n",
       "    <tr>\n",
       "      <th>0</th>\n",
       "      <td>1</td>\n",
       "      <td>p:6117</td>\n",
       "      <td>MBA</td>\n",
       "      <td>Unknown</td>\n",
       "    </tr>\n",
       "    <tr>\n",
       "      <th>1</th>\n",
       "      <td>2</td>\n",
       "      <td>p:6136</td>\n",
       "      <td>BA</td>\n",
       "      <td>English, French</td>\n",
       "    </tr>\n",
       "    <tr>\n",
       "      <th>2</th>\n",
       "      <td>3</td>\n",
       "      <td>p:6136</td>\n",
       "      <td>MS</td>\n",
       "      <td>Mass Communication</td>\n",
       "    </tr>\n",
       "    <tr>\n",
       "      <th>3</th>\n",
       "      <td>4</td>\n",
       "      <td>p:6005</td>\n",
       "      <td>MS</td>\n",
       "      <td>Internet Technology</td>\n",
       "    </tr>\n",
       "    <tr>\n",
       "      <th>4</th>\n",
       "      <td>5</td>\n",
       "      <td>p:5832</td>\n",
       "      <td>BCS</td>\n",
       "      <td>Computer Science, Psychology</td>\n",
       "    </tr>\n",
       "    <tr>\n",
       "      <th>...</th>\n",
       "      <td>...</td>\n",
       "      <td>...</td>\n",
       "      <td>...</td>\n",
       "      <td>...</td>\n",
       "    </tr>\n",
       "    <tr>\n",
       "      <th>109605</th>\n",
       "      <td>109606</td>\n",
       "      <td>p:268589</td>\n",
       "      <td>CPA</td>\n",
       "      <td>Unknown</td>\n",
       "    </tr>\n",
       "    <tr>\n",
       "      <th>109606</th>\n",
       "      <td>109607</td>\n",
       "      <td>p:268527</td>\n",
       "      <td>MS &amp; BS</td>\n",
       "      <td>Engineering</td>\n",
       "    </tr>\n",
       "    <tr>\n",
       "      <th>109607</th>\n",
       "      <td>109608</td>\n",
       "      <td>p:268527</td>\n",
       "      <td>PhD</td>\n",
       "      <td>Engineering</td>\n",
       "    </tr>\n",
       "    <tr>\n",
       "      <th>109608</th>\n",
       "      <td>109609</td>\n",
       "      <td>p:268528</td>\n",
       "      <td>B.S.</td>\n",
       "      <td>Electrical Engineering</td>\n",
       "    </tr>\n",
       "    <tr>\n",
       "      <th>109609</th>\n",
       "      <td>109610</td>\n",
       "      <td>p:268528</td>\n",
       "      <td>J.D.</td>\n",
       "      <td>Unknown</td>\n",
       "    </tr>\n",
       "  </tbody>\n",
       "</table>\n",
       "<p>109610 rows × 4 columns</p>\n",
       "</div>"
      ],
      "text/plain": [
       "            id object_id degree_type                       subject\n",
       "0            1    p:6117         MBA                       Unknown\n",
       "1            2    p:6136          BA               English, French\n",
       "2            3    p:6136          MS            Mass Communication\n",
       "3            4    p:6005          MS           Internet Technology\n",
       "4            5    p:5832         BCS  Computer Science, Psychology\n",
       "...        ...       ...         ...                           ...\n",
       "109605  109606  p:268589         CPA                       Unknown\n",
       "109606  109607  p:268527     MS & BS                   Engineering\n",
       "109607  109608  p:268527         PhD                   Engineering\n",
       "109608  109609  p:268528        B.S.        Electrical Engineering\n",
       "109609  109610  p:268528        J.D.                       Unknown\n",
       "\n",
       "[109610 rows x 4 columns]"
      ]
     },
     "execution_count": 42,
     "metadata": {},
     "output_type": "execute_result"
    }
   ],
   "source": [
    "degrees"
   ]
  },
  {
   "cell_type": "code",
   "execution_count": 43,
   "metadata": {},
   "outputs": [],
   "source": [
    "fund['domain']=fund['domain'].fillna('Unknown')\n",
    "fund['network_username']=fund['network_username'].fillna('Unknown')\n",
    "fund['country_code']=fund['country_code'].fillna('Unknown')\n",
    "fund['founded_at']=fund['founded_at'].fillna('Не указано')"
   ]
  },
  {
   "cell_type": "code",
   "execution_count": 44,
   "metadata": {},
   "outputs": [
    {
     "data": {
      "text/html": [
       "<div>\n",
       "<style scoped>\n",
       "    .dataframe tbody tr th:only-of-type {\n",
       "        vertical-align: middle;\n",
       "    }\n",
       "\n",
       "    .dataframe tbody tr th {\n",
       "        vertical-align: top;\n",
       "    }\n",
       "\n",
       "    .dataframe thead th {\n",
       "        text-align: right;\n",
       "    }\n",
       "</style>\n",
       "<table border=\"1\" class=\"dataframe\">\n",
       "  <thead>\n",
       "    <tr style=\"text-align: right;\">\n",
       "      <th></th>\n",
       "      <th>id</th>\n",
       "      <th>name</th>\n",
       "      <th>founded_at</th>\n",
       "      <th>domain</th>\n",
       "      <th>network_username</th>\n",
       "      <th>country_code</th>\n",
       "      <th>investment_rounds</th>\n",
       "      <th>invested_companies</th>\n",
       "      <th>milestones</th>\n",
       "    </tr>\n",
       "  </thead>\n",
       "  <tbody>\n",
       "    <tr>\n",
       "      <th>0</th>\n",
       "      <td>13131</td>\n",
       "      <td>NaN</td>\n",
       "      <td>Не указано</td>\n",
       "      <td>Unknown</td>\n",
       "      <td>Unknown</td>\n",
       "      <td>Unknown</td>\n",
       "      <td>0</td>\n",
       "      <td>0</td>\n",
       "      <td>0</td>\n",
       "    </tr>\n",
       "    <tr>\n",
       "      <th>1</th>\n",
       "      <td>1</td>\n",
       "      <td>Greylock Partners</td>\n",
       "      <td>1965-01-01 00:00:00</td>\n",
       "      <td>greylock.com</td>\n",
       "      <td>greylockvc</td>\n",
       "      <td>USA</td>\n",
       "      <td>307</td>\n",
       "      <td>196</td>\n",
       "      <td>0</td>\n",
       "    </tr>\n",
       "    <tr>\n",
       "      <th>2</th>\n",
       "      <td>10</td>\n",
       "      <td>Mission Ventures</td>\n",
       "      <td>1996-01-01 00:00:00</td>\n",
       "      <td>missionventures.com</td>\n",
       "      <td>Unknown</td>\n",
       "      <td>USA</td>\n",
       "      <td>58</td>\n",
       "      <td>33</td>\n",
       "      <td>0</td>\n",
       "    </tr>\n",
       "    <tr>\n",
       "      <th>3</th>\n",
       "      <td>100</td>\n",
       "      <td>Kapor Enterprises, Inc.</td>\n",
       "      <td>Не указано</td>\n",
       "      <td>kei.com</td>\n",
       "      <td>Unknown</td>\n",
       "      <td>USA</td>\n",
       "      <td>2</td>\n",
       "      <td>1</td>\n",
       "      <td>0</td>\n",
       "    </tr>\n",
       "    <tr>\n",
       "      <th>4</th>\n",
       "      <td>1000</td>\n",
       "      <td>Speed Ventures</td>\n",
       "      <td>Не указано</td>\n",
       "      <td>Unknown</td>\n",
       "      <td>Unknown</td>\n",
       "      <td>Unknown</td>\n",
       "      <td>0</td>\n",
       "      <td>0</td>\n",
       "      <td>1</td>\n",
       "    </tr>\n",
       "    <tr>\n",
       "      <th>...</th>\n",
       "      <td>...</td>\n",
       "      <td>...</td>\n",
       "      <td>...</td>\n",
       "      <td>...</td>\n",
       "      <td>...</td>\n",
       "      <td>...</td>\n",
       "      <td>...</td>\n",
       "      <td>...</td>\n",
       "      <td>...</td>\n",
       "    </tr>\n",
       "    <tr>\n",
       "      <th>11647</th>\n",
       "      <td>9997</td>\n",
       "      <td>Axel Johnson</td>\n",
       "      <td>1920-01-01 00:00:00</td>\n",
       "      <td>axeljohnson.com</td>\n",
       "      <td>Unknown</td>\n",
       "      <td>USA</td>\n",
       "      <td>1</td>\n",
       "      <td>1</td>\n",
       "      <td>0</td>\n",
       "    </tr>\n",
       "    <tr>\n",
       "      <th>11648</th>\n",
       "      <td>9998</td>\n",
       "      <td>Liberty City Ventures</td>\n",
       "      <td>2012-07-01 00:00:00</td>\n",
       "      <td>libertycityventures.com</td>\n",
       "      <td>LCVentures</td>\n",
       "      <td>USA</td>\n",
       "      <td>5</td>\n",
       "      <td>5</td>\n",
       "      <td>0</td>\n",
       "    </tr>\n",
       "    <tr>\n",
       "      <th>11649</th>\n",
       "      <td>9999</td>\n",
       "      <td>CalSTRS</td>\n",
       "      <td>1913-07-01 00:00:00</td>\n",
       "      <td>calstrs.com</td>\n",
       "      <td>CalSTRS</td>\n",
       "      <td>USA</td>\n",
       "      <td>1</td>\n",
       "      <td>1</td>\n",
       "      <td>0</td>\n",
       "    </tr>\n",
       "    <tr>\n",
       "      <th>11650</th>\n",
       "      <td>11555</td>\n",
       "      <td>Haystack</td>\n",
       "      <td>2013-01-01 00:00:00</td>\n",
       "      <td>network.com::haystack_fund</td>\n",
       "      <td>haystack_fund</td>\n",
       "      <td>Unknown</td>\n",
       "      <td>5</td>\n",
       "      <td>5</td>\n",
       "      <td>0</td>\n",
       "    </tr>\n",
       "    <tr>\n",
       "      <th>11651</th>\n",
       "      <td>2553</td>\n",
       "      <td>fbFund</td>\n",
       "      <td>Не указано</td>\n",
       "      <td>developers.socialnet.com::fbfund.php</td>\n",
       "      <td>fbFund</td>\n",
       "      <td>Unknown</td>\n",
       "      <td>23</td>\n",
       "      <td>21</td>\n",
       "      <td>2</td>\n",
       "    </tr>\n",
       "  </tbody>\n",
       "</table>\n",
       "<p>11652 rows × 9 columns</p>\n",
       "</div>"
      ],
      "text/plain": [
       "          id                     name           founded_at  \\\n",
       "0      13131                      NaN           Не указано   \n",
       "1          1        Greylock Partners  1965-01-01 00:00:00   \n",
       "2         10         Mission Ventures  1996-01-01 00:00:00   \n",
       "3        100  Kapor Enterprises, Inc.           Не указано   \n",
       "4       1000           Speed Ventures           Не указано   \n",
       "...      ...                      ...                  ...   \n",
       "11647   9997             Axel Johnson  1920-01-01 00:00:00   \n",
       "11648   9998    Liberty City Ventures  2012-07-01 00:00:00   \n",
       "11649   9999                  CalSTRS  1913-07-01 00:00:00   \n",
       "11650  11555                 Haystack  2013-01-01 00:00:00   \n",
       "11651   2553                   fbFund           Не указано   \n",
       "\n",
       "                                     domain network_username country_code  \\\n",
       "0                                   Unknown          Unknown      Unknown   \n",
       "1                              greylock.com       greylockvc          USA   \n",
       "2                       missionventures.com          Unknown          USA   \n",
       "3                                   kei.com          Unknown          USA   \n",
       "4                                   Unknown          Unknown      Unknown   \n",
       "...                                     ...              ...          ...   \n",
       "11647                       axeljohnson.com          Unknown          USA   \n",
       "11648               libertycityventures.com       LCVentures          USA   \n",
       "11649                           calstrs.com          CalSTRS          USA   \n",
       "11650            network.com::haystack_fund    haystack_fund      Unknown   \n",
       "11651  developers.socialnet.com::fbfund.php           fbFund      Unknown   \n",
       "\n",
       "       investment_rounds  invested_companies  milestones  \n",
       "0                      0                   0           0  \n",
       "1                    307                 196           0  \n",
       "2                     58                  33           0  \n",
       "3                      2                   1           0  \n",
       "4                      0                   0           1  \n",
       "...                  ...                 ...         ...  \n",
       "11647                  1                   1           0  \n",
       "11648                  5                   5           0  \n",
       "11649                  1                   1           0  \n",
       "11650                  5                   5           0  \n",
       "11651                 23                  21           2  \n",
       "\n",
       "[11652 rows x 9 columns]"
      ]
     },
     "execution_count": 44,
     "metadata": {},
     "output_type": "execute_result"
    }
   ],
   "source": [
    "fund"
   ]
  },
  {
   "cell_type": "markdown",
   "metadata": {},
   "source": [
    "\n",
    "* Оцените полноту данных — сделайте предварительный вывод, достаточно ли данных для решения задач проекта."
   ]
  },
  {
   "cell_type": "markdown",
   "metadata": {
    "id": "FsL0A8RBrJg1"
   },
   "source": [
    "# После проведения предобработки данных  были выполнены следующие шаги:  \n",
    "Знакомсвто с таблицами company_and_rounds.csv, acquisition.csv ,people.csv, education.csv, degrees.csv, а также с двумя дополнительными таблицами  fund.csv, investment.csv. В ходе исследования таблиц выяснилось , что присутствуют большое количество пропусков.Они могут возникать из-за ошибок при сборе данных или отсутствия информации.  \n",
    "Смена типов и анализ пропусков:  \n",
    "- В табличах acquisition, сompany_and_rounds, education и fund столбцы с датой были преобразованы в тип datetime.  \n",
    "- В текстовых значениях, где есть пропуски сделал заменну на Unknown.  \n",
    "- В Цифровых значениях  заменены на -1.  \n",
    "Пропуски в данных были обработаны и данные были нормализованы для дальнейшего анализа."
   ]
  },
  {
   "cell_type": "markdown",
   "metadata": {
    "id": "u60cHsn6rJg1"
   },
   "source": [
    "## Шаг 2. Предобработка данных, предварительное исследование"
   ]
  },
  {
   "cell_type": "markdown",
   "metadata": {
    "id": "g2bHIIjcrJg1"
   },
   "source": [
    "\n",
    "### 2.1. Раунды финансирования по годам\n",
    "\n",
    "Задание необходимо выполнить без объединения и дополнительной предобработки на основе датасета `company_and_rounds.csv`.\n",
    "\n",
    "* Составьте сводную таблицу по годам, в которой на основании столбца `raised_amount` для каждого года указан:\n",
    "\n",
    "  * типичный размер средств, выделяемый в рамках одного раунда;\n",
    "  * общее количество раундов финансирования за этот год.\n",
    "\n",
    "* Оставьте в таблице информацию только для тех лет, для которых есть информация о более чем 50 раундах финансирования.\n",
    "\n",
    "* На основе получившейся таблицы постройте график, который будет отражать динамику типичного размера средств, которые стартапы получали в рамках одного раунда финансирования.\n",
    "\n",
    "На основе полученных данных ответьте на вопросы:\n",
    "\n",
    "* В каком году типичный размер собранных в рамках одного раунда средств был максимален?\n",
    "\n",
    "* Какая тенденция по количеству раундов и выделяемых в рамках каждого раунда средств наблюдалась в 2013 году?"
   ]
  },
  {
   "cell_type": "code",
   "execution_count": 45,
   "metadata": {},
   "outputs": [],
   "source": [
    "pd.options.mode.chained_assignment = None"
   ]
  },
  {
   "cell_type": "code",
   "execution_count": 46,
   "metadata": {
    "id": "HB81GTA9n04M"
   },
   "outputs": [],
   "source": [
    "# # Извлечение года из даты\n",
    "company_and_rounds['year'] = company_and_rounds['funded__at'].dt.year"
   ]
  },
  {
   "cell_type": "code",
   "execution_count": 47,
   "metadata": {},
   "outputs": [
    {
     "data": {
      "text/plain": [
       "0         2005.0\n",
       "1         2007.0\n",
       "2         2008.0\n",
       "15        2008.0\n",
       "20        2008.0\n",
       "           ...  \n",
       "217769    2011.0\n",
       "217770    2011.0\n",
       "217771    2012.0\n",
       "217772    2013.0\n",
       "217773    2013.0\n",
       "Name: year, Length: 52928, dtype: float64"
      ]
     },
     "execution_count": 47,
     "metadata": {},
     "output_type": "execute_result"
    }
   ],
   "source": [
    "# Выводим на экран \n",
    "company_and_rounds['year']"
   ]
  },
  {
   "cell_type": "code",
   "execution_count": 48,
   "metadata": {},
   "outputs": [],
   "source": [
    "# Создание  таблицы\n",
    "summary = company_and_rounds.groupby('year').agg(\n",
    "    typical_amount=('raised__amount', 'median'),  # Изменил на медиану\n",
    "    total_rounds=('funding__round__id', 'count')  \n",
    ").reset_index()"
   ]
  },
  {
   "cell_type": "code",
   "execution_count": 49,
   "metadata": {},
   "outputs": [
    {
     "data": {
      "text/html": [
       "<div>\n",
       "<style scoped>\n",
       "    .dataframe tbody tr th:only-of-type {\n",
       "        vertical-align: middle;\n",
       "    }\n",
       "\n",
       "    .dataframe tbody tr th {\n",
       "        vertical-align: top;\n",
       "    }\n",
       "\n",
       "    .dataframe thead th {\n",
       "        text-align: right;\n",
       "    }\n",
       "</style>\n",
       "<table border=\"1\" class=\"dataframe\">\n",
       "  <thead>\n",
       "    <tr style=\"text-align: right;\">\n",
       "      <th></th>\n",
       "      <th>year</th>\n",
       "      <th>typical_amount</th>\n",
       "      <th>total_rounds</th>\n",
       "    </tr>\n",
       "  </thead>\n",
       "  <tbody>\n",
       "    <tr>\n",
       "      <th>0</th>\n",
       "      <td>1960.0</td>\n",
       "      <td>0.0</td>\n",
       "      <td>9</td>\n",
       "    </tr>\n",
       "    <tr>\n",
       "      <th>1</th>\n",
       "      <td>1973.0</td>\n",
       "      <td>0.0</td>\n",
       "      <td>1</td>\n",
       "    </tr>\n",
       "    <tr>\n",
       "      <th>2</th>\n",
       "      <td>1974.0</td>\n",
       "      <td>0.0</td>\n",
       "      <td>2</td>\n",
       "    </tr>\n",
       "    <tr>\n",
       "      <th>3</th>\n",
       "      <td>1984.0</td>\n",
       "      <td>41000.0</td>\n",
       "      <td>3</td>\n",
       "    </tr>\n",
       "    <tr>\n",
       "      <th>4</th>\n",
       "      <td>1985.0</td>\n",
       "      <td>0.0</td>\n",
       "      <td>1</td>\n",
       "    </tr>\n",
       "  </tbody>\n",
       "</table>\n",
       "</div>"
      ],
      "text/plain": [
       "     year  typical_amount  total_rounds\n",
       "0  1960.0             0.0             9\n",
       "1  1973.0             0.0             1\n",
       "2  1974.0             0.0             2\n",
       "3  1984.0         41000.0             3\n",
       "4  1985.0             0.0             1"
      ]
     },
     "execution_count": 49,
     "metadata": {},
     "output_type": "execute_result"
    }
   ],
   "source": [
    "# Выводим результат\n",
    "summary.head()"
   ]
  },
  {
   "cell_type": "code",
   "execution_count": 50,
   "metadata": {},
   "outputs": [],
   "source": [
    "# Фильтрация по количеству раундов\n",
    "summary = summary[summary['total_rounds'] > 50]"
   ]
  },
  {
   "cell_type": "code",
   "execution_count": 51,
   "metadata": {},
   "outputs": [
    {
     "data": {
      "text/html": [
       "<div>\n",
       "<style scoped>\n",
       "    .dataframe tbody tr th:only-of-type {\n",
       "        vertical-align: middle;\n",
       "    }\n",
       "\n",
       "    .dataframe tbody tr th {\n",
       "        vertical-align: top;\n",
       "    }\n",
       "\n",
       "    .dataframe thead th {\n",
       "        text-align: right;\n",
       "    }\n",
       "</style>\n",
       "<table border=\"1\" class=\"dataframe\">\n",
       "  <thead>\n",
       "    <tr style=\"text-align: right;\">\n",
       "      <th></th>\n",
       "      <th>year</th>\n",
       "      <th>typical_amount</th>\n",
       "      <th>total_rounds</th>\n",
       "    </tr>\n",
       "  </thead>\n",
       "  <tbody>\n",
       "    <tr>\n",
       "      <th>15</th>\n",
       "      <td>1999.0</td>\n",
       "      <td>2000000.0</td>\n",
       "      <td>76</td>\n",
       "    </tr>\n",
       "    <tr>\n",
       "      <th>16</th>\n",
       "      <td>2000.0</td>\n",
       "      <td>4200000.0</td>\n",
       "      <td>125</td>\n",
       "    </tr>\n",
       "    <tr>\n",
       "      <th>17</th>\n",
       "      <td>2001.0</td>\n",
       "      <td>3000000.0</td>\n",
       "      <td>96</td>\n",
       "    </tr>\n",
       "    <tr>\n",
       "      <th>18</th>\n",
       "      <td>2002.0</td>\n",
       "      <td>4200000.0</td>\n",
       "      <td>116</td>\n",
       "    </tr>\n",
       "    <tr>\n",
       "      <th>19</th>\n",
       "      <td>2003.0</td>\n",
       "      <td>3000000.0</td>\n",
       "      <td>159</td>\n",
       "    </tr>\n",
       "  </tbody>\n",
       "</table>\n",
       "</div>"
      ],
      "text/plain": [
       "      year  typical_amount  total_rounds\n",
       "15  1999.0       2000000.0            76\n",
       "16  2000.0       4200000.0           125\n",
       "17  2001.0       3000000.0            96\n",
       "18  2002.0       4200000.0           116\n",
       "19  2003.0       3000000.0           159"
      ]
     },
     "execution_count": 51,
     "metadata": {},
     "output_type": "execute_result"
    }
   ],
   "source": [
    "# Выводим результат\n",
    "summary.head()"
   ]
  },
  {
   "cell_type": "code",
   "execution_count": 52,
   "metadata": {},
   "outputs": [
    {
     "data": {
      "text/plain": [
       "<Figure size 864x432 with 0 Axes>"
      ]
     },
     "metadata": {},
     "output_type": "display_data"
    },
    {
     "data": {
      "image/png": "[encoded data removed]",
      "text/plain": [
       "<Figure size 432x288 with 1 Axes>"
      ]
     },
     "metadata": {
      "needs_background": "light"
     },
     "output_type": "display_data"
    }
   ],
   "source": [
    "# Построение графика\n",
    "plt.figure(figsize=(12, 6))\n",
    "summary.plot(kind='line', x='year', y= 'typical_amount', marker='o', color='b',legend=False)\n",
    "plt.title('Динамика типичного размера средств по годам')\n",
    "plt.xlabel('Год')\n",
    "plt.ylabel('Типичный размер средств (млн.долларов)')\n",
    "plt.grid()"
   ]
  },
  {
   "cell_type": "code",
   "execution_count": 53,
   "metadata": {},
   "outputs": [],
   "source": [
    "\n",
    "max_amount = summary['typical_amount'].max()"
   ]
  },
  {
   "cell_type": "code",
   "execution_count": 54,
   "metadata": {},
   "outputs": [
    {
     "data": {
      "text/plain": [
       "5500000.0"
      ]
     },
     "execution_count": 54,
     "metadata": {},
     "output_type": "execute_result"
    }
   ],
   "source": [
    "max_amount"
   ]
  },
  {
   "cell_type": "code",
   "execution_count": 55,
   "metadata": {},
   "outputs": [],
   "source": [
    "trend_2013 = summary[summary['year'] == 2013]"
   ]
  },
  {
   "cell_type": "code",
   "execution_count": 56,
   "metadata": {},
   "outputs": [
    {
     "data": {
      "text/html": [
       "<div>\n",
       "<style scoped>\n",
       "    .dataframe tbody tr th:only-of-type {\n",
       "        vertical-align: middle;\n",
       "    }\n",
       "\n",
       "    .dataframe tbody tr th {\n",
       "        vertical-align: top;\n",
       "    }\n",
       "\n",
       "    .dataframe thead th {\n",
       "        text-align: right;\n",
       "    }\n",
       "</style>\n",
       "<table border=\"1\" class=\"dataframe\">\n",
       "  <thead>\n",
       "    <tr style=\"text-align: right;\">\n",
       "      <th></th>\n",
       "      <th>year</th>\n",
       "      <th>typical_amount</th>\n",
       "      <th>total_rounds</th>\n",
       "    </tr>\n",
       "  </thead>\n",
       "  <tbody>\n",
       "    <tr>\n",
       "      <th>29</th>\n",
       "      <td>2013.0</td>\n",
       "      <td>1200000.0</td>\n",
       "      <td>11072</td>\n",
       "    </tr>\n",
       "  </tbody>\n",
       "</table>\n",
       "</div>"
      ],
      "text/plain": [
       "      year  typical_amount  total_rounds\n",
       "29  2013.0       1200000.0         11072"
      ]
     },
     "execution_count": 56,
     "metadata": {},
     "output_type": "execute_result"
    }
   ],
   "source": [
    "trend_2013"
   ]
  },
  {
   "cell_type": "markdown",
   "metadata": {},
   "source": [
    "Проведенный анализ показывает, что в 2005 году был зафиксирован максимальный размер средств(5500000), выделяемых в рамках одного раунда, а в 2013 году наблюдалось значительное количество раундов финансирования (11042)с типичным размером средств. Эти данные могут помочь в дальнейшем исследовании тенденций  стартапов."
   ]
  },
  {
   "cell_type": "markdown",
   "metadata": {
    "id": "45if1en1rJg2"
   },
   "source": [
    "\n",
    "### 2.2. Люди и их образование\n",
    "\n",
    "Заказчик хочет понять, зависит ли полнота сведений о сотрудниках (например, об их образовании) от размера компаний.\n",
    "\n",
    "* Оцените, насколько информация об образовании сотрудников полна. Используя датасеты `people.csv` и `education.csv`, разделите все компании на несколько групп по количеству сотрудников и оцените среднюю долю сотрудников без информации об образовании в каждой из групп. Обоснуйте выбранные границы групп.\n",
    "\n",
    "* Оцените, возможно ли для выполнения задания присоединить к этим таблицам ещё и таблицу `degrees.csv`."
   ]
  },
  {
   "cell_type": "code",
   "execution_count": 57,
   "metadata": {},
   "outputs": [],
   "source": [
    "#  Фильтруем данные, чтобы исключить записи с недоступными значениями\n",
    "filtered_people = people[people['company_id']!=-1]"
   ]
  },
  {
   "cell_type": "code",
   "execution_count": 58,
   "metadata": {},
   "outputs": [
    {
     "data": {
      "text/html": [
       "<div>\n",
       "<style scoped>\n",
       "    .dataframe tbody tr th:only-of-type {\n",
       "        vertical-align: middle;\n",
       "    }\n",
       "\n",
       "    .dataframe tbody tr th {\n",
       "        vertical-align: top;\n",
       "    }\n",
       "\n",
       "    .dataframe thead th {\n",
       "        text-align: right;\n",
       "    }\n",
       "</style>\n",
       "<table border=\"1\" class=\"dataframe\">\n",
       "  <thead>\n",
       "    <tr style=\"text-align: right;\">\n",
       "      <th></th>\n",
       "      <th>id</th>\n",
       "      <th>first_name</th>\n",
       "      <th>last_name</th>\n",
       "      <th>company_id</th>\n",
       "      <th>network_username</th>\n",
       "    </tr>\n",
       "  </thead>\n",
       "  <tbody>\n",
       "    <tr>\n",
       "      <th>0</th>\n",
       "      <td>10</td>\n",
       "      <td>Mark</td>\n",
       "      <td>Zuckerberg</td>\n",
       "      <td>5.0</td>\n",
       "      <td>Unknown</td>\n",
       "    </tr>\n",
       "    <tr>\n",
       "      <th>1</th>\n",
       "      <td>100</td>\n",
       "      <td>Peter</td>\n",
       "      <td>Lester</td>\n",
       "      <td>27.0</td>\n",
       "      <td>Unknown</td>\n",
       "    </tr>\n",
       "    <tr>\n",
       "      <th>2</th>\n",
       "      <td>1000</td>\n",
       "      <td>Dr. Steven</td>\n",
       "      <td>E. Saunders</td>\n",
       "      <td>292.0</td>\n",
       "      <td>Unknown</td>\n",
       "    </tr>\n",
       "    <tr>\n",
       "      <th>3</th>\n",
       "      <td>10000</td>\n",
       "      <td>Neil</td>\n",
       "      <td>Capel</td>\n",
       "      <td>2526.0</td>\n",
       "      <td>Unknown</td>\n",
       "    </tr>\n",
       "    <tr>\n",
       "      <th>6</th>\n",
       "      <td>100006</td>\n",
       "      <td>Courtney</td>\n",
       "      <td>Homer</td>\n",
       "      <td>81558.0</td>\n",
       "      <td>jobsbostontech</td>\n",
       "    </tr>\n",
       "    <tr>\n",
       "      <th>...</th>\n",
       "      <td>...</td>\n",
       "      <td>...</td>\n",
       "      <td>...</td>\n",
       "      <td>...</td>\n",
       "      <td>...</td>\n",
       "    </tr>\n",
       "    <tr>\n",
       "      <th>226696</th>\n",
       "      <td>99990</td>\n",
       "      <td>Tzvi</td>\n",
       "      <td>Milshtein</td>\n",
       "      <td>81971.0</td>\n",
       "      <td>Unknown</td>\n",
       "    </tr>\n",
       "    <tr>\n",
       "      <th>226698</th>\n",
       "      <td>99992</td>\n",
       "      <td>Romain</td>\n",
       "      <td>Brabant</td>\n",
       "      <td>146815.0</td>\n",
       "      <td>Unknown</td>\n",
       "    </tr>\n",
       "    <tr>\n",
       "      <th>226702</th>\n",
       "      <td>99997</td>\n",
       "      <td>Peter</td>\n",
       "      <td>Lalonde</td>\n",
       "      <td>83651.0</td>\n",
       "      <td>peterlalonde</td>\n",
       "    </tr>\n",
       "    <tr>\n",
       "      <th>226705</th>\n",
       "      <td>174088</td>\n",
       "      <td>Dr. Ray</td>\n",
       "      <td>Woods</td>\n",
       "      <td>188200.0</td>\n",
       "      <td>network</td>\n",
       "    </tr>\n",
       "    <tr>\n",
       "      <th>226706</th>\n",
       "      <td>118386</td>\n",
       "      <td>Ricardo</td>\n",
       "      <td>Durand</td>\n",
       "      <td>143419.0</td>\n",
       "      <td>itechsocialnet</td>\n",
       "    </tr>\n",
       "  </tbody>\n",
       "</table>\n",
       "<p>34615 rows × 5 columns</p>\n",
       "</div>"
      ],
      "text/plain": [
       "            id  first_name    last_name  company_id network_username\n",
       "0           10        Mark   Zuckerberg         5.0          Unknown\n",
       "1          100       Peter       Lester        27.0          Unknown\n",
       "2         1000  Dr. Steven  E. Saunders       292.0          Unknown\n",
       "3        10000        Neil        Capel      2526.0          Unknown\n",
       "6       100006    Courtney        Homer     81558.0   jobsbostontech\n",
       "...        ...         ...          ...         ...              ...\n",
       "226696   99990        Tzvi    Milshtein     81971.0          Unknown\n",
       "226698   99992      Romain      Brabant    146815.0          Unknown\n",
       "226702   99997       Peter      Lalonde     83651.0     peterlalonde\n",
       "226705  174088     Dr. Ray        Woods    188200.0          network\n",
       "226706  118386     Ricardo       Durand    143419.0   itechsocialnet\n",
       "\n",
       "[34615 rows x 5 columns]"
      ]
     },
     "execution_count": 58,
     "metadata": {},
     "output_type": "execute_result"
    }
   ],
   "source": [
    "filtered_people"
   ]
  },
  {
   "cell_type": "code",
   "execution_count": 59,
   "metadata": {
    "id": "psPO7C4MrJg2"
   },
   "outputs": [],
   "source": [
    "# Объединяем таблицы people и education\n",
    "merged_data = pd.merge(filtered_people, education, left_on='id', right_on='person_id', how='left')"
   ]
  },
  {
   "cell_type": "code",
   "execution_count": 60,
   "metadata": {},
   "outputs": [
    {
     "data": {
      "text/html": [
       "<div>\n",
       "<style scoped>\n",
       "    .dataframe tbody tr th:only-of-type {\n",
       "        vertical-align: middle;\n",
       "    }\n",
       "\n",
       "    .dataframe tbody tr th {\n",
       "        vertical-align: top;\n",
       "    }\n",
       "\n",
       "    .dataframe thead th {\n",
       "        text-align: right;\n",
       "    }\n",
       "</style>\n",
       "<table border=\"1\" class=\"dataframe\">\n",
       "  <thead>\n",
       "    <tr style=\"text-align: right;\">\n",
       "      <th></th>\n",
       "      <th>id_x</th>\n",
       "      <th>first_name</th>\n",
       "      <th>last_name</th>\n",
       "      <th>company_id</th>\n",
       "      <th>network_username</th>\n",
       "      <th>id_y</th>\n",
       "      <th>person_id</th>\n",
       "      <th>instituition</th>\n",
       "      <th>graduated_at</th>\n",
       "    </tr>\n",
       "  </thead>\n",
       "  <tbody>\n",
       "    <tr>\n",
       "      <th>0</th>\n",
       "      <td>10</td>\n",
       "      <td>Mark</td>\n",
       "      <td>Zuckerberg</td>\n",
       "      <td>5.0</td>\n",
       "      <td>Unknown</td>\n",
       "      <td>2415.0</td>\n",
       "      <td>10.0</td>\n",
       "      <td>Harvard University</td>\n",
       "      <td>Unknown</td>\n",
       "    </tr>\n",
       "    <tr>\n",
       "      <th>1</th>\n",
       "      <td>100</td>\n",
       "      <td>Peter</td>\n",
       "      <td>Lester</td>\n",
       "      <td>27.0</td>\n",
       "      <td>Unknown</td>\n",
       "      <td>NaN</td>\n",
       "      <td>NaN</td>\n",
       "      <td>NaN</td>\n",
       "      <td>NaN</td>\n",
       "    </tr>\n",
       "    <tr>\n",
       "      <th>2</th>\n",
       "      <td>1000</td>\n",
       "      <td>Dr. Steven</td>\n",
       "      <td>E. Saunders</td>\n",
       "      <td>292.0</td>\n",
       "      <td>Unknown</td>\n",
       "      <td>NaN</td>\n",
       "      <td>NaN</td>\n",
       "      <td>NaN</td>\n",
       "      <td>NaN</td>\n",
       "    </tr>\n",
       "    <tr>\n",
       "      <th>3</th>\n",
       "      <td>10000</td>\n",
       "      <td>Neil</td>\n",
       "      <td>Capel</td>\n",
       "      <td>2526.0</td>\n",
       "      <td>Unknown</td>\n",
       "      <td>NaN</td>\n",
       "      <td>NaN</td>\n",
       "      <td>NaN</td>\n",
       "      <td>NaN</td>\n",
       "    </tr>\n",
       "    <tr>\n",
       "      <th>4</th>\n",
       "      <td>100006</td>\n",
       "      <td>Courtney</td>\n",
       "      <td>Homer</td>\n",
       "      <td>81558.0</td>\n",
       "      <td>jobsbostontech</td>\n",
       "      <td>83604.0</td>\n",
       "      <td>100006.0</td>\n",
       "      <td>MIT Sloan School of Management</td>\n",
       "      <td>2004-01-01 00:00:00</td>\n",
       "    </tr>\n",
       "    <tr>\n",
       "      <th>...</th>\n",
       "      <td>...</td>\n",
       "      <td>...</td>\n",
       "      <td>...</td>\n",
       "      <td>...</td>\n",
       "      <td>...</td>\n",
       "      <td>...</td>\n",
       "      <td>...</td>\n",
       "      <td>...</td>\n",
       "      <td>...</td>\n",
       "    </tr>\n",
       "    <tr>\n",
       "      <th>44784</th>\n",
       "      <td>99997</td>\n",
       "      <td>Peter</td>\n",
       "      <td>Lalonde</td>\n",
       "      <td>83651.0</td>\n",
       "      <td>peterlalonde</td>\n",
       "      <td>69682.0</td>\n",
       "      <td>99997.0</td>\n",
       "      <td>University of Ottawa</td>\n",
       "      <td>1993-01-01 00:00:00</td>\n",
       "    </tr>\n",
       "    <tr>\n",
       "      <th>44785</th>\n",
       "      <td>99997</td>\n",
       "      <td>Peter</td>\n",
       "      <td>Lalonde</td>\n",
       "      <td>83651.0</td>\n",
       "      <td>peterlalonde</td>\n",
       "      <td>69683.0</td>\n",
       "      <td>99997.0</td>\n",
       "      <td>Concordia University</td>\n",
       "      <td>1991-01-01 00:00:00</td>\n",
       "    </tr>\n",
       "    <tr>\n",
       "      <th>44786</th>\n",
       "      <td>99997</td>\n",
       "      <td>Peter</td>\n",
       "      <td>Lalonde</td>\n",
       "      <td>83651.0</td>\n",
       "      <td>peterlalonde</td>\n",
       "      <td>69684.0</td>\n",
       "      <td>99997.0</td>\n",
       "      <td>John Abbott College</td>\n",
       "      <td>1989-01-01 00:00:00</td>\n",
       "    </tr>\n",
       "    <tr>\n",
       "      <th>44787</th>\n",
       "      <td>174088</td>\n",
       "      <td>Dr. Ray</td>\n",
       "      <td>Woods</td>\n",
       "      <td>188200.0</td>\n",
       "      <td>network</td>\n",
       "      <td>25958.0</td>\n",
       "      <td>174088.0</td>\n",
       "      <td>Sydney University Medical School</td>\n",
       "      <td>1982-01-01 00:00:00</td>\n",
       "    </tr>\n",
       "    <tr>\n",
       "      <th>44788</th>\n",
       "      <td>118386</td>\n",
       "      <td>Ricardo</td>\n",
       "      <td>Durand</td>\n",
       "      <td>143419.0</td>\n",
       "      <td>itechsocialnet</td>\n",
       "      <td>18871.0</td>\n",
       "      <td>118386.0</td>\n",
       "      <td>ESCS</td>\n",
       "      <td>2004-01-01 00:00:00</td>\n",
       "    </tr>\n",
       "  </tbody>\n",
       "</table>\n",
       "<p>44789 rows × 9 columns</p>\n",
       "</div>"
      ],
      "text/plain": [
       "         id_x  first_name    last_name  company_id network_username     id_y  \\\n",
       "0          10        Mark   Zuckerberg         5.0          Unknown   2415.0   \n",
       "1         100       Peter       Lester        27.0          Unknown      NaN   \n",
       "2        1000  Dr. Steven  E. Saunders       292.0          Unknown      NaN   \n",
       "3       10000        Neil        Capel      2526.0          Unknown      NaN   \n",
       "4      100006    Courtney        Homer     81558.0   jobsbostontech  83604.0   \n",
       "...       ...         ...          ...         ...              ...      ...   \n",
       "44784   99997       Peter      Lalonde     83651.0     peterlalonde  69682.0   \n",
       "44785   99997       Peter      Lalonde     83651.0     peterlalonde  69683.0   \n",
       "44786   99997       Peter      Lalonde     83651.0     peterlalonde  69684.0   \n",
       "44787  174088     Dr. Ray        Woods    188200.0          network  25958.0   \n",
       "44788  118386     Ricardo       Durand    143419.0   itechsocialnet  18871.0   \n",
       "\n",
       "       person_id                      instituition         graduated_at  \n",
       "0           10.0                Harvard University              Unknown  \n",
       "1            NaN                               NaN                  NaN  \n",
       "2            NaN                               NaN                  NaN  \n",
       "3            NaN                               NaN                  NaN  \n",
       "4       100006.0    MIT Sloan School of Management  2004-01-01 00:00:00  \n",
       "...          ...                               ...                  ...  \n",
       "44784    99997.0              University of Ottawa  1993-01-01 00:00:00  \n",
       "44785    99997.0              Concordia University  1991-01-01 00:00:00  \n",
       "44786    99997.0               John Abbott College  1989-01-01 00:00:00  \n",
       "44787   174088.0  Sydney University Medical School  1982-01-01 00:00:00  \n",
       "44788   118386.0                              ESCS  2004-01-01 00:00:00  \n",
       "\n",
       "[44789 rows x 9 columns]"
      ]
     },
     "execution_count": 60,
     "metadata": {},
     "output_type": "execute_result"
    }
   ],
   "source": [
    "merged_data"
   ]
  },
  {
   "cell_type": "code",
   "execution_count": 61,
   "metadata": {},
   "outputs": [
    {
     "data": {
      "text/plain": [
       "id_x                    0\n",
       "first_name              1\n",
       "last_name               1\n",
       "company_id              0\n",
       "network_username        0\n",
       "id_y                16151\n",
       "person_id           16151\n",
       "instituition        16180\n",
       "graduated_at        16151\n",
       "dtype: int64"
      ]
     },
     "execution_count": 61,
     "metadata": {},
     "output_type": "execute_result"
    }
   ],
   "source": [
    "merged_data.isna().sum()"
   ]
  },
  {
   "cell_type": "code",
   "execution_count": 62,
   "metadata": {},
   "outputs": [],
   "source": [
    "# Проверяем наличие пропусков в информации об образовании\n",
    "merged_data['has_education'] = merged_data['instituition'].notna().astype(int)"
   ]
  },
  {
   "cell_type": "code",
   "execution_count": 63,
   "metadata": {},
   "outputs": [
    {
     "data": {
      "text/html": [
       "<div>\n",
       "<style scoped>\n",
       "    .dataframe tbody tr th:only-of-type {\n",
       "        vertical-align: middle;\n",
       "    }\n",
       "\n",
       "    .dataframe tbody tr th {\n",
       "        vertical-align: top;\n",
       "    }\n",
       "\n",
       "    .dataframe thead th {\n",
       "        text-align: right;\n",
       "    }\n",
       "</style>\n",
       "<table border=\"1\" class=\"dataframe\">\n",
       "  <thead>\n",
       "    <tr style=\"text-align: right;\">\n",
       "      <th></th>\n",
       "      <th>id_x</th>\n",
       "      <th>first_name</th>\n",
       "      <th>last_name</th>\n",
       "      <th>company_id</th>\n",
       "      <th>network_username</th>\n",
       "      <th>id_y</th>\n",
       "      <th>person_id</th>\n",
       "      <th>instituition</th>\n",
       "      <th>graduated_at</th>\n",
       "      <th>has_education</th>\n",
       "    </tr>\n",
       "  </thead>\n",
       "  <tbody>\n",
       "    <tr>\n",
       "      <th>0</th>\n",
       "      <td>10</td>\n",
       "      <td>Mark</td>\n",
       "      <td>Zuckerberg</td>\n",
       "      <td>5.0</td>\n",
       "      <td>Unknown</td>\n",
       "      <td>2415.0</td>\n",
       "      <td>10.0</td>\n",
       "      <td>Harvard University</td>\n",
       "      <td>Unknown</td>\n",
       "      <td>1</td>\n",
       "    </tr>\n",
       "    <tr>\n",
       "      <th>1</th>\n",
       "      <td>100</td>\n",
       "      <td>Peter</td>\n",
       "      <td>Lester</td>\n",
       "      <td>27.0</td>\n",
       "      <td>Unknown</td>\n",
       "      <td>NaN</td>\n",
       "      <td>NaN</td>\n",
       "      <td>NaN</td>\n",
       "      <td>NaN</td>\n",
       "      <td>0</td>\n",
       "    </tr>\n",
       "    <tr>\n",
       "      <th>2</th>\n",
       "      <td>1000</td>\n",
       "      <td>Dr. Steven</td>\n",
       "      <td>E. Saunders</td>\n",
       "      <td>292.0</td>\n",
       "      <td>Unknown</td>\n",
       "      <td>NaN</td>\n",
       "      <td>NaN</td>\n",
       "      <td>NaN</td>\n",
       "      <td>NaN</td>\n",
       "      <td>0</td>\n",
       "    </tr>\n",
       "    <tr>\n",
       "      <th>3</th>\n",
       "      <td>10000</td>\n",
       "      <td>Neil</td>\n",
       "      <td>Capel</td>\n",
       "      <td>2526.0</td>\n",
       "      <td>Unknown</td>\n",
       "      <td>NaN</td>\n",
       "      <td>NaN</td>\n",
       "      <td>NaN</td>\n",
       "      <td>NaN</td>\n",
       "      <td>0</td>\n",
       "    </tr>\n",
       "    <tr>\n",
       "      <th>4</th>\n",
       "      <td>100006</td>\n",
       "      <td>Courtney</td>\n",
       "      <td>Homer</td>\n",
       "      <td>81558.0</td>\n",
       "      <td>jobsbostontech</td>\n",
       "      <td>83604.0</td>\n",
       "      <td>100006.0</td>\n",
       "      <td>MIT Sloan School of Management</td>\n",
       "      <td>2004-01-01 00:00:00</td>\n",
       "      <td>1</td>\n",
       "    </tr>\n",
       "    <tr>\n",
       "      <th>...</th>\n",
       "      <td>...</td>\n",
       "      <td>...</td>\n",
       "      <td>...</td>\n",
       "      <td>...</td>\n",
       "      <td>...</td>\n",
       "      <td>...</td>\n",
       "      <td>...</td>\n",
       "      <td>...</td>\n",
       "      <td>...</td>\n",
       "      <td>...</td>\n",
       "    </tr>\n",
       "    <tr>\n",
       "      <th>44784</th>\n",
       "      <td>99997</td>\n",
       "      <td>Peter</td>\n",
       "      <td>Lalonde</td>\n",
       "      <td>83651.0</td>\n",
       "      <td>peterlalonde</td>\n",
       "      <td>69682.0</td>\n",
       "      <td>99997.0</td>\n",
       "      <td>University of Ottawa</td>\n",
       "      <td>1993-01-01 00:00:00</td>\n",
       "      <td>1</td>\n",
       "    </tr>\n",
       "    <tr>\n",
       "      <th>44785</th>\n",
       "      <td>99997</td>\n",
       "      <td>Peter</td>\n",
       "      <td>Lalonde</td>\n",
       "      <td>83651.0</td>\n",
       "      <td>peterlalonde</td>\n",
       "      <td>69683.0</td>\n",
       "      <td>99997.0</td>\n",
       "      <td>Concordia University</td>\n",
       "      <td>1991-01-01 00:00:00</td>\n",
       "      <td>1</td>\n",
       "    </tr>\n",
       "    <tr>\n",
       "      <th>44786</th>\n",
       "      <td>99997</td>\n",
       "      <td>Peter</td>\n",
       "      <td>Lalonde</td>\n",
       "      <td>83651.0</td>\n",
       "      <td>peterlalonde</td>\n",
       "      <td>69684.0</td>\n",
       "      <td>99997.0</td>\n",
       "      <td>John Abbott College</td>\n",
       "      <td>1989-01-01 00:00:00</td>\n",
       "      <td>1</td>\n",
       "    </tr>\n",
       "    <tr>\n",
       "      <th>44787</th>\n",
       "      <td>174088</td>\n",
       "      <td>Dr. Ray</td>\n",
       "      <td>Woods</td>\n",
       "      <td>188200.0</td>\n",
       "      <td>network</td>\n",
       "      <td>25958.0</td>\n",
       "      <td>174088.0</td>\n",
       "      <td>Sydney University Medical School</td>\n",
       "      <td>1982-01-01 00:00:00</td>\n",
       "      <td>1</td>\n",
       "    </tr>\n",
       "    <tr>\n",
       "      <th>44788</th>\n",
       "      <td>118386</td>\n",
       "      <td>Ricardo</td>\n",
       "      <td>Durand</td>\n",
       "      <td>143419.0</td>\n",
       "      <td>itechsocialnet</td>\n",
       "      <td>18871.0</td>\n",
       "      <td>118386.0</td>\n",
       "      <td>ESCS</td>\n",
       "      <td>2004-01-01 00:00:00</td>\n",
       "      <td>1</td>\n",
       "    </tr>\n",
       "  </tbody>\n",
       "</table>\n",
       "<p>44789 rows × 10 columns</p>\n",
       "</div>"
      ],
      "text/plain": [
       "         id_x  first_name    last_name  company_id network_username     id_y  \\\n",
       "0          10        Mark   Zuckerberg         5.0          Unknown   2415.0   \n",
       "1         100       Peter       Lester        27.0          Unknown      NaN   \n",
       "2        1000  Dr. Steven  E. Saunders       292.0          Unknown      NaN   \n",
       "3       10000        Neil        Capel      2526.0          Unknown      NaN   \n",
       "4      100006    Courtney        Homer     81558.0   jobsbostontech  83604.0   \n",
       "...       ...         ...          ...         ...              ...      ...   \n",
       "44784   99997       Peter      Lalonde     83651.0     peterlalonde  69682.0   \n",
       "44785   99997       Peter      Lalonde     83651.0     peterlalonde  69683.0   \n",
       "44786   99997       Peter      Lalonde     83651.0     peterlalonde  69684.0   \n",
       "44787  174088     Dr. Ray        Woods    188200.0          network  25958.0   \n",
       "44788  118386     Ricardo       Durand    143419.0   itechsocialnet  18871.0   \n",
       "\n",
       "       person_id                      instituition         graduated_at  \\\n",
       "0           10.0                Harvard University              Unknown   \n",
       "1            NaN                               NaN                  NaN   \n",
       "2            NaN                               NaN                  NaN   \n",
       "3            NaN                               NaN                  NaN   \n",
       "4       100006.0    MIT Sloan School of Management  2004-01-01 00:00:00   \n",
       "...          ...                               ...                  ...   \n",
       "44784    99997.0              University of Ottawa  1993-01-01 00:00:00   \n",
       "44785    99997.0              Concordia University  1991-01-01 00:00:00   \n",
       "44786    99997.0               John Abbott College  1989-01-01 00:00:00   \n",
       "44787   174088.0  Sydney University Medical School  1982-01-01 00:00:00   \n",
       "44788   118386.0                              ESCS  2004-01-01 00:00:00   \n",
       "\n",
       "       has_education  \n",
       "0                  1  \n",
       "1                  0  \n",
       "2                  0  \n",
       "3                  0  \n",
       "4                  1  \n",
       "...              ...  \n",
       "44784              1  \n",
       "44785              1  \n",
       "44786              1  \n",
       "44787              1  \n",
       "44788              1  \n",
       "\n",
       "[44789 rows x 10 columns]"
      ]
     },
     "execution_count": 63,
     "metadata": {},
     "output_type": "execute_result"
    }
   ],
   "source": [
    "merged_data"
   ]
  },
  {
   "cell_type": "code",
   "execution_count": 64,
   "metadata": {},
   "outputs": [],
   "source": [
    "# Группировка по количеству сотрудников\n",
    "company_sizes = filtered_people['company_id'].value_counts()\n",
    "size_groups = pd.cut(company_sizes, bins=[0,1, 10, 50, 200, 500, float('inf')], labels=['1','<10', '10-50', '51-200', '201-500', '>500'])"
   ]
  },
  {
   "cell_type": "code",
   "execution_count": 65,
   "metadata": {},
   "outputs": [],
   "source": [
    "# Добавление группы к данным\n",
    "company_sizes_grouped = company_sizes.groupby(size_groups).count()"
   ]
  },
  {
   "cell_type": "code",
   "execution_count": 66,
   "metadata": {},
   "outputs": [],
   "source": [
    "# Расчет доли сотрудников без информации об образовании\n",
    "missing_education = merged_data['instituition'].isna().groupby(merged_data['company_id']).mean()\n",
    "missing_education_grouped = missing_education.groupby(size_groups).mean()"
   ]
  },
  {
   "cell_type": "code",
   "execution_count": 67,
   "metadata": {},
   "outputs": [
    {
     "data": {
      "text/plain": [
       "company_id\n",
       "1          0.463178\n",
       "<10        0.445104\n",
       "10-50      0.366615\n",
       "51-200     0.211912\n",
       "201-500    0.202128\n",
       ">500            NaN\n",
       "Name: instituition, dtype: float64"
      ]
     },
     "execution_count": 67,
     "metadata": {},
     "output_type": "execute_result"
    }
   ],
   "source": [
    "missing_education_grouped"
   ]
  },
  {
   "cell_type": "code",
   "execution_count": 68,
   "metadata": {},
   "outputs": [
    {
     "data": {
      "image/png": "[encoded data removed]",
      "text/plain": [
       "<Figure size 720x360 with 1 Axes>"
      ]
     },
     "metadata": {
      "needs_background": "light"
     },
     "output_type": "display_data"
    }
   ],
   "source": [
    "plt.figure(figsize=(10, 5))\n",
    "missing_education_grouped.plot(kind='bar', color='skyblue', edgecolor='black',rot=45)\n",
    "plt.title('Доля сотрудников без информации об образовании в зависимости от размера компании')\n",
    "plt.xlabel('Размер компании (количество сотрудников)')\n",
    "plt.ylabel('Доля сотрудников без информации об образовании')\n",
    "plt.grid(axis='y')"
   ]
  },
  {
   "cell_type": "code",
   "execution_count": 69,
   "metadata": {},
   "outputs": [
    {
     "data": {
      "text/plain": [
       "id_x                  int64\n",
       "first_name           object\n",
       "last_name            object\n",
       "company_id          float64\n",
       "network_username     object\n",
       "id_y                float64\n",
       "person_id           float64\n",
       "instituition         object\n",
       "graduated_at         object\n",
       "has_education         int64\n",
       "dtype: object"
      ]
     },
     "execution_count": 69,
     "metadata": {},
     "output_type": "execute_result"
    }
   ],
   "source": [
    "merged_data.dtypes"
   ]
  },
  {
   "cell_type": "code",
   "execution_count": 70,
   "metadata": {},
   "outputs": [],
   "source": [
    "# Объединение с таблицей degrees\n",
    "merged_with_degrees = pd.merge(merged_data, degrees, left_on='id_x', right_on='id', how='left')"
   ]
  },
  {
   "cell_type": "code",
   "execution_count": 71,
   "metadata": {},
   "outputs": [
    {
     "data": {
      "text/html": [
       "<div>\n",
       "<style scoped>\n",
       "    .dataframe tbody tr th:only-of-type {\n",
       "        vertical-align: middle;\n",
       "    }\n",
       "\n",
       "    .dataframe tbody tr th {\n",
       "        vertical-align: top;\n",
       "    }\n",
       "\n",
       "    .dataframe thead th {\n",
       "        text-align: right;\n",
       "    }\n",
       "</style>\n",
       "<table border=\"1\" class=\"dataframe\">\n",
       "  <thead>\n",
       "    <tr style=\"text-align: right;\">\n",
       "      <th></th>\n",
       "      <th>id_x</th>\n",
       "      <th>first_name</th>\n",
       "      <th>last_name</th>\n",
       "      <th>company_id</th>\n",
       "      <th>network_username</th>\n",
       "      <th>id_y</th>\n",
       "      <th>person_id</th>\n",
       "      <th>instituition</th>\n",
       "      <th>graduated_at</th>\n",
       "      <th>has_education</th>\n",
       "      <th>id</th>\n",
       "      <th>object_id</th>\n",
       "      <th>degree_type</th>\n",
       "      <th>subject</th>\n",
       "    </tr>\n",
       "  </thead>\n",
       "  <tbody>\n",
       "    <tr>\n",
       "      <th>0</th>\n",
       "      <td>10</td>\n",
       "      <td>Mark</td>\n",
       "      <td>Zuckerberg</td>\n",
       "      <td>5.0</td>\n",
       "      <td>Unknown</td>\n",
       "      <td>2415.0</td>\n",
       "      <td>10.0</td>\n",
       "      <td>Harvard University</td>\n",
       "      <td>Unknown</td>\n",
       "      <td>1</td>\n",
       "      <td>10.0</td>\n",
       "      <td>p:6265</td>\n",
       "      <td>BS</td>\n",
       "      <td>Economics</td>\n",
       "    </tr>\n",
       "    <tr>\n",
       "      <th>1</th>\n",
       "      <td>100</td>\n",
       "      <td>Peter</td>\n",
       "      <td>Lester</td>\n",
       "      <td>27.0</td>\n",
       "      <td>Unknown</td>\n",
       "      <td>NaN</td>\n",
       "      <td>NaN</td>\n",
       "      <td>NaN</td>\n",
       "      <td>NaN</td>\n",
       "      <td>0</td>\n",
       "      <td>100.0</td>\n",
       "      <td>p:938</td>\n",
       "      <td>BS</td>\n",
       "      <td>Computer Science</td>\n",
       "    </tr>\n",
       "    <tr>\n",
       "      <th>2</th>\n",
       "      <td>1000</td>\n",
       "      <td>Dr. Steven</td>\n",
       "      <td>E. Saunders</td>\n",
       "      <td>292.0</td>\n",
       "      <td>Unknown</td>\n",
       "      <td>NaN</td>\n",
       "      <td>NaN</td>\n",
       "      <td>NaN</td>\n",
       "      <td>NaN</td>\n",
       "      <td>0</td>\n",
       "      <td>1000.0</td>\n",
       "      <td>p:13098</td>\n",
       "      <td>MBA</td>\n",
       "      <td>Unknown</td>\n",
       "    </tr>\n",
       "    <tr>\n",
       "      <th>3</th>\n",
       "      <td>10000</td>\n",
       "      <td>Neil</td>\n",
       "      <td>Capel</td>\n",
       "      <td>2526.0</td>\n",
       "      <td>Unknown</td>\n",
       "      <td>NaN</td>\n",
       "      <td>NaN</td>\n",
       "      <td>NaN</td>\n",
       "      <td>NaN</td>\n",
       "      <td>0</td>\n",
       "      <td>10000.0</td>\n",
       "      <td>p:74038</td>\n",
       "      <td>MS</td>\n",
       "      <td>Applied Mathematics</td>\n",
       "    </tr>\n",
       "    <tr>\n",
       "      <th>4</th>\n",
       "      <td>100006</td>\n",
       "      <td>Courtney</td>\n",
       "      <td>Homer</td>\n",
       "      <td>81558.0</td>\n",
       "      <td>jobsbostontech</td>\n",
       "      <td>83604.0</td>\n",
       "      <td>100006.0</td>\n",
       "      <td>MIT Sloan School of Management</td>\n",
       "      <td>2004-01-01 00:00:00</td>\n",
       "      <td>1</td>\n",
       "      <td>100006.0</td>\n",
       "      <td>p:257617</td>\n",
       "      <td>BA</td>\n",
       "      <td>Political Science</td>\n",
       "    </tr>\n",
       "    <tr>\n",
       "      <th>...</th>\n",
       "      <td>...</td>\n",
       "      <td>...</td>\n",
       "      <td>...</td>\n",
       "      <td>...</td>\n",
       "      <td>...</td>\n",
       "      <td>...</td>\n",
       "      <td>...</td>\n",
       "      <td>...</td>\n",
       "      <td>...</td>\n",
       "      <td>...</td>\n",
       "      <td>...</td>\n",
       "      <td>...</td>\n",
       "      <td>...</td>\n",
       "      <td>...</td>\n",
       "    </tr>\n",
       "    <tr>\n",
       "      <th>44784</th>\n",
       "      <td>99997</td>\n",
       "      <td>Peter</td>\n",
       "      <td>Lalonde</td>\n",
       "      <td>83651.0</td>\n",
       "      <td>peterlalonde</td>\n",
       "      <td>69682.0</td>\n",
       "      <td>99997.0</td>\n",
       "      <td>University of Ottawa</td>\n",
       "      <td>1993-01-01 00:00:00</td>\n",
       "      <td>1</td>\n",
       "      <td>99997.0</td>\n",
       "      <td>p:257598</td>\n",
       "      <td>MS</td>\n",
       "      <td>Unknown</td>\n",
       "    </tr>\n",
       "    <tr>\n",
       "      <th>44785</th>\n",
       "      <td>99997</td>\n",
       "      <td>Peter</td>\n",
       "      <td>Lalonde</td>\n",
       "      <td>83651.0</td>\n",
       "      <td>peterlalonde</td>\n",
       "      <td>69683.0</td>\n",
       "      <td>99997.0</td>\n",
       "      <td>Concordia University</td>\n",
       "      <td>1991-01-01 00:00:00</td>\n",
       "      <td>1</td>\n",
       "      <td>99997.0</td>\n",
       "      <td>p:257598</td>\n",
       "      <td>MS</td>\n",
       "      <td>Unknown</td>\n",
       "    </tr>\n",
       "    <tr>\n",
       "      <th>44786</th>\n",
       "      <td>99997</td>\n",
       "      <td>Peter</td>\n",
       "      <td>Lalonde</td>\n",
       "      <td>83651.0</td>\n",
       "      <td>peterlalonde</td>\n",
       "      <td>69684.0</td>\n",
       "      <td>99997.0</td>\n",
       "      <td>John Abbott College</td>\n",
       "      <td>1989-01-01 00:00:00</td>\n",
       "      <td>1</td>\n",
       "      <td>99997.0</td>\n",
       "      <td>p:257598</td>\n",
       "      <td>MS</td>\n",
       "      <td>Unknown</td>\n",
       "    </tr>\n",
       "    <tr>\n",
       "      <th>44787</th>\n",
       "      <td>174088</td>\n",
       "      <td>Dr. Ray</td>\n",
       "      <td>Woods</td>\n",
       "      <td>188200.0</td>\n",
       "      <td>network</td>\n",
       "      <td>25958.0</td>\n",
       "      <td>174088.0</td>\n",
       "      <td>Sydney University Medical School</td>\n",
       "      <td>1982-01-01 00:00:00</td>\n",
       "      <td>1</td>\n",
       "      <td>NaN</td>\n",
       "      <td>NaN</td>\n",
       "      <td>NaN</td>\n",
       "      <td>NaN</td>\n",
       "    </tr>\n",
       "    <tr>\n",
       "      <th>44788</th>\n",
       "      <td>118386</td>\n",
       "      <td>Ricardo</td>\n",
       "      <td>Durand</td>\n",
       "      <td>143419.0</td>\n",
       "      <td>itechsocialnet</td>\n",
       "      <td>18871.0</td>\n",
       "      <td>118386.0</td>\n",
       "      <td>ESCS</td>\n",
       "      <td>2004-01-01 00:00:00</td>\n",
       "      <td>1</td>\n",
       "      <td>NaN</td>\n",
       "      <td>NaN</td>\n",
       "      <td>NaN</td>\n",
       "      <td>NaN</td>\n",
       "    </tr>\n",
       "  </tbody>\n",
       "</table>\n",
       "<p>44789 rows × 14 columns</p>\n",
       "</div>"
      ],
      "text/plain": [
       "         id_x  first_name    last_name  company_id network_username     id_y  \\\n",
       "0          10        Mark   Zuckerberg         5.0          Unknown   2415.0   \n",
       "1         100       Peter       Lester        27.0          Unknown      NaN   \n",
       "2        1000  Dr. Steven  E. Saunders       292.0          Unknown      NaN   \n",
       "3       10000        Neil        Capel      2526.0          Unknown      NaN   \n",
       "4      100006    Courtney        Homer     81558.0   jobsbostontech  83604.0   \n",
       "...       ...         ...          ...         ...              ...      ...   \n",
       "44784   99997       Peter      Lalonde     83651.0     peterlalonde  69682.0   \n",
       "44785   99997       Peter      Lalonde     83651.0     peterlalonde  69683.0   \n",
       "44786   99997       Peter      Lalonde     83651.0     peterlalonde  69684.0   \n",
       "44787  174088     Dr. Ray        Woods    188200.0          network  25958.0   \n",
       "44788  118386     Ricardo       Durand    143419.0   itechsocialnet  18871.0   \n",
       "\n",
       "       person_id                      instituition         graduated_at  \\\n",
       "0           10.0                Harvard University              Unknown   \n",
       "1            NaN                               NaN                  NaN   \n",
       "2            NaN                               NaN                  NaN   \n",
       "3            NaN                               NaN                  NaN   \n",
       "4       100006.0    MIT Sloan School of Management  2004-01-01 00:00:00   \n",
       "...          ...                               ...                  ...   \n",
       "44784    99997.0              University of Ottawa  1993-01-01 00:00:00   \n",
       "44785    99997.0              Concordia University  1991-01-01 00:00:00   \n",
       "44786    99997.0               John Abbott College  1989-01-01 00:00:00   \n",
       "44787   174088.0  Sydney University Medical School  1982-01-01 00:00:00   \n",
       "44788   118386.0                              ESCS  2004-01-01 00:00:00   \n",
       "\n",
       "       has_education        id object_id degree_type              subject  \n",
       "0                  1      10.0    p:6265          BS            Economics  \n",
       "1                  0     100.0     p:938          BS     Computer Science  \n",
       "2                  0    1000.0   p:13098         MBA              Unknown  \n",
       "3                  0   10000.0   p:74038          MS  Applied Mathematics  \n",
       "4                  1  100006.0  p:257617          BA    Political Science  \n",
       "...              ...       ...       ...         ...                  ...  \n",
       "44784              1   99997.0  p:257598          MS              Unknown  \n",
       "44785              1   99997.0  p:257598          MS              Unknown  \n",
       "44786              1   99997.0  p:257598          MS              Unknown  \n",
       "44787              1       NaN       NaN         NaN                  NaN  \n",
       "44788              1       NaN       NaN         NaN                  NaN  \n",
       "\n",
       "[44789 rows x 14 columns]"
      ]
     },
     "execution_count": 71,
     "metadata": {},
     "output_type": "execute_result"
    }
   ],
   "source": [
    "merged_with_degrees"
   ]
  },
  {
   "cell_type": "markdown",
   "metadata": {},
   "source": [
    "В ходе анализа данных о сотрудниках и их образовании было установлено, что полнота сведений об образовании зависит от размера компании. Мы разделили компании на несколько групп по количеству сотрудников и оценили среднюю долю сотрудников, не имеющих информации об образовании, в каждой из групп.  \n",
    "- Группы компаний:  \n",
    "1 сотрудник: В этой категории наблюдается самая высокая доля сотрудников без информации об образовании (46.32%).  \n",
    "Менее 10 сотрудников: Доля сотрудников без информации об образовании составляет 44.51%. \n",
    "10-50 сотрудников: Здесь доля снижается до 36.66%.  \n",
    "51-200 сотрудников: Доля сотрудников без информации об образовании еще больше снижается до 21.19%.  \n",
    "201-500 сотрудников: В этой группе доля составляет 20.21%.  \n",
    "Более 500 сотрудников: Для компаний с более чем 500 сотрудниками данные отсутствуют, что может свидетельствовать о недостаточном количестве таких компаний в выборке.  \n",
    "- Обоснование выбранных  групп:  \n",
    "Группы были выбраны на основе распространенности компаний с различным количеством сотрудников. Мы выделили отдельные категории для компаний с 1 сотрудником и менее 10 сотрудников, так как это важно для анализа стартапов и малых предприятий. Это позволяет более точно оценить, как размер компании влияет на полноту информации об образовании.  \n",
    "Возможность присоединения таблицы degrees:  degrees можно присоединить, так как она содержит информацию о типе образования, что может дополнительно помочь в анализе полноты сведений об образовании сотрудников.\n",
    "\n",
    "\n",
    "\n",
    "\n",
    "\n"
   ]
  },
  {
   "cell_type": "markdown",
   "metadata": {},
   "source": [
    "### 2.3. Объединять или не объединять — вот в чём вопрос\n",
    "\n",
    "Некоторые названия столбцов встречаются в датасетах чаще других. И, например, в результате предварительной проверки датасетов было выяснено, что столбец `company_id` подходит для объединения данных, так как большая часть значений встречается в разных датасетах не один, а несколько раз. Этот столбец может быть использован для объединения данных.\n",
    "\n",
    "* Установите, подходит ли для объединения данных столбец `network_username`, который встречается в нескольких датасетах. Нам необходимо понимать, дублируется ли для разных датасетов информация в столбцах с таким названием, и если да — то насколько часто.\n",
    "\n",
    "* Оцените, можно ли использовать столбцы с именем `network_username` для объединения данных."
   ]
  },
  {
   "cell_type": "code",
   "execution_count": 72,
   "metadata": {
    "id": "Cf5IjfOQrJg1"
   },
   "outputs": [],
   "source": [
    "# Уникальные значения в столбце network_username для каждого датасета\n",
    "unique_people = people['network_username'].nunique()\n",
    "unique_company_and_rounds = company_and_rounds['network__username'].nunique()\n",
    "unique_fund = fund['network_username'].nunique()\n"
   ]
  },
  {
   "cell_type": "code",
   "execution_count": 73,
   "metadata": {},
   "outputs": [
    {
     "data": {
      "text/plain": [
       "38422"
      ]
     },
     "execution_count": 73,
     "metadata": {},
     "output_type": "execute_result"
    }
   ],
   "source": [
    "unique_people "
   ]
  },
  {
   "cell_type": "code",
   "execution_count": 74,
   "metadata": {},
   "outputs": [
    {
     "data": {
      "text/plain": [
       "18925"
      ]
     },
     "execution_count": 74,
     "metadata": {},
     "output_type": "execute_result"
    }
   ],
   "source": [
    "unique_company_and_rounds"
   ]
  },
  {
   "cell_type": "code",
   "execution_count": 75,
   "metadata": {},
   "outputs": [
    {
     "data": {
      "text/plain": [
       "2099"
      ]
     },
     "execution_count": 75,
     "metadata": {},
     "output_type": "execute_result"
    }
   ],
   "source": [
    "unique_fund "
   ]
  },
  {
   "cell_type": "code",
   "execution_count": 76,
   "metadata": {
    "id": "CilOkz-inz37"
   },
   "outputs": [],
   "source": [
    "# Подсчет количества дубликатов для каждого датасета\n",
    "duplicates_people = people['network_username'].value_counts()\n",
    "duplicates_company_and_rounds = company_and_rounds['network__username'].value_counts()\n",
    "duplicates_fund = fund['network_username'].value_counts()"
   ]
  },
  {
   "cell_type": "code",
   "execution_count": 77,
   "metadata": {},
   "outputs": [
    {
     "data": {
      "text/plain": [
       "Unknown           187842\n",
       "iWatchLife             6\n",
       "chrislogan             5\n",
       "firstscribe            4\n",
       "ConnectAndSell         4\n",
       "                   ...  \n",
       "akrjeeva               2\n",
       "edwray21               2\n",
       "jake                   2\n",
       "kafechew               2\n",
       "footfeedapp            2\n",
       "Name: network_username, Length: 426, dtype: int64"
      ]
     },
     "metadata": {},
     "output_type": "display_data"
    },
    {
     "data": {
      "text/plain": [
       "Unknown           18915\n",
       "mobivery             15\n",
       "tyropayments         15\n",
       "AviirLabs            14\n",
       "solarcity            13\n",
       "                  ...  \n",
       "CosmosID              2\n",
       "spec_net              2\n",
       "cloudvelocity         2\n",
       "CCS_multipoint        2\n",
       "applifier             2\n",
       "Name: network__username, Length: 7724, dtype: int64"
      ]
     },
     "metadata": {},
     "output_type": "display_data"
    },
    {
     "data": {
      "text/plain": [
       "Unknown            9503\n",
       "GrowthWorks           4\n",
       "SVB_Financial         4\n",
       "OsageVC               3\n",
       "upfrontvc             3\n",
       "KfW                   3\n",
       "rwe_ag                3\n",
       "rhoventures           2\n",
       "annarborspark         2\n",
       "gecapital             2\n",
       "nwangelconf           2\n",
       "InnovasjonNorge       2\n",
       "coreEMC               2\n",
       "ClubItalia2           2\n",
       "thomvest              2\n",
       "bpifrance             2\n",
       "blackstone            2\n",
       "EnterpriseLou         2\n",
       "guggenheimptnrs       2\n",
       "IGNIA_Fund            2\n",
       "PMVnv                 2\n",
       "GrayGhostVT           2\n",
       "innovacomvc           2\n",
       "BDC_News              2\n",
       "HTGF_                 2\n",
       "dev                   2\n",
       "nsvf                  2\n",
       "confrapar             2\n",
       "WeDoDeals             2\n",
       "blackbirdvc           2\n",
       "MorganStanley         2\n",
       "OmidyarNetwork        2\n",
       "kpcb                  2\n",
       "goldmansachs          2\n",
       "iaventures            2\n",
       "creditsuisse          2\n",
       "citgapfunds           2\n",
       "Signal_Peak           2\n",
       "rwbaird               2\n",
       "ShinhanBankENG        2\n",
       "nationalbank          2\n",
       "birchmerevc           2\n",
       "arcangelfund          2\n",
       "Sequoia_Capital       2\n",
       "Name: network_username, dtype: int64"
      ]
     },
     "metadata": {},
     "output_type": "display_data"
    }
   ],
   "source": [
    "\n",
    "display(duplicates_people[duplicates_people > 1])\n",
    "\n",
    "display(duplicates_company_and_rounds[duplicates_company_and_rounds > 1])\n",
    "\n",
    "display(duplicates_fund[duplicates_fund > 1])"
   ]
  },
  {
   "cell_type": "code",
   "execution_count": 78,
   "metadata": {},
   "outputs": [],
   "source": [
    "# Сравниваем значения network_username между разными датасетами\n",
    "people_usernames = set(people['network_username'].dropna().unique())\n",
    "company_usernames = set(company_and_rounds['network__username'].dropna().unique())\n",
    "fund_usernames = set(fund['network_username'].dropna().unique())\n"
   ]
  },
  {
   "cell_type": "code",
   "execution_count": 79,
   "metadata": {},
   "outputs": [],
   "source": [
    "# Пересечение значений\n",
    "intersection_people_company = people_usernames.intersection(company_usernames)\n",
    "intersection_people_fund = people_usernames.intersection(fund_usernames)\n",
    "intersection_company_fund = company_usernames.intersection(fund_usernames)\n"
   ]
  },
  {
   "cell_type": "code",
   "execution_count": 80,
   "metadata": {},
   "outputs": [
    {
     "data": {
      "text/plain": [
       "311"
      ]
     },
     "metadata": {},
     "output_type": "display_data"
    },
    {
     "data": {
      "text/plain": [
       "80"
      ]
     },
     "metadata": {},
     "output_type": "display_data"
    },
    {
     "data": {
      "text/plain": [
       "13"
      ]
     },
     "metadata": {},
     "output_type": "display_data"
    }
   ],
   "source": [
    "display(len(intersection_people_company))\n",
    "display(len(intersection_people_fund))\n",
    "display(len(intersection_company_fund))"
   ]
  },
  {
   "cell_type": "markdown",
   "metadata": {},
   "source": [
    "- Уникальные значения:  \n",
    "В датасете people содержится 38,422 уникальных значений network_username.  \n",
    "В датасете company_and_rounds содержится 18,925 уникальных значений network__username.  \n",
    "В датасете fund содержится 2,099 уникальных значений network_username.  \n",
    "- Дубликаты:  \n",
    "В датасете people:  \n",
    "Наиболее частое значение — Unknown, которое встречается 187,842 раз.  \n",
    "Есть много других дубликатов, например, iWatchLife (6 раз), chrislogan (5 раз) и т.д.  \n",
    "В датасете company_and_rounds:  \n",
    "Также присутствует значение Unknown, которое встречается 18,613 раз.  \n",
    "Другие значения, такие как mobivery и tyropayments, встречаются по 15 раз.  \n",
    "В датасете fund:  \n",
    "Значение Unknown встречается 9,503 раз.  \n",
    "Есть несколько значений, которые встречаются по 2-4 раза.  \n",
    "- Пересечение значений:  \n",
    "Между people и company_and_rounds найдено 311 общих значений.  \n",
    "Между people и fund найдено 80 общих значений.  \n",
    "Между company_and_rounds и fund найдено 13 общих значений.   \n",
    "Учитывая наличие значительных дубликатов, столбец network_username не рекомендуется использовать для объединения данных без предварительной очистки и обработки. Необходимо рассмотреть возможность устранения дубликатов или использование альтернативных столбцов, которые имеют меньше дубликатов и более высокую уникальность для объединения данных."
   ]
  },
  {
   "cell_type": "markdown",
   "metadata": {
    "id": "EHcODomVrJg1"
   },
   "source": [
    "\n",
    "### 2.4. Проблемный датасет и причина возникновения пропусков\n",
    "\n",
    "Во время собственного анализа данных у заказчика больше всего вопросов возникло к датасету `company_and_rounds.csv`. В нём много пропусков как раз в информации о раундах, которая заказчику важна. Хотя информация об общем объёме финансирования по раундам присутствует в других датасетах, заказчик считает данные `company_and_rounds.csv` о размере средств наиболее верными.\n",
    "\n",
    "* Любым удобным способом приведите данные в вид, который позволяет проводить анализ в разрезе отдельных компаний. Можно изменять форму данных, порядок их хранения. Обратите внимание на структуру датасета, порядок и названия столбцов, проанализируйте значения.\n",
    "\n",
    "По гипотезе заказчика данные по компаниям из этой таблицы раньше хранились иначе, более удобным для исследования образом.\n",
    "\n",
    "* Максимальным образом сохраняя данные, сохранив их связность и исключив возможные возникающие при этом ошибки, подготовьте данные так, чтобы удобно было отобрать компании по параметрам и рассчитать показатели из расчёта на одну компанию."
   ]
  },
  {
   "cell_type": "code",
   "execution_count": 81,
   "metadata": {},
   "outputs": [
    {
     "data": {
      "text/html": [
       "<div>\n",
       "<style scoped>\n",
       "    .dataframe tbody tr th:only-of-type {\n",
       "        vertical-align: middle;\n",
       "    }\n",
       "\n",
       "    .dataframe tbody tr th {\n",
       "        vertical-align: top;\n",
       "    }\n",
       "\n",
       "    .dataframe thead th {\n",
       "        text-align: right;\n",
       "    }\n",
       "</style>\n",
       "<table border=\"1\" class=\"dataframe\">\n",
       "  <thead>\n",
       "    <tr style=\"text-align: right;\">\n",
       "      <th></th>\n",
       "      <th>company__ID</th>\n",
       "      <th>name</th>\n",
       "      <th>category__code</th>\n",
       "      <th>status</th>\n",
       "      <th>founded__at</th>\n",
       "      <th>closed__at</th>\n",
       "      <th>domain</th>\n",
       "      <th>network__username</th>\n",
       "      <th>country__code</th>\n",
       "      <th>investment__rounds</th>\n",
       "      <th>...</th>\n",
       "      <th>funding__round__id</th>\n",
       "      <th>company__id</th>\n",
       "      <th>funded__at</th>\n",
       "      <th>funding__round__type</th>\n",
       "      <th>raised__amount</th>\n",
       "      <th>pre__money__valuation</th>\n",
       "      <th>participants</th>\n",
       "      <th>is__first__round</th>\n",
       "      <th>is__last__round</th>\n",
       "      <th>year</th>\n",
       "    </tr>\n",
       "  </thead>\n",
       "  <tbody>\n",
       "    <tr>\n",
       "      <th>0</th>\n",
       "      <td>1.0</td>\n",
       "      <td>Wetpaint</td>\n",
       "      <td>web</td>\n",
       "      <td>operating</td>\n",
       "      <td>2005-10-17</td>\n",
       "      <td>NaT</td>\n",
       "      <td>wetpaint-inc.com</td>\n",
       "      <td>BachelrWetpaint</td>\n",
       "      <td>USA</td>\n",
       "      <td>0.0</td>\n",
       "      <td>...</td>\n",
       "      <td>888.0</td>\n",
       "      <td>1.0</td>\n",
       "      <td>2005-10-01</td>\n",
       "      <td>series-a</td>\n",
       "      <td>5250000.0</td>\n",
       "      <td>0.0</td>\n",
       "      <td>2.0</td>\n",
       "      <td>0.0</td>\n",
       "      <td>1.0</td>\n",
       "      <td>2005.0</td>\n",
       "    </tr>\n",
       "    <tr>\n",
       "      <th>1</th>\n",
       "      <td>1.0</td>\n",
       "      <td>Wetpaint</td>\n",
       "      <td>web</td>\n",
       "      <td>operating</td>\n",
       "      <td>2005-10-17</td>\n",
       "      <td>NaT</td>\n",
       "      <td>wetpaint-inc.com</td>\n",
       "      <td>BachelrWetpaint</td>\n",
       "      <td>USA</td>\n",
       "      <td>0.0</td>\n",
       "      <td>...</td>\n",
       "      <td>889.0</td>\n",
       "      <td>1.0</td>\n",
       "      <td>2007-01-01</td>\n",
       "      <td>series-b</td>\n",
       "      <td>9500000.0</td>\n",
       "      <td>0.0</td>\n",
       "      <td>3.0</td>\n",
       "      <td>0.0</td>\n",
       "      <td>0.0</td>\n",
       "      <td>2007.0</td>\n",
       "    </tr>\n",
       "    <tr>\n",
       "      <th>2</th>\n",
       "      <td>1.0</td>\n",
       "      <td>Wetpaint</td>\n",
       "      <td>web</td>\n",
       "      <td>operating</td>\n",
       "      <td>2005-10-17</td>\n",
       "      <td>NaT</td>\n",
       "      <td>wetpaint-inc.com</td>\n",
       "      <td>BachelrWetpaint</td>\n",
       "      <td>USA</td>\n",
       "      <td>0.0</td>\n",
       "      <td>...</td>\n",
       "      <td>2312.0</td>\n",
       "      <td>1.0</td>\n",
       "      <td>2008-05-19</td>\n",
       "      <td>series-c+</td>\n",
       "      <td>25000000.0</td>\n",
       "      <td>0.0</td>\n",
       "      <td>4.0</td>\n",
       "      <td>1.0</td>\n",
       "      <td>0.0</td>\n",
       "      <td>2008.0</td>\n",
       "    </tr>\n",
       "    <tr>\n",
       "      <th>15</th>\n",
       "      <td>1001.0</td>\n",
       "      <td>FriendFeed</td>\n",
       "      <td>web</td>\n",
       "      <td>acquired</td>\n",
       "      <td>2007-10-01</td>\n",
       "      <td>NaT</td>\n",
       "      <td>friendfeed.com</td>\n",
       "      <td>friendfeed</td>\n",
       "      <td>USA</td>\n",
       "      <td>0.0</td>\n",
       "      <td>...</td>\n",
       "      <td>1644.0</td>\n",
       "      <td>1001.0</td>\n",
       "      <td>2008-02-26</td>\n",
       "      <td>series-a</td>\n",
       "      <td>5000000.0</td>\n",
       "      <td>0.0</td>\n",
       "      <td>3.0</td>\n",
       "      <td>1.0</td>\n",
       "      <td>1.0</td>\n",
       "      <td>2008.0</td>\n",
       "    </tr>\n",
       "    <tr>\n",
       "      <th>20</th>\n",
       "      <td>10014.0</td>\n",
       "      <td>Mobclix</td>\n",
       "      <td>mobile</td>\n",
       "      <td>acquired</td>\n",
       "      <td>2008-03-01</td>\n",
       "      <td>NaT</td>\n",
       "      <td>mobclix.com</td>\n",
       "      <td>mobclix</td>\n",
       "      <td>USA</td>\n",
       "      <td>0.0</td>\n",
       "      <td>...</td>\n",
       "      <td>6682.0</td>\n",
       "      <td>10014.0</td>\n",
       "      <td>2008-09-01</td>\n",
       "      <td>angel</td>\n",
       "      <td>0.0</td>\n",
       "      <td>0.0</td>\n",
       "      <td>1.0</td>\n",
       "      <td>1.0</td>\n",
       "      <td>1.0</td>\n",
       "      <td>2008.0</td>\n",
       "    </tr>\n",
       "  </tbody>\n",
       "</table>\n",
       "<p>5 rows × 23 columns</p>\n",
       "</div>"
      ],
      "text/plain": [
       "    company__ID        name category__code     status founded__at closed__at  \\\n",
       "0           1.0    Wetpaint            web  operating  2005-10-17        NaT   \n",
       "1           1.0    Wetpaint            web  operating  2005-10-17        NaT   \n",
       "2           1.0    Wetpaint            web  operating  2005-10-17        NaT   \n",
       "15       1001.0  FriendFeed            web   acquired  2007-10-01        NaT   \n",
       "20      10014.0     Mobclix         mobile   acquired  2008-03-01        NaT   \n",
       "\n",
       "              domain network__username country__code  investment__rounds  ...  \\\n",
       "0   wetpaint-inc.com   BachelrWetpaint           USA                 0.0  ...   \n",
       "1   wetpaint-inc.com   BachelrWetpaint           USA                 0.0  ...   \n",
       "2   wetpaint-inc.com   BachelrWetpaint           USA                 0.0  ...   \n",
       "15    friendfeed.com        friendfeed           USA                 0.0  ...   \n",
       "20       mobclix.com           mobclix           USA                 0.0  ...   \n",
       "\n",
       "    funding__round__id  company__id  funded__at  funding__round__type  \\\n",
       "0                888.0          1.0  2005-10-01              series-a   \n",
       "1                889.0          1.0  2007-01-01              series-b   \n",
       "2               2312.0          1.0  2008-05-19             series-c+   \n",
       "15              1644.0       1001.0  2008-02-26              series-a   \n",
       "20              6682.0      10014.0  2008-09-01                 angel   \n",
       "\n",
       "    raised__amount pre__money__valuation participants  is__first__round  \\\n",
       "0        5250000.0                   0.0          2.0               0.0   \n",
       "1        9500000.0                   0.0          3.0               0.0   \n",
       "2       25000000.0                   0.0          4.0               1.0   \n",
       "15       5000000.0                   0.0          3.0               1.0   \n",
       "20             0.0                   0.0          1.0               1.0   \n",
       "\n",
       "    is__last__round    year  \n",
       "0               1.0  2005.0  \n",
       "1               0.0  2007.0  \n",
       "2               0.0  2008.0  \n",
       "15              1.0  2008.0  \n",
       "20              1.0  2008.0  \n",
       "\n",
       "[5 rows x 23 columns]"
      ]
     },
     "execution_count": 81,
     "metadata": {},
     "output_type": "execute_result"
    }
   ],
   "source": [
    "company_and_rounds.head()"
   ]
  },
  {
   "cell_type": "code",
   "execution_count": 82,
   "metadata": {},
   "outputs": [
    {
     "data": {
      "text/plain": [
       "Index(['company__ID', 'name', 'category__code', 'status', 'founded__at',\n",
       "       'closed__at', 'domain', 'network__username', 'country__code',\n",
       "       'investment__rounds', 'funding__rounds', 'funding__total', 'milestones',\n",
       "       'funding__round__id', 'company__id', 'funded__at',\n",
       "       'funding__round__type', 'raised__amount', 'pre__money__valuation',\n",
       "       'participants', 'is__first__round', 'is__last__round', 'year'],\n",
       "      dtype='object')"
      ]
     },
     "execution_count": 82,
     "metadata": {},
     "output_type": "execute_result"
    }
   ],
   "source": [
    "company_and_rounds.columns"
   ]
  },
  {
   "cell_type": "code",
   "execution_count": 83,
   "metadata": {},
   "outputs": [],
   "source": [
    "# Разделение на два датафрейма\n",
    "companies = company_and_rounds[['company__ID', 'name', 'category__code', 'status', 'founded__at',\n",
    "       'closed__at', 'domain', 'network__username', 'country__code',\n",
    "       'investment__rounds', 'funding__rounds', 'funding__total', 'milestones']].drop_duplicates()\n",
    "rounds = company_and_rounds[['funding__round__id', 'company__id', 'funded__at',\n",
    "       'funding__round__type', 'raised__amount', 'pre__money__valuation',\n",
    "       'participants', 'is__first__round', 'is__last__round', 'year']]"
   ]
  },
  {
   "cell_type": "code",
   "execution_count": 84,
   "metadata": {},
   "outputs": [
    {
     "data": {
      "text/html": [
       "<div>\n",
       "<style scoped>\n",
       "    .dataframe tbody tr th:only-of-type {\n",
       "        vertical-align: middle;\n",
       "    }\n",
       "\n",
       "    .dataframe tbody tr th {\n",
       "        vertical-align: top;\n",
       "    }\n",
       "\n",
       "    .dataframe thead th {\n",
       "        text-align: right;\n",
       "    }\n",
       "</style>\n",
       "<table border=\"1\" class=\"dataframe\">\n",
       "  <thead>\n",
       "    <tr style=\"text-align: right;\">\n",
       "      <th></th>\n",
       "      <th>company__ID</th>\n",
       "      <th>name</th>\n",
       "      <th>category__code</th>\n",
       "      <th>status</th>\n",
       "      <th>founded__at</th>\n",
       "      <th>closed__at</th>\n",
       "      <th>domain</th>\n",
       "      <th>network__username</th>\n",
       "      <th>country__code</th>\n",
       "      <th>investment__rounds</th>\n",
       "      <th>funding__rounds</th>\n",
       "      <th>funding__total</th>\n",
       "      <th>milestones</th>\n",
       "    </tr>\n",
       "  </thead>\n",
       "  <tbody>\n",
       "    <tr>\n",
       "      <th>0</th>\n",
       "      <td>1.0</td>\n",
       "      <td>Wetpaint</td>\n",
       "      <td>web</td>\n",
       "      <td>operating</td>\n",
       "      <td>2005-10-17</td>\n",
       "      <td>NaT</td>\n",
       "      <td>wetpaint-inc.com</td>\n",
       "      <td>BachelrWetpaint</td>\n",
       "      <td>USA</td>\n",
       "      <td>0.0</td>\n",
       "      <td>3.0</td>\n",
       "      <td>39750000.0</td>\n",
       "      <td>5.0</td>\n",
       "    </tr>\n",
       "    <tr>\n",
       "      <th>15</th>\n",
       "      <td>1001.0</td>\n",
       "      <td>FriendFeed</td>\n",
       "      <td>web</td>\n",
       "      <td>acquired</td>\n",
       "      <td>2007-10-01</td>\n",
       "      <td>NaT</td>\n",
       "      <td>friendfeed.com</td>\n",
       "      <td>friendfeed</td>\n",
       "      <td>USA</td>\n",
       "      <td>0.0</td>\n",
       "      <td>1.0</td>\n",
       "      <td>5000000.0</td>\n",
       "      <td>3.0</td>\n",
       "    </tr>\n",
       "    <tr>\n",
       "      <th>20</th>\n",
       "      <td>10014.0</td>\n",
       "      <td>Mobclix</td>\n",
       "      <td>mobile</td>\n",
       "      <td>acquired</td>\n",
       "      <td>2008-03-01</td>\n",
       "      <td>NaT</td>\n",
       "      <td>mobclix.com</td>\n",
       "      <td>mobclix</td>\n",
       "      <td>USA</td>\n",
       "      <td>0.0</td>\n",
       "      <td>1.0</td>\n",
       "      <td>0.0</td>\n",
       "      <td>4.0</td>\n",
       "    </tr>\n",
       "    <tr>\n",
       "      <th>21</th>\n",
       "      <td>10015.0</td>\n",
       "      <td>Fitbit</td>\n",
       "      <td>health</td>\n",
       "      <td>operating</td>\n",
       "      <td>2007-10-01</td>\n",
       "      <td>NaT</td>\n",
       "      <td>fitbit.com</td>\n",
       "      <td>fitbit</td>\n",
       "      <td>USA</td>\n",
       "      <td>0.0</td>\n",
       "      <td>5.0</td>\n",
       "      <td>68069200.0</td>\n",
       "      <td>0.0</td>\n",
       "    </tr>\n",
       "    <tr>\n",
       "      <th>26</th>\n",
       "      <td>100155.0</td>\n",
       "      <td>MTPV</td>\n",
       "      <td>cleantech</td>\n",
       "      <td>operating</td>\n",
       "      <td>2003-01-01</td>\n",
       "      <td>NaT</td>\n",
       "      <td>mtpv.com</td>\n",
       "      <td>Unknown</td>\n",
       "      <td>USA</td>\n",
       "      <td>0.0</td>\n",
       "      <td>3.0</td>\n",
       "      <td>10125300.0</td>\n",
       "      <td>1.0</td>\n",
       "    </tr>\n",
       "  </tbody>\n",
       "</table>\n",
       "</div>"
      ],
      "text/plain": [
       "    company__ID        name category__code     status founded__at closed__at  \\\n",
       "0           1.0    Wetpaint            web  operating  2005-10-17        NaT   \n",
       "15       1001.0  FriendFeed            web   acquired  2007-10-01        NaT   \n",
       "20      10014.0     Mobclix         mobile   acquired  2008-03-01        NaT   \n",
       "21      10015.0      Fitbit         health  operating  2007-10-01        NaT   \n",
       "26     100155.0        MTPV      cleantech  operating  2003-01-01        NaT   \n",
       "\n",
       "              domain network__username country__code  investment__rounds  \\\n",
       "0   wetpaint-inc.com   BachelrWetpaint           USA                 0.0   \n",
       "15    friendfeed.com        friendfeed           USA                 0.0   \n",
       "20       mobclix.com           mobclix           USA                 0.0   \n",
       "21        fitbit.com            fitbit           USA                 0.0   \n",
       "26          mtpv.com           Unknown           USA                 0.0   \n",
       "\n",
       "    funding__rounds  funding__total  milestones  \n",
       "0               3.0      39750000.0         5.0  \n",
       "15              1.0       5000000.0         3.0  \n",
       "20              1.0             0.0         4.0  \n",
       "21              5.0      68069200.0         0.0  \n",
       "26              3.0      10125300.0         1.0  "
      ]
     },
     "execution_count": 84,
     "metadata": {},
     "output_type": "execute_result"
    }
   ],
   "source": [
    "companies.head()"
   ]
  },
  {
   "cell_type": "code",
   "execution_count": 85,
   "metadata": {},
   "outputs": [],
   "source": [
    "rounds = rounds.rename(columns={'company__id':'rounds_id'})"
   ]
  },
  {
   "cell_type": "code",
   "execution_count": 86,
   "metadata": {},
   "outputs": [],
   "source": [
    "companies['company__ID'] = companies['company__ID'].fillna(-1).astype(int)\n"
   ]
  },
  {
   "cell_type": "code",
   "execution_count": 87,
   "metadata": {},
   "outputs": [],
   "source": [
    "# Преобразование типов столбцов\n",
    "companies['company__ID'] = companies['company__ID'].astype(int)\n",
    "rounds['rounds_id'] = rounds['rounds_id'].astype(int)"
   ]
  },
  {
   "cell_type": "code",
   "execution_count": 88,
   "metadata": {},
   "outputs": [],
   "source": [
    "# Сортировка и сброс индекса\n",
    "companies.sort_values(by='company__ID', inplace=True)\n",
    "rounds.sort_values(by='rounds_id', inplace=True)\n",
    "companies.reset_index(drop=True, inplace=True)\n",
    "rounds.reset_index(drop=True, inplace=True)"
   ]
  },
  {
   "cell_type": "code",
   "execution_count": 89,
   "metadata": {},
   "outputs": [
    {
     "data": {
      "text/plain": [
       "funding__round__id              float64\n",
       "rounds_id                         int64\n",
       "funded__at               datetime64[ns]\n",
       "funding__round__type             object\n",
       "raised__amount                  float64\n",
       "pre__money__valuation           float64\n",
       "participants                    float64\n",
       "is__first__round                float64\n",
       "is__last__round                 float64\n",
       "year                            float64\n",
       "dtype: object"
      ]
     },
     "metadata": {},
     "output_type": "display_data"
    },
    {
     "data": {
      "text/plain": [
       "company__ID                    int64\n",
       "name                          object\n",
       "category__code                object\n",
       "status                        object\n",
       "founded__at           datetime64[ns]\n",
       "closed__at            datetime64[ns]\n",
       "domain                        object\n",
       "network__username             object\n",
       "country__code                 object\n",
       "investment__rounds           float64\n",
       "funding__rounds              float64\n",
       "funding__total               float64\n",
       "milestones                   float64\n",
       "dtype: object"
      ]
     },
     "metadata": {},
     "output_type": "display_data"
    }
   ],
   "source": [
    "# Проверка результатов преобразования \n",
    "display(rounds.dtypes)\n",
    "display(companies.dtypes)"
   ]
  },
  {
   "cell_type": "code",
   "execution_count": 90,
   "metadata": {},
   "outputs": [
    {
     "data": {
      "text/plain": [
       "0"
      ]
     },
     "execution_count": 90,
     "metadata": {},
     "output_type": "execute_result"
    }
   ],
   "source": [
    "companies.duplicated().sum()"
   ]
  },
  {
   "cell_type": "code",
   "execution_count": 91,
   "metadata": {},
   "outputs": [
    {
     "data": {
      "text/plain": [
       "0"
      ]
     },
     "execution_count": 91,
     "metadata": {},
     "output_type": "execute_result"
    }
   ],
   "source": [
    "companies.duplicated(subset='company__ID').sum()"
   ]
  },
  {
   "cell_type": "code",
   "execution_count": 92,
   "metadata": {},
   "outputs": [
    {
     "data": {
      "text/plain": [
       "0"
      ]
     },
     "execution_count": 92,
     "metadata": {},
     "output_type": "execute_result"
    }
   ],
   "source": [
    "rounds.duplicated().sum()"
   ]
  },
  {
   "cell_type": "code",
   "execution_count": 93,
   "metadata": {},
   "outputs": [
    {
     "data": {
      "text/html": [
       "<div>\n",
       "<style scoped>\n",
       "    .dataframe tbody tr th:only-of-type {\n",
       "        vertical-align: middle;\n",
       "    }\n",
       "\n",
       "    .dataframe tbody tr th {\n",
       "        vertical-align: top;\n",
       "    }\n",
       "\n",
       "    .dataframe thead th {\n",
       "        text-align: right;\n",
       "    }\n",
       "</style>\n",
       "<table border=\"1\" class=\"dataframe\">\n",
       "  <thead>\n",
       "    <tr style=\"text-align: right;\">\n",
       "      <th></th>\n",
       "      <th>funding__round__id</th>\n",
       "      <th>rounds_id</th>\n",
       "      <th>funded__at</th>\n",
       "      <th>funding__round__type</th>\n",
       "      <th>raised__amount</th>\n",
       "      <th>pre__money__valuation</th>\n",
       "      <th>participants</th>\n",
       "      <th>is__first__round</th>\n",
       "      <th>is__last__round</th>\n",
       "      <th>year</th>\n",
       "    </tr>\n",
       "  </thead>\n",
       "  <tbody>\n",
       "    <tr>\n",
       "      <th>6</th>\n",
       "      <td>1.0</td>\n",
       "      <td>4</td>\n",
       "      <td>2006-12-01</td>\n",
       "      <td>series-b</td>\n",
       "      <td>8500000.0</td>\n",
       "      <td>0.0</td>\n",
       "      <td>2.0</td>\n",
       "      <td>0.0</td>\n",
       "      <td>0.0</td>\n",
       "      <td>2006.0</td>\n",
       "    </tr>\n",
       "    <tr>\n",
       "      <th>8</th>\n",
       "      <td>2.0</td>\n",
       "      <td>5</td>\n",
       "      <td>2004-09-01</td>\n",
       "      <td>angel</td>\n",
       "      <td>500000.0</td>\n",
       "      <td>0.0</td>\n",
       "      <td>2.0</td>\n",
       "      <td>0.0</td>\n",
       "      <td>1.0</td>\n",
       "      <td>2004.0</td>\n",
       "    </tr>\n",
       "    <tr>\n",
       "      <th>9</th>\n",
       "      <td>3.0</td>\n",
       "      <td>5</td>\n",
       "      <td>2005-05-01</td>\n",
       "      <td>series-a</td>\n",
       "      <td>12700000.0</td>\n",
       "      <td>115000000.0</td>\n",
       "      <td>3.0</td>\n",
       "      <td>0.0</td>\n",
       "      <td>0.0</td>\n",
       "      <td>2005.0</td>\n",
       "    </tr>\n",
       "    <tr>\n",
       "      <th>10</th>\n",
       "      <td>4.0</td>\n",
       "      <td>5</td>\n",
       "      <td>2006-04-01</td>\n",
       "      <td>series-b</td>\n",
       "      <td>27500000.0</td>\n",
       "      <td>525000000.0</td>\n",
       "      <td>4.0</td>\n",
       "      <td>0.0</td>\n",
       "      <td>0.0</td>\n",
       "      <td>2006.0</td>\n",
       "    </tr>\n",
       "    <tr>\n",
       "      <th>5306</th>\n",
       "      <td>5.0</td>\n",
       "      <td>7299</td>\n",
       "      <td>2006-05-01</td>\n",
       "      <td>series-b</td>\n",
       "      <td>10500000.0</td>\n",
       "      <td>0.0</td>\n",
       "      <td>2.0</td>\n",
       "      <td>0.0</td>\n",
       "      <td>0.0</td>\n",
       "      <td>2006.0</td>\n",
       "    </tr>\n",
       "    <tr>\n",
       "      <th>...</th>\n",
       "      <td>...</td>\n",
       "      <td>...</td>\n",
       "      <td>...</td>\n",
       "      <td>...</td>\n",
       "      <td>...</td>\n",
       "      <td>...</td>\n",
       "      <td>...</td>\n",
       "      <td>...</td>\n",
       "      <td>...</td>\n",
       "      <td>...</td>\n",
       "    </tr>\n",
       "    <tr>\n",
       "      <th>43939</th>\n",
       "      <td>57948.0</td>\n",
       "      <td>211890</td>\n",
       "      <td>2013-12-12</td>\n",
       "      <td>series-a</td>\n",
       "      <td>3000000.0</td>\n",
       "      <td>0.0</td>\n",
       "      <td>1.0</td>\n",
       "      <td>1.0</td>\n",
       "      <td>1.0</td>\n",
       "      <td>2013.0</td>\n",
       "    </tr>\n",
       "    <tr>\n",
       "      <th>50421</th>\n",
       "      <td>57949.0</td>\n",
       "      <td>267427</td>\n",
       "      <td>2010-02-06</td>\n",
       "      <td>venture</td>\n",
       "      <td>570000.0</td>\n",
       "      <td>0.0</td>\n",
       "      <td>0.0</td>\n",
       "      <td>0.0</td>\n",
       "      <td>1.0</td>\n",
       "      <td>2010.0</td>\n",
       "    </tr>\n",
       "    <tr>\n",
       "      <th>49618</th>\n",
       "      <td>57950.0</td>\n",
       "      <td>261728</td>\n",
       "      <td>2010-02-06</td>\n",
       "      <td>venture</td>\n",
       "      <td>2184100.0</td>\n",
       "      <td>0.0</td>\n",
       "      <td>0.0</td>\n",
       "      <td>0.0</td>\n",
       "      <td>1.0</td>\n",
       "      <td>2010.0</td>\n",
       "    </tr>\n",
       "    <tr>\n",
       "      <th>52895</th>\n",
       "      <td>57951.0</td>\n",
       "      <td>285864</td>\n",
       "      <td>2013-12-12</td>\n",
       "      <td>series-a</td>\n",
       "      <td>790783.0</td>\n",
       "      <td>0.0</td>\n",
       "      <td>0.0</td>\n",
       "      <td>1.0</td>\n",
       "      <td>1.0</td>\n",
       "      <td>2013.0</td>\n",
       "    </tr>\n",
       "    <tr>\n",
       "      <th>52927</th>\n",
       "      <td>57952.0</td>\n",
       "      <td>286215</td>\n",
       "      <td>2010-04-07</td>\n",
       "      <td>venture</td>\n",
       "      <td>271250.0</td>\n",
       "      <td>0.0</td>\n",
       "      <td>0.0</td>\n",
       "      <td>1.0</td>\n",
       "      <td>1.0</td>\n",
       "      <td>2010.0</td>\n",
       "    </tr>\n",
       "  </tbody>\n",
       "</table>\n",
       "<p>52928 rows × 10 columns</p>\n",
       "</div>"
      ],
      "text/plain": [
       "       funding__round__id  rounds_id funded__at funding__round__type  \\\n",
       "6                     1.0          4 2006-12-01             series-b   \n",
       "8                     2.0          5 2004-09-01                angel   \n",
       "9                     3.0          5 2005-05-01             series-a   \n",
       "10                    4.0          5 2006-04-01             series-b   \n",
       "5306                  5.0       7299 2006-05-01             series-b   \n",
       "...                   ...        ...        ...                  ...   \n",
       "43939             57948.0     211890 2013-12-12             series-a   \n",
       "50421             57949.0     267427 2010-02-06              venture   \n",
       "49618             57950.0     261728 2010-02-06              venture   \n",
       "52895             57951.0     285864 2013-12-12             series-a   \n",
       "52927             57952.0     286215 2010-04-07              venture   \n",
       "\n",
       "       raised__amount  pre__money__valuation  participants  is__first__round  \\\n",
       "6           8500000.0                    0.0           2.0               0.0   \n",
       "8            500000.0                    0.0           2.0               0.0   \n",
       "9          12700000.0            115000000.0           3.0               0.0   \n",
       "10         27500000.0            525000000.0           4.0               0.0   \n",
       "5306       10500000.0                    0.0           2.0               0.0   \n",
       "...               ...                    ...           ...               ...   \n",
       "43939       3000000.0                    0.0           1.0               1.0   \n",
       "50421        570000.0                    0.0           0.0               0.0   \n",
       "49618       2184100.0                    0.0           0.0               0.0   \n",
       "52895        790783.0                    0.0           0.0               1.0   \n",
       "52927        271250.0                    0.0           0.0               1.0   \n",
       "\n",
       "       is__last__round    year  \n",
       "6                  0.0  2006.0  \n",
       "8                  1.0  2004.0  \n",
       "9                  0.0  2005.0  \n",
       "10                 0.0  2006.0  \n",
       "5306               0.0  2006.0  \n",
       "...                ...     ...  \n",
       "43939              1.0  2013.0  \n",
       "50421              1.0  2010.0  \n",
       "49618              1.0  2010.0  \n",
       "52895              1.0  2013.0  \n",
       "52927              1.0  2010.0  \n",
       "\n",
       "[52928 rows x 10 columns]"
      ]
     },
     "execution_count": 93,
     "metadata": {},
     "output_type": "execute_result"
    }
   ],
   "source": [
    "rounds.sort_values(by=list(rounds.columns))"
   ]
  },
  {
   "cell_type": "markdown",
   "metadata": {},
   "source": [
    "В результате выполнения задания был обработан проблемный датасет company_and_rounds.csv, содержащий информацию о компаниях и их раундах финансирования. Основные шаги, выполненные в процессе обработки данных, включают:  \n",
    "- Разделение на два датафрейма:  \n",
    "Созданы два отдельных датафрейма: companies для информации о компаниях и rounds для информации о раундах финансирования. Это позволяет более удобно работать с данными и проводить анализ.  \n",
    "- Сортировка и сброс индексов:  \n",
    "Датафреймы были отсортированы по идентификаторам и индексы были сброшены, что упрощает дальнейшую работу с данными.  "
   ]
  },
  {
   "cell_type": "markdown",
   "metadata": {
    "id": "bmVYhphNrJg2"
   },
   "source": [
    "\n",
    "## Шаг 3. Исследовательский анализ объединённых таблиц\n",
    "\n"
   ]
  },
  {
   "cell_type": "markdown",
   "metadata": {
    "id": "3Di6tCT3rJg2"
   },
   "source": [
    "\n",
    "### 3.1. Объединение данных\n",
    "\n",
    "Объедините данные для ответа на вопросы заказчика, которые касаются интересующих его компаний.\n",
    "\n",
    "В качестве основы для объединённой таблицы возьмите данные из обработанного датасета `company_and_rounds.csv` — выберите только те компании, у которых указаны значения `funding_rounds` или `investment_rounds` больше нуля, и те, у которых в колонке `status` указано `acquired`.\n",
    "\n",
    "Далее работайте только с этими данными."
   ]
  },
  {
   "cell_type": "code",
   "execution_count": 94,
   "metadata": {
    "id": "mGYqoHS7rJg2"
   },
   "outputs": [],
   "source": [
    "# Фильтрация компаний\n",
    "filtered_companies = filtered_companies = companies[\n",
    "    ((companies['funding__rounds'] > 0) | (companies['investment__rounds'] > 0)) | # заменил на или \n",
    "    (companies['status'] == 'acquired')\n",
    "]\n"
   ]
  },
  {
   "cell_type": "code",
   "execution_count": 95,
   "metadata": {},
   "outputs": [
    {
     "data": {
      "text/html": [
       "<div>\n",
       "<style scoped>\n",
       "    .dataframe tbody tr th:only-of-type {\n",
       "        vertical-align: middle;\n",
       "    }\n",
       "\n",
       "    .dataframe tbody tr th {\n",
       "        vertical-align: top;\n",
       "    }\n",
       "\n",
       "    .dataframe thead th {\n",
       "        text-align: right;\n",
       "    }\n",
       "</style>\n",
       "<table border=\"1\" class=\"dataframe\">\n",
       "  <thead>\n",
       "    <tr style=\"text-align: right;\">\n",
       "      <th></th>\n",
       "      <th>company__ID</th>\n",
       "      <th>name</th>\n",
       "      <th>category__code</th>\n",
       "      <th>status</th>\n",
       "      <th>founded__at</th>\n",
       "      <th>closed__at</th>\n",
       "      <th>domain</th>\n",
       "      <th>network__username</th>\n",
       "      <th>country__code</th>\n",
       "      <th>investment__rounds</th>\n",
       "      <th>funding__rounds</th>\n",
       "      <th>funding__total</th>\n",
       "      <th>milestones</th>\n",
       "    </tr>\n",
       "  </thead>\n",
       "  <tbody>\n",
       "    <tr>\n",
       "      <th>1</th>\n",
       "      <td>1</td>\n",
       "      <td>Wetpaint</td>\n",
       "      <td>web</td>\n",
       "      <td>operating</td>\n",
       "      <td>2005-10-17</td>\n",
       "      <td>NaT</td>\n",
       "      <td>wetpaint-inc.com</td>\n",
       "      <td>BachelrWetpaint</td>\n",
       "      <td>USA</td>\n",
       "      <td>0.0</td>\n",
       "      <td>3.0</td>\n",
       "      <td>3.975000e+07</td>\n",
       "      <td>5.0</td>\n",
       "    </tr>\n",
       "    <tr>\n",
       "      <th>2</th>\n",
       "      <td>4</td>\n",
       "      <td>Digg</td>\n",
       "      <td>news</td>\n",
       "      <td>acquired</td>\n",
       "      <td>2004-10-11</td>\n",
       "      <td>NaT</td>\n",
       "      <td>digg.com</td>\n",
       "      <td>digg</td>\n",
       "      <td>USA</td>\n",
       "      <td>0.0</td>\n",
       "      <td>4.0</td>\n",
       "      <td>4.500000e+07</td>\n",
       "      <td>8.0</td>\n",
       "    </tr>\n",
       "    <tr>\n",
       "      <th>3</th>\n",
       "      <td>5</td>\n",
       "      <td>Socialnet</td>\n",
       "      <td>social</td>\n",
       "      <td>ipo</td>\n",
       "      <td>2004-02-01</td>\n",
       "      <td>NaT</td>\n",
       "      <td>socialnet.com</td>\n",
       "      <td>socialnet</td>\n",
       "      <td>USA</td>\n",
       "      <td>3.0</td>\n",
       "      <td>11.0</td>\n",
       "      <td>2.425700e+09</td>\n",
       "      <td>5.0</td>\n",
       "    </tr>\n",
       "    <tr>\n",
       "      <th>4</th>\n",
       "      <td>7</td>\n",
       "      <td>Omnidrive</td>\n",
       "      <td>network_hosting</td>\n",
       "      <td>closed</td>\n",
       "      <td>2005-11-01</td>\n",
       "      <td>2008-09-15</td>\n",
       "      <td>omnidrive.com</td>\n",
       "      <td>Nomadesk</td>\n",
       "      <td>ISR</td>\n",
       "      <td>0.0</td>\n",
       "      <td>1.0</td>\n",
       "      <td>8.000000e+05</td>\n",
       "      <td>4.0</td>\n",
       "    </tr>\n",
       "    <tr>\n",
       "      <th>5</th>\n",
       "      <td>9</td>\n",
       "      <td>Geni</td>\n",
       "      <td>web</td>\n",
       "      <td>acquired</td>\n",
       "      <td>2006-06-01</td>\n",
       "      <td>NaT</td>\n",
       "      <td>geni.com</td>\n",
       "      <td>geni</td>\n",
       "      <td>USA</td>\n",
       "      <td>0.0</td>\n",
       "      <td>3.0</td>\n",
       "      <td>1.650000e+07</td>\n",
       "      <td>4.0</td>\n",
       "    </tr>\n",
       "    <tr>\n",
       "      <th>...</th>\n",
       "      <td>...</td>\n",
       "      <td>...</td>\n",
       "      <td>...</td>\n",
       "      <td>...</td>\n",
       "      <td>...</td>\n",
       "      <td>...</td>\n",
       "      <td>...</td>\n",
       "      <td>...</td>\n",
       "      <td>...</td>\n",
       "      <td>...</td>\n",
       "      <td>...</td>\n",
       "      <td>...</td>\n",
       "      <td>...</td>\n",
       "    </tr>\n",
       "    <tr>\n",
       "      <th>31703</th>\n",
       "      <td>286183</td>\n",
       "      <td>Wedding Spot</td>\n",
       "      <td>web</td>\n",
       "      <td>operating</td>\n",
       "      <td>2013-05-01</td>\n",
       "      <td>NaT</td>\n",
       "      <td>wedding-spot.com</td>\n",
       "      <td>weddingspot</td>\n",
       "      <td>USA</td>\n",
       "      <td>0.0</td>\n",
       "      <td>1.0</td>\n",
       "      <td>2.250000e+05</td>\n",
       "      <td>0.0</td>\n",
       "    </tr>\n",
       "    <tr>\n",
       "      <th>31704</th>\n",
       "      <td>286184</td>\n",
       "      <td>Seldar Pharma</td>\n",
       "      <td>biotech</td>\n",
       "      <td>operating</td>\n",
       "      <td>NaT</td>\n",
       "      <td>NaT</td>\n",
       "      <td>Unknown</td>\n",
       "      <td>Unknown</td>\n",
       "      <td>USA</td>\n",
       "      <td>0.0</td>\n",
       "      <td>1.0</td>\n",
       "      <td>1.299900e+07</td>\n",
       "      <td>0.0</td>\n",
       "    </tr>\n",
       "    <tr>\n",
       "      <th>31705</th>\n",
       "      <td>286186</td>\n",
       "      <td>Micromidas</td>\n",
       "      <td>cleantech</td>\n",
       "      <td>operating</td>\n",
       "      <td>NaT</td>\n",
       "      <td>NaT</td>\n",
       "      <td>micromidas.com</td>\n",
       "      <td>Unknown</td>\n",
       "      <td>USA</td>\n",
       "      <td>0.0</td>\n",
       "      <td>1.0</td>\n",
       "      <td>2.156060e+06</td>\n",
       "      <td>0.0</td>\n",
       "    </tr>\n",
       "    <tr>\n",
       "      <th>31706</th>\n",
       "      <td>286200</td>\n",
       "      <td>STWA</td>\n",
       "      <td>other</td>\n",
       "      <td>operating</td>\n",
       "      <td>1998-01-01</td>\n",
       "      <td>NaT</td>\n",
       "      <td>stwa.com</td>\n",
       "      <td>Unknown</td>\n",
       "      <td>USA</td>\n",
       "      <td>0.0</td>\n",
       "      <td>1.0</td>\n",
       "      <td>1.588120e+06</td>\n",
       "      <td>0.0</td>\n",
       "    </tr>\n",
       "    <tr>\n",
       "      <th>31707</th>\n",
       "      <td>286215</td>\n",
       "      <td>The Betty Mills Company</td>\n",
       "      <td>ecommerce</td>\n",
       "      <td>operating</td>\n",
       "      <td>NaT</td>\n",
       "      <td>NaT</td>\n",
       "      <td>bettymills.com</td>\n",
       "      <td>Unknown</td>\n",
       "      <td>USA</td>\n",
       "      <td>0.0</td>\n",
       "      <td>1.0</td>\n",
       "      <td>2.712500e+05</td>\n",
       "      <td>0.0</td>\n",
       "    </tr>\n",
       "  </tbody>\n",
       "</table>\n",
       "<p>31707 rows × 13 columns</p>\n",
       "</div>"
      ],
      "text/plain": [
       "       company__ID                     name   category__code     status  \\\n",
       "1                1                 Wetpaint              web  operating   \n",
       "2                4                     Digg             news   acquired   \n",
       "3                5                Socialnet           social        ipo   \n",
       "4                7                Omnidrive  network_hosting     closed   \n",
       "5                9                     Geni              web   acquired   \n",
       "...            ...                      ...              ...        ...   \n",
       "31703       286183             Wedding Spot              web  operating   \n",
       "31704       286184            Seldar Pharma          biotech  operating   \n",
       "31705       286186               Micromidas        cleantech  operating   \n",
       "31706       286200                     STWA            other  operating   \n",
       "31707       286215  The Betty Mills Company        ecommerce  operating   \n",
       "\n",
       "      founded__at closed__at            domain network__username  \\\n",
       "1      2005-10-17        NaT  wetpaint-inc.com   BachelrWetpaint   \n",
       "2      2004-10-11        NaT          digg.com              digg   \n",
       "3      2004-02-01        NaT     socialnet.com         socialnet   \n",
       "4      2005-11-01 2008-09-15     omnidrive.com          Nomadesk   \n",
       "5      2006-06-01        NaT          geni.com              geni   \n",
       "...           ...        ...               ...               ...   \n",
       "31703  2013-05-01        NaT  wedding-spot.com       weddingspot   \n",
       "31704         NaT        NaT           Unknown           Unknown   \n",
       "31705         NaT        NaT    micromidas.com           Unknown   \n",
       "31706  1998-01-01        NaT          stwa.com           Unknown   \n",
       "31707         NaT        NaT    bettymills.com           Unknown   \n",
       "\n",
       "      country__code  investment__rounds  funding__rounds  funding__total  \\\n",
       "1               USA                 0.0              3.0    3.975000e+07   \n",
       "2               USA                 0.0              4.0    4.500000e+07   \n",
       "3               USA                 3.0             11.0    2.425700e+09   \n",
       "4               ISR                 0.0              1.0    8.000000e+05   \n",
       "5               USA                 0.0              3.0    1.650000e+07   \n",
       "...             ...                 ...              ...             ...   \n",
       "31703           USA                 0.0              1.0    2.250000e+05   \n",
       "31704           USA                 0.0              1.0    1.299900e+07   \n",
       "31705           USA                 0.0              1.0    2.156060e+06   \n",
       "31706           USA                 0.0              1.0    1.588120e+06   \n",
       "31707           USA                 0.0              1.0    2.712500e+05   \n",
       "\n",
       "       milestones  \n",
       "1             5.0  \n",
       "2             8.0  \n",
       "3             5.0  \n",
       "4             4.0  \n",
       "5             4.0  \n",
       "...           ...  \n",
       "31703         0.0  \n",
       "31704         0.0  \n",
       "31705         0.0  \n",
       "31706         0.0  \n",
       "31707         0.0  \n",
       "\n",
       "[31707 rows x 13 columns]"
      ]
     },
     "execution_count": 95,
     "metadata": {},
     "output_type": "execute_result"
    }
   ],
   "source": [
    "filtered_companies"
   ]
  },
  {
   "cell_type": "markdown",
   "metadata": {},
   "source": [
    "Мы отфильтровали данные, чтобы сосредоточиться на компаниях, которые были приобретены и имели ненулевые значения в столбцах funding_rounds и investment_rounds. "
   ]
  },
  {
   "cell_type": "markdown",
   "metadata": {
    "id": "DFHINkV3rJg2"
   },
   "source": [
    "\n",
    "### 3.2. Анализ выбросов\n",
    "\n",
    "Заказчика интересует обычный для рассматриваемого периода размер средств, который предоставлялся компаниям.\n",
    "\n",
    "* По предобработанному столбцу `funding_total` графическим способом оцените, какой размер общего финансирования для одной компании будет типичным, а какой — выбивающимся.\n",
    "\n",
    "* В процессе расчёта значений обратите внимание, например, на показатели, возвращаемые методом `.describe()`, — объясните их. Применимы ли к таким данным обычные способы нахождения типичных значений?"
   ]
  },
  {
   "cell_type": "code",
   "execution_count": 96,
   "metadata": {
    "id": "8jm75fKXrJg2"
   },
   "outputs": [
    {
     "data": {
      "text/plain": [
       "Text(0.5, 0, 'Общее финансирование')"
      ]
     },
     "execution_count": 96,
     "metadata": {},
     "output_type": "execute_result"
    },
    {
     "data": {
      "image/png": "[encoded data removed]",
      "text/plain": [
       "<Figure size 720x432 with 1 Axes>"
      ]
     },
     "metadata": {
      "needs_background": "light"
     },
     "output_type": "display_data"
    }
   ],
   "source": [
    "# График ящика для анализа выбросов\n",
    "plt.figure(figsize=(10, 6))\n",
    "sns.boxplot(x=filtered_companies['funding__total'])\n",
    "plt.title('Анализ выбросов в столбце funding_total')\n",
    "plt.xlabel('Общее финансирование')"
   ]
  },
  {
   "cell_type": "code",
   "execution_count": 97,
   "metadata": {
    "id": "dIWqyEomn2MU"
   },
   "outputs": [
    {
     "data": {
      "text/plain": [
       "count    3.170700e+04\n",
       "mean     1.302538e+07\n",
       "std      6.371505e+07\n",
       "min      0.000000e+00\n",
       "25%      2.000000e+05\n",
       "50%      1.700000e+06\n",
       "75%      9.106395e+06\n",
       "max      5.700000e+09\n",
       "Name: funding__total, dtype: float64"
      ]
     },
     "execution_count": 97,
     "metadata": {},
     "output_type": "execute_result"
    }
   ],
   "source": [
    "filtered_companies['funding__total'].describe()"
   ]
  },
  {
   "cell_type": "markdown",
   "metadata": {},
   "source": [
    "Вывод:  \n",
    "count: количество наблюдений (2593).  \n",
    "mean: среднее значение общего финансирования (примерно 19.8 млн).  \n",
    "std: стандартное отклонение (примерно 118.4 млн), указывает на большой разброс в данных.  \n",
    "min: минимальное значение (0).  \n",
    "25%, 50%, 75%: квартильные значения, показывающие распределение данных.  \n",
    "max: максимальное значение (5.7 млрд).  \n",
    "График ящика показывает, что есть несколько значительных выбросов, которые могут повлиять на среднее значение."
   ]
  },
  {
   "cell_type": "markdown",
   "metadata": {
    "id": "JqkRAQrIrJg2"
   },
   "source": [
    "\n",
    "### 3.3. Куплены забесплатно?\n",
    "\n",
    "* Исследуйте компании, которые были проданы за ноль или за один доллар, и при этом известно, что у них был ненулевой общий объём финансирования.\n",
    "\n",
    "* Рассчитайте аналитически верхнюю и нижнюю границу выбросов для столбца `funding_total` и укажите, каким процентилям границы соответствуют. Учитывая озвученные выше предпосылки и собственные соображения, сделайте выводы о корректности планируемой заказчиком замены нижней и верхней границы выбросов на значения, рассчитанные по процентилям."
   ]
  },
  {
   "cell_type": "code",
   "execution_count": 98,
   "metadata": {
    "id": "wJHXCBwwrJg2"
   },
   "outputs": [],
   "source": [
    "# Фильтрация компаний, проданных за 0 или 1 доллар\n",
    "zero_one_dollar_sales = filtered_companies[\n",
    "    (filtered_companies['funding__total'] > 0) & \n",
    "    (filtered_companies['funding__total'] >1)\n",
    "]"
   ]
  },
  {
   "cell_type": "code",
   "execution_count": 99,
   "metadata": {
    "id": "-kA4CO27n2ql"
   },
   "outputs": [
    {
     "data": {
      "text/html": [
       "<div>\n",
       "<style scoped>\n",
       "    .dataframe tbody tr th:only-of-type {\n",
       "        vertical-align: middle;\n",
       "    }\n",
       "\n",
       "    .dataframe tbody tr th {\n",
       "        vertical-align: top;\n",
       "    }\n",
       "\n",
       "    .dataframe thead th {\n",
       "        text-align: right;\n",
       "    }\n",
       "</style>\n",
       "<table border=\"1\" class=\"dataframe\">\n",
       "  <thead>\n",
       "    <tr style=\"text-align: right;\">\n",
       "      <th></th>\n",
       "      <th>company__ID</th>\n",
       "      <th>name</th>\n",
       "      <th>category__code</th>\n",
       "      <th>status</th>\n",
       "      <th>founded__at</th>\n",
       "      <th>closed__at</th>\n",
       "      <th>domain</th>\n",
       "      <th>network__username</th>\n",
       "      <th>country__code</th>\n",
       "      <th>investment__rounds</th>\n",
       "      <th>funding__rounds</th>\n",
       "      <th>funding__total</th>\n",
       "      <th>milestones</th>\n",
       "    </tr>\n",
       "  </thead>\n",
       "  <tbody>\n",
       "    <tr>\n",
       "      <th>1</th>\n",
       "      <td>1</td>\n",
       "      <td>Wetpaint</td>\n",
       "      <td>web</td>\n",
       "      <td>operating</td>\n",
       "      <td>2005-10-17</td>\n",
       "      <td>NaT</td>\n",
       "      <td>wetpaint-inc.com</td>\n",
       "      <td>BachelrWetpaint</td>\n",
       "      <td>USA</td>\n",
       "      <td>0.0</td>\n",
       "      <td>3.0</td>\n",
       "      <td>3.975000e+07</td>\n",
       "      <td>5.0</td>\n",
       "    </tr>\n",
       "    <tr>\n",
       "      <th>2</th>\n",
       "      <td>4</td>\n",
       "      <td>Digg</td>\n",
       "      <td>news</td>\n",
       "      <td>acquired</td>\n",
       "      <td>2004-10-11</td>\n",
       "      <td>NaT</td>\n",
       "      <td>digg.com</td>\n",
       "      <td>digg</td>\n",
       "      <td>USA</td>\n",
       "      <td>0.0</td>\n",
       "      <td>4.0</td>\n",
       "      <td>4.500000e+07</td>\n",
       "      <td>8.0</td>\n",
       "    </tr>\n",
       "    <tr>\n",
       "      <th>3</th>\n",
       "      <td>5</td>\n",
       "      <td>Socialnet</td>\n",
       "      <td>social</td>\n",
       "      <td>ipo</td>\n",
       "      <td>2004-02-01</td>\n",
       "      <td>NaT</td>\n",
       "      <td>socialnet.com</td>\n",
       "      <td>socialnet</td>\n",
       "      <td>USA</td>\n",
       "      <td>3.0</td>\n",
       "      <td>11.0</td>\n",
       "      <td>2.425700e+09</td>\n",
       "      <td>5.0</td>\n",
       "    </tr>\n",
       "    <tr>\n",
       "      <th>4</th>\n",
       "      <td>7</td>\n",
       "      <td>Omnidrive</td>\n",
       "      <td>network_hosting</td>\n",
       "      <td>closed</td>\n",
       "      <td>2005-11-01</td>\n",
       "      <td>2008-09-15</td>\n",
       "      <td>omnidrive.com</td>\n",
       "      <td>Nomadesk</td>\n",
       "      <td>ISR</td>\n",
       "      <td>0.0</td>\n",
       "      <td>1.0</td>\n",
       "      <td>8.000000e+05</td>\n",
       "      <td>4.0</td>\n",
       "    </tr>\n",
       "    <tr>\n",
       "      <th>5</th>\n",
       "      <td>9</td>\n",
       "      <td>Geni</td>\n",
       "      <td>web</td>\n",
       "      <td>acquired</td>\n",
       "      <td>2006-06-01</td>\n",
       "      <td>NaT</td>\n",
       "      <td>geni.com</td>\n",
       "      <td>geni</td>\n",
       "      <td>USA</td>\n",
       "      <td>0.0</td>\n",
       "      <td>3.0</td>\n",
       "      <td>1.650000e+07</td>\n",
       "      <td>4.0</td>\n",
       "    </tr>\n",
       "    <tr>\n",
       "      <th>...</th>\n",
       "      <td>...</td>\n",
       "      <td>...</td>\n",
       "      <td>...</td>\n",
       "      <td>...</td>\n",
       "      <td>...</td>\n",
       "      <td>...</td>\n",
       "      <td>...</td>\n",
       "      <td>...</td>\n",
       "      <td>...</td>\n",
       "      <td>...</td>\n",
       "      <td>...</td>\n",
       "      <td>...</td>\n",
       "      <td>...</td>\n",
       "    </tr>\n",
       "    <tr>\n",
       "      <th>31703</th>\n",
       "      <td>286183</td>\n",
       "      <td>Wedding Spot</td>\n",
       "      <td>web</td>\n",
       "      <td>operating</td>\n",
       "      <td>2013-05-01</td>\n",
       "      <td>NaT</td>\n",
       "      <td>wedding-spot.com</td>\n",
       "      <td>weddingspot</td>\n",
       "      <td>USA</td>\n",
       "      <td>0.0</td>\n",
       "      <td>1.0</td>\n",
       "      <td>2.250000e+05</td>\n",
       "      <td>0.0</td>\n",
       "    </tr>\n",
       "    <tr>\n",
       "      <th>31704</th>\n",
       "      <td>286184</td>\n",
       "      <td>Seldar Pharma</td>\n",
       "      <td>biotech</td>\n",
       "      <td>operating</td>\n",
       "      <td>NaT</td>\n",
       "      <td>NaT</td>\n",
       "      <td>Unknown</td>\n",
       "      <td>Unknown</td>\n",
       "      <td>USA</td>\n",
       "      <td>0.0</td>\n",
       "      <td>1.0</td>\n",
       "      <td>1.299900e+07</td>\n",
       "      <td>0.0</td>\n",
       "    </tr>\n",
       "    <tr>\n",
       "      <th>31705</th>\n",
       "      <td>286186</td>\n",
       "      <td>Micromidas</td>\n",
       "      <td>cleantech</td>\n",
       "      <td>operating</td>\n",
       "      <td>NaT</td>\n",
       "      <td>NaT</td>\n",
       "      <td>micromidas.com</td>\n",
       "      <td>Unknown</td>\n",
       "      <td>USA</td>\n",
       "      <td>0.0</td>\n",
       "      <td>1.0</td>\n",
       "      <td>2.156060e+06</td>\n",
       "      <td>0.0</td>\n",
       "    </tr>\n",
       "    <tr>\n",
       "      <th>31706</th>\n",
       "      <td>286200</td>\n",
       "      <td>STWA</td>\n",
       "      <td>other</td>\n",
       "      <td>operating</td>\n",
       "      <td>1998-01-01</td>\n",
       "      <td>NaT</td>\n",
       "      <td>stwa.com</td>\n",
       "      <td>Unknown</td>\n",
       "      <td>USA</td>\n",
       "      <td>0.0</td>\n",
       "      <td>1.0</td>\n",
       "      <td>1.588120e+06</td>\n",
       "      <td>0.0</td>\n",
       "    </tr>\n",
       "    <tr>\n",
       "      <th>31707</th>\n",
       "      <td>286215</td>\n",
       "      <td>The Betty Mills Company</td>\n",
       "      <td>ecommerce</td>\n",
       "      <td>operating</td>\n",
       "      <td>NaT</td>\n",
       "      <td>NaT</td>\n",
       "      <td>bettymills.com</td>\n",
       "      <td>Unknown</td>\n",
       "      <td>USA</td>\n",
       "      <td>0.0</td>\n",
       "      <td>1.0</td>\n",
       "      <td>2.712500e+05</td>\n",
       "      <td>0.0</td>\n",
       "    </tr>\n",
       "  </tbody>\n",
       "</table>\n",
       "<p>27874 rows × 13 columns</p>\n",
       "</div>"
      ],
      "text/plain": [
       "       company__ID                     name   category__code     status  \\\n",
       "1                1                 Wetpaint              web  operating   \n",
       "2                4                     Digg             news   acquired   \n",
       "3                5                Socialnet           social        ipo   \n",
       "4                7                Omnidrive  network_hosting     closed   \n",
       "5                9                     Geni              web   acquired   \n",
       "...            ...                      ...              ...        ...   \n",
       "31703       286183             Wedding Spot              web  operating   \n",
       "31704       286184            Seldar Pharma          biotech  operating   \n",
       "31705       286186               Micromidas        cleantech  operating   \n",
       "31706       286200                     STWA            other  operating   \n",
       "31707       286215  The Betty Mills Company        ecommerce  operating   \n",
       "\n",
       "      founded__at closed__at            domain network__username  \\\n",
       "1      2005-10-17        NaT  wetpaint-inc.com   BachelrWetpaint   \n",
       "2      2004-10-11        NaT          digg.com              digg   \n",
       "3      2004-02-01        NaT     socialnet.com         socialnet   \n",
       "4      2005-11-01 2008-09-15     omnidrive.com          Nomadesk   \n",
       "5      2006-06-01        NaT          geni.com              geni   \n",
       "...           ...        ...               ...               ...   \n",
       "31703  2013-05-01        NaT  wedding-spot.com       weddingspot   \n",
       "31704         NaT        NaT           Unknown           Unknown   \n",
       "31705         NaT        NaT    micromidas.com           Unknown   \n",
       "31706  1998-01-01        NaT          stwa.com           Unknown   \n",
       "31707         NaT        NaT    bettymills.com           Unknown   \n",
       "\n",
       "      country__code  investment__rounds  funding__rounds  funding__total  \\\n",
       "1               USA                 0.0              3.0    3.975000e+07   \n",
       "2               USA                 0.0              4.0    4.500000e+07   \n",
       "3               USA                 3.0             11.0    2.425700e+09   \n",
       "4               ISR                 0.0              1.0    8.000000e+05   \n",
       "5               USA                 0.0              3.0    1.650000e+07   \n",
       "...             ...                 ...              ...             ...   \n",
       "31703           USA                 0.0              1.0    2.250000e+05   \n",
       "31704           USA                 0.0              1.0    1.299900e+07   \n",
       "31705           USA                 0.0              1.0    2.156060e+06   \n",
       "31706           USA                 0.0              1.0    1.588120e+06   \n",
       "31707           USA                 0.0              1.0    2.712500e+05   \n",
       "\n",
       "       milestones  \n",
       "1             5.0  \n",
       "2             8.0  \n",
       "3             5.0  \n",
       "4             4.0  \n",
       "5             4.0  \n",
       "...           ...  \n",
       "31703         0.0  \n",
       "31704         0.0  \n",
       "31705         0.0  \n",
       "31706         0.0  \n",
       "31707         0.0  \n",
       "\n",
       "[27874 rows x 13 columns]"
      ]
     },
     "execution_count": 99,
     "metadata": {},
     "output_type": "execute_result"
    }
   ],
   "source": [
    "zero_one_dollar_sales"
   ]
  },
  {
   "cell_type": "code",
   "execution_count": 100,
   "metadata": {},
   "outputs": [],
   "source": [
    "# Расчет границ выбросов для столбца funding__total\n",
    "Q1 = filtered_companies['funding__total'].quantile(0.25)\n",
    "Q3 = filtered_companies['funding__total'].quantile(0.75)\n",
    "IQR = Q3 - Q1\n"
   ]
  },
  {
   "cell_type": "code",
   "execution_count": 101,
   "metadata": {},
   "outputs": [],
   "source": [
    "lower_bound = Q1 - 1.5 * IQR\n",
    "upper_bound = Q3 + 1.5 * IQR\n"
   ]
  },
  {
   "cell_type": "code",
   "execution_count": 102,
   "metadata": {},
   "outputs": [
    {
     "data": {
      "text/plain": [
       "-13159592.5"
      ]
     },
     "execution_count": 102,
     "metadata": {},
     "output_type": "execute_result"
    }
   ],
   "source": [
    "lower_bound"
   ]
  },
  {
   "cell_type": "code",
   "execution_count": 103,
   "metadata": {},
   "outputs": [
    {
     "data": {
      "text/plain": [
       "22465987.5"
      ]
     },
     "execution_count": 103,
     "metadata": {},
     "output_type": "execute_result"
    }
   ],
   "source": [
    "upper_bound"
   ]
  },
  {
   "cell_type": "markdown",
   "metadata": {},
   "source": [
    "Анализ результатов:  \n",
    "Нижняя граница выбросов:  \n",
    "Значение -13159592.5 является отрицательным, что в контексте финансирования компаний не имеет смысла, так как общий объем финансирования не может быть отрицательным. Это указывает на то, что в данных могут быть выбросы или аномалии, которые искажают результаты расчета. Следует проверить, есть ли в данных отрицательные значения или ошибки.\n",
    "Верхняя граница выбросов:    \n",
    "Значение 22465987.5 выглядит более разумным и может быть использовано для определения верхней границы выбросов. Это значение соответствует 75-му процентилю плюс 1.5 * IQR, что является стандартным методом для определения выбросов.\n"
   ]
  },
  {
   "cell_type": "markdown",
   "metadata": {
    "id": "mEiWpROjrJg2"
   },
   "source": [
    "\n",
    "### 3.4. Цены стартапов по категориям\n",
    "\n",
    "Категории стартапов с наибольшими ценами и значительным разбросом цен могут быть наиболее привлекательными для крупных инвесторов, которые готовы к высоким рискам ради потенциально больших доходов. Среди категорий стартапов выделите категории стартапов, характеризующиеся:\n",
    "\n",
    "* наибольшими ценами;\n",
    "* и наибольшим разбросом цен за стартап.\n",
    "\n",
    "Объясните, почему решили составить топ именно из такого числа категорий и почему рассчитывали именно так."
   ]
  },
  {
   "cell_type": "code",
   "execution_count": 104,
   "metadata": {
    "id": "jQ09dYUWrJg2"
   },
   "outputs": [],
   "source": [
    "# Группировка по категориям\n",
    "category_analysis = filtered_companies.groupby('category__code').agg(\n",
    "    average_price=('funding__total', 'mean'),\n",
    "    price_std=('funding__total', 'std')\n",
    ").reset_index()"
   ]
  },
  {
   "cell_type": "code",
   "execution_count": 105,
   "metadata": {
    "id": "MFONscXPn29F"
   },
   "outputs": [
    {
     "data": {
      "text/html": [
       "<div>\n",
       "<style scoped>\n",
       "    .dataframe tbody tr th:only-of-type {\n",
       "        vertical-align: middle;\n",
       "    }\n",
       "\n",
       "    .dataframe tbody tr th {\n",
       "        vertical-align: top;\n",
       "    }\n",
       "\n",
       "    .dataframe thead th {\n",
       "        text-align: right;\n",
       "    }\n",
       "</style>\n",
       "<table border=\"1\" class=\"dataframe\">\n",
       "  <thead>\n",
       "    <tr style=\"text-align: right;\">\n",
       "      <th></th>\n",
       "      <th>category__code</th>\n",
       "      <th>average_price</th>\n",
       "      <th>price_std</th>\n",
       "    </tr>\n",
       "  </thead>\n",
       "  <tbody>\n",
       "    <tr>\n",
       "      <th>3</th>\n",
       "      <td>automotive</td>\n",
       "      <td>4.131288e+07</td>\n",
       "      <td>1.852180e+08</td>\n",
       "    </tr>\n",
       "    <tr>\n",
       "      <th>25</th>\n",
       "      <td>nanotech</td>\n",
       "      <td>3.661509e+07</td>\n",
       "      <td>9.666731e+07</td>\n",
       "    </tr>\n",
       "    <tr>\n",
       "      <th>5</th>\n",
       "      <td>cleantech</td>\n",
       "      <td>3.617418e+07</td>\n",
       "      <td>9.492125e+07</td>\n",
       "    </tr>\n",
       "    <tr>\n",
       "      <th>36</th>\n",
       "      <td>semiconductor</td>\n",
       "      <td>2.494745e+07</td>\n",
       "      <td>4.298753e+07</td>\n",
       "    </tr>\n",
       "    <tr>\n",
       "      <th>26</th>\n",
       "      <td>network_hosting</td>\n",
       "      <td>2.389691e+07</td>\n",
       "      <td>6.889210e+07</td>\n",
       "    </tr>\n",
       "    <tr>\n",
       "      <th>14</th>\n",
       "      <td>government</td>\n",
       "      <td>2.245305e+07</td>\n",
       "      <td>5.993707e+07</td>\n",
       "    </tr>\n",
       "    <tr>\n",
       "      <th>4</th>\n",
       "      <td>biotech</td>\n",
       "      <td>2.070238e+07</td>\n",
       "      <td>5.730005e+07</td>\n",
       "    </tr>\n",
       "    <tr>\n",
       "      <th>21</th>\n",
       "      <td>medical</td>\n",
       "      <td>1.885352e+07</td>\n",
       "      <td>3.356621e+07</td>\n",
       "    </tr>\n",
       "    <tr>\n",
       "      <th>40</th>\n",
       "      <td>transportation</td>\n",
       "      <td>1.758758e+07</td>\n",
       "      <td>5.448266e+07</td>\n",
       "    </tr>\n",
       "    <tr>\n",
       "      <th>35</th>\n",
       "      <td>security</td>\n",
       "      <td>1.719602e+07</td>\n",
       "      <td>4.869764e+07</td>\n",
       "    </tr>\n",
       "  </tbody>\n",
       "</table>\n",
       "</div>"
      ],
      "text/plain": [
       "     category__code  average_price     price_std\n",
       "3        automotive   4.131288e+07  1.852180e+08\n",
       "25         nanotech   3.661509e+07  9.666731e+07\n",
       "5         cleantech   3.617418e+07  9.492125e+07\n",
       "36    semiconductor   2.494745e+07  4.298753e+07\n",
       "26  network_hosting   2.389691e+07  6.889210e+07\n",
       "14       government   2.245305e+07  5.993707e+07\n",
       "4           biotech   2.070238e+07  5.730005e+07\n",
       "21          medical   1.885352e+07  3.356621e+07\n",
       "40   transportation   1.758758e+07  5.448266e+07\n",
       "35         security   1.719602e+07  4.869764e+07"
      ]
     },
     "metadata": {},
     "output_type": "display_data"
    }
   ],
   "source": [
    "# Сортировка по среднему значению и стандартному отклонению\n",
    "top_categories = category_analysis.sort_values(by=['average_price', 'price_std'], ascending=False).head(10)\n",
    "display(top_categories)"
   ]
  },
  {
   "cell_type": "markdown",
   "metadata": {},
   "source": [
    "Мы выбрали топ-10 категорий по среднему значению и разбросу цен, так как это позволяет инвесторам увидеть, где они могут получить наибольшую отдачу на свои инвестиции."
   ]
  },
  {
   "cell_type": "markdown",
   "metadata": {
    "id": "ADOfyVY_rJg3"
   },
   "source": [
    "\n",
    "### 3.5. Сколько раундов продержится стартап перед покупкой\n",
    "\n",
    "* Необходимо проанализировать столбец `funding_rounds`. Исследуйте значения столбца. Заказчика интересует типичное значение количества раундов для каждого возможного статуса стартапа.\n",
    "\n",
    "* Постройте график, который отображает, сколько в среднем раундов финансирования проходило для стартапов из каждой группы. Сделайте выводы."
   ]
  },
  {
   "cell_type": "code",
   "execution_count": 106,
   "metadata": {},
   "outputs": [],
   "source": [
    "companies= companies[companies['status']!='Unknown']"
   ]
  },
  {
   "cell_type": "code",
   "execution_count": 107,
   "metadata": {},
   "outputs": [
    {
     "data": {
      "text/plain": [
       "1        operating\n",
       "2         acquired\n",
       "3              ipo\n",
       "4           closed\n",
       "5         acquired\n",
       "           ...    \n",
       "31703    operating\n",
       "31704    operating\n",
       "31705    operating\n",
       "31706    operating\n",
       "31707    operating\n",
       "Name: status, Length: 31707, dtype: object"
      ]
     },
     "execution_count": 107,
     "metadata": {},
     "output_type": "execute_result"
    }
   ],
   "source": [
    "companies['status']"
   ]
  },
  {
   "cell_type": "code",
   "execution_count": 108,
   "metadata": {
    "id": "hgXMPC4WrJg3"
   },
   "outputs": [],
   "source": [
    "# Группировка по статусу\n",
    "rounds_analysis = companies.groupby('status')['funding__rounds'].mean().reset_index()"
   ]
  },
  {
   "cell_type": "code",
   "execution_count": 109,
   "metadata": {},
   "outputs": [
    {
     "data": {
      "text/html": [
       "<div>\n",
       "<style scoped>\n",
       "    .dataframe tbody tr th:only-of-type {\n",
       "        vertical-align: middle;\n",
       "    }\n",
       "\n",
       "    .dataframe tbody tr th {\n",
       "        vertical-align: top;\n",
       "    }\n",
       "\n",
       "    .dataframe thead th {\n",
       "        text-align: right;\n",
       "    }\n",
       "</style>\n",
       "<table border=\"1\" class=\"dataframe\">\n",
       "  <thead>\n",
       "    <tr style=\"text-align: right;\">\n",
       "      <th></th>\n",
       "      <th>status</th>\n",
       "      <th>funding__rounds</th>\n",
       "    </tr>\n",
       "  </thead>\n",
       "  <tbody>\n",
       "    <tr>\n",
       "      <th>0</th>\n",
       "      <td>acquired</td>\n",
       "      <td>1.896645</td>\n",
       "    </tr>\n",
       "    <tr>\n",
       "      <th>1</th>\n",
       "      <td>closed</td>\n",
       "      <td>1.383437</td>\n",
       "    </tr>\n",
       "    <tr>\n",
       "      <th>2</th>\n",
       "      <td>ipo</td>\n",
       "      <td>2.526531</td>\n",
       "    </tr>\n",
       "    <tr>\n",
       "      <th>3</th>\n",
       "      <td>operating</td>\n",
       "      <td>1.642359</td>\n",
       "    </tr>\n",
       "  </tbody>\n",
       "</table>\n",
       "</div>"
      ],
      "text/plain": [
       "      status  funding__rounds\n",
       "0   acquired         1.896645\n",
       "1     closed         1.383437\n",
       "2        ipo         2.526531\n",
       "3  operating         1.642359"
      ]
     },
     "execution_count": 109,
     "metadata": {},
     "output_type": "execute_result"
    }
   ],
   "source": [
    "rounds_analysis"
   ]
  },
  {
   "cell_type": "code",
   "execution_count": 110,
   "metadata": {},
   "outputs": [],
   "source": [
    "# Переименование столбцов для удобства\n",
    "rounds_analysis.columns = ['Status', 'Mean_Funding_Rounds']"
   ]
  },
  {
   "cell_type": "code",
   "execution_count": 111,
   "metadata": {},
   "outputs": [
    {
     "data": {
      "image/png": "[encoded data removed]",
      "text/plain": [
       "<Figure size 720x432 with 1 Axes>"
      ]
     },
     "metadata": {
      "needs_background": "light"
     },
     "output_type": "display_data"
    }
   ],
   "source": [
    "# Построение графика\n",
    "plt.figure(figsize=(10, 6))\n",
    "sns.barplot(data=rounds_analysis, x='Status', y='Mean_Funding_Rounds', palette='viridis')\n",
    "plt.title('Средняя  количества раундов финансирования по статусу стартапа')\n",
    "plt.xlabel('Статус стартапа')\n",
    "plt.ylabel('Медиана раундов финансирования')\n",
    "plt.xticks(rotation=45)\n",
    "plt.grid(axis='y')"
   ]
  },
  {
   "cell_type": "markdown",
   "metadata": {},
   "source": [
    "Выводы:  \n",
    "- Среднее количество раундов финансирования:  \n",
    "IPO: Стартапы, которые достигли статуса IPO (первичное публичное размещение акций), в среднем прошли 2.53 раунда финансирования. Это может указывать на то, что такие компании привлекают больше инвестиций и проходят более сложный процесс подготовки к выходу на биржу.  \n",
    "Acquired: Стартапы, которые были приобретены, прошли в среднем 1.90 раунда. Это значение достаточно высоко, что может свидетельствовать о том, что компании, которые были успешно проданы, часто имеют хорошую инвестиционную поддержку.  \n",
    "Operating: Активные стартапы (operating) имеют среднее значение 1.64 раунда. Это может указывать на то, что многие из них находятся на ранних стадиях развития и могут еще не привлекать значительное количество инвестиций.  \n",
    "Closed: Закрытые стартапы имеют самое низкое среднее значение раундов — 1.38. Это может говорить о том, что многие из них не смогли привлечь достаточное финансирование для продолжения своей деятельности. \n",
    "\n",
    "Среднее количество раундов финансирования для различных статусов стартапов показывает, что успешные компании, которые достигают статуса IPO или были приобретены, имеют более высокий уровень инвестиций. Эти данные могут быть полезны для анализа рынка и принятия инвестиционных решений."
   ]
  },
  {
   "cell_type": "markdown",
   "metadata": {
    "id": "VAFEZ2HBrJg3"
   },
   "source": [
    "\n",
    "## Шаг 4. Итоговый вывод и рекомендации\n",
    "\n",
    "Опишите, что было сделано в проекте, какие были сделаны выводы, подкрепляют ли они друг друга или заставляют сомневаться в полученных результатах."
   ]
  },
  {
   "cell_type": "markdown",
   "metadata": {},
   "source": [
    "В ходе данного проекта была проведена работа по анализу данных о стартапах, охватывающая несколько ключевых этапов, включая загрузку, предобработку и исследовательский анализ данных.  \n",
    "\n",
    "1. Знакомство с данными и предобработка  \n",
    "На первом этапе мы познакомились с данными, загруженными из различных источников, таких как acquisition.csv, company_and_rounds.csv, people.csv, education.csv, degrees.csv, fund.csv и investment.csv. Были выявлены пропуски и аномалии в данных, что потребовало их предварительной обработки. Мы привели названия столбцов к единому стилю, заменили пропуски на значения п( 'Unknown' и -1) и преобразовали типы данных, чтобы обеспечить корректность дальнейшего анализа.  \n",
    "2. Исследовательский анализ  \n",
    "В рамках исследовательского анализа были выполнены следующие задачи:\n",
    "\n",
    "Анализ раундов финансирования: Мы составили  таблицу, которая позволила оценить типичный размер средств, выделяемых в рамках одного раунда, и общее количество раундов финансирования по годам. Выяснили, что максимальный размер средств был зафиксирован в 2005 году, а в 2013 году наблюдалось значительное количество раундов.  \n",
    "\n",
    "Анализ выбросов: Мы оценили, какие размеры общего финансирования являются типичными, а какие выбиваются из общего ряда. Использование медианы вместо среднего значения позволило избежать искажений, вызванных выбросами.  \n",
    "\n",
    "Исследование компаний, проданных за ноль или один доллар: Мы проанализировали компании, которые были проданы за символическую сумму, но имели ненулевое финансирование. Рассчитали границы выбросов для общего объема финансирования и пришли к выводу, что данные могут содержать аномалии.  \n",
    "\n",
    "Анализ категорий стартапов: Мы выделили категории с наибольшими средними ценами и значительным разбросом цен, что может быть интересно инвесторам, готовым к высоким рискам.  \n",
    "\n",
    "Количество раундов финансирования по статусу: Мы проанализировали, сколько раундов финансирования проходило для стартапов с различными статусами, что дало возможность понять, какие компании привлекают больше инвестиций.  \n",
    "\n",
    "3. Выводы и рекомендации  \n",
    "Стартапы, которые достигли статуса IPO или были приобретены, в среднем проходили больше раундов финансирования. Это может служить индикатором их успешности и привлекательности для инвесторов.  \n",
    "Инвесторам следует обратить внимание на стартапы в категориях с высоким средним финансированием и значительным разбросом, так как они могут представлять собой возможности для высокодоходных инвестиций.  \n",
    "Значение образования сотрудников: Полнота сведений об образовании сотрудников зависит от размера компании. Более крупные компании, как правило, имеют более полную информацию об образовании своих сотрудников, что может быть важным фактором при оценке компании."
   ]
  },
  {
   "cell_type": "code",
   "execution_count": null,
   "metadata": {},
   "outputs": [],
   "source": []
  }
 ],
 "metadata": {
  "ExecuteTimeLog": [
   {
    "duration": 3702,
    "start_time": "2025-01-27T11:59:25.919Z"
   },
   {
    "duration": 402,
    "start_time": "2025-01-27T11:59:48.661Z"
   },
   {
    "duration": 1019,
    "start_time": "2025-01-27T12:00:42.689Z"
   },
   {
    "duration": 177,
    "start_time": "2025-01-27T12:00:58.362Z"
   },
   {
    "duration": 2,
    "start_time": "2025-01-27T12:01:13.621Z"
   },
   {
    "duration": 51,
    "start_time": "2025-01-27T12:06:28.664Z"
   },
   {
    "duration": 64,
    "start_time": "2025-01-27T12:07:07.812Z"
   },
   {
    "duration": 13,
    "start_time": "2025-01-27T12:07:46.805Z"
   },
   {
    "duration": 13,
    "start_time": "2025-01-27T12:08:03.193Z"
   },
   {
    "duration": 11,
    "start_time": "2025-01-27T12:11:32.688Z"
   },
   {
    "duration": 1866,
    "start_time": "2025-01-27T12:21:43.084Z"
   },
   {
    "duration": 9,
    "start_time": "2025-01-27T12:21:44.952Z"
   },
   {
    "duration": 14,
    "start_time": "2025-01-27T12:21:47.396Z"
   },
   {
    "duration": 18,
    "start_time": "2025-01-27T12:23:19.526Z"
   },
   {
    "duration": 207,
    "start_time": "2025-01-27T12:42:08.672Z"
   },
   {
    "duration": 209,
    "start_time": "2025-01-27T12:43:59.747Z"
   },
   {
    "duration": 32,
    "start_time": "2025-01-27T12:44:15.250Z"
   },
   {
    "duration": 216,
    "start_time": "2025-01-27T12:44:32.555Z"
   },
   {
    "duration": 27,
    "start_time": "2025-01-27T12:44:39.971Z"
   },
   {
    "duration": 11,
    "start_time": "2025-01-27T12:49:09.240Z"
   },
   {
    "duration": 82,
    "start_time": "2025-01-27T12:49:09.808Z"
   },
   {
    "duration": 8,
    "start_time": "2025-01-27T13:44:12.201Z"
   },
   {
    "duration": 25,
    "start_time": "2025-01-27T13:44:12.849Z"
   },
   {
    "duration": 10,
    "start_time": "2025-01-27T13:49:12.387Z"
   },
   {
    "duration": 25,
    "start_time": "2025-01-27T13:49:21.579Z"
   },
   {
    "duration": 10,
    "start_time": "2025-01-27T13:49:54.667Z"
   },
   {
    "duration": 2599,
    "start_time": "2025-01-27T13:50:05.779Z"
   },
   {
    "duration": 393,
    "start_time": "2025-01-27T13:50:08.381Z"
   },
   {
    "duration": 810,
    "start_time": "2025-01-27T13:50:08.775Z"
   },
   {
    "duration": 50,
    "start_time": "2025-01-27T13:50:09.587Z"
   },
   {
    "duration": 2624,
    "start_time": "2025-01-27T13:50:09.639Z"
   },
   {
    "duration": 13,
    "start_time": "2025-01-27T13:50:12.265Z"
   },
   {
    "duration": 20,
    "start_time": "2025-01-27T13:50:12.280Z"
   },
   {
    "duration": 219,
    "start_time": "2025-01-27T13:50:12.302Z"
   },
   {
    "duration": 29,
    "start_time": "2025-01-27T13:50:12.523Z"
   },
   {
    "duration": 128,
    "start_time": "2025-01-27T13:50:12.555Z"
   },
   {
    "duration": 0,
    "start_time": "2025-01-27T13:50:12.684Z"
   },
   {
    "duration": 0,
    "start_time": "2025-01-27T13:50:12.686Z"
   },
   {
    "duration": 0,
    "start_time": "2025-01-27T13:50:12.687Z"
   },
   {
    "duration": 0,
    "start_time": "2025-01-27T13:50:12.689Z"
   },
   {
    "duration": 0,
    "start_time": "2025-01-27T13:50:12.690Z"
   },
   {
    "duration": 0,
    "start_time": "2025-01-27T13:50:12.691Z"
   },
   {
    "duration": 0,
    "start_time": "2025-01-27T13:50:12.692Z"
   },
   {
    "duration": 0,
    "start_time": "2025-01-27T13:50:12.693Z"
   },
   {
    "duration": 0,
    "start_time": "2025-01-27T13:50:12.694Z"
   },
   {
    "duration": 0,
    "start_time": "2025-01-27T13:50:12.695Z"
   },
   {
    "duration": 99,
    "start_time": "2025-01-27T13:50:46.944Z"
   },
   {
    "duration": 8,
    "start_time": "2025-01-27T13:55:07.328Z"
   },
   {
    "duration": 30,
    "start_time": "2025-01-27T13:55:08.024Z"
   },
   {
    "duration": 36,
    "start_time": "2025-01-27T13:56:57.099Z"
   },
   {
    "duration": 9,
    "start_time": "2025-01-27T13:58:50.533Z"
   },
   {
    "duration": 32,
    "start_time": "2025-01-27T13:59:17.533Z"
   },
   {
    "duration": 45,
    "start_time": "2025-01-27T14:09:42.150Z"
   },
   {
    "duration": 14,
    "start_time": "2025-01-27T14:14:16.382Z"
   },
   {
    "duration": 20,
    "start_time": "2025-01-27T14:14:17.238Z"
   },
   {
    "duration": 21,
    "start_time": "2025-01-27T14:14:31.595Z"
   },
   {
    "duration": 22,
    "start_time": "2025-01-27T14:15:22.564Z"
   },
   {
    "duration": 26,
    "start_time": "2025-01-27T14:15:28.184Z"
   },
   {
    "duration": 21,
    "start_time": "2025-01-27T14:15:32.492Z"
   },
   {
    "duration": 27,
    "start_time": "2025-01-27T14:16:07.136Z"
   },
   {
    "duration": 25,
    "start_time": "2025-01-27T14:16:10.880Z"
   },
   {
    "duration": 88,
    "start_time": "2025-01-27T14:16:17.369Z"
   },
   {
    "duration": 24,
    "start_time": "2025-01-27T14:16:30.650Z"
   },
   {
    "duration": 20,
    "start_time": "2025-01-27T14:16:45.261Z"
   },
   {
    "duration": 10,
    "start_time": "2025-01-27T14:40:04.284Z"
   },
   {
    "duration": 79,
    "start_time": "2025-01-27T14:40:05.164Z"
   },
   {
    "duration": 8,
    "start_time": "2025-01-27T14:42:30.831Z"
   },
   {
    "duration": 7,
    "start_time": "2025-01-27T14:42:32.983Z"
   },
   {
    "duration": 9,
    "start_time": "2025-01-27T14:43:01.976Z"
   },
   {
    "duration": 15,
    "start_time": "2025-01-27T14:43:09.740Z"
   },
   {
    "duration": 10,
    "start_time": "2025-01-27T15:11:30.944Z"
   },
   {
    "duration": 4,
    "start_time": "2025-01-27T15:12:05.741Z"
   },
   {
    "duration": 5,
    "start_time": "2025-01-27T15:12:15.461Z"
   },
   {
    "duration": 4,
    "start_time": "2025-01-27T15:17:26.571Z"
   },
   {
    "duration": 11,
    "start_time": "2025-01-27T15:19:09.037Z"
   },
   {
    "duration": 5,
    "start_time": "2025-01-27T15:19:15.645Z"
   },
   {
    "duration": 10,
    "start_time": "2025-01-27T15:20:55.706Z"
   },
   {
    "duration": 64,
    "start_time": "2025-01-27T15:26:39.725Z"
   },
   {
    "duration": 74,
    "start_time": "2025-01-27T15:28:13.983Z"
   },
   {
    "duration": 8,
    "start_time": "2025-01-27T15:28:35.088Z"
   },
   {
    "duration": 10,
    "start_time": "2025-01-27T15:28:57.336Z"
   },
   {
    "duration": 13,
    "start_time": "2025-01-27T15:29:13.728Z"
   },
   {
    "duration": 10,
    "start_time": "2025-01-27T15:29:34.213Z"
   },
   {
    "duration": 9,
    "start_time": "2025-01-27T15:29:47.566Z"
   },
   {
    "duration": 11,
    "start_time": "2025-01-27T15:29:52.926Z"
   },
   {
    "duration": 9,
    "start_time": "2025-01-27T15:30:19.392Z"
   },
   {
    "duration": 7,
    "start_time": "2025-01-27T15:30:24.030Z"
   },
   {
    "duration": 3275,
    "start_time": "2025-01-27T19:05:25.549Z"
   },
   {
    "duration": 377,
    "start_time": "2025-01-27T19:05:28.826Z"
   },
   {
    "duration": 866,
    "start_time": "2025-01-27T19:05:29.204Z"
   },
   {
    "duration": 45,
    "start_time": "2025-01-27T19:05:30.072Z"
   },
   {
    "duration": 2148,
    "start_time": "2025-01-27T19:05:30.119Z"
   },
   {
    "duration": 11,
    "start_time": "2025-01-27T19:05:32.269Z"
   },
   {
    "duration": 16,
    "start_time": "2025-01-27T19:05:32.282Z"
   },
   {
    "duration": 191,
    "start_time": "2025-01-27T19:05:32.299Z"
   },
   {
    "duration": 21,
    "start_time": "2025-01-27T19:05:32.492Z"
   },
   {
    "duration": 118,
    "start_time": "2025-01-27T19:05:32.515Z"
   },
   {
    "duration": 8,
    "start_time": "2025-01-27T19:05:32.635Z"
   },
   {
    "duration": 75,
    "start_time": "2025-01-27T19:05:32.644Z"
   },
   {
    "duration": 6,
    "start_time": "2025-01-27T19:05:32.720Z"
   },
   {
    "duration": 65,
    "start_time": "2025-01-27T19:05:32.728Z"
   },
   {
    "duration": 7,
    "start_time": "2025-01-27T19:05:32.794Z"
   },
   {
    "duration": 42,
    "start_time": "2025-01-27T19:05:32.802Z"
   },
   {
    "duration": 9,
    "start_time": "2025-01-27T19:05:32.846Z"
   },
   {
    "duration": 22,
    "start_time": "2025-01-27T19:05:32.856Z"
   },
   {
    "duration": 6,
    "start_time": "2025-01-27T19:05:32.879Z"
   },
   {
    "duration": 29,
    "start_time": "2025-01-27T19:05:32.887Z"
   },
   {
    "duration": 4,
    "start_time": "2025-01-27T19:05:32.918Z"
   },
   {
    "duration": 15,
    "start_time": "2025-01-27T19:05:32.924Z"
   },
   {
    "duration": 23,
    "start_time": "2025-01-27T19:05:32.941Z"
   },
   {
    "duration": 89,
    "start_time": "2025-01-27T19:05:32.966Z"
   },
   {
    "duration": 0,
    "start_time": "2025-01-27T19:05:33.057Z"
   },
   {
    "duration": 102,
    "start_time": "2025-01-27T19:06:09.708Z"
   },
   {
    "duration": 19,
    "start_time": "2025-01-27T19:06:36.057Z"
   },
   {
    "duration": 18,
    "start_time": "2025-01-27T19:06:45.706Z"
   },
   {
    "duration": 19,
    "start_time": "2025-01-27T19:08:47.643Z"
   },
   {
    "duration": 5,
    "start_time": "2025-01-27T19:08:48.895Z"
   },
   {
    "duration": 0,
    "start_time": "2025-01-27T19:10:30.554Z"
   },
   {
    "duration": 0,
    "start_time": "2025-01-27T19:10:30.555Z"
   },
   {
    "duration": 8,
    "start_time": "2025-01-27T19:10:36.329Z"
   },
   {
    "duration": 7,
    "start_time": "2025-01-27T19:13:00.517Z"
   },
   {
    "duration": 6,
    "start_time": "2025-01-27T19:13:01.371Z"
   },
   {
    "duration": 2229,
    "start_time": "2025-01-27T19:13:06.358Z"
   },
   {
    "duration": 355,
    "start_time": "2025-01-27T19:13:08.589Z"
   },
   {
    "duration": 703,
    "start_time": "2025-01-27T19:13:08.946Z"
   },
   {
    "duration": 43,
    "start_time": "2025-01-27T19:13:09.653Z"
   },
   {
    "duration": 2074,
    "start_time": "2025-01-27T19:13:09.697Z"
   },
   {
    "duration": 10,
    "start_time": "2025-01-27T19:13:11.773Z"
   },
   {
    "duration": 15,
    "start_time": "2025-01-27T19:13:11.785Z"
   },
   {
    "duration": 246,
    "start_time": "2025-01-27T19:13:11.801Z"
   },
   {
    "duration": 22,
    "start_time": "2025-01-27T19:13:12.049Z"
   },
   {
    "duration": 92,
    "start_time": "2025-01-27T19:13:12.074Z"
   },
   {
    "duration": 8,
    "start_time": "2025-01-27T19:13:12.168Z"
   },
   {
    "duration": 77,
    "start_time": "2025-01-27T19:13:12.177Z"
   },
   {
    "duration": 7,
    "start_time": "2025-01-27T19:13:12.256Z"
   },
   {
    "duration": 30,
    "start_time": "2025-01-27T19:13:12.264Z"
   },
   {
    "duration": 7,
    "start_time": "2025-01-27T19:13:12.295Z"
   },
   {
    "duration": 62,
    "start_time": "2025-01-27T19:13:12.303Z"
   },
   {
    "duration": 8,
    "start_time": "2025-01-27T19:13:12.367Z"
   },
   {
    "duration": 20,
    "start_time": "2025-01-27T19:13:12.377Z"
   },
   {
    "duration": 5,
    "start_time": "2025-01-27T19:13:12.399Z"
   },
   {
    "duration": 11,
    "start_time": "2025-01-27T19:13:12.406Z"
   },
   {
    "duration": 2,
    "start_time": "2025-01-27T19:13:12.419Z"
   },
   {
    "duration": 33,
    "start_time": "2025-01-27T19:13:12.422Z"
   },
   {
    "duration": 4,
    "start_time": "2025-01-27T19:13:12.456Z"
   },
   {
    "duration": 113,
    "start_time": "2025-01-27T19:13:12.462Z"
   },
   {
    "duration": 0,
    "start_time": "2025-01-27T19:13:12.577Z"
   },
   {
    "duration": 7,
    "start_time": "2025-01-27T19:13:34.368Z"
   },
   {
    "duration": 20,
    "start_time": "2025-01-27T19:13:37.937Z"
   },
   {
    "duration": 18,
    "start_time": "2025-01-27T19:14:33.954Z"
   },
   {
    "duration": 18,
    "start_time": "2025-01-27T19:14:53.783Z"
   },
   {
    "duration": 7,
    "start_time": "2025-01-27T19:14:54.415Z"
   },
   {
    "duration": 20,
    "start_time": "2025-01-27T19:16:01.290Z"
   },
   {
    "duration": 12,
    "start_time": "2025-01-27T19:16:17.030Z"
   },
   {
    "duration": 12,
    "start_time": "2025-01-27T19:16:22.172Z"
   },
   {
    "duration": 12,
    "start_time": "2025-01-27T19:17:04.629Z"
   },
   {
    "duration": 11,
    "start_time": "2025-01-27T19:17:10.470Z"
   },
   {
    "duration": 2244,
    "start_time": "2025-01-27T19:18:20.976Z"
   },
   {
    "duration": 353,
    "start_time": "2025-01-27T19:18:23.222Z"
   },
   {
    "duration": 705,
    "start_time": "2025-01-27T19:18:23.577Z"
   },
   {
    "duration": 40,
    "start_time": "2025-01-27T19:18:24.284Z"
   },
   {
    "duration": 2117,
    "start_time": "2025-01-27T19:18:24.326Z"
   },
   {
    "duration": 12,
    "start_time": "2025-01-27T19:18:26.444Z"
   },
   {
    "duration": 17,
    "start_time": "2025-01-27T19:18:26.457Z"
   },
   {
    "duration": 190,
    "start_time": "2025-01-27T19:18:26.475Z"
   },
   {
    "duration": 21,
    "start_time": "2025-01-27T19:18:26.667Z"
   },
   {
    "duration": 105,
    "start_time": "2025-01-27T19:18:26.690Z"
   },
   {
    "duration": 8,
    "start_time": "2025-01-27T19:18:26.797Z"
   },
   {
    "duration": 114,
    "start_time": "2025-01-27T19:18:26.806Z"
   },
   {
    "duration": 9,
    "start_time": "2025-01-27T19:18:26.921Z"
   },
   {
    "duration": 45,
    "start_time": "2025-01-27T19:18:26.932Z"
   },
   {
    "duration": 7,
    "start_time": "2025-01-27T19:18:26.978Z"
   },
   {
    "duration": 41,
    "start_time": "2025-01-27T19:18:26.986Z"
   },
   {
    "duration": 8,
    "start_time": "2025-01-27T19:18:27.029Z"
   },
   {
    "duration": 17,
    "start_time": "2025-01-27T19:18:27.054Z"
   },
   {
    "duration": 6,
    "start_time": "2025-01-27T19:18:27.073Z"
   },
   {
    "duration": 23,
    "start_time": "2025-01-27T19:18:27.080Z"
   },
   {
    "duration": 3,
    "start_time": "2025-01-27T19:18:27.104Z"
   },
   {
    "duration": 5,
    "start_time": "2025-01-27T19:18:27.109Z"
   },
   {
    "duration": 7,
    "start_time": "2025-01-27T19:18:27.115Z"
   },
   {
    "duration": 31,
    "start_time": "2025-01-27T19:18:27.124Z"
   },
   {
    "duration": 1248,
    "start_time": "2025-01-27T19:18:27.157Z"
   },
   {
    "duration": 2034,
    "start_time": "2025-01-27T19:18:40.928Z"
   },
   {
    "duration": 1098,
    "start_time": "2025-01-27T19:19:03.112Z"
   },
   {
    "duration": 1216,
    "start_time": "2025-01-27T19:19:19.200Z"
   },
   {
    "duration": 1146,
    "start_time": "2025-01-27T19:19:55.133Z"
   },
   {
    "duration": 1210,
    "start_time": "2025-01-27T19:20:10.181Z"
   },
   {
    "duration": 1179,
    "start_time": "2025-01-27T19:21:02.226Z"
   },
   {
    "duration": 1083,
    "start_time": "2025-01-27T19:21:43.587Z"
   },
   {
    "duration": 43,
    "start_time": "2025-01-27T19:21:56.252Z"
   },
   {
    "duration": 5,
    "start_time": "2025-01-27T19:22:19.927Z"
   },
   {
    "duration": 4,
    "start_time": "2025-01-27T19:23:11.913Z"
   },
   {
    "duration": 170,
    "start_time": "2025-01-27T19:23:18.748Z"
   },
   {
    "duration": 98,
    "start_time": "2025-01-27T19:23:27.781Z"
   },
   {
    "duration": 5,
    "start_time": "2025-01-27T19:23:54.597Z"
   },
   {
    "duration": 14,
    "start_time": "2025-01-27T19:24:00.804Z"
   },
   {
    "duration": 5,
    "start_time": "2025-01-27T19:24:01.286Z"
   },
   {
    "duration": 1520,
    "start_time": "2025-01-27T19:24:02.067Z"
   },
   {
    "duration": 150,
    "start_time": "2025-01-27T19:25:15.507Z"
   },
   {
    "duration": 5,
    "start_time": "2025-01-27T19:25:17.739Z"
   },
   {
    "duration": 6,
    "start_time": "2025-01-27T19:25:40.816Z"
   },
   {
    "duration": 6,
    "start_time": "2025-01-27T19:26:17.799Z"
   },
   {
    "duration": 5,
    "start_time": "2025-01-27T19:26:37.700Z"
   },
   {
    "duration": 5,
    "start_time": "2025-01-27T19:26:57.141Z"
   },
   {
    "duration": 6,
    "start_time": "2025-01-27T19:26:57.749Z"
   },
   {
    "duration": 5,
    "start_time": "2025-01-27T19:26:58.293Z"
   },
   {
    "duration": 5,
    "start_time": "2025-01-27T19:26:58.917Z"
   },
   {
    "duration": 150,
    "start_time": "2025-01-27T19:33:52.252Z"
   },
   {
    "duration": 24,
    "start_time": "2025-01-27T19:34:09.878Z"
   },
   {
    "duration": 23,
    "start_time": "2025-01-27T19:47:03.180Z"
   },
   {
    "duration": 42,
    "start_time": "2025-01-27T19:47:56.177Z"
   },
   {
    "duration": 12,
    "start_time": "2025-01-27T19:49:50.931Z"
   },
   {
    "duration": 16,
    "start_time": "2025-01-27T19:52:13.326Z"
   },
   {
    "duration": 10,
    "start_time": "2025-01-27T19:52:29.494Z"
   },
   {
    "duration": 9,
    "start_time": "2025-01-27T19:52:43.165Z"
   },
   {
    "duration": 9,
    "start_time": "2025-01-27T19:53:25.027Z"
   },
   {
    "duration": 14,
    "start_time": "2025-01-27T19:54:08.588Z"
   },
   {
    "duration": 3715,
    "start_time": "2025-01-28T06:37:21.777Z"
   },
   {
    "duration": 401,
    "start_time": "2025-01-28T06:37:25.495Z"
   },
   {
    "duration": 988,
    "start_time": "2025-01-28T06:37:25.898Z"
   },
   {
    "duration": 77,
    "start_time": "2025-01-28T06:37:26.888Z"
   },
   {
    "duration": 3239,
    "start_time": "2025-01-28T06:37:26.967Z"
   },
   {
    "duration": 13,
    "start_time": "2025-01-28T06:37:30.207Z"
   },
   {
    "duration": 49,
    "start_time": "2025-01-28T06:37:30.222Z"
   },
   {
    "duration": 255,
    "start_time": "2025-01-28T06:37:30.273Z"
   },
   {
    "duration": 25,
    "start_time": "2025-01-28T06:37:30.530Z"
   },
   {
    "duration": 238,
    "start_time": "2025-01-28T06:37:30.557Z"
   },
   {
    "duration": 9,
    "start_time": "2025-01-28T06:37:30.797Z"
   },
   {
    "duration": 92,
    "start_time": "2025-01-28T06:37:30.808Z"
   },
   {
    "duration": 8,
    "start_time": "2025-01-28T06:37:30.902Z"
   },
   {
    "duration": 85,
    "start_time": "2025-01-28T06:37:30.911Z"
   },
   {
    "duration": 10,
    "start_time": "2025-01-28T06:37:30.998Z"
   },
   {
    "duration": 94,
    "start_time": "2025-01-28T06:37:31.010Z"
   },
   {
    "duration": 37,
    "start_time": "2025-01-28T06:37:31.105Z"
   },
   {
    "duration": 63,
    "start_time": "2025-01-28T06:37:31.143Z"
   },
   {
    "duration": 24,
    "start_time": "2025-01-28T06:37:31.207Z"
   },
   {
    "duration": 53,
    "start_time": "2025-01-28T06:37:31.233Z"
   },
   {
    "duration": 17,
    "start_time": "2025-01-28T06:37:31.288Z"
   },
   {
    "duration": 33,
    "start_time": "2025-01-28T06:37:31.306Z"
   },
   {
    "duration": 189,
    "start_time": "2025-01-28T06:37:31.341Z"
   },
   {
    "duration": 6,
    "start_time": "2025-01-28T06:37:31.531Z"
   },
   {
    "duration": 62,
    "start_time": "2025-01-28T06:37:31.538Z"
   },
   {
    "duration": 121,
    "start_time": "2025-01-28T06:37:31.602Z"
   },
   {
    "duration": 0,
    "start_time": "2025-01-28T06:37:31.725Z"
   },
   {
    "duration": 0,
    "start_time": "2025-01-28T06:37:31.730Z"
   },
   {
    "duration": 0,
    "start_time": "2025-01-28T06:37:31.731Z"
   },
   {
    "duration": 5,
    "start_time": "2025-01-28T06:40:03.759Z"
   },
   {
    "duration": 5,
    "start_time": "2025-01-28T06:40:04.431Z"
   },
   {
    "duration": 27,
    "start_time": "2025-01-28T06:40:04.951Z"
   },
   {
    "duration": 5,
    "start_time": "2025-01-28T06:46:13.769Z"
   },
   {
    "duration": 13,
    "start_time": "2025-01-28T06:46:21.786Z"
   },
   {
    "duration": 172,
    "start_time": "2025-01-28T06:48:05.585Z"
   },
   {
    "duration": 74,
    "start_time": "2025-01-28T06:50:27.215Z"
   },
   {
    "duration": 1362,
    "start_time": "2025-01-28T06:51:25.008Z"
   },
   {
    "duration": 4,
    "start_time": "2025-01-28T06:52:55.540Z"
   },
   {
    "duration": 25,
    "start_time": "2025-01-28T06:53:01.122Z"
   },
   {
    "duration": 4,
    "start_time": "2025-01-28T06:53:16.762Z"
   },
   {
    "duration": 167,
    "start_time": "2025-01-28T06:53:23.547Z"
   },
   {
    "duration": 31,
    "start_time": "2025-01-28T08:12:43.952Z"
   },
   {
    "duration": 169,
    "start_time": "2025-01-28T08:12:48.061Z"
   },
   {
    "duration": 25,
    "start_time": "2025-01-28T08:13:16.728Z"
   },
   {
    "duration": 24,
    "start_time": "2025-01-28T08:13:39.562Z"
   },
   {
    "duration": 24,
    "start_time": "2025-01-28T08:13:58.727Z"
   },
   {
    "duration": 25,
    "start_time": "2025-01-28T08:15:00.412Z"
   },
   {
    "duration": 19,
    "start_time": "2025-01-28T08:15:08.624Z"
   },
   {
    "duration": 157,
    "start_time": "2025-01-28T08:15:10.860Z"
   },
   {
    "duration": 81,
    "start_time": "2025-01-28T08:17:50.622Z"
   },
   {
    "duration": 240,
    "start_time": "2025-01-28T08:17:55.903Z"
   },
   {
    "duration": 62,
    "start_time": "2025-01-28T08:18:54.620Z"
   },
   {
    "duration": 60,
    "start_time": "2025-01-28T08:19:48.285Z"
   },
   {
    "duration": 189,
    "start_time": "2025-01-28T08:19:51.782Z"
   },
   {
    "duration": 19,
    "start_time": "2025-01-28T08:20:02.785Z"
   },
   {
    "duration": 173,
    "start_time": "2025-01-28T08:20:03.410Z"
   },
   {
    "duration": 42,
    "start_time": "2025-01-28T08:20:21.658Z"
   },
   {
    "duration": 2585,
    "start_time": "2025-01-28T08:20:36.066Z"
   },
   {
    "duration": 394,
    "start_time": "2025-01-28T08:20:38.653Z"
   },
   {
    "duration": 816,
    "start_time": "2025-01-28T08:20:39.049Z"
   },
   {
    "duration": 61,
    "start_time": "2025-01-28T08:20:39.867Z"
   },
   {
    "duration": 3341,
    "start_time": "2025-01-28T08:20:39.930Z"
   },
   {
    "duration": 13,
    "start_time": "2025-01-28T08:20:43.273Z"
   },
   {
    "duration": 28,
    "start_time": "2025-01-28T08:20:43.287Z"
   },
   {
    "duration": 192,
    "start_time": "2025-01-28T08:20:43.316Z"
   },
   {
    "duration": 35,
    "start_time": "2025-01-28T08:20:43.510Z"
   },
   {
    "duration": 105,
    "start_time": "2025-01-28T08:20:43.549Z"
   },
   {
    "duration": 9,
    "start_time": "2025-01-28T08:20:43.655Z"
   },
   {
    "duration": 95,
    "start_time": "2025-01-28T08:20:43.665Z"
   },
   {
    "duration": 8,
    "start_time": "2025-01-28T08:20:43.761Z"
   },
   {
    "duration": 33,
    "start_time": "2025-01-28T08:20:43.771Z"
   },
   {
    "duration": 30,
    "start_time": "2025-01-28T08:20:43.805Z"
   },
   {
    "duration": 48,
    "start_time": "2025-01-28T08:20:43.836Z"
   },
   {
    "duration": 10,
    "start_time": "2025-01-28T08:20:43.886Z"
   },
   {
    "duration": 43,
    "start_time": "2025-01-28T08:20:43.898Z"
   },
   {
    "duration": 7,
    "start_time": "2025-01-28T08:20:43.943Z"
   },
   {
    "duration": 18,
    "start_time": "2025-01-28T08:20:43.952Z"
   },
   {
    "duration": 4,
    "start_time": "2025-01-28T08:20:43.971Z"
   },
   {
    "duration": 19,
    "start_time": "2025-01-28T08:20:43.976Z"
   },
   {
    "duration": 207,
    "start_time": "2025-01-28T08:20:43.997Z"
   },
   {
    "duration": 5,
    "start_time": "2025-01-28T08:20:44.206Z"
   },
   {
    "duration": 50,
    "start_time": "2025-01-28T08:20:44.213Z"
   },
   {
    "duration": 5,
    "start_time": "2025-01-28T08:20:44.265Z"
   },
   {
    "duration": 7,
    "start_time": "2025-01-28T08:20:44.271Z"
   },
   {
    "duration": 192,
    "start_time": "2025-01-28T08:20:44.281Z"
   },
   {
    "duration": 4,
    "start_time": "2025-01-28T08:20:44.475Z"
   },
   {
    "duration": 17,
    "start_time": "2025-01-28T08:20:44.480Z"
   },
   {
    "duration": 43,
    "start_time": "2025-01-28T08:20:44.498Z"
   },
   {
    "duration": 21,
    "start_time": "2025-01-28T08:21:02.523Z"
   },
   {
    "duration": 168,
    "start_time": "2025-01-28T08:21:07.920Z"
   },
   {
    "duration": 17,
    "start_time": "2025-01-28T08:22:14.710Z"
   },
   {
    "duration": 20,
    "start_time": "2025-01-28T08:22:26.506Z"
   },
   {
    "duration": 180,
    "start_time": "2025-01-28T08:22:31.849Z"
   },
   {
    "duration": 2623,
    "start_time": "2025-01-28T08:23:09.129Z"
   },
   {
    "duration": 426,
    "start_time": "2025-01-28T08:23:11.754Z"
   },
   {
    "duration": 780,
    "start_time": "2025-01-28T08:23:12.181Z"
   },
   {
    "duration": 47,
    "start_time": "2025-01-28T08:23:12.963Z"
   },
   {
    "duration": 3608,
    "start_time": "2025-01-28T08:23:13.012Z"
   },
   {
    "duration": 16,
    "start_time": "2025-01-28T08:23:16.622Z"
   },
   {
    "duration": 31,
    "start_time": "2025-01-28T08:23:16.639Z"
   },
   {
    "duration": 200,
    "start_time": "2025-01-28T08:23:16.672Z"
   },
   {
    "duration": 25,
    "start_time": "2025-01-28T08:23:16.874Z"
   },
   {
    "duration": 122,
    "start_time": "2025-01-28T08:23:16.902Z"
   },
   {
    "duration": 20,
    "start_time": "2025-01-28T08:23:17.025Z"
   },
   {
    "duration": 77,
    "start_time": "2025-01-28T08:23:17.047Z"
   },
   {
    "duration": 12,
    "start_time": "2025-01-28T08:23:17.133Z"
   },
   {
    "duration": 141,
    "start_time": "2025-01-28T08:23:17.146Z"
   },
   {
    "duration": 40,
    "start_time": "2025-01-28T08:23:17.289Z"
   },
   {
    "duration": 81,
    "start_time": "2025-01-28T08:23:17.331Z"
   },
   {
    "duration": 37,
    "start_time": "2025-01-28T08:23:17.413Z"
   },
   {
    "duration": 54,
    "start_time": "2025-01-28T08:23:17.452Z"
   },
   {
    "duration": 21,
    "start_time": "2025-01-28T08:23:17.507Z"
   },
   {
    "duration": 33,
    "start_time": "2025-01-28T08:23:17.531Z"
   },
   {
    "duration": 30,
    "start_time": "2025-01-28T08:23:17.565Z"
   },
   {
    "duration": 37,
    "start_time": "2025-01-28T08:23:17.597Z"
   },
   {
    "duration": 234,
    "start_time": "2025-01-28T08:23:17.635Z"
   },
   {
    "duration": 4,
    "start_time": "2025-01-28T08:23:17.872Z"
   },
   {
    "duration": 70,
    "start_time": "2025-01-28T08:23:17.878Z"
   },
   {
    "duration": 37,
    "start_time": "2025-01-28T08:23:17.950Z"
   },
   {
    "duration": 33,
    "start_time": "2025-01-28T08:23:17.989Z"
   },
   {
    "duration": 198,
    "start_time": "2025-01-28T08:23:18.026Z"
   },
   {
    "duration": 5,
    "start_time": "2025-01-28T08:23:18.227Z"
   },
   {
    "duration": 26,
    "start_time": "2025-01-28T08:23:18.235Z"
   },
   {
    "duration": 30,
    "start_time": "2025-01-28T08:23:18.263Z"
   },
   {
    "duration": 19,
    "start_time": "2025-01-28T08:23:18.295Z"
   },
   {
    "duration": 199,
    "start_time": "2025-01-28T08:23:18.315Z"
   },
   {
    "duration": 28,
    "start_time": "2025-01-28T08:30:22.230Z"
   },
   {
    "duration": 21,
    "start_time": "2025-01-28T08:30:22.601Z"
   },
   {
    "duration": 172,
    "start_time": "2025-01-28T08:30:23.326Z"
   },
   {
    "duration": 18,
    "start_time": "2025-01-28T08:31:15.491Z"
   },
   {
    "duration": 218,
    "start_time": "2025-01-28T08:31:20.404Z"
   },
   {
    "duration": 177,
    "start_time": "2025-01-28T08:32:32.072Z"
   },
   {
    "duration": 20,
    "start_time": "2025-01-28T08:43:16.705Z"
   },
   {
    "duration": 182,
    "start_time": "2025-01-28T08:43:17.506Z"
   },
   {
    "duration": 47,
    "start_time": "2025-01-28T08:43:51.150Z"
   },
   {
    "duration": 189,
    "start_time": "2025-01-28T08:43:51.711Z"
   },
   {
    "duration": 65,
    "start_time": "2025-01-28T08:44:15.686Z"
   },
   {
    "duration": 177,
    "start_time": "2025-01-28T08:44:17.071Z"
   },
   {
    "duration": 78,
    "start_time": "2025-01-28T08:44:36.823Z"
   },
   {
    "duration": 182,
    "start_time": "2025-01-28T08:44:37.760Z"
   },
   {
    "duration": 1745,
    "start_time": "2025-01-28T08:44:59.127Z"
   },
   {
    "duration": 0,
    "start_time": "2025-01-28T08:45:00.873Z"
   },
   {
    "duration": 96,
    "start_time": "2025-01-28T08:45:10.181Z"
   },
   {
    "duration": 181,
    "start_time": "2025-01-28T08:45:11.380Z"
   },
   {
    "duration": 106,
    "start_time": "2025-01-28T08:45:44.445Z"
   },
   {
    "duration": 186,
    "start_time": "2025-01-28T08:45:44.925Z"
   },
   {
    "duration": 135,
    "start_time": "2025-01-28T08:46:11.777Z"
   },
   {
    "duration": 181,
    "start_time": "2025-01-28T08:46:12.290Z"
   },
   {
    "duration": 6,
    "start_time": "2025-01-28T08:47:37.319Z"
   },
   {
    "duration": 196,
    "start_time": "2025-01-28T08:47:38.159Z"
   },
   {
    "duration": 21,
    "start_time": "2025-01-28T08:48:24.456Z"
   },
   {
    "duration": 128,
    "start_time": "2025-01-28T08:48:24.907Z"
   },
   {
    "duration": 7,
    "start_time": "2025-01-28T08:48:25.420Z"
   },
   {
    "duration": 191,
    "start_time": "2025-01-28T08:48:25.976Z"
   },
   {
    "duration": 31,
    "start_time": "2025-01-28T08:48:46.973Z"
   },
   {
    "duration": 133,
    "start_time": "2025-01-28T08:48:48.155Z"
   },
   {
    "duration": 7,
    "start_time": "2025-01-28T08:48:48.748Z"
   },
   {
    "duration": 170,
    "start_time": "2025-01-28T08:48:50.828Z"
   },
   {
    "duration": 31,
    "start_time": "2025-01-28T08:49:24.421Z"
   },
   {
    "duration": 129,
    "start_time": "2025-01-28T08:49:25.006Z"
   },
   {
    "duration": 6,
    "start_time": "2025-01-28T08:49:25.510Z"
   },
   {
    "duration": 169,
    "start_time": "2025-01-28T08:49:26.172Z"
   },
   {
    "duration": 33,
    "start_time": "2025-01-28T08:50:02.289Z"
   },
   {
    "duration": 135,
    "start_time": "2025-01-28T08:50:02.793Z"
   },
   {
    "duration": 182,
    "start_time": "2025-01-28T08:50:04.177Z"
   },
   {
    "duration": 13,
    "start_time": "2025-01-28T08:53:27.253Z"
   },
   {
    "duration": 17,
    "start_time": "2025-01-28T08:54:18.418Z"
   },
   {
    "duration": 14,
    "start_time": "2025-01-28T08:54:19.602Z"
   },
   {
    "duration": 13,
    "start_time": "2025-01-28T08:54:31.066Z"
   },
   {
    "duration": 2534,
    "start_time": "2025-01-28T08:54:38.037Z"
   },
   {
    "duration": 406,
    "start_time": "2025-01-28T08:54:40.574Z"
   },
   {
    "duration": 794,
    "start_time": "2025-01-28T08:54:40.981Z"
   },
   {
    "duration": 48,
    "start_time": "2025-01-28T08:54:41.777Z"
   },
   {
    "duration": 2607,
    "start_time": "2025-01-28T08:54:41.827Z"
   },
   {
    "duration": 12,
    "start_time": "2025-01-28T08:54:44.435Z"
   },
   {
    "duration": 22,
    "start_time": "2025-01-28T08:54:44.449Z"
   },
   {
    "duration": 206,
    "start_time": "2025-01-28T08:54:44.473Z"
   },
   {
    "duration": 26,
    "start_time": "2025-01-28T08:54:44.680Z"
   },
   {
    "duration": 106,
    "start_time": "2025-01-28T08:54:44.709Z"
   },
   {
    "duration": 18,
    "start_time": "2025-01-28T08:54:44.816Z"
   },
   {
    "duration": 96,
    "start_time": "2025-01-28T08:54:44.835Z"
   },
   {
    "duration": 7,
    "start_time": "2025-01-28T08:54:44.933Z"
   },
   {
    "duration": 67,
    "start_time": "2025-01-28T08:54:44.942Z"
   },
   {
    "duration": 24,
    "start_time": "2025-01-28T08:54:45.011Z"
   },
   {
    "duration": 119,
    "start_time": "2025-01-28T08:54:45.036Z"
   },
   {
    "duration": 123,
    "start_time": "2025-01-28T08:54:45.157Z"
   },
   {
    "duration": 175,
    "start_time": "2025-01-28T08:54:45.282Z"
   },
   {
    "duration": 31,
    "start_time": "2025-01-28T08:54:45.459Z"
   },
   {
    "duration": 29,
    "start_time": "2025-01-28T08:54:45.492Z"
   },
   {
    "duration": 28,
    "start_time": "2025-01-28T08:54:45.523Z"
   },
   {
    "duration": 18,
    "start_time": "2025-01-28T08:54:45.553Z"
   },
   {
    "duration": 203,
    "start_time": "2025-01-28T08:54:45.573Z"
   },
   {
    "duration": 5,
    "start_time": "2025-01-28T08:54:45.778Z"
   },
   {
    "duration": 92,
    "start_time": "2025-01-28T08:54:45.785Z"
   },
   {
    "duration": 36,
    "start_time": "2025-01-28T08:54:45.879Z"
   },
   {
    "duration": 9,
    "start_time": "2025-01-28T08:54:45.916Z"
   },
   {
    "duration": 195,
    "start_time": "2025-01-28T08:54:45.929Z"
   },
   {
    "duration": 5,
    "start_time": "2025-01-28T08:54:46.126Z"
   },
   {
    "duration": 26,
    "start_time": "2025-01-28T08:54:46.133Z"
   },
   {
    "duration": 41,
    "start_time": "2025-01-28T08:54:46.160Z"
   },
   {
    "duration": 159,
    "start_time": "2025-01-28T08:54:46.204Z"
   },
   {
    "duration": 159,
    "start_time": "2025-01-28T08:54:46.364Z"
   },
   {
    "duration": 18,
    "start_time": "2025-01-28T08:54:46.524Z"
   },
   {
    "duration": 27,
    "start_time": "2025-01-28T08:54:59.647Z"
   },
   {
    "duration": 18,
    "start_time": "2025-01-28T08:55:00.688Z"
   },
   {
    "duration": 29,
    "start_time": "2025-01-28T08:56:26.373Z"
   },
   {
    "duration": 14,
    "start_time": "2025-01-28T08:56:27.309Z"
   },
   {
    "duration": 13,
    "start_time": "2025-01-28T08:57:01.385Z"
   },
   {
    "duration": 13,
    "start_time": "2025-01-28T08:57:06.937Z"
   },
   {
    "duration": 10,
    "start_time": "2025-01-28T08:58:00.095Z"
   },
   {
    "duration": 12,
    "start_time": "2025-01-28T08:58:14.759Z"
   },
   {
    "duration": 10,
    "start_time": "2025-01-28T08:58:30.832Z"
   },
   {
    "duration": 13,
    "start_time": "2025-01-28T08:58:31.665Z"
   },
   {
    "duration": 204,
    "start_time": "2025-01-28T08:59:12.737Z"
   },
   {
    "duration": 11,
    "start_time": "2025-01-28T08:59:13.212Z"
   },
   {
    "duration": 11,
    "start_time": "2025-01-28T08:59:23.123Z"
   },
   {
    "duration": 11,
    "start_time": "2025-01-28T08:59:53.124Z"
   },
   {
    "duration": 20,
    "start_time": "2025-01-28T09:00:17.428Z"
   },
   {
    "duration": 108,
    "start_time": "2025-01-28T09:01:30.986Z"
   },
   {
    "duration": 16,
    "start_time": "2025-01-28T09:01:51.007Z"
   },
   {
    "duration": 11,
    "start_time": "2025-01-28T09:01:52.279Z"
   },
   {
    "duration": 15,
    "start_time": "2025-01-28T09:01:54.416Z"
   },
   {
    "duration": 2616,
    "start_time": "2025-01-28T09:02:01.294Z"
   },
   {
    "duration": 447,
    "start_time": "2025-01-28T09:02:03.912Z"
   },
   {
    "duration": 814,
    "start_time": "2025-01-28T09:02:04.361Z"
   },
   {
    "duration": 48,
    "start_time": "2025-01-28T09:02:05.177Z"
   },
   {
    "duration": 3228,
    "start_time": "2025-01-28T09:02:05.227Z"
   },
   {
    "duration": 12,
    "start_time": "2025-01-28T09:02:08.457Z"
   },
   {
    "duration": 81,
    "start_time": "2025-01-28T09:02:08.471Z"
   },
   {
    "duration": 220,
    "start_time": "2025-01-28T09:02:08.553Z"
   },
   {
    "duration": 24,
    "start_time": "2025-01-28T09:02:08.775Z"
   },
   {
    "duration": 112,
    "start_time": "2025-01-28T09:02:08.802Z"
   },
   {
    "duration": 16,
    "start_time": "2025-01-28T09:02:08.915Z"
   },
   {
    "duration": 165,
    "start_time": "2025-01-28T09:02:08.933Z"
   },
   {
    "duration": 8,
    "start_time": "2025-01-28T09:02:09.100Z"
   },
   {
    "duration": 51,
    "start_time": "2025-01-28T09:02:09.110Z"
   },
   {
    "duration": 9,
    "start_time": "2025-01-28T09:02:09.162Z"
   },
   {
    "duration": 59,
    "start_time": "2025-01-28T09:02:09.172Z"
   },
   {
    "duration": 10,
    "start_time": "2025-01-28T09:02:09.232Z"
   },
   {
    "duration": 129,
    "start_time": "2025-01-28T09:02:09.243Z"
   },
   {
    "duration": 11,
    "start_time": "2025-01-28T09:02:09.374Z"
   },
   {
    "duration": 22,
    "start_time": "2025-01-28T09:02:09.387Z"
   },
   {
    "duration": 111,
    "start_time": "2025-01-28T09:02:09.411Z"
   },
   {
    "duration": 36,
    "start_time": "2025-01-28T09:02:09.524Z"
   },
   {
    "duration": 180,
    "start_time": "2025-01-28T09:02:09.562Z"
   },
   {
    "duration": 6,
    "start_time": "2025-01-28T09:02:09.744Z"
   },
   {
    "duration": 50,
    "start_time": "2025-01-28T09:02:09.751Z"
   },
   {
    "duration": 25,
    "start_time": "2025-01-28T09:02:09.802Z"
   },
   {
    "duration": 17,
    "start_time": "2025-01-28T09:02:09.829Z"
   },
   {
    "duration": 179,
    "start_time": "2025-01-28T09:02:09.850Z"
   },
   {
    "duration": 4,
    "start_time": "2025-01-28T09:02:10.031Z"
   },
   {
    "duration": 109,
    "start_time": "2025-01-28T09:02:10.037Z"
   },
   {
    "duration": 54,
    "start_time": "2025-01-28T09:02:10.148Z"
   },
   {
    "duration": 132,
    "start_time": "2025-01-28T09:02:10.205Z"
   },
   {
    "duration": 168,
    "start_time": "2025-01-28T09:02:10.339Z"
   },
   {
    "duration": 28,
    "start_time": "2025-01-28T09:02:10.508Z"
   },
   {
    "duration": 60,
    "start_time": "2025-01-28T09:02:10.538Z"
   },
   {
    "duration": 216,
    "start_time": "2025-01-28T09:02:10.600Z"
   },
   {
    "duration": 20,
    "start_time": "2025-01-28T09:02:10.818Z"
   },
   {
    "duration": 120,
    "start_time": "2025-01-28T09:02:10.840Z"
   },
   {
    "duration": 0,
    "start_time": "2025-01-28T09:02:10.961Z"
   },
   {
    "duration": 25,
    "start_time": "2025-01-28T09:02:23.503Z"
   },
   {
    "duration": 11,
    "start_time": "2025-01-28T09:02:24.143Z"
   },
   {
    "duration": 18,
    "start_time": "2025-01-28T09:02:53.791Z"
   },
   {
    "duration": 5,
    "start_time": "2025-01-28T09:03:38.932Z"
   },
   {
    "duration": 17,
    "start_time": "2025-01-28T09:03:39.412Z"
   },
   {
    "duration": 7,
    "start_time": "2025-01-28T09:04:09.661Z"
   },
   {
    "duration": 17,
    "start_time": "2025-01-28T09:04:10.321Z"
   },
   {
    "duration": 1692,
    "start_time": "2025-01-28T09:05:07.194Z"
   },
   {
    "duration": 0,
    "start_time": "2025-01-28T09:05:08.887Z"
   },
   {
    "duration": 1463,
    "start_time": "2025-01-28T09:05:17.915Z"
   },
   {
    "duration": 0,
    "start_time": "2025-01-28T09:05:19.380Z"
   },
   {
    "duration": 107,
    "start_time": "2025-01-28T09:05:33.159Z"
   },
   {
    "duration": 16,
    "start_time": "2025-01-28T09:05:34.047Z"
   },
   {
    "duration": 311,
    "start_time": "2025-01-28T09:07:54.849Z"
   },
   {
    "duration": 27,
    "start_time": "2025-01-28T09:08:27.898Z"
   },
   {
    "duration": 314,
    "start_time": "2025-01-28T09:10:28.139Z"
   },
   {
    "duration": 175,
    "start_time": "2025-01-28T09:10:29.244Z"
   },
   {
    "duration": 19,
    "start_time": "2025-01-28T09:11:47.297Z"
   },
   {
    "duration": 67,
    "start_time": "2025-01-28T09:11:48.090Z"
   },
   {
    "duration": 67,
    "start_time": "2025-01-28T09:12:08.026Z"
   },
   {
    "duration": 18,
    "start_time": "2025-01-28T09:12:09.274Z"
   },
   {
    "duration": 14,
    "start_time": "2025-01-28T09:12:09.650Z"
   },
   {
    "duration": 14,
    "start_time": "2025-01-28T09:12:09.865Z"
   },
   {
    "duration": 10,
    "start_time": "2025-01-28T09:12:10.274Z"
   },
   {
    "duration": 17,
    "start_time": "2025-01-28T09:12:10.658Z"
   },
   {
    "duration": 11,
    "start_time": "2025-01-28T09:12:11.002Z"
   },
   {
    "duration": 9,
    "start_time": "2025-01-28T09:12:11.338Z"
   },
   {
    "duration": 17,
    "start_time": "2025-01-28T09:12:11.682Z"
   },
   {
    "duration": 47,
    "start_time": "2025-01-28T10:10:58.518Z"
   },
   {
    "duration": 8,
    "start_time": "2025-01-28T10:11:05.841Z"
   },
   {
    "duration": 3400,
    "start_time": "2025-01-28T10:11:11.889Z"
   },
   {
    "duration": 370,
    "start_time": "2025-01-28T10:11:15.293Z"
   },
   {
    "duration": 886,
    "start_time": "2025-01-28T10:11:15.664Z"
   },
   {
    "duration": 76,
    "start_time": "2025-01-28T10:11:16.553Z"
   },
   {
    "duration": 2009,
    "start_time": "2025-01-28T10:11:16.631Z"
   },
   {
    "duration": 13,
    "start_time": "2025-01-28T10:11:18.641Z"
   },
   {
    "duration": 18,
    "start_time": "2025-01-28T10:11:18.655Z"
   },
   {
    "duration": 193,
    "start_time": "2025-01-28T10:11:18.675Z"
   },
   {
    "duration": 23,
    "start_time": "2025-01-28T10:11:18.870Z"
   },
   {
    "duration": 105,
    "start_time": "2025-01-28T10:11:18.896Z"
   },
   {
    "duration": 8,
    "start_time": "2025-01-28T10:11:19.003Z"
   },
   {
    "duration": 87,
    "start_time": "2025-01-28T10:11:19.013Z"
   },
   {
    "duration": 7,
    "start_time": "2025-01-28T10:11:19.102Z"
   },
   {
    "duration": 66,
    "start_time": "2025-01-28T10:11:19.111Z"
   },
   {
    "duration": 18,
    "start_time": "2025-01-28T10:11:19.179Z"
   },
   {
    "duration": 43,
    "start_time": "2025-01-28T10:11:19.199Z"
   },
   {
    "duration": 9,
    "start_time": "2025-01-28T10:11:19.249Z"
   },
   {
    "duration": 23,
    "start_time": "2025-01-28T10:11:19.260Z"
   },
   {
    "duration": 9,
    "start_time": "2025-01-28T10:11:19.285Z"
   },
   {
    "duration": 15,
    "start_time": "2025-01-28T10:11:19.296Z"
   },
   {
    "duration": 9,
    "start_time": "2025-01-28T10:11:19.313Z"
   },
   {
    "duration": 25,
    "start_time": "2025-01-28T10:11:19.324Z"
   },
   {
    "duration": 181,
    "start_time": "2025-01-28T10:11:19.351Z"
   },
   {
    "duration": 5,
    "start_time": "2025-01-28T10:11:19.534Z"
   },
   {
    "duration": 55,
    "start_time": "2025-01-28T10:11:19.540Z"
   },
   {
    "duration": 5,
    "start_time": "2025-01-28T10:11:19.597Z"
   },
   {
    "duration": 28,
    "start_time": "2025-01-28T10:11:19.604Z"
   },
   {
    "duration": 157,
    "start_time": "2025-01-28T10:11:19.636Z"
   },
   {
    "duration": 4,
    "start_time": "2025-01-28T10:11:19.795Z"
   },
   {
    "duration": 46,
    "start_time": "2025-01-28T10:11:19.800Z"
   },
   {
    "duration": 39,
    "start_time": "2025-01-28T10:11:19.848Z"
   },
   {
    "duration": 127,
    "start_time": "2025-01-28T10:11:19.888Z"
   },
   {
    "duration": 262,
    "start_time": "2025-01-28T10:11:20.017Z"
   },
   {
    "duration": 23,
    "start_time": "2025-01-28T10:11:20.281Z"
   },
   {
    "duration": 14,
    "start_time": "2025-01-28T10:11:20.305Z"
   },
   {
    "duration": 79,
    "start_time": "2025-01-28T10:11:20.321Z"
   },
   {
    "duration": 16,
    "start_time": "2025-01-28T10:11:20.402Z"
   },
   {
    "duration": 29,
    "start_time": "2025-01-28T10:11:20.420Z"
   },
   {
    "duration": 190,
    "start_time": "2025-01-28T10:11:20.450Z"
   },
   {
    "duration": 10,
    "start_time": "2025-01-28T10:11:20.642Z"
   },
   {
    "duration": 34,
    "start_time": "2025-01-28T10:11:20.654Z"
   },
   {
    "duration": 17,
    "start_time": "2025-01-28T10:11:20.690Z"
   },
   {
    "duration": 102,
    "start_time": "2025-01-28T10:11:20.708Z"
   },
   {
    "duration": 39,
    "start_time": "2025-01-28T10:11:20.811Z"
   },
   {
    "duration": 62,
    "start_time": "2025-01-28T10:11:20.851Z"
   },
   {
    "duration": 1487,
    "start_time": "2025-01-28T10:16:10.411Z"
   },
   {
    "duration": 9,
    "start_time": "2025-01-28T10:18:31.223Z"
   },
   {
    "duration": 59,
    "start_time": "2025-01-28T10:18:44.871Z"
   },
   {
    "duration": 17,
    "start_time": "2025-01-28T10:19:51.470Z"
   },
   {
    "duration": 23,
    "start_time": "2025-01-28T10:20:50.538Z"
   },
   {
    "duration": 4,
    "start_time": "2025-01-28T10:21:03.754Z"
   },
   {
    "duration": 204,
    "start_time": "2025-01-28T10:21:26.171Z"
   },
   {
    "duration": 172,
    "start_time": "2025-01-28T10:22:23.834Z"
   },
   {
    "duration": 176,
    "start_time": "2025-01-28T10:22:30.233Z"
   },
   {
    "duration": 164,
    "start_time": "2025-01-28T10:22:40.449Z"
   },
   {
    "duration": 123,
    "start_time": "2025-01-28T10:23:09.229Z"
   },
   {
    "duration": 128,
    "start_time": "2025-01-28T10:23:24.150Z"
   },
   {
    "duration": 113,
    "start_time": "2025-01-28T10:23:42.094Z"
   },
   {
    "duration": 144,
    "start_time": "2025-01-28T10:23:48.486Z"
   },
   {
    "duration": 9,
    "start_time": "2025-01-28T10:24:27.531Z"
   },
   {
    "duration": 20,
    "start_time": "2025-01-28T10:26:13.490Z"
   },
   {
    "duration": 11,
    "start_time": "2025-01-28T10:26:13.954Z"
   },
   {
    "duration": 4,
    "start_time": "2025-01-28T10:26:20.362Z"
   },
   {
    "duration": 9,
    "start_time": "2025-01-28T10:26:21.178Z"
   },
   {
    "duration": 6,
    "start_time": "2025-01-28T10:26:42.199Z"
   },
   {
    "duration": 7,
    "start_time": "2025-01-28T10:27:05.607Z"
   },
   {
    "duration": 8,
    "start_time": "2025-01-28T10:27:19.719Z"
   },
   {
    "duration": 3,
    "start_time": "2025-01-28T10:29:10.585Z"
   },
   {
    "duration": 9,
    "start_time": "2025-01-28T10:29:11.081Z"
   },
   {
    "duration": 7,
    "start_time": "2025-01-28T10:29:12.017Z"
   },
   {
    "duration": 13,
    "start_time": "2025-01-28T10:29:12.402Z"
   },
   {
    "duration": 11,
    "start_time": "2025-01-28T10:29:12.706Z"
   },
   {
    "duration": 4,
    "start_time": "2025-01-28T10:29:13.001Z"
   },
   {
    "duration": 10,
    "start_time": "2025-01-28T10:29:13.329Z"
   },
   {
    "duration": 147,
    "start_time": "2025-01-28T10:29:13.786Z"
   },
   {
    "duration": 144,
    "start_time": "2025-01-28T10:29:30.970Z"
   },
   {
    "duration": 8,
    "start_time": "2025-01-28T10:30:59.007Z"
   },
   {
    "duration": 8,
    "start_time": "2025-01-28T10:31:08.175Z"
   },
   {
    "duration": 4,
    "start_time": "2025-01-28T10:31:51.724Z"
   },
   {
    "duration": 4,
    "start_time": "2025-01-28T10:32:05.693Z"
   },
   {
    "duration": 4,
    "start_time": "2025-01-28T10:32:11.482Z"
   },
   {
    "duration": 5,
    "start_time": "2025-01-28T10:32:13.306Z"
   },
   {
    "duration": 4,
    "start_time": "2025-01-28T10:32:34.688Z"
   },
   {
    "duration": 10,
    "start_time": "2025-01-28T10:32:43.703Z"
   },
   {
    "duration": 106,
    "start_time": "2025-01-28T10:37:21.597Z"
   },
   {
    "duration": 146,
    "start_time": "2025-01-28T10:38:19.220Z"
   },
   {
    "duration": 132,
    "start_time": "2025-01-28T10:38:42.960Z"
   },
   {
    "duration": 128,
    "start_time": "2025-01-28T10:40:50.212Z"
   },
   {
    "duration": 890,
    "start_time": "2025-01-28T10:52:15.121Z"
   },
   {
    "duration": 5,
    "start_time": "2025-01-28T10:52:16.076Z"
   },
   {
    "duration": 3,
    "start_time": "2025-01-28T10:52:32.373Z"
   },
   {
    "duration": 4,
    "start_time": "2025-01-28T10:52:33.377Z"
   },
   {
    "duration": 4,
    "start_time": "2025-01-28T10:52:33.681Z"
   },
   {
    "duration": 3,
    "start_time": "2025-01-28T11:07:15.134Z"
   },
   {
    "duration": 4,
    "start_time": "2025-01-28T11:07:15.646Z"
   },
   {
    "duration": 3,
    "start_time": "2025-01-28T11:07:16.206Z"
   },
   {
    "duration": 3,
    "start_time": "2025-01-28T11:07:22.174Z"
   },
   {
    "duration": 4,
    "start_time": "2025-01-28T11:07:22.670Z"
   },
   {
    "duration": 4,
    "start_time": "2025-01-28T11:07:24.501Z"
   },
   {
    "duration": 18,
    "start_time": "2025-01-28T11:07:24.506Z"
   },
   {
    "duration": 2318,
    "start_time": "2025-01-28T11:09:03.806Z"
   },
   {
    "duration": 402,
    "start_time": "2025-01-28T11:09:06.126Z"
   },
   {
    "duration": 770,
    "start_time": "2025-01-28T11:09:06.530Z"
   },
   {
    "duration": 47,
    "start_time": "2025-01-28T11:09:07.302Z"
   },
   {
    "duration": 2435,
    "start_time": "2025-01-28T11:09:07.351Z"
   },
   {
    "duration": 15,
    "start_time": "2025-01-28T11:09:09.788Z"
   },
   {
    "duration": 141,
    "start_time": "2025-01-28T11:09:09.804Z"
   },
   {
    "duration": 269,
    "start_time": "2025-01-28T11:09:09.948Z"
   },
   {
    "duration": 38,
    "start_time": "2025-01-28T11:09:10.219Z"
   },
   {
    "duration": 214,
    "start_time": "2025-01-28T11:09:10.260Z"
   },
   {
    "duration": 25,
    "start_time": "2025-01-28T11:09:10.476Z"
   },
   {
    "duration": 120,
    "start_time": "2025-01-28T11:09:10.502Z"
   },
   {
    "duration": 8,
    "start_time": "2025-01-28T11:09:10.624Z"
   },
   {
    "duration": 49,
    "start_time": "2025-01-28T11:09:10.634Z"
   },
   {
    "duration": 12,
    "start_time": "2025-01-28T11:09:10.686Z"
   },
   {
    "duration": 55,
    "start_time": "2025-01-28T11:09:10.700Z"
   },
   {
    "duration": 9,
    "start_time": "2025-01-28T11:09:10.757Z"
   },
   {
    "duration": 57,
    "start_time": "2025-01-28T11:09:10.768Z"
   },
   {
    "duration": 23,
    "start_time": "2025-01-28T11:09:10.827Z"
   },
   {
    "duration": 21,
    "start_time": "2025-01-28T11:09:10.851Z"
   },
   {
    "duration": 4,
    "start_time": "2025-01-28T11:09:10.874Z"
   },
   {
    "duration": 14,
    "start_time": "2025-01-28T11:09:10.880Z"
   },
   {
    "duration": 235,
    "start_time": "2025-01-28T11:09:10.896Z"
   },
   {
    "duration": 6,
    "start_time": "2025-01-28T11:09:11.132Z"
   },
   {
    "duration": 41,
    "start_time": "2025-01-28T11:09:11.147Z"
   },
   {
    "duration": 26,
    "start_time": "2025-01-28T11:09:11.190Z"
   },
   {
    "duration": 6,
    "start_time": "2025-01-28T11:09:11.218Z"
   },
   {
    "duration": 159,
    "start_time": "2025-01-28T11:09:11.229Z"
   },
   {
    "duration": 5,
    "start_time": "2025-01-28T11:09:11.390Z"
   },
   {
    "duration": 23,
    "start_time": "2025-01-28T11:09:11.397Z"
   },
   {
    "duration": 40,
    "start_time": "2025-01-28T11:09:11.421Z"
   },
   {
    "duration": 128,
    "start_time": "2025-01-28T11:09:11.462Z"
   },
   {
    "duration": 267,
    "start_time": "2025-01-28T11:09:11.592Z"
   },
   {
    "duration": 25,
    "start_time": "2025-01-28T11:09:11.861Z"
   },
   {
    "duration": 84,
    "start_time": "2025-01-28T11:09:11.888Z"
   },
   {
    "duration": 70,
    "start_time": "2025-01-28T11:09:11.973Z"
   },
   {
    "duration": 82,
    "start_time": "2025-01-28T11:09:12.045Z"
   },
   {
    "duration": 23,
    "start_time": "2025-01-28T11:09:12.129Z"
   },
   {
    "duration": 264,
    "start_time": "2025-01-28T11:09:12.154Z"
   },
   {
    "duration": 10,
    "start_time": "2025-01-28T11:09:12.419Z"
   },
   {
    "duration": 88,
    "start_time": "2025-01-28T11:09:12.430Z"
   },
   {
    "duration": 13,
    "start_time": "2025-01-28T11:09:12.520Z"
   },
   {
    "duration": 116,
    "start_time": "2025-01-28T11:09:12.534Z"
   },
   {
    "duration": 24,
    "start_time": "2025-01-28T11:09:12.652Z"
   },
   {
    "duration": 3,
    "start_time": "2025-01-28T11:09:12.678Z"
   },
   {
    "duration": 14,
    "start_time": "2025-01-28T11:09:12.684Z"
   },
   {
    "duration": 14,
    "start_time": "2025-01-28T11:09:12.700Z"
   },
   {
    "duration": 49,
    "start_time": "2025-01-28T11:09:12.715Z"
   },
   {
    "duration": 11,
    "start_time": "2025-01-28T11:09:12.766Z"
   },
   {
    "duration": 30,
    "start_time": "2025-01-28T11:09:12.779Z"
   },
   {
    "duration": 31,
    "start_time": "2025-01-28T11:09:12.811Z"
   },
   {
    "duration": 207,
    "start_time": "2025-01-28T11:09:12.844Z"
   },
   {
    "duration": 4,
    "start_time": "2025-01-28T11:09:13.053Z"
   },
   {
    "duration": 39,
    "start_time": "2025-01-28T11:09:13.058Z"
   },
   {
    "duration": 25,
    "start_time": "2025-01-28T11:09:13.098Z"
   },
   {
    "duration": 17,
    "start_time": "2025-01-28T11:09:13.124Z"
   },
   {
    "duration": 101,
    "start_time": "2025-01-28T11:24:05.031Z"
   },
   {
    "duration": 62,
    "start_time": "2025-01-28T11:30:07.793Z"
   },
   {
    "duration": 12,
    "start_time": "2025-01-28T11:45:10.804Z"
   },
   {
    "duration": 94,
    "start_time": "2025-01-28T11:46:33.940Z"
   },
   {
    "duration": 18,
    "start_time": "2025-01-28T11:46:46.173Z"
   },
   {
    "duration": 106,
    "start_time": "2025-01-28T11:48:06.506Z"
   },
   {
    "duration": 21,
    "start_time": "2025-01-28T11:48:07.426Z"
   },
   {
    "duration": 12,
    "start_time": "2025-01-28T11:49:29.256Z"
   },
   {
    "duration": 18,
    "start_time": "2025-01-28T11:49:37.808Z"
   },
   {
    "duration": 10,
    "start_time": "2025-01-28T11:49:43.745Z"
   },
   {
    "duration": 70,
    "start_time": "2025-01-28T11:50:07.820Z"
   },
   {
    "duration": 78,
    "start_time": "2025-01-28T11:50:25.053Z"
   },
   {
    "duration": 11,
    "start_time": "2025-01-28T11:50:25.533Z"
   },
   {
    "duration": 37,
    "start_time": "2025-01-28T11:50:27.821Z"
   },
   {
    "duration": 13,
    "start_time": "2025-01-28T11:51:19.823Z"
   },
   {
    "duration": 9,
    "start_time": "2025-01-28T11:51:29.714Z"
   },
   {
    "duration": 76,
    "start_time": "2025-01-28T11:53:44.328Z"
   },
   {
    "duration": 8,
    "start_time": "2025-01-28T11:53:54.684Z"
   },
   {
    "duration": 8,
    "start_time": "2025-01-28T11:54:12.141Z"
   },
   {
    "duration": 1182,
    "start_time": "2025-01-28T11:54:21.029Z"
   },
   {
    "duration": 12,
    "start_time": "2025-01-28T11:54:46.414Z"
   },
   {
    "duration": 1232,
    "start_time": "2025-01-28T11:55:11.810Z"
   },
   {
    "duration": 19,
    "start_time": "2025-01-28T11:55:31.995Z"
   },
   {
    "duration": 18,
    "start_time": "2025-01-28T12:00:17.321Z"
   },
   {
    "duration": 12,
    "start_time": "2025-01-28T12:00:38.409Z"
   },
   {
    "duration": 95,
    "start_time": "2025-01-28T12:06:00.587Z"
   },
   {
    "duration": 12,
    "start_time": "2025-01-28T12:06:01.331Z"
   },
   {
    "duration": 14,
    "start_time": "2025-01-28T12:06:25.980Z"
   },
   {
    "duration": 20,
    "start_time": "2025-01-28T12:06:51.536Z"
   },
   {
    "duration": 12,
    "start_time": "2025-01-28T12:07:13.896Z"
   },
   {
    "duration": 4,
    "start_time": "2025-01-28T12:07:21.336Z"
   },
   {
    "duration": 6,
    "start_time": "2025-01-28T12:08:35.214Z"
   },
   {
    "duration": 12,
    "start_time": "2025-01-28T12:08:49.406Z"
   },
   {
    "duration": 11,
    "start_time": "2025-01-28T12:09:11.720Z"
   },
   {
    "duration": 85,
    "start_time": "2025-01-28T12:09:56.421Z"
   },
   {
    "duration": 20,
    "start_time": "2025-01-28T12:10:07.507Z"
   },
   {
    "duration": 11,
    "start_time": "2025-01-28T12:11:08.873Z"
   },
   {
    "duration": 5,
    "start_time": "2025-01-28T12:11:19.545Z"
   },
   {
    "duration": 14,
    "start_time": "2025-01-28T12:11:50.326Z"
   },
   {
    "duration": 7,
    "start_time": "2025-01-28T12:12:02.558Z"
   },
   {
    "duration": 9,
    "start_time": "2025-01-28T12:12:16.888Z"
   },
   {
    "duration": 72,
    "start_time": "2025-01-28T12:18:06.229Z"
   },
   {
    "duration": 11,
    "start_time": "2025-01-28T12:18:06.761Z"
   },
   {
    "duration": 8,
    "start_time": "2025-01-28T12:18:10.609Z"
   },
   {
    "duration": 9,
    "start_time": "2025-01-28T12:18:11.018Z"
   },
   {
    "duration": 4,
    "start_time": "2025-01-28T12:18:11.337Z"
   },
   {
    "duration": 11,
    "start_time": "2025-01-28T12:18:12.050Z"
   },
   {
    "duration": 15,
    "start_time": "2025-01-28T12:18:12.553Z"
   },
   {
    "duration": 17,
    "start_time": "2025-01-28T12:18:13.049Z"
   },
   {
    "duration": 10,
    "start_time": "2025-01-28T12:18:13.562Z"
   },
   {
    "duration": 12,
    "start_time": "2025-01-28T12:29:56.639Z"
   },
   {
    "duration": 4,
    "start_time": "2025-01-28T12:31:27.252Z"
   },
   {
    "duration": 73,
    "start_time": "2025-01-28T12:31:29.016Z"
   },
   {
    "duration": 11,
    "start_time": "2025-01-28T12:31:29.997Z"
   },
   {
    "duration": 8,
    "start_time": "2025-01-28T12:31:31.820Z"
   },
   {
    "duration": 9,
    "start_time": "2025-01-28T12:31:32.757Z"
   },
   {
    "duration": 9,
    "start_time": "2025-01-28T12:31:37.476Z"
   },
   {
    "duration": 2361,
    "start_time": "2025-01-28T12:31:42.803Z"
   },
   {
    "duration": 389,
    "start_time": "2025-01-28T12:31:45.167Z"
   },
   {
    "duration": 768,
    "start_time": "2025-01-28T12:31:45.558Z"
   },
   {
    "duration": 53,
    "start_time": "2025-01-28T12:31:46.328Z"
   },
   {
    "duration": 2205,
    "start_time": "2025-01-28T12:31:46.382Z"
   },
   {
    "duration": 12,
    "start_time": "2025-01-28T12:31:48.588Z"
   },
   {
    "duration": 37,
    "start_time": "2025-01-28T12:31:48.601Z"
   },
   {
    "duration": 186,
    "start_time": "2025-01-28T12:31:48.639Z"
   },
   {
    "duration": 34,
    "start_time": "2025-01-28T12:31:48.827Z"
   },
   {
    "duration": 100,
    "start_time": "2025-01-28T12:31:48.863Z"
   },
   {
    "duration": 9,
    "start_time": "2025-01-28T12:31:48.964Z"
   },
   {
    "duration": 83,
    "start_time": "2025-01-28T12:31:48.975Z"
   },
   {
    "duration": 8,
    "start_time": "2025-01-28T12:31:49.059Z"
   },
   {
    "duration": 51,
    "start_time": "2025-01-28T12:31:49.068Z"
   },
   {
    "duration": 7,
    "start_time": "2025-01-28T12:31:49.121Z"
   },
   {
    "duration": 55,
    "start_time": "2025-01-28T12:31:49.130Z"
   },
   {
    "duration": 9,
    "start_time": "2025-01-28T12:31:49.186Z"
   },
   {
    "duration": 21,
    "start_time": "2025-01-28T12:31:49.196Z"
   },
   {
    "duration": 6,
    "start_time": "2025-01-28T12:31:49.218Z"
   },
   {
    "duration": 39,
    "start_time": "2025-01-28T12:31:49.226Z"
   },
   {
    "duration": 7,
    "start_time": "2025-01-28T12:31:49.267Z"
   },
   {
    "duration": 107,
    "start_time": "2025-01-28T12:31:49.276Z"
   },
   {
    "duration": 201,
    "start_time": "2025-01-28T12:31:49.385Z"
   },
   {
    "duration": 5,
    "start_time": "2025-01-28T12:31:49.588Z"
   },
   {
    "duration": 83,
    "start_time": "2025-01-28T12:31:49.594Z"
   },
   {
    "duration": 6,
    "start_time": "2025-01-28T12:31:49.678Z"
   },
   {
    "duration": 6,
    "start_time": "2025-01-28T12:31:49.685Z"
   },
   {
    "duration": 189,
    "start_time": "2025-01-28T12:31:49.695Z"
   },
   {
    "duration": 3,
    "start_time": "2025-01-28T12:31:49.886Z"
   },
   {
    "duration": 20,
    "start_time": "2025-01-28T12:31:49.891Z"
   },
   {
    "duration": 47,
    "start_time": "2025-01-28T12:31:49.913Z"
   },
   {
    "duration": 137,
    "start_time": "2025-01-28T12:31:49.962Z"
   },
   {
    "duration": 296,
    "start_time": "2025-01-28T12:31:50.101Z"
   },
   {
    "duration": 25,
    "start_time": "2025-01-28T12:31:50.398Z"
   },
   {
    "duration": 31,
    "start_time": "2025-01-28T12:31:50.425Z"
   },
   {
    "duration": 179,
    "start_time": "2025-01-28T12:31:50.458Z"
   },
   {
    "duration": 17,
    "start_time": "2025-01-28T12:31:50.639Z"
   },
   {
    "duration": 16,
    "start_time": "2025-01-28T12:31:50.658Z"
   },
   {
    "duration": 281,
    "start_time": "2025-01-28T12:31:50.675Z"
   },
   {
    "duration": 12,
    "start_time": "2025-01-28T12:31:50.957Z"
   },
   {
    "duration": 27,
    "start_time": "2025-01-28T12:31:50.970Z"
   },
   {
    "duration": 10,
    "start_time": "2025-01-28T12:31:50.999Z"
   },
   {
    "duration": 108,
    "start_time": "2025-01-28T12:31:51.010Z"
   },
   {
    "duration": 14,
    "start_time": "2025-01-28T12:31:51.120Z"
   },
   {
    "duration": 21,
    "start_time": "2025-01-28T12:31:51.135Z"
   },
   {
    "duration": 112,
    "start_time": "2025-01-28T12:31:51.158Z"
   },
   {
    "duration": 60,
    "start_time": "2025-01-28T12:31:51.272Z"
   },
   {
    "duration": 46,
    "start_time": "2025-01-28T12:31:51.333Z"
   },
   {
    "duration": 36,
    "start_time": "2025-01-28T12:31:51.380Z"
   },
   {
    "duration": 38,
    "start_time": "2025-01-28T12:31:51.418Z"
   },
   {
    "duration": 37,
    "start_time": "2025-01-28T12:31:51.458Z"
   },
   {
    "duration": 152,
    "start_time": "2025-01-28T12:31:51.497Z"
   },
   {
    "duration": 4,
    "start_time": "2025-01-28T12:31:51.651Z"
   },
   {
    "duration": 24,
    "start_time": "2025-01-28T12:31:51.657Z"
   },
   {
    "duration": 32,
    "start_time": "2025-01-28T12:31:51.683Z"
   },
   {
    "duration": 29,
    "start_time": "2025-01-28T12:31:51.716Z"
   },
   {
    "duration": 23,
    "start_time": "2025-01-28T12:31:51.747Z"
   },
   {
    "duration": 81,
    "start_time": "2025-01-28T12:31:51.772Z"
   },
   {
    "duration": 12,
    "start_time": "2025-01-28T12:31:51.855Z"
   },
   {
    "duration": 15,
    "start_time": "2025-01-28T12:31:51.868Z"
   },
   {
    "duration": 26,
    "start_time": "2025-01-28T12:31:51.885Z"
   },
   {
    "duration": 25,
    "start_time": "2025-01-28T12:31:51.912Z"
   },
   {
    "duration": 19,
    "start_time": "2025-01-28T12:31:51.939Z"
   },
   {
    "duration": 13,
    "start_time": "2025-01-28T12:31:51.959Z"
   },
   {
    "duration": 109,
    "start_time": "2025-01-28T12:31:51.974Z"
   },
   {
    "duration": 0,
    "start_time": "2025-01-28T12:31:52.084Z"
   },
   {
    "duration": 112,
    "start_time": "2025-01-28T12:54:51.671Z"
   },
   {
    "duration": 3,
    "start_time": "2025-01-28T12:58:23.334Z"
   },
   {
    "duration": 84,
    "start_time": "2025-01-28T12:58:23.767Z"
   },
   {
    "duration": 12,
    "start_time": "2025-01-28T12:58:24.519Z"
   },
   {
    "duration": 10,
    "start_time": "2025-01-28T12:59:28.175Z"
   },
   {
    "duration": 12,
    "start_time": "2025-01-28T12:59:30.625Z"
   },
   {
    "duration": 4,
    "start_time": "2025-01-28T12:59:32.076Z"
   },
   {
    "duration": 10,
    "start_time": "2025-01-28T12:59:32.780Z"
   },
   {
    "duration": 9,
    "start_time": "2025-01-28T12:59:33.332Z"
   },
   {
    "duration": 12,
    "start_time": "2025-01-28T12:59:34.404Z"
   },
   {
    "duration": 10,
    "start_time": "2025-01-28T12:59:39.687Z"
   },
   {
    "duration": 8,
    "start_time": "2025-01-28T12:59:45.780Z"
   },
   {
    "duration": 25,
    "start_time": "2025-01-28T12:59:52.524Z"
   },
   {
    "duration": 11,
    "start_time": "2025-01-28T13:00:00.308Z"
   },
   {
    "duration": 72,
    "start_time": "2025-01-28T13:01:02.289Z"
   },
   {
    "duration": 12,
    "start_time": "2025-01-28T13:01:02.922Z"
   },
   {
    "duration": 94,
    "start_time": "2025-01-28T13:06:50.948Z"
   },
   {
    "duration": 11,
    "start_time": "2025-01-28T13:07:09.944Z"
   },
   {
    "duration": 17,
    "start_time": "2025-01-28T13:07:13.876Z"
   },
   {
    "duration": 2573,
    "start_time": "2025-01-28T13:08:10.089Z"
   },
   {
    "duration": 5,
    "start_time": "2025-01-28T13:08:26.009Z"
   },
   {
    "duration": 14,
    "start_time": "2025-01-28T13:08:34.274Z"
   },
   {
    "duration": 3,
    "start_time": "2025-01-28T13:08:51.790Z"
   },
   {
    "duration": 116,
    "start_time": "2025-01-28T13:08:52.415Z"
   },
   {
    "duration": 11,
    "start_time": "2025-01-28T13:08:53.315Z"
   },
   {
    "duration": 2561,
    "start_time": "2025-01-28T13:08:54.571Z"
   },
   {
    "duration": 15,
    "start_time": "2025-01-28T13:08:57.134Z"
   },
   {
    "duration": 5,
    "start_time": "2025-01-28T13:08:57.151Z"
   },
   {
    "duration": 3,
    "start_time": "2025-01-28T13:09:08.327Z"
   },
   {
    "duration": 118,
    "start_time": "2025-01-28T13:09:08.959Z"
   },
   {
    "duration": 11,
    "start_time": "2025-01-28T13:09:09.559Z"
   },
   {
    "duration": 2573,
    "start_time": "2025-01-28T13:09:10.271Z"
   },
   {
    "duration": 11,
    "start_time": "2025-01-28T13:09:12.849Z"
   },
   {
    "duration": 38,
    "start_time": "2025-01-28T13:09:12.862Z"
   },
   {
    "duration": 9,
    "start_time": "2025-01-28T13:10:02.216Z"
   },
   {
    "duration": 125,
    "start_time": "2025-01-28T13:10:02.893Z"
   },
   {
    "duration": 11,
    "start_time": "2025-01-28T13:10:03.504Z"
   },
   {
    "duration": 2586,
    "start_time": "2025-01-28T13:10:04.192Z"
   },
   {
    "duration": 10,
    "start_time": "2025-01-28T13:10:06.780Z"
   },
   {
    "duration": 2631,
    "start_time": "2025-01-28T13:10:30.909Z"
   },
   {
    "duration": 14,
    "start_time": "2025-01-28T13:10:33.542Z"
   },
   {
    "duration": 71,
    "start_time": "2025-01-28T13:10:33.558Z"
   },
   {
    "duration": 12,
    "start_time": "2025-01-28T13:11:02.469Z"
   },
   {
    "duration": 8,
    "start_time": "2025-01-28T13:11:24.586Z"
   },
   {
    "duration": 15,
    "start_time": "2025-01-28T13:11:33.865Z"
   },
   {
    "duration": 13,
    "start_time": "2025-01-28T13:11:47.458Z"
   },
   {
    "duration": 7,
    "start_time": "2025-01-28T13:12:10.658Z"
   },
   {
    "duration": 13,
    "start_time": "2025-01-28T13:25:15.069Z"
   },
   {
    "duration": 12,
    "start_time": "2025-01-28T13:25:30.509Z"
   },
   {
    "duration": 2345,
    "start_time": "2025-01-28T13:25:43.642Z"
   },
   {
    "duration": 9,
    "start_time": "2025-01-28T13:25:55.722Z"
   },
   {
    "duration": 82,
    "start_time": "2025-01-28T13:26:45.227Z"
   },
   {
    "duration": 12,
    "start_time": "2025-01-28T13:26:46.515Z"
   },
   {
    "duration": 88,
    "start_time": "2025-01-28T13:27:06.728Z"
   },
   {
    "duration": 1177,
    "start_time": "2025-01-28T13:27:13.824Z"
   },
   {
    "duration": 0,
    "start_time": "2025-01-28T13:27:15.003Z"
   },
   {
    "duration": 103,
    "start_time": "2025-01-28T13:28:04.964Z"
   },
   {
    "duration": 13,
    "start_time": "2025-01-28T13:28:05.649Z"
   },
   {
    "duration": 11,
    "start_time": "2025-01-28T13:28:22.917Z"
   },
   {
    "duration": 3,
    "start_time": "2025-01-28T13:28:37.085Z"
   },
   {
    "duration": 13570,
    "start_time": "2025-01-28T14:01:29.335Z"
   },
   {
    "duration": 0,
    "start_time": "2025-01-28T14:01:42.906Z"
   },
   {
    "duration": 4326,
    "start_time": "2025-01-28T14:02:28.710Z"
   },
   {
    "duration": 0,
    "start_time": "2025-01-28T14:02:33.037Z"
   },
   {
    "duration": 0,
    "start_time": "2025-01-28T14:02:33.038Z"
   },
   {
    "duration": 0,
    "start_time": "2025-01-28T14:02:33.039Z"
   },
   {
    "duration": 63,
    "start_time": "2025-01-28T14:03:15.075Z"
   },
   {
    "duration": 4,
    "start_time": "2025-01-28T14:03:18.746Z"
   },
   {
    "duration": 3,
    "start_time": "2025-01-28T14:03:19.363Z"
   },
   {
    "duration": 4,
    "start_time": "2025-01-28T14:03:19.865Z"
   },
   {
    "duration": 62,
    "start_time": "2025-01-28T14:04:18.440Z"
   },
   {
    "duration": 9,
    "start_time": "2025-01-28T14:04:36.319Z"
   },
   {
    "duration": 15,
    "start_time": "2025-01-28T14:05:13.796Z"
   },
   {
    "duration": 2110,
    "start_time": "2025-01-28T14:06:29.553Z"
   },
   {
    "duration": 1903,
    "start_time": "2025-01-28T14:06:41.190Z"
   },
   {
    "duration": 3489,
    "start_time": "2025-01-28T14:06:49.994Z"
   },
   {
    "duration": 42,
    "start_time": "2025-01-28T14:07:15.827Z"
   },
   {
    "duration": 4,
    "start_time": "2025-01-28T14:07:20.036Z"
   },
   {
    "duration": 3,
    "start_time": "2025-01-28T14:07:26.247Z"
   },
   {
    "duration": 93,
    "start_time": "2025-01-28T14:08:15.857Z"
   },
   {
    "duration": 89,
    "start_time": "2025-01-28T14:08:29.761Z"
   },
   {
    "duration": 75,
    "start_time": "2025-01-28T14:08:46.537Z"
   },
   {
    "duration": 192,
    "start_time": "2025-01-28T14:08:59.782Z"
   },
   {
    "duration": 4,
    "start_time": "2025-01-28T14:09:14.116Z"
   },
   {
    "duration": 7,
    "start_time": "2025-01-28T14:09:31.308Z"
   },
   {
    "duration": 4,
    "start_time": "2025-01-28T14:09:43.124Z"
   },
   {
    "duration": 30,
    "start_time": "2025-01-28T14:18:55.640Z"
   },
   {
    "duration": 11,
    "start_time": "2025-01-28T14:19:06.249Z"
   },
   {
    "duration": 24,
    "start_time": "2025-01-28T14:22:23.496Z"
   },
   {
    "duration": 39,
    "start_time": "2025-01-28T14:25:03.820Z"
   },
   {
    "duration": 17,
    "start_time": "2025-01-28T14:30:50.301Z"
   },
   {
    "duration": 23,
    "start_time": "2025-01-28T14:35:15.227Z"
   },
   {
    "duration": 3,
    "start_time": "2025-01-28T14:35:29.371Z"
   },
   {
    "duration": 5,
    "start_time": "2025-01-28T14:35:30.859Z"
   },
   {
    "duration": 101,
    "start_time": "2025-01-28T14:35:32.211Z"
   },
   {
    "duration": 8,
    "start_time": "2025-01-28T14:35:32.546Z"
   },
   {
    "duration": 24,
    "start_time": "2025-01-28T14:35:33.227Z"
   },
   {
    "duration": 5,
    "start_time": "2025-01-28T14:35:33.754Z"
   },
   {
    "duration": 5,
    "start_time": "2025-01-28T14:35:34.571Z"
   },
   {
    "duration": 61,
    "start_time": "2025-01-28T14:35:35.627Z"
   },
   {
    "duration": 5,
    "start_time": "2025-01-28T14:35:36.250Z"
   },
   {
    "duration": 13,
    "start_time": "2025-01-28T14:35:36.676Z"
   },
   {
    "duration": 11,
    "start_time": "2025-01-28T14:35:37.140Z"
   },
   {
    "duration": 42,
    "start_time": "2025-01-28T14:35:37.658Z"
   },
   {
    "duration": 74,
    "start_time": "2025-01-28T14:35:38.131Z"
   },
   {
    "duration": 11,
    "start_time": "2025-01-28T14:35:38.579Z"
   },
   {
    "duration": 12,
    "start_time": "2025-01-28T14:35:38.875Z"
   },
   {
    "duration": 61,
    "start_time": "2025-01-28T14:35:39.116Z"
   },
   {
    "duration": 16,
    "start_time": "2025-01-28T14:35:39.340Z"
   },
   {
    "duration": 14,
    "start_time": "2025-01-28T14:35:39.714Z"
   },
   {
    "duration": 286,
    "start_time": "2025-01-28T14:35:40.035Z"
   },
   {
    "duration": 11,
    "start_time": "2025-01-28T14:35:40.323Z"
   },
   {
    "duration": 25,
    "start_time": "2025-01-28T14:35:41.515Z"
   },
   {
    "duration": 14,
    "start_time": "2025-01-28T14:35:41.867Z"
   },
   {
    "duration": 37,
    "start_time": "2025-01-28T14:35:42.211Z"
   },
   {
    "duration": 20,
    "start_time": "2025-01-28T14:35:42.564Z"
   },
   {
    "duration": 2,
    "start_time": "2025-01-28T14:35:44.340Z"
   },
   {
    "duration": 9,
    "start_time": "2025-01-28T14:35:44.835Z"
   },
   {
    "duration": 6,
    "start_time": "2025-01-28T14:35:45.259Z"
   },
   {
    "duration": 17,
    "start_time": "2025-01-28T14:35:45.638Z"
   },
   {
    "duration": 7,
    "start_time": "2025-01-28T14:35:45.972Z"
   },
   {
    "duration": 3,
    "start_time": "2025-01-28T14:35:46.732Z"
   },
   {
    "duration": 8,
    "start_time": "2025-01-28T14:35:47.275Z"
   },
   {
    "duration": 137,
    "start_time": "2025-01-28T14:35:47.620Z"
   },
   {
    "duration": 3,
    "start_time": "2025-01-28T14:35:50.699Z"
   },
   {
    "duration": 3,
    "start_time": "2025-01-28T14:35:51.012Z"
   },
   {
    "duration": 4,
    "start_time": "2025-01-28T14:35:51.459Z"
   },
   {
    "duration": 9,
    "start_time": "2025-01-28T14:35:51.804Z"
   },
   {
    "duration": 10,
    "start_time": "2025-01-28T14:35:52.843Z"
   },
   {
    "duration": 104,
    "start_time": "2025-01-28T14:35:53.308Z"
   },
   {
    "duration": 4,
    "start_time": "2025-01-28T14:35:53.612Z"
   },
   {
    "duration": 40,
    "start_time": "2025-01-28T14:35:56.986Z"
   },
   {
    "duration": 4,
    "start_time": "2025-01-28T14:35:57.508Z"
   },
   {
    "duration": 3,
    "start_time": "2025-01-28T14:35:58.048Z"
   },
   {
    "duration": 3,
    "start_time": "2025-01-28T14:35:58.452Z"
   },
   {
    "duration": 50,
    "start_time": "2025-01-28T14:35:58.732Z"
   },
   {
    "duration": 13,
    "start_time": "2025-01-28T14:35:59.372Z"
   },
   {
    "duration": 42,
    "start_time": "2025-01-28T14:35:59.788Z"
   },
   {
    "duration": 5,
    "start_time": "2025-01-28T14:36:00.052Z"
   },
   {
    "duration": 5,
    "start_time": "2025-01-28T14:36:00.480Z"
   },
   {
    "duration": 35,
    "start_time": "2025-01-28T14:36:01.643Z"
   },
   {
    "duration": 213,
    "start_time": "2025-01-28T14:38:16.054Z"
   },
   {
    "duration": 89,
    "start_time": "2025-01-28T14:38:23.798Z"
   },
   {
    "duration": 26,
    "start_time": "2025-01-28T14:38:57.539Z"
   },
   {
    "duration": 61,
    "start_time": "2025-01-28T14:38:59.732Z"
   },
   {
    "duration": 2404,
    "start_time": "2025-01-28T14:39:06.098Z"
   },
   {
    "duration": 391,
    "start_time": "2025-01-28T14:39:08.505Z"
   },
   {
    "duration": 745,
    "start_time": "2025-01-28T14:39:08.898Z"
   },
   {
    "duration": 46,
    "start_time": "2025-01-28T14:39:09.648Z"
   },
   {
    "duration": 1875,
    "start_time": "2025-01-28T14:39:09.695Z"
   },
   {
    "duration": 11,
    "start_time": "2025-01-28T14:39:11.572Z"
   },
   {
    "duration": 18,
    "start_time": "2025-01-28T14:39:11.584Z"
   },
   {
    "duration": 189,
    "start_time": "2025-01-28T14:39:11.604Z"
   },
   {
    "duration": 23,
    "start_time": "2025-01-28T14:39:11.794Z"
   },
   {
    "duration": 104,
    "start_time": "2025-01-28T14:39:11.820Z"
   },
   {
    "duration": 9,
    "start_time": "2025-01-28T14:39:11.926Z"
   },
   {
    "duration": 69,
    "start_time": "2025-01-28T14:39:11.947Z"
   },
   {
    "duration": 6,
    "start_time": "2025-01-28T14:39:12.018Z"
   },
   {
    "duration": 49,
    "start_time": "2025-01-28T14:39:12.026Z"
   },
   {
    "duration": 7,
    "start_time": "2025-01-28T14:39:12.077Z"
   },
   {
    "duration": 77,
    "start_time": "2025-01-28T14:39:12.086Z"
   },
   {
    "duration": 9,
    "start_time": "2025-01-28T14:39:12.165Z"
   },
   {
    "duration": 34,
    "start_time": "2025-01-28T14:39:12.175Z"
   },
   {
    "duration": 31,
    "start_time": "2025-01-28T14:39:12.210Z"
   },
   {
    "duration": 29,
    "start_time": "2025-01-28T14:39:12.243Z"
   },
   {
    "duration": 4,
    "start_time": "2025-01-28T14:39:12.273Z"
   },
   {
    "duration": 43,
    "start_time": "2025-01-28T14:39:12.278Z"
   },
   {
    "duration": 199,
    "start_time": "2025-01-28T14:39:12.323Z"
   },
   {
    "duration": 4,
    "start_time": "2025-01-28T14:39:12.523Z"
   },
   {
    "duration": 34,
    "start_time": "2025-01-28T14:39:12.529Z"
   },
   {
    "duration": 32,
    "start_time": "2025-01-28T14:39:12.565Z"
   },
   {
    "duration": 14,
    "start_time": "2025-01-28T14:39:12.599Z"
   },
   {
    "duration": 179,
    "start_time": "2025-01-28T14:39:12.616Z"
   },
   {
    "duration": 4,
    "start_time": "2025-01-28T14:39:12.797Z"
   },
   {
    "duration": 31,
    "start_time": "2025-01-28T14:39:12.802Z"
   },
   {
    "duration": 68,
    "start_time": "2025-01-28T14:39:12.835Z"
   },
   {
    "duration": 126,
    "start_time": "2025-01-28T14:39:12.905Z"
   },
   {
    "duration": 278,
    "start_time": "2025-01-28T14:39:13.033Z"
   },
   {
    "duration": 26,
    "start_time": "2025-01-28T14:39:13.312Z"
   },
   {
    "duration": 52,
    "start_time": "2025-01-28T14:39:13.348Z"
   },
   {
    "duration": 143,
    "start_time": "2025-01-28T14:39:13.402Z"
   },
   {
    "duration": 17,
    "start_time": "2025-01-28T14:39:13.547Z"
   },
   {
    "duration": 11,
    "start_time": "2025-01-28T14:39:13.566Z"
   },
   {
    "duration": 191,
    "start_time": "2025-01-28T14:39:13.579Z"
   },
   {
    "duration": 11,
    "start_time": "2025-01-28T14:39:13.772Z"
   },
   {
    "duration": 15,
    "start_time": "2025-01-28T14:39:13.784Z"
   },
   {
    "duration": 9,
    "start_time": "2025-01-28T14:39:13.801Z"
   },
   {
    "duration": 127,
    "start_time": "2025-01-28T14:39:13.812Z"
   },
   {
    "duration": 18,
    "start_time": "2025-01-28T14:39:13.941Z"
   },
   {
    "duration": 3,
    "start_time": "2025-01-28T14:39:13.960Z"
   },
   {
    "duration": 12,
    "start_time": "2025-01-28T14:39:13.964Z"
   },
   {
    "duration": 9,
    "start_time": "2025-01-28T14:39:13.977Z"
   },
   {
    "duration": 16,
    "start_time": "2025-01-28T14:39:13.987Z"
   },
   {
    "duration": 8,
    "start_time": "2025-01-28T14:39:14.005Z"
   },
   {
    "duration": 37,
    "start_time": "2025-01-28T14:39:14.015Z"
   },
   {
    "duration": 25,
    "start_time": "2025-01-28T14:39:14.055Z"
   },
   {
    "duration": 169,
    "start_time": "2025-01-28T14:39:14.082Z"
   },
   {
    "duration": 3,
    "start_time": "2025-01-28T14:39:14.253Z"
   },
   {
    "duration": 9,
    "start_time": "2025-01-28T14:39:14.258Z"
   },
   {
    "duration": 8,
    "start_time": "2025-01-28T14:39:14.268Z"
   },
   {
    "duration": 10,
    "start_time": "2025-01-28T14:39:14.277Z"
   },
   {
    "duration": 14,
    "start_time": "2025-01-28T14:39:14.288Z"
   },
   {
    "duration": 137,
    "start_time": "2025-01-28T14:39:14.304Z"
   },
   {
    "duration": 6,
    "start_time": "2025-01-28T14:39:14.443Z"
   },
   {
    "duration": 42,
    "start_time": "2025-01-28T14:39:14.450Z"
   },
   {
    "duration": 3,
    "start_time": "2025-01-28T14:39:14.494Z"
   },
   {
    "duration": 12,
    "start_time": "2025-01-28T14:39:14.498Z"
   },
   {
    "duration": 6,
    "start_time": "2025-01-28T14:39:14.511Z"
   },
   {
    "duration": 60,
    "start_time": "2025-01-28T14:39:14.518Z"
   },
   {
    "duration": 14,
    "start_time": "2025-01-28T14:39:14.580Z"
   },
   {
    "duration": 63,
    "start_time": "2025-01-28T14:39:14.596Z"
   },
   {
    "duration": 5,
    "start_time": "2025-01-28T14:39:14.660Z"
   },
   {
    "duration": 6,
    "start_time": "2025-01-28T14:39:14.666Z"
   },
   {
    "duration": 34,
    "start_time": "2025-01-28T14:39:14.673Z"
   },
   {
    "duration": 216,
    "start_time": "2025-01-28T14:39:14.709Z"
   },
   {
    "duration": 102,
    "start_time": "2025-01-28T14:39:14.927Z"
   },
   {
    "duration": 9,
    "start_time": "2025-01-28T14:40:46.484Z"
   },
   {
    "duration": 108,
    "start_time": "2025-01-28T14:40:46.940Z"
   },
   {
    "duration": 5,
    "start_time": "2025-01-28T14:40:47.572Z"
   },
   {
    "duration": 11,
    "start_time": "2025-01-28T14:40:58.766Z"
   },
   {
    "duration": 13,
    "start_time": "2025-01-28T14:41:20.018Z"
   },
   {
    "duration": 33,
    "start_time": "2025-01-28T14:41:27.290Z"
   },
   {
    "duration": 5,
    "start_time": "2025-01-28T14:41:27.882Z"
   },
   {
    "duration": 25,
    "start_time": "2025-01-28T14:52:48.452Z"
   },
   {
    "duration": 47,
    "start_time": "2025-01-28T14:54:57.102Z"
   },
   {
    "duration": 13,
    "start_time": "2025-01-28T14:54:59.046Z"
   },
   {
    "duration": 13,
    "start_time": "2025-01-28T14:55:08.141Z"
   },
   {
    "duration": 26,
    "start_time": "2025-01-28T14:55:10.778Z"
   },
   {
    "duration": 17,
    "start_time": "2025-01-28T14:55:12.282Z"
   },
   {
    "duration": 110,
    "start_time": "2025-01-28T14:55:26.714Z"
   },
   {
    "duration": 24,
    "start_time": "2025-01-28T14:55:38.861Z"
   },
   {
    "duration": 2357,
    "start_time": "2025-01-28T14:55:42.662Z"
   },
   {
    "duration": 403,
    "start_time": "2025-01-28T14:55:45.021Z"
   },
   {
    "duration": 778,
    "start_time": "2025-01-28T14:55:45.426Z"
   },
   {
    "duration": 52,
    "start_time": "2025-01-28T14:55:46.206Z"
   },
   {
    "duration": 2154,
    "start_time": "2025-01-28T14:55:46.259Z"
   },
   {
    "duration": 14,
    "start_time": "2025-01-28T14:55:48.416Z"
   },
   {
    "duration": 22,
    "start_time": "2025-01-28T14:55:48.432Z"
   },
   {
    "duration": 188,
    "start_time": "2025-01-28T14:55:48.456Z"
   },
   {
    "duration": 22,
    "start_time": "2025-01-28T14:55:48.645Z"
   },
   {
    "duration": 96,
    "start_time": "2025-01-28T14:55:48.670Z"
   },
   {
    "duration": 9,
    "start_time": "2025-01-28T14:55:48.767Z"
   },
   {
    "duration": 85,
    "start_time": "2025-01-28T14:55:48.777Z"
   },
   {
    "duration": 7,
    "start_time": "2025-01-28T14:55:48.864Z"
   },
   {
    "duration": 40,
    "start_time": "2025-01-28T14:55:48.872Z"
   },
   {
    "duration": 6,
    "start_time": "2025-01-28T14:55:48.914Z"
   },
   {
    "duration": 53,
    "start_time": "2025-01-28T14:55:48.922Z"
   },
   {
    "duration": 9,
    "start_time": "2025-01-28T14:55:48.977Z"
   },
   {
    "duration": 35,
    "start_time": "2025-01-28T14:55:48.987Z"
   },
   {
    "duration": 38,
    "start_time": "2025-01-28T14:55:49.024Z"
   },
   {
    "duration": 44,
    "start_time": "2025-01-28T14:55:49.064Z"
   },
   {
    "duration": 4,
    "start_time": "2025-01-28T14:55:49.109Z"
   },
   {
    "duration": 14,
    "start_time": "2025-01-28T14:55:49.114Z"
   },
   {
    "duration": 186,
    "start_time": "2025-01-28T14:55:49.129Z"
   },
   {
    "duration": 4,
    "start_time": "2025-01-28T14:55:49.317Z"
   },
   {
    "duration": 113,
    "start_time": "2025-01-28T14:55:49.323Z"
   },
   {
    "duration": 123,
    "start_time": "2025-01-28T14:55:49.438Z"
   },
   {
    "duration": 8,
    "start_time": "2025-01-28T14:55:49.563Z"
   },
   {
    "duration": 170,
    "start_time": "2025-01-28T14:55:49.576Z"
   },
   {
    "duration": 4,
    "start_time": "2025-01-28T14:55:49.748Z"
   },
   {
    "duration": 23,
    "start_time": "2025-01-28T14:55:49.754Z"
   },
   {
    "duration": 50,
    "start_time": "2025-01-28T14:55:49.779Z"
   },
   {
    "duration": 127,
    "start_time": "2025-01-28T14:55:49.830Z"
   },
   {
    "duration": 280,
    "start_time": "2025-01-28T14:55:49.959Z"
   },
   {
    "duration": 31,
    "start_time": "2025-01-28T14:55:50.241Z"
   },
   {
    "duration": 44,
    "start_time": "2025-01-28T14:55:50.274Z"
   },
   {
    "duration": 65,
    "start_time": "2025-01-28T14:55:50.320Z"
   },
   {
    "duration": 18,
    "start_time": "2025-01-28T14:55:50.386Z"
   },
   {
    "duration": 15,
    "start_time": "2025-01-28T14:55:50.406Z"
   },
   {
    "duration": 197,
    "start_time": "2025-01-28T14:55:50.423Z"
   },
   {
    "duration": 10,
    "start_time": "2025-01-28T14:55:50.622Z"
   },
   {
    "duration": 28,
    "start_time": "2025-01-28T14:55:50.633Z"
   },
   {
    "duration": 18,
    "start_time": "2025-01-28T14:55:50.662Z"
   },
   {
    "duration": 119,
    "start_time": "2025-01-28T14:55:50.682Z"
   },
   {
    "duration": 24,
    "start_time": "2025-01-28T14:55:50.803Z"
   },
   {
    "duration": 3,
    "start_time": "2025-01-28T14:55:50.829Z"
   },
   {
    "duration": 31,
    "start_time": "2025-01-28T14:55:50.834Z"
   },
   {
    "duration": 36,
    "start_time": "2025-01-28T14:55:50.867Z"
   },
   {
    "duration": 20,
    "start_time": "2025-01-28T14:55:50.905Z"
   },
   {
    "duration": 11,
    "start_time": "2025-01-28T14:55:50.927Z"
   },
   {
    "duration": 39,
    "start_time": "2025-01-28T14:55:50.939Z"
   },
   {
    "duration": 53,
    "start_time": "2025-01-28T14:55:50.980Z"
   },
   {
    "duration": 199,
    "start_time": "2025-01-28T14:55:51.034Z"
   },
   {
    "duration": 3,
    "start_time": "2025-01-28T14:55:51.235Z"
   },
   {
    "duration": 153,
    "start_time": "2025-01-28T14:55:51.239Z"
   },
   {
    "duration": 224,
    "start_time": "2025-01-28T14:55:51.394Z"
   },
   {
    "duration": 23,
    "start_time": "2025-01-28T14:55:51.620Z"
   },
   {
    "duration": 150,
    "start_time": "2025-01-28T14:55:51.645Z"
   },
   {
    "duration": 0,
    "start_time": "2025-01-28T14:55:51.797Z"
   },
   {
    "duration": 0,
    "start_time": "2025-01-28T14:55:51.798Z"
   },
   {
    "duration": 0,
    "start_time": "2025-01-28T14:55:51.799Z"
   },
   {
    "duration": 0,
    "start_time": "2025-01-28T14:55:51.800Z"
   },
   {
    "duration": 0,
    "start_time": "2025-01-28T14:55:51.801Z"
   },
   {
    "duration": 0,
    "start_time": "2025-01-28T14:55:51.803Z"
   },
   {
    "duration": 0,
    "start_time": "2025-01-28T14:55:51.804Z"
   },
   {
    "duration": 0,
    "start_time": "2025-01-28T14:55:51.804Z"
   },
   {
    "duration": 0,
    "start_time": "2025-01-28T14:55:51.805Z"
   },
   {
    "duration": 0,
    "start_time": "2025-01-28T14:55:51.806Z"
   },
   {
    "duration": 0,
    "start_time": "2025-01-28T14:55:51.807Z"
   },
   {
    "duration": 0,
    "start_time": "2025-01-28T14:55:51.808Z"
   },
   {
    "duration": 0,
    "start_time": "2025-01-28T14:55:51.809Z"
   },
   {
    "duration": 0,
    "start_time": "2025-01-28T14:55:51.811Z"
   },
   {
    "duration": 0,
    "start_time": "2025-01-28T14:55:51.812Z"
   },
   {
    "duration": 27,
    "start_time": "2025-01-28T14:56:06.320Z"
   },
   {
    "duration": 14,
    "start_time": "2025-01-28T14:56:07.239Z"
   },
   {
    "duration": 26,
    "start_time": "2025-01-28T14:56:07.903Z"
   },
   {
    "duration": 19,
    "start_time": "2025-01-28T14:56:50.004Z"
   },
   {
    "duration": 13,
    "start_time": "2025-01-28T14:56:50.828Z"
   },
   {
    "duration": 29,
    "start_time": "2025-01-28T14:56:51.587Z"
   },
   {
    "duration": 26,
    "start_time": "2025-01-28T14:57:01.029Z"
   },
   {
    "duration": 18,
    "start_time": "2025-01-28T14:57:01.565Z"
   },
   {
    "duration": 19,
    "start_time": "2025-01-28T14:57:04.877Z"
   },
   {
    "duration": 18,
    "start_time": "2025-01-28T14:57:20.125Z"
   },
   {
    "duration": 13,
    "start_time": "2025-01-28T14:57:20.637Z"
   },
   {
    "duration": 24,
    "start_time": "2025-01-28T14:57:21.156Z"
   },
   {
    "duration": 18,
    "start_time": "2025-01-28T14:57:21.908Z"
   },
   {
    "duration": 8,
    "start_time": "2025-01-28T14:57:30.061Z"
   },
   {
    "duration": 20,
    "start_time": "2025-01-28T14:57:30.437Z"
   },
   {
    "duration": 25,
    "start_time": "2025-01-28T14:57:31.013Z"
   },
   {
    "duration": 21,
    "start_time": "2025-01-28T14:57:33.725Z"
   },
   {
    "duration": 21,
    "start_time": "2025-01-28T14:58:01.202Z"
   },
   {
    "duration": 54,
    "start_time": "2025-01-28T14:58:48.859Z"
   },
   {
    "duration": 7,
    "start_time": "2025-01-28T15:00:42.653Z"
   },
   {
    "duration": 20,
    "start_time": "2025-01-28T15:00:48.677Z"
   },
   {
    "duration": 9,
    "start_time": "2025-01-28T15:01:11.237Z"
   },
   {
    "duration": 9,
    "start_time": "2025-01-28T15:01:16.561Z"
   },
   {
    "duration": 27,
    "start_time": "2025-01-28T15:02:57.815Z"
   },
   {
    "duration": 7,
    "start_time": "2025-01-28T15:03:08.807Z"
   },
   {
    "duration": 8,
    "start_time": "2025-01-28T15:10:50.937Z"
   },
   {
    "duration": 7,
    "start_time": "2025-01-28T15:11:04.977Z"
   },
   {
    "duration": 26,
    "start_time": "2025-01-28T15:11:39.990Z"
   },
   {
    "duration": 5,
    "start_time": "2025-01-28T15:11:45.781Z"
   },
   {
    "duration": 14,
    "start_time": "2025-01-28T15:12:09.971Z"
   },
   {
    "duration": 13,
    "start_time": "2025-01-28T15:12:18.811Z"
   },
   {
    "duration": 13,
    "start_time": "2025-01-28T15:12:25.419Z"
   },
   {
    "duration": 13,
    "start_time": "2025-01-28T15:12:48.651Z"
   },
   {
    "duration": 13,
    "start_time": "2025-01-28T15:14:25.009Z"
   },
   {
    "duration": 5,
    "start_time": "2025-01-28T15:15:47.059Z"
   },
   {
    "duration": 37,
    "start_time": "2025-01-28T15:16:23.283Z"
   },
   {
    "duration": 26,
    "start_time": "2025-01-28T15:16:29.227Z"
   },
   {
    "duration": 2372,
    "start_time": "2025-01-28T15:18:31.361Z"
   },
   {
    "duration": 422,
    "start_time": "2025-01-28T15:18:33.736Z"
   },
   {
    "duration": 773,
    "start_time": "2025-01-28T15:18:34.160Z"
   },
   {
    "duration": 77,
    "start_time": "2025-01-28T15:18:34.935Z"
   },
   {
    "duration": 2764,
    "start_time": "2025-01-28T15:18:35.016Z"
   },
   {
    "duration": 11,
    "start_time": "2025-01-28T15:18:37.782Z"
   },
   {
    "duration": 16,
    "start_time": "2025-01-28T15:18:37.795Z"
   },
   {
    "duration": 177,
    "start_time": "2025-01-28T15:18:37.812Z"
   },
   {
    "duration": 22,
    "start_time": "2025-01-28T15:18:37.990Z"
   },
   {
    "duration": 105,
    "start_time": "2025-01-28T15:18:38.015Z"
   },
   {
    "duration": 8,
    "start_time": "2025-01-28T15:18:38.121Z"
   },
   {
    "duration": 79,
    "start_time": "2025-01-28T15:18:38.130Z"
   },
   {
    "duration": 7,
    "start_time": "2025-01-28T15:18:38.211Z"
   },
   {
    "duration": 49,
    "start_time": "2025-01-28T15:18:38.219Z"
   },
   {
    "duration": 10,
    "start_time": "2025-01-28T15:18:38.270Z"
   },
   {
    "duration": 69,
    "start_time": "2025-01-28T15:18:38.282Z"
   },
   {
    "duration": 27,
    "start_time": "2025-01-28T15:18:38.352Z"
   },
   {
    "duration": 42,
    "start_time": "2025-01-28T15:18:38.380Z"
   },
   {
    "duration": 6,
    "start_time": "2025-01-28T15:18:38.423Z"
   },
   {
    "duration": 16,
    "start_time": "2025-01-28T15:18:38.431Z"
   },
   {
    "duration": 10,
    "start_time": "2025-01-28T15:18:38.448Z"
   },
   {
    "duration": 15,
    "start_time": "2025-01-28T15:18:38.459Z"
   },
   {
    "duration": 177,
    "start_time": "2025-01-28T15:18:38.475Z"
   },
   {
    "duration": 4,
    "start_time": "2025-01-28T15:18:38.654Z"
   },
   {
    "duration": 47,
    "start_time": "2025-01-28T15:18:38.660Z"
   },
   {
    "duration": 5,
    "start_time": "2025-01-28T15:18:38.709Z"
   },
   {
    "duration": 6,
    "start_time": "2025-01-28T15:18:38.716Z"
   },
   {
    "duration": 158,
    "start_time": "2025-01-28T15:18:38.727Z"
   },
   {
    "duration": 3,
    "start_time": "2025-01-28T15:18:38.887Z"
   },
   {
    "duration": 13,
    "start_time": "2025-01-28T15:18:38.892Z"
   },
   {
    "duration": 47,
    "start_time": "2025-01-28T15:18:38.907Z"
   },
   {
    "duration": 145,
    "start_time": "2025-01-28T15:18:38.955Z"
   },
   {
    "duration": 268,
    "start_time": "2025-01-28T15:18:39.101Z"
   },
   {
    "duration": 25,
    "start_time": "2025-01-28T15:18:39.371Z"
   },
   {
    "duration": 17,
    "start_time": "2025-01-28T15:18:39.397Z"
   },
   {
    "duration": 162,
    "start_time": "2025-01-28T15:18:39.415Z"
   },
   {
    "duration": 130,
    "start_time": "2025-01-28T15:18:39.579Z"
   },
   {
    "duration": 15,
    "start_time": "2025-01-28T15:18:39.710Z"
   },
   {
    "duration": 186,
    "start_time": "2025-01-28T15:18:39.727Z"
   },
   {
    "duration": 11,
    "start_time": "2025-01-28T15:18:39.915Z"
   },
   {
    "duration": 32,
    "start_time": "2025-01-28T15:18:39.927Z"
   },
   {
    "duration": 10,
    "start_time": "2025-01-28T15:18:39.961Z"
   },
   {
    "duration": 112,
    "start_time": "2025-01-28T15:18:39.973Z"
   },
   {
    "duration": 20,
    "start_time": "2025-01-28T15:18:40.087Z"
   },
   {
    "duration": 5,
    "start_time": "2025-01-28T15:18:40.109Z"
   },
   {
    "duration": 12,
    "start_time": "2025-01-28T15:18:40.116Z"
   },
   {
    "duration": 23,
    "start_time": "2025-01-28T15:18:40.131Z"
   },
   {
    "duration": 21,
    "start_time": "2025-01-28T15:18:40.156Z"
   },
   {
    "duration": 10,
    "start_time": "2025-01-28T15:18:40.179Z"
   },
   {
    "duration": 4,
    "start_time": "2025-01-28T15:18:40.191Z"
   },
   {
    "duration": 14,
    "start_time": "2025-01-28T15:18:40.196Z"
   },
   {
    "duration": 245,
    "start_time": "2025-01-28T15:18:40.212Z"
   },
   {
    "duration": 4,
    "start_time": "2025-01-28T15:18:40.459Z"
   },
   {
    "duration": 6,
    "start_time": "2025-01-28T15:18:40.465Z"
   },
   {
    "duration": 4,
    "start_time": "2025-01-28T15:18:40.473Z"
   },
   {
    "duration": 9,
    "start_time": "2025-01-28T15:18:40.479Z"
   },
   {
    "duration": 10,
    "start_time": "2025-01-28T15:18:40.489Z"
   },
   {
    "duration": 12,
    "start_time": "2025-01-28T15:18:40.501Z"
   },
   {
    "duration": 141,
    "start_time": "2025-01-28T15:18:40.515Z"
   },
   {
    "duration": 0,
    "start_time": "2025-01-28T15:18:40.657Z"
   },
   {
    "duration": 0,
    "start_time": "2025-01-28T15:18:40.658Z"
   },
   {
    "duration": 0,
    "start_time": "2025-01-28T15:18:40.660Z"
   },
   {
    "duration": 0,
    "start_time": "2025-01-28T15:18:40.661Z"
   },
   {
    "duration": 0,
    "start_time": "2025-01-28T15:18:40.662Z"
   },
   {
    "duration": 0,
    "start_time": "2025-01-28T15:18:40.663Z"
   },
   {
    "duration": 0,
    "start_time": "2025-01-28T15:18:40.663Z"
   },
   {
    "duration": 0,
    "start_time": "2025-01-28T15:18:40.664Z"
   },
   {
    "duration": 0,
    "start_time": "2025-01-28T15:18:40.666Z"
   },
   {
    "duration": 0,
    "start_time": "2025-01-28T15:18:40.667Z"
   },
   {
    "duration": 0,
    "start_time": "2025-01-28T15:18:40.668Z"
   },
   {
    "duration": 0,
    "start_time": "2025-01-28T15:18:40.669Z"
   },
   {
    "duration": 0,
    "start_time": "2025-01-28T15:18:40.670Z"
   },
   {
    "duration": 0,
    "start_time": "2025-01-28T15:18:40.671Z"
   },
   {
    "duration": 0,
    "start_time": "2025-01-28T15:18:40.672Z"
   },
   {
    "duration": 0,
    "start_time": "2025-01-28T15:18:40.673Z"
   },
   {
    "duration": 0,
    "start_time": "2025-01-28T15:18:40.675Z"
   },
   {
    "duration": 0,
    "start_time": "2025-01-28T15:18:40.676Z"
   },
   {
    "duration": 0,
    "start_time": "2025-01-28T15:18:40.677Z"
   },
   {
    "duration": 0,
    "start_time": "2025-01-28T15:18:40.678Z"
   },
   {
    "duration": 0,
    "start_time": "2025-01-28T15:18:40.679Z"
   },
   {
    "duration": 0,
    "start_time": "2025-01-28T15:18:40.681Z"
   },
   {
    "duration": 0,
    "start_time": "2025-01-28T15:18:40.682Z"
   },
   {
    "duration": 8,
    "start_time": "2025-01-28T15:21:14.129Z"
   },
   {
    "duration": 13,
    "start_time": "2025-01-28T15:21:14.465Z"
   },
   {
    "duration": 8,
    "start_time": "2025-01-28T15:21:14.883Z"
   },
   {
    "duration": 11,
    "start_time": "2025-01-28T15:21:15.177Z"
   },
   {
    "duration": 11,
    "start_time": "2025-01-28T15:21:15.489Z"
   },
   {
    "duration": 8,
    "start_time": "2025-01-28T15:21:17.857Z"
   },
   {
    "duration": 8,
    "start_time": "2025-01-28T15:21:18.207Z"
   },
   {
    "duration": 8,
    "start_time": "2025-01-28T15:21:18.569Z"
   },
   {
    "duration": 7,
    "start_time": "2025-01-28T15:21:18.897Z"
   },
   {
    "duration": 9,
    "start_time": "2025-01-28T15:21:19.257Z"
   },
   {
    "duration": 9,
    "start_time": "2025-01-28T15:21:19.696Z"
   },
   {
    "duration": 2370,
    "start_time": "2025-01-28T15:21:25.200Z"
   },
   {
    "duration": 379,
    "start_time": "2025-01-28T15:21:27.572Z"
   },
   {
    "duration": 737,
    "start_time": "2025-01-28T15:21:27.953Z"
   },
   {
    "duration": 70,
    "start_time": "2025-01-28T15:21:28.692Z"
   },
   {
    "duration": 2056,
    "start_time": "2025-01-28T15:21:28.764Z"
   },
   {
    "duration": 12,
    "start_time": "2025-01-28T15:21:30.821Z"
   },
   {
    "duration": 17,
    "start_time": "2025-01-28T15:21:30.834Z"
   },
   {
    "duration": 206,
    "start_time": "2025-01-28T15:21:30.853Z"
   },
   {
    "duration": 23,
    "start_time": "2025-01-28T15:21:31.060Z"
   },
   {
    "duration": 121,
    "start_time": "2025-01-28T15:21:31.086Z"
   },
   {
    "duration": 9,
    "start_time": "2025-01-28T15:21:31.208Z"
   },
   {
    "duration": 91,
    "start_time": "2025-01-28T15:21:31.218Z"
   },
   {
    "duration": 7,
    "start_time": "2025-01-28T15:21:31.311Z"
   },
   {
    "duration": 130,
    "start_time": "2025-01-28T15:21:31.320Z"
   },
   {
    "duration": 150,
    "start_time": "2025-01-28T15:21:31.452Z"
   },
   {
    "duration": 164,
    "start_time": "2025-01-28T15:21:31.604Z"
   },
   {
    "duration": 10,
    "start_time": "2025-01-28T15:21:31.769Z"
   },
   {
    "duration": 30,
    "start_time": "2025-01-28T15:21:31.780Z"
   },
   {
    "duration": 12,
    "start_time": "2025-01-28T15:21:31.812Z"
   },
   {
    "duration": 27,
    "start_time": "2025-01-28T15:21:31.826Z"
   },
   {
    "duration": 5,
    "start_time": "2025-01-28T15:21:31.855Z"
   },
   {
    "duration": 27,
    "start_time": "2025-01-28T15:21:31.861Z"
   },
   {
    "duration": 189,
    "start_time": "2025-01-28T15:21:31.889Z"
   },
   {
    "duration": 5,
    "start_time": "2025-01-28T15:21:32.079Z"
   },
   {
    "duration": 25,
    "start_time": "2025-01-28T15:21:32.085Z"
   },
   {
    "duration": 8,
    "start_time": "2025-01-28T15:21:32.112Z"
   },
   {
    "duration": 11,
    "start_time": "2025-01-28T15:21:32.121Z"
   },
   {
    "duration": 151,
    "start_time": "2025-01-28T15:21:32.149Z"
   },
   {
    "duration": 4,
    "start_time": "2025-01-28T15:21:32.302Z"
   },
   {
    "duration": 22,
    "start_time": "2025-01-28T15:21:32.308Z"
   },
   {
    "duration": 49,
    "start_time": "2025-01-28T15:21:32.332Z"
   },
   {
    "duration": 145,
    "start_time": "2025-01-28T15:21:32.383Z"
   },
   {
    "duration": 273,
    "start_time": "2025-01-28T15:21:32.530Z"
   },
   {
    "duration": 27,
    "start_time": "2025-01-28T15:21:32.805Z"
   },
   {
    "duration": 31,
    "start_time": "2025-01-28T15:21:32.834Z"
   },
   {
    "duration": 87,
    "start_time": "2025-01-28T15:21:32.867Z"
   },
   {
    "duration": 19,
    "start_time": "2025-01-28T15:21:32.956Z"
   },
   {
    "duration": 31,
    "start_time": "2025-01-28T15:21:32.977Z"
   },
   {
    "duration": 200,
    "start_time": "2025-01-28T15:21:33.010Z"
   },
   {
    "duration": 11,
    "start_time": "2025-01-28T15:21:33.212Z"
   },
   {
    "duration": 31,
    "start_time": "2025-01-28T15:21:33.224Z"
   },
   {
    "duration": 10,
    "start_time": "2025-01-28T15:21:33.257Z"
   },
   {
    "duration": 113,
    "start_time": "2025-01-28T15:21:33.268Z"
   },
   {
    "duration": 50,
    "start_time": "2025-01-28T15:21:33.382Z"
   },
   {
    "duration": 120,
    "start_time": "2025-01-28T15:21:33.434Z"
   },
   {
    "duration": 144,
    "start_time": "2025-01-28T15:21:33.556Z"
   },
   {
    "duration": 22,
    "start_time": "2025-01-28T15:21:33.701Z"
   },
   {
    "duration": 16,
    "start_time": "2025-01-28T15:21:33.724Z"
   },
   {
    "duration": 8,
    "start_time": "2025-01-28T15:21:33.741Z"
   },
   {
    "duration": 4,
    "start_time": "2025-01-28T15:21:33.750Z"
   },
   {
    "duration": 30,
    "start_time": "2025-01-28T15:21:33.756Z"
   },
   {
    "duration": 153,
    "start_time": "2025-01-28T15:21:33.788Z"
   },
   {
    "duration": 3,
    "start_time": "2025-01-28T15:21:33.948Z"
   },
   {
    "duration": 16,
    "start_time": "2025-01-28T15:21:33.953Z"
   },
   {
    "duration": 26,
    "start_time": "2025-01-28T15:21:33.970Z"
   },
   {
    "duration": 28,
    "start_time": "2025-01-28T15:21:33.997Z"
   },
   {
    "duration": 9,
    "start_time": "2025-01-28T15:21:34.027Z"
   },
   {
    "duration": 23,
    "start_time": "2025-01-28T15:21:34.037Z"
   },
   {
    "duration": 106,
    "start_time": "2025-01-28T15:21:34.061Z"
   },
   {
    "duration": 0,
    "start_time": "2025-01-28T15:21:34.169Z"
   },
   {
    "duration": 0,
    "start_time": "2025-01-28T15:21:34.170Z"
   },
   {
    "duration": 0,
    "start_time": "2025-01-28T15:21:34.171Z"
   },
   {
    "duration": 0,
    "start_time": "2025-01-28T15:21:34.172Z"
   },
   {
    "duration": 0,
    "start_time": "2025-01-28T15:21:34.173Z"
   },
   {
    "duration": 0,
    "start_time": "2025-01-28T15:21:34.174Z"
   },
   {
    "duration": 0,
    "start_time": "2025-01-28T15:21:34.175Z"
   },
   {
    "duration": 0,
    "start_time": "2025-01-28T15:21:34.176Z"
   },
   {
    "duration": 0,
    "start_time": "2025-01-28T15:21:34.177Z"
   },
   {
    "duration": 0,
    "start_time": "2025-01-28T15:21:34.178Z"
   },
   {
    "duration": 0,
    "start_time": "2025-01-28T15:21:34.179Z"
   },
   {
    "duration": 0,
    "start_time": "2025-01-28T15:21:34.180Z"
   },
   {
    "duration": 0,
    "start_time": "2025-01-28T15:21:34.181Z"
   },
   {
    "duration": 0,
    "start_time": "2025-01-28T15:21:34.181Z"
   },
   {
    "duration": 0,
    "start_time": "2025-01-28T15:21:34.182Z"
   },
   {
    "duration": 0,
    "start_time": "2025-01-28T15:21:34.184Z"
   },
   {
    "duration": 0,
    "start_time": "2025-01-28T15:21:34.185Z"
   },
   {
    "duration": 0,
    "start_time": "2025-01-28T15:21:34.186Z"
   },
   {
    "duration": 0,
    "start_time": "2025-01-28T15:21:34.187Z"
   },
   {
    "duration": 0,
    "start_time": "2025-01-28T15:21:34.188Z"
   },
   {
    "duration": 0,
    "start_time": "2025-01-28T15:21:34.189Z"
   },
   {
    "duration": 0,
    "start_time": "2025-01-28T15:21:34.190Z"
   },
   {
    "duration": 0,
    "start_time": "2025-01-28T15:21:34.191Z"
   },
   {
    "duration": 9,
    "start_time": "2025-01-28T15:21:54.217Z"
   },
   {
    "duration": 31,
    "start_time": "2025-01-28T15:22:49.381Z"
   },
   {
    "duration": 18,
    "start_time": "2025-01-28T15:22:50.173Z"
   },
   {
    "duration": 25,
    "start_time": "2025-01-28T15:22:50.932Z"
   },
   {
    "duration": 8,
    "start_time": "2025-01-28T15:22:51.716Z"
   },
   {
    "duration": 19,
    "start_time": "2025-01-28T15:22:52.269Z"
   },
   {
    "duration": 8,
    "start_time": "2025-01-28T15:22:55.019Z"
   },
   {
    "duration": 6,
    "start_time": "2025-01-28T15:22:55.621Z"
   },
   {
    "duration": 19,
    "start_time": "2025-01-28T15:22:56.132Z"
   },
   {
    "duration": 5,
    "start_time": "2025-01-28T15:22:58.133Z"
   },
   {
    "duration": 6,
    "start_time": "2025-01-28T15:22:58.740Z"
   },
   {
    "duration": 33,
    "start_time": "2025-01-28T15:22:59.408Z"
   },
   {
    "duration": 24,
    "start_time": "2025-01-28T15:23:00.005Z"
   },
   {
    "duration": 47,
    "start_time": "2025-01-28T15:23:02.036Z"
   },
   {
    "duration": 3,
    "start_time": "2025-01-28T15:23:03.109Z"
   },
   {
    "duration": 3,
    "start_time": "2025-01-28T15:23:03.997Z"
   },
   {
    "duration": 3,
    "start_time": "2025-01-28T15:23:04.621Z"
   },
   {
    "duration": 53,
    "start_time": "2025-01-28T15:23:05.222Z"
   },
   {
    "duration": 12,
    "start_time": "2025-01-28T15:23:05.781Z"
   },
   {
    "duration": 43,
    "start_time": "2025-01-28T15:23:06.381Z"
   },
   {
    "duration": 3,
    "start_time": "2025-01-28T15:23:07.216Z"
   },
   {
    "duration": 8,
    "start_time": "2025-01-28T15:23:07.829Z"
   },
   {
    "duration": 34,
    "start_time": "2025-01-28T15:23:11.756Z"
   },
   {
    "duration": 197,
    "start_time": "2025-01-28T15:23:12.341Z"
   },
   {
    "duration": 87,
    "start_time": "2025-01-28T15:23:14.261Z"
   },
   {
    "duration": 2373,
    "start_time": "2025-01-28T15:23:36.825Z"
   },
   {
    "duration": 391,
    "start_time": "2025-01-28T15:23:39.201Z"
   },
   {
    "duration": 758,
    "start_time": "2025-01-28T15:23:39.594Z"
   },
   {
    "duration": 46,
    "start_time": "2025-01-28T15:23:40.354Z"
   },
   {
    "duration": 2034,
    "start_time": "2025-01-28T15:23:40.401Z"
   },
   {
    "duration": 12,
    "start_time": "2025-01-28T15:23:42.437Z"
   },
   {
    "duration": 29,
    "start_time": "2025-01-28T15:23:42.450Z"
   },
   {
    "duration": 182,
    "start_time": "2025-01-28T15:23:42.480Z"
   },
   {
    "duration": 22,
    "start_time": "2025-01-28T15:23:42.664Z"
   },
   {
    "duration": 105,
    "start_time": "2025-01-28T15:23:42.690Z"
   },
   {
    "duration": 8,
    "start_time": "2025-01-28T15:23:42.797Z"
   },
   {
    "duration": 92,
    "start_time": "2025-01-28T15:23:42.807Z"
   },
   {
    "duration": 9,
    "start_time": "2025-01-28T15:23:42.901Z"
   },
   {
    "duration": 55,
    "start_time": "2025-01-28T15:23:42.912Z"
   },
   {
    "duration": 7,
    "start_time": "2025-01-28T15:23:42.969Z"
   },
   {
    "duration": 41,
    "start_time": "2025-01-28T15:23:42.978Z"
   },
   {
    "duration": 30,
    "start_time": "2025-01-28T15:23:43.021Z"
   },
   {
    "duration": 21,
    "start_time": "2025-01-28T15:23:43.053Z"
   },
   {
    "duration": 7,
    "start_time": "2025-01-28T15:23:43.076Z"
   },
   {
    "duration": 14,
    "start_time": "2025-01-28T15:23:43.084Z"
   },
   {
    "duration": 4,
    "start_time": "2025-01-28T15:23:43.100Z"
   },
   {
    "duration": 15,
    "start_time": "2025-01-28T15:23:43.106Z"
   },
   {
    "duration": 178,
    "start_time": "2025-01-28T15:23:43.149Z"
   },
   {
    "duration": 5,
    "start_time": "2025-01-28T15:23:43.329Z"
   },
   {
    "duration": 77,
    "start_time": "2025-01-28T15:23:43.336Z"
   },
   {
    "duration": 5,
    "start_time": "2025-01-28T15:23:43.415Z"
   },
   {
    "duration": 6,
    "start_time": "2025-01-28T15:23:43.421Z"
   },
   {
    "duration": 181,
    "start_time": "2025-01-28T15:23:43.432Z"
   },
   {
    "duration": 4,
    "start_time": "2025-01-28T15:23:43.615Z"
   },
   {
    "duration": 103,
    "start_time": "2025-01-28T15:23:43.620Z"
   },
   {
    "duration": 37,
    "start_time": "2025-01-28T15:23:43.724Z"
   },
   {
    "duration": 137,
    "start_time": "2025-01-28T15:23:43.763Z"
   },
   {
    "duration": 269,
    "start_time": "2025-01-28T15:23:43.901Z"
   },
   {
    "duration": 23,
    "start_time": "2025-01-28T15:23:44.172Z"
   },
   {
    "duration": 16,
    "start_time": "2025-01-28T15:23:44.196Z"
   },
   {
    "duration": 82,
    "start_time": "2025-01-28T15:23:44.214Z"
   },
   {
    "duration": 18,
    "start_time": "2025-01-28T15:23:44.297Z"
   },
   {
    "duration": 13,
    "start_time": "2025-01-28T15:23:44.316Z"
   },
   {
    "duration": 197,
    "start_time": "2025-01-28T15:23:44.330Z"
   },
   {
    "duration": 11,
    "start_time": "2025-01-28T15:23:44.528Z"
   },
   {
    "duration": 17,
    "start_time": "2025-01-28T15:23:44.549Z"
   },
   {
    "duration": 10,
    "start_time": "2025-01-28T15:23:44.567Z"
   },
   {
    "duration": 115,
    "start_time": "2025-01-28T15:23:44.579Z"
   },
   {
    "duration": 14,
    "start_time": "2025-01-28T15:23:44.696Z"
   },
   {
    "duration": 19,
    "start_time": "2025-01-28T15:23:44.711Z"
   },
   {
    "duration": 25,
    "start_time": "2025-01-28T15:23:44.731Z"
   },
   {
    "duration": 11,
    "start_time": "2025-01-28T15:23:44.757Z"
   },
   {
    "duration": 17,
    "start_time": "2025-01-28T15:23:44.769Z"
   },
   {
    "duration": 7,
    "start_time": "2025-01-28T15:23:44.787Z"
   },
   {
    "duration": 17,
    "start_time": "2025-01-28T15:23:44.796Z"
   },
   {
    "duration": 12,
    "start_time": "2025-01-28T15:23:44.814Z"
   },
   {
    "duration": 159,
    "start_time": "2025-01-28T15:23:44.827Z"
   },
   {
    "duration": 3,
    "start_time": "2025-01-28T15:23:44.988Z"
   },
   {
    "duration": 63,
    "start_time": "2025-01-28T15:23:44.992Z"
   },
   {
    "duration": 50,
    "start_time": "2025-01-28T15:23:45.057Z"
   },
   {
    "duration": 10,
    "start_time": "2025-01-28T15:23:45.108Z"
   },
   {
    "duration": 15,
    "start_time": "2025-01-28T15:23:45.120Z"
   },
   {
    "duration": 45,
    "start_time": "2025-01-28T15:23:45.136Z"
   },
   {
    "duration": 57,
    "start_time": "2025-01-28T15:23:45.183Z"
   },
   {
    "duration": 19,
    "start_time": "2025-01-28T15:23:45.242Z"
   },
   {
    "duration": 71,
    "start_time": "2025-01-28T15:23:45.262Z"
   },
   {
    "duration": 97,
    "start_time": "2025-01-28T15:23:45.334Z"
   },
   {
    "duration": 104,
    "start_time": "2025-01-28T15:23:45.433Z"
   },
   {
    "duration": 199,
    "start_time": "2025-01-28T15:23:45.538Z"
   },
   {
    "duration": 5,
    "start_time": "2025-01-28T15:23:45.739Z"
   },
   {
    "duration": 20,
    "start_time": "2025-01-28T15:23:45.746Z"
   },
   {
    "duration": 4,
    "start_time": "2025-01-28T15:23:45.767Z"
   },
   {
    "duration": 7,
    "start_time": "2025-01-28T15:23:45.773Z"
   },
   {
    "duration": 37,
    "start_time": "2025-01-28T15:23:45.781Z"
   },
   {
    "duration": 42,
    "start_time": "2025-01-28T15:23:45.820Z"
   },
   {
    "duration": 39,
    "start_time": "2025-01-28T15:23:45.864Z"
   },
   {
    "duration": 4,
    "start_time": "2025-01-28T15:23:45.905Z"
   },
   {
    "duration": 17,
    "start_time": "2025-01-28T15:23:45.910Z"
   },
   {
    "duration": 21,
    "start_time": "2025-01-28T15:23:45.928Z"
   },
   {
    "duration": 54,
    "start_time": "2025-01-28T15:23:45.950Z"
   },
   {
    "duration": 47,
    "start_time": "2025-01-28T15:23:46.005Z"
   },
   {
    "duration": 67,
    "start_time": "2025-01-28T15:23:46.056Z"
   },
   {
    "duration": 3,
    "start_time": "2025-01-28T15:23:46.125Z"
   },
   {
    "duration": 21,
    "start_time": "2025-01-28T15:23:46.130Z"
   },
   {
    "duration": 36,
    "start_time": "2025-01-28T15:23:46.153Z"
   },
   {
    "duration": 198,
    "start_time": "2025-01-28T15:23:46.190Z"
   },
   {
    "duration": 106,
    "start_time": "2025-01-28T15:23:46.393Z"
   },
   {
    "duration": 142,
    "start_time": "2025-01-29T13:07:15.521Z"
   },
   {
    "duration": 89,
    "start_time": "2025-01-29T17:33:21.288Z"
   },
   {
    "duration": 49,
    "start_time": "2025-01-29T17:33:34.527Z"
   },
   {
    "duration": 8,
    "start_time": "2025-01-29T17:33:45.735Z"
   },
   {
    "duration": 10396,
    "start_time": "2025-01-29T17:33:53.837Z"
   },
   {
    "duration": 418,
    "start_time": "2025-01-29T17:34:04.236Z"
   },
   {
    "duration": 1100,
    "start_time": "2025-01-29T17:34:04.656Z"
   },
   {
    "duration": 70,
    "start_time": "2025-01-29T17:34:05.758Z"
   },
   {
    "duration": 2076,
    "start_time": "2025-01-29T17:34:05.830Z"
   },
   {
    "duration": 13,
    "start_time": "2025-01-29T17:34:07.908Z"
   },
   {
    "duration": 22,
    "start_time": "2025-01-29T17:34:07.923Z"
   },
   {
    "duration": 226,
    "start_time": "2025-01-29T17:34:07.948Z"
   },
   {
    "duration": 33,
    "start_time": "2025-01-29T17:34:08.177Z"
   },
   {
    "duration": 121,
    "start_time": "2025-01-29T17:34:08.213Z"
   },
   {
    "duration": 10,
    "start_time": "2025-01-29T17:34:08.336Z"
   },
   {
    "duration": 97,
    "start_time": "2025-01-29T17:34:08.348Z"
   },
   {
    "duration": 9,
    "start_time": "2025-01-29T17:34:08.447Z"
   },
   {
    "duration": 49,
    "start_time": "2025-01-29T17:34:08.458Z"
   },
   {
    "duration": 8,
    "start_time": "2025-01-29T17:34:08.509Z"
   },
   {
    "duration": 69,
    "start_time": "2025-01-29T17:34:08.519Z"
   },
   {
    "duration": 12,
    "start_time": "2025-01-29T17:34:08.589Z"
   },
   {
    "duration": 25,
    "start_time": "2025-01-29T17:34:08.603Z"
   },
   {
    "duration": 8,
    "start_time": "2025-01-29T17:34:08.629Z"
   },
   {
    "duration": 42,
    "start_time": "2025-01-29T17:34:08.639Z"
   },
   {
    "duration": 4,
    "start_time": "2025-01-29T17:34:08.683Z"
   },
   {
    "duration": 19,
    "start_time": "2025-01-29T17:34:08.689Z"
   },
   {
    "duration": 207,
    "start_time": "2025-01-29T17:34:08.709Z"
   },
   {
    "duration": 6,
    "start_time": "2025-01-29T17:34:08.917Z"
   },
   {
    "duration": 35,
    "start_time": "2025-01-29T17:34:08.925Z"
   },
   {
    "duration": 74,
    "start_time": "2025-01-29T17:34:08.961Z"
   },
   {
    "duration": 19,
    "start_time": "2025-01-29T17:34:09.038Z"
   },
   {
    "duration": 172,
    "start_time": "2025-01-29T17:34:09.063Z"
   },
   {
    "duration": 5,
    "start_time": "2025-01-29T17:34:09.236Z"
   },
   {
    "duration": 30,
    "start_time": "2025-01-29T17:34:09.243Z"
   },
   {
    "duration": 41,
    "start_time": "2025-01-29T17:34:09.275Z"
   },
   {
    "duration": 156,
    "start_time": "2025-01-29T17:34:09.318Z"
   },
   {
    "duration": 313,
    "start_time": "2025-01-29T17:34:09.476Z"
   },
   {
    "duration": 31,
    "start_time": "2025-01-29T17:34:09.791Z"
   },
   {
    "duration": 17,
    "start_time": "2025-01-29T17:34:09.824Z"
   },
   {
    "duration": 88,
    "start_time": "2025-01-29T17:34:09.843Z"
   },
   {
    "duration": 21,
    "start_time": "2025-01-29T17:34:09.933Z"
   },
   {
    "duration": 14,
    "start_time": "2025-01-29T17:34:09.971Z"
   },
   {
    "duration": 299,
    "start_time": "2025-01-29T17:34:09.987Z"
   },
   {
    "duration": 12,
    "start_time": "2025-01-29T17:34:10.288Z"
   },
   {
    "duration": 24,
    "start_time": "2025-01-29T17:34:10.302Z"
   },
   {
    "duration": 12,
    "start_time": "2025-01-29T17:34:10.328Z"
   },
   {
    "duration": 58,
    "start_time": "2025-01-29T17:34:10.342Z"
   },
   {
    "duration": 18,
    "start_time": "2025-01-29T17:34:10.402Z"
   },
   {
    "duration": 7,
    "start_time": "2025-01-29T17:34:10.422Z"
   },
   {
    "duration": 11,
    "start_time": "2025-01-29T17:34:10.431Z"
   },
   {
    "duration": 35,
    "start_time": "2025-01-29T17:34:10.444Z"
   },
   {
    "duration": 24,
    "start_time": "2025-01-29T17:34:10.481Z"
   },
   {
    "duration": 14,
    "start_time": "2025-01-29T17:34:10.507Z"
   },
   {
    "duration": 6,
    "start_time": "2025-01-29T17:34:10.523Z"
   },
   {
    "duration": 11,
    "start_time": "2025-01-29T17:34:10.531Z"
   },
   {
    "duration": 211,
    "start_time": "2025-01-29T17:34:10.544Z"
   },
   {
    "duration": 3,
    "start_time": "2025-01-29T17:34:10.757Z"
   },
   {
    "duration": 5,
    "start_time": "2025-01-29T17:34:10.772Z"
   },
   {
    "duration": 5,
    "start_time": "2025-01-29T17:34:10.779Z"
   },
   {
    "duration": 12,
    "start_time": "2025-01-29T17:34:10.786Z"
   },
   {
    "duration": 16,
    "start_time": "2025-01-29T17:34:10.799Z"
   },
   {
    "duration": 14,
    "start_time": "2025-01-29T17:34:10.817Z"
   },
   {
    "duration": 60,
    "start_time": "2025-01-29T17:34:10.833Z"
   },
   {
    "duration": 21,
    "start_time": "2025-01-29T17:34:10.895Z"
   },
   {
    "duration": 24,
    "start_time": "2025-01-29T17:34:10.918Z"
   },
   {
    "duration": 32,
    "start_time": "2025-01-29T17:34:10.944Z"
   },
   {
    "duration": 89,
    "start_time": "2025-01-29T17:34:10.979Z"
   },
   {
    "duration": 8,
    "start_time": "2025-01-29T17:34:11.070Z"
   },
   {
    "duration": 75,
    "start_time": "2025-01-29T17:34:11.080Z"
   },
   {
    "duration": 25,
    "start_time": "2025-01-29T17:34:11.157Z"
   },
   {
    "duration": 6,
    "start_time": "2025-01-29T17:34:11.184Z"
   },
   {
    "duration": 6,
    "start_time": "2025-01-29T17:34:11.192Z"
   },
   {
    "duration": 46,
    "start_time": "2025-01-29T17:34:11.200Z"
   },
   {
    "duration": 46,
    "start_time": "2025-01-29T17:34:11.248Z"
   },
   {
    "duration": 44,
    "start_time": "2025-01-29T17:34:11.295Z"
   },
   {
    "duration": 4,
    "start_time": "2025-01-29T17:34:11.341Z"
   },
   {
    "duration": 26,
    "start_time": "2025-01-29T17:34:11.347Z"
   },
   {
    "duration": 9,
    "start_time": "2025-01-29T17:34:11.375Z"
   },
   {
    "duration": 63,
    "start_time": "2025-01-29T17:34:11.386Z"
   },
   {
    "duration": 31,
    "start_time": "2025-01-29T17:34:11.451Z"
   },
   {
    "duration": 48,
    "start_time": "2025-01-29T17:34:11.483Z"
   },
   {
    "duration": 5,
    "start_time": "2025-01-29T17:34:11.532Z"
   },
   {
    "duration": 7,
    "start_time": "2025-01-29T17:34:11.538Z"
   },
   {
    "duration": 46,
    "start_time": "2025-01-29T17:34:11.572Z"
   },
   {
    "duration": 254,
    "start_time": "2025-01-29T17:34:11.621Z"
   },
   {
    "duration": 109,
    "start_time": "2025-01-29T17:34:11.881Z"
   },
   {
    "duration": 2235,
    "start_time": "2025-01-29T17:36:46.190Z"
   },
   {
    "duration": 9,
    "start_time": "2025-01-29T17:36:48.427Z"
   },
   {
    "duration": 120,
    "start_time": "2025-01-29T17:46:50.953Z"
   },
   {
    "duration": 14,
    "start_time": "2025-01-29T17:47:19.654Z"
   },
   {
    "duration": 1405,
    "start_time": "2025-01-29T17:47:29.252Z"
   },
   {
    "duration": 14,
    "start_time": "2025-01-29T17:47:31.998Z"
   },
   {
    "duration": 2710,
    "start_time": "2025-01-29T17:47:48.527Z"
   },
   {
    "duration": 422,
    "start_time": "2025-01-29T17:47:51.239Z"
   },
   {
    "duration": 865,
    "start_time": "2025-01-29T17:47:51.662Z"
   },
   {
    "duration": 49,
    "start_time": "2025-01-29T17:47:52.530Z"
   },
   {
    "duration": 2380,
    "start_time": "2025-01-29T17:47:52.581Z"
   },
   {
    "duration": 19,
    "start_time": "2025-01-29T17:47:54.965Z"
   },
   {
    "duration": 21,
    "start_time": "2025-01-29T17:47:54.986Z"
   },
   {
    "duration": 212,
    "start_time": "2025-01-29T17:47:55.009Z"
   },
   {
    "duration": 27,
    "start_time": "2025-01-29T17:47:55.223Z"
   },
   {
    "duration": 104,
    "start_time": "2025-01-29T17:47:55.271Z"
   },
   {
    "duration": 10,
    "start_time": "2025-01-29T17:47:55.377Z"
   },
   {
    "duration": 100,
    "start_time": "2025-01-29T17:47:55.388Z"
   },
   {
    "duration": 9,
    "start_time": "2025-01-29T17:47:55.489Z"
   },
   {
    "duration": 48,
    "start_time": "2025-01-29T17:47:55.500Z"
   },
   {
    "duration": 30,
    "start_time": "2025-01-29T17:47:55.550Z"
   },
   {
    "duration": 50,
    "start_time": "2025-01-29T17:47:55.582Z"
   },
   {
    "duration": 37,
    "start_time": "2025-01-29T17:47:55.635Z"
   },
   {
    "duration": 22,
    "start_time": "2025-01-29T17:47:55.674Z"
   },
   {
    "duration": 7,
    "start_time": "2025-01-29T17:47:55.698Z"
   },
   {
    "duration": 18,
    "start_time": "2025-01-29T17:47:55.707Z"
   },
   {
    "duration": 4,
    "start_time": "2025-01-29T17:47:55.726Z"
   },
   {
    "duration": 41,
    "start_time": "2025-01-29T17:47:55.732Z"
   },
   {
    "duration": 200,
    "start_time": "2025-01-29T17:47:55.775Z"
   },
   {
    "duration": 5,
    "start_time": "2025-01-29T17:47:55.977Z"
   },
   {
    "duration": 36,
    "start_time": "2025-01-29T17:47:55.984Z"
   },
   {
    "duration": 6,
    "start_time": "2025-01-29T17:47:56.021Z"
   },
   {
    "duration": 15,
    "start_time": "2025-01-29T17:47:56.028Z"
   },
   {
    "duration": 184,
    "start_time": "2025-01-29T17:47:56.048Z"
   },
   {
    "duration": 5,
    "start_time": "2025-01-29T17:47:56.233Z"
   },
   {
    "duration": 17,
    "start_time": "2025-01-29T17:47:56.240Z"
   },
   {
    "duration": 55,
    "start_time": "2025-01-29T17:47:56.258Z"
   },
   {
    "duration": 154,
    "start_time": "2025-01-29T17:47:56.315Z"
   },
   {
    "duration": 306,
    "start_time": "2025-01-29T17:47:56.471Z"
   },
   {
    "duration": 29,
    "start_time": "2025-01-29T17:47:56.779Z"
   },
   {
    "duration": 16,
    "start_time": "2025-01-29T17:47:56.810Z"
   },
   {
    "duration": 85,
    "start_time": "2025-01-29T17:47:56.828Z"
   },
   {
    "duration": 20,
    "start_time": "2025-01-29T17:47:56.915Z"
   },
   {
    "duration": 14,
    "start_time": "2025-01-29T17:47:56.936Z"
   },
   {
    "duration": 230,
    "start_time": "2025-01-29T17:47:56.951Z"
   },
   {
    "duration": 12,
    "start_time": "2025-01-29T17:47:57.183Z"
   },
   {
    "duration": 18,
    "start_time": "2025-01-29T17:47:57.197Z"
   },
   {
    "duration": 41,
    "start_time": "2025-01-29T17:47:57.216Z"
   },
   {
    "duration": 108,
    "start_time": "2025-01-29T17:47:57.258Z"
   },
   {
    "duration": 16,
    "start_time": "2025-01-29T17:47:57.371Z"
   },
   {
    "duration": 6,
    "start_time": "2025-01-29T17:47:57.389Z"
   },
   {
    "duration": 18,
    "start_time": "2025-01-29T17:47:57.396Z"
   },
   {
    "duration": 9,
    "start_time": "2025-01-29T17:47:57.416Z"
   },
   {
    "duration": 20,
    "start_time": "2025-01-29T17:47:57.426Z"
   },
   {
    "duration": 28,
    "start_time": "2025-01-29T17:47:57.447Z"
   },
   {
    "duration": 14,
    "start_time": "2025-01-29T17:47:57.476Z"
   },
   {
    "duration": 26,
    "start_time": "2025-01-29T17:47:57.492Z"
   },
   {
    "duration": 181,
    "start_time": "2025-01-29T17:47:57.520Z"
   },
   {
    "duration": 3,
    "start_time": "2025-01-29T17:47:57.703Z"
   },
   {
    "duration": 11,
    "start_time": "2025-01-29T17:47:57.708Z"
   },
   {
    "duration": 6,
    "start_time": "2025-01-29T17:47:57.720Z"
   },
   {
    "duration": 39,
    "start_time": "2025-01-29T17:47:57.728Z"
   },
   {
    "duration": 37,
    "start_time": "2025-01-29T17:47:57.769Z"
   },
   {
    "duration": 32,
    "start_time": "2025-01-29T17:47:57.808Z"
   },
   {
    "duration": 48,
    "start_time": "2025-01-29T17:47:57.842Z"
   },
   {
    "duration": 23,
    "start_time": "2025-01-29T17:47:57.892Z"
   },
   {
    "duration": 24,
    "start_time": "2025-01-29T17:47:57.917Z"
   },
   {
    "duration": 33,
    "start_time": "2025-01-29T17:47:57.943Z"
   },
   {
    "duration": 38,
    "start_time": "2025-01-29T17:47:57.978Z"
   },
   {
    "duration": 34,
    "start_time": "2025-01-29T17:47:58.018Z"
   },
   {
    "duration": 15,
    "start_time": "2025-01-29T17:47:58.054Z"
   },
   {
    "duration": 53,
    "start_time": "2025-01-29T17:47:58.071Z"
   },
   {
    "duration": 26,
    "start_time": "2025-01-29T17:47:58.126Z"
   },
   {
    "duration": 21,
    "start_time": "2025-01-29T17:47:58.154Z"
   },
   {
    "duration": 46,
    "start_time": "2025-01-29T17:47:58.177Z"
   },
   {
    "duration": 28,
    "start_time": "2025-01-29T17:47:58.225Z"
   },
   {
    "duration": 53,
    "start_time": "2025-01-29T17:47:58.255Z"
   },
   {
    "duration": 4,
    "start_time": "2025-01-29T17:47:58.310Z"
   },
   {
    "duration": 8,
    "start_time": "2025-01-29T17:47:58.315Z"
   },
   {
    "duration": 18,
    "start_time": "2025-01-29T17:47:58.325Z"
   },
   {
    "duration": 70,
    "start_time": "2025-01-29T17:47:58.345Z"
   },
   {
    "duration": 15,
    "start_time": "2025-01-29T17:47:58.417Z"
   },
   {
    "duration": 65,
    "start_time": "2025-01-29T17:47:58.433Z"
   },
   {
    "duration": 5,
    "start_time": "2025-01-29T17:47:58.499Z"
   },
   {
    "duration": 11,
    "start_time": "2025-01-29T17:47:58.505Z"
   },
   {
    "duration": 56,
    "start_time": "2025-01-29T17:47:58.518Z"
   },
   {
    "duration": 219,
    "start_time": "2025-01-29T17:47:58.576Z"
   },
   {
    "duration": 106,
    "start_time": "2025-01-29T17:47:58.801Z"
   },
   {
    "duration": 174,
    "start_time": "2025-01-29T17:51:21.199Z"
   },
   {
    "duration": 160,
    "start_time": "2025-01-29T17:52:33.190Z"
   },
   {
    "duration": 124,
    "start_time": "2025-01-29T18:03:41.309Z"
   },
   {
    "duration": 7,
    "start_time": "2025-01-29T18:03:58.609Z"
   },
   {
    "duration": 20,
    "start_time": "2025-01-29T18:04:12.730Z"
   },
   {
    "duration": 7,
    "start_time": "2025-01-29T18:04:34.937Z"
   },
   {
    "duration": 9,
    "start_time": "2025-01-29T18:10:19.588Z"
   },
   {
    "duration": 8,
    "start_time": "2025-01-29T18:10:20.356Z"
   },
   {
    "duration": 21,
    "start_time": "2025-01-29T18:10:21.108Z"
   },
   {
    "duration": 6,
    "start_time": "2025-01-29T18:10:22.060Z"
   },
   {
    "duration": 5,
    "start_time": "2025-01-29T18:10:34.749Z"
   },
   {
    "duration": 5,
    "start_time": "2025-01-29T18:10:35.860Z"
   },
   {
    "duration": 33,
    "start_time": "2025-01-29T18:10:36.588Z"
   },
   {
    "duration": 27,
    "start_time": "2025-01-29T18:10:37.284Z"
   },
   {
    "duration": 23,
    "start_time": "2025-01-29T18:15:40.730Z"
   },
   {
    "duration": 17,
    "start_time": "2025-01-29T18:17:00.596Z"
   },
   {
    "duration": 35,
    "start_time": "2025-01-29T18:17:13.522Z"
   },
   {
    "duration": 28,
    "start_time": "2025-01-29T18:17:13.896Z"
   },
   {
    "duration": 269,
    "start_time": "2025-01-29T18:30:23.591Z"
   },
   {
    "duration": 180,
    "start_time": "2025-01-29T18:30:59.416Z"
   },
   {
    "duration": 165,
    "start_time": "2025-01-29T18:31:39.269Z"
   },
   {
    "duration": 184,
    "start_time": "2025-01-29T18:31:45.868Z"
   },
   {
    "duration": 171,
    "start_time": "2025-01-29T18:31:53.117Z"
   },
   {
    "duration": 168,
    "start_time": "2025-01-29T18:32:55.891Z"
   },
   {
    "duration": 48,
    "start_time": "2025-01-30T08:13:33.325Z"
   },
   {
    "duration": 3496,
    "start_time": "2025-01-30T08:13:46.519Z"
   },
   {
    "duration": 401,
    "start_time": "2025-01-30T08:13:50.017Z"
   },
   {
    "duration": 895,
    "start_time": "2025-01-30T08:13:50.419Z"
   },
   {
    "duration": 67,
    "start_time": "2025-01-30T08:13:51.315Z"
   },
   {
    "duration": 2666,
    "start_time": "2025-01-30T08:13:51.383Z"
   },
   {
    "duration": 12,
    "start_time": "2025-01-30T08:13:54.051Z"
   },
   {
    "duration": 18,
    "start_time": "2025-01-30T08:13:54.064Z"
   },
   {
    "duration": 186,
    "start_time": "2025-01-30T08:13:54.083Z"
   },
   {
    "duration": 23,
    "start_time": "2025-01-30T08:13:54.271Z"
   },
   {
    "duration": 100,
    "start_time": "2025-01-30T08:13:54.296Z"
   },
   {
    "duration": 17,
    "start_time": "2025-01-30T08:13:54.398Z"
   },
   {
    "duration": 76,
    "start_time": "2025-01-30T08:13:54.417Z"
   },
   {
    "duration": 19,
    "start_time": "2025-01-30T08:13:54.495Z"
   },
   {
    "duration": 35,
    "start_time": "2025-01-30T08:13:54.516Z"
   },
   {
    "duration": 7,
    "start_time": "2025-01-30T08:13:54.553Z"
   },
   {
    "duration": 61,
    "start_time": "2025-01-30T08:13:54.561Z"
   },
   {
    "duration": 10,
    "start_time": "2025-01-30T08:13:54.623Z"
   },
   {
    "duration": 28,
    "start_time": "2025-01-30T08:13:54.634Z"
   },
   {
    "duration": 6,
    "start_time": "2025-01-30T08:13:54.664Z"
   },
   {
    "duration": 15,
    "start_time": "2025-01-30T08:13:54.671Z"
   },
   {
    "duration": 23,
    "start_time": "2025-01-30T08:13:54.687Z"
   },
   {
    "duration": 10,
    "start_time": "2025-01-30T08:13:54.712Z"
   },
   {
    "duration": 182,
    "start_time": "2025-01-30T08:13:54.723Z"
   },
   {
    "duration": 5,
    "start_time": "2025-01-30T08:13:54.906Z"
   },
   {
    "duration": 43,
    "start_time": "2025-01-30T08:13:54.912Z"
   },
   {
    "duration": 14,
    "start_time": "2025-01-30T08:13:54.956Z"
   },
   {
    "duration": 13,
    "start_time": "2025-01-30T08:13:54.972Z"
   },
   {
    "duration": 160,
    "start_time": "2025-01-30T08:13:54.989Z"
   },
   {
    "duration": 4,
    "start_time": "2025-01-30T08:13:55.151Z"
   },
   {
    "duration": 18,
    "start_time": "2025-01-30T08:13:55.156Z"
   },
   {
    "duration": 50,
    "start_time": "2025-01-30T08:13:55.175Z"
   },
   {
    "duration": 166,
    "start_time": "2025-01-30T08:13:55.226Z"
   },
   {
    "duration": 265,
    "start_time": "2025-01-30T08:13:55.394Z"
   },
   {
    "duration": 24,
    "start_time": "2025-01-30T08:13:55.661Z"
   },
   {
    "duration": 28,
    "start_time": "2025-01-30T08:13:55.687Z"
   },
   {
    "duration": 55,
    "start_time": "2025-01-30T08:13:55.716Z"
   },
   {
    "duration": 18,
    "start_time": "2025-01-30T08:13:55.772Z"
   },
   {
    "duration": 24,
    "start_time": "2025-01-30T08:13:55.791Z"
   },
   {
    "duration": 198,
    "start_time": "2025-01-30T08:13:55.817Z"
   },
   {
    "duration": 10,
    "start_time": "2025-01-30T08:13:56.017Z"
   },
   {
    "duration": 20,
    "start_time": "2025-01-30T08:13:56.028Z"
   },
   {
    "duration": 9,
    "start_time": "2025-01-30T08:13:56.050Z"
   },
   {
    "duration": 108,
    "start_time": "2025-01-30T08:13:56.061Z"
   },
   {
    "duration": 14,
    "start_time": "2025-01-30T08:13:56.171Z"
   },
   {
    "duration": 5,
    "start_time": "2025-01-30T08:13:56.187Z"
   },
   {
    "duration": 19,
    "start_time": "2025-01-30T08:13:56.194Z"
   },
   {
    "duration": 8,
    "start_time": "2025-01-30T08:13:56.215Z"
   },
   {
    "duration": 25,
    "start_time": "2025-01-30T08:13:56.224Z"
   },
   {
    "duration": 7,
    "start_time": "2025-01-30T08:13:56.250Z"
   },
   {
    "duration": 7,
    "start_time": "2025-01-30T08:13:56.259Z"
   },
   {
    "duration": 10,
    "start_time": "2025-01-30T08:13:56.268Z"
   },
   {
    "duration": 179,
    "start_time": "2025-01-30T08:13:56.280Z"
   },
   {
    "duration": 3,
    "start_time": "2025-01-30T08:13:56.461Z"
   },
   {
    "duration": 13,
    "start_time": "2025-01-30T08:13:56.466Z"
   },
   {
    "duration": 18,
    "start_time": "2025-01-30T08:13:56.481Z"
   },
   {
    "duration": 10,
    "start_time": "2025-01-30T08:13:56.500Z"
   },
   {
    "duration": 11,
    "start_time": "2025-01-30T08:13:56.511Z"
   },
   {
    "duration": 13,
    "start_time": "2025-01-30T08:13:56.523Z"
   },
   {
    "duration": 29,
    "start_time": "2025-01-30T08:13:56.538Z"
   },
   {
    "duration": 46,
    "start_time": "2025-01-30T08:13:56.569Z"
   },
   {
    "duration": 27,
    "start_time": "2025-01-30T08:13:56.617Z"
   },
   {
    "duration": 7,
    "start_time": "2025-01-30T08:13:56.645Z"
   },
   {
    "duration": 22,
    "start_time": "2025-01-30T08:13:56.653Z"
   },
   {
    "duration": 36,
    "start_time": "2025-01-30T08:13:56.676Z"
   },
   {
    "duration": 6,
    "start_time": "2025-01-30T08:13:56.714Z"
   },
   {
    "duration": 21,
    "start_time": "2025-01-30T08:13:56.722Z"
   },
   {
    "duration": 5,
    "start_time": "2025-01-30T08:13:56.744Z"
   },
   {
    "duration": 169,
    "start_time": "2025-01-30T08:13:56.751Z"
   },
   {
    "duration": 5,
    "start_time": "2025-01-30T08:13:56.921Z"
   },
   {
    "duration": 35,
    "start_time": "2025-01-30T08:13:56.928Z"
   },
   {
    "duration": 46,
    "start_time": "2025-01-30T08:13:56.964Z"
   },
   {
    "duration": 40,
    "start_time": "2025-01-30T08:13:57.012Z"
   },
   {
    "duration": 29,
    "start_time": "2025-01-30T08:13:57.054Z"
   },
   {
    "duration": 5,
    "start_time": "2025-01-30T08:13:57.085Z"
   },
   {
    "duration": 5,
    "start_time": "2025-01-30T08:13:57.092Z"
   },
   {
    "duration": 54,
    "start_time": "2025-01-30T08:13:57.098Z"
   },
   {
    "duration": 12,
    "start_time": "2025-01-30T08:13:57.154Z"
   },
   {
    "duration": 62,
    "start_time": "2025-01-30T08:13:57.168Z"
   },
   {
    "duration": 4,
    "start_time": "2025-01-30T08:13:57.232Z"
   },
   {
    "duration": 29,
    "start_time": "2025-01-30T08:13:57.238Z"
   },
   {
    "duration": 39,
    "start_time": "2025-01-30T08:13:57.269Z"
   },
   {
    "duration": 207,
    "start_time": "2025-01-30T08:13:57.314Z"
   },
   {
    "duration": 96,
    "start_time": "2025-01-30T08:13:57.522Z"
   },
   {
    "duration": 100,
    "start_time": "2025-01-30T08:13:57.620Z"
   },
   {
    "duration": 80,
    "start_time": "2025-01-30T08:14:04.609Z"
   },
   {
    "duration": 16,
    "start_time": "2025-01-30T08:14:37.957Z"
   },
   {
    "duration": 21,
    "start_time": "2025-01-30T08:14:55.269Z"
   },
   {
    "duration": 12,
    "start_time": "2025-01-30T08:15:34.631Z"
   },
   {
    "duration": 15,
    "start_time": "2025-01-30T08:15:35.166Z"
   },
   {
    "duration": 10,
    "start_time": "2025-01-30T08:16:00.963Z"
   },
   {
    "duration": 13,
    "start_time": "2025-01-30T08:16:01.522Z"
   },
   {
    "duration": 16,
    "start_time": "2025-01-30T08:16:02.331Z"
   },
   {
    "duration": 9,
    "start_time": "2025-01-30T08:16:04.563Z"
   },
   {
    "duration": 88,
    "start_time": "2025-01-30T08:16:16.866Z"
   },
   {
    "duration": 13,
    "start_time": "2025-01-30T08:16:17.436Z"
   },
   {
    "duration": 13,
    "start_time": "2025-01-30T08:16:27.163Z"
   },
   {
    "duration": 12,
    "start_time": "2025-01-30T08:16:27.571Z"
   },
   {
    "duration": 16,
    "start_time": "2025-01-30T08:16:27.987Z"
   },
   {
    "duration": 7,
    "start_time": "2025-01-30T08:16:30.795Z"
   },
   {
    "duration": 3,
    "start_time": "2025-01-30T08:16:47.688Z"
   },
   {
    "duration": 108,
    "start_time": "2025-01-30T08:17:00.128Z"
   },
   {
    "duration": 16,
    "start_time": "2025-01-30T08:17:35.376Z"
   },
   {
    "duration": 26,
    "start_time": "2025-01-30T10:58:59.557Z"
   },
   {
    "duration": 4,
    "start_time": "2025-01-30T11:03:46.433Z"
   },
   {
    "duration": 10,
    "start_time": "2025-01-30T11:26:13.838Z"
   },
   {
    "duration": 17,
    "start_time": "2025-01-30T11:27:11.880Z"
   },
   {
    "duration": 39,
    "start_time": "2025-01-30T11:27:37.321Z"
   },
   {
    "duration": 356,
    "start_time": "2025-01-30T11:28:03.036Z"
   },
   {
    "duration": 329,
    "start_time": "2025-01-30T11:28:34.669Z"
   },
   {
    "duration": 246,
    "start_time": "2025-01-30T11:31:59.636Z"
   },
   {
    "duration": 2444,
    "start_time": "2025-01-30T11:39:54.979Z"
   },
   {
    "duration": 410,
    "start_time": "2025-01-30T11:39:57.426Z"
   },
   {
    "duration": 798,
    "start_time": "2025-01-30T11:39:57.838Z"
   },
   {
    "duration": 46,
    "start_time": "2025-01-30T11:39:58.638Z"
   },
   {
    "duration": 2361,
    "start_time": "2025-01-30T11:39:58.686Z"
   },
   {
    "duration": 12,
    "start_time": "2025-01-30T11:40:01.048Z"
   },
   {
    "duration": 23,
    "start_time": "2025-01-30T11:40:01.061Z"
   },
   {
    "duration": 221,
    "start_time": "2025-01-30T11:40:01.086Z"
   },
   {
    "duration": 24,
    "start_time": "2025-01-30T11:40:01.309Z"
   },
   {
    "duration": 111,
    "start_time": "2025-01-30T11:40:01.336Z"
   },
   {
    "duration": 9,
    "start_time": "2025-01-30T11:40:01.448Z"
   },
   {
    "duration": 89,
    "start_time": "2025-01-30T11:40:01.458Z"
   },
   {
    "duration": 6,
    "start_time": "2025-01-30T11:40:01.549Z"
   },
   {
    "duration": 58,
    "start_time": "2025-01-30T11:40:01.557Z"
   },
   {
    "duration": 71,
    "start_time": "2025-01-30T11:40:01.617Z"
   },
   {
    "duration": 50,
    "start_time": "2025-01-30T11:40:01.690Z"
   },
   {
    "duration": 38,
    "start_time": "2025-01-30T11:40:01.741Z"
   },
   {
    "duration": 27,
    "start_time": "2025-01-30T11:40:01.781Z"
   },
   {
    "duration": 106,
    "start_time": "2025-01-30T11:40:01.810Z"
   },
   {
    "duration": 101,
    "start_time": "2025-01-30T11:40:01.918Z"
   },
   {
    "duration": 26,
    "start_time": "2025-01-30T11:40:02.021Z"
   },
   {
    "duration": 89,
    "start_time": "2025-01-30T11:40:02.048Z"
   },
   {
    "duration": 302,
    "start_time": "2025-01-30T11:40:02.139Z"
   },
   {
    "duration": 6,
    "start_time": "2025-01-30T11:40:02.442Z"
   },
   {
    "duration": 80,
    "start_time": "2025-01-30T11:40:02.450Z"
   },
   {
    "duration": 27,
    "start_time": "2025-01-30T11:40:02.531Z"
   },
   {
    "duration": 62,
    "start_time": "2025-01-30T11:40:02.560Z"
   },
   {
    "duration": 174,
    "start_time": "2025-01-30T11:40:02.627Z"
   },
   {
    "duration": 7,
    "start_time": "2025-01-30T11:40:02.802Z"
   },
   {
    "duration": 42,
    "start_time": "2025-01-30T11:40:02.811Z"
   },
   {
    "duration": 65,
    "start_time": "2025-01-30T11:40:02.856Z"
   },
   {
    "duration": 134,
    "start_time": "2025-01-30T11:40:02.923Z"
   },
   {
    "duration": 273,
    "start_time": "2025-01-30T11:40:03.058Z"
   },
   {
    "duration": 25,
    "start_time": "2025-01-30T11:40:03.332Z"
   },
   {
    "duration": 45,
    "start_time": "2025-01-30T11:40:03.358Z"
   },
   {
    "duration": 57,
    "start_time": "2025-01-30T11:40:03.405Z"
   },
   {
    "duration": 18,
    "start_time": "2025-01-30T11:40:03.464Z"
   },
   {
    "duration": 27,
    "start_time": "2025-01-30T11:40:03.483Z"
   },
   {
    "duration": 216,
    "start_time": "2025-01-30T11:40:03.511Z"
   },
   {
    "duration": 11,
    "start_time": "2025-01-30T11:40:03.729Z"
   },
   {
    "duration": 29,
    "start_time": "2025-01-30T11:40:03.741Z"
   },
   {
    "duration": 10,
    "start_time": "2025-01-30T11:40:03.772Z"
   },
   {
    "duration": 110,
    "start_time": "2025-01-30T11:40:03.783Z"
   },
   {
    "duration": 14,
    "start_time": "2025-01-30T11:40:03.895Z"
   },
   {
    "duration": 50,
    "start_time": "2025-01-30T11:40:03.912Z"
   },
   {
    "duration": 32,
    "start_time": "2025-01-30T11:40:03.964Z"
   },
   {
    "duration": 41,
    "start_time": "2025-01-30T11:40:03.998Z"
   },
   {
    "duration": 179,
    "start_time": "2025-01-30T11:40:04.041Z"
   },
   {
    "duration": 74,
    "start_time": "2025-01-30T11:40:04.222Z"
   },
   {
    "duration": 59,
    "start_time": "2025-01-30T11:40:04.297Z"
   },
   {
    "duration": 47,
    "start_time": "2025-01-30T11:40:04.358Z"
   },
   {
    "duration": 187,
    "start_time": "2025-01-30T11:40:04.407Z"
   },
   {
    "duration": 4,
    "start_time": "2025-01-30T11:40:04.596Z"
   },
   {
    "duration": 41,
    "start_time": "2025-01-30T11:40:04.602Z"
   },
   {
    "duration": 24,
    "start_time": "2025-01-30T11:40:04.645Z"
   },
   {
    "duration": 15,
    "start_time": "2025-01-30T11:40:04.672Z"
   },
   {
    "duration": 23,
    "start_time": "2025-01-30T11:40:04.689Z"
   },
   {
    "duration": 33,
    "start_time": "2025-01-30T11:40:04.714Z"
   },
   {
    "duration": 57,
    "start_time": "2025-01-30T11:40:04.749Z"
   },
   {
    "duration": 19,
    "start_time": "2025-01-30T11:40:04.808Z"
   },
   {
    "duration": 21,
    "start_time": "2025-01-30T11:40:04.829Z"
   },
   {
    "duration": 14,
    "start_time": "2025-01-30T11:40:04.852Z"
   },
   {
    "duration": 49,
    "start_time": "2025-01-30T11:40:04.867Z"
   },
   {
    "duration": 15,
    "start_time": "2025-01-30T11:40:04.918Z"
   },
   {
    "duration": 15,
    "start_time": "2025-01-30T11:40:04.935Z"
   },
   {
    "duration": 32,
    "start_time": "2025-01-30T11:40:04.951Z"
   },
   {
    "duration": 7,
    "start_time": "2025-01-30T11:40:04.986Z"
   },
   {
    "duration": 178,
    "start_time": "2025-01-30T11:40:04.995Z"
   },
   {
    "duration": 5,
    "start_time": "2025-01-30T11:40:05.174Z"
   },
   {
    "duration": 46,
    "start_time": "2025-01-30T11:40:05.181Z"
   },
   {
    "duration": 23,
    "start_time": "2025-01-30T11:40:05.229Z"
   },
   {
    "duration": 41,
    "start_time": "2025-01-30T11:40:05.254Z"
   },
   {
    "duration": 4,
    "start_time": "2025-01-30T11:40:05.309Z"
   },
   {
    "duration": 33,
    "start_time": "2025-01-30T11:40:05.314Z"
   },
   {
    "duration": 14,
    "start_time": "2025-01-30T11:40:05.349Z"
   },
   {
    "duration": 86,
    "start_time": "2025-01-30T11:40:05.365Z"
   },
   {
    "duration": 18,
    "start_time": "2025-01-30T11:40:05.453Z"
   },
   {
    "duration": 56,
    "start_time": "2025-01-30T11:40:05.473Z"
   },
   {
    "duration": 7,
    "start_time": "2025-01-30T11:40:05.531Z"
   },
   {
    "duration": 45,
    "start_time": "2025-01-30T11:40:05.540Z"
   },
   {
    "duration": 32,
    "start_time": "2025-01-30T11:40:05.586Z"
   },
   {
    "duration": 91,
    "start_time": "2025-01-30T11:40:05.624Z"
   },
   {
    "duration": 29,
    "start_time": "2025-01-30T11:40:05.717Z"
   },
   {
    "duration": 75,
    "start_time": "2025-01-30T11:40:05.748Z"
   },
   {
    "duration": 38,
    "start_time": "2025-01-30T11:40:05.824Z"
   },
   {
    "duration": 35,
    "start_time": "2025-01-30T11:40:05.864Z"
   },
   {
    "duration": 111,
    "start_time": "2025-01-30T11:40:22.889Z"
   },
   {
    "duration": 31,
    "start_time": "2025-01-30T11:40:49.133Z"
   },
   {
    "duration": 24,
    "start_time": "2025-01-30T11:40:58.182Z"
   },
   {
    "duration": 7,
    "start_time": "2025-01-30T11:41:30.942Z"
   },
   {
    "duration": 116,
    "start_time": "2025-01-30T11:43:59.706Z"
   },
   {
    "duration": 11,
    "start_time": "2025-01-30T11:44:11.054Z"
   },
   {
    "duration": 2454,
    "start_time": "2025-01-30T11:46:27.569Z"
   },
   {
    "duration": 389,
    "start_time": "2025-01-30T11:46:30.025Z"
   },
   {
    "duration": 712,
    "start_time": "2025-01-30T11:46:30.416Z"
   },
   {
    "duration": 63,
    "start_time": "2025-01-30T11:46:31.130Z"
   },
   {
    "duration": 2304,
    "start_time": "2025-01-30T11:46:31.195Z"
   },
   {
    "duration": 14,
    "start_time": "2025-01-30T11:46:33.500Z"
   },
   {
    "duration": 36,
    "start_time": "2025-01-30T11:46:33.515Z"
   },
   {
    "duration": 193,
    "start_time": "2025-01-30T11:46:33.553Z"
   },
   {
    "duration": 24,
    "start_time": "2025-01-30T11:46:33.747Z"
   },
   {
    "duration": 113,
    "start_time": "2025-01-30T11:46:33.773Z"
   },
   {
    "duration": 21,
    "start_time": "2025-01-30T11:46:33.888Z"
   },
   {
    "duration": 84,
    "start_time": "2025-01-30T11:46:33.911Z"
   },
   {
    "duration": 8,
    "start_time": "2025-01-30T11:46:33.996Z"
   },
   {
    "duration": 49,
    "start_time": "2025-01-30T11:46:34.005Z"
   },
   {
    "duration": 7,
    "start_time": "2025-01-30T11:46:34.056Z"
   },
   {
    "duration": 48,
    "start_time": "2025-01-30T11:46:34.065Z"
   },
   {
    "duration": 9,
    "start_time": "2025-01-30T11:46:34.115Z"
   },
   {
    "duration": 29,
    "start_time": "2025-01-30T11:46:34.125Z"
   },
   {
    "duration": 9,
    "start_time": "2025-01-30T11:46:34.156Z"
   },
   {
    "duration": 16,
    "start_time": "2025-01-30T11:46:34.167Z"
   },
   {
    "duration": 3,
    "start_time": "2025-01-30T11:46:34.184Z"
   },
   {
    "duration": 98,
    "start_time": "2025-01-30T11:46:34.189Z"
   },
   {
    "duration": 181,
    "start_time": "2025-01-30T11:46:34.289Z"
   },
   {
    "duration": 5,
    "start_time": "2025-01-30T11:46:34.471Z"
   },
   {
    "duration": 34,
    "start_time": "2025-01-30T11:46:34.477Z"
   },
   {
    "duration": 5,
    "start_time": "2025-01-30T11:46:34.512Z"
   },
   {
    "duration": 31,
    "start_time": "2025-01-30T11:46:34.519Z"
   },
   {
    "duration": 155,
    "start_time": "2025-01-30T11:46:34.555Z"
   },
   {
    "duration": 5,
    "start_time": "2025-01-30T11:46:34.712Z"
   },
   {
    "duration": 41,
    "start_time": "2025-01-30T11:46:34.718Z"
   },
   {
    "duration": 44,
    "start_time": "2025-01-30T11:46:34.761Z"
   },
   {
    "duration": 121,
    "start_time": "2025-01-30T11:46:34.807Z"
   },
   {
    "duration": 267,
    "start_time": "2025-01-30T11:46:34.930Z"
   },
   {
    "duration": 33,
    "start_time": "2025-01-30T11:46:35.199Z"
   },
   {
    "duration": 16,
    "start_time": "2025-01-30T11:46:35.235Z"
   },
   {
    "duration": 81,
    "start_time": "2025-01-30T11:46:35.252Z"
   },
   {
    "duration": 19,
    "start_time": "2025-01-30T11:46:35.335Z"
   },
   {
    "duration": 48,
    "start_time": "2025-01-30T11:46:35.356Z"
   },
   {
    "duration": 210,
    "start_time": "2025-01-30T11:46:35.406Z"
   },
   {
    "duration": 12,
    "start_time": "2025-01-30T11:46:35.617Z"
   },
   {
    "duration": 215,
    "start_time": "2025-01-30T11:46:35.631Z"
   },
   {
    "duration": 51,
    "start_time": "2025-01-30T11:46:35.848Z"
   },
   {
    "duration": 120,
    "start_time": "2025-01-30T11:46:35.901Z"
   },
   {
    "duration": 15,
    "start_time": "2025-01-30T11:46:36.023Z"
   },
   {
    "duration": 38,
    "start_time": "2025-01-30T11:46:36.040Z"
   },
   {
    "duration": 60,
    "start_time": "2025-01-30T11:46:36.079Z"
   },
   {
    "duration": 190,
    "start_time": "2025-01-30T11:46:36.140Z"
   },
   {
    "duration": 34,
    "start_time": "2025-01-30T11:46:36.332Z"
   },
   {
    "duration": 8,
    "start_time": "2025-01-30T11:46:36.367Z"
   },
   {
    "duration": 22,
    "start_time": "2025-01-30T11:46:36.377Z"
   },
   {
    "duration": 30,
    "start_time": "2025-01-30T11:46:36.401Z"
   },
   {
    "duration": 173,
    "start_time": "2025-01-30T11:46:36.433Z"
   },
   {
    "duration": 3,
    "start_time": "2025-01-30T11:46:36.609Z"
   },
   {
    "duration": 21,
    "start_time": "2025-01-30T11:46:36.614Z"
   },
   {
    "duration": 18,
    "start_time": "2025-01-30T11:46:36.637Z"
   },
   {
    "duration": 11,
    "start_time": "2025-01-30T11:46:36.656Z"
   },
   {
    "duration": 13,
    "start_time": "2025-01-30T11:46:36.669Z"
   },
   {
    "duration": 12,
    "start_time": "2025-01-30T11:46:36.683Z"
   },
   {
    "duration": 28,
    "start_time": "2025-01-30T11:46:36.696Z"
   },
   {
    "duration": 24,
    "start_time": "2025-01-30T11:46:36.726Z"
   },
   {
    "duration": 21,
    "start_time": "2025-01-30T11:46:36.751Z"
   },
   {
    "duration": 6,
    "start_time": "2025-01-30T11:46:36.773Z"
   },
   {
    "duration": 38,
    "start_time": "2025-01-30T11:46:36.780Z"
   },
   {
    "duration": 29,
    "start_time": "2025-01-30T11:46:36.820Z"
   },
   {
    "duration": 8,
    "start_time": "2025-01-30T11:46:36.850Z"
   },
   {
    "duration": 26,
    "start_time": "2025-01-30T11:46:36.860Z"
   },
   {
    "duration": 5,
    "start_time": "2025-01-30T11:46:36.888Z"
   },
   {
    "duration": 159,
    "start_time": "2025-01-30T11:46:36.894Z"
   },
   {
    "duration": 4,
    "start_time": "2025-01-30T11:46:37.055Z"
   },
   {
    "duration": 48,
    "start_time": "2025-01-30T11:46:37.061Z"
   },
   {
    "duration": 23,
    "start_time": "2025-01-30T11:46:37.111Z"
   },
   {
    "duration": 41,
    "start_time": "2025-01-30T11:46:37.136Z"
   },
   {
    "duration": 4,
    "start_time": "2025-01-30T11:46:37.179Z"
   },
   {
    "duration": 29,
    "start_time": "2025-01-30T11:46:37.184Z"
   },
   {
    "duration": 24,
    "start_time": "2025-01-30T11:46:37.215Z"
   },
   {
    "duration": 51,
    "start_time": "2025-01-30T11:46:37.240Z"
   },
   {
    "duration": 12,
    "start_time": "2025-01-30T11:46:37.293Z"
   },
   {
    "duration": 58,
    "start_time": "2025-01-30T11:46:37.307Z"
   },
   {
    "duration": 4,
    "start_time": "2025-01-30T11:46:37.367Z"
   },
   {
    "duration": 39,
    "start_time": "2025-01-30T11:46:37.372Z"
   },
   {
    "duration": 26,
    "start_time": "2025-01-30T11:46:37.413Z"
   },
   {
    "duration": 4,
    "start_time": "2025-01-30T11:46:37.444Z"
   },
   {
    "duration": 128,
    "start_time": "2025-01-30T11:46:37.450Z"
   },
   {
    "duration": 12,
    "start_time": "2025-01-30T11:46:37.580Z"
   },
   {
    "duration": 2561,
    "start_time": "2025-01-30T11:58:50.585Z"
   },
   {
    "duration": 372,
    "start_time": "2025-01-30T11:58:53.148Z"
   },
   {
    "duration": 788,
    "start_time": "2025-01-30T11:58:53.521Z"
   },
   {
    "duration": 51,
    "start_time": "2025-01-30T11:58:54.311Z"
   },
   {
    "duration": 2663,
    "start_time": "2025-01-30T11:58:54.364Z"
   },
   {
    "duration": 11,
    "start_time": "2025-01-30T11:58:57.029Z"
   },
   {
    "duration": 30,
    "start_time": "2025-01-30T11:58:57.041Z"
   },
   {
    "duration": 190,
    "start_time": "2025-01-30T11:58:57.072Z"
   },
   {
    "duration": 23,
    "start_time": "2025-01-30T11:58:57.264Z"
   },
   {
    "duration": 104,
    "start_time": "2025-01-30T11:58:57.289Z"
   },
   {
    "duration": 15,
    "start_time": "2025-01-30T11:58:57.394Z"
   },
   {
    "duration": 73,
    "start_time": "2025-01-30T11:58:57.411Z"
   },
   {
    "duration": 6,
    "start_time": "2025-01-30T11:58:57.486Z"
   },
   {
    "duration": 33,
    "start_time": "2025-01-30T11:58:57.509Z"
   },
   {
    "duration": 7,
    "start_time": "2025-01-30T11:58:57.543Z"
   },
   {
    "duration": 59,
    "start_time": "2025-01-30T11:58:57.552Z"
   },
   {
    "duration": 10,
    "start_time": "2025-01-30T11:58:57.612Z"
   },
   {
    "duration": 23,
    "start_time": "2025-01-30T11:58:57.623Z"
   },
   {
    "duration": 6,
    "start_time": "2025-01-30T11:58:57.647Z"
   },
   {
    "duration": 19,
    "start_time": "2025-01-30T11:58:57.655Z"
   },
   {
    "duration": 25,
    "start_time": "2025-01-30T11:58:57.675Z"
   },
   {
    "duration": 37,
    "start_time": "2025-01-30T11:58:57.702Z"
   },
   {
    "duration": 178,
    "start_time": "2025-01-30T11:58:57.740Z"
   },
   {
    "duration": 5,
    "start_time": "2025-01-30T11:58:57.920Z"
   },
   {
    "duration": 29,
    "start_time": "2025-01-30T11:58:57.926Z"
   },
   {
    "duration": 20,
    "start_time": "2025-01-30T11:58:57.957Z"
   },
   {
    "duration": 13,
    "start_time": "2025-01-30T11:58:57.979Z"
   },
   {
    "duration": 179,
    "start_time": "2025-01-30T11:58:57.997Z"
   },
   {
    "duration": 4,
    "start_time": "2025-01-30T11:58:58.177Z"
   },
   {
    "duration": 55,
    "start_time": "2025-01-30T11:58:58.183Z"
   },
   {
    "duration": 50,
    "start_time": "2025-01-30T11:58:58.240Z"
   },
   {
    "duration": 136,
    "start_time": "2025-01-30T11:58:58.292Z"
   },
   {
    "duration": 282,
    "start_time": "2025-01-30T11:58:58.429Z"
   },
   {
    "duration": 27,
    "start_time": "2025-01-30T11:58:58.712Z"
   },
   {
    "duration": 18,
    "start_time": "2025-01-30T11:58:58.741Z"
   },
   {
    "duration": 104,
    "start_time": "2025-01-30T11:58:58.760Z"
   },
   {
    "duration": 19,
    "start_time": "2025-01-30T11:58:58.866Z"
   },
   {
    "duration": 24,
    "start_time": "2025-01-30T11:58:58.886Z"
   },
   {
    "duration": 206,
    "start_time": "2025-01-30T11:58:58.912Z"
   },
   {
    "duration": 10,
    "start_time": "2025-01-30T11:58:59.119Z"
   },
   {
    "duration": 16,
    "start_time": "2025-01-30T11:58:59.131Z"
   },
   {
    "duration": 20,
    "start_time": "2025-01-30T11:58:59.149Z"
   },
   {
    "duration": 107,
    "start_time": "2025-01-30T11:58:59.171Z"
   },
   {
    "duration": 14,
    "start_time": "2025-01-30T11:58:59.279Z"
   },
   {
    "duration": 18,
    "start_time": "2025-01-30T11:58:59.295Z"
   },
   {
    "duration": 13,
    "start_time": "2025-01-30T11:58:59.315Z"
   },
   {
    "duration": 9,
    "start_time": "2025-01-30T11:58:59.330Z"
   },
   {
    "duration": 16,
    "start_time": "2025-01-30T11:58:59.341Z"
   },
   {
    "duration": 18,
    "start_time": "2025-01-30T11:58:59.359Z"
   },
   {
    "duration": 9,
    "start_time": "2025-01-30T11:58:59.379Z"
   },
   {
    "duration": 16,
    "start_time": "2025-01-30T11:58:59.390Z"
   },
   {
    "duration": 169,
    "start_time": "2025-01-30T11:58:59.410Z"
   },
   {
    "duration": 3,
    "start_time": "2025-01-30T11:58:59.581Z"
   },
   {
    "duration": 45,
    "start_time": "2025-01-30T11:58:59.586Z"
   },
   {
    "duration": 10,
    "start_time": "2025-01-30T11:58:59.633Z"
   },
   {
    "duration": 20,
    "start_time": "2025-01-30T11:58:59.644Z"
   },
   {
    "duration": 68,
    "start_time": "2025-01-30T11:58:59.666Z"
   },
   {
    "duration": 26,
    "start_time": "2025-01-30T11:58:59.735Z"
   },
   {
    "duration": 40,
    "start_time": "2025-01-30T11:58:59.762Z"
   },
   {
    "duration": 19,
    "start_time": "2025-01-30T11:58:59.804Z"
   },
   {
    "duration": 23,
    "start_time": "2025-01-30T11:58:59.825Z"
   },
   {
    "duration": 6,
    "start_time": "2025-01-30T11:58:59.850Z"
   },
   {
    "duration": 51,
    "start_time": "2025-01-30T11:58:59.858Z"
   },
   {
    "duration": 9,
    "start_time": "2025-01-30T11:58:59.911Z"
   },
   {
    "duration": 6,
    "start_time": "2025-01-30T11:58:59.921Z"
   },
   {
    "duration": 28,
    "start_time": "2025-01-30T11:58:59.928Z"
   },
   {
    "duration": 5,
    "start_time": "2025-01-30T11:58:59.958Z"
   },
   {
    "duration": 171,
    "start_time": "2025-01-30T11:58:59.965Z"
   },
   {
    "duration": 5,
    "start_time": "2025-01-30T11:59:00.138Z"
   },
   {
    "duration": 157,
    "start_time": "2025-01-30T11:59:00.144Z"
   },
   {
    "duration": 99,
    "start_time": "2025-01-30T11:59:00.302Z"
   },
   {
    "duration": 55,
    "start_time": "2025-01-30T11:59:00.403Z"
   },
   {
    "duration": 12,
    "start_time": "2025-01-30T11:59:00.460Z"
   },
   {
    "duration": 93,
    "start_time": "2025-01-30T11:59:00.474Z"
   },
   {
    "duration": 17,
    "start_time": "2025-01-30T11:59:00.568Z"
   },
   {
    "duration": 57,
    "start_time": "2025-01-30T11:59:00.587Z"
   },
   {
    "duration": 12,
    "start_time": "2025-01-30T11:59:00.646Z"
   },
   {
    "duration": 61,
    "start_time": "2025-01-30T11:59:00.660Z"
   },
   {
    "duration": 7,
    "start_time": "2025-01-30T11:59:00.723Z"
   },
   {
    "duration": 42,
    "start_time": "2025-01-30T11:59:00.731Z"
   },
   {
    "duration": 38,
    "start_time": "2025-01-30T11:59:00.774Z"
   },
   {
    "duration": 5,
    "start_time": "2025-01-30T11:59:00.816Z"
   },
   {
    "duration": 93,
    "start_time": "2025-01-30T11:59:00.822Z"
   },
   {
    "duration": 24,
    "start_time": "2025-01-30T11:59:00.917Z"
   },
   {
    "duration": 95,
    "start_time": "2025-01-30T12:01:16.761Z"
   },
   {
    "duration": 25,
    "start_time": "2025-01-30T12:01:17.673Z"
   },
   {
    "duration": 183,
    "start_time": "2025-01-30T12:01:36.257Z"
   },
   {
    "duration": 90,
    "start_time": "2025-01-30T12:01:51.650Z"
   },
   {
    "duration": 11,
    "start_time": "2025-01-30T12:02:07.983Z"
   },
   {
    "duration": 23,
    "start_time": "2025-01-30T12:02:08.695Z"
   },
   {
    "duration": 59,
    "start_time": "2025-01-30T12:03:17.276Z"
   },
   {
    "duration": 24,
    "start_time": "2025-01-30T12:03:18.139Z"
   },
   {
    "duration": 12,
    "start_time": "2025-01-30T12:03:25.099Z"
   },
   {
    "duration": 25,
    "start_time": "2025-01-30T12:03:25.700Z"
   },
   {
    "duration": 64,
    "start_time": "2025-01-30T12:03:32.548Z"
   },
   {
    "duration": 24,
    "start_time": "2025-01-30T12:03:33.117Z"
   },
   {
    "duration": 13,
    "start_time": "2025-01-30T12:03:41.556Z"
   },
   {
    "duration": 23,
    "start_time": "2025-01-30T12:03:41.980Z"
   },
   {
    "duration": 61,
    "start_time": "2025-01-30T12:04:12.013Z"
   },
   {
    "duration": 27,
    "start_time": "2025-01-30T12:04:12.548Z"
   },
   {
    "duration": 88,
    "start_time": "2025-01-30T12:04:19.405Z"
   },
   {
    "duration": 26,
    "start_time": "2025-01-30T12:04:20.000Z"
   },
   {
    "duration": 69,
    "start_time": "2025-01-30T12:06:23.935Z"
   },
   {
    "duration": 25,
    "start_time": "2025-01-30T12:06:24.463Z"
   },
   {
    "duration": 31,
    "start_time": "2025-01-30T12:06:35.704Z"
   },
   {
    "duration": 25,
    "start_time": "2025-01-30T12:06:36.287Z"
   },
   {
    "duration": 33,
    "start_time": "2025-01-30T12:06:45.500Z"
   },
   {
    "duration": 25,
    "start_time": "2025-01-30T12:06:45.852Z"
   },
   {
    "duration": 23,
    "start_time": "2025-01-30T12:06:58.276Z"
   },
   {
    "duration": 35,
    "start_time": "2025-01-30T12:06:58.836Z"
   },
   {
    "duration": 32,
    "start_time": "2025-01-30T12:07:10.148Z"
   },
   {
    "duration": 24,
    "start_time": "2025-01-30T12:07:10.669Z"
   },
   {
    "duration": 2543,
    "start_time": "2025-01-30T12:07:17.444Z"
   },
   {
    "duration": 438,
    "start_time": "2025-01-30T12:07:19.989Z"
   },
   {
    "duration": 814,
    "start_time": "2025-01-30T12:07:20.429Z"
   },
   {
    "duration": 44,
    "start_time": "2025-01-30T12:07:21.245Z"
   },
   {
    "duration": 2921,
    "start_time": "2025-01-30T12:07:21.290Z"
   },
   {
    "duration": 12,
    "start_time": "2025-01-30T12:07:24.213Z"
   },
   {
    "duration": 52,
    "start_time": "2025-01-30T12:07:24.227Z"
   },
   {
    "duration": 191,
    "start_time": "2025-01-30T12:07:24.281Z"
   },
   {
    "duration": 24,
    "start_time": "2025-01-30T12:07:24.474Z"
   },
   {
    "duration": 103,
    "start_time": "2025-01-30T12:07:24.510Z"
   },
   {
    "duration": 10,
    "start_time": "2025-01-30T12:07:24.615Z"
   },
   {
    "duration": 93,
    "start_time": "2025-01-30T12:07:24.626Z"
   },
   {
    "duration": 8,
    "start_time": "2025-01-30T12:07:24.720Z"
   },
   {
    "duration": 36,
    "start_time": "2025-01-30T12:07:24.730Z"
   },
   {
    "duration": 8,
    "start_time": "2025-01-30T12:07:24.767Z"
   },
   {
    "duration": 72,
    "start_time": "2025-01-30T12:07:24.776Z"
   },
   {
    "duration": 10,
    "start_time": "2025-01-30T12:07:24.849Z"
   },
   {
    "duration": 19,
    "start_time": "2025-01-30T12:07:24.861Z"
   },
   {
    "duration": 6,
    "start_time": "2025-01-30T12:07:24.882Z"
   },
   {
    "duration": 16,
    "start_time": "2025-01-30T12:07:24.910Z"
   },
   {
    "duration": 4,
    "start_time": "2025-01-30T12:07:24.927Z"
   },
   {
    "duration": 9,
    "start_time": "2025-01-30T12:07:24.933Z"
   },
   {
    "duration": 199,
    "start_time": "2025-01-30T12:07:24.944Z"
   },
   {
    "duration": 5,
    "start_time": "2025-01-30T12:07:25.144Z"
   },
   {
    "duration": 30,
    "start_time": "2025-01-30T12:07:25.151Z"
   },
   {
    "duration": 9,
    "start_time": "2025-01-30T12:07:25.183Z"
   },
   {
    "duration": 21,
    "start_time": "2025-01-30T12:07:25.194Z"
   },
   {
    "duration": 169,
    "start_time": "2025-01-30T12:07:25.220Z"
   },
   {
    "duration": 4,
    "start_time": "2025-01-30T12:07:25.390Z"
   },
   {
    "duration": 43,
    "start_time": "2025-01-30T12:07:25.396Z"
   },
   {
    "duration": 43,
    "start_time": "2025-01-30T12:07:25.441Z"
   },
   {
    "duration": 131,
    "start_time": "2025-01-30T12:07:25.485Z"
   },
   {
    "duration": 284,
    "start_time": "2025-01-30T12:07:25.618Z"
   },
   {
    "duration": 32,
    "start_time": "2025-01-30T12:07:25.903Z"
   },
   {
    "duration": 16,
    "start_time": "2025-01-30T12:07:25.937Z"
   },
   {
    "duration": 77,
    "start_time": "2025-01-30T12:07:25.954Z"
   },
   {
    "duration": 19,
    "start_time": "2025-01-30T12:07:26.033Z"
   },
   {
    "duration": 12,
    "start_time": "2025-01-30T12:07:26.054Z"
   },
   {
    "duration": 215,
    "start_time": "2025-01-30T12:07:26.068Z"
   },
   {
    "duration": 10,
    "start_time": "2025-01-30T12:07:26.285Z"
   },
   {
    "duration": 26,
    "start_time": "2025-01-30T12:07:26.296Z"
   },
   {
    "duration": 10,
    "start_time": "2025-01-30T12:07:26.324Z"
   },
   {
    "duration": 163,
    "start_time": "2025-01-30T12:07:26.336Z"
   },
   {
    "duration": 18,
    "start_time": "2025-01-30T12:07:26.501Z"
   },
   {
    "duration": 6,
    "start_time": "2025-01-30T12:07:26.521Z"
   },
   {
    "duration": 14,
    "start_time": "2025-01-30T12:07:26.528Z"
   },
   {
    "duration": 8,
    "start_time": "2025-01-30T12:07:26.544Z"
   },
   {
    "duration": 18,
    "start_time": "2025-01-30T12:07:26.554Z"
   },
   {
    "duration": 8,
    "start_time": "2025-01-30T12:07:26.574Z"
   },
   {
    "duration": 4,
    "start_time": "2025-01-30T12:07:26.609Z"
   },
   {
    "duration": 10,
    "start_time": "2025-01-30T12:07:26.614Z"
   },
   {
    "duration": 183,
    "start_time": "2025-01-30T12:07:26.626Z"
   },
   {
    "duration": 3,
    "start_time": "2025-01-30T12:07:26.811Z"
   },
   {
    "duration": 9,
    "start_time": "2025-01-30T12:07:26.815Z"
   },
   {
    "duration": 4,
    "start_time": "2025-01-30T12:07:26.826Z"
   },
   {
    "duration": 11,
    "start_time": "2025-01-30T12:07:26.832Z"
   },
   {
    "duration": 12,
    "start_time": "2025-01-30T12:07:26.845Z"
   },
   {
    "duration": 20,
    "start_time": "2025-01-30T12:07:26.859Z"
   },
   {
    "duration": 47,
    "start_time": "2025-01-30T12:07:26.881Z"
   },
   {
    "duration": 20,
    "start_time": "2025-01-30T12:07:26.929Z"
   },
   {
    "duration": 21,
    "start_time": "2025-01-30T12:07:26.951Z"
   },
   {
    "duration": 6,
    "start_time": "2025-01-30T12:07:26.973Z"
   },
   {
    "duration": 48,
    "start_time": "2025-01-30T12:07:26.981Z"
   },
   {
    "duration": 9,
    "start_time": "2025-01-30T12:07:27.031Z"
   },
   {
    "duration": 9,
    "start_time": "2025-01-30T12:07:27.041Z"
   },
   {
    "duration": 21,
    "start_time": "2025-01-30T12:07:27.052Z"
   },
   {
    "duration": 9,
    "start_time": "2025-01-30T12:07:27.075Z"
   },
   {
    "duration": 175,
    "start_time": "2025-01-30T12:07:27.086Z"
   },
   {
    "duration": 5,
    "start_time": "2025-01-30T12:07:27.262Z"
   },
   {
    "duration": 49,
    "start_time": "2025-01-30T12:07:27.269Z"
   },
   {
    "duration": 25,
    "start_time": "2025-01-30T12:07:27.320Z"
   },
   {
    "duration": 48,
    "start_time": "2025-01-30T12:07:27.347Z"
   },
   {
    "duration": 4,
    "start_time": "2025-01-30T12:07:27.396Z"
   },
   {
    "duration": 4,
    "start_time": "2025-01-30T12:07:27.410Z"
   },
   {
    "duration": 5,
    "start_time": "2025-01-30T12:07:27.416Z"
   },
   {
    "duration": 50,
    "start_time": "2025-01-30T12:07:27.423Z"
   },
   {
    "duration": 43,
    "start_time": "2025-01-30T12:07:27.475Z"
   },
   {
    "duration": 42,
    "start_time": "2025-01-30T12:07:27.519Z"
   },
   {
    "duration": 7,
    "start_time": "2025-01-30T12:07:27.563Z"
   },
   {
    "duration": 10,
    "start_time": "2025-01-30T12:07:27.572Z"
   },
   {
    "duration": 48,
    "start_time": "2025-01-30T12:07:27.583Z"
   },
   {
    "duration": 4,
    "start_time": "2025-01-30T12:07:27.635Z"
   },
   {
    "duration": 36,
    "start_time": "2025-01-30T12:07:27.640Z"
   },
   {
    "duration": 42,
    "start_time": "2025-01-30T12:07:27.678Z"
   },
   {
    "duration": 34,
    "start_time": "2025-01-30T12:08:03.437Z"
   },
   {
    "duration": 27,
    "start_time": "2025-01-30T12:08:03.921Z"
   },
   {
    "duration": 65,
    "start_time": "2025-01-30T12:09:25.565Z"
   },
   {
    "duration": 106,
    "start_time": "2025-01-30T12:09:26.639Z"
   },
   {
    "duration": 23,
    "start_time": "2025-01-30T12:10:20.332Z"
   },
   {
    "duration": 24,
    "start_time": "2025-01-30T12:10:32.748Z"
   },
   {
    "duration": 69,
    "start_time": "2025-01-30T12:11:11.997Z"
   },
   {
    "duration": 5,
    "start_time": "2025-01-30T12:11:12.749Z"
   },
   {
    "duration": 22,
    "start_time": "2025-01-30T12:11:13.965Z"
   },
   {
    "duration": 4,
    "start_time": "2025-01-30T12:11:22.981Z"
   },
   {
    "duration": 4,
    "start_time": "2025-01-30T12:11:23.849Z"
   },
   {
    "duration": 69,
    "start_time": "2025-01-30T12:17:03.726Z"
   },
   {
    "duration": 11,
    "start_time": "2025-01-30T12:17:44.596Z"
   },
   {
    "duration": 81,
    "start_time": "2025-01-30T12:25:13.268Z"
   },
   {
    "duration": 144,
    "start_time": "2025-01-30T12:27:33.631Z"
   },
   {
    "duration": 2501,
    "start_time": "2025-01-30T12:28:53.446Z"
   },
   {
    "duration": 381,
    "start_time": "2025-01-30T12:28:55.949Z"
   },
   {
    "duration": 808,
    "start_time": "2025-01-30T12:28:56.332Z"
   },
   {
    "duration": 46,
    "start_time": "2025-01-30T12:28:57.142Z"
   },
   {
    "duration": 2372,
    "start_time": "2025-01-30T12:28:57.190Z"
   },
   {
    "duration": 11,
    "start_time": "2025-01-30T12:28:59.564Z"
   },
   {
    "duration": 19,
    "start_time": "2025-01-30T12:28:59.577Z"
   },
   {
    "duration": 202,
    "start_time": "2025-01-30T12:28:59.598Z"
   },
   {
    "duration": 28,
    "start_time": "2025-01-30T12:28:59.802Z"
   },
   {
    "duration": 117,
    "start_time": "2025-01-30T12:28:59.833Z"
   },
   {
    "duration": 9,
    "start_time": "2025-01-30T12:28:59.951Z"
   },
   {
    "duration": 96,
    "start_time": "2025-01-30T12:28:59.961Z"
   },
   {
    "duration": 8,
    "start_time": "2025-01-30T12:29:00.058Z"
   },
   {
    "duration": 81,
    "start_time": "2025-01-30T12:29:00.067Z"
   },
   {
    "duration": 14,
    "start_time": "2025-01-30T12:29:00.149Z"
   },
   {
    "duration": 62,
    "start_time": "2025-01-30T12:29:00.164Z"
   },
   {
    "duration": 14,
    "start_time": "2025-01-30T12:29:00.228Z"
   },
   {
    "duration": 58,
    "start_time": "2025-01-30T12:29:00.243Z"
   },
   {
    "duration": 87,
    "start_time": "2025-01-30T12:29:00.302Z"
   },
   {
    "duration": 28,
    "start_time": "2025-01-30T12:29:00.391Z"
   },
   {
    "duration": 75,
    "start_time": "2025-01-30T12:29:00.421Z"
   },
   {
    "duration": 34,
    "start_time": "2025-01-30T12:29:00.497Z"
   },
   {
    "duration": 195,
    "start_time": "2025-01-30T12:29:00.532Z"
   },
   {
    "duration": 5,
    "start_time": "2025-01-30T12:29:00.729Z"
   },
   {
    "duration": 35,
    "start_time": "2025-01-30T12:29:00.735Z"
   },
   {
    "duration": 14,
    "start_time": "2025-01-30T12:29:00.771Z"
   },
   {
    "duration": 37,
    "start_time": "2025-01-30T12:29:00.787Z"
   },
   {
    "duration": 150,
    "start_time": "2025-01-30T12:29:00.829Z"
   },
   {
    "duration": 3,
    "start_time": "2025-01-30T12:29:00.981Z"
   },
   {
    "duration": 27,
    "start_time": "2025-01-30T12:29:00.986Z"
   },
   {
    "duration": 49,
    "start_time": "2025-01-30T12:29:01.015Z"
   },
   {
    "duration": 128,
    "start_time": "2025-01-30T12:29:01.065Z"
   },
   {
    "duration": 287,
    "start_time": "2025-01-30T12:29:01.194Z"
   },
   {
    "duration": 30,
    "start_time": "2025-01-30T12:29:01.483Z"
   },
   {
    "duration": 17,
    "start_time": "2025-01-30T12:29:01.514Z"
   },
   {
    "duration": 77,
    "start_time": "2025-01-30T12:29:01.533Z"
   },
   {
    "duration": 20,
    "start_time": "2025-01-30T12:29:01.612Z"
   },
   {
    "duration": 17,
    "start_time": "2025-01-30T12:29:01.633Z"
   },
   {
    "duration": 214,
    "start_time": "2025-01-30T12:29:01.652Z"
   },
   {
    "duration": 11,
    "start_time": "2025-01-30T12:29:01.867Z"
   },
   {
    "duration": 50,
    "start_time": "2025-01-30T12:29:01.880Z"
   },
   {
    "duration": 22,
    "start_time": "2025-01-30T12:29:01.932Z"
   },
   {
    "duration": 107,
    "start_time": "2025-01-30T12:29:01.955Z"
   },
   {
    "duration": 48,
    "start_time": "2025-01-30T12:29:02.064Z"
   },
   {
    "duration": 84,
    "start_time": "2025-01-30T12:29:02.114Z"
   },
   {
    "duration": 49,
    "start_time": "2025-01-30T12:29:02.199Z"
   },
   {
    "duration": 52,
    "start_time": "2025-01-30T12:29:02.250Z"
   },
   {
    "duration": 169,
    "start_time": "2025-01-30T12:29:02.304Z"
   },
   {
    "duration": 46,
    "start_time": "2025-01-30T12:29:02.475Z"
   },
   {
    "duration": 68,
    "start_time": "2025-01-30T12:29:02.523Z"
   },
   {
    "duration": 61,
    "start_time": "2025-01-30T12:29:02.592Z"
   },
   {
    "duration": 185,
    "start_time": "2025-01-30T12:29:02.655Z"
   },
   {
    "duration": 4,
    "start_time": "2025-01-30T12:29:02.842Z"
   },
   {
    "duration": 24,
    "start_time": "2025-01-30T12:29:02.848Z"
   },
   {
    "duration": 33,
    "start_time": "2025-01-30T12:29:02.874Z"
   },
   {
    "duration": 47,
    "start_time": "2025-01-30T12:29:02.909Z"
   },
   {
    "duration": 25,
    "start_time": "2025-01-30T12:29:02.958Z"
   },
   {
    "duration": 50,
    "start_time": "2025-01-30T12:29:02.985Z"
   },
   {
    "duration": 47,
    "start_time": "2025-01-30T12:29:03.037Z"
   },
   {
    "duration": 21,
    "start_time": "2025-01-30T12:29:03.086Z"
   },
   {
    "duration": 50,
    "start_time": "2025-01-30T12:29:03.109Z"
   },
   {
    "duration": 7,
    "start_time": "2025-01-30T12:29:03.161Z"
   },
   {
    "duration": 45,
    "start_time": "2025-01-30T12:29:03.171Z"
   },
   {
    "duration": 24,
    "start_time": "2025-01-30T12:29:03.218Z"
   },
   {
    "duration": 23,
    "start_time": "2025-01-30T12:29:03.243Z"
   },
   {
    "duration": 69,
    "start_time": "2025-01-30T12:29:03.268Z"
   },
   {
    "duration": 8,
    "start_time": "2025-01-30T12:29:03.338Z"
   },
   {
    "duration": 189,
    "start_time": "2025-01-30T12:29:03.347Z"
   },
   {
    "duration": 6,
    "start_time": "2025-01-30T12:29:03.537Z"
   },
   {
    "duration": 55,
    "start_time": "2025-01-30T12:29:03.544Z"
   },
   {
    "duration": 30,
    "start_time": "2025-01-30T12:29:03.600Z"
   },
   {
    "duration": 49,
    "start_time": "2025-01-30T12:29:03.631Z"
   },
   {
    "duration": 3,
    "start_time": "2025-01-30T12:29:03.682Z"
   },
   {
    "duration": 21,
    "start_time": "2025-01-30T12:29:03.687Z"
   },
   {
    "duration": 27,
    "start_time": "2025-01-30T12:29:03.710Z"
   },
   {
    "duration": 59,
    "start_time": "2025-01-30T12:29:03.739Z"
   },
   {
    "duration": 76,
    "start_time": "2025-01-30T12:29:03.800Z"
   },
   {
    "duration": 61,
    "start_time": "2025-01-30T12:29:03.878Z"
   },
   {
    "duration": 8,
    "start_time": "2025-01-30T12:29:03.940Z"
   },
   {
    "duration": 32,
    "start_time": "2025-01-30T12:29:03.949Z"
   },
   {
    "duration": 36,
    "start_time": "2025-01-30T12:29:03.982Z"
   },
   {
    "duration": 34,
    "start_time": "2025-01-30T12:29:04.023Z"
   },
   {
    "duration": 80,
    "start_time": "2025-01-30T12:29:04.059Z"
   },
   {
    "duration": 11,
    "start_time": "2025-01-30T12:29:04.141Z"
   },
   {
    "duration": 169,
    "start_time": "2025-01-30T12:29:04.154Z"
   },
   {
    "duration": 77,
    "start_time": "2025-01-30T12:29:47.470Z"
   },
   {
    "duration": 74,
    "start_time": "2025-01-30T12:29:55.222Z"
   },
   {
    "duration": 25,
    "start_time": "2025-01-30T12:38:36.827Z"
   },
   {
    "duration": 58,
    "start_time": "2025-01-30T12:45:59.939Z"
   },
   {
    "duration": 62,
    "start_time": "2025-01-30T12:46:08.275Z"
   },
   {
    "duration": 18,
    "start_time": "2025-01-30T12:46:17.243Z"
   },
   {
    "duration": 22,
    "start_time": "2025-01-30T12:46:18.007Z"
   },
   {
    "duration": 16,
    "start_time": "2025-01-30T12:46:32.544Z"
   },
   {
    "duration": 13,
    "start_time": "2025-01-30T12:46:34.047Z"
   },
   {
    "duration": 7,
    "start_time": "2025-01-30T12:47:06.240Z"
   },
   {
    "duration": 5,
    "start_time": "2025-01-30T12:47:30.797Z"
   },
   {
    "duration": 8,
    "start_time": "2025-01-30T12:54:30.923Z"
   },
   {
    "duration": 14,
    "start_time": "2025-01-30T12:54:37.482Z"
   },
   {
    "duration": 11,
    "start_time": "2025-01-30T12:55:00.127Z"
   },
   {
    "duration": 106,
    "start_time": "2025-01-30T12:55:14.518Z"
   },
   {
    "duration": 15,
    "start_time": "2025-01-30T12:55:26.814Z"
   },
   {
    "duration": 14,
    "start_time": "2025-01-30T12:55:35.551Z"
   },
   {
    "duration": 3,
    "start_time": "2025-01-30T12:56:03.651Z"
   },
   {
    "duration": 11,
    "start_time": "2025-01-30T12:56:21.620Z"
   },
   {
    "duration": 2434,
    "start_time": "2025-01-30T12:56:30.861Z"
   },
   {
    "duration": 429,
    "start_time": "2025-01-30T12:56:33.297Z"
   },
   {
    "duration": 804,
    "start_time": "2025-01-30T12:56:33.727Z"
   },
   {
    "duration": 48,
    "start_time": "2025-01-30T12:56:34.533Z"
   },
   {
    "duration": 2288,
    "start_time": "2025-01-30T12:56:34.582Z"
   },
   {
    "duration": 11,
    "start_time": "2025-01-30T12:56:36.872Z"
   },
   {
    "duration": 21,
    "start_time": "2025-01-30T12:56:36.885Z"
   },
   {
    "duration": 212,
    "start_time": "2025-01-30T12:56:36.907Z"
   },
   {
    "duration": 22,
    "start_time": "2025-01-30T12:56:37.120Z"
   },
   {
    "duration": 114,
    "start_time": "2025-01-30T12:56:37.144Z"
   },
   {
    "duration": 8,
    "start_time": "2025-01-30T12:56:37.260Z"
   },
   {
    "duration": 94,
    "start_time": "2025-01-30T12:56:37.270Z"
   },
   {
    "duration": 7,
    "start_time": "2025-01-30T12:56:37.366Z"
   },
   {
    "duration": 57,
    "start_time": "2025-01-30T12:56:37.375Z"
   },
   {
    "duration": 7,
    "start_time": "2025-01-30T12:56:37.434Z"
   },
   {
    "duration": 71,
    "start_time": "2025-01-30T12:56:37.443Z"
   },
   {
    "duration": 9,
    "start_time": "2025-01-30T12:56:37.516Z"
   },
   {
    "duration": 37,
    "start_time": "2025-01-30T12:56:37.526Z"
   },
   {
    "duration": 10,
    "start_time": "2025-01-30T12:56:37.564Z"
   },
   {
    "duration": 28,
    "start_time": "2025-01-30T12:56:37.576Z"
   },
   {
    "duration": 15,
    "start_time": "2025-01-30T12:56:37.605Z"
   },
   {
    "duration": 39,
    "start_time": "2025-01-30T12:56:37.622Z"
   },
   {
    "duration": 177,
    "start_time": "2025-01-30T12:56:37.663Z"
   },
   {
    "duration": 4,
    "start_time": "2025-01-30T12:56:37.842Z"
   },
   {
    "duration": 105,
    "start_time": "2025-01-30T12:56:37.847Z"
   },
   {
    "duration": 4,
    "start_time": "2025-01-30T12:56:37.954Z"
   },
   {
    "duration": 8,
    "start_time": "2025-01-30T12:56:37.960Z"
   },
   {
    "duration": 178,
    "start_time": "2025-01-30T12:56:37.972Z"
   },
   {
    "duration": 4,
    "start_time": "2025-01-30T12:56:38.152Z"
   },
   {
    "duration": 28,
    "start_time": "2025-01-30T12:56:38.157Z"
   },
   {
    "duration": 43,
    "start_time": "2025-01-30T12:56:38.186Z"
   },
   {
    "duration": 126,
    "start_time": "2025-01-30T12:56:38.231Z"
   },
   {
    "duration": 285,
    "start_time": "2025-01-30T12:56:38.358Z"
   },
   {
    "duration": 25,
    "start_time": "2025-01-30T12:56:38.644Z"
   },
   {
    "duration": 15,
    "start_time": "2025-01-30T12:56:38.670Z"
   },
   {
    "duration": 90,
    "start_time": "2025-01-30T12:56:38.687Z"
   },
   {
    "duration": 18,
    "start_time": "2025-01-30T12:56:38.778Z"
   },
   {
    "duration": 27,
    "start_time": "2025-01-30T12:56:38.797Z"
   },
   {
    "duration": 221,
    "start_time": "2025-01-30T12:56:38.826Z"
   },
   {
    "duration": 11,
    "start_time": "2025-01-30T12:56:39.048Z"
   },
   {
    "duration": 18,
    "start_time": "2025-01-30T12:56:39.061Z"
   },
   {
    "duration": 10,
    "start_time": "2025-01-30T12:56:39.081Z"
   },
   {
    "duration": 101,
    "start_time": "2025-01-30T12:56:39.109Z"
   },
   {
    "duration": 15,
    "start_time": "2025-01-30T12:56:39.212Z"
   },
   {
    "duration": 3,
    "start_time": "2025-01-30T12:56:39.228Z"
   },
   {
    "duration": 12,
    "start_time": "2025-01-30T12:56:39.232Z"
   },
   {
    "duration": 8,
    "start_time": "2025-01-30T12:56:39.245Z"
   },
   {
    "duration": 16,
    "start_time": "2025-01-30T12:56:39.254Z"
   },
   {
    "duration": 39,
    "start_time": "2025-01-30T12:56:39.272Z"
   },
   {
    "duration": 4,
    "start_time": "2025-01-30T12:56:39.313Z"
   },
   {
    "duration": 8,
    "start_time": "2025-01-30T12:56:39.319Z"
   },
   {
    "duration": 175,
    "start_time": "2025-01-30T12:56:39.329Z"
   },
   {
    "duration": 4,
    "start_time": "2025-01-30T12:56:39.508Z"
   },
   {
    "duration": 39,
    "start_time": "2025-01-30T12:56:39.514Z"
   },
   {
    "duration": 9,
    "start_time": "2025-01-30T12:56:39.555Z"
   },
   {
    "duration": 33,
    "start_time": "2025-01-30T12:56:39.565Z"
   },
   {
    "duration": 21,
    "start_time": "2025-01-30T12:56:39.599Z"
   },
   {
    "duration": 12,
    "start_time": "2025-01-30T12:56:39.622Z"
   },
   {
    "duration": 42,
    "start_time": "2025-01-30T12:56:39.635Z"
   },
   {
    "duration": 18,
    "start_time": "2025-01-30T12:56:39.679Z"
   },
   {
    "duration": 32,
    "start_time": "2025-01-30T12:56:39.699Z"
   },
   {
    "duration": 6,
    "start_time": "2025-01-30T12:56:39.733Z"
   },
   {
    "duration": 40,
    "start_time": "2025-01-30T12:56:39.741Z"
   },
   {
    "duration": 23,
    "start_time": "2025-01-30T12:56:39.783Z"
   },
   {
    "duration": 19,
    "start_time": "2025-01-30T12:56:39.807Z"
   },
   {
    "duration": 28,
    "start_time": "2025-01-30T12:56:39.828Z"
   },
   {
    "duration": 5,
    "start_time": "2025-01-30T12:56:39.857Z"
   },
   {
    "duration": 148,
    "start_time": "2025-01-30T12:56:39.863Z"
   },
   {
    "duration": 5,
    "start_time": "2025-01-30T12:56:40.013Z"
   },
   {
    "duration": 61,
    "start_time": "2025-01-30T12:56:40.020Z"
   },
   {
    "duration": 22,
    "start_time": "2025-01-30T12:56:40.083Z"
   },
   {
    "duration": 40,
    "start_time": "2025-01-30T12:56:40.107Z"
   },
   {
    "duration": 4,
    "start_time": "2025-01-30T12:56:40.148Z"
   },
   {
    "duration": 13,
    "start_time": "2025-01-30T12:56:40.153Z"
   },
   {
    "duration": 10,
    "start_time": "2025-01-30T12:56:40.167Z"
   },
   {
    "duration": 59,
    "start_time": "2025-01-30T12:56:40.178Z"
   },
   {
    "duration": 11,
    "start_time": "2025-01-30T12:56:40.239Z"
   },
   {
    "duration": 40,
    "start_time": "2025-01-30T12:56:40.251Z"
   },
   {
    "duration": 10,
    "start_time": "2025-01-30T12:56:40.309Z"
   },
   {
    "duration": 8,
    "start_time": "2025-01-30T12:56:40.320Z"
   },
   {
    "duration": 28,
    "start_time": "2025-01-30T12:56:40.329Z"
   },
   {
    "duration": 3,
    "start_time": "2025-01-30T12:56:40.362Z"
   },
   {
    "duration": 90,
    "start_time": "2025-01-30T12:56:40.367Z"
   },
   {
    "duration": 12,
    "start_time": "2025-01-30T12:56:40.459Z"
   },
   {
    "duration": 43,
    "start_time": "2025-01-30T12:56:40.472Z"
   },
   {
    "duration": 3,
    "start_time": "2025-01-30T12:56:40.517Z"
   },
   {
    "duration": 15,
    "start_time": "2025-01-30T12:56:40.521Z"
   },
   {
    "duration": 109,
    "start_time": "2025-01-30T12:58:00.423Z"
   },
   {
    "duration": 17,
    "start_time": "2025-01-30T14:42:13.004Z"
   },
   {
    "duration": 15,
    "start_time": "2025-01-30T14:42:52.948Z"
   },
   {
    "duration": 12,
    "start_time": "2025-01-30T14:47:22.403Z"
   },
   {
    "duration": 75,
    "start_time": "2025-01-30T14:47:31.858Z"
   },
   {
    "duration": 7,
    "start_time": "2025-01-30T14:48:03.175Z"
   },
   {
    "duration": 72,
    "start_time": "2025-01-30T14:48:03.795Z"
   },
   {
    "duration": 2520,
    "start_time": "2025-01-30T14:50:03.815Z"
   },
   {
    "duration": 407,
    "start_time": "2025-01-30T14:50:06.337Z"
   },
   {
    "duration": 810,
    "start_time": "2025-01-30T14:50:06.746Z"
   },
   {
    "duration": 47,
    "start_time": "2025-01-30T14:50:07.558Z"
   },
   {
    "duration": 2637,
    "start_time": "2025-01-30T14:50:07.607Z"
   },
   {
    "duration": 11,
    "start_time": "2025-01-30T14:50:10.246Z"
   },
   {
    "duration": 34,
    "start_time": "2025-01-30T14:50:10.259Z"
   },
   {
    "duration": 226,
    "start_time": "2025-01-30T14:50:10.294Z"
   },
   {
    "duration": 25,
    "start_time": "2025-01-30T14:50:10.521Z"
   },
   {
    "duration": 106,
    "start_time": "2025-01-30T14:50:10.548Z"
   },
   {
    "duration": 9,
    "start_time": "2025-01-30T14:50:10.656Z"
   },
   {
    "duration": 91,
    "start_time": "2025-01-30T14:50:10.666Z"
   },
   {
    "duration": 7,
    "start_time": "2025-01-30T14:50:10.759Z"
   },
   {
    "duration": 49,
    "start_time": "2025-01-30T14:50:10.768Z"
   },
   {
    "duration": 8,
    "start_time": "2025-01-30T14:50:10.818Z"
   },
   {
    "duration": 54,
    "start_time": "2025-01-30T14:50:10.828Z"
   },
   {
    "duration": 9,
    "start_time": "2025-01-30T14:50:10.884Z"
   },
   {
    "duration": 46,
    "start_time": "2025-01-30T14:50:10.895Z"
   },
   {
    "duration": 59,
    "start_time": "2025-01-30T14:50:10.942Z"
   },
   {
    "duration": 85,
    "start_time": "2025-01-30T14:50:11.003Z"
   },
   {
    "duration": 12,
    "start_time": "2025-01-30T14:50:11.090Z"
   },
   {
    "duration": 28,
    "start_time": "2025-01-30T14:50:11.104Z"
   },
   {
    "duration": 198,
    "start_time": "2025-01-30T14:50:11.134Z"
   },
   {
    "duration": 5,
    "start_time": "2025-01-30T14:50:11.333Z"
   },
   {
    "duration": 44,
    "start_time": "2025-01-30T14:50:11.339Z"
   },
   {
    "duration": 4,
    "start_time": "2025-01-30T14:50:11.385Z"
   },
   {
    "duration": 7,
    "start_time": "2025-01-30T14:50:11.390Z"
   },
   {
    "duration": 170,
    "start_time": "2025-01-30T14:50:11.401Z"
   },
   {
    "duration": 4,
    "start_time": "2025-01-30T14:50:11.572Z"
   },
   {
    "duration": 14,
    "start_time": "2025-01-30T14:50:11.577Z"
   },
   {
    "duration": 55,
    "start_time": "2025-01-30T14:50:11.593Z"
   },
   {
    "duration": 138,
    "start_time": "2025-01-30T14:50:11.649Z"
   },
   {
    "duration": 287,
    "start_time": "2025-01-30T14:50:11.788Z"
   },
   {
    "duration": 34,
    "start_time": "2025-01-30T14:50:12.077Z"
   },
   {
    "duration": 17,
    "start_time": "2025-01-30T14:50:12.113Z"
   },
   {
    "duration": 65,
    "start_time": "2025-01-30T14:50:12.132Z"
   },
   {
    "duration": 29,
    "start_time": "2025-01-30T14:50:12.198Z"
   },
   {
    "duration": 26,
    "start_time": "2025-01-30T14:50:12.229Z"
   },
   {
    "duration": 263,
    "start_time": "2025-01-30T14:50:12.258Z"
   },
   {
    "duration": 11,
    "start_time": "2025-01-30T14:50:12.523Z"
   },
   {
    "duration": 22,
    "start_time": "2025-01-30T14:50:12.536Z"
   },
   {
    "duration": 10,
    "start_time": "2025-01-30T14:50:12.560Z"
   },
   {
    "duration": 121,
    "start_time": "2025-01-30T14:50:12.571Z"
   },
   {
    "duration": 19,
    "start_time": "2025-01-30T14:50:12.694Z"
   },
   {
    "duration": 23,
    "start_time": "2025-01-30T14:50:12.714Z"
   },
   {
    "duration": 35,
    "start_time": "2025-01-30T14:50:12.738Z"
   },
   {
    "duration": 10,
    "start_time": "2025-01-30T14:50:12.775Z"
   },
   {
    "duration": 19,
    "start_time": "2025-01-30T14:50:12.786Z"
   },
   {
    "duration": 9,
    "start_time": "2025-01-30T14:50:12.806Z"
   },
   {
    "duration": 14,
    "start_time": "2025-01-30T14:50:12.816Z"
   },
   {
    "duration": 14,
    "start_time": "2025-01-30T14:50:12.831Z"
   },
   {
    "duration": 165,
    "start_time": "2025-01-30T14:50:12.846Z"
   },
   {
    "duration": 4,
    "start_time": "2025-01-30T14:50:13.013Z"
   },
   {
    "duration": 56,
    "start_time": "2025-01-30T14:50:13.018Z"
   },
   {
    "duration": 7,
    "start_time": "2025-01-30T14:50:13.075Z"
   },
   {
    "duration": 10,
    "start_time": "2025-01-30T14:50:13.083Z"
   },
   {
    "duration": 16,
    "start_time": "2025-01-30T14:50:13.094Z"
   },
   {
    "duration": 14,
    "start_time": "2025-01-30T14:50:13.112Z"
   },
   {
    "duration": 46,
    "start_time": "2025-01-30T14:50:13.127Z"
   },
   {
    "duration": 20,
    "start_time": "2025-01-30T14:50:13.175Z"
   },
   {
    "duration": 29,
    "start_time": "2025-01-30T14:50:13.197Z"
   },
   {
    "duration": 7,
    "start_time": "2025-01-30T14:50:13.227Z"
   },
   {
    "duration": 23,
    "start_time": "2025-01-30T14:50:13.236Z"
   },
   {
    "duration": 7,
    "start_time": "2025-01-30T14:50:13.261Z"
   },
   {
    "duration": 7,
    "start_time": "2025-01-30T14:50:13.269Z"
   },
   {
    "duration": 44,
    "start_time": "2025-01-30T14:50:13.277Z"
   },
   {
    "duration": 5,
    "start_time": "2025-01-30T14:50:13.323Z"
   },
   {
    "duration": 163,
    "start_time": "2025-01-30T14:50:13.330Z"
   },
   {
    "duration": 5,
    "start_time": "2025-01-30T14:50:13.495Z"
   },
   {
    "duration": 44,
    "start_time": "2025-01-30T14:50:13.501Z"
   },
   {
    "duration": 23,
    "start_time": "2025-01-30T14:50:13.547Z"
   },
   {
    "duration": 64,
    "start_time": "2025-01-30T14:50:13.572Z"
   },
   {
    "duration": 4,
    "start_time": "2025-01-30T14:50:13.638Z"
   },
   {
    "duration": 7,
    "start_time": "2025-01-30T14:50:13.644Z"
   },
   {
    "duration": 4,
    "start_time": "2025-01-30T14:50:13.652Z"
   },
   {
    "duration": 69,
    "start_time": "2025-01-30T14:50:13.658Z"
   },
   {
    "duration": 13,
    "start_time": "2025-01-30T14:50:13.728Z"
   },
   {
    "duration": 42,
    "start_time": "2025-01-30T14:50:13.742Z"
   },
   {
    "duration": 23,
    "start_time": "2025-01-30T14:50:13.786Z"
   },
   {
    "duration": 12,
    "start_time": "2025-01-30T14:50:13.811Z"
   },
   {
    "duration": 24,
    "start_time": "2025-01-30T14:50:13.825Z"
   },
   {
    "duration": 4,
    "start_time": "2025-01-30T14:50:13.854Z"
   },
   {
    "duration": 9,
    "start_time": "2025-01-30T14:50:13.860Z"
   },
   {
    "duration": 104,
    "start_time": "2025-01-30T14:50:13.871Z"
   },
   {
    "duration": 113,
    "start_time": "2025-01-30T14:50:13.977Z"
   },
   {
    "duration": 0,
    "start_time": "2025-01-30T14:50:14.091Z"
   },
   {
    "duration": 0,
    "start_time": "2025-01-30T14:50:14.092Z"
   },
   {
    "duration": 0,
    "start_time": "2025-01-30T14:50:14.094Z"
   },
   {
    "duration": 21,
    "start_time": "2025-01-30T14:51:18.524Z"
   },
   {
    "duration": 8,
    "start_time": "2025-01-30T14:51:25.051Z"
   },
   {
    "duration": 4,
    "start_time": "2025-01-30T14:51:37.489Z"
   },
   {
    "duration": 72,
    "start_time": "2025-01-30T14:51:37.896Z"
   },
   {
    "duration": 22,
    "start_time": "2025-01-30T14:51:38.807Z"
   },
   {
    "duration": 9,
    "start_time": "2025-01-30T14:51:39.574Z"
   },
   {
    "duration": 2545,
    "start_time": "2025-01-30T14:51:48.329Z"
   },
   {
    "duration": 380,
    "start_time": "2025-01-30T14:51:50.876Z"
   },
   {
    "duration": 777,
    "start_time": "2025-01-30T14:51:51.258Z"
   },
   {
    "duration": 50,
    "start_time": "2025-01-30T14:51:52.037Z"
   },
   {
    "duration": 2086,
    "start_time": "2025-01-30T14:51:52.088Z"
   },
   {
    "duration": 12,
    "start_time": "2025-01-30T14:51:54.175Z"
   },
   {
    "duration": 17,
    "start_time": "2025-01-30T14:51:54.188Z"
   },
   {
    "duration": 189,
    "start_time": "2025-01-30T14:51:54.207Z"
   },
   {
    "duration": 33,
    "start_time": "2025-01-30T14:51:54.397Z"
   },
   {
    "duration": 107,
    "start_time": "2025-01-30T14:51:54.433Z"
   },
   {
    "duration": 9,
    "start_time": "2025-01-30T14:51:54.542Z"
   },
   {
    "duration": 88,
    "start_time": "2025-01-30T14:51:54.553Z"
   },
   {
    "duration": 9,
    "start_time": "2025-01-30T14:51:54.643Z"
   },
   {
    "duration": 50,
    "start_time": "2025-01-30T14:51:54.653Z"
   },
   {
    "duration": 12,
    "start_time": "2025-01-30T14:51:54.704Z"
   },
   {
    "duration": 48,
    "start_time": "2025-01-30T14:51:54.717Z"
   },
   {
    "duration": 9,
    "start_time": "2025-01-30T14:51:54.767Z"
   },
   {
    "duration": 46,
    "start_time": "2025-01-30T14:51:54.777Z"
   },
   {
    "duration": 7,
    "start_time": "2025-01-30T14:51:54.825Z"
   },
   {
    "duration": 14,
    "start_time": "2025-01-30T14:51:54.834Z"
   },
   {
    "duration": 3,
    "start_time": "2025-01-30T14:51:54.850Z"
   },
   {
    "duration": 18,
    "start_time": "2025-01-30T14:51:54.855Z"
   },
   {
    "duration": 199,
    "start_time": "2025-01-30T14:51:54.874Z"
   },
   {
    "duration": 5,
    "start_time": "2025-01-30T14:51:55.075Z"
   },
   {
    "duration": 41,
    "start_time": "2025-01-30T14:51:55.082Z"
   },
   {
    "duration": 6,
    "start_time": "2025-01-30T14:51:55.125Z"
   },
   {
    "duration": 47,
    "start_time": "2025-01-30T14:51:55.133Z"
   },
   {
    "duration": 166,
    "start_time": "2025-01-30T14:51:55.185Z"
   },
   {
    "duration": 5,
    "start_time": "2025-01-30T14:51:55.353Z"
   },
   {
    "duration": 26,
    "start_time": "2025-01-30T14:51:55.359Z"
   },
   {
    "duration": 46,
    "start_time": "2025-01-30T14:51:55.386Z"
   },
   {
    "duration": 148,
    "start_time": "2025-01-30T14:51:55.434Z"
   },
   {
    "duration": 307,
    "start_time": "2025-01-30T14:51:55.584Z"
   },
   {
    "duration": 39,
    "start_time": "2025-01-30T14:51:55.893Z"
   },
   {
    "duration": 17,
    "start_time": "2025-01-30T14:51:55.934Z"
   },
   {
    "duration": 85,
    "start_time": "2025-01-30T14:51:55.953Z"
   },
   {
    "duration": 18,
    "start_time": "2025-01-30T14:51:56.040Z"
   },
   {
    "duration": 22,
    "start_time": "2025-01-30T14:51:56.060Z"
   },
   {
    "duration": 226,
    "start_time": "2025-01-30T14:51:56.083Z"
   },
   {
    "duration": 13,
    "start_time": "2025-01-30T14:51:56.311Z"
   },
   {
    "duration": 37,
    "start_time": "2025-01-30T14:51:56.326Z"
   },
   {
    "duration": 11,
    "start_time": "2025-01-30T14:51:56.365Z"
   },
   {
    "duration": 109,
    "start_time": "2025-01-30T14:51:56.378Z"
   },
   {
    "duration": 24,
    "start_time": "2025-01-30T14:51:56.489Z"
   },
   {
    "duration": 4,
    "start_time": "2025-01-30T14:51:56.515Z"
   },
   {
    "duration": 10,
    "start_time": "2025-01-30T14:51:56.521Z"
   },
   {
    "duration": 16,
    "start_time": "2025-01-30T14:51:56.533Z"
   },
   {
    "duration": 19,
    "start_time": "2025-01-30T14:51:56.551Z"
   },
   {
    "duration": 8,
    "start_time": "2025-01-30T14:51:56.572Z"
   },
   {
    "duration": 29,
    "start_time": "2025-01-30T14:51:56.581Z"
   },
   {
    "duration": 8,
    "start_time": "2025-01-30T14:51:56.612Z"
   },
   {
    "duration": 180,
    "start_time": "2025-01-30T14:51:56.622Z"
   },
   {
    "duration": 7,
    "start_time": "2025-01-30T14:51:56.803Z"
   },
   {
    "duration": 9,
    "start_time": "2025-01-30T14:51:56.812Z"
   },
   {
    "duration": 17,
    "start_time": "2025-01-30T14:51:56.823Z"
   },
   {
    "duration": 10,
    "start_time": "2025-01-30T14:51:56.841Z"
   },
   {
    "duration": 16,
    "start_time": "2025-01-30T14:51:56.853Z"
   },
   {
    "duration": 17,
    "start_time": "2025-01-30T14:51:56.871Z"
   },
   {
    "duration": 43,
    "start_time": "2025-01-30T14:51:56.889Z"
   },
   {
    "duration": 20,
    "start_time": "2025-01-30T14:51:56.934Z"
   },
   {
    "duration": 23,
    "start_time": "2025-01-30T14:51:56.956Z"
   },
   {
    "duration": 32,
    "start_time": "2025-01-30T14:51:56.981Z"
   },
   {
    "duration": 23,
    "start_time": "2025-01-30T14:51:57.015Z"
   },
   {
    "duration": 10,
    "start_time": "2025-01-30T14:51:57.040Z"
   },
   {
    "duration": 17,
    "start_time": "2025-01-30T14:51:57.052Z"
   },
   {
    "duration": 44,
    "start_time": "2025-01-30T14:51:57.071Z"
   },
   {
    "duration": 7,
    "start_time": "2025-01-30T14:51:57.116Z"
   },
   {
    "duration": 171,
    "start_time": "2025-01-30T14:51:57.125Z"
   },
   {
    "duration": 12,
    "start_time": "2025-01-30T14:51:57.298Z"
   },
   {
    "duration": 44,
    "start_time": "2025-01-30T14:51:57.313Z"
   },
   {
    "duration": 22,
    "start_time": "2025-01-30T14:51:57.359Z"
   },
   {
    "duration": 63,
    "start_time": "2025-01-30T14:51:57.383Z"
   },
   {
    "duration": 5,
    "start_time": "2025-01-30T14:51:57.448Z"
   },
   {
    "duration": 18,
    "start_time": "2025-01-30T14:51:57.455Z"
   },
   {
    "duration": 3,
    "start_time": "2025-01-30T14:51:57.475Z"
   },
   {
    "duration": 60,
    "start_time": "2025-01-30T14:51:57.480Z"
   },
   {
    "duration": 12,
    "start_time": "2025-01-30T14:51:57.542Z"
   },
   {
    "duration": 59,
    "start_time": "2025-01-30T14:51:57.556Z"
   },
   {
    "duration": 4,
    "start_time": "2025-01-30T14:51:57.617Z"
   },
   {
    "duration": 7,
    "start_time": "2025-01-30T14:51:57.623Z"
   },
   {
    "duration": 26,
    "start_time": "2025-01-30T14:51:57.632Z"
   },
   {
    "duration": 4,
    "start_time": "2025-01-30T14:51:57.663Z"
   },
   {
    "duration": 104,
    "start_time": "2025-01-30T14:51:57.668Z"
   },
   {
    "duration": 75,
    "start_time": "2025-01-30T14:51:57.774Z"
   },
   {
    "duration": 12,
    "start_time": "2025-01-30T14:51:57.850Z"
   },
   {
    "duration": 17,
    "start_time": "2025-01-30T14:51:57.864Z"
   },
   {
    "duration": 4,
    "start_time": "2025-01-30T14:51:57.883Z"
   },
   {
    "duration": 75,
    "start_time": "2025-01-30T14:53:57.497Z"
   },
   {
    "duration": 16,
    "start_time": "2025-01-30T14:53:58.453Z"
   },
   {
    "duration": 16,
    "start_time": "2025-01-30T14:54:00.321Z"
   },
   {
    "duration": 3,
    "start_time": "2025-01-30T14:54:17.634Z"
   },
   {
    "duration": 6,
    "start_time": "2025-01-30T15:03:05.848Z"
   },
   {
    "duration": 5,
    "start_time": "2025-01-30T15:03:07.416Z"
   },
   {
    "duration": 2512,
    "start_time": "2025-01-30T15:03:30.305Z"
   },
   {
    "duration": 410,
    "start_time": "2025-01-30T15:03:32.819Z"
   },
   {
    "duration": 1158,
    "start_time": "2025-01-30T15:03:33.231Z"
   },
   {
    "duration": 167,
    "start_time": "2025-01-30T15:03:34.391Z"
   },
   {
    "duration": 2504,
    "start_time": "2025-01-30T15:03:34.560Z"
   },
   {
    "duration": 13,
    "start_time": "2025-01-30T15:03:37.065Z"
   },
   {
    "duration": 135,
    "start_time": "2025-01-30T15:03:37.080Z"
   },
   {
    "duration": 199,
    "start_time": "2025-01-30T15:03:37.217Z"
   },
   {
    "duration": 25,
    "start_time": "2025-01-30T15:03:37.417Z"
   },
   {
    "duration": 110,
    "start_time": "2025-01-30T15:03:37.445Z"
   },
   {
    "duration": 9,
    "start_time": "2025-01-30T15:03:37.557Z"
   },
   {
    "duration": 86,
    "start_time": "2025-01-30T15:03:37.567Z"
   },
   {
    "duration": 7,
    "start_time": "2025-01-30T15:03:37.655Z"
   },
   {
    "duration": 47,
    "start_time": "2025-01-30T15:03:37.663Z"
   },
   {
    "duration": 8,
    "start_time": "2025-01-30T15:03:37.712Z"
   },
   {
    "duration": 82,
    "start_time": "2025-01-30T15:03:37.722Z"
   },
   {
    "duration": 10,
    "start_time": "2025-01-30T15:03:37.806Z"
   },
   {
    "duration": 41,
    "start_time": "2025-01-30T15:03:37.818Z"
   },
   {
    "duration": 9,
    "start_time": "2025-01-30T15:03:37.860Z"
   },
   {
    "duration": 20,
    "start_time": "2025-01-30T15:03:37.871Z"
   },
   {
    "duration": 4,
    "start_time": "2025-01-30T15:03:37.892Z"
   },
   {
    "duration": 19,
    "start_time": "2025-01-30T15:03:37.897Z"
   },
   {
    "duration": 211,
    "start_time": "2025-01-30T15:03:37.918Z"
   },
   {
    "duration": 6,
    "start_time": "2025-01-30T15:03:38.130Z"
   },
   {
    "duration": 53,
    "start_time": "2025-01-30T15:03:38.137Z"
   },
   {
    "duration": 13,
    "start_time": "2025-01-30T15:03:38.191Z"
   },
   {
    "duration": 11,
    "start_time": "2025-01-30T15:03:38.205Z"
   },
   {
    "duration": 193,
    "start_time": "2025-01-30T15:03:38.221Z"
   },
   {
    "duration": 4,
    "start_time": "2025-01-30T15:03:38.416Z"
   },
   {
    "duration": 42,
    "start_time": "2025-01-30T15:03:38.421Z"
   },
   {
    "duration": 49,
    "start_time": "2025-01-30T15:03:38.465Z"
   },
   {
    "duration": 138,
    "start_time": "2025-01-30T15:03:38.516Z"
   },
   {
    "duration": 312,
    "start_time": "2025-01-30T15:03:38.655Z"
   },
   {
    "duration": 25,
    "start_time": "2025-01-30T15:03:38.969Z"
   },
   {
    "duration": 26,
    "start_time": "2025-01-30T15:03:38.996Z"
   },
   {
    "duration": 62,
    "start_time": "2025-01-30T15:03:39.024Z"
   },
   {
    "duration": 37,
    "start_time": "2025-01-30T15:03:39.088Z"
   },
   {
    "duration": 21,
    "start_time": "2025-01-30T15:03:39.127Z"
   },
   {
    "duration": 197,
    "start_time": "2025-01-30T15:03:39.150Z"
   },
   {
    "duration": 11,
    "start_time": "2025-01-30T15:03:39.349Z"
   },
   {
    "duration": 39,
    "start_time": "2025-01-30T15:03:39.361Z"
   },
   {
    "duration": 18,
    "start_time": "2025-01-30T15:03:39.402Z"
   },
   {
    "duration": 111,
    "start_time": "2025-01-30T15:03:39.422Z"
   },
   {
    "duration": 15,
    "start_time": "2025-01-30T15:03:39.535Z"
   },
   {
    "duration": 5,
    "start_time": "2025-01-30T15:03:39.552Z"
   },
   {
    "duration": 28,
    "start_time": "2025-01-30T15:03:39.559Z"
   },
   {
    "duration": 12,
    "start_time": "2025-01-30T15:03:39.589Z"
   },
   {
    "duration": 21,
    "start_time": "2025-01-30T15:03:39.603Z"
   },
   {
    "duration": 9,
    "start_time": "2025-01-30T15:03:39.626Z"
   },
   {
    "duration": 34,
    "start_time": "2025-01-30T15:03:39.636Z"
   },
   {
    "duration": 14,
    "start_time": "2025-01-30T15:03:39.672Z"
   },
   {
    "duration": 175,
    "start_time": "2025-01-30T15:03:39.688Z"
   },
   {
    "duration": 3,
    "start_time": "2025-01-30T15:03:39.864Z"
   },
   {
    "duration": 14,
    "start_time": "2025-01-30T15:03:39.869Z"
   },
   {
    "duration": 5,
    "start_time": "2025-01-30T15:03:39.885Z"
   },
   {
    "duration": 20,
    "start_time": "2025-01-30T15:03:39.892Z"
   },
   {
    "duration": 18,
    "start_time": "2025-01-30T15:03:39.914Z"
   },
   {
    "duration": 15,
    "start_time": "2025-01-30T15:03:39.934Z"
   },
   {
    "duration": 36,
    "start_time": "2025-01-30T15:03:39.950Z"
   },
   {
    "duration": 27,
    "start_time": "2025-01-30T15:03:39.987Z"
   },
   {
    "duration": 26,
    "start_time": "2025-01-30T15:03:40.016Z"
   },
   {
    "duration": 6,
    "start_time": "2025-01-30T15:03:40.044Z"
   },
   {
    "duration": 20,
    "start_time": "2025-01-30T15:03:40.052Z"
   },
   {
    "duration": 21,
    "start_time": "2025-01-30T15:03:40.074Z"
   },
   {
    "duration": 19,
    "start_time": "2025-01-30T15:03:40.096Z"
   },
   {
    "duration": 23,
    "start_time": "2025-01-30T15:03:40.116Z"
   },
   {
    "duration": 5,
    "start_time": "2025-01-30T15:03:40.140Z"
   },
   {
    "duration": 170,
    "start_time": "2025-01-30T15:03:40.147Z"
   },
   {
    "duration": 5,
    "start_time": "2025-01-30T15:03:40.319Z"
   },
   {
    "duration": 89,
    "start_time": "2025-01-30T15:03:40.326Z"
   },
   {
    "duration": 26,
    "start_time": "2025-01-30T15:03:40.416Z"
   },
   {
    "duration": 41,
    "start_time": "2025-01-30T15:03:40.444Z"
   },
   {
    "duration": 4,
    "start_time": "2025-01-30T15:03:40.486Z"
   },
   {
    "duration": 18,
    "start_time": "2025-01-30T15:03:40.492Z"
   },
   {
    "duration": 7,
    "start_time": "2025-01-30T15:03:40.512Z"
   },
   {
    "duration": 62,
    "start_time": "2025-01-30T15:03:40.520Z"
   },
   {
    "duration": 11,
    "start_time": "2025-01-30T15:03:40.583Z"
   },
   {
    "duration": 56,
    "start_time": "2025-01-30T15:03:40.595Z"
   },
   {
    "duration": 7,
    "start_time": "2025-01-30T15:03:40.653Z"
   },
   {
    "duration": 11,
    "start_time": "2025-01-30T15:03:40.662Z"
   },
   {
    "duration": 46,
    "start_time": "2025-01-30T15:03:40.674Z"
   },
   {
    "duration": 4,
    "start_time": "2025-01-30T15:03:40.725Z"
   },
   {
    "duration": 84,
    "start_time": "2025-01-30T15:03:40.730Z"
   },
   {
    "duration": 64,
    "start_time": "2025-01-30T15:03:40.815Z"
   },
   {
    "duration": 17,
    "start_time": "2025-01-30T15:03:40.880Z"
   },
   {
    "duration": 16,
    "start_time": "2025-01-30T15:03:40.910Z"
   },
   {
    "duration": 18,
    "start_time": "2025-01-30T15:03:40.928Z"
   },
   {
    "duration": 15,
    "start_time": "2025-01-30T15:03:40.948Z"
   },
   {
    "duration": 43,
    "start_time": "2025-01-30T15:03:40.964Z"
   },
   {
    "duration": 16,
    "start_time": "2025-01-30T15:03:41.009Z"
   },
   {
    "duration": 110,
    "start_time": "2025-01-30T15:03:41.027Z"
   },
   {
    "duration": 110,
    "start_time": "2025-01-30T15:07:39.685Z"
   },
   {
    "duration": 13,
    "start_time": "2025-01-30T15:07:40.205Z"
   },
   {
    "duration": 15,
    "start_time": "2025-01-30T15:07:43.285Z"
   },
   {
    "duration": 13,
    "start_time": "2025-01-30T15:08:02.662Z"
   },
   {
    "duration": 13,
    "start_time": "2025-01-30T15:08:03.270Z"
   },
   {
    "duration": 15,
    "start_time": "2025-01-30T15:08:03.974Z"
   },
   {
    "duration": 14,
    "start_time": "2025-01-30T15:08:04.982Z"
   },
   {
    "duration": 15,
    "start_time": "2025-01-30T15:09:11.612Z"
   },
   {
    "duration": 9,
    "start_time": "2025-01-30T15:09:28.863Z"
   },
   {
    "duration": 10,
    "start_time": "2025-01-30T15:09:38.687Z"
   },
   {
    "duration": 8,
    "start_time": "2025-01-30T15:09:57.400Z"
   },
   {
    "duration": 4,
    "start_time": "2025-01-30T15:10:33.736Z"
   },
   {
    "duration": 2818,
    "start_time": "2025-01-30T15:10:46.088Z"
   },
   {
    "duration": 408,
    "start_time": "2025-01-30T15:10:48.909Z"
   },
   {
    "duration": 805,
    "start_time": "2025-01-30T15:10:49.319Z"
   },
   {
    "duration": 47,
    "start_time": "2025-01-30T15:10:50.126Z"
   },
   {
    "duration": 2082,
    "start_time": "2025-01-30T15:10:50.175Z"
   },
   {
    "duration": 12,
    "start_time": "2025-01-30T15:10:52.259Z"
   },
   {
    "duration": 63,
    "start_time": "2025-01-30T15:10:52.273Z"
   },
   {
    "duration": 208,
    "start_time": "2025-01-30T15:10:52.338Z"
   },
   {
    "duration": 24,
    "start_time": "2025-01-30T15:10:52.548Z"
   },
   {
    "duration": 141,
    "start_time": "2025-01-30T15:10:52.575Z"
   },
   {
    "duration": 9,
    "start_time": "2025-01-30T15:10:52.718Z"
   },
   {
    "duration": 84,
    "start_time": "2025-01-30T15:10:52.728Z"
   },
   {
    "duration": 7,
    "start_time": "2025-01-30T15:10:52.814Z"
   },
   {
    "duration": 36,
    "start_time": "2025-01-30T15:10:52.823Z"
   },
   {
    "duration": 8,
    "start_time": "2025-01-30T15:10:52.860Z"
   },
   {
    "duration": 69,
    "start_time": "2025-01-30T15:10:52.869Z"
   },
   {
    "duration": 13,
    "start_time": "2025-01-30T15:10:52.939Z"
   },
   {
    "duration": 19,
    "start_time": "2025-01-30T15:10:52.954Z"
   },
   {
    "duration": 7,
    "start_time": "2025-01-30T15:10:52.974Z"
   },
   {
    "duration": 39,
    "start_time": "2025-01-30T15:10:52.982Z"
   },
   {
    "duration": 4,
    "start_time": "2025-01-30T15:10:53.024Z"
   },
   {
    "duration": 6,
    "start_time": "2025-01-30T15:10:53.031Z"
   },
   {
    "duration": 210,
    "start_time": "2025-01-30T15:10:53.039Z"
   },
   {
    "duration": 4,
    "start_time": "2025-01-30T15:10:53.251Z"
   },
   {
    "duration": 25,
    "start_time": "2025-01-30T15:10:53.257Z"
   },
   {
    "duration": 5,
    "start_time": "2025-01-30T15:10:53.283Z"
   },
   {
    "duration": 5,
    "start_time": "2025-01-30T15:10:53.310Z"
   },
   {
    "duration": 179,
    "start_time": "2025-01-30T15:10:53.319Z"
   },
   {
    "duration": 4,
    "start_time": "2025-01-30T15:10:53.499Z"
   },
   {
    "duration": 12,
    "start_time": "2025-01-30T15:10:53.508Z"
   },
   {
    "duration": 52,
    "start_time": "2025-01-30T15:10:53.521Z"
   },
   {
    "duration": 125,
    "start_time": "2025-01-30T15:10:53.575Z"
   },
   {
    "duration": 273,
    "start_time": "2025-01-30T15:10:53.701Z"
   },
   {
    "duration": 34,
    "start_time": "2025-01-30T15:10:53.976Z"
   },
   {
    "duration": 17,
    "start_time": "2025-01-30T15:10:54.012Z"
   },
   {
    "duration": 62,
    "start_time": "2025-01-30T15:10:54.030Z"
   },
   {
    "duration": 31,
    "start_time": "2025-01-30T15:10:54.093Z"
   },
   {
    "duration": 12,
    "start_time": "2025-01-30T15:10:54.126Z"
   },
   {
    "duration": 203,
    "start_time": "2025-01-30T15:10:54.139Z"
   },
   {
    "duration": 11,
    "start_time": "2025-01-30T15:10:54.343Z"
   },
   {
    "duration": 16,
    "start_time": "2025-01-30T15:10:54.356Z"
   },
   {
    "duration": 11,
    "start_time": "2025-01-30T15:10:54.373Z"
   },
   {
    "duration": 114,
    "start_time": "2025-01-30T15:10:54.385Z"
   },
   {
    "duration": 21,
    "start_time": "2025-01-30T15:10:54.500Z"
   },
   {
    "duration": 3,
    "start_time": "2025-01-30T15:10:54.523Z"
   },
   {
    "duration": 12,
    "start_time": "2025-01-30T15:10:54.527Z"
   },
   {
    "duration": 8,
    "start_time": "2025-01-30T15:10:54.541Z"
   },
   {
    "duration": 17,
    "start_time": "2025-01-30T15:10:54.550Z"
   },
   {
    "duration": 7,
    "start_time": "2025-01-30T15:10:54.569Z"
   },
   {
    "duration": 4,
    "start_time": "2025-01-30T15:10:54.610Z"
   },
   {
    "duration": 18,
    "start_time": "2025-01-30T15:10:54.615Z"
   },
   {
    "duration": 156,
    "start_time": "2025-01-30T15:10:54.635Z"
   },
   {
    "duration": 4,
    "start_time": "2025-01-30T15:10:54.792Z"
   },
   {
    "duration": 14,
    "start_time": "2025-01-30T15:10:54.797Z"
   },
   {
    "duration": 6,
    "start_time": "2025-01-30T15:10:54.813Z"
   },
   {
    "duration": 9,
    "start_time": "2025-01-30T15:10:54.820Z"
   },
   {
    "duration": 11,
    "start_time": "2025-01-30T15:10:54.831Z"
   },
   {
    "duration": 11,
    "start_time": "2025-01-30T15:10:54.843Z"
   },
   {
    "duration": 26,
    "start_time": "2025-01-30T15:10:54.856Z"
   },
   {
    "duration": 40,
    "start_time": "2025-01-30T15:10:54.884Z"
   },
   {
    "duration": 21,
    "start_time": "2025-01-30T15:10:54.926Z"
   },
   {
    "duration": 7,
    "start_time": "2025-01-30T15:10:54.949Z"
   },
   {
    "duration": 20,
    "start_time": "2025-01-30T15:10:54.957Z"
   },
   {
    "duration": 32,
    "start_time": "2025-01-30T15:10:54.978Z"
   },
   {
    "duration": 7,
    "start_time": "2025-01-30T15:10:55.011Z"
   },
   {
    "duration": 24,
    "start_time": "2025-01-30T15:10:55.019Z"
   },
   {
    "duration": 5,
    "start_time": "2025-01-30T15:10:55.045Z"
   },
   {
    "duration": 161,
    "start_time": "2025-01-30T15:10:55.052Z"
   },
   {
    "duration": 6,
    "start_time": "2025-01-30T15:10:55.215Z"
   },
   {
    "duration": 40,
    "start_time": "2025-01-30T15:10:55.223Z"
   },
   {
    "duration": 24,
    "start_time": "2025-01-30T15:10:55.265Z"
   },
   {
    "duration": 40,
    "start_time": "2025-01-30T15:10:55.309Z"
   },
   {
    "duration": 3,
    "start_time": "2025-01-30T15:10:55.351Z"
   },
   {
    "duration": 14,
    "start_time": "2025-01-30T15:10:55.355Z"
   },
   {
    "duration": 3,
    "start_time": "2025-01-30T15:10:55.371Z"
   },
   {
    "duration": 63,
    "start_time": "2025-01-30T15:10:55.375Z"
   },
   {
    "duration": 12,
    "start_time": "2025-01-30T15:10:55.439Z"
   },
   {
    "duration": 62,
    "start_time": "2025-01-30T15:10:55.453Z"
   },
   {
    "duration": 4,
    "start_time": "2025-01-30T15:10:55.517Z"
   },
   {
    "duration": 15,
    "start_time": "2025-01-30T15:10:55.522Z"
   },
   {
    "duration": 27,
    "start_time": "2025-01-30T15:10:55.539Z"
   },
   {
    "duration": 4,
    "start_time": "2025-01-30T15:10:55.571Z"
   },
   {
    "duration": 96,
    "start_time": "2025-01-30T15:10:55.576Z"
   },
   {
    "duration": 72,
    "start_time": "2025-01-30T15:10:55.674Z"
   },
   {
    "duration": 16,
    "start_time": "2025-01-30T15:10:55.748Z"
   },
   {
    "duration": 16,
    "start_time": "2025-01-30T15:10:55.766Z"
   },
   {
    "duration": 7,
    "start_time": "2025-01-30T15:10:55.784Z"
   },
   {
    "duration": 21,
    "start_time": "2025-01-30T15:10:55.792Z"
   },
   {
    "duration": 87,
    "start_time": "2025-01-30T15:12:06.545Z"
   },
   {
    "duration": 34,
    "start_time": "2025-01-30T15:12:41.078Z"
   },
   {
    "duration": 36,
    "start_time": "2025-01-30T15:12:45.476Z"
   },
   {
    "duration": 54,
    "start_time": "2025-01-30T15:13:26.210Z"
   },
   {
    "duration": 24,
    "start_time": "2025-01-30T15:13:34.282Z"
   },
   {
    "duration": 2437,
    "start_time": "2025-01-30T15:13:41.447Z"
   },
   {
    "duration": 422,
    "start_time": "2025-01-30T15:13:43.887Z"
   },
   {
    "duration": 820,
    "start_time": "2025-01-30T15:13:44.311Z"
   },
   {
    "duration": 49,
    "start_time": "2025-01-30T15:13:45.133Z"
   },
   {
    "duration": 2101,
    "start_time": "2025-01-30T15:13:45.184Z"
   },
   {
    "duration": 13,
    "start_time": "2025-01-30T15:13:47.286Z"
   },
   {
    "duration": 18,
    "start_time": "2025-01-30T15:13:47.300Z"
   },
   {
    "duration": 198,
    "start_time": "2025-01-30T15:13:47.320Z"
   },
   {
    "duration": 25,
    "start_time": "2025-01-30T15:13:47.519Z"
   },
   {
    "duration": 109,
    "start_time": "2025-01-30T15:13:47.546Z"
   },
   {
    "duration": 9,
    "start_time": "2025-01-30T15:13:47.657Z"
   },
   {
    "duration": 87,
    "start_time": "2025-01-30T15:13:47.667Z"
   },
   {
    "duration": 7,
    "start_time": "2025-01-30T15:13:47.756Z"
   },
   {
    "duration": 46,
    "start_time": "2025-01-30T15:13:47.765Z"
   },
   {
    "duration": 8,
    "start_time": "2025-01-30T15:13:47.812Z"
   },
   {
    "duration": 48,
    "start_time": "2025-01-30T15:13:47.821Z"
   },
   {
    "duration": 10,
    "start_time": "2025-01-30T15:13:47.871Z"
   },
   {
    "duration": 38,
    "start_time": "2025-01-30T15:13:47.882Z"
   },
   {
    "duration": 20,
    "start_time": "2025-01-30T15:13:47.921Z"
   },
   {
    "duration": 15,
    "start_time": "2025-01-30T15:13:47.942Z"
   },
   {
    "duration": 4,
    "start_time": "2025-01-30T15:13:47.958Z"
   },
   {
    "duration": 9,
    "start_time": "2025-01-30T15:13:47.963Z"
   },
   {
    "duration": 197,
    "start_time": "2025-01-30T15:13:47.973Z"
   },
   {
    "duration": 5,
    "start_time": "2025-01-30T15:13:48.171Z"
   },
   {
    "duration": 36,
    "start_time": "2025-01-30T15:13:48.177Z"
   },
   {
    "duration": 5,
    "start_time": "2025-01-30T15:13:48.214Z"
   },
   {
    "duration": 8,
    "start_time": "2025-01-30T15:13:48.220Z"
   },
   {
    "duration": 179,
    "start_time": "2025-01-30T15:13:48.232Z"
   },
   {
    "duration": 5,
    "start_time": "2025-01-30T15:13:48.412Z"
   },
   {
    "duration": 28,
    "start_time": "2025-01-30T15:13:48.418Z"
   },
   {
    "duration": 42,
    "start_time": "2025-01-30T15:13:48.448Z"
   },
   {
    "duration": 135,
    "start_time": "2025-01-30T15:13:48.492Z"
   },
   {
    "duration": 283,
    "start_time": "2025-01-30T15:13:48.629Z"
   },
   {
    "duration": 39,
    "start_time": "2025-01-30T15:13:48.914Z"
   },
   {
    "duration": 17,
    "start_time": "2025-01-30T15:13:48.955Z"
   },
   {
    "duration": 82,
    "start_time": "2025-01-30T15:13:48.974Z"
   },
   {
    "duration": 17,
    "start_time": "2025-01-30T15:13:49.058Z"
   },
   {
    "duration": 84,
    "start_time": "2025-01-30T15:13:49.077Z"
   },
   {
    "duration": 197,
    "start_time": "2025-01-30T15:13:49.162Z"
   },
   {
    "duration": 10,
    "start_time": "2025-01-30T15:13:49.361Z"
   },
   {
    "duration": 19,
    "start_time": "2025-01-30T15:13:49.372Z"
   },
   {
    "duration": 21,
    "start_time": "2025-01-30T15:13:49.393Z"
   },
   {
    "duration": 103,
    "start_time": "2025-01-30T15:13:49.415Z"
   },
   {
    "duration": 14,
    "start_time": "2025-01-30T15:13:49.520Z"
   },
   {
    "duration": 2,
    "start_time": "2025-01-30T15:13:49.536Z"
   },
   {
    "duration": 11,
    "start_time": "2025-01-30T15:13:49.540Z"
   },
   {
    "duration": 11,
    "start_time": "2025-01-30T15:13:49.552Z"
   },
   {
    "duration": 44,
    "start_time": "2025-01-30T15:13:49.565Z"
   },
   {
    "duration": 9,
    "start_time": "2025-01-30T15:13:49.611Z"
   },
   {
    "duration": 9,
    "start_time": "2025-01-30T15:13:49.621Z"
   },
   {
    "duration": 16,
    "start_time": "2025-01-30T15:13:49.632Z"
   },
   {
    "duration": 164,
    "start_time": "2025-01-30T15:13:49.650Z"
   },
   {
    "duration": 3,
    "start_time": "2025-01-30T15:13:49.816Z"
   },
   {
    "duration": 7,
    "start_time": "2025-01-30T15:13:49.821Z"
   },
   {
    "duration": 5,
    "start_time": "2025-01-30T15:13:49.830Z"
   },
   {
    "duration": 14,
    "start_time": "2025-01-30T15:13:49.836Z"
   },
   {
    "duration": 10,
    "start_time": "2025-01-30T15:13:49.852Z"
   },
   {
    "duration": 31,
    "start_time": "2025-01-30T15:13:49.863Z"
   },
   {
    "duration": 39,
    "start_time": "2025-01-30T15:13:49.895Z"
   },
   {
    "duration": 18,
    "start_time": "2025-01-30T15:13:49.936Z"
   },
   {
    "duration": 20,
    "start_time": "2025-01-30T15:13:49.956Z"
   },
   {
    "duration": 8,
    "start_time": "2025-01-30T15:13:49.977Z"
   },
   {
    "duration": 37,
    "start_time": "2025-01-30T15:13:49.987Z"
   },
   {
    "duration": 17,
    "start_time": "2025-01-30T15:13:50.026Z"
   },
   {
    "duration": 6,
    "start_time": "2025-01-30T15:13:50.045Z"
   },
   {
    "duration": 31,
    "start_time": "2025-01-30T15:13:50.052Z"
   },
   {
    "duration": 5,
    "start_time": "2025-01-30T15:13:50.084Z"
   },
   {
    "duration": 171,
    "start_time": "2025-01-30T15:13:50.090Z"
   },
   {
    "duration": 4,
    "start_time": "2025-01-30T15:13:50.263Z"
   },
   {
    "duration": 44,
    "start_time": "2025-01-30T15:13:50.268Z"
   },
   {
    "duration": 24,
    "start_time": "2025-01-30T15:13:50.314Z"
   },
   {
    "duration": 105,
    "start_time": "2025-01-30T15:13:50.339Z"
   },
   {
    "duration": 3,
    "start_time": "2025-01-30T15:13:50.446Z"
   },
   {
    "duration": 11,
    "start_time": "2025-01-30T15:13:50.450Z"
   },
   {
    "duration": 5,
    "start_time": "2025-01-30T15:13:50.462Z"
   },
   {
    "duration": 63,
    "start_time": "2025-01-30T15:13:50.469Z"
   },
   {
    "duration": 13,
    "start_time": "2025-01-30T15:13:50.534Z"
   },
   {
    "duration": 51,
    "start_time": "2025-01-30T15:13:50.548Z"
   },
   {
    "duration": 4,
    "start_time": "2025-01-30T15:13:50.609Z"
   },
   {
    "duration": 42,
    "start_time": "2025-01-30T15:13:50.614Z"
   },
   {
    "duration": 34,
    "start_time": "2025-01-30T15:13:50.657Z"
   },
   {
    "duration": 4,
    "start_time": "2025-01-30T15:13:50.696Z"
   },
   {
    "duration": 94,
    "start_time": "2025-01-30T15:13:50.702Z"
   },
   {
    "duration": 66,
    "start_time": "2025-01-30T15:13:50.798Z"
   },
   {
    "duration": 16,
    "start_time": "2025-01-30T15:13:50.865Z"
   },
   {
    "duration": 32,
    "start_time": "2025-01-30T15:13:50.883Z"
   },
   {
    "duration": 37,
    "start_time": "2025-01-30T15:13:50.916Z"
   },
   {
    "duration": 12,
    "start_time": "2025-01-30T15:13:50.955Z"
   },
   {
    "duration": 78,
    "start_time": "2025-01-30T15:13:50.969Z"
   },
   {
    "duration": 28,
    "start_time": "2025-01-30T15:13:51.049Z"
   },
   {
    "duration": 3,
    "start_time": "2025-01-30T15:14:41.449Z"
   },
   {
    "duration": 2479,
    "start_time": "2025-01-30T15:15:01.845Z"
   },
   {
    "duration": 401,
    "start_time": "2025-01-30T15:15:04.326Z"
   },
   {
    "duration": 800,
    "start_time": "2025-01-30T15:15:04.729Z"
   },
   {
    "duration": 49,
    "start_time": "2025-01-30T15:15:05.531Z"
   },
   {
    "duration": 2638,
    "start_time": "2025-01-30T15:15:05.581Z"
   },
   {
    "duration": 12,
    "start_time": "2025-01-30T15:15:08.220Z"
   },
   {
    "duration": 18,
    "start_time": "2025-01-30T15:15:08.234Z"
   },
   {
    "duration": 211,
    "start_time": "2025-01-30T15:15:08.254Z"
   },
   {
    "duration": 23,
    "start_time": "2025-01-30T15:15:08.467Z"
   },
   {
    "duration": 107,
    "start_time": "2025-01-30T15:15:08.493Z"
   },
   {
    "duration": 14,
    "start_time": "2025-01-30T15:15:08.601Z"
   },
   {
    "duration": 78,
    "start_time": "2025-01-30T15:15:08.616Z"
   },
   {
    "duration": 6,
    "start_time": "2025-01-30T15:15:08.696Z"
   },
   {
    "duration": 45,
    "start_time": "2025-01-30T15:15:08.710Z"
   },
   {
    "duration": 7,
    "start_time": "2025-01-30T15:15:08.757Z"
   },
   {
    "duration": 56,
    "start_time": "2025-01-30T15:15:08.765Z"
   },
   {
    "duration": 16,
    "start_time": "2025-01-30T15:15:08.823Z"
   },
   {
    "duration": 30,
    "start_time": "2025-01-30T15:15:08.841Z"
   },
   {
    "duration": 37,
    "start_time": "2025-01-30T15:15:08.873Z"
   },
   {
    "duration": 26,
    "start_time": "2025-01-30T15:15:08.911Z"
   },
   {
    "duration": 3,
    "start_time": "2025-01-30T15:15:08.939Z"
   },
   {
    "duration": 12,
    "start_time": "2025-01-30T15:15:08.943Z"
   },
   {
    "duration": 186,
    "start_time": "2025-01-30T15:15:08.957Z"
   },
   {
    "duration": 5,
    "start_time": "2025-01-30T15:15:09.145Z"
   },
   {
    "duration": 77,
    "start_time": "2025-01-30T15:15:09.151Z"
   },
   {
    "duration": 21,
    "start_time": "2025-01-30T15:15:09.229Z"
   },
   {
    "duration": 12,
    "start_time": "2025-01-30T15:15:09.252Z"
   },
   {
    "duration": 160,
    "start_time": "2025-01-30T15:15:09.269Z"
   },
   {
    "duration": 3,
    "start_time": "2025-01-30T15:15:09.431Z"
   },
   {
    "duration": 13,
    "start_time": "2025-01-30T15:15:09.436Z"
   },
   {
    "duration": 39,
    "start_time": "2025-01-30T15:15:09.451Z"
   },
   {
    "duration": 147,
    "start_time": "2025-01-30T15:15:09.492Z"
   },
   {
    "duration": 279,
    "start_time": "2025-01-30T15:15:09.641Z"
   },
   {
    "duration": 27,
    "start_time": "2025-01-30T15:15:09.921Z"
   },
   {
    "duration": 16,
    "start_time": "2025-01-30T15:15:09.950Z"
   },
   {
    "duration": 82,
    "start_time": "2025-01-30T15:15:09.968Z"
   },
   {
    "duration": 18,
    "start_time": "2025-01-30T15:15:10.052Z"
   },
   {
    "duration": 66,
    "start_time": "2025-01-30T15:15:10.071Z"
   },
   {
    "duration": 223,
    "start_time": "2025-01-30T15:15:10.138Z"
   },
   {
    "duration": 11,
    "start_time": "2025-01-30T15:15:10.363Z"
   },
   {
    "duration": 73,
    "start_time": "2025-01-30T15:15:10.375Z"
   },
   {
    "duration": 11,
    "start_time": "2025-01-30T15:15:10.449Z"
   },
   {
    "duration": 100,
    "start_time": "2025-01-30T15:15:10.461Z"
   },
   {
    "duration": 15,
    "start_time": "2025-01-30T15:15:10.562Z"
   },
   {
    "duration": 6,
    "start_time": "2025-01-30T15:15:10.578Z"
   },
   {
    "duration": 13,
    "start_time": "2025-01-30T15:15:10.586Z"
   },
   {
    "duration": 31,
    "start_time": "2025-01-30T15:15:10.600Z"
   },
   {
    "duration": 18,
    "start_time": "2025-01-30T15:15:10.632Z"
   },
   {
    "duration": 8,
    "start_time": "2025-01-30T15:15:10.651Z"
   },
   {
    "duration": 7,
    "start_time": "2025-01-30T15:15:10.660Z"
   },
   {
    "duration": 18,
    "start_time": "2025-01-30T15:15:10.668Z"
   },
   {
    "duration": 183,
    "start_time": "2025-01-30T15:15:10.687Z"
   },
   {
    "duration": 3,
    "start_time": "2025-01-30T15:15:10.872Z"
   },
   {
    "duration": 13,
    "start_time": "2025-01-30T15:15:10.877Z"
   },
   {
    "duration": 8,
    "start_time": "2025-01-30T15:15:10.892Z"
   },
   {
    "duration": 21,
    "start_time": "2025-01-30T15:15:10.901Z"
   },
   {
    "duration": 29,
    "start_time": "2025-01-30T15:15:10.923Z"
   },
   {
    "duration": 25,
    "start_time": "2025-01-30T15:15:10.953Z"
   },
   {
    "duration": 28,
    "start_time": "2025-01-30T15:15:10.980Z"
   },
   {
    "duration": 19,
    "start_time": "2025-01-30T15:15:11.010Z"
   },
   {
    "duration": 22,
    "start_time": "2025-01-30T15:15:11.031Z"
   },
   {
    "duration": 17,
    "start_time": "2025-01-30T15:15:11.055Z"
   },
   {
    "duration": 30,
    "start_time": "2025-01-30T15:15:11.073Z"
   },
   {
    "duration": 73,
    "start_time": "2025-01-30T15:15:11.109Z"
   },
   {
    "duration": 23,
    "start_time": "2025-01-30T15:15:11.183Z"
   },
   {
    "duration": 42,
    "start_time": "2025-01-30T15:15:11.207Z"
   },
   {
    "duration": 5,
    "start_time": "2025-01-30T15:15:11.250Z"
   },
   {
    "duration": 164,
    "start_time": "2025-01-30T15:15:11.256Z"
   },
   {
    "duration": 6,
    "start_time": "2025-01-30T15:15:11.421Z"
   },
   {
    "duration": 60,
    "start_time": "2025-01-30T15:15:11.428Z"
   },
   {
    "duration": 27,
    "start_time": "2025-01-30T15:15:11.489Z"
   },
   {
    "duration": 46,
    "start_time": "2025-01-30T15:15:11.517Z"
   },
   {
    "duration": 4,
    "start_time": "2025-01-30T15:15:11.564Z"
   },
   {
    "duration": 19,
    "start_time": "2025-01-30T15:15:11.569Z"
   },
   {
    "duration": 7,
    "start_time": "2025-01-30T15:15:11.590Z"
   },
   {
    "duration": 74,
    "start_time": "2025-01-30T15:15:11.599Z"
   },
   {
    "duration": 12,
    "start_time": "2025-01-30T15:15:11.675Z"
   },
   {
    "duration": 40,
    "start_time": "2025-01-30T15:15:11.688Z"
   },
   {
    "duration": 4,
    "start_time": "2025-01-30T15:15:11.730Z"
   },
   {
    "duration": 12,
    "start_time": "2025-01-30T15:15:11.735Z"
   },
   {
    "duration": 26,
    "start_time": "2025-01-30T15:15:11.748Z"
   },
   {
    "duration": 4,
    "start_time": "2025-01-30T15:15:11.780Z"
   },
   {
    "duration": 81,
    "start_time": "2025-01-30T15:15:11.810Z"
   },
   {
    "duration": 70,
    "start_time": "2025-01-30T15:15:11.892Z"
   },
   {
    "duration": 16,
    "start_time": "2025-01-30T15:15:11.963Z"
   },
   {
    "duration": 29,
    "start_time": "2025-01-30T15:15:11.981Z"
   },
   {
    "duration": 5,
    "start_time": "2025-01-30T15:15:12.012Z"
   },
   {
    "duration": 90,
    "start_time": "2025-01-30T15:43:14.089Z"
   },
   {
    "duration": 3,
    "start_time": "2025-01-30T15:49:31.348Z"
   },
   {
    "duration": 6,
    "start_time": "2025-01-30T15:49:32.300Z"
   },
   {
    "duration": 2627,
    "start_time": "2025-01-30T15:49:39.647Z"
   },
   {
    "duration": 451,
    "start_time": "2025-01-30T15:49:42.278Z"
   },
   {
    "duration": 808,
    "start_time": "2025-01-30T15:49:42.731Z"
   },
   {
    "duration": 48,
    "start_time": "2025-01-30T15:49:43.541Z"
   },
   {
    "duration": 2617,
    "start_time": "2025-01-30T15:49:43.591Z"
   },
   {
    "duration": 19,
    "start_time": "2025-01-30T15:49:46.212Z"
   },
   {
    "duration": 39,
    "start_time": "2025-01-30T15:49:46.233Z"
   },
   {
    "duration": 205,
    "start_time": "2025-01-30T15:49:46.274Z"
   },
   {
    "duration": 34,
    "start_time": "2025-01-30T15:49:46.481Z"
   },
   {
    "duration": 132,
    "start_time": "2025-01-30T15:49:46.520Z"
   },
   {
    "duration": 10,
    "start_time": "2025-01-30T15:49:46.654Z"
   },
   {
    "duration": 97,
    "start_time": "2025-01-30T15:49:46.666Z"
   },
   {
    "duration": 7,
    "start_time": "2025-01-30T15:49:46.765Z"
   },
   {
    "duration": 60,
    "start_time": "2025-01-30T15:49:46.774Z"
   },
   {
    "duration": 8,
    "start_time": "2025-01-30T15:49:46.836Z"
   },
   {
    "duration": 45,
    "start_time": "2025-01-30T15:49:46.846Z"
   },
   {
    "duration": 19,
    "start_time": "2025-01-30T15:49:46.893Z"
   },
   {
    "duration": 28,
    "start_time": "2025-01-30T15:49:46.915Z"
   },
   {
    "duration": 7,
    "start_time": "2025-01-30T15:49:46.944Z"
   },
   {
    "duration": 28,
    "start_time": "2025-01-30T15:49:46.952Z"
   },
   {
    "duration": 2,
    "start_time": "2025-01-30T15:49:46.982Z"
   },
   {
    "duration": 25,
    "start_time": "2025-01-30T15:49:46.986Z"
   },
   {
    "duration": 186,
    "start_time": "2025-01-30T15:49:47.013Z"
   },
   {
    "duration": 10,
    "start_time": "2025-01-30T15:49:47.201Z"
   },
   {
    "duration": 85,
    "start_time": "2025-01-30T15:49:47.213Z"
   },
   {
    "duration": 12,
    "start_time": "2025-01-30T15:49:47.300Z"
   },
   {
    "duration": 9,
    "start_time": "2025-01-30T15:49:47.315Z"
   },
   {
    "duration": 189,
    "start_time": "2025-01-30T15:49:47.328Z"
   },
   {
    "duration": 6,
    "start_time": "2025-01-30T15:49:47.519Z"
   },
   {
    "duration": 13,
    "start_time": "2025-01-30T15:49:47.526Z"
   },
   {
    "duration": 37,
    "start_time": "2025-01-30T15:49:47.540Z"
   },
   {
    "duration": 122,
    "start_time": "2025-01-30T15:49:47.578Z"
   },
   {
    "duration": 291,
    "start_time": "2025-01-30T15:49:47.701Z"
   },
   {
    "duration": 21,
    "start_time": "2025-01-30T15:49:47.994Z"
   },
   {
    "duration": 20,
    "start_time": "2025-01-30T15:49:48.018Z"
   },
   {
    "duration": 78,
    "start_time": "2025-01-30T15:49:48.039Z"
   },
   {
    "duration": 18,
    "start_time": "2025-01-30T15:49:48.120Z"
   },
   {
    "duration": 13,
    "start_time": "2025-01-30T15:49:48.140Z"
   },
   {
    "duration": 221,
    "start_time": "2025-01-30T15:49:48.155Z"
   },
   {
    "duration": 12,
    "start_time": "2025-01-30T15:49:48.377Z"
   },
   {
    "duration": 37,
    "start_time": "2025-01-30T15:49:48.391Z"
   },
   {
    "duration": 13,
    "start_time": "2025-01-30T15:49:48.429Z"
   },
   {
    "duration": 115,
    "start_time": "2025-01-30T15:49:48.443Z"
   },
   {
    "duration": 15,
    "start_time": "2025-01-30T15:49:48.560Z"
   },
   {
    "duration": 2,
    "start_time": "2025-01-30T15:49:48.576Z"
   },
   {
    "duration": 10,
    "start_time": "2025-01-30T15:49:48.580Z"
   },
   {
    "duration": 27,
    "start_time": "2025-01-30T15:49:48.591Z"
   },
   {
    "duration": 20,
    "start_time": "2025-01-30T15:49:48.621Z"
   },
   {
    "duration": 8,
    "start_time": "2025-01-30T15:49:48.643Z"
   },
   {
    "duration": 15,
    "start_time": "2025-01-30T15:49:48.653Z"
   },
   {
    "duration": 10,
    "start_time": "2025-01-30T15:49:48.670Z"
   },
   {
    "duration": 227,
    "start_time": "2025-01-30T15:49:48.682Z"
   },
   {
    "duration": 6,
    "start_time": "2025-01-30T15:49:48.914Z"
   },
   {
    "duration": 7,
    "start_time": "2025-01-30T15:49:48.922Z"
   },
   {
    "duration": 6,
    "start_time": "2025-01-30T15:49:48.931Z"
   },
   {
    "duration": 9,
    "start_time": "2025-01-30T15:49:48.938Z"
   },
   {
    "duration": 9,
    "start_time": "2025-01-30T15:49:48.949Z"
   },
   {
    "duration": 13,
    "start_time": "2025-01-30T15:49:48.959Z"
   },
   {
    "duration": 78,
    "start_time": "2025-01-30T15:49:48.973Z"
   },
   {
    "duration": 20,
    "start_time": "2025-01-30T15:49:49.053Z"
   },
   {
    "duration": 54,
    "start_time": "2025-01-30T15:49:49.074Z"
   },
   {
    "duration": 7,
    "start_time": "2025-01-30T15:49:49.129Z"
   },
   {
    "duration": 27,
    "start_time": "2025-01-30T15:49:49.137Z"
   },
   {
    "duration": 12,
    "start_time": "2025-01-30T15:49:49.166Z"
   },
   {
    "duration": 6,
    "start_time": "2025-01-30T15:49:49.179Z"
   },
   {
    "duration": 41,
    "start_time": "2025-01-30T15:49:49.187Z"
   },
   {
    "duration": 5,
    "start_time": "2025-01-30T15:49:49.229Z"
   },
   {
    "duration": 169,
    "start_time": "2025-01-30T15:49:49.235Z"
   },
   {
    "duration": 6,
    "start_time": "2025-01-30T15:49:49.406Z"
   },
   {
    "duration": 42,
    "start_time": "2025-01-30T15:49:49.414Z"
   },
   {
    "duration": 25,
    "start_time": "2025-01-30T15:49:49.457Z"
   },
   {
    "duration": 69,
    "start_time": "2025-01-30T15:49:49.483Z"
   },
   {
    "duration": 4,
    "start_time": "2025-01-30T15:49:49.553Z"
   },
   {
    "duration": 13,
    "start_time": "2025-01-30T15:49:49.558Z"
   },
   {
    "duration": 4,
    "start_time": "2025-01-30T15:49:49.573Z"
   },
   {
    "duration": 76,
    "start_time": "2025-01-30T15:49:49.579Z"
   },
   {
    "duration": 15,
    "start_time": "2025-01-30T15:49:49.657Z"
   },
   {
    "duration": 71,
    "start_time": "2025-01-30T15:49:49.674Z"
   },
   {
    "duration": 4,
    "start_time": "2025-01-30T15:49:49.747Z"
   },
   {
    "duration": 8,
    "start_time": "2025-01-30T15:49:49.752Z"
   },
   {
    "duration": 26,
    "start_time": "2025-01-30T15:49:49.762Z"
   },
   {
    "duration": 8,
    "start_time": "2025-01-30T15:49:49.817Z"
   },
   {
    "duration": 106,
    "start_time": "2025-01-30T15:49:49.827Z"
   },
   {
    "duration": 74,
    "start_time": "2025-01-30T15:49:49.935Z"
   },
   {
    "duration": 24,
    "start_time": "2025-01-30T15:49:50.012Z"
   },
   {
    "duration": 24,
    "start_time": "2025-01-30T15:49:50.037Z"
   },
   {
    "duration": 20,
    "start_time": "2025-01-30T15:49:50.063Z"
   },
   {
    "duration": 115,
    "start_time": "2025-01-30T15:51:48.381Z"
   },
   {
    "duration": 28,
    "start_time": "2025-01-30T15:51:48.836Z"
   },
   {
    "duration": 79,
    "start_time": "2025-01-30T15:52:06.076Z"
   },
   {
    "duration": 16,
    "start_time": "2025-01-30T15:52:07.083Z"
   },
   {
    "duration": 17,
    "start_time": "2025-01-30T15:52:08.268Z"
   },
   {
    "duration": 3,
    "start_time": "2025-01-30T15:52:24.843Z"
   },
   {
    "duration": 6,
    "start_time": "2025-01-30T15:59:18.843Z"
   },
   {
    "duration": 67,
    "start_time": "2025-01-30T15:59:19.468Z"
   },
   {
    "duration": 15,
    "start_time": "2025-01-30T15:59:20.005Z"
   },
   {
    "duration": 14,
    "start_time": "2025-01-30T15:59:20.708Z"
   },
   {
    "duration": 3,
    "start_time": "2025-01-30T15:59:26.588Z"
   },
   {
    "duration": 264,
    "start_time": "2025-01-30T16:01:11.134Z"
   },
   {
    "duration": 36,
    "start_time": "2025-01-30T16:01:23.607Z"
   },
   {
    "duration": 15,
    "start_time": "2025-01-30T16:01:37.066Z"
   },
   {
    "duration": 46,
    "start_time": "2025-01-30T16:02:32.164Z"
   },
   {
    "duration": 2501,
    "start_time": "2025-01-30T16:02:56.069Z"
   },
   {
    "duration": 384,
    "start_time": "2025-01-30T16:02:58.572Z"
   },
   {
    "duration": 774,
    "start_time": "2025-01-30T16:02:58.957Z"
   },
   {
    "duration": 46,
    "start_time": "2025-01-30T16:02:59.734Z"
   },
   {
    "duration": 2416,
    "start_time": "2025-01-30T16:02:59.782Z"
   },
   {
    "duration": 12,
    "start_time": "2025-01-30T16:03:02.199Z"
   },
   {
    "duration": 75,
    "start_time": "2025-01-30T16:03:02.212Z"
   },
   {
    "duration": 249,
    "start_time": "2025-01-30T16:03:02.288Z"
   },
   {
    "duration": 26,
    "start_time": "2025-01-30T16:03:02.539Z"
   },
   {
    "duration": 143,
    "start_time": "2025-01-30T16:03:02.568Z"
   },
   {
    "duration": 10,
    "start_time": "2025-01-30T16:03:02.713Z"
   },
   {
    "duration": 123,
    "start_time": "2025-01-30T16:03:02.725Z"
   },
   {
    "duration": 8,
    "start_time": "2025-01-30T16:03:02.850Z"
   },
   {
    "duration": 50,
    "start_time": "2025-01-30T16:03:02.860Z"
   },
   {
    "duration": 9,
    "start_time": "2025-01-30T16:03:02.912Z"
   },
   {
    "duration": 65,
    "start_time": "2025-01-30T16:03:02.923Z"
   },
   {
    "duration": 21,
    "start_time": "2025-01-30T16:03:02.990Z"
   },
   {
    "duration": 66,
    "start_time": "2025-01-30T16:03:03.013Z"
   },
   {
    "duration": 17,
    "start_time": "2025-01-30T16:03:03.081Z"
   },
   {
    "duration": 66,
    "start_time": "2025-01-30T16:03:03.100Z"
   },
   {
    "duration": 21,
    "start_time": "2025-01-30T16:03:03.168Z"
   },
   {
    "duration": 52,
    "start_time": "2025-01-30T16:03:03.191Z"
   },
   {
    "duration": 291,
    "start_time": "2025-01-30T16:03:03.245Z"
   },
   {
    "duration": 5,
    "start_time": "2025-01-30T16:03:03.538Z"
   },
   {
    "duration": 58,
    "start_time": "2025-01-30T16:03:03.545Z"
   },
   {
    "duration": 46,
    "start_time": "2025-01-30T16:03:03.604Z"
   },
   {
    "duration": 20,
    "start_time": "2025-01-30T16:03:03.652Z"
   },
   {
    "duration": 186,
    "start_time": "2025-01-30T16:03:03.676Z"
   },
   {
    "duration": 4,
    "start_time": "2025-01-30T16:03:03.864Z"
   },
   {
    "duration": 28,
    "start_time": "2025-01-30T16:03:03.869Z"
   },
   {
    "duration": 33,
    "start_time": "2025-01-30T16:03:03.898Z"
   },
   {
    "duration": 104,
    "start_time": "2025-01-30T16:03:03.933Z"
   },
   {
    "duration": 276,
    "start_time": "2025-01-30T16:03:04.039Z"
   },
   {
    "duration": 11,
    "start_time": "2025-01-30T16:03:04.317Z"
   },
   {
    "duration": 51,
    "start_time": "2025-01-30T16:03:04.329Z"
   },
   {
    "duration": 75,
    "start_time": "2025-01-30T16:03:04.382Z"
   },
   {
    "duration": 18,
    "start_time": "2025-01-30T16:03:04.459Z"
   },
   {
    "duration": 25,
    "start_time": "2025-01-30T16:03:04.478Z"
   },
   {
    "duration": 278,
    "start_time": "2025-01-30T16:03:04.505Z"
   },
   {
    "duration": 11,
    "start_time": "2025-01-30T16:03:04.785Z"
   },
   {
    "duration": 59,
    "start_time": "2025-01-30T16:03:04.808Z"
   },
   {
    "duration": 11,
    "start_time": "2025-01-30T16:03:04.869Z"
   },
   {
    "duration": 111,
    "start_time": "2025-01-30T16:03:04.881Z"
   },
   {
    "duration": 20,
    "start_time": "2025-01-30T16:03:04.993Z"
   },
   {
    "duration": 17,
    "start_time": "2025-01-30T16:03:05.015Z"
   },
   {
    "duration": 41,
    "start_time": "2025-01-30T16:03:05.034Z"
   },
   {
    "duration": 6,
    "start_time": "2025-01-30T16:03:05.076Z"
   },
   {
    "duration": 55,
    "start_time": "2025-01-30T16:03:05.083Z"
   },
   {
    "duration": 15,
    "start_time": "2025-01-30T16:03:05.140Z"
   },
   {
    "duration": 12,
    "start_time": "2025-01-30T16:03:05.156Z"
   },
   {
    "duration": 16,
    "start_time": "2025-01-30T16:03:05.170Z"
   },
   {
    "duration": 173,
    "start_time": "2025-01-30T16:03:05.188Z"
   },
   {
    "duration": 3,
    "start_time": "2025-01-30T16:03:05.362Z"
   },
   {
    "duration": 46,
    "start_time": "2025-01-30T16:03:05.367Z"
   },
   {
    "duration": 23,
    "start_time": "2025-01-30T16:03:05.414Z"
   },
   {
    "duration": 34,
    "start_time": "2025-01-30T16:03:05.438Z"
   },
   {
    "duration": 29,
    "start_time": "2025-01-30T16:03:05.473Z"
   },
   {
    "duration": 79,
    "start_time": "2025-01-30T16:03:05.504Z"
   },
   {
    "duration": 77,
    "start_time": "2025-01-30T16:03:05.585Z"
   },
   {
    "duration": 36,
    "start_time": "2025-01-30T16:03:05.664Z"
   },
   {
    "duration": 61,
    "start_time": "2025-01-30T16:03:05.702Z"
   },
   {
    "duration": 9,
    "start_time": "2025-01-30T16:03:05.765Z"
   },
   {
    "duration": 32,
    "start_time": "2025-01-30T16:03:05.775Z"
   },
   {
    "duration": 43,
    "start_time": "2025-01-30T16:03:05.808Z"
   },
   {
    "duration": 6,
    "start_time": "2025-01-30T16:03:05.853Z"
   },
   {
    "duration": 51,
    "start_time": "2025-01-30T16:03:05.861Z"
   },
   {
    "duration": 25,
    "start_time": "2025-01-30T16:03:05.915Z"
   },
   {
    "duration": 166,
    "start_time": "2025-01-30T16:03:05.942Z"
   },
   {
    "duration": 6,
    "start_time": "2025-01-30T16:03:06.109Z"
   },
   {
    "duration": 77,
    "start_time": "2025-01-30T16:03:06.116Z"
   },
   {
    "duration": 29,
    "start_time": "2025-01-30T16:03:06.195Z"
   },
   {
    "duration": 40,
    "start_time": "2025-01-30T16:03:06.225Z"
   },
   {
    "duration": 6,
    "start_time": "2025-01-30T16:03:06.266Z"
   },
   {
    "duration": 18,
    "start_time": "2025-01-30T16:03:06.274Z"
   },
   {
    "duration": 5,
    "start_time": "2025-01-30T16:03:06.293Z"
   },
   {
    "duration": 90,
    "start_time": "2025-01-30T16:03:06.300Z"
   },
   {
    "duration": 23,
    "start_time": "2025-01-30T16:03:06.391Z"
   },
   {
    "duration": 51,
    "start_time": "2025-01-30T16:03:06.416Z"
   },
   {
    "duration": 8,
    "start_time": "2025-01-30T16:03:06.469Z"
   },
   {
    "duration": 18,
    "start_time": "2025-01-30T16:03:06.479Z"
   },
   {
    "duration": 98,
    "start_time": "2025-01-30T16:03:06.510Z"
   },
   {
    "duration": 18,
    "start_time": "2025-01-30T16:03:06.613Z"
   },
   {
    "duration": 97,
    "start_time": "2025-01-30T16:03:06.632Z"
   },
   {
    "duration": 15,
    "start_time": "2025-01-30T16:03:06.731Z"
   },
   {
    "duration": 100,
    "start_time": "2025-01-30T16:03:06.748Z"
   },
   {
    "duration": 46,
    "start_time": "2025-01-30T16:03:06.850Z"
   },
   {
    "duration": 24,
    "start_time": "2025-01-30T16:03:06.897Z"
   },
   {
    "duration": 35,
    "start_time": "2025-01-30T16:03:06.923Z"
   },
   {
    "duration": 24,
    "start_time": "2025-01-30T16:04:08.717Z"
   },
   {
    "duration": 14,
    "start_time": "2025-01-30T16:04:12.901Z"
   },
   {
    "duration": 3,
    "start_time": "2025-01-30T16:04:18.605Z"
   },
   {
    "duration": 2555,
    "start_time": "2025-01-30T16:04:51.226Z"
   },
   {
    "duration": 419,
    "start_time": "2025-01-30T16:04:53.783Z"
   },
   {
    "duration": 819,
    "start_time": "2025-01-30T16:04:54.204Z"
   },
   {
    "duration": 45,
    "start_time": "2025-01-30T16:04:55.025Z"
   },
   {
    "duration": 2845,
    "start_time": "2025-01-30T16:04:55.072Z"
   },
   {
    "duration": 12,
    "start_time": "2025-01-30T16:04:57.918Z"
   },
   {
    "duration": 18,
    "start_time": "2025-01-30T16:04:57.932Z"
   },
   {
    "duration": 215,
    "start_time": "2025-01-30T16:04:57.952Z"
   },
   {
    "duration": 23,
    "start_time": "2025-01-30T16:04:58.169Z"
   },
   {
    "duration": 100,
    "start_time": "2025-01-30T16:04:58.209Z"
   },
   {
    "duration": 8,
    "start_time": "2025-01-30T16:04:58.311Z"
   },
   {
    "duration": 89,
    "start_time": "2025-01-30T16:04:58.320Z"
   },
   {
    "duration": 7,
    "start_time": "2025-01-30T16:04:58.410Z"
   },
   {
    "duration": 52,
    "start_time": "2025-01-30T16:04:58.419Z"
   },
   {
    "duration": 7,
    "start_time": "2025-01-30T16:04:58.472Z"
   },
   {
    "duration": 46,
    "start_time": "2025-01-30T16:04:58.480Z"
   },
   {
    "duration": 66,
    "start_time": "2025-01-30T16:04:58.528Z"
   },
   {
    "duration": 19,
    "start_time": "2025-01-30T16:04:58.595Z"
   },
   {
    "duration": 6,
    "start_time": "2025-01-30T16:04:58.615Z"
   },
   {
    "duration": 14,
    "start_time": "2025-01-30T16:04:58.622Z"
   },
   {
    "duration": 3,
    "start_time": "2025-01-30T16:04:58.638Z"
   },
   {
    "duration": 12,
    "start_time": "2025-01-30T16:04:58.642Z"
   },
   {
    "duration": 204,
    "start_time": "2025-01-30T16:04:58.655Z"
   },
   {
    "duration": 6,
    "start_time": "2025-01-30T16:04:58.863Z"
   },
   {
    "duration": 40,
    "start_time": "2025-01-30T16:04:58.870Z"
   },
   {
    "duration": 6,
    "start_time": "2025-01-30T16:04:58.912Z"
   },
   {
    "duration": 7,
    "start_time": "2025-01-30T16:04:58.919Z"
   },
   {
    "duration": 188,
    "start_time": "2025-01-30T16:04:58.930Z"
   },
   {
    "duration": 4,
    "start_time": "2025-01-30T16:04:59.119Z"
   },
   {
    "duration": 15,
    "start_time": "2025-01-30T16:04:59.124Z"
   },
   {
    "duration": 35,
    "start_time": "2025-01-30T16:04:59.141Z"
   },
   {
    "duration": 121,
    "start_time": "2025-01-30T16:04:59.178Z"
   },
   {
    "duration": 276,
    "start_time": "2025-01-30T16:04:59.301Z"
   },
   {
    "duration": 11,
    "start_time": "2025-01-30T16:04:59.579Z"
   },
   {
    "duration": 30,
    "start_time": "2025-01-30T16:04:59.592Z"
   },
   {
    "duration": 64,
    "start_time": "2025-01-30T16:04:59.624Z"
   },
   {
    "duration": 32,
    "start_time": "2025-01-30T16:04:59.689Z"
   },
   {
    "duration": 13,
    "start_time": "2025-01-30T16:04:59.723Z"
   },
   {
    "duration": 221,
    "start_time": "2025-01-30T16:04:59.738Z"
   },
   {
    "duration": 11,
    "start_time": "2025-01-30T16:04:59.961Z"
   },
   {
    "duration": 16,
    "start_time": "2025-01-30T16:04:59.974Z"
   },
   {
    "duration": 26,
    "start_time": "2025-01-30T16:04:59.992Z"
   },
   {
    "duration": 136,
    "start_time": "2025-01-30T16:05:00.020Z"
   },
   {
    "duration": 15,
    "start_time": "2025-01-30T16:05:00.158Z"
   },
   {
    "duration": 12,
    "start_time": "2025-01-30T16:05:00.174Z"
   },
   {
    "duration": 91,
    "start_time": "2025-01-30T16:05:00.187Z"
   },
   {
    "duration": 46,
    "start_time": "2025-01-30T16:05:00.280Z"
   },
   {
    "duration": 91,
    "start_time": "2025-01-30T16:05:00.327Z"
   },
   {
    "duration": 17,
    "start_time": "2025-01-30T16:05:00.420Z"
   },
   {
    "duration": 29,
    "start_time": "2025-01-30T16:05:00.439Z"
   },
   {
    "duration": 31,
    "start_time": "2025-01-30T16:05:00.470Z"
   },
   {
    "duration": 247,
    "start_time": "2025-01-30T16:05:00.503Z"
   },
   {
    "duration": 3,
    "start_time": "2025-01-30T16:05:00.752Z"
   },
   {
    "duration": 21,
    "start_time": "2025-01-30T16:05:00.757Z"
   },
   {
    "duration": 26,
    "start_time": "2025-01-30T16:05:00.780Z"
   },
   {
    "duration": 28,
    "start_time": "2025-01-30T16:05:00.808Z"
   },
   {
    "duration": 26,
    "start_time": "2025-01-30T16:05:00.838Z"
   },
   {
    "duration": 13,
    "start_time": "2025-01-30T16:05:00.865Z"
   },
   {
    "duration": 52,
    "start_time": "2025-01-30T16:05:00.880Z"
   },
   {
    "duration": 29,
    "start_time": "2025-01-30T16:05:00.934Z"
   },
   {
    "duration": 34,
    "start_time": "2025-01-30T16:05:00.964Z"
   },
   {
    "duration": 11,
    "start_time": "2025-01-30T16:05:01.000Z"
   },
   {
    "duration": 58,
    "start_time": "2025-01-30T16:05:01.013Z"
   },
   {
    "duration": 9,
    "start_time": "2025-01-30T16:05:01.072Z"
   },
   {
    "duration": 9,
    "start_time": "2025-01-30T16:05:01.082Z"
   },
   {
    "duration": 37,
    "start_time": "2025-01-30T16:05:01.093Z"
   },
   {
    "duration": 6,
    "start_time": "2025-01-30T16:05:01.131Z"
   },
   {
    "duration": 167,
    "start_time": "2025-01-30T16:05:01.138Z"
   },
   {
    "duration": 6,
    "start_time": "2025-01-30T16:05:01.306Z"
   },
   {
    "duration": 115,
    "start_time": "2025-01-30T16:05:01.314Z"
   },
   {
    "duration": 39,
    "start_time": "2025-01-30T16:05:01.431Z"
   },
   {
    "duration": 40,
    "start_time": "2025-01-30T16:05:01.472Z"
   },
   {
    "duration": 12,
    "start_time": "2025-01-30T16:05:01.514Z"
   },
   {
    "duration": 13,
    "start_time": "2025-01-30T16:05:01.528Z"
   },
   {
    "duration": 25,
    "start_time": "2025-01-30T16:05:01.542Z"
   },
   {
    "duration": 54,
    "start_time": "2025-01-30T16:05:01.569Z"
   },
   {
    "duration": 21,
    "start_time": "2025-01-30T16:05:01.625Z"
   },
   {
    "duration": 45,
    "start_time": "2025-01-30T16:05:01.648Z"
   },
   {
    "duration": 8,
    "start_time": "2025-01-30T16:05:01.695Z"
   },
   {
    "duration": 34,
    "start_time": "2025-01-30T16:05:01.710Z"
   },
   {
    "duration": 28,
    "start_time": "2025-01-30T16:05:01.746Z"
   },
   {
    "duration": 16,
    "start_time": "2025-01-30T16:05:01.780Z"
   },
   {
    "duration": 92,
    "start_time": "2025-01-30T16:05:01.797Z"
   },
   {
    "duration": 16,
    "start_time": "2025-01-30T16:05:01.890Z"
   },
   {
    "duration": 87,
    "start_time": "2025-01-30T16:05:01.909Z"
   },
   {
    "duration": 23,
    "start_time": "2025-01-30T16:05:01.999Z"
   },
   {
    "duration": 70,
    "start_time": "2025-01-30T16:05:02.024Z"
   },
   {
    "duration": 40,
    "start_time": "2025-01-30T16:05:02.096Z"
   },
   {
    "duration": 22,
    "start_time": "2025-01-30T16:06:38.780Z"
   },
   {
    "duration": 6,
    "start_time": "2025-01-30T16:07:07.112Z"
   },
   {
    "duration": 23,
    "start_time": "2025-01-30T16:07:10.005Z"
   },
   {
    "duration": 7,
    "start_time": "2025-01-30T16:07:21.929Z"
   },
   {
    "duration": 23,
    "start_time": "2025-01-30T16:07:22.434Z"
   },
   {
    "duration": 5,
    "start_time": "2025-01-30T16:24:32.710Z"
   },
   {
    "duration": 5,
    "start_time": "2025-01-30T16:24:50.401Z"
   },
   {
    "duration": 23,
    "start_time": "2025-01-30T16:25:16.865Z"
   },
   {
    "duration": 5,
    "start_time": "2025-01-30T16:25:18.350Z"
   },
   {
    "duration": 6,
    "start_time": "2025-01-30T16:25:19.577Z"
   },
   {
    "duration": 120,
    "start_time": "2025-01-30T16:25:47.754Z"
   },
   {
    "duration": 11,
    "start_time": "2025-01-30T16:27:45.622Z"
   },
   {
    "duration": 28,
    "start_time": "2025-01-30T16:28:15.614Z"
   },
   {
    "duration": 1424,
    "start_time": "2025-01-30T16:29:33.415Z"
   },
   {
    "duration": 8,
    "start_time": "2025-01-30T16:30:06.608Z"
   },
   {
    "duration": 9,
    "start_time": "2025-01-30T16:30:12.321Z"
   },
   {
    "duration": 16,
    "start_time": "2025-01-30T16:30:14.431Z"
   },
   {
    "duration": 6,
    "start_time": "2025-01-30T16:30:15.639Z"
   },
   {
    "duration": 5,
    "start_time": "2025-01-30T16:30:18.590Z"
   },
   {
    "duration": 5,
    "start_time": "2025-01-30T16:31:02.269Z"
   },
   {
    "duration": 7,
    "start_time": "2025-01-30T16:31:16.438Z"
   },
   {
    "duration": 45,
    "start_time": "2025-01-30T16:31:58.810Z"
   },
   {
    "duration": 19,
    "start_time": "2025-01-30T16:32:06.502Z"
   },
   {
    "duration": 31,
    "start_time": "2025-01-30T16:34:52.909Z"
   },
   {
    "duration": 13,
    "start_time": "2025-01-30T16:37:26.768Z"
   },
   {
    "duration": 16,
    "start_time": "2025-01-30T16:37:34.013Z"
   },
   {
    "duration": 23,
    "start_time": "2025-01-30T16:43:09.060Z"
   },
   {
    "duration": 13,
    "start_time": "2025-01-30T16:47:29.637Z"
   },
   {
    "duration": 19,
    "start_time": "2025-01-30T16:48:49.853Z"
   },
   {
    "duration": 8,
    "start_time": "2025-01-30T16:48:51.342Z"
   },
   {
    "duration": 41,
    "start_time": "2025-01-30T16:48:59.166Z"
   },
   {
    "duration": 9,
    "start_time": "2025-01-30T16:49:00.550Z"
   },
   {
    "duration": 2604,
    "start_time": "2025-01-30T16:49:30.105Z"
   },
   {
    "duration": 463,
    "start_time": "2025-01-30T16:49:32.714Z"
   },
   {
    "duration": 856,
    "start_time": "2025-01-30T16:49:33.179Z"
   },
   {
    "duration": 50,
    "start_time": "2025-01-30T16:49:34.037Z"
   },
   {
    "duration": 2400,
    "start_time": "2025-01-30T16:49:34.089Z"
   },
   {
    "duration": 13,
    "start_time": "2025-01-30T16:49:36.491Z"
   },
   {
    "duration": 20,
    "start_time": "2025-01-30T16:49:36.505Z"
   },
   {
    "duration": 228,
    "start_time": "2025-01-30T16:49:36.526Z"
   },
   {
    "duration": 26,
    "start_time": "2025-01-30T16:49:36.756Z"
   },
   {
    "duration": 116,
    "start_time": "2025-01-30T16:49:36.784Z"
   },
   {
    "duration": 15,
    "start_time": "2025-01-30T16:49:36.902Z"
   },
   {
    "duration": 97,
    "start_time": "2025-01-30T16:49:36.919Z"
   },
   {
    "duration": 7,
    "start_time": "2025-01-30T16:49:37.018Z"
   },
   {
    "duration": 50,
    "start_time": "2025-01-30T16:49:37.027Z"
   },
   {
    "duration": 9,
    "start_time": "2025-01-30T16:49:37.079Z"
   },
   {
    "duration": 47,
    "start_time": "2025-01-30T16:49:37.090Z"
   },
   {
    "duration": 57,
    "start_time": "2025-01-30T16:49:37.139Z"
   },
   {
    "duration": 30,
    "start_time": "2025-01-30T16:49:37.198Z"
   },
   {
    "duration": 19,
    "start_time": "2025-01-30T16:49:37.229Z"
   },
   {
    "duration": 38,
    "start_time": "2025-01-30T16:49:37.249Z"
   },
   {
    "duration": 4,
    "start_time": "2025-01-30T16:49:37.289Z"
   },
   {
    "duration": 7,
    "start_time": "2025-01-30T16:49:37.295Z"
   },
   {
    "duration": 199,
    "start_time": "2025-01-30T16:49:37.304Z"
   },
   {
    "duration": 5,
    "start_time": "2025-01-30T16:49:37.504Z"
   },
   {
    "duration": 122,
    "start_time": "2025-01-30T16:49:37.511Z"
   },
   {
    "duration": 56,
    "start_time": "2025-01-30T16:49:37.635Z"
   },
   {
    "duration": 44,
    "start_time": "2025-01-30T16:49:37.693Z"
   },
   {
    "duration": 195,
    "start_time": "2025-01-30T16:49:37.741Z"
   },
   {
    "duration": 4,
    "start_time": "2025-01-30T16:49:37.938Z"
   },
   {
    "duration": 39,
    "start_time": "2025-01-30T16:49:37.943Z"
   },
   {
    "duration": 47,
    "start_time": "2025-01-30T16:49:37.984Z"
   },
   {
    "duration": 108,
    "start_time": "2025-01-30T16:49:38.033Z"
   },
   {
    "duration": 279,
    "start_time": "2025-01-30T16:49:38.143Z"
   },
   {
    "duration": 10,
    "start_time": "2025-01-30T16:49:38.424Z"
   },
   {
    "duration": 15,
    "start_time": "2025-01-30T16:49:38.436Z"
   },
   {
    "duration": 84,
    "start_time": "2025-01-30T16:49:38.453Z"
   },
   {
    "duration": 19,
    "start_time": "2025-01-30T16:49:38.539Z"
   },
   {
    "duration": 24,
    "start_time": "2025-01-30T16:49:38.560Z"
   },
   {
    "duration": 201,
    "start_time": "2025-01-30T16:49:38.586Z"
   },
   {
    "duration": 11,
    "start_time": "2025-01-30T16:49:38.789Z"
   },
   {
    "duration": 36,
    "start_time": "2025-01-30T16:49:38.801Z"
   },
   {
    "duration": 15,
    "start_time": "2025-01-30T16:49:38.840Z"
   },
   {
    "duration": 123,
    "start_time": "2025-01-30T16:49:38.858Z"
   },
   {
    "duration": 13,
    "start_time": "2025-01-30T16:49:38.983Z"
   },
   {
    "duration": 2,
    "start_time": "2025-01-30T16:49:39.010Z"
   },
   {
    "duration": 9,
    "start_time": "2025-01-30T16:49:39.014Z"
   },
   {
    "duration": 8,
    "start_time": "2025-01-30T16:49:39.025Z"
   },
   {
    "duration": 19,
    "start_time": "2025-01-30T16:49:39.034Z"
   },
   {
    "duration": 8,
    "start_time": "2025-01-30T16:49:39.055Z"
   },
   {
    "duration": 13,
    "start_time": "2025-01-30T16:49:39.065Z"
   },
   {
    "duration": 34,
    "start_time": "2025-01-30T16:49:39.079Z"
   },
   {
    "duration": 177,
    "start_time": "2025-01-30T16:49:39.114Z"
   },
   {
    "duration": 3,
    "start_time": "2025-01-30T16:49:39.293Z"
   },
   {
    "duration": 13,
    "start_time": "2025-01-30T16:49:39.297Z"
   },
   {
    "duration": 23,
    "start_time": "2025-01-30T16:49:39.311Z"
   },
   {
    "duration": 13,
    "start_time": "2025-01-30T16:49:39.335Z"
   },
   {
    "duration": 27,
    "start_time": "2025-01-30T16:49:39.350Z"
   },
   {
    "duration": 18,
    "start_time": "2025-01-30T16:49:39.378Z"
   },
   {
    "duration": 29,
    "start_time": "2025-01-30T16:49:39.398Z"
   },
   {
    "duration": 19,
    "start_time": "2025-01-30T16:49:39.429Z"
   },
   {
    "duration": 21,
    "start_time": "2025-01-30T16:49:39.450Z"
   },
   {
    "duration": 11,
    "start_time": "2025-01-30T16:49:39.473Z"
   },
   {
    "duration": 39,
    "start_time": "2025-01-30T16:49:39.486Z"
   },
   {
    "duration": 8,
    "start_time": "2025-01-30T16:49:39.526Z"
   },
   {
    "duration": 59,
    "start_time": "2025-01-30T16:49:39.535Z"
   },
   {
    "duration": 18,
    "start_time": "2025-01-30T16:49:39.596Z"
   },
   {
    "duration": 5,
    "start_time": "2025-01-30T16:49:39.616Z"
   },
   {
    "duration": 174,
    "start_time": "2025-01-30T16:49:39.623Z"
   },
   {
    "duration": 5,
    "start_time": "2025-01-30T16:49:39.799Z"
   },
   {
    "duration": 67,
    "start_time": "2025-01-30T16:49:39.809Z"
   },
   {
    "duration": 25,
    "start_time": "2025-01-30T16:49:39.879Z"
   },
   {
    "duration": 43,
    "start_time": "2025-01-30T16:49:39.906Z"
   },
   {
    "duration": 4,
    "start_time": "2025-01-30T16:49:39.951Z"
   },
   {
    "duration": 17,
    "start_time": "2025-01-30T16:49:39.957Z"
   },
   {
    "duration": 4,
    "start_time": "2025-01-30T16:49:39.976Z"
   },
   {
    "duration": 60,
    "start_time": "2025-01-30T16:49:39.982Z"
   },
   {
    "duration": 15,
    "start_time": "2025-01-30T16:49:40.044Z"
   },
   {
    "duration": 61,
    "start_time": "2025-01-30T16:49:40.061Z"
   },
   {
    "duration": 7,
    "start_time": "2025-01-30T16:49:40.124Z"
   },
   {
    "duration": 10,
    "start_time": "2025-01-30T16:49:40.133Z"
   },
   {
    "duration": 25,
    "start_time": "2025-01-30T16:49:40.145Z"
   },
   {
    "duration": 5,
    "start_time": "2025-01-30T16:49:40.175Z"
   },
   {
    "duration": 77,
    "start_time": "2025-01-30T16:49:40.210Z"
   },
   {
    "duration": 29,
    "start_time": "2025-01-30T16:49:40.289Z"
   },
   {
    "duration": 5,
    "start_time": "2025-01-30T16:49:40.320Z"
   },
   {
    "duration": 9,
    "start_time": "2025-01-30T16:49:40.327Z"
   },
   {
    "duration": 9,
    "start_time": "2025-01-30T16:49:40.338Z"
   },
   {
    "duration": 61,
    "start_time": "2025-01-30T16:49:40.349Z"
   },
   {
    "duration": 7,
    "start_time": "2025-01-30T16:49:40.412Z"
   },
   {
    "duration": 26,
    "start_time": "2025-01-30T16:49:40.421Z"
   },
   {
    "duration": 17,
    "start_time": "2025-01-30T16:52:07.330Z"
   },
   {
    "duration": 9,
    "start_time": "2025-01-30T16:52:09.249Z"
   },
   {
    "duration": 113,
    "start_time": "2025-01-30T16:53:03.503Z"
   },
   {
    "duration": 10,
    "start_time": "2025-01-30T16:53:45.692Z"
   },
   {
    "duration": 98,
    "start_time": "2025-01-30T16:54:02.997Z"
   },
   {
    "duration": 101,
    "start_time": "2025-01-30T16:54:52.242Z"
   },
   {
    "duration": 222,
    "start_time": "2025-01-30T16:55:08.146Z"
   },
   {
    "duration": 29,
    "start_time": "2025-01-30T16:59:12.532Z"
   },
   {
    "duration": 22,
    "start_time": "2025-01-30T16:59:19.611Z"
   },
   {
    "duration": 25,
    "start_time": "2025-01-30T17:00:32.184Z"
   },
   {
    "duration": 20,
    "start_time": "2025-01-30T17:00:50.589Z"
   },
   {
    "duration": 20,
    "start_time": "2025-01-30T17:01:24.045Z"
   },
   {
    "duration": 21,
    "start_time": "2025-01-30T17:02:07.321Z"
   },
   {
    "duration": 28,
    "start_time": "2025-01-30T17:08:00.162Z"
   },
   {
    "duration": 13,
    "start_time": "2025-01-30T17:39:19.098Z"
   },
   {
    "duration": 56,
    "start_time": "2025-01-30T17:39:45.427Z"
   },
   {
    "duration": 12,
    "start_time": "2025-01-30T17:40:06.572Z"
   },
   {
    "duration": 8,
    "start_time": "2025-01-30T17:40:17.368Z"
   },
   {
    "duration": 34,
    "start_time": "2025-01-30T17:40:34.121Z"
   },
   {
    "duration": 12,
    "start_time": "2025-01-30T17:40:45.239Z"
   },
   {
    "duration": 10,
    "start_time": "2025-01-30T17:41:00.593Z"
   },
   {
    "duration": 7,
    "start_time": "2025-01-30T17:41:04.857Z"
   },
   {
    "duration": 9,
    "start_time": "2025-01-30T17:44:37.169Z"
   },
   {
    "duration": 76,
    "start_time": "2025-01-30T17:44:45.417Z"
   },
   {
    "duration": 56,
    "start_time": "2025-01-30T17:45:19.950Z"
   },
   {
    "duration": 8,
    "start_time": "2025-01-30T17:45:31.366Z"
   },
   {
    "duration": 2554,
    "start_time": "2025-01-30T17:45:41.861Z"
   },
   {
    "duration": 418,
    "start_time": "2025-01-30T17:45:44.418Z"
   },
   {
    "duration": 803,
    "start_time": "2025-01-30T17:45:44.837Z"
   },
   {
    "duration": 100,
    "start_time": "2025-01-30T17:45:45.643Z"
   },
   {
    "duration": 2375,
    "start_time": "2025-01-30T17:45:45.745Z"
   },
   {
    "duration": 12,
    "start_time": "2025-01-30T17:45:48.122Z"
   },
   {
    "duration": 19,
    "start_time": "2025-01-30T17:45:48.135Z"
   },
   {
    "duration": 208,
    "start_time": "2025-01-30T17:45:48.156Z"
   },
   {
    "duration": 24,
    "start_time": "2025-01-30T17:45:48.365Z"
   },
   {
    "duration": 107,
    "start_time": "2025-01-30T17:45:48.392Z"
   },
   {
    "duration": 13,
    "start_time": "2025-01-30T17:45:48.501Z"
   },
   {
    "duration": 76,
    "start_time": "2025-01-30T17:45:48.516Z"
   },
   {
    "duration": 21,
    "start_time": "2025-01-30T17:45:48.593Z"
   },
   {
    "duration": 37,
    "start_time": "2025-01-30T17:45:48.616Z"
   },
   {
    "duration": 8,
    "start_time": "2025-01-30T17:45:48.655Z"
   },
   {
    "duration": 64,
    "start_time": "2025-01-30T17:45:48.665Z"
   },
   {
    "duration": 9,
    "start_time": "2025-01-30T17:45:48.731Z"
   },
   {
    "duration": 19,
    "start_time": "2025-01-30T17:45:48.742Z"
   },
   {
    "duration": 6,
    "start_time": "2025-01-30T17:45:48.763Z"
   },
   {
    "duration": 48,
    "start_time": "2025-01-30T17:45:48.771Z"
   },
   {
    "duration": 4,
    "start_time": "2025-01-30T17:45:48.821Z"
   },
   {
    "duration": 24,
    "start_time": "2025-01-30T17:45:48.827Z"
   },
   {
    "duration": 194,
    "start_time": "2025-01-30T17:45:48.853Z"
   },
   {
    "duration": 4,
    "start_time": "2025-01-30T17:45:49.049Z"
   },
   {
    "duration": 26,
    "start_time": "2025-01-30T17:45:49.055Z"
   },
   {
    "duration": 5,
    "start_time": "2025-01-30T17:45:49.083Z"
   },
   {
    "duration": 6,
    "start_time": "2025-01-30T17:45:49.109Z"
   },
   {
    "duration": 183,
    "start_time": "2025-01-30T17:45:49.119Z"
   },
   {
    "duration": 6,
    "start_time": "2025-01-30T17:45:49.303Z"
   },
   {
    "duration": 12,
    "start_time": "2025-01-30T17:45:49.311Z"
   },
   {
    "duration": 44,
    "start_time": "2025-01-30T17:45:49.324Z"
   },
   {
    "duration": 105,
    "start_time": "2025-01-30T17:45:49.369Z"
   },
   {
    "duration": 291,
    "start_time": "2025-01-30T17:45:49.476Z"
   },
   {
    "duration": 11,
    "start_time": "2025-01-30T17:45:49.769Z"
   },
   {
    "duration": 27,
    "start_time": "2025-01-30T17:45:49.782Z"
   },
   {
    "duration": 64,
    "start_time": "2025-01-30T17:45:49.810Z"
   },
   {
    "duration": 18,
    "start_time": "2025-01-30T17:45:49.875Z"
   },
   {
    "duration": 13,
    "start_time": "2025-01-30T17:45:49.910Z"
   },
   {
    "duration": 209,
    "start_time": "2025-01-30T17:45:49.925Z"
   },
   {
    "duration": 11,
    "start_time": "2025-01-30T17:45:50.135Z"
   },
   {
    "duration": 48,
    "start_time": "2025-01-30T17:45:50.148Z"
   },
   {
    "duration": 12,
    "start_time": "2025-01-30T17:45:50.198Z"
   },
   {
    "duration": 101,
    "start_time": "2025-01-30T17:45:50.212Z"
   },
   {
    "duration": 15,
    "start_time": "2025-01-30T17:45:50.315Z"
   },
   {
    "duration": 22,
    "start_time": "2025-01-30T17:45:50.331Z"
   },
   {
    "duration": 30,
    "start_time": "2025-01-30T17:45:50.355Z"
   },
   {
    "duration": 15,
    "start_time": "2025-01-30T17:45:50.386Z"
   },
   {
    "duration": 32,
    "start_time": "2025-01-30T17:45:50.403Z"
   },
   {
    "duration": 8,
    "start_time": "2025-01-30T17:45:50.437Z"
   },
   {
    "duration": 28,
    "start_time": "2025-01-30T17:45:50.446Z"
   },
   {
    "duration": 9,
    "start_time": "2025-01-30T17:45:50.476Z"
   },
   {
    "duration": 184,
    "start_time": "2025-01-30T17:45:50.487Z"
   },
   {
    "duration": 4,
    "start_time": "2025-01-30T17:45:50.673Z"
   },
   {
    "duration": 12,
    "start_time": "2025-01-30T17:45:50.679Z"
   },
   {
    "duration": 16,
    "start_time": "2025-01-30T17:45:50.692Z"
   },
   {
    "duration": 31,
    "start_time": "2025-01-30T17:45:50.709Z"
   },
   {
    "duration": 83,
    "start_time": "2025-01-30T17:45:50.742Z"
   },
   {
    "duration": 46,
    "start_time": "2025-01-30T17:45:50.827Z"
   },
   {
    "duration": 42,
    "start_time": "2025-01-30T17:45:50.874Z"
   },
   {
    "duration": 19,
    "start_time": "2025-01-30T17:45:50.918Z"
   },
   {
    "duration": 26,
    "start_time": "2025-01-30T17:45:50.938Z"
   },
   {
    "duration": 6,
    "start_time": "2025-01-30T17:45:50.966Z"
   },
   {
    "duration": 64,
    "start_time": "2025-01-30T17:45:50.974Z"
   },
   {
    "duration": 17,
    "start_time": "2025-01-30T17:45:51.039Z"
   },
   {
    "duration": 31,
    "start_time": "2025-01-30T17:45:51.057Z"
   },
   {
    "duration": 21,
    "start_time": "2025-01-30T17:45:51.089Z"
   },
   {
    "duration": 5,
    "start_time": "2025-01-30T17:45:51.111Z"
   },
   {
    "duration": 189,
    "start_time": "2025-01-30T17:45:51.117Z"
   },
   {
    "duration": 5,
    "start_time": "2025-01-30T17:45:51.307Z"
   },
   {
    "duration": 43,
    "start_time": "2025-01-30T17:45:51.314Z"
   },
   {
    "duration": 27,
    "start_time": "2025-01-30T17:45:51.359Z"
   },
   {
    "duration": 55,
    "start_time": "2025-01-30T17:45:51.387Z"
   },
   {
    "duration": 4,
    "start_time": "2025-01-30T17:45:51.444Z"
   },
   {
    "duration": 24,
    "start_time": "2025-01-30T17:45:51.450Z"
   },
   {
    "duration": 35,
    "start_time": "2025-01-30T17:45:51.475Z"
   },
   {
    "duration": 68,
    "start_time": "2025-01-30T17:45:51.511Z"
   },
   {
    "duration": 13,
    "start_time": "2025-01-30T17:45:51.581Z"
   },
   {
    "duration": 43,
    "start_time": "2025-01-30T17:45:51.595Z"
   },
   {
    "duration": 5,
    "start_time": "2025-01-30T17:45:51.640Z"
   },
   {
    "duration": 22,
    "start_time": "2025-01-30T17:45:51.646Z"
   },
   {
    "duration": 27,
    "start_time": "2025-01-30T17:45:51.670Z"
   },
   {
    "duration": 5,
    "start_time": "2025-01-30T17:45:51.711Z"
   },
   {
    "duration": 152,
    "start_time": "2025-01-30T17:45:51.718Z"
   },
   {
    "duration": 17,
    "start_time": "2025-01-30T17:45:51.872Z"
   },
   {
    "duration": 16,
    "start_time": "2025-01-30T17:45:51.891Z"
   },
   {
    "duration": 48,
    "start_time": "2025-01-30T17:45:51.908Z"
   },
   {
    "duration": 26,
    "start_time": "2025-01-30T17:45:51.957Z"
   },
   {
    "duration": 18,
    "start_time": "2025-01-30T17:45:51.984Z"
   },
   {
    "duration": 9,
    "start_time": "2025-01-30T17:45:52.004Z"
   },
   {
    "duration": 59,
    "start_time": "2025-01-30T17:45:52.014Z"
   },
   {
    "duration": 9,
    "start_time": "2025-01-30T17:45:52.075Z"
   },
   {
    "duration": 43,
    "start_time": "2025-01-30T17:45:52.086Z"
   },
   {
    "duration": 87,
    "start_time": "2025-01-30T17:45:52.131Z"
   },
   {
    "duration": 8,
    "start_time": "2025-01-30T17:45:52.220Z"
   },
   {
    "duration": 71,
    "start_time": "2025-01-30T17:45:52.229Z"
   },
   {
    "duration": 7,
    "start_time": "2025-01-30T17:49:49.791Z"
   },
   {
    "duration": 25,
    "start_time": "2025-01-30T17:50:51.020Z"
   },
   {
    "duration": 7,
    "start_time": "2025-01-30T17:50:57.361Z"
   },
   {
    "duration": 23,
    "start_time": "2025-01-30T17:51:22.017Z"
   },
   {
    "duration": 9,
    "start_time": "2025-01-30T17:51:24.049Z"
   },
   {
    "duration": 2533,
    "start_time": "2025-01-30T17:51:34.038Z"
   },
   {
    "duration": 383,
    "start_time": "2025-01-30T17:51:36.573Z"
   },
   {
    "duration": 778,
    "start_time": "2025-01-30T17:51:36.958Z"
   },
   {
    "duration": 62,
    "start_time": "2025-01-30T17:51:37.738Z"
   },
   {
    "duration": 1941,
    "start_time": "2025-01-30T17:51:37.802Z"
   },
   {
    "duration": 11,
    "start_time": "2025-01-30T17:51:39.745Z"
   },
   {
    "duration": 59,
    "start_time": "2025-01-30T17:51:39.758Z"
   },
   {
    "duration": 202,
    "start_time": "2025-01-30T17:51:39.818Z"
   },
   {
    "duration": 25,
    "start_time": "2025-01-30T17:51:40.021Z"
   },
   {
    "duration": 116,
    "start_time": "2025-01-30T17:51:40.049Z"
   },
   {
    "duration": 9,
    "start_time": "2025-01-30T17:51:40.166Z"
   },
   {
    "duration": 88,
    "start_time": "2025-01-30T17:51:40.176Z"
   },
   {
    "duration": 7,
    "start_time": "2025-01-30T17:51:40.265Z"
   },
   {
    "duration": 51,
    "start_time": "2025-01-30T17:51:40.274Z"
   },
   {
    "duration": 8,
    "start_time": "2025-01-30T17:51:40.326Z"
   },
   {
    "duration": 57,
    "start_time": "2025-01-30T17:51:40.335Z"
   },
   {
    "duration": 9,
    "start_time": "2025-01-30T17:51:40.394Z"
   },
   {
    "duration": 18,
    "start_time": "2025-01-30T17:51:40.409Z"
   },
   {
    "duration": 24,
    "start_time": "2025-01-30T17:51:40.429Z"
   },
   {
    "duration": 32,
    "start_time": "2025-01-30T17:51:40.454Z"
   },
   {
    "duration": 5,
    "start_time": "2025-01-30T17:51:40.488Z"
   },
   {
    "duration": 7,
    "start_time": "2025-01-30T17:51:40.494Z"
   },
   {
    "duration": 189,
    "start_time": "2025-01-30T17:51:40.502Z"
   },
   {
    "duration": 5,
    "start_time": "2025-01-30T17:51:40.693Z"
   },
   {
    "duration": 33,
    "start_time": "2025-01-30T17:51:40.699Z"
   },
   {
    "duration": 27,
    "start_time": "2025-01-30T17:51:40.733Z"
   },
   {
    "duration": 32,
    "start_time": "2025-01-30T17:51:40.761Z"
   },
   {
    "duration": 223,
    "start_time": "2025-01-30T17:51:40.796Z"
   },
   {
    "duration": 4,
    "start_time": "2025-01-30T17:51:41.020Z"
   },
   {
    "duration": 19,
    "start_time": "2025-01-30T17:51:41.026Z"
   },
   {
    "duration": 67,
    "start_time": "2025-01-30T17:51:41.047Z"
   },
   {
    "duration": 120,
    "start_time": "2025-01-30T17:51:41.116Z"
   },
   {
    "duration": 289,
    "start_time": "2025-01-30T17:51:41.237Z"
   },
   {
    "duration": 11,
    "start_time": "2025-01-30T17:51:41.528Z"
   },
   {
    "duration": 17,
    "start_time": "2025-01-30T17:51:41.540Z"
   },
   {
    "duration": 83,
    "start_time": "2025-01-30T17:51:41.559Z"
   },
   {
    "duration": 18,
    "start_time": "2025-01-30T17:51:41.644Z"
   },
   {
    "duration": 17,
    "start_time": "2025-01-30T17:51:41.663Z"
   },
   {
    "duration": 215,
    "start_time": "2025-01-30T17:51:41.682Z"
   },
   {
    "duration": 13,
    "start_time": "2025-01-30T17:51:41.899Z"
   },
   {
    "duration": 40,
    "start_time": "2025-01-30T17:51:41.914Z"
   },
   {
    "duration": 11,
    "start_time": "2025-01-30T17:51:41.956Z"
   },
   {
    "duration": 128,
    "start_time": "2025-01-30T17:51:41.969Z"
   },
   {
    "duration": 17,
    "start_time": "2025-01-30T17:51:42.098Z"
   },
   {
    "duration": 6,
    "start_time": "2025-01-30T17:51:42.117Z"
   },
   {
    "duration": 32,
    "start_time": "2025-01-30T17:51:42.124Z"
   },
   {
    "duration": 14,
    "start_time": "2025-01-30T17:51:42.157Z"
   },
   {
    "duration": 19,
    "start_time": "2025-01-30T17:51:42.173Z"
   },
   {
    "duration": 9,
    "start_time": "2025-01-30T17:51:42.193Z"
   },
   {
    "duration": 10,
    "start_time": "2025-01-30T17:51:42.203Z"
   },
   {
    "duration": 15,
    "start_time": "2025-01-30T17:51:42.214Z"
   },
   {
    "duration": 184,
    "start_time": "2025-01-30T17:51:42.231Z"
   },
   {
    "duration": 3,
    "start_time": "2025-01-30T17:51:42.417Z"
   },
   {
    "duration": 7,
    "start_time": "2025-01-30T17:51:42.422Z"
   },
   {
    "duration": 8,
    "start_time": "2025-01-30T17:51:42.430Z"
   },
   {
    "duration": 12,
    "start_time": "2025-01-30T17:51:42.439Z"
   },
   {
    "duration": 9,
    "start_time": "2025-01-30T17:51:42.452Z"
   },
   {
    "duration": 13,
    "start_time": "2025-01-30T17:51:42.463Z"
   },
   {
    "duration": 59,
    "start_time": "2025-01-30T17:51:42.477Z"
   },
   {
    "duration": 20,
    "start_time": "2025-01-30T17:51:42.538Z"
   },
   {
    "duration": 23,
    "start_time": "2025-01-30T17:51:42.560Z"
   },
   {
    "duration": 27,
    "start_time": "2025-01-30T17:51:42.585Z"
   },
   {
    "duration": 22,
    "start_time": "2025-01-30T17:51:42.614Z"
   },
   {
    "duration": 7,
    "start_time": "2025-01-30T17:51:42.638Z"
   },
   {
    "duration": 7,
    "start_time": "2025-01-30T17:51:42.647Z"
   },
   {
    "duration": 25,
    "start_time": "2025-01-30T17:51:42.655Z"
   },
   {
    "duration": 5,
    "start_time": "2025-01-30T17:51:42.682Z"
   },
   {
    "duration": 166,
    "start_time": "2025-01-30T17:51:42.710Z"
   },
   {
    "duration": 7,
    "start_time": "2025-01-30T17:51:42.877Z"
   },
   {
    "duration": 47,
    "start_time": "2025-01-30T17:51:42.885Z"
   },
   {
    "duration": 24,
    "start_time": "2025-01-30T17:51:42.934Z"
   },
   {
    "duration": 54,
    "start_time": "2025-01-30T17:51:42.964Z"
   },
   {
    "duration": 4,
    "start_time": "2025-01-30T17:51:43.020Z"
   },
   {
    "duration": 22,
    "start_time": "2025-01-30T17:51:43.026Z"
   },
   {
    "duration": 11,
    "start_time": "2025-01-30T17:51:43.050Z"
   },
   {
    "duration": 65,
    "start_time": "2025-01-30T17:51:43.062Z"
   },
   {
    "duration": 13,
    "start_time": "2025-01-30T17:51:43.129Z"
   },
   {
    "duration": 44,
    "start_time": "2025-01-30T17:51:43.143Z"
   },
   {
    "duration": 21,
    "start_time": "2025-01-30T17:51:43.189Z"
   },
   {
    "duration": 9,
    "start_time": "2025-01-30T17:51:43.212Z"
   },
   {
    "duration": 26,
    "start_time": "2025-01-30T17:51:43.222Z"
   },
   {
    "duration": 7,
    "start_time": "2025-01-30T17:51:43.253Z"
   },
   {
    "duration": 115,
    "start_time": "2025-01-30T17:51:43.261Z"
   },
   {
    "duration": 15,
    "start_time": "2025-01-30T17:51:43.378Z"
   },
   {
    "duration": 14,
    "start_time": "2025-01-30T17:51:43.395Z"
   },
   {
    "duration": 6,
    "start_time": "2025-01-30T17:51:43.411Z"
   },
   {
    "duration": 5,
    "start_time": "2025-01-30T17:51:43.419Z"
   },
   {
    "duration": 20,
    "start_time": "2025-01-30T17:51:43.426Z"
   },
   {
    "duration": 7,
    "start_time": "2025-01-30T17:51:43.448Z"
   },
   {
    "duration": 78,
    "start_time": "2025-01-30T17:51:43.457Z"
   },
   {
    "duration": 8,
    "start_time": "2025-01-30T17:51:43.537Z"
   },
   {
    "duration": 35,
    "start_time": "2025-01-30T17:51:43.546Z"
   },
   {
    "duration": 95,
    "start_time": "2025-01-30T17:51:43.583Z"
   },
   {
    "duration": 7,
    "start_time": "2025-01-30T17:51:43.680Z"
   },
   {
    "duration": 34,
    "start_time": "2025-01-30T17:51:43.688Z"
   },
   {
    "duration": 8,
    "start_time": "2025-01-30T17:51:56.835Z"
   },
   {
    "duration": 111,
    "start_time": "2025-01-30T17:52:35.761Z"
   },
   {
    "duration": 13,
    "start_time": "2025-01-30T17:53:29.798Z"
   },
   {
    "duration": 9,
    "start_time": "2025-01-30T17:53:39.402Z"
   },
   {
    "duration": 8,
    "start_time": "2025-01-30T17:53:55.254Z"
   },
   {
    "duration": 2575,
    "start_time": "2025-01-30T17:54:13.364Z"
   },
   {
    "duration": 385,
    "start_time": "2025-01-30T17:54:15.941Z"
   },
   {
    "duration": 801,
    "start_time": "2025-01-30T17:54:16.328Z"
   },
   {
    "duration": 53,
    "start_time": "2025-01-30T17:54:17.131Z"
   },
   {
    "duration": 1977,
    "start_time": "2025-01-30T17:54:17.186Z"
   },
   {
    "duration": 13,
    "start_time": "2025-01-30T17:54:19.165Z"
   },
   {
    "duration": 17,
    "start_time": "2025-01-30T17:54:19.179Z"
   },
   {
    "duration": 187,
    "start_time": "2025-01-30T17:54:19.197Z"
   },
   {
    "duration": 34,
    "start_time": "2025-01-30T17:54:19.386Z"
   },
   {
    "duration": 99,
    "start_time": "2025-01-30T17:54:19.423Z"
   },
   {
    "duration": 8,
    "start_time": "2025-01-30T17:54:19.524Z"
   },
   {
    "duration": 82,
    "start_time": "2025-01-30T17:54:19.533Z"
   },
   {
    "duration": 8,
    "start_time": "2025-01-30T17:54:19.616Z"
   },
   {
    "duration": 32,
    "start_time": "2025-01-30T17:54:19.625Z"
   },
   {
    "duration": 7,
    "start_time": "2025-01-30T17:54:19.659Z"
   },
   {
    "duration": 68,
    "start_time": "2025-01-30T17:54:19.668Z"
   },
   {
    "duration": 9,
    "start_time": "2025-01-30T17:54:19.738Z"
   },
   {
    "duration": 20,
    "start_time": "2025-01-30T17:54:19.749Z"
   },
   {
    "duration": 7,
    "start_time": "2025-01-30T17:54:19.770Z"
   },
   {
    "duration": 39,
    "start_time": "2025-01-30T17:54:19.778Z"
   },
   {
    "duration": 4,
    "start_time": "2025-01-30T17:54:19.818Z"
   },
   {
    "duration": 13,
    "start_time": "2025-01-30T17:54:19.823Z"
   },
   {
    "duration": 183,
    "start_time": "2025-01-30T17:54:19.837Z"
   },
   {
    "duration": 5,
    "start_time": "2025-01-30T17:54:20.022Z"
   },
   {
    "duration": 27,
    "start_time": "2025-01-30T17:54:20.028Z"
   },
   {
    "duration": 5,
    "start_time": "2025-01-30T17:54:20.057Z"
   },
   {
    "duration": 5,
    "start_time": "2025-01-30T17:54:20.063Z"
   },
   {
    "duration": 186,
    "start_time": "2025-01-30T17:54:20.073Z"
   },
   {
    "duration": 4,
    "start_time": "2025-01-30T17:54:20.261Z"
   },
   {
    "duration": 23,
    "start_time": "2025-01-30T17:54:20.267Z"
   },
   {
    "duration": 45,
    "start_time": "2025-01-30T17:54:20.292Z"
   },
   {
    "duration": 109,
    "start_time": "2025-01-30T17:54:20.339Z"
   },
   {
    "duration": 284,
    "start_time": "2025-01-30T17:54:20.449Z"
   },
   {
    "duration": 11,
    "start_time": "2025-01-30T17:54:20.736Z"
   },
   {
    "duration": 31,
    "start_time": "2025-01-30T17:54:20.749Z"
   },
   {
    "duration": 74,
    "start_time": "2025-01-30T17:54:20.782Z"
   },
   {
    "duration": 18,
    "start_time": "2025-01-30T17:54:20.858Z"
   },
   {
    "duration": 13,
    "start_time": "2025-01-30T17:54:20.878Z"
   },
   {
    "duration": 220,
    "start_time": "2025-01-30T17:54:20.892Z"
   },
   {
    "duration": 11,
    "start_time": "2025-01-30T17:54:21.113Z"
   },
   {
    "duration": 37,
    "start_time": "2025-01-30T17:54:21.125Z"
   },
   {
    "duration": 11,
    "start_time": "2025-01-30T17:54:21.163Z"
   },
   {
    "duration": 125,
    "start_time": "2025-01-30T17:54:21.175Z"
   },
   {
    "duration": 15,
    "start_time": "2025-01-30T17:54:21.301Z"
   },
   {
    "duration": 18,
    "start_time": "2025-01-30T17:54:21.318Z"
   },
   {
    "duration": 14,
    "start_time": "2025-01-30T17:54:21.338Z"
   },
   {
    "duration": 5,
    "start_time": "2025-01-30T17:54:21.354Z"
   },
   {
    "duration": 27,
    "start_time": "2025-01-30T17:54:21.361Z"
   },
   {
    "duration": 7,
    "start_time": "2025-01-30T17:54:21.390Z"
   },
   {
    "duration": 22,
    "start_time": "2025-01-30T17:54:21.399Z"
   },
   {
    "duration": 29,
    "start_time": "2025-01-30T17:54:21.422Z"
   },
   {
    "duration": 160,
    "start_time": "2025-01-30T17:54:21.452Z"
   },
   {
    "duration": 3,
    "start_time": "2025-01-30T17:54:21.614Z"
   },
   {
    "duration": 8,
    "start_time": "2025-01-30T17:54:21.618Z"
   },
   {
    "duration": 5,
    "start_time": "2025-01-30T17:54:21.628Z"
   },
   {
    "duration": 22,
    "start_time": "2025-01-30T17:54:21.634Z"
   },
   {
    "duration": 8,
    "start_time": "2025-01-30T17:54:21.658Z"
   },
   {
    "duration": 15,
    "start_time": "2025-01-30T17:54:21.667Z"
   },
   {
    "duration": 48,
    "start_time": "2025-01-30T17:54:21.683Z"
   },
   {
    "duration": 19,
    "start_time": "2025-01-30T17:54:21.732Z"
   },
   {
    "duration": 83,
    "start_time": "2025-01-30T17:54:21.752Z"
   },
   {
    "duration": 6,
    "start_time": "2025-01-30T17:54:21.837Z"
   },
   {
    "duration": 39,
    "start_time": "2025-01-30T17:54:21.844Z"
   },
   {
    "duration": 26,
    "start_time": "2025-01-30T17:54:21.885Z"
   },
   {
    "duration": 6,
    "start_time": "2025-01-30T17:54:21.913Z"
   },
   {
    "duration": 33,
    "start_time": "2025-01-30T17:54:21.921Z"
   },
   {
    "duration": 11,
    "start_time": "2025-01-30T17:54:21.955Z"
   },
   {
    "duration": 152,
    "start_time": "2025-01-30T17:54:21.968Z"
   },
   {
    "duration": 4,
    "start_time": "2025-01-30T17:54:22.122Z"
   },
   {
    "duration": 55,
    "start_time": "2025-01-30T17:54:22.128Z"
   },
   {
    "duration": 25,
    "start_time": "2025-01-30T17:54:22.185Z"
   },
   {
    "duration": 42,
    "start_time": "2025-01-30T17:54:22.211Z"
   },
   {
    "duration": 4,
    "start_time": "2025-01-30T17:54:22.255Z"
   },
   {
    "duration": 7,
    "start_time": "2025-01-30T17:54:22.261Z"
   },
   {
    "duration": 6,
    "start_time": "2025-01-30T17:54:22.269Z"
   },
   {
    "duration": 85,
    "start_time": "2025-01-30T17:54:22.277Z"
   },
   {
    "duration": 13,
    "start_time": "2025-01-30T17:54:22.364Z"
   },
   {
    "duration": 60,
    "start_time": "2025-01-30T17:54:22.378Z"
   },
   {
    "duration": 4,
    "start_time": "2025-01-30T17:54:22.440Z"
   },
   {
    "duration": 12,
    "start_time": "2025-01-30T17:54:22.445Z"
   },
   {
    "duration": 27,
    "start_time": "2025-01-30T17:54:22.459Z"
   },
   {
    "duration": 4,
    "start_time": "2025-01-30T17:54:22.509Z"
   },
   {
    "duration": 94,
    "start_time": "2025-01-30T17:54:22.515Z"
   },
   {
    "duration": 17,
    "start_time": "2025-01-30T17:54:22.611Z"
   },
   {
    "duration": 11,
    "start_time": "2025-01-30T17:54:22.630Z"
   },
   {
    "duration": 11,
    "start_time": "2025-01-30T17:54:22.643Z"
   },
   {
    "duration": 6,
    "start_time": "2025-01-30T17:54:22.656Z"
   },
   {
    "duration": 21,
    "start_time": "2025-01-30T17:54:22.663Z"
   },
   {
    "duration": 25,
    "start_time": "2025-01-30T17:54:22.685Z"
   },
   {
    "duration": 52,
    "start_time": "2025-01-30T17:54:22.711Z"
   },
   {
    "duration": 7,
    "start_time": "2025-01-30T17:54:22.765Z"
   },
   {
    "duration": 51,
    "start_time": "2025-01-30T17:54:22.774Z"
   },
   {
    "duration": 84,
    "start_time": "2025-01-30T17:54:22.826Z"
   },
   {
    "duration": 7,
    "start_time": "2025-01-30T17:54:22.912Z"
   },
   {
    "duration": 7,
    "start_time": "2025-01-30T17:54:22.921Z"
   },
   {
    "duration": 8,
    "start_time": "2025-01-30T17:54:22.930Z"
   },
   {
    "duration": 108,
    "start_time": "2025-01-30T17:55:44.794Z"
   },
   {
    "duration": 9,
    "start_time": "2025-01-30T17:55:45.678Z"
   },
   {
    "duration": 8,
    "start_time": "2025-01-30T17:56:22.415Z"
   },
   {
    "duration": 33,
    "start_time": "2025-01-30T17:56:55.803Z"
   },
   {
    "duration": 9,
    "start_time": "2025-01-30T17:57:08.179Z"
   },
   {
    "duration": 13,
    "start_time": "2025-01-30T18:05:22.272Z"
   },
   {
    "duration": 21,
    "start_time": "2025-01-30T18:06:44.502Z"
   },
   {
    "duration": 2597,
    "start_time": "2025-01-30T18:07:03.336Z"
   },
   {
    "duration": 397,
    "start_time": "2025-01-30T18:07:05.935Z"
   },
   {
    "duration": 811,
    "start_time": "2025-01-30T18:07:06.334Z"
   },
   {
    "duration": 57,
    "start_time": "2025-01-30T18:07:07.147Z"
   },
   {
    "duration": 2302,
    "start_time": "2025-01-30T18:07:07.206Z"
   },
   {
    "duration": 11,
    "start_time": "2025-01-30T18:07:09.510Z"
   },
   {
    "duration": 29,
    "start_time": "2025-01-30T18:07:09.523Z"
   },
   {
    "duration": 205,
    "start_time": "2025-01-30T18:07:09.553Z"
   },
   {
    "duration": 23,
    "start_time": "2025-01-30T18:07:09.759Z"
   },
   {
    "duration": 114,
    "start_time": "2025-01-30T18:07:09.785Z"
   },
   {
    "duration": 13,
    "start_time": "2025-01-30T18:07:09.900Z"
   },
   {
    "duration": 77,
    "start_time": "2025-01-30T18:07:09.915Z"
   },
   {
    "duration": 17,
    "start_time": "2025-01-30T18:07:09.994Z"
   },
   {
    "duration": 47,
    "start_time": "2025-01-30T18:07:10.013Z"
   },
   {
    "duration": 7,
    "start_time": "2025-01-30T18:07:10.062Z"
   },
   {
    "duration": 58,
    "start_time": "2025-01-30T18:07:10.070Z"
   },
   {
    "duration": 10,
    "start_time": "2025-01-30T18:07:10.129Z"
   },
   {
    "duration": 19,
    "start_time": "2025-01-30T18:07:10.140Z"
   },
   {
    "duration": 7,
    "start_time": "2025-01-30T18:07:10.160Z"
   },
   {
    "duration": 41,
    "start_time": "2025-01-30T18:07:10.168Z"
   },
   {
    "duration": 3,
    "start_time": "2025-01-30T18:07:10.211Z"
   },
   {
    "duration": 10,
    "start_time": "2025-01-30T18:07:10.216Z"
   },
   {
    "duration": 177,
    "start_time": "2025-01-30T18:07:10.227Z"
   },
   {
    "duration": 5,
    "start_time": "2025-01-30T18:07:10.406Z"
   },
   {
    "duration": 32,
    "start_time": "2025-01-30T18:07:10.412Z"
   },
   {
    "duration": 15,
    "start_time": "2025-01-30T18:07:10.445Z"
   },
   {
    "duration": 14,
    "start_time": "2025-01-30T18:07:10.462Z"
   },
   {
    "duration": 175,
    "start_time": "2025-01-30T18:07:10.480Z"
   },
   {
    "duration": 3,
    "start_time": "2025-01-30T18:07:10.657Z"
   },
   {
    "duration": 13,
    "start_time": "2025-01-30T18:07:10.662Z"
   },
   {
    "duration": 43,
    "start_time": "2025-01-30T18:07:10.676Z"
   },
   {
    "duration": 102,
    "start_time": "2025-01-30T18:07:10.721Z"
   },
   {
    "duration": 277,
    "start_time": "2025-01-30T18:07:10.824Z"
   },
   {
    "duration": 15,
    "start_time": "2025-01-30T18:07:11.103Z"
   },
   {
    "duration": 15,
    "start_time": "2025-01-30T18:07:11.119Z"
   },
   {
    "duration": 82,
    "start_time": "2025-01-30T18:07:11.135Z"
   },
   {
    "duration": 18,
    "start_time": "2025-01-30T18:07:11.218Z"
   },
   {
    "duration": 12,
    "start_time": "2025-01-30T18:07:11.238Z"
   },
   {
    "duration": 216,
    "start_time": "2025-01-30T18:07:11.252Z"
   },
   {
    "duration": 11,
    "start_time": "2025-01-30T18:07:11.470Z"
   },
   {
    "duration": 31,
    "start_time": "2025-01-30T18:07:11.482Z"
   },
   {
    "duration": 10,
    "start_time": "2025-01-30T18:07:11.515Z"
   },
   {
    "duration": 109,
    "start_time": "2025-01-30T18:07:11.527Z"
   },
   {
    "duration": 17,
    "start_time": "2025-01-30T18:07:11.637Z"
   },
   {
    "duration": 4,
    "start_time": "2025-01-30T18:07:11.655Z"
   },
   {
    "duration": 10,
    "start_time": "2025-01-30T18:07:11.660Z"
   },
   {
    "duration": 6,
    "start_time": "2025-01-30T18:07:11.671Z"
   },
   {
    "duration": 45,
    "start_time": "2025-01-30T18:07:11.679Z"
   },
   {
    "duration": 8,
    "start_time": "2025-01-30T18:07:11.726Z"
   },
   {
    "duration": 5,
    "start_time": "2025-01-30T18:07:11.736Z"
   },
   {
    "duration": 12,
    "start_time": "2025-01-30T18:07:11.742Z"
   },
   {
    "duration": 181,
    "start_time": "2025-01-30T18:07:11.756Z"
   },
   {
    "duration": 4,
    "start_time": "2025-01-30T18:07:11.939Z"
   },
   {
    "duration": 17,
    "start_time": "2025-01-30T18:07:11.944Z"
   },
   {
    "duration": 9,
    "start_time": "2025-01-30T18:07:11.963Z"
   },
   {
    "duration": 12,
    "start_time": "2025-01-30T18:07:11.973Z"
   },
   {
    "duration": 9,
    "start_time": "2025-01-30T18:07:11.987Z"
   },
   {
    "duration": 24,
    "start_time": "2025-01-30T18:07:11.998Z"
   },
   {
    "duration": 28,
    "start_time": "2025-01-30T18:07:12.025Z"
   },
   {
    "duration": 19,
    "start_time": "2025-01-30T18:07:12.055Z"
   },
   {
    "duration": 45,
    "start_time": "2025-01-30T18:07:12.076Z"
   },
   {
    "duration": 7,
    "start_time": "2025-01-30T18:07:12.123Z"
   },
   {
    "duration": 40,
    "start_time": "2025-01-30T18:07:12.132Z"
   },
   {
    "duration": 14,
    "start_time": "2025-01-30T18:07:12.174Z"
   },
   {
    "duration": 25,
    "start_time": "2025-01-30T18:07:12.190Z"
   },
   {
    "duration": 24,
    "start_time": "2025-01-30T18:07:12.217Z"
   },
   {
    "duration": 6,
    "start_time": "2025-01-30T18:07:12.243Z"
   },
   {
    "duration": 172,
    "start_time": "2025-01-30T18:07:12.251Z"
   },
   {
    "duration": 5,
    "start_time": "2025-01-30T18:07:12.425Z"
   },
   {
    "duration": 39,
    "start_time": "2025-01-30T18:07:12.431Z"
   },
   {
    "duration": 50,
    "start_time": "2025-01-30T18:07:12.472Z"
   },
   {
    "duration": 43,
    "start_time": "2025-01-30T18:07:12.524Z"
   },
   {
    "duration": 4,
    "start_time": "2025-01-30T18:07:12.569Z"
   },
   {
    "duration": 8,
    "start_time": "2025-01-30T18:07:12.575Z"
   },
   {
    "duration": 26,
    "start_time": "2025-01-30T18:07:12.584Z"
   },
   {
    "duration": 62,
    "start_time": "2025-01-30T18:07:12.612Z"
   },
   {
    "duration": 14,
    "start_time": "2025-01-30T18:07:12.675Z"
   },
   {
    "duration": 54,
    "start_time": "2025-01-30T18:07:12.691Z"
   },
   {
    "duration": 5,
    "start_time": "2025-01-30T18:07:12.747Z"
   },
   {
    "duration": 13,
    "start_time": "2025-01-30T18:07:12.753Z"
   },
   {
    "duration": 42,
    "start_time": "2025-01-30T18:07:12.768Z"
   },
   {
    "duration": 4,
    "start_time": "2025-01-30T18:07:12.816Z"
   },
   {
    "duration": 90,
    "start_time": "2025-01-30T18:07:12.822Z"
   },
   {
    "duration": 16,
    "start_time": "2025-01-30T18:07:12.914Z"
   },
   {
    "duration": 27,
    "start_time": "2025-01-30T18:07:12.932Z"
   },
   {
    "duration": 24,
    "start_time": "2025-01-30T18:07:12.961Z"
   },
   {
    "duration": 38,
    "start_time": "2025-01-30T18:07:12.987Z"
   },
   {
    "duration": 38,
    "start_time": "2025-01-30T18:07:13.027Z"
   },
   {
    "duration": 7,
    "start_time": "2025-01-30T18:07:13.067Z"
   },
   {
    "duration": 47,
    "start_time": "2025-01-30T18:07:13.076Z"
   },
   {
    "duration": 7,
    "start_time": "2025-01-30T18:07:13.124Z"
   },
   {
    "duration": 29,
    "start_time": "2025-01-30T18:07:13.132Z"
   },
   {
    "duration": 100,
    "start_time": "2025-01-30T18:07:13.163Z"
   },
   {
    "duration": 11,
    "start_time": "2025-01-30T18:07:13.265Z"
   },
   {
    "duration": 33,
    "start_time": "2025-01-30T18:07:13.277Z"
   },
   {
    "duration": 47,
    "start_time": "2025-01-30T18:08:33.606Z"
   },
   {
    "duration": 14,
    "start_time": "2025-01-30T18:08:43.429Z"
   },
   {
    "duration": 26,
    "start_time": "2025-01-30T18:08:51.697Z"
   },
   {
    "duration": 35,
    "start_time": "2025-01-30T18:09:03.722Z"
   },
   {
    "duration": 26,
    "start_time": "2025-01-30T18:09:04.813Z"
   },
   {
    "duration": 12,
    "start_time": "2025-01-30T18:09:38.578Z"
   },
   {
    "duration": 116,
    "start_time": "2025-01-30T18:14:05.148Z"
   },
   {
    "duration": 14,
    "start_time": "2025-01-30T18:14:31.088Z"
   },
   {
    "duration": 30,
    "start_time": "2025-01-30T18:14:35.569Z"
   },
   {
    "duration": 14,
    "start_time": "2025-01-30T18:14:55.096Z"
   },
   {
    "duration": 11,
    "start_time": "2025-01-30T18:15:10.253Z"
   },
   {
    "duration": 9,
    "start_time": "2025-01-30T18:16:01.702Z"
   },
   {
    "duration": 9,
    "start_time": "2025-01-30T18:16:12.658Z"
   },
   {
    "duration": 3530,
    "start_time": "2025-01-30T21:02:35.946Z"
   },
   {
    "duration": 382,
    "start_time": "2025-01-30T21:02:39.478Z"
   },
   {
    "duration": 906,
    "start_time": "2025-01-30T21:02:39.862Z"
   },
   {
    "duration": 58,
    "start_time": "2025-01-30T21:02:40.770Z"
   },
   {
    "duration": 1835,
    "start_time": "2025-01-30T21:02:40.830Z"
   },
   {
    "duration": 11,
    "start_time": "2025-01-30T21:02:42.666Z"
   },
   {
    "duration": 47,
    "start_time": "2025-01-30T21:02:42.678Z"
   },
   {
    "duration": 191,
    "start_time": "2025-01-30T21:02:42.727Z"
   },
   {
    "duration": 28,
    "start_time": "2025-01-30T21:02:42.920Z"
   },
   {
    "duration": 86,
    "start_time": "2025-01-30T21:02:42.950Z"
   },
   {
    "duration": 17,
    "start_time": "2025-01-30T21:02:43.038Z"
   },
   {
    "duration": 69,
    "start_time": "2025-01-30T21:02:43.056Z"
   },
   {
    "duration": 24,
    "start_time": "2025-01-30T21:02:43.126Z"
   },
   {
    "duration": 68,
    "start_time": "2025-01-30T21:02:43.151Z"
   },
   {
    "duration": 7,
    "start_time": "2025-01-30T21:02:43.221Z"
   },
   {
    "duration": 41,
    "start_time": "2025-01-30T21:02:43.230Z"
   },
   {
    "duration": 57,
    "start_time": "2025-01-30T21:02:43.273Z"
   },
   {
    "duration": 19,
    "start_time": "2025-01-30T21:02:43.332Z"
   },
   {
    "duration": 6,
    "start_time": "2025-01-30T21:02:43.352Z"
   },
   {
    "duration": 15,
    "start_time": "2025-01-30T21:02:43.360Z"
   },
   {
    "duration": 3,
    "start_time": "2025-01-30T21:02:43.377Z"
   },
   {
    "duration": 6,
    "start_time": "2025-01-30T21:02:43.381Z"
   },
   {
    "duration": 176,
    "start_time": "2025-01-30T21:02:43.389Z"
   },
   {
    "duration": 5,
    "start_time": "2025-01-30T21:02:43.566Z"
   },
   {
    "duration": 25,
    "start_time": "2025-01-30T21:02:43.573Z"
   },
   {
    "duration": 4,
    "start_time": "2025-01-30T21:02:43.599Z"
   },
   {
    "duration": 5,
    "start_time": "2025-01-30T21:02:43.605Z"
   },
   {
    "duration": 175,
    "start_time": "2025-01-30T21:02:43.615Z"
   },
   {
    "duration": 5,
    "start_time": "2025-01-30T21:02:43.792Z"
   },
   {
    "duration": 18,
    "start_time": "2025-01-30T21:02:43.798Z"
   },
   {
    "duration": 47,
    "start_time": "2025-01-30T21:02:43.818Z"
   },
   {
    "duration": 95,
    "start_time": "2025-01-30T21:02:43.866Z"
   },
   {
    "duration": 252,
    "start_time": "2025-01-30T21:02:43.963Z"
   },
   {
    "duration": 11,
    "start_time": "2025-01-30T21:02:44.218Z"
   },
   {
    "duration": 29,
    "start_time": "2025-01-30T21:02:44.231Z"
   },
   {
    "duration": 56,
    "start_time": "2025-01-30T21:02:44.262Z"
   },
   {
    "duration": 35,
    "start_time": "2025-01-30T21:02:44.320Z"
   },
   {
    "duration": 89,
    "start_time": "2025-01-30T21:02:44.357Z"
   },
   {
    "duration": 180,
    "start_time": "2025-01-30T21:02:44.448Z"
   },
   {
    "duration": 21,
    "start_time": "2025-01-30T21:02:44.630Z"
   },
   {
    "duration": 112,
    "start_time": "2025-01-30T21:02:44.652Z"
   },
   {
    "duration": 10,
    "start_time": "2025-01-30T21:02:44.766Z"
   },
   {
    "duration": 102,
    "start_time": "2025-01-30T21:02:44.778Z"
   },
   {
    "duration": 15,
    "start_time": "2025-01-30T21:02:44.882Z"
   },
   {
    "duration": 10,
    "start_time": "2025-01-30T21:02:44.898Z"
   },
   {
    "duration": 10,
    "start_time": "2025-01-30T21:02:44.909Z"
   },
   {
    "duration": 5,
    "start_time": "2025-01-30T21:02:44.921Z"
   },
   {
    "duration": 61,
    "start_time": "2025-01-30T21:02:44.928Z"
   },
   {
    "duration": 8,
    "start_time": "2025-01-30T21:02:44.991Z"
   },
   {
    "duration": 4,
    "start_time": "2025-01-30T21:02:45.001Z"
   },
   {
    "duration": 47,
    "start_time": "2025-01-30T21:02:45.007Z"
   },
   {
    "duration": 166,
    "start_time": "2025-01-30T21:02:45.055Z"
   },
   {
    "duration": 3,
    "start_time": "2025-01-30T21:02:45.223Z"
   },
   {
    "duration": 129,
    "start_time": "2025-01-30T21:02:45.227Z"
   },
   {
    "duration": 17,
    "start_time": "2025-01-30T21:02:45.357Z"
   },
   {
    "duration": 24,
    "start_time": "2025-01-30T21:02:45.376Z"
   },
   {
    "duration": 20,
    "start_time": "2025-01-30T21:02:45.401Z"
   },
   {
    "duration": 20,
    "start_time": "2025-01-30T21:02:45.422Z"
   },
   {
    "duration": 39,
    "start_time": "2025-01-30T21:02:45.443Z"
   },
   {
    "duration": 20,
    "start_time": "2025-01-30T21:02:45.483Z"
   },
   {
    "duration": 20,
    "start_time": "2025-01-30T21:02:45.504Z"
   },
   {
    "duration": 6,
    "start_time": "2025-01-30T21:02:45.526Z"
   },
   {
    "duration": 28,
    "start_time": "2025-01-30T21:02:45.534Z"
   },
   {
    "duration": 7,
    "start_time": "2025-01-30T21:02:45.563Z"
   },
   {
    "duration": 9,
    "start_time": "2025-01-30T21:02:45.572Z"
   },
   {
    "duration": 17,
    "start_time": "2025-01-30T21:02:45.583Z"
   },
   {
    "duration": 5,
    "start_time": "2025-01-30T21:02:45.601Z"
   },
   {
    "duration": 160,
    "start_time": "2025-01-30T21:02:45.607Z"
   },
   {
    "duration": 4,
    "start_time": "2025-01-30T21:02:45.769Z"
   },
   {
    "duration": 41,
    "start_time": "2025-01-30T21:02:45.775Z"
   },
   {
    "duration": 21,
    "start_time": "2025-01-30T21:02:45.818Z"
   },
   {
    "duration": 35,
    "start_time": "2025-01-30T21:02:45.849Z"
   },
   {
    "duration": 3,
    "start_time": "2025-01-30T21:02:45.886Z"
   },
   {
    "duration": 4,
    "start_time": "2025-01-30T21:02:45.890Z"
   },
   {
    "duration": 8,
    "start_time": "2025-01-30T21:02:45.896Z"
   },
   {
    "duration": 63,
    "start_time": "2025-01-30T21:02:45.905Z"
   },
   {
    "duration": 10,
    "start_time": "2025-01-30T21:02:45.970Z"
   },
   {
    "duration": 38,
    "start_time": "2025-01-30T21:02:45.982Z"
   },
   {
    "duration": 3,
    "start_time": "2025-01-30T21:02:46.022Z"
   },
   {
    "duration": 28,
    "start_time": "2025-01-30T21:02:46.026Z"
   },
   {
    "duration": 39,
    "start_time": "2025-01-30T21:02:46.056Z"
   },
   {
    "duration": 5,
    "start_time": "2025-01-30T21:02:46.102Z"
   },
   {
    "duration": 87,
    "start_time": "2025-01-30T21:02:46.108Z"
   },
   {
    "duration": 14,
    "start_time": "2025-01-30T21:02:46.197Z"
   },
   {
    "duration": 10,
    "start_time": "2025-01-30T21:02:46.212Z"
   },
   {
    "duration": 4,
    "start_time": "2025-01-30T21:02:46.223Z"
   },
   {
    "duration": 19,
    "start_time": "2025-01-30T21:02:46.229Z"
   },
   {
    "duration": 16,
    "start_time": "2025-01-30T21:02:46.250Z"
   },
   {
    "duration": 6,
    "start_time": "2025-01-30T21:02:46.267Z"
   },
   {
    "duration": 42,
    "start_time": "2025-01-30T21:02:46.275Z"
   },
   {
    "duration": 31,
    "start_time": "2025-01-30T21:02:46.318Z"
   },
   {
    "duration": 32,
    "start_time": "2025-01-30T21:02:46.350Z"
   },
   {
    "duration": 93,
    "start_time": "2025-01-30T21:02:46.384Z"
   },
   {
    "duration": 9,
    "start_time": "2025-01-30T21:02:46.479Z"
   },
   {
    "duration": 20,
    "start_time": "2025-01-30T21:03:24.215Z"
   },
   {
    "duration": 12,
    "start_time": "2025-01-30T21:03:33.592Z"
   },
   {
    "duration": 19,
    "start_time": "2025-01-30T21:03:39.217Z"
   },
   {
    "duration": 10,
    "start_time": "2025-01-30T21:04:32.742Z"
   },
   {
    "duration": 19,
    "start_time": "2025-01-30T21:04:33.910Z"
   },
   {
    "duration": 36,
    "start_time": "2025-01-30T21:05:24.059Z"
   },
   {
    "duration": 24,
    "start_time": "2025-01-30T21:05:36.578Z"
   },
   {
    "duration": 14,
    "start_time": "2025-01-30T21:06:25.192Z"
   },
   {
    "duration": 35,
    "start_time": "2025-01-30T21:06:25.680Z"
   },
   {
    "duration": 22,
    "start_time": "2025-01-30T21:06:26.384Z"
   },
   {
    "duration": 9,
    "start_time": "2025-01-30T21:07:40.613Z"
   },
   {
    "duration": 11,
    "start_time": "2025-01-30T21:07:41.549Z"
   },
   {
    "duration": 23,
    "start_time": "2025-01-30T21:07:42.197Z"
   },
   {
    "duration": 8,
    "start_time": "2025-01-30T21:08:12.157Z"
   },
   {
    "duration": 20,
    "start_time": "2025-01-30T21:08:20.118Z"
   },
   {
    "duration": 114,
    "start_time": "2025-01-30T21:11:56.790Z"
   },
   {
    "duration": 110,
    "start_time": "2025-01-30T21:12:12.374Z"
   },
   {
    "duration": 100,
    "start_time": "2025-01-30T21:12:18.379Z"
   },
   {
    "duration": 108,
    "start_time": "2025-01-30T21:12:24.330Z"
   },
   {
    "duration": 106,
    "start_time": "2025-01-30T21:12:28.971Z"
   },
   {
    "duration": 9,
    "start_time": "2025-01-30T21:13:06.659Z"
   },
   {
    "duration": 2966,
    "start_time": "2025-01-31T11:29:27.771Z"
   },
   {
    "duration": 47,
    "start_time": "2025-01-31T11:29:54.186Z"
   },
   {
    "duration": 13365,
    "start_time": "2025-01-31T11:30:24.839Z"
   },
   {
    "duration": 445,
    "start_time": "2025-01-31T11:30:38.207Z"
   },
   {
    "duration": 1099,
    "start_time": "2025-01-31T11:30:38.653Z"
   },
   {
    "duration": 54,
    "start_time": "2025-01-31T11:30:39.754Z"
   },
   {
    "duration": 2376,
    "start_time": "2025-01-31T11:30:39.810Z"
   },
   {
    "duration": 12,
    "start_time": "2025-01-31T11:30:42.188Z"
   },
   {
    "duration": 33,
    "start_time": "2025-01-31T11:30:42.202Z"
   },
   {
    "duration": 198,
    "start_time": "2025-01-31T11:30:42.237Z"
   },
   {
    "duration": 24,
    "start_time": "2025-01-31T11:30:42.436Z"
   },
   {
    "duration": 184,
    "start_time": "2025-01-31T11:30:42.462Z"
   },
   {
    "duration": 9,
    "start_time": "2025-01-31T11:30:42.648Z"
   },
   {
    "duration": 143,
    "start_time": "2025-01-31T11:30:42.658Z"
   },
   {
    "duration": 7,
    "start_time": "2025-01-31T11:30:42.803Z"
   },
   {
    "duration": 50,
    "start_time": "2025-01-31T11:30:42.811Z"
   },
   {
    "duration": 8,
    "start_time": "2025-01-31T11:30:42.862Z"
   },
   {
    "duration": 44,
    "start_time": "2025-01-31T11:30:42.871Z"
   },
   {
    "duration": 9,
    "start_time": "2025-01-31T11:30:42.917Z"
   },
   {
    "duration": 19,
    "start_time": "2025-01-31T11:30:42.928Z"
   },
   {
    "duration": 6,
    "start_time": "2025-01-31T11:30:42.949Z"
   },
   {
    "duration": 18,
    "start_time": "2025-01-31T11:30:42.956Z"
   },
   {
    "duration": 3,
    "start_time": "2025-01-31T11:30:42.975Z"
   },
   {
    "duration": 6,
    "start_time": "2025-01-31T11:30:42.980Z"
   },
   {
    "duration": 177,
    "start_time": "2025-01-31T11:30:42.987Z"
   },
   {
    "duration": 4,
    "start_time": "2025-01-31T11:30:43.166Z"
   },
   {
    "duration": 27,
    "start_time": "2025-01-31T11:30:43.172Z"
   },
   {
    "duration": 11,
    "start_time": "2025-01-31T11:30:43.201Z"
   },
   {
    "duration": 7,
    "start_time": "2025-01-31T11:30:43.213Z"
   },
   {
    "duration": 170,
    "start_time": "2025-01-31T11:30:43.224Z"
   },
   {
    "duration": 4,
    "start_time": "2025-01-31T11:30:43.395Z"
   },
   {
    "duration": 17,
    "start_time": "2025-01-31T11:30:43.401Z"
   },
   {
    "duration": 39,
    "start_time": "2025-01-31T11:30:43.420Z"
   },
   {
    "duration": 102,
    "start_time": "2025-01-31T11:30:43.461Z"
   },
   {
    "duration": 282,
    "start_time": "2025-01-31T11:30:43.565Z"
   },
   {
    "duration": 11,
    "start_time": "2025-01-31T11:30:43.848Z"
   },
   {
    "duration": 15,
    "start_time": "2025-01-31T11:30:43.860Z"
   },
   {
    "duration": 71,
    "start_time": "2025-01-31T11:30:43.877Z"
   },
   {
    "duration": 19,
    "start_time": "2025-01-31T11:30:43.949Z"
   },
   {
    "duration": 13,
    "start_time": "2025-01-31T11:30:43.970Z"
   },
   {
    "duration": 212,
    "start_time": "2025-01-31T11:30:43.985Z"
   },
   {
    "duration": 18,
    "start_time": "2025-01-31T11:30:44.199Z"
   },
   {
    "duration": 18,
    "start_time": "2025-01-31T11:30:44.219Z"
   },
   {
    "duration": 11,
    "start_time": "2025-01-31T11:30:44.239Z"
   },
   {
    "duration": 102,
    "start_time": "2025-01-31T11:30:44.251Z"
   },
   {
    "duration": 16,
    "start_time": "2025-01-31T11:30:44.355Z"
   },
   {
    "duration": 3,
    "start_time": "2025-01-31T11:30:44.373Z"
   },
   {
    "duration": 12,
    "start_time": "2025-01-31T11:30:44.377Z"
   },
   {
    "duration": 5,
    "start_time": "2025-01-31T11:30:44.391Z"
   },
   {
    "duration": 24,
    "start_time": "2025-01-31T11:30:44.398Z"
   },
   {
    "duration": 8,
    "start_time": "2025-01-31T11:30:44.424Z"
   },
   {
    "duration": 10,
    "start_time": "2025-01-31T11:30:44.434Z"
   },
   {
    "duration": 14,
    "start_time": "2025-01-31T11:30:44.446Z"
   },
   {
    "duration": 174,
    "start_time": "2025-01-31T11:30:44.462Z"
   },
   {
    "duration": 4,
    "start_time": "2025-01-31T11:30:44.637Z"
   },
   {
    "duration": 23,
    "start_time": "2025-01-31T11:30:44.642Z"
   },
   {
    "duration": 4,
    "start_time": "2025-01-31T11:30:44.667Z"
   },
   {
    "duration": 26,
    "start_time": "2025-01-31T11:30:44.673Z"
   },
   {
    "duration": 12,
    "start_time": "2025-01-31T11:30:44.700Z"
   },
   {
    "duration": 13,
    "start_time": "2025-01-31T11:30:44.714Z"
   },
   {
    "duration": 29,
    "start_time": "2025-01-31T11:30:44.728Z"
   },
   {
    "duration": 19,
    "start_time": "2025-01-31T11:30:44.759Z"
   },
   {
    "duration": 23,
    "start_time": "2025-01-31T11:30:44.780Z"
   },
   {
    "duration": 15,
    "start_time": "2025-01-31T11:30:44.804Z"
   },
   {
    "duration": 29,
    "start_time": "2025-01-31T11:30:44.820Z"
   },
   {
    "duration": 8,
    "start_time": "2025-01-31T11:30:44.850Z"
   },
   {
    "duration": 10,
    "start_time": "2025-01-31T11:30:44.859Z"
   },
   {
    "duration": 19,
    "start_time": "2025-01-31T11:30:44.871Z"
   },
   {
    "duration": 4,
    "start_time": "2025-01-31T11:30:44.892Z"
   },
   {
    "duration": 168,
    "start_time": "2025-01-31T11:30:44.898Z"
   },
   {
    "duration": 5,
    "start_time": "2025-01-31T11:30:45.068Z"
   },
   {
    "duration": 43,
    "start_time": "2025-01-31T11:30:45.074Z"
   },
   {
    "duration": 25,
    "start_time": "2025-01-31T11:30:45.119Z"
   },
   {
    "duration": 46,
    "start_time": "2025-01-31T11:30:45.146Z"
   },
   {
    "duration": 4,
    "start_time": "2025-01-31T11:30:45.193Z"
   },
   {
    "duration": 16,
    "start_time": "2025-01-31T11:30:45.198Z"
   },
   {
    "duration": 26,
    "start_time": "2025-01-31T11:30:45.216Z"
   },
   {
    "duration": 86,
    "start_time": "2025-01-31T11:30:45.244Z"
   },
   {
    "duration": 86,
    "start_time": "2025-01-31T11:30:45.332Z"
   },
   {
    "duration": 46,
    "start_time": "2025-01-31T11:30:45.420Z"
   },
   {
    "duration": 20,
    "start_time": "2025-01-31T11:30:45.468Z"
   },
   {
    "duration": 22,
    "start_time": "2025-01-31T11:30:45.490Z"
   },
   {
    "duration": 34,
    "start_time": "2025-01-31T11:30:45.513Z"
   },
   {
    "duration": 32,
    "start_time": "2025-01-31T11:30:45.553Z"
   },
   {
    "duration": 88,
    "start_time": "2025-01-31T11:30:45.587Z"
   },
   {
    "duration": 17,
    "start_time": "2025-01-31T11:30:45.676Z"
   },
   {
    "duration": 38,
    "start_time": "2025-01-31T11:30:45.694Z"
   },
   {
    "duration": 12,
    "start_time": "2025-01-31T11:30:45.734Z"
   },
   {
    "duration": 5,
    "start_time": "2025-01-31T11:30:45.748Z"
   },
   {
    "duration": 17,
    "start_time": "2025-01-31T11:30:45.755Z"
   },
   {
    "duration": 9,
    "start_time": "2025-01-31T11:30:45.774Z"
   },
   {
    "duration": 72,
    "start_time": "2025-01-31T11:30:45.785Z"
   },
   {
    "duration": 8,
    "start_time": "2025-01-31T11:30:45.859Z"
   },
   {
    "duration": 42,
    "start_time": "2025-01-31T11:30:45.868Z"
   },
   {
    "duration": 109,
    "start_time": "2025-01-31T11:30:45.912Z"
   },
   {
    "duration": 8,
    "start_time": "2025-01-31T11:30:46.023Z"
   },
   {
    "duration": 20,
    "start_time": "2025-01-31T11:30:46.033Z"
   },
   {
    "duration": 213,
    "start_time": "2025-01-31T11:30:46.055Z"
   },
   {
    "duration": 53,
    "start_time": "2025-01-31T11:30:46.270Z"
   },
   {
    "duration": 25045,
    "start_time": "2025-01-31T11:30:46.325Z"
   },
   {
    "duration": 5,
    "start_time": "2025-01-31T11:32:35.796Z"
   },
   {
    "duration": 8,
    "start_time": "2025-01-31T11:32:37.701Z"
   },
   {
    "duration": 5,
    "start_time": "2025-01-31T11:33:19.178Z"
   },
   {
    "duration": 22,
    "start_time": "2025-01-31T11:33:19.734Z"
   },
   {
    "duration": 5,
    "start_time": "2025-01-31T11:33:45.290Z"
   },
   {
    "duration": 8,
    "start_time": "2025-01-31T11:33:47.811Z"
   },
   {
    "duration": 6,
    "start_time": "2025-01-31T11:34:04.466Z"
   },
   {
    "duration": 23,
    "start_time": "2025-01-31T11:34:05.330Z"
   },
   {
    "duration": 10,
    "start_time": "2025-01-31T11:34:27.143Z"
   },
   {
    "duration": 13,
    "start_time": "2025-01-31T11:34:44.416Z"
   },
   {
    "duration": 5337,
    "start_time": "2025-01-31T11:38:41.393Z"
   },
   {
    "duration": 416,
    "start_time": "2025-01-31T11:38:46.733Z"
   },
   {
    "duration": 1511,
    "start_time": "2025-01-31T11:38:47.150Z"
   },
   {
    "duration": 1031,
    "start_time": "2025-01-31T11:38:48.663Z"
   },
   {
    "duration": 2005,
    "start_time": "2025-01-31T11:38:49.696Z"
   },
   {
    "duration": 12,
    "start_time": "2025-01-31T11:38:51.703Z"
   },
   {
    "duration": 39,
    "start_time": "2025-01-31T11:38:51.717Z"
   },
   {
    "duration": 213,
    "start_time": "2025-01-31T11:38:51.758Z"
   },
   {
    "duration": 25,
    "start_time": "2025-01-31T11:38:51.972Z"
   },
   {
    "duration": 134,
    "start_time": "2025-01-31T11:38:51.999Z"
   },
   {
    "duration": 9,
    "start_time": "2025-01-31T11:38:52.135Z"
   },
   {
    "duration": 89,
    "start_time": "2025-01-31T11:38:52.146Z"
   },
   {
    "duration": 7,
    "start_time": "2025-01-31T11:38:52.237Z"
   },
   {
    "duration": 35,
    "start_time": "2025-01-31T11:38:52.246Z"
   },
   {
    "duration": 9,
    "start_time": "2025-01-31T11:38:52.282Z"
   },
   {
    "duration": 46,
    "start_time": "2025-01-31T11:38:52.316Z"
   },
   {
    "duration": 14,
    "start_time": "2025-01-31T11:38:52.364Z"
   },
   {
    "duration": 22,
    "start_time": "2025-01-31T11:38:52.380Z"
   },
   {
    "duration": 7,
    "start_time": "2025-01-31T11:38:52.416Z"
   },
   {
    "duration": 14,
    "start_time": "2025-01-31T11:38:52.425Z"
   },
   {
    "duration": 3,
    "start_time": "2025-01-31T11:38:52.441Z"
   },
   {
    "duration": 16,
    "start_time": "2025-01-31T11:38:52.445Z"
   },
   {
    "duration": 265,
    "start_time": "2025-01-31T11:38:52.462Z"
   },
   {
    "duration": 6,
    "start_time": "2025-01-31T11:38:52.728Z"
   },
   {
    "duration": 45,
    "start_time": "2025-01-31T11:38:52.735Z"
   },
   {
    "duration": 5,
    "start_time": "2025-01-31T11:38:52.781Z"
   },
   {
    "duration": 5,
    "start_time": "2025-01-31T11:38:52.787Z"
   },
   {
    "duration": 176,
    "start_time": "2025-01-31T11:38:52.796Z"
   },
   {
    "duration": 4,
    "start_time": "2025-01-31T11:38:52.974Z"
   },
   {
    "duration": 20,
    "start_time": "2025-01-31T11:38:52.979Z"
   },
   {
    "duration": 45,
    "start_time": "2025-01-31T11:38:53.001Z"
   },
   {
    "duration": 109,
    "start_time": "2025-01-31T11:38:53.048Z"
   },
   {
    "duration": 288,
    "start_time": "2025-01-31T11:38:53.159Z"
   },
   {
    "duration": 12,
    "start_time": "2025-01-31T11:38:53.448Z"
   },
   {
    "duration": 16,
    "start_time": "2025-01-31T11:38:53.461Z"
   },
   {
    "duration": 86,
    "start_time": "2025-01-31T11:38:53.479Z"
   },
   {
    "duration": 19,
    "start_time": "2025-01-31T11:38:53.566Z"
   },
   {
    "duration": 12,
    "start_time": "2025-01-31T11:38:53.587Z"
   },
   {
    "duration": 233,
    "start_time": "2025-01-31T11:38:53.617Z"
   },
   {
    "duration": 11,
    "start_time": "2025-01-31T11:38:53.852Z"
   },
   {
    "duration": 25,
    "start_time": "2025-01-31T11:38:53.864Z"
   },
   {
    "duration": 11,
    "start_time": "2025-01-31T11:38:53.891Z"
   },
   {
    "duration": 115,
    "start_time": "2025-01-31T11:38:53.903Z"
   },
   {
    "duration": 16,
    "start_time": "2025-01-31T11:38:54.020Z"
   },
   {
    "duration": 7,
    "start_time": "2025-01-31T11:38:54.037Z"
   },
   {
    "duration": 20,
    "start_time": "2025-01-31T11:38:54.046Z"
   },
   {
    "duration": 16,
    "start_time": "2025-01-31T11:38:54.068Z"
   },
   {
    "duration": 46,
    "start_time": "2025-01-31T11:38:54.086Z"
   },
   {
    "duration": 8,
    "start_time": "2025-01-31T11:38:54.134Z"
   },
   {
    "duration": 10,
    "start_time": "2025-01-31T11:38:54.144Z"
   },
   {
    "duration": 9,
    "start_time": "2025-01-31T11:38:54.156Z"
   },
   {
    "duration": 179,
    "start_time": "2025-01-31T11:38:54.167Z"
   },
   {
    "duration": 3,
    "start_time": "2025-01-31T11:38:54.348Z"
   },
   {
    "duration": 9,
    "start_time": "2025-01-31T11:38:54.353Z"
   },
   {
    "duration": 15,
    "start_time": "2025-01-31T11:38:54.363Z"
   },
   {
    "duration": 10,
    "start_time": "2025-01-31T11:38:54.380Z"
   },
   {
    "duration": 30,
    "start_time": "2025-01-31T11:38:54.392Z"
   },
   {
    "duration": 14,
    "start_time": "2025-01-31T11:38:54.424Z"
   },
   {
    "duration": 29,
    "start_time": "2025-01-31T11:38:54.440Z"
   },
   {
    "duration": 20,
    "start_time": "2025-01-31T11:38:54.471Z"
   },
   {
    "duration": 71,
    "start_time": "2025-01-31T11:38:54.493Z"
   },
   {
    "duration": 8,
    "start_time": "2025-01-31T11:38:54.566Z"
   },
   {
    "duration": 27,
    "start_time": "2025-01-31T11:38:54.576Z"
   },
   {
    "duration": 37,
    "start_time": "2025-01-31T11:38:54.606Z"
   },
   {
    "duration": 7,
    "start_time": "2025-01-31T11:38:54.644Z"
   },
   {
    "duration": 117,
    "start_time": "2025-01-31T11:38:54.653Z"
   },
   {
    "duration": 5,
    "start_time": "2025-01-31T11:38:54.772Z"
   },
   {
    "duration": 163,
    "start_time": "2025-01-31T11:38:54.779Z"
   },
   {
    "duration": 6,
    "start_time": "2025-01-31T11:38:54.943Z"
   },
   {
    "duration": 46,
    "start_time": "2025-01-31T11:38:54.950Z"
   },
   {
    "duration": 39,
    "start_time": "2025-01-31T11:38:54.998Z"
   },
   {
    "duration": 42,
    "start_time": "2025-01-31T11:38:55.039Z"
   },
   {
    "duration": 3,
    "start_time": "2025-01-31T11:38:55.083Z"
   },
   {
    "duration": 16,
    "start_time": "2025-01-31T11:38:55.087Z"
   },
   {
    "duration": 15,
    "start_time": "2025-01-31T11:38:55.104Z"
   },
   {
    "duration": 55,
    "start_time": "2025-01-31T11:38:55.120Z"
   },
   {
    "duration": 13,
    "start_time": "2025-01-31T11:38:55.177Z"
   },
   {
    "duration": 60,
    "start_time": "2025-01-31T11:38:55.191Z"
   },
   {
    "duration": 4,
    "start_time": "2025-01-31T11:38:55.252Z"
   },
   {
    "duration": 12,
    "start_time": "2025-01-31T11:38:55.258Z"
   },
   {
    "duration": 48,
    "start_time": "2025-01-31T11:38:55.271Z"
   },
   {
    "duration": 4,
    "start_time": "2025-01-31T11:38:55.326Z"
   },
   {
    "duration": 151,
    "start_time": "2025-01-31T11:38:55.332Z"
   },
   {
    "duration": 16,
    "start_time": "2025-01-31T11:38:55.484Z"
   },
   {
    "duration": 15,
    "start_time": "2025-01-31T11:38:55.502Z"
   },
   {
    "duration": 5,
    "start_time": "2025-01-31T11:38:55.518Z"
   },
   {
    "duration": 8,
    "start_time": "2025-01-31T11:38:55.525Z"
   },
   {
    "duration": 17,
    "start_time": "2025-01-31T11:38:55.534Z"
   },
   {
    "duration": 8,
    "start_time": "2025-01-31T11:38:55.553Z"
   },
   {
    "duration": 78,
    "start_time": "2025-01-31T11:38:55.563Z"
   },
   {
    "duration": 8,
    "start_time": "2025-01-31T11:38:55.643Z"
   },
   {
    "duration": 93,
    "start_time": "2025-01-31T11:38:55.652Z"
   },
   {
    "duration": 79,
    "start_time": "2025-01-31T11:38:55.747Z"
   },
   {
    "duration": 8,
    "start_time": "2025-01-31T11:38:55.828Z"
   },
   {
    "duration": 28,
    "start_time": "2025-01-31T11:38:55.837Z"
   },
   {
    "duration": 143,
    "start_time": "2025-01-31T11:38:55.866Z"
   },
   {
    "duration": 9,
    "start_time": "2025-01-31T11:38:56.016Z"
   },
   {
    "duration": 8,
    "start_time": "2025-01-31T11:38:56.027Z"
   },
   {
    "duration": 22,
    "start_time": "2025-01-31T11:38:56.036Z"
   },
   {
    "duration": 0,
    "start_time": "2025-01-31T11:39:43.644Z"
   },
   {
    "duration": 0,
    "start_time": "2025-01-31T11:39:43.645Z"
   },
   {
    "duration": 0,
    "start_time": "2025-01-31T11:39:43.646Z"
   },
   {
    "duration": 31578,
    "start_time": "2025-01-31T11:41:25.623Z"
   },
   {
    "duration": 0,
    "start_time": "2025-01-31T11:41:57.203Z"
   },
   {
    "duration": 0,
    "start_time": "2025-01-31T11:41:57.204Z"
   },
   {
    "duration": 8,
    "start_time": "2025-01-31T11:42:09.680Z"
   },
   {
    "duration": 10,
    "start_time": "2025-01-31T11:42:32.801Z"
   },
   {
    "duration": 8,
    "start_time": "2025-01-31T11:42:58.565Z"
   },
   {
    "duration": 12,
    "start_time": "2025-01-31T11:43:07.437Z"
   },
   {
    "duration": 4,
    "start_time": "2025-01-31T11:44:00.162Z"
   },
   {
    "duration": 4,
    "start_time": "2025-01-31T11:44:09.722Z"
   },
   {
    "duration": 3,
    "start_time": "2025-01-31T11:44:29.242Z"
   },
   {
    "duration": 4,
    "start_time": "2025-01-31T11:44:29.778Z"
   },
   {
    "duration": 16927,
    "start_time": "2025-01-31T11:45:29.192Z"
   },
   {
    "duration": 0,
    "start_time": "2025-01-31T11:45:46.121Z"
   },
   {
    "duration": 0,
    "start_time": "2025-01-31T11:45:46.122Z"
   },
   {
    "duration": 23,
    "start_time": "2025-01-31T12:55:40.170Z"
   },
   {
    "duration": 9,
    "start_time": "2025-01-31T12:55:40.906Z"
   },
   {
    "duration": 3,
    "start_time": "2025-01-31T12:55:50.922Z"
   },
   {
    "duration": 5,
    "start_time": "2025-01-31T12:55:51.282Z"
   },
   {
    "duration": 9,
    "start_time": "2025-01-31T12:58:39.578Z"
   },
   {
    "duration": 12,
    "start_time": "2025-01-31T12:59:37.258Z"
   },
   {
    "duration": 6,
    "start_time": "2025-01-31T12:59:44.315Z"
   },
   {
    "duration": 4,
    "start_time": "2025-01-31T12:59:47.075Z"
   },
   {
    "duration": 6,
    "start_time": "2025-01-31T12:59:49.067Z"
   },
   {
    "duration": 5,
    "start_time": "2025-01-31T13:00:11.918Z"
   },
   {
    "duration": 51,
    "start_time": "2025-01-31T13:00:25.043Z"
   },
   {
    "duration": 7,
    "start_time": "2025-01-31T13:03:26.209Z"
   },
   {
    "duration": 3,
    "start_time": "2025-01-31T13:03:27.281Z"
   },
   {
    "duration": 3,
    "start_time": "2025-01-31T13:03:27.889Z"
   },
   {
    "duration": 4,
    "start_time": "2025-01-31T13:03:28.521Z"
   },
   {
    "duration": 10,
    "start_time": "2025-01-31T13:04:45.878Z"
   },
   {
    "duration": 4,
    "start_time": "2025-01-31T13:05:09.963Z"
   },
   {
    "duration": 6,
    "start_time": "2025-01-31T13:11:25.150Z"
   },
   {
    "duration": 7,
    "start_time": "2025-01-31T13:11:25.694Z"
   },
   {
    "duration": 6,
    "start_time": "2025-01-31T13:11:54.894Z"
   },
   {
    "duration": 8,
    "start_time": "2025-01-31T13:11:55.247Z"
   },
   {
    "duration": 3,
    "start_time": "2025-01-31T13:12:33.323Z"
   },
   {
    "duration": 18,
    "start_time": "2025-01-31T13:12:41.556Z"
   },
   {
    "duration": 143,
    "start_time": "2025-01-31T13:13:09.332Z"
   },
   {
    "duration": 17,
    "start_time": "2025-01-31T13:16:29.132Z"
   },
   {
    "duration": 9,
    "start_time": "2025-01-31T13:17:13.737Z"
   },
   {
    "duration": 10,
    "start_time": "2025-01-31T13:17:42.473Z"
   },
   {
    "duration": 46114,
    "start_time": "2025-01-31T13:17:49.057Z"
   },
   {
    "duration": 6,
    "start_time": "2025-01-31T13:39:32.680Z"
   },
   {
    "duration": 6,
    "start_time": "2025-01-31T13:40:11.175Z"
   },
   {
    "duration": 7,
    "start_time": "2025-01-31T13:40:13.238Z"
   },
   {
    "duration": 4,
    "start_time": "2025-01-31T13:40:20.119Z"
   },
   {
    "duration": 3,
    "start_time": "2025-01-31T13:40:26.783Z"
   },
   {
    "duration": 16,
    "start_time": "2025-01-31T13:40:27.968Z"
   },
   {
    "duration": 158,
    "start_time": "2025-01-31T13:40:47.468Z"
   },
   {
    "duration": 14,
    "start_time": "2025-01-31T13:57:00.676Z"
   },
   {
    "duration": 7,
    "start_time": "2025-01-31T13:57:37.129Z"
   },
   {
    "duration": 6,
    "start_time": "2025-01-31T13:57:41.036Z"
   },
   {
    "duration": 9,
    "start_time": "2025-01-31T13:57:42.560Z"
   },
   {
    "duration": 7,
    "start_time": "2025-01-31T13:57:43.408Z"
   },
   {
    "duration": 3,
    "start_time": "2025-01-31T13:57:46.057Z"
   },
   {
    "duration": 159,
    "start_time": "2025-01-31T13:57:47.137Z"
   },
   {
    "duration": 7,
    "start_time": "2025-01-31T13:57:56.073Z"
   },
   {
    "duration": 6,
    "start_time": "2025-01-31T13:57:56.880Z"
   },
   {
    "duration": 6,
    "start_time": "2025-01-31T13:57:57.465Z"
   },
   {
    "duration": 7,
    "start_time": "2025-01-31T13:57:58.265Z"
   },
   {
    "duration": 3,
    "start_time": "2025-01-31T13:57:58.945Z"
   },
   {
    "duration": 167,
    "start_time": "2025-01-31T13:57:59.789Z"
   },
   {
    "duration": 11,
    "start_time": "2025-01-31T13:58:50.934Z"
   },
   {
    "duration": 6,
    "start_time": "2025-01-31T13:58:53.022Z"
   },
   {
    "duration": 7,
    "start_time": "2025-01-31T13:58:54.669Z"
   },
   {
    "duration": 7,
    "start_time": "2025-01-31T13:58:55.215Z"
   },
   {
    "duration": 3,
    "start_time": "2025-01-31T13:58:55.773Z"
   },
   {
    "duration": 152,
    "start_time": "2025-01-31T13:58:56.542Z"
   },
   {
    "duration": 9037,
    "start_time": "2025-01-31T21:06:47.333Z"
   },
   {
    "duration": 378,
    "start_time": "2025-01-31T21:06:56.372Z"
   },
   {
    "duration": 1901,
    "start_time": "2025-01-31T21:06:56.751Z"
   },
   {
    "duration": 1050,
    "start_time": "2025-01-31T21:06:58.654Z"
   },
   {
    "duration": 2593,
    "start_time": "2025-01-31T21:06:59.706Z"
   },
   {
    "duration": 11,
    "start_time": "2025-01-31T21:07:02.300Z"
   },
   {
    "duration": 43,
    "start_time": "2025-01-31T21:07:02.312Z"
   },
   {
    "duration": 178,
    "start_time": "2025-01-31T21:07:02.357Z"
   },
   {
    "duration": 31,
    "start_time": "2025-01-31T21:07:02.536Z"
   },
   {
    "duration": 92,
    "start_time": "2025-01-31T21:07:02.569Z"
   },
   {
    "duration": 8,
    "start_time": "2025-01-31T21:07:02.662Z"
   },
   {
    "duration": 101,
    "start_time": "2025-01-31T21:07:02.672Z"
   },
   {
    "duration": 8,
    "start_time": "2025-01-31T21:07:02.774Z"
   },
   {
    "duration": 36,
    "start_time": "2025-01-31T21:07:02.783Z"
   },
   {
    "duration": 25,
    "start_time": "2025-01-31T21:07:02.820Z"
   },
   {
    "duration": 121,
    "start_time": "2025-01-31T21:07:02.849Z"
   },
   {
    "duration": 8,
    "start_time": "2025-01-31T21:07:02.972Z"
   },
   {
    "duration": 31,
    "start_time": "2025-01-31T21:07:02.982Z"
   },
   {
    "duration": 36,
    "start_time": "2025-01-31T21:07:03.014Z"
   },
   {
    "duration": 18,
    "start_time": "2025-01-31T21:07:03.051Z"
   },
   {
    "duration": 11,
    "start_time": "2025-01-31T21:07:03.071Z"
   },
   {
    "duration": 47,
    "start_time": "2025-01-31T21:07:03.083Z"
   },
   {
    "duration": 187,
    "start_time": "2025-01-31T21:07:03.133Z"
   },
   {
    "duration": 4,
    "start_time": "2025-01-31T21:07:03.322Z"
   },
   {
    "duration": 114,
    "start_time": "2025-01-31T21:07:03.327Z"
   },
   {
    "duration": 5,
    "start_time": "2025-01-31T21:07:03.442Z"
   },
   {
    "duration": 7,
    "start_time": "2025-01-31T21:07:03.448Z"
   },
   {
    "duration": 166,
    "start_time": "2025-01-31T21:07:03.458Z"
   },
   {
    "duration": 4,
    "start_time": "2025-01-31T21:07:03.625Z"
   },
   {
    "duration": 28,
    "start_time": "2025-01-31T21:07:03.630Z"
   },
   {
    "duration": 59,
    "start_time": "2025-01-31T21:07:03.660Z"
   },
   {
    "duration": 91,
    "start_time": "2025-01-31T21:07:03.720Z"
   },
   {
    "duration": 264,
    "start_time": "2025-01-31T21:07:03.812Z"
   },
   {
    "duration": 9,
    "start_time": "2025-01-31T21:07:04.078Z"
   },
   {
    "duration": 14,
    "start_time": "2025-01-31T21:07:04.089Z"
   },
   {
    "duration": 78,
    "start_time": "2025-01-31T21:07:04.104Z"
   },
   {
    "duration": 16,
    "start_time": "2025-01-31T21:07:04.184Z"
   },
   {
    "duration": 11,
    "start_time": "2025-01-31T21:07:04.202Z"
   },
   {
    "duration": 199,
    "start_time": "2025-01-31T21:07:04.215Z"
   },
   {
    "duration": 11,
    "start_time": "2025-01-31T21:07:04.416Z"
   },
   {
    "duration": 68,
    "start_time": "2025-01-31T21:07:04.428Z"
   },
   {
    "duration": 10,
    "start_time": "2025-01-31T21:07:04.497Z"
   },
   {
    "duration": 116,
    "start_time": "2025-01-31T21:07:04.508Z"
   },
   {
    "duration": 14,
    "start_time": "2025-01-31T21:07:04.626Z"
   },
   {
    "duration": 17,
    "start_time": "2025-01-31T21:07:04.649Z"
   },
   {
    "duration": 31,
    "start_time": "2025-01-31T21:07:04.668Z"
   },
   {
    "duration": 15,
    "start_time": "2025-01-31T21:07:04.701Z"
   },
   {
    "duration": 27,
    "start_time": "2025-01-31T21:07:04.718Z"
   },
   {
    "duration": 8,
    "start_time": "2025-01-31T21:07:04.747Z"
   },
   {
    "duration": 4,
    "start_time": "2025-01-31T21:07:04.756Z"
   },
   {
    "duration": 25,
    "start_time": "2025-01-31T21:07:04.761Z"
   },
   {
    "duration": 154,
    "start_time": "2025-01-31T21:07:04.787Z"
   },
   {
    "duration": 6,
    "start_time": "2025-01-31T21:07:04.943Z"
   },
   {
    "duration": 9,
    "start_time": "2025-01-31T21:07:04.950Z"
   },
   {
    "duration": 29,
    "start_time": "2025-01-31T21:07:04.960Z"
   },
   {
    "duration": 8,
    "start_time": "2025-01-31T21:07:04.991Z"
   },
   {
    "duration": 32,
    "start_time": "2025-01-31T21:07:05.000Z"
   },
   {
    "duration": 14,
    "start_time": "2025-01-31T21:07:05.033Z"
   },
   {
    "duration": 36,
    "start_time": "2025-01-31T21:07:05.048Z"
   },
   {
    "duration": 17,
    "start_time": "2025-01-31T21:07:05.086Z"
   },
   {
    "duration": 23,
    "start_time": "2025-01-31T21:07:05.104Z"
   },
   {
    "duration": 11,
    "start_time": "2025-01-31T21:07:05.129Z"
   },
   {
    "duration": 31,
    "start_time": "2025-01-31T21:07:05.141Z"
   },
   {
    "duration": 27,
    "start_time": "2025-01-31T21:07:05.173Z"
   },
   {
    "duration": 24,
    "start_time": "2025-01-31T21:07:05.201Z"
   },
   {
    "duration": 39,
    "start_time": "2025-01-31T21:07:05.227Z"
   },
   {
    "duration": 10,
    "start_time": "2025-01-31T21:07:05.267Z"
   },
   {
    "duration": 244,
    "start_time": "2025-01-31T21:07:05.278Z"
   },
   {
    "duration": 5,
    "start_time": "2025-01-31T21:07:05.523Z"
   },
   {
    "duration": 47,
    "start_time": "2025-01-31T21:07:05.530Z"
   },
   {
    "duration": 22,
    "start_time": "2025-01-31T21:07:05.578Z"
   },
   {
    "duration": 53,
    "start_time": "2025-01-31T21:07:05.602Z"
   },
   {
    "duration": 3,
    "start_time": "2025-01-31T21:07:05.656Z"
   },
   {
    "duration": 19,
    "start_time": "2025-01-31T21:07:05.661Z"
   },
   {
    "duration": 18,
    "start_time": "2025-01-31T21:07:05.681Z"
   },
   {
    "duration": 82,
    "start_time": "2025-01-31T21:07:05.700Z"
   },
   {
    "duration": 54,
    "start_time": "2025-01-31T21:07:05.784Z"
   },
   {
    "duration": 50,
    "start_time": "2025-01-31T21:07:05.840Z"
   },
   {
    "duration": 26,
    "start_time": "2025-01-31T21:07:05.891Z"
   },
   {
    "duration": 21,
    "start_time": "2025-01-31T21:07:05.919Z"
   },
   {
    "duration": 27,
    "start_time": "2025-01-31T21:07:05.942Z"
   },
   {
    "duration": 4,
    "start_time": "2025-01-31T21:07:05.975Z"
   },
   {
    "duration": 99,
    "start_time": "2025-01-31T21:07:05.981Z"
   },
   {
    "duration": 19,
    "start_time": "2025-01-31T21:07:06.082Z"
   },
   {
    "duration": 24,
    "start_time": "2025-01-31T21:07:06.102Z"
   },
   {
    "duration": 8,
    "start_time": "2025-01-31T21:07:06.128Z"
   },
   {
    "duration": 9,
    "start_time": "2025-01-31T21:07:06.137Z"
   },
   {
    "duration": 50,
    "start_time": "2025-01-31T21:07:06.148Z"
   },
   {
    "duration": 21,
    "start_time": "2025-01-31T21:07:06.200Z"
   },
   {
    "duration": 66,
    "start_time": "2025-01-31T21:07:06.223Z"
   },
   {
    "duration": 7,
    "start_time": "2025-01-31T21:07:06.290Z"
   },
   {
    "duration": 61,
    "start_time": "2025-01-31T21:07:06.298Z"
   },
   {
    "duration": 202,
    "start_time": "2025-01-31T21:07:06.361Z"
   },
   {
    "duration": 6,
    "start_time": "2025-01-31T21:07:06.565Z"
   },
   {
    "duration": 21,
    "start_time": "2025-01-31T21:07:06.573Z"
   },
   {
    "duration": 125,
    "start_time": "2025-01-31T21:07:06.596Z"
   },
   {
    "duration": 8,
    "start_time": "2025-01-31T21:07:06.722Z"
   },
   {
    "duration": 20,
    "start_time": "2025-01-31T21:07:06.731Z"
   },
   {
    "duration": 48,
    "start_time": "2025-01-31T21:07:06.752Z"
   },
   {
    "duration": 104,
    "start_time": "2025-01-31T21:07:06.802Z"
   },
   {
    "duration": 36,
    "start_time": "2025-01-31T21:07:06.908Z"
   },
   {
    "duration": 9,
    "start_time": "2025-01-31T21:07:06.946Z"
   },
   {
    "duration": 5,
    "start_time": "2025-01-31T21:07:06.957Z"
   },
   {
    "duration": 22,
    "start_time": "2025-01-31T21:07:06.963Z"
   },
   {
    "duration": 10,
    "start_time": "2025-01-31T21:07:06.987Z"
   },
   {
    "duration": 9,
    "start_time": "2025-01-31T21:07:06.999Z"
   },
   {
    "duration": 13,
    "start_time": "2025-01-31T21:07:07.010Z"
   },
   {
    "duration": 8,
    "start_time": "2025-01-31T21:07:07.025Z"
   },
   {
    "duration": 6,
    "start_time": "2025-01-31T21:07:07.034Z"
   },
   {
    "duration": 5,
    "start_time": "2025-01-31T21:07:07.049Z"
   },
   {
    "duration": 136,
    "start_time": "2025-01-31T21:07:07.056Z"
   },
   {
    "duration": 54,
    "start_time": "2025-02-02T11:30:09.507Z"
   },
   {
    "duration": 4241,
    "start_time": "2025-02-02T11:30:15.288Z"
   },
   {
    "duration": 422,
    "start_time": "2025-02-02T11:30:19.531Z"
   },
   {
    "duration": 985,
    "start_time": "2025-02-02T11:30:19.960Z"
   },
   {
    "duration": 62,
    "start_time": "2025-02-02T11:30:20.948Z"
   },
   {
    "duration": 2416,
    "start_time": "2025-02-02T11:30:21.012Z"
   },
   {
    "duration": 12,
    "start_time": "2025-02-02T11:30:23.429Z"
   },
   {
    "duration": 72,
    "start_time": "2025-02-02T11:30:23.442Z"
   },
   {
    "duration": 189,
    "start_time": "2025-02-02T11:30:23.516Z"
   },
   {
    "duration": 22,
    "start_time": "2025-02-02T11:30:23.707Z"
   },
   {
    "duration": 170,
    "start_time": "2025-02-02T11:30:23.731Z"
   },
   {
    "duration": 8,
    "start_time": "2025-02-02T11:30:23.902Z"
   },
   {
    "duration": 93,
    "start_time": "2025-02-02T11:30:23.912Z"
   },
   {
    "duration": 7,
    "start_time": "2025-02-02T11:30:24.007Z"
   },
   {
    "duration": 57,
    "start_time": "2025-02-02T11:30:24.016Z"
   },
   {
    "duration": 8,
    "start_time": "2025-02-02T11:30:24.074Z"
   },
   {
    "duration": 41,
    "start_time": "2025-02-02T11:30:24.084Z"
   },
   {
    "duration": 13,
    "start_time": "2025-02-02T11:30:24.152Z"
   },
   {
    "duration": 27,
    "start_time": "2025-02-02T11:30:24.167Z"
   },
   {
    "duration": 7,
    "start_time": "2025-02-02T11:30:24.196Z"
   },
   {
    "duration": 16,
    "start_time": "2025-02-02T11:30:24.204Z"
   },
   {
    "duration": 3,
    "start_time": "2025-02-02T11:30:24.222Z"
   },
   {
    "duration": 33,
    "start_time": "2025-02-02T11:30:24.226Z"
   },
   {
    "duration": 183,
    "start_time": "2025-02-02T11:30:24.261Z"
   },
   {
    "duration": 15,
    "start_time": "2025-02-02T11:30:24.448Z"
   },
   {
    "duration": 40,
    "start_time": "2025-02-02T11:30:24.465Z"
   },
   {
    "duration": 13,
    "start_time": "2025-02-02T11:30:24.507Z"
   },
   {
    "duration": 17,
    "start_time": "2025-02-02T11:30:24.521Z"
   },
   {
    "duration": 178,
    "start_time": "2025-02-02T11:30:24.543Z"
   },
   {
    "duration": 3,
    "start_time": "2025-02-02T11:30:24.723Z"
   },
   {
    "duration": 112,
    "start_time": "2025-02-02T11:30:24.728Z"
   },
   {
    "duration": 54,
    "start_time": "2025-02-02T11:30:24.841Z"
   },
   {
    "duration": 98,
    "start_time": "2025-02-02T11:30:24.897Z"
   },
   {
    "duration": 296,
    "start_time": "2025-02-02T11:30:24.996Z"
   },
   {
    "duration": 10,
    "start_time": "2025-02-02T11:30:25.293Z"
   },
   {
    "duration": 16,
    "start_time": "2025-02-02T11:30:25.304Z"
   },
   {
    "duration": 84,
    "start_time": "2025-02-02T11:30:25.322Z"
   },
   {
    "duration": 19,
    "start_time": "2025-02-02T11:30:25.408Z"
   },
   {
    "duration": 84,
    "start_time": "2025-02-02T11:30:25.428Z"
   },
   {
    "duration": 210,
    "start_time": "2025-02-02T11:30:25.514Z"
   },
   {
    "duration": 12,
    "start_time": "2025-02-02T11:30:25.726Z"
   },
   {
    "duration": 25,
    "start_time": "2025-02-02T11:30:25.749Z"
   },
   {
    "duration": 88,
    "start_time": "2025-02-02T11:30:25.775Z"
   },
   {
    "duration": 104,
    "start_time": "2025-02-02T11:30:25.865Z"
   },
   {
    "duration": 14,
    "start_time": "2025-02-02T11:30:25.971Z"
   },
   {
    "duration": 4,
    "start_time": "2025-02-02T11:30:25.986Z"
   },
   {
    "duration": 17,
    "start_time": "2025-02-02T11:30:25.991Z"
   },
   {
    "duration": 21,
    "start_time": "2025-02-02T11:30:26.009Z"
   },
   {
    "duration": 24,
    "start_time": "2025-02-02T11:30:26.032Z"
   },
   {
    "duration": 25,
    "start_time": "2025-02-02T11:30:26.059Z"
   },
   {
    "duration": 14,
    "start_time": "2025-02-02T11:30:26.086Z"
   },
   {
    "duration": 18,
    "start_time": "2025-02-02T11:30:26.103Z"
   },
   {
    "duration": 182,
    "start_time": "2025-02-02T11:30:26.124Z"
   },
   {
    "duration": 4,
    "start_time": "2025-02-02T11:30:26.307Z"
   },
   {
    "duration": 19,
    "start_time": "2025-02-02T11:30:26.312Z"
   },
   {
    "duration": 6,
    "start_time": "2025-02-02T11:30:26.333Z"
   },
   {
    "duration": 30,
    "start_time": "2025-02-02T11:30:26.340Z"
   },
   {
    "duration": 11,
    "start_time": "2025-02-02T11:30:26.372Z"
   },
   {
    "duration": 14,
    "start_time": "2025-02-02T11:30:26.384Z"
   },
   {
    "duration": 28,
    "start_time": "2025-02-02T11:30:26.399Z"
   },
   {
    "duration": 29,
    "start_time": "2025-02-02T11:30:26.429Z"
   },
   {
    "duration": 22,
    "start_time": "2025-02-02T11:30:26.461Z"
   },
   {
    "duration": 6,
    "start_time": "2025-02-02T11:30:26.485Z"
   },
   {
    "duration": 26,
    "start_time": "2025-02-02T11:30:26.492Z"
   },
   {
    "duration": 37,
    "start_time": "2025-02-02T11:30:26.519Z"
   },
   {
    "duration": 8,
    "start_time": "2025-02-02T11:30:26.558Z"
   },
   {
    "duration": 20,
    "start_time": "2025-02-02T11:30:26.569Z"
   },
   {
    "duration": 5,
    "start_time": "2025-02-02T11:30:26.591Z"
   },
   {
    "duration": 169,
    "start_time": "2025-02-02T11:30:26.597Z"
   },
   {
    "duration": 5,
    "start_time": "2025-02-02T11:30:26.768Z"
   },
   {
    "duration": 54,
    "start_time": "2025-02-02T11:30:26.777Z"
   },
   {
    "duration": 40,
    "start_time": "2025-02-02T11:30:26.833Z"
   },
   {
    "duration": 43,
    "start_time": "2025-02-02T11:30:26.875Z"
   },
   {
    "duration": 4,
    "start_time": "2025-02-02T11:30:26.921Z"
   },
   {
    "duration": 29,
    "start_time": "2025-02-02T11:30:26.926Z"
   },
   {
    "duration": 8,
    "start_time": "2025-02-02T11:30:26.957Z"
   },
   {
    "duration": 47,
    "start_time": "2025-02-02T11:30:26.967Z"
   },
   {
    "duration": 13,
    "start_time": "2025-02-02T11:30:27.016Z"
   },
   {
    "duration": 65,
    "start_time": "2025-02-02T11:30:27.030Z"
   },
   {
    "duration": 6,
    "start_time": "2025-02-02T11:30:27.097Z"
   },
   {
    "duration": 18,
    "start_time": "2025-02-02T11:30:27.105Z"
   },
   {
    "duration": 58,
    "start_time": "2025-02-02T11:30:27.125Z"
   },
   {
    "duration": 6,
    "start_time": "2025-02-02T11:30:27.194Z"
   },
   {
    "duration": 100,
    "start_time": "2025-02-02T11:30:27.202Z"
   },
   {
    "duration": 16,
    "start_time": "2025-02-02T11:30:27.304Z"
   },
   {
    "duration": 13,
    "start_time": "2025-02-02T11:30:27.321Z"
   },
   {
    "duration": 14,
    "start_time": "2025-02-02T11:30:27.336Z"
   },
   {
    "duration": 6,
    "start_time": "2025-02-02T11:30:27.354Z"
   },
   {
    "duration": 24,
    "start_time": "2025-02-02T11:30:27.364Z"
   },
   {
    "duration": 8,
    "start_time": "2025-02-02T11:30:27.390Z"
   },
   {
    "duration": 145,
    "start_time": "2025-02-02T11:30:27.400Z"
   },
   {
    "duration": 16,
    "start_time": "2025-02-02T11:30:27.547Z"
   },
   {
    "duration": 38,
    "start_time": "2025-02-02T11:30:27.566Z"
   },
   {
    "duration": 76,
    "start_time": "2025-02-02T11:30:27.605Z"
   },
   {
    "duration": 11,
    "start_time": "2025-02-02T11:30:27.682Z"
   },
   {
    "duration": 24,
    "start_time": "2025-02-02T11:30:27.695Z"
   },
   {
    "duration": 144,
    "start_time": "2025-02-02T11:30:27.721Z"
   },
   {
    "duration": 10,
    "start_time": "2025-02-02T11:30:27.867Z"
   },
   {
    "duration": 9,
    "start_time": "2025-02-02T11:30:27.878Z"
   },
   {
    "duration": 20,
    "start_time": "2025-02-02T11:30:27.888Z"
   },
   {
    "duration": 13,
    "start_time": "2025-02-02T11:30:27.909Z"
   },
   {
    "duration": 2,
    "start_time": "2025-02-02T11:30:27.924Z"
   },
   {
    "duration": 11,
    "start_time": "2025-02-02T11:30:27.948Z"
   },
   {
    "duration": 17,
    "start_time": "2025-02-02T11:30:27.960Z"
   },
   {
    "duration": 42,
    "start_time": "2025-02-02T11:30:27.979Z"
   },
   {
    "duration": 11,
    "start_time": "2025-02-02T11:30:28.023Z"
   },
   {
    "duration": 19,
    "start_time": "2025-02-02T11:30:28.036Z"
   },
   {
    "duration": 10,
    "start_time": "2025-02-02T11:30:28.056Z"
   },
   {
    "duration": 8,
    "start_time": "2025-02-02T11:30:28.067Z"
   },
   {
    "duration": 6,
    "start_time": "2025-02-02T11:30:28.076Z"
   },
   {
    "duration": 4,
    "start_time": "2025-02-02T11:30:28.083Z"
   },
   {
    "duration": 164,
    "start_time": "2025-02-02T11:30:28.089Z"
   },
   {
    "duration": 81,
    "start_time": "2025-02-02T11:34:11.813Z"
   },
   {
    "duration": 77,
    "start_time": "2025-02-02T11:34:20.506Z"
   },
   {
    "duration": 15,
    "start_time": "2025-02-02T11:34:42.953Z"
   },
   {
    "duration": 2500,
    "start_time": "2025-02-02T11:37:24.372Z"
   },
   {
    "duration": 389,
    "start_time": "2025-02-02T11:37:26.874Z"
   },
   {
    "duration": 762,
    "start_time": "2025-02-02T11:37:27.265Z"
   },
   {
    "duration": 52,
    "start_time": "2025-02-02T11:37:28.029Z"
   },
   {
    "duration": 2594,
    "start_time": "2025-02-02T11:37:28.082Z"
   },
   {
    "duration": 12,
    "start_time": "2025-02-02T11:37:30.678Z"
   },
   {
    "duration": 107,
    "start_time": "2025-02-02T11:37:30.692Z"
   },
   {
    "duration": 198,
    "start_time": "2025-02-02T11:37:30.801Z"
   },
   {
    "duration": 23,
    "start_time": "2025-02-02T11:37:31.001Z"
   },
   {
    "duration": 92,
    "start_time": "2025-02-02T11:37:31.052Z"
   },
   {
    "duration": 16,
    "start_time": "2025-02-02T11:37:31.145Z"
   },
   {
    "duration": 74,
    "start_time": "2025-02-02T11:37:31.162Z"
   },
   {
    "duration": 27,
    "start_time": "2025-02-02T11:37:31.237Z"
   },
   {
    "duration": 33,
    "start_time": "2025-02-02T11:37:31.266Z"
   },
   {
    "duration": 7,
    "start_time": "2025-02-02T11:37:31.300Z"
   },
   {
    "duration": 66,
    "start_time": "2025-02-02T11:37:31.309Z"
   },
   {
    "duration": 10,
    "start_time": "2025-02-02T11:37:31.377Z"
   },
   {
    "duration": 24,
    "start_time": "2025-02-02T11:37:31.389Z"
   },
   {
    "duration": 103,
    "start_time": "2025-02-02T11:37:31.415Z"
   },
   {
    "duration": 52,
    "start_time": "2025-02-02T11:37:31.520Z"
   },
   {
    "duration": 3,
    "start_time": "2025-02-02T11:37:31.573Z"
   },
   {
    "duration": 15,
    "start_time": "2025-02-02T11:37:31.578Z"
   },
   {
    "duration": 189,
    "start_time": "2025-02-02T11:37:31.595Z"
   },
   {
    "duration": 5,
    "start_time": "2025-02-02T11:37:31.785Z"
   },
   {
    "duration": 88,
    "start_time": "2025-02-02T11:37:31.791Z"
   },
   {
    "duration": 6,
    "start_time": "2025-02-02T11:37:31.880Z"
   },
   {
    "duration": 6,
    "start_time": "2025-02-02T11:37:31.888Z"
   },
   {
    "duration": 192,
    "start_time": "2025-02-02T11:37:31.900Z"
   },
   {
    "duration": 4,
    "start_time": "2025-02-02T11:37:32.093Z"
   },
   {
    "duration": 15,
    "start_time": "2025-02-02T11:37:32.098Z"
   },
   {
    "duration": 57,
    "start_time": "2025-02-02T11:37:32.114Z"
   },
   {
    "duration": 114,
    "start_time": "2025-02-02T11:37:32.173Z"
   },
   {
    "duration": 297,
    "start_time": "2025-02-02T11:37:32.289Z"
   },
   {
    "duration": 11,
    "start_time": "2025-02-02T11:37:32.587Z"
   },
   {
    "duration": 34,
    "start_time": "2025-02-02T11:37:32.600Z"
   },
   {
    "duration": 76,
    "start_time": "2025-02-02T11:37:32.650Z"
   },
   {
    "duration": 26,
    "start_time": "2025-02-02T11:37:32.728Z"
   },
   {
    "duration": 46,
    "start_time": "2025-02-02T11:37:32.756Z"
   },
   {
    "duration": 231,
    "start_time": "2025-02-02T11:37:32.803Z"
   },
   {
    "duration": 17,
    "start_time": "2025-02-02T11:37:33.035Z"
   },
   {
    "duration": 32,
    "start_time": "2025-02-02T11:37:33.054Z"
   },
   {
    "duration": 34,
    "start_time": "2025-02-02T11:37:33.087Z"
   },
   {
    "duration": 102,
    "start_time": "2025-02-02T11:37:33.123Z"
   },
   {
    "duration": 26,
    "start_time": "2025-02-02T11:37:33.227Z"
   },
   {
    "duration": 10,
    "start_time": "2025-02-02T11:37:33.255Z"
   },
   {
    "duration": 12,
    "start_time": "2025-02-02T11:37:33.266Z"
   },
   {
    "duration": 5,
    "start_time": "2025-02-02T11:37:33.279Z"
   },
   {
    "duration": 16,
    "start_time": "2025-02-02T11:37:33.286Z"
   },
   {
    "duration": 26,
    "start_time": "2025-02-02T11:37:33.303Z"
   },
   {
    "duration": 29,
    "start_time": "2025-02-02T11:37:33.330Z"
   },
   {
    "duration": 14,
    "start_time": "2025-02-02T11:37:33.361Z"
   },
   {
    "duration": 153,
    "start_time": "2025-02-02T11:37:33.376Z"
   },
   {
    "duration": 3,
    "start_time": "2025-02-02T11:37:33.531Z"
   },
   {
    "duration": 30,
    "start_time": "2025-02-02T11:37:33.536Z"
   },
   {
    "duration": 7,
    "start_time": "2025-02-02T11:37:33.568Z"
   },
   {
    "duration": 28,
    "start_time": "2025-02-02T11:37:33.577Z"
   },
   {
    "duration": 56,
    "start_time": "2025-02-02T11:37:33.607Z"
   },
   {
    "duration": 74,
    "start_time": "2025-02-02T11:37:33.665Z"
   },
   {
    "duration": 53,
    "start_time": "2025-02-02T11:37:33.740Z"
   },
   {
    "duration": 18,
    "start_time": "2025-02-02T11:37:33.795Z"
   },
   {
    "duration": 94,
    "start_time": "2025-02-02T11:37:33.814Z"
   },
   {
    "duration": 16,
    "start_time": "2025-02-02T11:37:33.909Z"
   },
   {
    "duration": 17,
    "start_time": "2025-02-02T11:37:33.927Z"
   },
   {
    "duration": 11,
    "start_time": "2025-02-02T11:37:33.946Z"
   },
   {
    "duration": 6,
    "start_time": "2025-02-02T11:37:33.964Z"
   },
   {
    "duration": 28,
    "start_time": "2025-02-02T11:37:33.972Z"
   },
   {
    "duration": 5,
    "start_time": "2025-02-02T11:37:34.002Z"
   },
   {
    "duration": 175,
    "start_time": "2025-02-02T11:37:34.009Z"
   },
   {
    "duration": 5,
    "start_time": "2025-02-02T11:37:34.185Z"
   },
   {
    "duration": 40,
    "start_time": "2025-02-02T11:37:34.193Z"
   },
   {
    "duration": 28,
    "start_time": "2025-02-02T11:37:34.251Z"
   },
   {
    "duration": 38,
    "start_time": "2025-02-02T11:37:34.280Z"
   },
   {
    "duration": 3,
    "start_time": "2025-02-02T11:37:34.320Z"
   },
   {
    "duration": 6,
    "start_time": "2025-02-02T11:37:34.324Z"
   },
   {
    "duration": 28,
    "start_time": "2025-02-02T11:37:34.349Z"
   },
   {
    "duration": 58,
    "start_time": "2025-02-02T11:37:34.379Z"
   },
   {
    "duration": 19,
    "start_time": "2025-02-02T11:37:34.438Z"
   },
   {
    "duration": 44,
    "start_time": "2025-02-02T11:37:34.459Z"
   },
   {
    "duration": 4,
    "start_time": "2025-02-02T11:37:34.505Z"
   },
   {
    "duration": 46,
    "start_time": "2025-02-02T11:37:34.511Z"
   },
   {
    "duration": 41,
    "start_time": "2025-02-02T11:37:34.560Z"
   },
   {
    "duration": 24,
    "start_time": "2025-02-02T11:37:34.607Z"
   },
   {
    "duration": 80,
    "start_time": "2025-02-02T11:37:34.632Z"
   },
   {
    "duration": 14,
    "start_time": "2025-02-02T11:37:34.713Z"
   },
   {
    "duration": 52,
    "start_time": "2025-02-02T11:37:34.728Z"
   },
   {
    "duration": 23,
    "start_time": "2025-02-02T11:37:34.782Z"
   },
   {
    "duration": 20,
    "start_time": "2025-02-02T11:37:34.807Z"
   },
   {
    "duration": 26,
    "start_time": "2025-02-02T11:37:34.829Z"
   },
   {
    "duration": 10,
    "start_time": "2025-02-02T11:37:34.856Z"
   },
   {
    "duration": 69,
    "start_time": "2025-02-02T11:37:34.868Z"
   },
   {
    "duration": 12,
    "start_time": "2025-02-02T11:37:34.954Z"
   },
   {
    "duration": 39,
    "start_time": "2025-02-02T11:37:34.967Z"
   },
   {
    "duration": 74,
    "start_time": "2025-02-02T11:37:35.008Z"
   },
   {
    "duration": 11,
    "start_time": "2025-02-02T11:37:35.084Z"
   },
   {
    "duration": 19,
    "start_time": "2025-02-02T11:37:35.096Z"
   },
   {
    "duration": 151,
    "start_time": "2025-02-02T11:37:35.117Z"
   },
   {
    "duration": 10,
    "start_time": "2025-02-02T11:37:35.270Z"
   },
   {
    "duration": 9,
    "start_time": "2025-02-02T11:37:35.281Z"
   },
   {
    "duration": 59,
    "start_time": "2025-02-02T11:37:35.292Z"
   },
   {
    "duration": 14,
    "start_time": "2025-02-02T11:37:35.354Z"
   },
   {
    "duration": 7,
    "start_time": "2025-02-02T11:37:35.370Z"
   },
   {
    "duration": 13,
    "start_time": "2025-02-02T11:37:35.379Z"
   },
   {
    "duration": 7,
    "start_time": "2025-02-02T11:37:35.393Z"
   },
   {
    "duration": 109,
    "start_time": "2025-02-02T11:37:35.402Z"
   },
   {
    "duration": 62,
    "start_time": "2025-02-02T11:37:35.513Z"
   },
   {
    "duration": 28,
    "start_time": "2025-02-02T11:37:35.576Z"
   },
   {
    "duration": 26,
    "start_time": "2025-02-02T11:37:35.606Z"
   },
   {
    "duration": 21,
    "start_time": "2025-02-02T11:37:35.634Z"
   },
   {
    "duration": 19,
    "start_time": "2025-02-02T11:37:35.657Z"
   },
   {
    "duration": 15,
    "start_time": "2025-02-02T11:37:35.678Z"
   },
   {
    "duration": 184,
    "start_time": "2025-02-02T11:37:35.695Z"
   }
  ],
  "colab": {
   "provenance": []
  },
  "kernelspec": {
   "display_name": "Python 3 (ipykernel)",
   "language": "python",
   "name": "python3"
  },
  "language_info": {
   "codemirror_mode": {
    "name": "ipython",
    "version": 3
   },
   "file_extension": ".py",
   "mimetype": "text/x-python",
   "name": "python",
   "nbconvert_exporter": "python",
   "pygments_lexer": "ipython3",
   "version": "3.9.7"
  },
  "toc": {
   "base_numbering": 1,
   "nav_menu": {},
   "number_sections": true,
   "sideBar": true,
   "skip_h1_title": true,
   "title_cell": "Table of Contents",
   "title_sidebar": "Contents",
   "toc_cell": false,
   "toc_position": {},
   "toc_section_display": true,
   "toc_window_display": false
  }
 },
 "nbformat": 4,
 "nbformat_minor": 1
}
